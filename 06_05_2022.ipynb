{
  "nbformat": 4,
  "nbformat_minor": 0,
  "metadata": {
    "colab": {
      "name": "Cópia de 05_05_2022.ipynb",
      "provenance": [],
      "collapsed_sections": [],
      "include_colab_link": true
    },
    "kernelspec": {
      "name": "python3",
      "display_name": "Python 3"
    },
    "language_info": {
      "name": "python"
    }
  },
  "cells": [
    {
      "cell_type": "markdown",
      "metadata": {
        "id": "view-in-github",
        "colab_type": "text"
      },
      "source": [
        "<a href=\"https://colab.research.google.com/github/GuilhermeRuy97/Curso-ministrado-Python-para-Dados/blob/main/06_05_2022.ipynb\" target=\"_parent\"><img src=\"https://colab.research.google.com/assets/colab-badge.svg\" alt=\"Open In Colab\"/></a>"
      ]
    },
    {
      "cell_type": "markdown",
      "source": [
        "---\n",
        "# Python para Ciência de Dados\n",
        "\n",
        "_Guilherme Sasso Ruy_\n",
        "\n",
        "_Endereço para consulta dos arquivos:_ <br>\n",
        "https://github.com/GuilhermeRuy97/Curso-ministrado-Python-para-Dados\n",
        "\n",
        "---"
      ],
      "metadata": {
        "id": "s9puR4fMjv8G"
      }
    },
    {
      "cell_type": "markdown",
      "source": [
        "# Conteúdo abordado:"
      ],
      "metadata": {
        "id": "lgsNrlPbu8Pm"
      }
    },
    {
      "cell_type": "markdown",
      "source": [
        "- <font color='yellow'> **Hello World** </font> ( _obrigatório_ ☑)\n",
        "- **Um pouco de teoria sobre Pyhon**\n",
        "  - \"Por que estudar programação?\"\n",
        "  - O que é (conceitos e motivo de se popularizar)\n",
        "- **Tipos de variáveis e atribuições**\n",
        "  - Operações matemáticas e lógicas com variáveis\n",
        "- **Tipos de dados**\n",
        "    - Básicos\n",
        "    - Listas, tuplas e strings\n",
        "    - Dicionários\n",
        "    - Slicing\n",
        "- **Estruturas de controle**\n",
        "    - Comando **if**\n",
        "    - Estruturas de repetição (como \"for\" e \"while\" em linguagem C)\n",
        "- **Como funcionam as referências**\n",
        "- **Operações em sequências**\n",
        "  - +, *, in, append, insert etc\n",
        "  - Comprehensions e sua eficiência\n",
        "- **Funções**\n",
        "  - Parâmetros\n",
        "  - Função \"lambda\"\n",
        "- **Imports**\n",
        "  - Bibliotecas e módulos\n",
        "- **Programação Funcional**\n",
        "  - map\n",
        "  - filter\n",
        "  - reduce\n",
        "- **Arquivos em python**\n",
        "  - leitura\n",
        "  - escrita\n",
        "- **Abordagem rápida de classes e objetos**\n",
        "  - Objetos\n",
        "  - Classes\n",
        "  - Heranças\n"
      ],
      "metadata": {
        "id": "xyaMMk-jjzEP"
      }
    },
    {
      "cell_type": "markdown",
      "source": [
        "![tempo](data:image/jpeg;base64,/9j/4AAQSkZJRgABAQAAAQABAAD/2wCEAAkGBxQQExMQEhMUFxYWGBgZGhYZGR8bGRcYFx8bHxgbHiEZHikjGyAmHBsZIj8iJiosLy88GSE1OjUuOSkvMSwBCgoKDg0OFxAQGSweGB8sLiwuLy4sLCw5LCwsLi4sLCwuLCwsOTkuLC4uLiwsLiwuLiwuLi4sLCwuOTksLCwsLP/AABEIAKIBNwMBIgACEQEDEQH/xAAcAAEAAwADAQEAAAAAAAAAAAAABAUGAQIDBwj/xAA5EAACAQQBAwMDAgQEBAcAAAABAgMABBESIQUTMQYiQTJRYRRxFSNCgQczYpEkUnKxFkOCkqHR8f/EABgBAQEBAQEAAAAAAAAAAAAAAAACAQME/8QAHBEBAQEBAAMBAQAAAAAAAAAAAAECERIhQQMx/9oADAMBAAIRAxEAPwD7hSlCaBTNYT1D65wzQWhRmBIMp9yKR5AA8n8+P3qjuuldRusvHcO6kAlXbXn8ALpj9sVPkqZ6+r5pXx9+lXFmHeS7IlCMwijmORxkEjIz48AY4qZ6d/xBnjYRXg3XHMigCRBxksowGAJxxg8fNPIufT6pSvG1uElRZI2DKwBVgcgg+CK9qpJSlKBSlKBSlKBSlKBSlKBSlKBSlKBSlKBSlKBSlKBSlKBSlKBSlKBSlKBSlKBSlKBWE/xR6+beFbaNiJJ85I8rGPqx+WJx/wC6t3Xxz/EV1mvLkMTmBIgo4+QGP5/8ystbmdrLLaBuFGGBCjXOWZuBnJxjIbkfivodz6ZkiATdnAVO3IdAYsJqUYsNlUP/ADA0Xv8AAPCjOf8ASXp+a8buLKOykikknkBTnAGPOOPtWv6/6au7i47kdz24teBkkgkYb24weMc5/tUe/jtmS33eM/aWLMzQzTSTrI6yOXOHGhz9CIACSAC2fpAXA81kvUVq0NxLCXLBWHuPHDAEZ+M8jJ+a3HQfSNxbXXeeRZF9wLZ5OceQf/uo/wDiV0V/ddI/ACh18ZwcBuPOMgYNTJbO1v6SS8l65/wu62Ypf0LuGR8mPn6XAyyj8EAnH4/Jr6X1UkQykEgiNyCPIIU4xXwDot32ri3kB+mSM52OfI24J+ckV+iCM8GrxXHX9fPm6jL/AAvpUvdk7kknTw77nZ+46bhjnLbAnOfNe7+rroFpezD2Evf0jHdu6Q0gjEijGvBYcHzz4q2svRFrE8bL3SsLbxQtK7QxPzhlQnAxk4znHxipjemYO28WG1e4/Un3H/NDiTP7bKOKtLO9H9RmN1VowIZby9heQu7FJIizRn3k4Vwj+0cA4AGDURPX07iMRwoHeAXOGErAxyO4gQdpGIZkXYseBsAAfjT3XpK2lgltWV+3LM0zYYhhIzbsQw5X3Z8fciu/UPTEEzK38yNlj7O0MjRExfCHQjIHx9snFBVWPqW4uLiOGOBEQ29vcSd5mEiCVnDRhQOXGvk4AxzVX/4zlmhuxNHEjJazym33liuEMan2nKqWBH/mRkY+M+a2Vr0WGKUzIpDGFIT7iR24yxUc/PubnzVaPRVrhg3ecGKWBe5M79uOYYdU3JxkYGeTwBQU7+qrhVn/AE8MTJZwQyS9yRg7l4u4UjODyEH1MTkn969LHr9w97Mdov0otIbhVZipVZBKQxJGFJKgHJwAMjnNWt/6LtZjlhKNo0ikCSuiyxx/QsgUgPgZHPwSPmpF56Wt5ZDKytloTA6q7KkkWGARlBwcbNg+Rmgykn+IUqJcFo4HaO1NyhjMnbOrqjIS6jb6gQ68H7VZT9Vmjubb9QkKu0N3JlZnEaLGIiA5bCk+7lyvGOPmprehbVg4fvPvAbcl5nY9ksrajYnGCo8fn71ZdW9Pw3LK0yltYpocbEAxzhRIDj7hRz8UGRHr2ZVuS6QO0Vq1yjRGTQ6HBQmRV2HI968H7Cpd56zntTP+phiOtsLiMROxzs4jEbll4OzL7gMcnirJfRFrhw3efeBrdi8rueyxB1BYnHgePzVheenLeZmeVC+0BtyCTqYiQxGPvkDnzQQejdanN0bK6jjVzCJ0aJmZSobR1bYAhlJXnwc/itNVJ0X03BaO0qGV5GVUMksjSuEX6UBcnC55wPmrugUpSgUpSgUpSgUpSgUpSgUpSgUpSg8bibQbEEgecfA+T/auouAWCrySM5HgD4J/epFeUMKpkKAMnPH3NB60pSgV8s/xEtBHcvIVGJ0UZwPqX9/PtQf7ivqdZv1x0A3sGE/zYzvH8AkAgqfwQf8AfB+Knc7F/nrx1Kg+h1jtrZFYgNLl8cDI+PHHjH+9WQ6mAzANn/sK+bdX9X9n9PHHw8QMckciEFSAvGMj7H/cVX2PrKa43AjZ3L5VI1Y+0Bc58+DtXG6snHon597r4+my9S5x5A5OP98VAmuWk2Bwy8qwIzsD+PnisxZdc7YYzJcRnjh4mX485Ix5+c1x07rwLuuOExjPyGzz5PnH/eszq/Wak+OvR7GJ7uCFS2WYuyYA1AII+OB7WH9q+vXc/bR5D4VWbH/SM1l/SPp8JI99IpEsi6qCc6pnOcY4JPx9v3rWSKCCCMgjBH3Brticjhu9rMmeUn3O+weONpFcKFeUKfbGVKsqhxy2Sf8A5qw6Z1NpCysBlYwxI8Ft5EOB8A9vI/evMdD5Ge26jAy8ZMmq/SNw4yQOAxGf3qVN0eNiCNkwnbwh1BT4UgfA58YPJ+9W5q8dbkZGkSNMJDHM2WIzupYqMKecKeT+P7esfUdXkYL7TNEjEsTgSRpoQDwPcyLgY85qZF0iNVdBth41iPP9CAqMfnDHmuT0uPWVfdiXG3PI1UKCPsQFBz9xmh7V8vXWyFVVGxkKsxbGkbBQfapOWbOPjHP4r1tOqvK6KsYUGNJG2JyMs6lQMcn28E4qXJ0lCEClkMa6KynBCce38jgeftXpb9PRG2BYnRY8liTqpYjk8k5Y85oe1MestJFKXVQQmxjDskqHI9rDAYf9Q4qVL1dxvIEXtJJ2ydjucMEZgMYwGPjPOK9v4HGQQzSN7CgLPkqhIJAJ5/pXk5PHmu79HQuWJfBYOU29hcYIYj9wDjwSMkUEKHqEqi4aRovZNouzFVAITjOOfPjyTxXWPrcj6oiIXMzREksE4j7gYZXPjAxj+/zU6ToyMXOXGzrJw30yKANl+xIGD8H7V2g6PGjBwXLCQyZLZJcp2yT/AOn4oIJ6iYzKBoG7upLu2D/LRiVXBPzjVcD5rm26zJMY1jRNnSViWY6gxOEOPbkgk/IFTJOjxli4LqxcvsrYILKqkePBCrx+K7WfSo4irJtlRIBk54kfds55PuFD29emXfeijlxjdQcZzg/I/PNTKj2VqsKLGmdVGBnk1Io0pSlApSlApSlApSlApSlApSlApSlApSlApSlApSlBmPVHoq26gQ8ilJBx3EwGI49pyCGHHyMj4rvY+lobcBYoYxjwcZb98sPP960dc1FxKub1JzvpUrZSfgf3/wD2o1v6aQyrcTkSOudFxhE/OP62/wBTf2Aq/pSYkZdWlKUq0lKUoFKUoFKUoFKUoFKUoFKUoFKUoFKUoFKUoFKUoFKUoFKUoFKUoFKUoFKUoFKUoFKVWr1Am6a214EKy7Z/5nZcYx/pznPzQWVKrry/7c0EOue73PdnGvbUHx85r0h6lC7LGs0TOy7BQ6lip5DAA5Ix80E2lRbS/ilLCKSN9ThtWDan7HB4NcRdRid2iWWNpF8oHUsv7gHIoJdK6SOACSQAOST4Arws7+KYFoZI5AOCUYMAfsdTQSqVETqULSGFZojIPMYdS4/dc5FeUF9gStK0SrG7DYSZAUYwXJACNzyvxxzzQWFKj2t1HKu8bo6n+pWDKf7jiuln1GKbIiljfX6tHVtf31PFBLpXhc3SRKXd0RR5ZmCqP7nivJeowkbCWMrrvtuuNORtnP05BGfHFBMpXlLMq4LMBkgDJAyT4Az5J+1eM/UYY3WJ5Y1dvpRnUM37AnJoJdKZqJD1GF3aJJY2dfqRXBZf3AORQS6VSeqOurYw9w6F2eONFdwgZpHVMknOFXbYkA4ANSU6rGkcbzSwL3ACD3BoxIH0FsbD80FlSo9xdxxqZJHREH9TMAvPjk8V1W9jKLIJEKMQA4YFSScAA5wSTxQSqVHmuFXAJALZ1BOCxAJIH34GeKrOidbWSyt7y4aOLuxRyMSwVFaRQcAsfz96C7pVLY9X7t1PbjQxpDbyq4Odu80wPOcEYjGMfc1PtOpRSlhFLG5X6gjq2v74PFBLpVdf9Wjj7iCSPuqjOIyw2OoJ+nOccV42PWE/TwXE8kUfejjb3MFXZ1BIGx580FvSukbAgEEEHkEeCD81FbqcKsqNNGGZiqqXUFmBwVAzkkHjFBNpUSO/iZzCJYzIvJQMC4H5XORSbqMKOsTyxq7fShdQzfsCcmgl0pSgUpSgUpSgUpSgVm5J1j6mA517tqFjJ4DNFIxdQflgrqcfbP2NaSoXUemQ3K9ueJJFyDq6hgCPBGfB/IoKfq1wrX1rEpy6RzyOB/QhVVUt9tmOBnzg/aspH0yL+B2LaAMf0J3HD5llhSQ7D3DKO6+fDY8V9A6Z0aC2DCCGOMOctqoBY/dj5b+9dx02LtLb9pO0mmseBqvbIKYHxqVUj9hQZj1EsVncw3Aj1VLS83EYCs0cQhYKNceOcfbNVF/EYIumkQ2kC/qbRYVjZnlAkkRXAcqucxs4Y85yeT5r6HJaIzK7KpZQwViOQHxsB+Dgf7VX2vpm0i/y7aBOVPtjUYKMHXGBxhwGx9xQQPXAVktklx2HuYlnz9JQhtA3xqZhECDwc4PBry9QwRRd17cKt7+kuO0qDBdVAK7KowwVymM+CxA8mtLc2ySo0ciK6MCGRgCrA+QQeCPxUTpnRbe227EMcW2MlFCkgeASPIH2+KDJ9atLVOlpJbLHuqRvauuNmuDjtFW8s7ucHnLbMD5NdTZLKZV7saOvU3eNZV2jldYh/LYAjPt2YfIKA4OMVqoPTlpHL30tYVlyW3EahgzfUwIHBPyRya95+kQSI8bwxskjburKCGfj3EH+rgc/igxd7exxC/jntVWV1thKsMx7MwuHaGIlsKYznIYlc6gfUAK9pleLqHTVdLWNm76aQ527QidipJVfZuqfA5FayHolukbwrBEI5M7poNXyMHYY93HHNdLPoNtCVMUESFW2BVACG1KZyPnViv7E0FV1eJH6jaLMAYxDO0YYAqZw0QzzxuIy+PnBf7Vl/UsMSy9YWEDA6erOq/SJNpi3A4DFdSQP38mvovUemxXKdueNJEyDq6hgCPBGfBH3qvsOgJBcNJEsaQmFYhEq4AId3Y4HHO//AHoIXq+8jK2I3X+Zd2xTn6gGDZH3GOc1RdItJJor3ux2T7T3KzGbbcBXYIH9vtAh7ZX/AE6kea11p6atIjmO2hQ5U+1FGCp2XGBxhuf3rveenrWZ+7LbQu+ANmjUkhfpByOcfGfFBAt7n9P0xZppGnEVrs0iZDSqseSy5wQWAzk/es31CBoU6b/KtIQLm2ESxMXkCuwVwHKrsChYE45z55zX0VkBGCBjxj4xVVbem7SLmO2gXlSNY1GCjBkxgcYYAjHgjNBC9eqDbxZAP/FWXkfe5hzUN1Et1ddqC3JiWKKSWZj9Ou4VECkBNX5OQCc8HWtTdWySgLIqsAysARkBkIZT+4YA/wBqiXvQ7edxLLbxO4AGzICcA5AyRyAecGgwno/tyvYLNq0ax3nYUj+V3EuNV0B+Vh4UeQpb7VaepYraNZTCVVlu+nvOq8Ih78R2I+lWKAE/OApPxWon6JbyR9l4Imj2L6FAVDsSxYA+GLEnPnk13t+kwRxm3SGJYm2zGEARtvqyMYOfnPmgpPU06/remx7Dba4bX51EEgz+2SBVD6NjR26Ws4UhemwtbhuR3OBOVB4LhOyM+QGOPJrZWXp21gx2beFNTkFUAIOpX4/0kr+xIrvP0K3kiSB4ImijxohUFU1GF1/5cDjigw9ybe3n6uEjDRNHZo0aPovdnkmRl2HEalnBYjxs58k1OmjkivenBo7WNyZlCQ5LdrsudSSq5TdY/jyBWri6LborIkEIVkEbKEUK0a7EIRjBUF24/wBR+9dbP0/bQlTFBEhU7AqgBDalc5/6WZf2JFBj7C2tj0cyS67mJnmkwO4LvB3OR7hKJuAByCAB9q8vTsMjyrhLZnWztAgm2ysTJlu2ACMGTYEjn2qD4FbR/T1qZTcG2hMpOTJouxOMZzjzjjPmubzoNtMsaSwROIxhAyA6DGML9hjjAoK70Rb9uOZBJEyCeXVYtikXjaIFvhX34HAzjjGKpk6bE9p1V2jVmaW8yxGT7C2mD5GCMjHgknya29papEixxoqIowqKAqqPsAOAK6CxjCugjXWQsXXHDGTO5P3zk5oMlc2EccPTJEQB1ng9+PeTMpEhLeSX2OSTznmq/pVo81veGWOzbaW5E7Tbdwau4XfC+0LEE1+yhSK3z2UZCKUUiMqyDHClPpI+2Kh3np21mfvS20LycZZo1JOvK5yOcHxnxQdvTasLW3Dyd1hFHmXkdw6j3888+efvVnXAFc0ClKUClKUClKUClKyHXuuH9U1oLhrdY4kkZki7kjtKXCqNkdVUCMk5Uk7DGMGg19KwKeoblxDCkg3N5+n7zRFVmiaCSUPqwGGXGDrgFo/gHFTrm6u7SSSBZDds9tPNCHVEcSwmMaExhVKsZUxwCMHk54DYVHsbxJ41lidXRxlWU5DD7g1l/T/U2klRVvhMSpMtvNGsU0fHDIgRXADe0h88HO2RzEsOqXU7WEKzBO/bzySPopbMTwhSoI1Bw5HjHJOCcUG7pWJn61c2zT2fcWaYNarDM6BeLpnXMix4DFO1I3tC7DUceamtJcWc9ssly1xFcSGI7pGrpJo7oymJVBX+WwKkE+4HPFBqaVkE6zMejPe7/wA8WkkofVf8xUYhtca+QOMYq1651U2tnJdYDMkYYA+GcgBc48DYjOKCb/EE736cEmTTuEAEhVJwpY+F2IOAeTq2PBqbWBtusSQywt+pa4MskaTR/p+2BvhRJGVjBARiMh2f2g85rQeo7yVWt7aBgklxIy90gN2kRGd2Cnhm4CjPHuyc4wQvqVjpbm6trmO3efuxvBcyB2RFk3i7WA2ihSBvkEAeSDnANSLvq0q9KS7D/wA428L76j63CbHGMfJ4xQamlYi9680txcxfqnt1gdY1CQiRpHKK7MxZGGvvChRg+1iTyMX3pbqT3Vuskgw4Z0YhSqsY2K7qG5CuAGAPwwoLmlfPo+o3v8O/iZuRtHCZjB207ciRglgx13DMoPKkAEjg4OdN0u+eS5uoyfYiwFFwPb3FYtyBk5wPNBd0rD/xe6klSGOULvd3MRYop0iiQsuBjlhjgn785xg+l11iewa6jlk/UCO3FxEWCo5YsyGNu2oUjYJhgoPJznFBtKVnLaxvo2idrpZssO9E0aIgU/UYii7gqeQHLZGRweaz/WfUcsCXFyL1GeEyN+miiEkOkZP8t3CbrIVHLbgKfjA5D6HSqj1JNMltJLBneMCQLgEusZDPHz8ugZc/Gah3fVnknt0t3XQwvcSE41aMrrCpJB1Du22w+IWoNHUe1u0l20ZW0Yo2DnV1+pT+RWIg9QSI1vJ+tW47ssUckaRDsATELmKRUBGrEEbu2wzxkjGl9O3jyi43OdLmaNeAMKhGo4HP7nmguqi9PvEnjWWJtkbODgjOCQfPPkGs50+W6ve7cxXHaRZJY4oe2jK3Ydoy0pYFzs6N9BXAx5NVXR+oPHY2ANxFbLIJN24eUsrEhIlZSG52JYg4C+OcgPoVKwCeoLhkkijmDul1BCszxaFo5gpO6FV9y5blQoOB45rYW9pIsXaaeR3ww7xWMPk5wcKgTIyP6ccc5oJqOCMggj7jmu1fNul38trZ2kYuGBuJJB3GjVuzGhkZyixoNmOABtkDYnwMGdH6glT9TEs7zhbaWaOdodGjkjHKPhFRs5Vh7R9LZzQbulYq5uL6JbWX9SjG4eOJomjXtxGVCQ6FQHYqR4ZsNz9Px49d6tc2CXimczaWpuI3dEV1ZW1ZTooVlPBHtyOc54oN3Ssl1B7u0CXUlyJVMkSywdtFRVldUJiYAOCpcH3s2wB8ZGFs91emWaK5NuiSyxRosaOGMLmN2lLgkgurYVCvGOc+A1tKqvTXUWubeOZ1CudlcL9IkjZkfXPOuynGfjFWtApSlAqh6j0eXvfqbaZIpGRY5BJGZI5EQsU4V0KspZ8EHGHIIPGL6lBnf4BIxt3luDI8VwZ2OmFOYpIu2i7HtqA4Pljwc5JzUnq3RjPKsolePWCeHKcODM0LB1b4K9rxg52/HNzSgzkfQ5pJoJbqeKTsMzoI4TGS7KyZYtK/Grn2gAZ5/FOk+mzA9q5l2/TwzQ41xv3nibb6jrjt4xznNaOlBnOp+mhPJPKZSpkW2CFR7opLZ5XRwScN7pB7SMe0jnPC26JO80U13cRyiAloo4oTEvcKsncfaRyxCMwAGANieeMaOlBi7r0lcNbTdPS7Rbd0kRB2Myor5whfu6sozj6ASBjIPNaS/wCmrPA1tITq6aEjgjjGR9iDyP2qwpQZ+16Zdlou9eK0cZBxHCY3lI+kSN3GGPkhVXJHwMgyeu9JNwI2jftTRP3I5NdgGwVYMuRsrKxBGR5yCCAat6UGMPTZv19s9xJ3S1vdIe3GY4kUmHAwWY7NzyW514AxXMvpK4a2/Qm8XsKqqmID3dYypjV37uGACgHCqW+45zsqUGduOiTpNNNaTxxichpI5YTKvcVQm66yoVJVVBByDqPHObbpts0Uao0jyMMlpH8sWJJ8cAZPAHAAA+KmUoM6PTh/hzdN7vLW7wd3X/nUrtrt+c4z/euLrolwsxntrhELxpHIkkJlVu3to66yIVbDEHJIPHjFaOlBl+l+lzA8TmcuUnuJiWX3MZ1KkcHAwTngY+MCpXU/Ty3EsryN/LltzbsgGDgsWLBs8Hn7fGavgaUGbtukXZaIT3oeOJg2I4jFJKV+kSv3CCPkhVXbHwMg10vpCc2snThdotuY3jTEJ7oVh7Q793VgM84VS33Hk7WlB1C8Y/FZbp3o5I4bq3kkLrOrQqQupitgGEUI5OdA7+7jOfFaulBlZPT9zKsCT3UTLBJDIojgKb9lgffmVvIGPbgA84PAq46P07sCX3bdyWSXxjXuEHXyc4+9WVKDLjoFxE0i210kcEjtIUaHeSNpDmXtP3AF2Ysw2VsFj5HFeFn6Ukt1tTbzoJIIpIdpIjIrxyMrHgSKysCq+7bnnI+2vpQZWL0u+7ySXG7vPbzse3gZhAGijbgHHHJI+djydVSlBk4PS8yRoguVDQStJbyCLlFffZJR3MSgq5XjTwDweaknotxKk4uLkMZYXhVY4ykUe4IL6tIxd8nyWHAwAOSdHSgqLzpBkW2XfHYkjkzrnftqRjzxnPnmqb170kyQ3c4y2bR4e0FJLZYNkEc/jGK2FKDMSdAnlaOOe6WSCN0cIItZZDGQ0YlfuEMAwVjqi7aj4yD2bodxE8v6W5jjjldnKSQdwxyPzI0ZEi42bLYYNyxPjitLSggdF6cttDHAhJCDGzfUxPLM33ZmJJ/JNT6UoFKUoFUfUPUKxTm1SGaaURpLpGE5R2dc5kdVGCnyR9QxnnF5VBDC38Rmk1bQ2sCh8HUsJJyVB8EgFTj8j70EVvWkfbaZLe5eOPbvOqJ/IZCRIrq0gZmTByIw+KmX3qEJJ2oYJ7hwiyMIgmER86EtLIi5bVsKCTxnFV9jayCz6ghRwzS3xVSpywdpNCoxyDkYx5qvaSRX7dwL8R9qEQpbJJqfYO5u8K7I++Rh2VcAH7mgvW9UxmOCSJJZjOWCRIoEmY89zYSMoTQjB2IweOSRU3pHVluQ+EkjeNtHjkADo2Aw+ksrAqykFSRz5rG9NtNLWBbm2uhrPeN3I2kNxblp5Sh/lfzJFdScsMg8Egg5rR+k5JmE/dMzRCQdh5k0mZNV22XVTgPsAWUMQOc+SEyDr0TQS3J2RITMJA+AyGAsHzgkf0kjnkEH5qLJ6lwVSO1uZZDGkrxoIw0KyZ1DmSRU24b2qzHj7YJqesdNkN09sqObe8eGWRwCUQwf5ysfA7qpAoHzmQ/evTqk7/qZkn/XdvCdhbdJNGGPfs8Iyr75HvZVwFI+aCxs+uRXEtq0bzYliuGVcBU/lNGriRW9wdWOoHx78/FdOu9bmgubWCOCWRJe5sV7fOFJAG8qkFfqPHjxk8VRekLCaOSy7kMqa/xTbfZtO5co0YZz5LKCQxPuxkZq+9QsY57KftyOiNKraI0hXuJhSVQFtc8Zxxnmg5u/VCo8ipbXMywnEksSoURgMsAGdWkKg8iNWx488VzN6oj3SKGKadpIknTtBNWickBtndQAMZ5/5hjJ4GctrMWjTQzL1EsZppIzAZzFIsztIuO0dI2BfU768qT4OatvTXTWhuEHaeNFsoU1LGQIwkkJj7hHvK5FBeda6qlpGJGDtllREQbO7t9KKMjJP5IAAJJAFQLf1QjTR20kE8MsgdlSQJyqDJYNHIykcYwCSCRkDINcerIXza3McbSfpp+48aDLsjRyRsVH9RXubY8nUgc1V3HUTc31iyRypGFuBvLG0TMzIOAkgDYAGSSAORjPOAu29SRCy/iWsna7Hf1wO5prtjG2NsfnH5ri+9QCOQwxwXFxIqq7rEExGGzrs0kiLscE6gk/OMEVj7meZekSdMFrdG4jtWgKiF9DompdZANHBAyFUljkDGc1PurMW93cyTLfducxyI9v3mGVjWNo3W3ywYdsEMVwQ+M8UGv6T1KO6jWaInU5GCMMrKSrKwPKsrAgg/Iqlu/ViFZWSG4MCdxWulVeypTKsfr7hVWBBcIVGCc4BNTPStp24T/Kkj3kkfWWQySHZj7mJ+ksMNrk4ziqDpV1LaWn8NNrO88UbRJiNuzKBkJIZgNFUjDEE7DkYJxkJnQ+vmO0sEMc9zPJaxSFU1L4CJs7vK6qMsflsk5xnBqc3quIRJKUmBabsGLUd1JsH2MNsZ4xkEg7KQcHNZuw7sMVlFOLxIVsrdQII5N++BiRZe0pkjwoTA4HL55ArnpPT5VIzDOo/iayASbO/a7AAdmOSRngnJAPtzxQbGW/f9O0/wCnlDhSRETH3AR4H+Zp+frql6L6sLWVrczwzd2dYwsahC07sgctGFkIVMbHLlcAc4rT3KFkdR5Kkf7ivndnaObXpjtFdj9JF2J0RZI5lJjQF0AAaVQyAezOQcjOKDUf+LI1jneaKaFoEEkkUgTftnOHUo7Iy5BGQ3GOcV5v6tRWCSW10hkz2QUT/iCMe1NZCVbB2xJoQAScatig6hZCaG7kggvW/wCHMayTmXdyzAlEimG/GoO2B5wM840nXLdmuemsqsVSaYswBIQG3mUFj8ZJA5+TQecnrCGOOWSaOaJoXiSSJwm6idgsb+x2VkJJ5Vj9LDGRiva19ShpI4pLe4g7pIieVUCyEAtqNHYo2oJ1cKeDxwRWY9aQyCW7kWMkN/CQhPtR3S7clAxGP6lz9thmri9vmvpLeGOC4TtzRyyvLE0axiLJ1BcYkZmwvsJGCTnxkJM3q1F7jJb3MsUTMslxGqGNSnEmAXEkmpBBKI3ggZxV1J1CNYTcF17QQyGTPt7YG22ftrzWU6Z1J7KA2b21y8sZkWPtxM8cwZmKN3AO2mQRncrg58+at+l9Ne26dHalFmeK3WMxk4WVlTBXJBwGPGSPmgWPqISPHG9vcQ93PaeUJrIQC2P5cjMh1BbDhfB+eKhWXqdEWGNI7qd5VmdAe2ZGEUmrgksqrgtwSQMADOcAwukM6zW6WgvljDETQ3KSdqOPVvpeZc7BwgAR2XBPGMGuvpaylSe0Z45FC296rEqQAz3ELIDkcFlBIB8gE0Fmvq9WVjHa3cjR5E0aqm8BGeG2kAY4GwEZckEHwwzoLK6SaNJoyGSRVdWHgqwyp/2NUnp+Blk6kWVgHudkJBGy/p7ddlz9Q2DDI+Qa9vRULR9Pso3VldbeFWVgQysEUEEHkEH4oL2lKUClKUClKUClKUCmKUoOMU1rmlBxqK5pSg4xTFc0oOMVzilKDjFAK5pQKhz2KPJFMw90W2hyRjcatx88feplKDgimtc0oFcYrmlBxrTWuaUCuMVzSg4xTFc0oIfULBJ1CSDKh43xkj3ROroePsyg4qZilKDjFc0pQca01rmlBxrXNKUClKUClKUClKUClKUClKUClKUClKUClKUClKUClKUClKUClKUClKUClKUClKUClKUClKUClKUClKUClKUClKUClKUClKUClKUH/9k=)"
      ],
      "metadata": {
        "id": "zMpW7zbEj1sw"
      }
    },
    {
      "cell_type": "code",
      "source": [
        ""
      ],
      "metadata": {
        "id": "kgQlMy0iviI0"
      },
      "execution_count": 130,
      "outputs": []
    },
    {
      "cell_type": "markdown",
      "source": [
        "# AULA 01"
      ],
      "metadata": {
        "id": "Ae541Xx4vWRn"
      }
    },
    {
      "cell_type": "markdown",
      "source": [
        "O que é Python?\n",
        "\n",
        "- Python é uma linguagem **dinâmica** e interpretada.\n",
        "\n",
        "Python também é:\n",
        "- **Imperativo**: \"algo diz o como fazer\" ou seja, segue uma sequência de passos\n",
        "- **Orientada a objetos**: permite utilizar classes e objetos\n",
        "- **Procedural**: permite o uso de funções\n",
        "- **Funcional**: \"um código escrito sob um paradigma funcional é composto de múltiplas funções, que trabalham de forma unificada para a resolução de um problema\""
      ],
      "metadata": {
        "id": "C4Q0X-RAj5-j"
      }
    },
    {
      "cell_type": "markdown",
      "source": [
        "# Materiais extras"
      ],
      "metadata": {
        "id": "vqE8dx-Kt4T9"
      }
    },
    {
      "cell_type": "markdown",
      "source": [
        "*Tutorial de instalação do Python para quem for programar em Python utilizando outros ambientes fora Google Colab:* <br>\n",
        "https://www.youtube.com/watch?v=VuKvR1J2LQE"
      ],
      "metadata": {
        "id": "9t2FNSMTs73Q"
      }
    },
    {
      "cell_type": "markdown",
      "source": [
        "Fonte de pesquisa e consulta Python: www.python.org"
      ],
      "metadata": {
        "id": "dUuBA8XMuMh0"
      }
    },
    {
      "cell_type": "code",
      "source": [
        "# Vídeo \"Por que todos deveriam aprender a programar? LEGENDADO\"\n",
        "# Pressione as teclas shift e enter para executar esse código e assista o vídeo.\n",
        "from IPython.display import IFrame\n",
        "IFrame(src=\"https://www.youtube.com/watch?v=mHW1Hsqlp6A&t=11s\", width = \"560\", height = \"315\")"
      ],
      "metadata": {
        "colab": {
          "base_uri": "https://localhost:8080/",
          "height": 337
        },
        "id": "D5CAGMzquSth",
        "outputId": "81b97029-aa18-4659-9ca8-4e87664b7174"
      },
      "execution_count": 131,
      "outputs": [
        {
          "output_type": "execute_result",
          "data": {
            "text/plain": [
              "<IPython.lib.display.IFrame at 0x7f41bcbe3950>"
            ],
            "text/html": [
              "\n",
              "        <iframe\n",
              "            width=\"560\"\n",
              "            height=\"315\"\n",
              "            src=\"https://www.youtube.com/watch?v=mHW1Hsqlp6A&t=11s\"\n",
              "            frameborder=\"0\"\n",
              "            allowfullscreen\n",
              "        ></iframe>\n",
              "        "
            ]
          },
          "metadata": {},
          "execution_count": 131
        }
      ]
    },
    {
      "cell_type": "markdown",
      "source": [
        "Cola para Google Colab: https://colab.research.google.com/github/Tanu-N-Prabhu/Python/blob/master/Cheat_sheet_for_Google_Colab.ipynb"
      ],
      "metadata": {
        "id": "u7qRMe5szmV2"
      }
    },
    {
      "cell_type": "markdown",
      "source": [
        "# AULA 01"
      ],
      "metadata": {
        "id": "_6fAqjsm3vAs"
      }
    },
    {
      "cell_type": "code",
      "source": [
        "# Começando a aula com o Hello World!\n",
        "\n",
        "print('Hello Word')"
      ],
      "metadata": {
        "id": "C8ecMZoP3z1D",
        "colab": {
          "base_uri": "https://localhost:8080/"
        },
        "outputId": "b992b22f-2adc-4447-d50f-c15af98c8989"
      },
      "execution_count": 132,
      "outputs": [
        {
          "output_type": "stream",
          "name": "stdout",
          "text": [
            "Hello Word\n"
          ]
        }
      ]
    },
    {
      "cell_type": "markdown",
      "source": [
        "## Tipos de variáveis e atribuições"
      ],
      "metadata": {
        "id": "DFGqTi-B6Qpd"
      }
    },
    {
      "cell_type": "markdown",
      "source": [
        "* Uma variável é uma referência para um endereço de memória (ponteiros em linguagem C).\n",
        "* Por ser uma linguagem dinâmica, não é necessário atribuir no código o tipo da variável (int, float, str etc). O Python atribuirá automaticamente."
      ],
      "metadata": {
        "id": "yDCgPZWw6UdA"
      }
    },
    {
      "cell_type": "code",
      "source": [
        "# Inicializando as variáveis do tipo int, float, string e booleana\n",
        "\n",
        "a = 1\n",
        "b = 2.5\n",
        "string_exemplo = 'richard'\n",
        "d = True\n",
        "\n",
        "type(d)"
      ],
      "metadata": {
        "id": "jIN8AdQH878G",
        "colab": {
          "base_uri": "https://localhost:8080/"
        },
        "outputId": "f882638c-6101-4915-998f-181a96298b4b"
      },
      "execution_count": 133,
      "outputs": [
        {
          "output_type": "execute_result",
          "data": {
            "text/plain": [
              "bool"
            ]
          },
          "metadata": {},
          "execution_count": 133
        }
      ]
    },
    {
      "cell_type": "code",
      "source": [
        "# Print com fstring\n",
        "\n",
        "print(f'Meu nome é: {5+2}')"
      ],
      "metadata": {
        "id": "RiVsxd2j-nZu",
        "colab": {
          "base_uri": "https://localhost:8080/"
        },
        "outputId": "436d1639-eeac-48fc-f8bd-e8d5daca8093"
      },
      "execution_count": 134,
      "outputs": [
        {
          "output_type": "stream",
          "name": "stdout",
          "text": [
            "Meu nome é: 7\n"
          ]
        }
      ]
    },
    {
      "cell_type": "code",
      "source": [
        "# Verificando o tipo das variáveis com o comando type()\n",
        "\n",
        "print()"
      ],
      "metadata": {
        "id": "uqJpKx9q-nEj",
        "colab": {
          "base_uri": "https://localhost:8080/"
        },
        "outputId": "220034ee-ba94-48c0-fde8-ecf5efa402fb"
      },
      "execution_count": 135,
      "outputs": [
        {
          "output_type": "stream",
          "name": "stdout",
          "text": [
            "\n"
          ]
        }
      ]
    },
    {
      "cell_type": "markdown",
      "source": [
        "Algumas operações matemáticas são possíveis com os tipos int e float\n",
        " - Obs: toda divisão resulta em float"
      ],
      "metadata": {
        "id": "Sp6nBXWD9yk9"
      }
    },
    {
      "cell_type": "code",
      "source": [
        "a = 4\n",
        "b = 2\n",
        "c = 1\n",
        "d = 1.2\n",
        "\n",
        "# Soma\n",
        "soma = a + b\n",
        "print(\"Resultado do tipo da soma \",soma)\n",
        "\n",
        "# Adição -> +\n",
        "# soma = \n",
        "# print(soma)\n",
        "# Subtração -> -\n",
        "subtracao = b - a\n",
        "print(\"Resultado do tipo da subtracao \",subtracao)\n",
        "# Multiplicação -> *\n",
        "multiplicacao = a * b\n",
        "# Divisão -> /\n",
        "divisao = a / b\n",
        "\n",
        "# Exponenciação\n",
        "exponencial = b**2\n",
        "\n",
        "# Divisão inteira (mod) -> //\n",
        "a = 5 //2\n",
        "print(f'O conteúdo de a é: {a}')\n",
        "# Resto da divisão -> %\n",
        "b = 5%2\n",
        "print(f'O resto da divisão é: {b}')\n",
        "\n",
        "# Operações Booleanas -> >,<,=>,<=,!=\n",
        "print( 5 == 3 )"
      ],
      "metadata": {
        "colab": {
          "base_uri": "https://localhost:8080/"
        },
        "id": "J9adaptW9-j-",
        "outputId": "ac143e9a-e664-4011-97e2-4aad7bb67092"
      },
      "execution_count": 136,
      "outputs": [
        {
          "output_type": "stream",
          "name": "stdout",
          "text": [
            "Resultado do tipo da soma  6\n",
            "Resultado do tipo da subtracao  -2\n",
            "O conteúdo de a é: 2\n",
            "O resto da divisão é: 1\n",
            "False\n"
          ]
        }
      ]
    },
    {
      "cell_type": "code",
      "source": [
        "# Alterando um tipo de dado string para int\n",
        "a = '1'\n",
        "a = int( a )\n",
        "print(f'Novo dado a: {a}, tipo do dado \"a\": {type(a)}')\n",
        "\n",
        "# Alterando um tipo float para int\n",
        "b = 2.5\n",
        "b = int( b )\n",
        "print(f'Novo dado a: {b}, tipo do dado \"a\": {type(b)}')"
      ],
      "metadata": {
        "colab": {
          "base_uri": "https://localhost:8080/"
        },
        "id": "gRbyAKcQRv3X",
        "outputId": "56a1b791-82ee-49ba-b671-f390da626e52"
      },
      "execution_count": 137,
      "outputs": [
        {
          "output_type": "stream",
          "name": "stdout",
          "text": [
            "Novo dado a: 1, tipo do dado \"a\": <class 'int'>\n",
            "Novo dado a: 2, tipo do dado \"a\": <class 'int'>\n"
          ]
        }
      ]
    },
    {
      "cell_type": "markdown",
      "source": [
        "Algumas operações interessantes com strings"
      ],
      "metadata": {
        "id": "hbtyeWkUCPf4"
      }
    },
    {
      "cell_type": "markdown",
      "source": [
        "Referências:\n",
        "- Quando atribuitos uma variável, geramos uma referência a um endereço de memória"
      ],
      "metadata": {
        "id": "ckFNltm5oG9c"
      }
    },
    {
      "cell_type": "code",
      "source": [
        "A = 1    # o valor 1 é referenciado por A\n",
        "B = A    # o valor 1 é referenciado por B\n",
        "\n",
        "print( id(A) )    # id retorna o endereço ao qual se referencia\n",
        "print( id(B) )"
      ],
      "metadata": {
        "colab": {
          "base_uri": "https://localhost:8080/"
        },
        "id": "pBmmwtA4osq4",
        "outputId": "dad48334-8649-470c-d98a-520df0cec895"
      },
      "execution_count": 138,
      "outputs": [
        {
          "output_type": "stream",
          "name": "stdout",
          "text": [
            "11256064\n",
            "11256064\n"
          ]
        }
      ]
    },
    {
      "cell_type": "code",
      "source": [
        "a = 'Curso de '\n",
        "b = 'Python'\n",
        "\n",
        "# Concatenação\n",
        "a + b\n",
        "# Replicação\n",
        "(a + b)*10"
      ],
      "metadata": {
        "id": "Aaz2PPS0CRXQ",
        "colab": {
          "base_uri": "https://localhost:8080/",
          "height": 53
        },
        "outputId": "ad59a9e2-9f3c-4082-f532-95d4ac1ed0c1"
      },
      "execution_count": 139,
      "outputs": [
        {
          "output_type": "execute_result",
          "data": {
            "text/plain": [
              "'Curso de PythonCurso de PythonCurso de PythonCurso de PythonCurso de PythonCurso de PythonCurso de PythonCurso de PythonCurso de PythonCurso de Python'"
            ],
            "application/vnd.google.colaboratory.intrinsic+json": {
              "type": "string"
            }
          },
          "metadata": {},
          "execution_count": 139
        }
      ]
    },
    {
      "cell_type": "markdown",
      "source": [
        "___\n",
        "\n",
        "**Desafio 1:**\n",
        "\n",
        "Bart foi um aluno desobediente na aula do professor Boca e como castigo teve que escrever a frase \"Eu não vou matar aula no D.A. e  atrasar pra aula nunca mais\" **200** vezes em um arquivo txt.\n",
        "\n",
        "Pra aumentar a infelicidade de Bart, ele foi obrigado a utilizar um computador do laboratório em que o \"ctrl c\" não funcionava!\n",
        "\n",
        "Por sorte, Bart sabia que você manjava de computação e era um ótimo amigo, ajude-o!\n",
        "\n",
        "<img src=\"https://i.pinimg.com/originals/97/09/80/97098039eb089e4f68cb02095db6e696.jpg\" width=30%>\n",
        "\n",
        "___"
      ],
      "metadata": {
        "id": "-F2NEUH6Daqz"
      }
    },
    {
      "cell_type": "code",
      "source": [
        "# Ajude Bart\n",
        "a =  \"Eu não vou matar aula no D.A. e atrasar pra aula nunca mais\"\n",
        "a*200"
      ],
      "metadata": {
        "id": "AZu6tJorGFQ7",
        "colab": {
          "base_uri": "https://localhost:8080/",
          "height": 157
        },
        "outputId": "57529050-24a5-4829-d28b-db3a2b3743ed"
      },
      "execution_count": 140,
      "outputs": [
        {
          "output_type": "execute_result",
          "data": {
            "text/plain": [
              "'Eu não vou matar aula no D.A. e atrasar pra aula nunca maisEu não vou matar aula no D.A. e atrasar pra aula nunca maisEu não vou matar aula no D.A. e atrasar pra aula nunca maisEu não vou matar aula no D.A. e atrasar pra aula nunca maisEu não vou matar aula no D.A. e atrasar pra aula nunca maisEu não vou matar aula no D.A. e atrasar pra aula nunca maisEu não vou matar aula no D.A. e atrasar pra aula nunca maisEu não vou matar aula no D.A. e atrasar pra aula nunca maisEu não vou matar aula no D.A. e atrasar pra aula nunca maisEu não vou matar aula no D.A. e atrasar pra aula nunca maisEu não vou matar aula no D.A. e atrasar pra aula nunca maisEu não vou matar aula no D.A. e atrasar pra aula nunca maisEu não vou matar aula no D.A. e atrasar pra aula nunca maisEu não vou matar aula no D.A. e atrasar pra aula nunca maisEu não vou matar aula no D.A. e atrasar pra aula nunca maisEu não vou matar aula no D.A. e atrasar pra aula nunca maisEu não vou matar aula no D.A. e atrasar pra aula nunca maisEu não vou matar aula no D.A. e atrasar pra aula nunca maisEu não vou matar aula no D.A. e atrasar pra aula nunca maisEu não vou matar aula no D.A. e atrasar pra aula nunca maisEu não vou matar aula no D.A. e atrasar pra aula nunca maisEu não vou matar aula no D.A. e atrasar pra aula nunca maisEu não vou matar aula no D.A. e atrasar pra aula nunca maisEu não vou matar aula no D.A. e atrasar pra aula nunca maisEu não vou matar aula no D.A. e atrasar pra aula nunca maisEu não vou matar aula no D.A. e atrasar pra aula nunca maisEu não vou matar aula no D.A. e atrasar pra aula nunca maisEu não vou matar aula no D.A. e atrasar pra aula nunca maisEu não vou matar aula no D.A. e atrasar pra aula nunca maisEu não vou matar aula no D.A. e atrasar pra aula nunca maisEu não vou matar aula no D.A. e atrasar pra aula nunca maisEu não vou matar aula no D.A. e atrasar pra aula nunca maisEu não vou matar aula no D.A. e atrasar pra aula nunca maisEu não vou matar aula no D.A. e atrasar pra aula nunca maisEu não vou matar aula no D.A. e atrasar pra aula nunca maisEu não vou matar aula no D.A. e atrasar pra aula nunca maisEu não vou matar aula no D.A. e atrasar pra aula nunca maisEu não vou matar aula no D.A. e atrasar pra aula nunca maisEu não vou matar aula no D.A. e atrasar pra aula nunca maisEu não vou matar aula no D.A. e atrasar pra aula nunca maisEu não vou matar aula no D.A. e atrasar pra aula nunca maisEu não vou matar aula no D.A. e atrasar pra aula nunca maisEu não vou matar aula no D.A. e atrasar pra aula nunca maisEu não vou matar aula no D.A. e atrasar pra aula nunca maisEu não vou matar aula no D.A. e atrasar pra aula nunca maisEu não vou matar aula no D.A. e atrasar pra aula nunca maisEu não vou matar aula no D.A. e atrasar pra aula nunca maisEu não vou matar aula no D.A. e atrasar pra aula nunca maisEu não vou matar aula no D.A. e atrasar pra aula nunca maisEu não vou matar aula no D.A. e atrasar pra aula nunca maisEu não vou matar aula no D.A. e atrasar pra aula nunca maisEu não vou matar aula no D.A. e atrasar pra aula nunca maisEu não vou matar aula no D.A. e atrasar pra aula nunca maisEu não vou matar aula no D.A. e atrasar pra aula nunca maisEu não vou matar aula no D.A. e atrasar pra aula nunca maisEu não vou matar aula no D.A. e atrasar pra aula nunca maisEu não vou matar aula no D.A. e atrasar pra aula nunca maisEu não vou matar aula no D.A. e atrasar pra aula nunca maisEu não vou matar aula no D.A. e atrasar pra aula nunca maisEu não vou matar aula no D.A. e atrasar pra aula nunca maisEu não vou matar aula no D.A. e atrasar pra aula nunca maisEu não vou matar aula no D.A. e atrasar pra aula nunca maisEu não vou matar aula no D.A. e atrasar pra aula nunca maisEu não vou matar aula no D.A. e atrasar pra aula nunca maisEu não vou matar aula no D.A. e atrasar pra aula nunca maisEu não vou matar aula no D.A. e atrasar pra aula nunca maisEu não vou matar aula no D.A. e atrasar pra aula nunca maisEu não vou matar aula no D.A. e atrasar pra aula nunca maisEu não vou matar aula no D.A. e atrasar pra aula nunca maisEu não vou matar aula no D.A. e atrasar pra aula nunca maisEu não vou matar aula no D.A. e atrasar pra aula nunca maisEu não vou matar aula no D.A. e atrasar pra aula nunca maisEu não vou matar aula no D.A. e atrasar pra aula nunca maisEu não vou matar aula no D.A. e atrasar pra aula nunca maisEu não vou matar aula no D.A. e atrasar pra aula nunca maisEu não vou matar aula no D.A. e atrasar pra aula nunca maisEu não vou matar aula no D.A. e atrasar pra aula nunca maisEu não vou matar aula no D.A. e atrasar pra aula nunca maisEu não vou matar aula no D.A. e atrasar pra aula nunca maisEu não vou matar aula no D.A. e atrasar pra aula nunca maisEu não vou matar aula no D.A. e atrasar pra aula nunca maisEu não vou matar aula no D.A. e atrasar pra aula nunca maisEu não vou matar aula no D.A. e atrasar pra aula nunca maisEu não vou matar aula no D.A. e atrasar pra aula nunca maisEu não vou matar aula no D.A. e atrasar pra aula nunca maisEu não vou matar aula no D.A. e atrasar pra aula nunca maisEu não vou matar aula no D.A. e atrasar pra aula nunca maisEu não vou matar aula no D.A. e atrasar pra aula nunca maisEu não vou matar aula no D.A. e atrasar pra aula nunca maisEu não vou matar aula no D.A. e atrasar pra aula nunca maisEu não vou matar aula no D.A. e atrasar pra aula nunca maisEu não vou matar aula no D.A. e atrasar pra aula nunca maisEu não vou matar aula no D.A. e atrasar pra aula nunca maisEu não vou matar aula no D.A. e atrasar pra aula nunca maisEu não vou matar aula no D.A. e atrasar pra aula nunca maisEu não vou matar aula no D.A. e atrasar pra aula nunca maisEu não vou matar aula no D.A. e atrasar pra aula nunca maisEu não vou matar aula no D.A. e atrasar pra aula nunca maisEu não vou matar aula no D.A. e atrasar pra aula nunca maisEu não vou matar aula no D.A. e atrasar pra aula nunca maisEu não vou matar aula no D.A. e atrasar pra aula nunca maisEu não vou matar aula no D.A. e atrasar pra aula nunca maisEu não vou matar aula no D.A. e atrasar pra aula nunca maisEu não vou matar aula no D.A. e atrasar pra aula nunca maisEu não vou matar aula no D.A. e atrasar pra aula nunca maisEu não vou matar aula no D.A. e atrasar pra aula nunca maisEu não vou matar aula no D.A. e atrasar pra aula nunca maisEu não vou matar aula no D.A. e atrasar pra aula nunca maisEu não vou matar aula no D.A. e atrasar pra aula nunca maisEu não vou matar aula no D.A. e atrasar pra aula nunca maisEu não vou matar aula no D.A. e atrasar pra aula nunca maisEu não vou matar aula no D.A. e atrasar pra aula nunca maisEu não vou matar aula no D.A. e atrasar pra aula nunca maisEu não vou matar aula no D.A. e atrasar pra aula nunca maisEu não vou matar aula no D.A. e atrasar pra aula nunca maisEu não vou matar aula no D.A. e atrasar pra aula nunca maisEu não vou matar aula no D.A. e atrasar pra aula nunca maisEu não vou matar aula no D.A. e atrasar pra aula nunca maisEu não vou matar aula no D.A. e atrasar pra aula nunca maisEu não vou matar aula no D.A. e atrasar pra aula nunca maisEu não vou matar aula no D.A. e atrasar pra aula nunca maisEu não vou matar aula no D.A. e atrasar pra aula nunca maisEu não vou matar aula no D.A. e atrasar pra aula nunca maisEu não vou matar aula no D.A. e atrasar pra aula nunca maisEu não vou matar aula no D.A. e atrasar pra aula nunca maisEu não vou matar aula no D.A. e atrasar pra aula nunca maisEu não vou matar aula no D.A. e atrasar pra aula nunca maisEu não vou matar aula no D.A. e atrasar pra aula nunca maisEu não vou matar aula no D.A. e atrasar pra aula nunca maisEu não vou matar aula no D.A. e atrasar pra aula nunca maisEu não vou matar aula no D.A. e atrasar pra aula nunca maisEu não vou matar aula no D.A. e atrasar pra aula nunca maisEu não vou matar aula no D.A. e atrasar pra aula nunca maisEu não vou matar aula no D.A. e atrasar pra aula nunca maisEu não vou matar aula no D.A. e atrasar pra aula nunca maisEu não vou matar aula no D.A. e atrasar pra aula nunca maisEu não vou matar aula no D.A. e atrasar pra aula nunca maisEu não vou matar aula no D.A. e atrasar pra aula nunca maisEu não vou matar aula no D.A. e atrasar pra aula nunca maisEu não vou matar aula no D.A. e atrasar pra aula nunca maisEu não vou matar aula no D.A. e atrasar pra aula nunca maisEu não vou matar aula no D.A. e atrasar pra aula nunca maisEu não vou matar aula no D.A. e atrasar pra aula nunca maisEu não vou matar aula no D.A. e atrasar pra aula nunca maisEu não vou matar aula no D.A. e atrasar pra aula nunca maisEu não vou matar aula no D.A. e atrasar pra aula nunca maisEu não vou matar aula no D.A. e atrasar pra aula nunca maisEu não vou matar aula no D.A. e atrasar pra aula nunca maisEu não vou matar aula no D.A. e atrasar pra aula nunca maisEu não vou matar aula no D.A. e atrasar pra aula nunca maisEu não vou matar aula no D.A. e atrasar pra aula nunca maisEu não vou matar aula no D.A. e atrasar pra aula nunca maisEu não vou matar aula no D.A. e atrasar pra aula nunca maisEu não vou matar aula no D.A. e atrasar pra aula nunca maisEu não vou matar aula no D.A. e atrasar pra aula nunca maisEu não vou matar aula no D.A. e atrasar pra aula nunca maisEu não vou matar aula no D.A. e atrasar pra aula nunca maisEu não vou matar aula no D.A. e atrasar pra aula nunca maisEu não vou matar aula no D.A. e atrasar pra aula nunca maisEu não vou matar aula no D.A. e atrasar pra aula nunca maisEu não vou matar aula no D.A. e atrasar pra aula nunca maisEu não vou matar aula no D.A. e atrasar pra aula nunca maisEu não vou matar aula no D.A. e atrasar pra aula nunca maisEu não vou matar aula no D.A. e atrasar pra aula nunca maisEu não vou matar aula no D.A. e atrasar pra aula nunca maisEu não vou matar aula no D.A. e atrasar pra aula nunca maisEu não vou matar aula no D.A. e atrasar pra aula nunca maisEu não vou matar aula no D.A. e atrasar pra aula nunca maisEu não vou matar aula no D.A. e atrasar pra aula nunca maisEu não vou matar aula no D.A. e atrasar pra aula nunca maisEu não vou matar aula no D.A. e atrasar pra aula nunca maisEu não vou matar aula no D.A. e atrasar pra aula nunca maisEu não vou matar aula no D.A. e atrasar pra aula nunca maisEu não vou matar aula no D.A. e atrasar pra aula nunca maisEu não vou matar aula no D.A. e atrasar pra aula nunca maisEu não vou matar aula no D.A. e atrasar pra aula nunca maisEu não vou matar aula no D.A. e atrasar pra aula nunca maisEu não vou matar aula no D.A. e atrasar pra aula nunca maisEu não vou matar aula no D.A. e atrasar pra aula nunca maisEu não vou matar aula no D.A. e atrasar pra aula nunca maisEu não vou matar aula no D.A. e atrasar pra aula nunca maisEu não vou matar aula no D.A. e atrasar pra aula nunca maisEu não vou matar aula no D.A. e atrasar pra aula nunca maisEu não vou matar aula no D.A. e atrasar pra aula nunca maisEu não vou matar aula no D.A. e atrasar pra aula nunca maisEu não vou matar aula no D.A. e atrasar pra aula nunca maisEu não vou matar aula no D.A. e atrasar pra aula nunca maisEu não vou matar aula no D.A. e atrasar pra aula nunca maisEu não vou matar aula no D.A. e atrasar pra aula nunca maisEu não vou matar aula no D.A. e atrasar pra aula nunca maisEu não vou matar aula no D.A. e atrasar pra aula nunca maisEu não vou matar aula no D.A. e atrasar pra aula nunca maisEu não vou matar aula no D.A. e atrasar pra aula nunca maisEu não vou matar aula no D.A. e atrasar pra aula nunca maisEu não vou matar aula no D.A. e atrasar pra aula nunca maisEu não vou matar aula no D.A. e atrasar pra aula nunca maisEu não vou matar aula no D.A. e atrasar pra aula nunca maisEu não vou matar aula no D.A. e atrasar pra aula nunca maisEu não vou matar aula no D.A. e atrasar pra aula nunca maisEu não vou matar aula no D.A. e atrasar pra aula nunca mais'"
            ],
            "application/vnd.google.colaboratory.intrinsic+json": {
              "type": "string"
            }
          },
          "metadata": {},
          "execution_count": 140
        }
      ]
    },
    {
      "cell_type": "code",
      "source": [
        "# Exercício 2\n",
        "# Realize as seguintes operações:\n",
        "# a. 2 + 3 - 1\n",
        "a = 2 + 3 - 1\n",
        "a\n",
        "# b. 2 + 3 * 2\n",
        "b = 2 + ( 3*2 )\n",
        "b\n",
        "# c. (2)^3^2 [Observe que o resultado é o mesmo que 2^9]\n",
        "c = 2**9\n",
        "c"
      ],
      "metadata": {
        "id": "2yC0Ur76JZVs",
        "colab": {
          "base_uri": "https://localhost:8080/"
        },
        "outputId": "e01c2cbd-d4ef-492b-92c7-08fc346a56c9"
      },
      "execution_count": 141,
      "outputs": [
        {
          "output_type": "execute_result",
          "data": {
            "text/plain": [
              "512"
            ]
          },
          "metadata": {},
          "execution_count": 141
        }
      ]
    },
    {
      "cell_type": "markdown",
      "source": [
        "## Listas, tuplas, strings e Dicionários"
      ],
      "metadata": {
        "id": "cwQa5jHTKbi6"
      }
    },
    {
      "cell_type": "markdown",
      "source": [
        "**Lista**\n",
        "- Chamada de \"list\"\n",
        "- É uma sequência de elementos (de vários tipos) com uma dada ordem"
      ],
      "metadata": {
        "id": "mal5wbkjKj_g"
      }
    },
    {
      "cell_type": "code",
      "source": [
        "lst1 = [1, 2, 3, 'Pedro', 3.5, True]\n",
        "\n",
        "print(lst1)\n",
        "\n",
        "# Acessando valores da lista com o lst[]\n",
        "lst1[0]"
      ],
      "metadata": {
        "id": "yQAFveoMK8yt",
        "colab": {
          "base_uri": "https://localhost:8080/"
        },
        "outputId": "8f92916a-bfa8-453d-96c3-76cb6a289ed4"
      },
      "execution_count": 142,
      "outputs": [
        {
          "output_type": "stream",
          "name": "stdout",
          "text": [
            "[1, 2, 3, 'Pedro', 3.5, True]\n"
          ]
        },
        {
          "output_type": "execute_result",
          "data": {
            "text/plain": [
              "1"
            ]
          },
          "metadata": {},
          "execution_count": 142
        }
      ]
    },
    {
      "cell_type": "code",
      "source": [
        "lst_vazia = []\n",
        "\n",
        "# Inserindo elementos na lista com o append\n",
        "lst_vazia.append('thiago')\n",
        "print(lst_vazia)"
      ],
      "metadata": {
        "id": "7QJEO7hqMYXr",
        "colab": {
          "base_uri": "https://localhost:8080/"
        },
        "outputId": "574f8cd1-cb5e-420f-f1ef-e3af4c5bcba9"
      },
      "execution_count": 143,
      "outputs": [
        {
          "output_type": "stream",
          "name": "stdout",
          "text": [
            "['thiago']\n"
          ]
        }
      ]
    },
    {
      "cell_type": "code",
      "source": [
        "lst_auxiliar = ['a','b','c','d','e']\n",
        "\n",
        "# Inserindo elementos na lista escolhendo a posição com o insert(local, elemento)\n",
        "lst_auxiliar.insert(2, 3)\n",
        "\n",
        "print(lst_auxiliar)"
      ],
      "metadata": {
        "id": "LUE2pt0HNMm8",
        "colab": {
          "base_uri": "https://localhost:8080/"
        },
        "outputId": "2903c322-5acb-4568-c97d-398b381ff69f"
      },
      "execution_count": 144,
      "outputs": [
        {
          "output_type": "stream",
          "name": "stdout",
          "text": [
            "['a', 'b', 3, 'c', 'd', 'e']\n"
          ]
        }
      ]
    },
    {
      "cell_type": "code",
      "source": [
        "lst_auxiliar = ['a','b','c','d','e']\n",
        "\n",
        "# Excluindo elementos da lista escolhendo a posição com del lst_vazia[posição]\n",
        "del lst_auxiliar[2]\n",
        "print(lst_auxiliar)"
      ],
      "metadata": {
        "id": "VwT-thXONSVn",
        "colab": {
          "base_uri": "https://localhost:8080/"
        },
        "outputId": "9c41de04-3954-4f8d-f2cd-bf2915e123ab"
      },
      "execution_count": 145,
      "outputs": [
        {
          "output_type": "stream",
          "name": "stdout",
          "text": [
            "['a', 'b', 'd', 'e']\n"
          ]
        }
      ]
    },
    {
      "cell_type": "code",
      "source": [
        "lst_auxiliar = ['a','b','c','d','e']\n",
        "\n",
        "# Excluindo elemento da lista e salvando o elemento excluído em uma variável com o lst.pop(posição)\n",
        "\n",
        "excluido = lst_auxiliar.pop(2)\n",
        "print(excluido)"
      ],
      "metadata": {
        "id": "LD6qOowDNlCc",
        "colab": {
          "base_uri": "https://localhost:8080/"
        },
        "outputId": "e59bbde7-de20-4524-a60a-4868d14b9395"
      },
      "execution_count": 146,
      "outputs": [
        {
          "output_type": "stream",
          "name": "stdout",
          "text": [
            "c\n"
          ]
        }
      ]
    },
    {
      "cell_type": "code",
      "source": [
        "lst_auxiliar = ['a','b','c','d','e']\n",
        "\n",
        "# Verificando o tamanho de uma lista com a função len()\n",
        "len( lst_auxiliar )"
      ],
      "metadata": {
        "id": "sFcXlAtmOun7",
        "colab": {
          "base_uri": "https://localhost:8080/"
        },
        "outputId": "c329dc8b-ad90-4149-e0c8-8c5159418ea4"
      },
      "execution_count": 147,
      "outputs": [
        {
          "output_type": "execute_result",
          "data": {
            "text/plain": [
              "5"
            ]
          },
          "metadata": {},
          "execution_count": 147
        }
      ]
    },
    {
      "cell_type": "code",
      "source": [
        "# Índices negativos como lst[-1]\n",
        "lst_auxiliar[-2]"
      ],
      "metadata": {
        "id": "wdr7NqwEO9Xz",
        "colab": {
          "base_uri": "https://localhost:8080/",
          "height": 36
        },
        "outputId": "5105e351-c195-48ff-b4b7-0810f7fa90c5"
      },
      "execution_count": 148,
      "outputs": [
        {
          "output_type": "execute_result",
          "data": {
            "text/plain": [
              "'d'"
            ],
            "application/vnd.google.colaboratory.intrinsic+json": {
              "type": "string"
            }
          },
          "metadata": {},
          "execution_count": 148
        }
      ]
    },
    {
      "cell_type": "code",
      "source": [
        "# Extra lista com lista dentro\n",
        "\n",
        "lst_extra = ['a', 'b', 1, 2, (2.4, 2.5), 'João']\n",
        "print(lst_extra)"
      ],
      "metadata": {
        "colab": {
          "base_uri": "https://localhost:8080/"
        },
        "id": "Ma-MOc5VPPrv",
        "outputId": "4224273d-b38f-4d17-f45e-69c43e2d21d9"
      },
      "execution_count": 149,
      "outputs": [
        {
          "output_type": "stream",
          "name": "stdout",
          "text": [
            "['a', 'b', 1, 2, (2.4, 2.5), 'João']\n"
          ]
        }
      ]
    },
    {
      "cell_type": "code",
      "source": [
        "# Extra: somando listas\n",
        "\n",
        "lst_a = [1,2,3,4,5]\n",
        "lst_b = [2,2,2,2,2]\n",
        "\n",
        "# Somando\n",
        "lst_a + lst_b"
      ],
      "metadata": {
        "id": "YmizLlnHrYE7",
        "colab": {
          "base_uri": "https://localhost:8080/"
        },
        "outputId": "2017e770-2bce-47c6-bf55-842d698590ab"
      },
      "execution_count": 150,
      "outputs": [
        {
          "output_type": "execute_result",
          "data": {
            "text/plain": [
              "[1, 2, 3, 4, 5, 2, 2, 2, 2, 2]"
            ]
          },
          "metadata": {},
          "execution_count": 150
        }
      ]
    },
    {
      "cell_type": "code",
      "source": [
        "# Extra: copiando outra lista em uma nova\n",
        "\n",
        "lst_a = ['a','b', 'c', 'd']\n",
        "lst_b = []\n",
        "lst_b.extend(lst_a)\n",
        "print(lst_b)"
      ],
      "metadata": {
        "id": "muuqx7H2rqxe",
        "colab": {
          "base_uri": "https://localhost:8080/"
        },
        "outputId": "54449dfc-df28-4c78-bf29-09448cd4f164"
      },
      "execution_count": 151,
      "outputs": [
        {
          "output_type": "stream",
          "name": "stdout",
          "text": [
            "['a', 'b', 'c', 'd']\n"
          ]
        }
      ]
    },
    {
      "cell_type": "markdown",
      "source": [
        "Lembram de como o Python faz a referência?\n",
        "\n",
        "Então realize o seguinte teste:\n",
        "```Python\n",
        "A = [1,2,3,4,5]\n",
        "B = A\n",
        "\n",
        "print(f'A antes: {A}')\n",
        "\n",
        "B.append(30)\n",
        "\n",
        "print(f'A depois: {A}')\n",
        "```"
      ],
      "metadata": {
        "id": "8tQUy4kxqOok"
      }
    },
    {
      "cell_type": "code",
      "source": [
        "A = [1,2,3,4,5]\n",
        "B = A\n",
        "\n",
        "print(f'A antes: {A}')\n",
        "\n",
        "B.append(30)   # Adicionando um elemento em B\n",
        "\n",
        "print(f'A depois: {A}')"
      ],
      "metadata": {
        "colab": {
          "base_uri": "https://localhost:8080/"
        },
        "id": "fO7r0cXsqyej",
        "outputId": "e5c75acb-3150-4ce8-ddd1-83a234e5dcb8"
      },
      "execution_count": 152,
      "outputs": [
        {
          "output_type": "stream",
          "name": "stdout",
          "text": [
            "A antes: [1, 2, 3, 4, 5]\n",
            "A depois: [1, 2, 3, 4, 5, 30]\n"
          ]
        }
      ]
    },
    {
      "cell_type": "markdown",
      "source": [
        "O que ocorre é que como ambas as variáveis A e B referenciam para a mesma lista, quando B é alterada através do append(), A também é afetada!"
      ],
      "metadata": {
        "id": "HUttjxsnq2QG"
      }
    },
    {
      "cell_type": "code",
      "source": [
        "# Outro exemplo\n",
        "\n",
        "a = [1,2,3,4,5]\n",
        "b = a\n",
        "\n",
        "b.extend([10,20,30])\n",
        "\n",
        "print(a)"
      ],
      "metadata": {
        "colab": {
          "base_uri": "https://localhost:8080/"
        },
        "id": "oxHB17_CsHGo",
        "outputId": "c9baae61-d96d-400f-d0c0-e97bf614a862"
      },
      "execution_count": 153,
      "outputs": [
        {
          "output_type": "stream",
          "name": "stdout",
          "text": [
            "[1, 2, 3, 4, 5, 10, 20, 30]\n"
          ]
        }
      ]
    },
    {
      "cell_type": "code",
      "source": [
        "# Encontrando um índice da primeira ocorrência em uma lista\n",
        "\n",
        "nomes = ['Joao', 'Pedro', 'Carlos']\n",
        "\n",
        "# Encontrando o índice de Pedro com o lst.index('Pedro')\n",
        "nomes.index( 'Pedro' )"
      ],
      "metadata": {
        "id": "YFUFYMiksbm9",
        "colab": {
          "base_uri": "https://localhost:8080/"
        },
        "outputId": "4faa50b2-3d5a-4fc7-fccc-06ecfb2c06c5"
      },
      "execution_count": 154,
      "outputs": [
        {
          "output_type": "execute_result",
          "data": {
            "text/plain": [
              "1"
            ]
          },
          "metadata": {},
          "execution_count": 154
        }
      ]
    },
    {
      "cell_type": "code",
      "source": [
        "# Contando o número de 'a' em 'abacate' com lst.count('a')\n",
        "\n",
        "fruta = 'abacate'\n",
        "fruta.count('a')"
      ],
      "metadata": {
        "id": "SqjyNFMMsnS9",
        "colab": {
          "base_uri": "https://localhost:8080/"
        },
        "outputId": "a5ad9f9c-1225-4295-f45a-c013bf4c0f45"
      },
      "execution_count": 155,
      "outputs": [
        {
          "output_type": "execute_result",
          "data": {
            "text/plain": [
              "3"
            ]
          },
          "metadata": {},
          "execution_count": 155
        }
      ]
    },
    {
      "cell_type": "code",
      "source": [
        "aux = [3,1,2,20,10]\n",
        "\n",
        "# Ordenando uma lista com lst.sort()   OBS: este método altera a lista original\n",
        "aux.sort()\n",
        "aux"
      ],
      "metadata": {
        "id": "6x-TtAJXsuya",
        "colab": {
          "base_uri": "https://localhost:8080/"
        },
        "outputId": "b15f663b-0bab-4a42-c83c-add223aba163"
      },
      "execution_count": 156,
      "outputs": [
        {
          "output_type": "execute_result",
          "data": {
            "text/plain": [
              "[1, 2, 3, 10, 20]"
            ]
          },
          "metadata": {},
          "execution_count": 156
        }
      ]
    },
    {
      "cell_type": "code",
      "source": [
        "aux = [3,1,2,20,10]\n",
        "\n",
        "# Ordenando a lista sem alterar a original (cria-se uma nova sequência na memória) usando o sorted(aux)\n",
        "sorted(aux)\n",
        "\n",
        "aux"
      ],
      "metadata": {
        "id": "MeMSv8PvtQkk",
        "colab": {
          "base_uri": "https://localhost:8080/"
        },
        "outputId": "68c6bbac-f23f-4b0d-c865-7f723c66091f"
      },
      "execution_count": 157,
      "outputs": [
        {
          "output_type": "execute_result",
          "data": {
            "text/plain": [
              "[3, 1, 2, 20, 10]"
            ]
          },
          "metadata": {},
          "execution_count": 157
        }
      ]
    },
    {
      "cell_type": "code",
      "source": [
        "# Achando o maior elemento da sequência com max(lst)\n",
        "max( aux )"
      ],
      "metadata": {
        "id": "Sp9YXY9JthjJ",
        "colab": {
          "base_uri": "https://localhost:8080/"
        },
        "outputId": "3583fd14-8bec-401c-ef66-6d355fa1d41b"
      },
      "execution_count": 158,
      "outputs": [
        {
          "output_type": "execute_result",
          "data": {
            "text/plain": [
              "20"
            ]
          },
          "metadata": {},
          "execution_count": 158
        }
      ]
    },
    {
      "cell_type": "code",
      "source": [
        "# Achando o menor elemento da sequência com min(lst)\n",
        "min( aux )"
      ],
      "metadata": {
        "id": "Takt6mBctneN",
        "colab": {
          "base_uri": "https://localhost:8080/"
        },
        "outputId": "6d33559b-d092-4e40-87ea-1cea0799f20d"
      },
      "execution_count": 159,
      "outputs": [
        {
          "output_type": "execute_result",
          "data": {
            "text/plain": [
              "1"
            ]
          },
          "metadata": {},
          "execution_count": 159
        }
      ]
    },
    {
      "cell_type": "markdown",
      "source": [
        "**Tupla**\n",
        "\n",
        "- Chamada de \"tuple\"\n",
        "- Similar a lista mas os elementos não podem ser modificados!"
      ],
      "metadata": {
        "id": "FwzptiiaK-8R"
      }
    },
    {
      "cell_type": "code",
      "source": [
        "tupla_auxiliar = ('a',2,'c', 3.5,'e')\n",
        "\n",
        "print(tupla_auxiliar)"
      ],
      "metadata": {
        "id": "dwU-UHfmLKZ3",
        "colab": {
          "base_uri": "https://localhost:8080/"
        },
        "outputId": "2e8723a9-2bef-4d38-bd57-d5a178b90d41"
      },
      "execution_count": 160,
      "outputs": [
        {
          "output_type": "stream",
          "name": "stdout",
          "text": [
            "('a', 2, 'c', 3.5, 'e')\n"
          ]
        }
      ]
    },
    {
      "cell_type": "code",
      "source": [
        "# Tentando adicionar algo em uma tupla (Error)\n",
        "# tupla_auxiliar.append('b')"
      ],
      "metadata": {
        "id": "vRl6BucLP3gw"
      },
      "execution_count": 161,
      "outputs": []
    },
    {
      "cell_type": "markdown",
      "source": [
        "\"Mas e se eu precisar muito mexer na tupla? (Você precisa mesmo??!)\"\n",
        "\n",
        "<img src=\"https://www.memesmonkey.com/images/memesmonkey/8c/8c61344284918bae325bdc4fbf9c6c6f.jpeg\" width=20%>"
      ],
      "metadata": {
        "id": "qzU2_88uQDaF"
      }
    },
    {
      "cell_type": "code",
      "source": [
        "# Transformando uma tupla em uma lista\n",
        "tupla_auxiliar = list( tupla_auxiliar )"
      ],
      "metadata": {
        "id": "O6vcLCPiQOni"
      },
      "execution_count": 162,
      "outputs": []
    },
    {
      "cell_type": "code",
      "source": [
        "# Adicionando o elemento na lista\n",
        "tupla_auxiliar.append('Joao')"
      ],
      "metadata": {
        "id": "JefvRsP4QRuX"
      },
      "execution_count": 163,
      "outputs": []
    },
    {
      "cell_type": "code",
      "source": [
        "# Transformando a lista em uma tupla novamente\n",
        "tupla_auxiliar = tuple ( tupla_auxiliar )"
      ],
      "metadata": {
        "id": "5BnQ4-AKQUV7"
      },
      "execution_count": 164,
      "outputs": []
    },
    {
      "cell_type": "code",
      "source": [
        "tupla_auxiliar"
      ],
      "metadata": {
        "id": "r6ipK2cJP_u-",
        "outputId": "ed30b9c1-20fe-4fe2-f53f-8e739442b546",
        "colab": {
          "base_uri": "https://localhost:8080/"
        }
      },
      "execution_count": 165,
      "outputs": [
        {
          "output_type": "execute_result",
          "data": {
            "text/plain": [
              "('a', 2, 'c', 3.5, 'e', 'Joao')"
            ]
          },
          "metadata": {},
          "execution_count": 165
        }
      ]
    },
    {
      "cell_type": "markdown",
      "source": [
        "**String**\n",
        "\n",
        "- Cadeia de caracteres com leitura 1 a 1"
      ],
      "metadata": {
        "id": "PaSYm103LKhn"
      }
    },
    {
      "cell_type": "code",
      "source": [
        "str_auxiliar = 'computação é o orgulho da puc'\n",
        "\n",
        "# Acessando as letras da string com str[posição]\n",
        "str_auxiliar[-1]"
      ],
      "metadata": {
        "id": "xO7knLe5LTz4",
        "colab": {
          "base_uri": "https://localhost:8080/",
          "height": 36
        },
        "outputId": "70f8a22f-b8a5-42bc-f7f9-6b2d5fa727e6"
      },
      "execution_count": 166,
      "outputs": [
        {
          "output_type": "execute_result",
          "data": {
            "text/plain": [
              "'c'"
            ],
            "application/vnd.google.colaboratory.intrinsic+json": {
              "type": "string"
            }
          },
          "metadata": {},
          "execution_count": 166
        }
      ]
    },
    {
      "cell_type": "code",
      "source": [
        "# Transformando as primeiras letras em maiúsculas com str.title()\n",
        "nome = 'joao'\n",
        "nome = nome.title()\n",
        "nome"
      ],
      "metadata": {
        "colab": {
          "base_uri": "https://localhost:8080/",
          "height": 36
        },
        "id": "NJDdsOiiUUzo",
        "outputId": "3896e1e8-60ce-4ee0-d750-8458af16279d"
      },
      "execution_count": 167,
      "outputs": [
        {
          "output_type": "execute_result",
          "data": {
            "text/plain": [
              "'Joao'"
            ],
            "application/vnd.google.colaboratory.intrinsic+json": {
              "type": "string"
            }
          },
          "metadata": {},
          "execution_count": 167
        }
      ]
    },
    {
      "cell_type": "code",
      "source": [
        "# Transformando as letras em maiúsculas com str.upper()\n",
        "nome = nome.upper()"
      ],
      "metadata": {
        "id": "FCnKVh2XUwx3"
      },
      "execution_count": 168,
      "outputs": []
    },
    {
      "cell_type": "code",
      "source": [
        "# Transformando as letras em minúsculas com str.lower()\n",
        "nome.lower()"
      ],
      "metadata": {
        "id": "62loN-QvU0Sv",
        "colab": {
          "base_uri": "https://localhost:8080/",
          "height": 36
        },
        "outputId": "64290d7c-da80-4d81-87c0-c7ffc13fc40c"
      },
      "execution_count": 169,
      "outputs": [
        {
          "output_type": "execute_result",
          "data": {
            "text/plain": [
              "'joao'"
            ],
            "application/vnd.google.colaboratory.intrinsic+json": {
              "type": "string"
            }
          },
          "metadata": {},
          "execution_count": 169
        }
      ]
    },
    {
      "cell_type": "code",
      "source": [
        "# Tabulações com /n e /t\n",
        "print('\\tHello\\nworld')"
      ],
      "metadata": {
        "id": "HOlo8u6lU7qI",
        "colab": {
          "base_uri": "https://localhost:8080/"
        },
        "outputId": "da04a72e-c059-41da-9fa3-4dd396fd337c"
      },
      "execution_count": 170,
      "outputs": [
        {
          "output_type": "stream",
          "name": "stdout",
          "text": [
            "\tHello\n",
            "world\n"
          ]
        }
      ]
    },
    {
      "cell_type": "code",
      "source": [
        "str_aux = '    olá mundo   '\n",
        "\n",
        "# Removendo espaços da direita com str.rstrip()\n",
        "print(str_aux.rstrip())\n",
        "# Removendo espaços da esquerda com str.lstrip()\n",
        "print(str_aux.lstrip())\n",
        "# Removendo espaços de ambos os lados com str.strip()\n",
        "print(str_aux.strip())\n",
        "# Trocando alguma string com str.replace(\"antiga\", \"nova\")\n",
        "print( str_aux.replace('mundo', 'world') )\n",
        "print( str_aux.replace('o', 'A') )"
      ],
      "metadata": {
        "id": "S6-psHWQVENC",
        "colab": {
          "base_uri": "https://localhost:8080/"
        },
        "outputId": "0ec9cdfb-2546-4496-874e-68eae133c135"
      },
      "execution_count": 171,
      "outputs": [
        {
          "output_type": "stream",
          "name": "stdout",
          "text": [
            "    olá mundo\n",
            "olá mundo   \n",
            "olá mundo\n",
            "    olá world   \n",
            "    Alá mundA   \n"
          ]
        }
      ]
    },
    {
      "cell_type": "markdown",
      "source": [
        "**Dicionários**\n",
        "- Chamado de \"dict\n",
        "- Mapeia um par (chave-valor) de informações\n",
        "- Chaves são imutáveis (ex. string)\n",
        "- Valores podem ser de qualquer tipo (str, int, float etc)"
      ],
      "metadata": {
        "id": "6KJpFCAEWj3k"
      }
    },
    {
      "cell_type": "code",
      "source": [
        "# Exemplo\n",
        "\n",
        "# dic_exemplo = {'chave1': \"valor1 da chave 1\", \"valor 2 da chave 1\",\n",
        "#                'chave2': 'valor1 da chave 2\"(...)}\n",
        "\n",
        "dic_cidade_estado = { 'Rio de Janeiro': 'Petrópolis',\n",
        "                      'São Paulo': ['São João da Boa Vista', 'Divinolândia'],\n",
        "                      'Minas Gerais': ['Poços de Caldas', 'Alfenas'] }"
      ],
      "metadata": {
        "id": "qwUqYWROXHAx"
      },
      "execution_count": 172,
      "outputs": []
    },
    {
      "cell_type": "code",
      "source": [
        "# Acessando uma chave do dicionário\n",
        "\n",
        "dic_cidade_estado['São Paulo']"
      ],
      "metadata": {
        "id": "ptcNO8f5YTpE",
        "colab": {
          "base_uri": "https://localhost:8080/"
        },
        "outputId": "e30d0439-cfec-4114-f40a-07ec7c0770cd"
      },
      "execution_count": 173,
      "outputs": [
        {
          "output_type": "execute_result",
          "data": {
            "text/plain": [
              "['São João da Boa Vista', 'Divinolândia']"
            ]
          },
          "metadata": {},
          "execution_count": 173
        }
      ]
    },
    {
      "cell_type": "code",
      "source": [
        "# Dicionários podem conter diferentes tipos de valores\n",
        "dic_valor = { 'chave1': 1,\n",
        "              'a': [2,3,[2,3,4]] }\n",
        "dic_valor"
      ],
      "metadata": {
        "id": "9nbEuN8RYYrE",
        "colab": {
          "base_uri": "https://localhost:8080/"
        },
        "outputId": "a6dd4b2a-fc87-459c-ee90-71ba2c05b65b"
      },
      "execution_count": 174,
      "outputs": [
        {
          "output_type": "execute_result",
          "data": {
            "text/plain": [
              "{'a': [2, 3, [2, 3, 4]], 'chave1': 1}"
            ]
          },
          "metadata": {},
          "execution_count": 174
        }
      ]
    },
    {
      "cell_type": "code",
      "source": [
        "dict_aux = {'a': 1,\n",
        "            'b': 2,\n",
        "            'c': 3}\n",
        "\n",
        "print(dict_aux)\n",
        "\n",
        "# Adicionando um novo par de chave-valor ao dicionário com dic['chave'] = valor\n",
        "dict_aux['d'] = 4\n",
        "dict_aux\n",
        "\n",
        "# Alterando valores de um dicionário\n",
        "dict_aux['c'] = [1,2]\n",
        "dict_aux\n",
        "\n",
        "# Deletar valores de um dicionário\n",
        "del dict_aux['b']\n",
        "dict_aux"
      ],
      "metadata": {
        "id": "hFaYrz17ZhoD",
        "colab": {
          "base_uri": "https://localhost:8080/"
        },
        "outputId": "79bdf4e5-0c56-4505-a527-e521b50604a4"
      },
      "execution_count": 175,
      "outputs": [
        {
          "output_type": "stream",
          "name": "stdout",
          "text": [
            "{'a': 1, 'b': 2, 'c': 3}\n"
          ]
        },
        {
          "output_type": "execute_result",
          "data": {
            "text/plain": [
              "{'a': 1, 'c': [1, 2], 'd': 4}"
            ]
          },
          "metadata": {},
          "execution_count": 175
        }
      ]
    },
    {
      "cell_type": "code",
      "source": [
        "dict_aux = {'a': 1,\n",
        "            'b': 2,\n",
        "            'c': 3}\n",
        "\n",
        "print(dict_aux)\n",
        "\n",
        "# Adicionando um novo par de chave-valor ao dicionário com dic['chave'] = valor\n",
        "\n",
        "\n",
        "# Alterando valores de um dicionário com dic['chave'] = novos valores\n",
        "\n",
        "\n",
        "# Removendo valores de um dicionário com del dict['chave']\n",
        "\n"
      ],
      "metadata": {
        "colab": {
          "base_uri": "https://localhost:8080/"
        },
        "id": "IfmTjAZEaMw6",
        "outputId": "94a2e7d2-7b06-4f50-ecbf-37ea709751f0"
      },
      "execution_count": 176,
      "outputs": [
        {
          "output_type": "stream",
          "name": "stdout",
          "text": [
            "{'a': 1, 'b': 2, 'c': 3}\n"
          ]
        }
      ]
    },
    {
      "cell_type": "code",
      "source": [
        "# Retornando os pares chave-valor de um dicionário com dict.items()\n",
        "dict_aux.items()\n",
        "# Retornando chaves de um dicionário com dict.keys()\n",
        "dict_aux.keys()\n",
        "# Retornando os valores de um dicionário com dict.values()\n",
        "dict_aux.values()"
      ],
      "metadata": {
        "id": "gzSkCzItakv0",
        "colab": {
          "base_uri": "https://localhost:8080/"
        },
        "outputId": "cb670364-1e66-4ab3-d1ce-4325454b6c14"
      },
      "execution_count": 177,
      "outputs": [
        {
          "output_type": "execute_result",
          "data": {
            "text/plain": [
              "dict_values([1, 2, 3])"
            ]
          },
          "metadata": {},
          "execution_count": 177
        }
      ]
    },
    {
      "cell_type": "markdown",
      "source": [
        "**Slicing**\n",
        "- Modo de pegar apenas uma 'fatia' de algo"
      ],
      "metadata": {
        "id": "9-vlcSnqa9Lw"
      }
    },
    {
      "cell_type": "code",
      "source": [
        "lst_auxiliar = ['a', 'b', 'c', 'd', 'e']\n",
        "\n",
        "# Retornando do segundo elemento em diante\n",
        "lst_auxiliar[1:]"
      ],
      "metadata": {
        "id": "eDJvwWrZbFJa",
        "colab": {
          "base_uri": "https://localhost:8080/"
        },
        "outputId": "2b274fd8-6db6-427f-ae0c-3416e30f9b6e"
      },
      "execution_count": 178,
      "outputs": [
        {
          "output_type": "execute_result",
          "data": {
            "text/plain": [
              "['b', 'c', 'd', 'e']"
            ]
          },
          "metadata": {},
          "execution_count": 178
        }
      ]
    },
    {
      "cell_type": "code",
      "source": [
        "# Retornando do segundo elemento ao quarto\n",
        "lst_auxiliar[1:4]"
      ],
      "metadata": {
        "id": "k1r2j9ITbRkL",
        "colab": {
          "base_uri": "https://localhost:8080/"
        },
        "outputId": "53de7309-25e4-416b-f0fa-65db3b066052"
      },
      "execution_count": 179,
      "outputs": [
        {
          "output_type": "execute_result",
          "data": {
            "text/plain": [
              "['b', 'c', 'd']"
            ]
          },
          "metadata": {},
          "execution_count": 179
        }
      ]
    },
    {
      "cell_type": "code",
      "source": [
        "# Acessando os últimos 3 elementos\n",
        "lst_auxiliar[-3:]"
      ],
      "metadata": {
        "id": "88fK4ZahbXVN",
        "colab": {
          "base_uri": "https://localhost:8080/"
        },
        "outputId": "35ce2733-1c14-4d22-ec18-00569e3c4db2"
      },
      "execution_count": 180,
      "outputs": [
        {
          "output_type": "execute_result",
          "data": {
            "text/plain": [
              "['c', 'd', 'e']"
            ]
          },
          "metadata": {},
          "execution_count": 180
        }
      ]
    },
    {
      "cell_type": "code",
      "source": [
        "# Acessando do segundo penúltimo elemento com lst[1:-1]\n",
        "lst_auxiliar[1:-1]"
      ],
      "metadata": {
        "id": "3OeywJxRbcMG",
        "colab": {
          "base_uri": "https://localhost:8080/"
        },
        "outputId": "ebd8da4e-b2da-4528-be6a-e335d332759f"
      },
      "execution_count": 181,
      "outputs": [
        {
          "output_type": "execute_result",
          "data": {
            "text/plain": [
              "['b', 'c', 'd']"
            ]
          },
          "metadata": {},
          "execution_count": 181
        }
      ]
    },
    {
      "cell_type": "code",
      "source": [
        "# Fatiando uma string\n",
        "\n",
        "aux = \"Computação\"\n",
        "\n",
        "# Abreviando para Comp\n",
        "aux[0:4]"
      ],
      "metadata": {
        "id": "BS7-D8hlbnyl",
        "colab": {
          "base_uri": "https://localhost:8080/",
          "height": 36
        },
        "outputId": "34907d0e-719c-401a-f34c-7490e0f3774a"
      },
      "execution_count": 182,
      "outputs": [
        {
          "output_type": "execute_result",
          "data": {
            "text/plain": [
              "'Comp'"
            ],
            "application/vnd.google.colaboratory.intrinsic+json": {
              "type": "string"
            }
          },
          "metadata": {},
          "execution_count": 182
        }
      ]
    },
    {
      "cell_type": "markdown",
      "source": [
        "## Estruturas de controle"
      ],
      "metadata": {
        "id": "7smri6U7ccAd"
      }
    },
    {
      "cell_type": "markdown",
      "source": [
        "São os comandos responsáveis por controlar a execução de algo, como na maioria das linguagens que conhecemos.\n",
        "\n",
        "Ex.\n",
        "- if: \"se\" algo acontecer faça isso\n",
        "- elif: \" e além disso se\" algo acontecer faça isso\n",
        "- for: \"por tantas vezes\" faça isso\n",
        "- while: \"enquanto\" algo acontecer faça isso"
      ],
      "metadata": {
        "id": "6tP2lz_xcizY"
      }
    },
    {
      "cell_type": "markdown",
      "source": [
        "Comando if:\n",
        "```Python\n",
        "se (condição for verdadeira):\n",
        "  faça X\n",
        "se não caso (...):\n",
        "  faça Y\n",
        "se não ():\n",
        "  faça Z  \n",
        "```\n",
        "Ex."
      ],
      "metadata": {
        "id": "TwYbvLZ_dpem"
      }
    },
    {
      "cell_type": "code",
      "source": [
        "# Comando if\n",
        "\n",
        "a = 2\n",
        "b = 2\n",
        "c = 3\n",
        "\n",
        "if ( b<a ):\n",
        "  print('Deu certo')\n",
        "elif (b == a):\n",
        "  print('Deu em nada')\n",
        "else:\n",
        "  print('Deu errado')"
      ],
      "metadata": {
        "id": "xk0qwN1odd2s",
        "colab": {
          "base_uri": "https://localhost:8080/"
        },
        "outputId": "454c85f9-d61b-4f5e-9774-ae59ed9720e1"
      },
      "execution_count": 183,
      "outputs": [
        {
          "output_type": "stream",
          "name": "stdout",
          "text": [
            "Deu em nada\n"
          ]
        }
      ]
    },
    {
      "cell_type": "code",
      "source": [
        "# Extra: declarando variáveis com uma condição\n",
        "\n",
        "a = 2\n",
        "\n",
        "if a == 2:\n",
        "  valor = 'Verdadeiro'\n",
        "else:\n",
        "  valor = 'Falso'\n",
        "\n",
        "# Equivale a:\n",
        "\n",
        "valor = 'Verdadeiro' if a == 2 else 'Falso'\n",
        "\n",
        "print(valor)"
      ],
      "metadata": {
        "id": "yMIc5sqnfGUV",
        "colab": {
          "base_uri": "https://localhost:8080/"
        },
        "outputId": "1ccb1a01-afb0-4e49-a2ee-c9fc24818650"
      },
      "execution_count": 184,
      "outputs": [
        {
          "output_type": "stream",
          "name": "stdout",
          "text": [
            "Verdadeiro\n"
          ]
        }
      ]
    },
    {
      "cell_type": "markdown",
      "source": [
        "Comando for:\n",
        "```Python\n",
        "para 'cada x' em 'intervalo':\n",
        "  faça isso\n",
        "```"
      ],
      "metadata": {
        "id": "CTexliSXfZAM"
      }
    },
    {
      "cell_type": "code",
      "source": [
        "# Comando for\n",
        "\n",
        "for numero in range(10):\n",
        "  print('Olá')"
      ],
      "metadata": {
        "colab": {
          "base_uri": "https://localhost:8080/"
        },
        "id": "LCnkkuxpfmug",
        "outputId": "8d013318-6373-45da-ef86-497fdd3b1004"
      },
      "execution_count": 185,
      "outputs": [
        {
          "output_type": "stream",
          "name": "stdout",
          "text": [
            "Olá\n",
            "Olá\n",
            "Olá\n",
            "Olá\n",
            "Olá\n",
            "Olá\n",
            "Olá\n",
            "Olá\n",
            "Olá\n",
            "Olá\n"
          ]
        }
      ]
    },
    {
      "cell_type": "code",
      "source": [
        "lst_aux = [-60, -50, -40, -30, 10, 20, 50, 80, 90, 100]\n",
        "\n",
        "# Utilizando for em listas para imprimir os valores positivos\n",
        "for valor in lst_aux:\n",
        "  print( valor+2 )"
      ],
      "metadata": {
        "id": "BmmkH1K0fzne",
        "colab": {
          "base_uri": "https://localhost:8080/"
        },
        "outputId": "00fd7050-8d43-46eb-a178-b4217cf027c1"
      },
      "execution_count": 186,
      "outputs": [
        {
          "output_type": "stream",
          "name": "stdout",
          "text": [
            "-58\n",
            "-48\n",
            "-38\n",
            "-28\n",
            "12\n",
            "22\n",
            "52\n",
            "82\n",
            "92\n",
            "102\n"
          ]
        }
      ]
    },
    {
      "cell_type": "markdown",
      "source": [
        "**Exercício**\n",
        "\n",
        "Dada a lista [1, 2, 3, 4, 5, 6, 7, 8, 9, 10], adicione os valores pares em uma nova lista e a imprima.\n",
        "\n",
        "Dica: popule a lista auxiliar com os valores pares utilizando um laço 'for' e '.append()'"
      ],
      "metadata": {
        "id": "RzWPei0pgYSI"
      }
    },
    {
      "cell_type": "code",
      "source": [
        "lst = [1, 2, 3, 4, 5, 6, 7, 8, 9, 10]\n",
        "lst_aux = []\n",
        "\n",
        "# Resolva\n",
        "for numero in lst:\n",
        "  if ( numero%2==0 ):\n",
        "    lst_aux.append( numero )\n",
        "\n",
        "lst_aux"
      ],
      "metadata": {
        "id": "Zl0R_a_agoTD",
        "colab": {
          "base_uri": "https://localhost:8080/"
        },
        "outputId": "684f05a9-8944-4f30-d6d5-2221336be182"
      },
      "execution_count": 187,
      "outputs": [
        {
          "output_type": "execute_result",
          "data": {
            "text/plain": [
              "[2, 4, 6, 8, 10]"
            ]
          },
          "metadata": {},
          "execution_count": 187
        }
      ]
    },
    {
      "cell_type": "markdown",
      "source": [
        "**Exercício**\n",
        "\n",
        "Imprima o maior valor da lista [1, 2, 3, 4, 50, 60, 7, 8, 9, 10]"
      ],
      "metadata": {
        "id": "XbWAaYr8kbFH"
      }
    },
    {
      "cell_type": "code",
      "source": [
        "lst = [1, 2, 3, 4, 50, 60, 7, 8, 9, 10]\n",
        "\n",
        "# Resolva\n",
        "max( lst )"
      ],
      "metadata": {
        "id": "2MRHFpNJkhjK",
        "colab": {
          "base_uri": "https://localhost:8080/"
        },
        "outputId": "0ee15e33-c617-4d01-c3ca-2ffb5c77f8ef"
      },
      "execution_count": 188,
      "outputs": [
        {
          "output_type": "execute_result",
          "data": {
            "text/plain": [
              "60"
            ]
          },
          "metadata": {},
          "execution_count": 188
        }
      ]
    },
    {
      "cell_type": "markdown",
      "source": [
        "**Exercício**\n",
        "\n",
        "Imprima a média da lista [1, 2, 3, 4, 5, 6, 7, 8, 9, 10]\n",
        "\n",
        "Lembrando que:\n",
        "média = Soma dos valores / Quantidade de valores"
      ],
      "metadata": {
        "id": "vnPoOqedksb2"
      }
    },
    {
      "cell_type": "code",
      "source": [
        "lst = [1, 2, 3, 4, 5, 6, 7, 8, 9, 10]\n",
        "\n",
        "# Resolva\n",
        "soma = 0\n",
        "\n",
        "for valor in lst:\n",
        "  soma += valor   # soma = soma + valor\n",
        "\n",
        "media = soma / len(lst)\n",
        "media"
      ],
      "metadata": {
        "id": "Dl84ed6sk0J9",
        "colab": {
          "base_uri": "https://localhost:8080/"
        },
        "outputId": "53090dc3-5399-4cf2-b319-d9cd428203e1"
      },
      "execution_count": 189,
      "outputs": [
        {
          "output_type": "execute_result",
          "data": {
            "text/plain": [
              "5.5"
            ]
          },
          "metadata": {},
          "execution_count": 189
        }
      ]
    },
    {
      "cell_type": "markdown",
      "source": [
        "**Exercício**\n",
        "\n",
        "Dada a lista a seguir, imprima somente os nomes que contenham a string 'de'.\n",
        "\n",
        "Dica: utilize o comando in() e uma lista auxiliar vazia para popular com append()"
      ],
      "metadata": {
        "id": "bw1_MisMlXt6"
      }
    },
    {
      "cell_type": "code",
      "source": [
        "# Exemplo de comando in()\n",
        "print('Jo' in 'Joao')\n",
        "print('Za' in 'Joao')\n",
        "print('Za' not in 'Joao')"
      ],
      "metadata": {
        "colab": {
          "base_uri": "https://localhost:8080/"
        },
        "id": "MWRtIhHQl2k0",
        "outputId": "dc6579e5-671f-4785-be7f-81f98c72a2fb"
      },
      "execution_count": 190,
      "outputs": [
        {
          "output_type": "stream",
          "name": "stdout",
          "text": [
            "True\n",
            "False\n",
            "True\n"
          ]
        }
      ]
    },
    {
      "cell_type": "code",
      "source": [
        "lst = ['João de Paula', 'Guimarães de Fernandes', 'Sebastião', 'Dienefer']\n",
        "lst_aux = []\n",
        "\n",
        "# Resolva\n",
        "for nome in lst:\n",
        "  if 'de' in nome:\n",
        "    lst_aux.append(nome)\n",
        "\n",
        "lst_aux"
      ],
      "metadata": {
        "id": "B-uSlTogmAcs",
        "colab": {
          "base_uri": "https://localhost:8080/"
        },
        "outputId": "3697e662-ca4a-49ed-fb0d-3f45ea3753d1"
      },
      "execution_count": 191,
      "outputs": [
        {
          "output_type": "execute_result",
          "data": {
            "text/plain": [
              "['João de Paula', 'Guimarães de Fernandes']"
            ]
          },
          "metadata": {},
          "execution_count": 191
        }
      ]
    },
    {
      "cell_type": "markdown",
      "source": [
        "Comando while:\n",
        "```Python\n",
        "enquanto (condição for verdadeira):\n",
        "  faça isso\n",
        "```"
      ],
      "metadata": {
        "id": "wspkGKf6h-4a"
      }
    },
    {
      "cell_type": "code",
      "source": [
        "# Exemplo de while\n",
        "\n",
        "aux = 0\n",
        "\n",
        "while aux < 20:\n",
        "  aux += 2\n",
        "  print(aux)"
      ],
      "metadata": {
        "id": "wjQhLKzfiOKF",
        "colab": {
          "base_uri": "https://localhost:8080/"
        },
        "outputId": "597d2ff3-8b46-4463-bf57-e7a3437222b9"
      },
      "execution_count": 192,
      "outputs": [
        {
          "output_type": "stream",
          "name": "stdout",
          "text": [
            "2\n",
            "4\n",
            "6\n",
            "8\n",
            "10\n",
            "12\n",
            "14\n",
            "16\n",
            "18\n",
            "20\n"
          ]
        }
      ]
    },
    {
      "cell_type": "code",
      "source": [
        "# Extra: laço for em dicionários\n",
        "\n",
        "dict_aux = {'a': 2,\n",
        "            'b': 'João',\n",
        "            'L': 'Luiz'}\n",
        "\n",
        "for chaveValor in dict_aux.items():\n",
        "  print(f'Chave: {chaveValor[0]}, Valor: {chaveValor[1]}')"
      ],
      "metadata": {
        "id": "QFdZ3uD8mh-S",
        "colab": {
          "base_uri": "https://localhost:8080/"
        },
        "outputId": "59af50be-0a46-49b8-e616-7b2e76856852"
      },
      "execution_count": 193,
      "outputs": [
        {
          "output_type": "stream",
          "name": "stdout",
          "text": [
            "Chave: a, Valor: 2\n",
            "Chave: b, Valor: João\n",
            "Chave: L, Valor: Luiz\n"
          ]
        }
      ]
    },
    {
      "cell_type": "code",
      "source": [
        "a,b = 2,3\n",
        "print(b)"
      ],
      "metadata": {
        "id": "DW8Z37VPZ-Zs",
        "outputId": "516b5b5e-de44-4ae5-80a4-7ba8d750be1f",
        "colab": {
          "base_uri": "https://localhost:8080/"
        }
      },
      "execution_count": 194,
      "outputs": [
        {
          "output_type": "stream",
          "name": "stdout",
          "text": [
            "3\n"
          ]
        }
      ]
    },
    {
      "cell_type": "markdown",
      "source": [
        "## Comprehension"
      ],
      "metadata": {
        "id": "iTbp-wDAtxeN"
      }
    },
    {
      "cell_type": "markdown",
      "source": [
        "Comprehension é um recurso que permite criar uma sequência avaliada com base em outra sequência.\n",
        "\n",
        "É uma maneira eficiente de se trabalhar ✅ (melhor em termos de processamento do que utilizar um laço for)"
      ],
      "metadata": {
        "id": "Wo4Tr_Pl7bXa"
      }
    },
    {
      "cell_type": "code",
      "source": [
        "# Exemplo criando uma lista de modo \"convencional\" onde a lista vem de uma outra lista multiplicada por 3\n",
        "\n",
        "lista_1 = [1,2,3,4,5]\n",
        "list_vezes_3 = []\n",
        "\n",
        "for num in lista_1:\n",
        "  list_vezes_3.append( num*3 )\n",
        "\n",
        "print(list_vezes_3)"
      ],
      "metadata": {
        "colab": {
          "base_uri": "https://localhost:8080/"
        },
        "id": "sN_z28jp71mp",
        "outputId": "2bfb4599-20f9-4b0e-ab6a-077e25046c0c"
      },
      "execution_count": 195,
      "outputs": [
        {
          "output_type": "stream",
          "name": "stdout",
          "text": [
            "[3, 6, 9, 12, 15]\n"
          ]
        }
      ]
    },
    {
      "cell_type": "code",
      "source": [
        "# Mesmo exemplo utilizando comprehension\n",
        "\n",
        "lista_1 = [1,2,3,4,5]\n",
        "\n",
        "list_vezes_3_comprehension = [ num*3 for num in lista_1 ]\n",
        "\n",
        "print(list_vezes_3_comprehension)"
      ],
      "metadata": {
        "colab": {
          "base_uri": "https://localhost:8080/"
        },
        "id": "sVXkOrjI8d1d",
        "outputId": "e13cc78e-2667-4166-e9a9-1f09003ca7cf"
      },
      "execution_count": 196,
      "outputs": [
        {
          "output_type": "stream",
          "name": "stdout",
          "text": [
            "[3, 6, 9, 12, 15]\n"
          ]
        }
      ]
    },
    {
      "cell_type": "code",
      "source": [
        "# Utilizando comprehension com \"if\" e \"else\"\n",
        "\n",
        "lista_1 = [1,2,3,4,5]\n",
        "\n",
        "# Selecionando apenas os números pares e colocando \"impar\" para os ímpares\n",
        "\n",
        "lista_1_par = [ num if num%2==0 else \"impar\" for num in lista_1 ]\n",
        "\n",
        "lista_1_par"
      ],
      "metadata": {
        "colab": {
          "base_uri": "https://localhost:8080/"
        },
        "id": "T-PvOOQ99JOW",
        "outputId": "6a6dce44-cb14-4271-9c8a-6630dc00a8e2"
      },
      "execution_count": 197,
      "outputs": [
        {
          "output_type": "execute_result",
          "data": {
            "text/plain": [
              "['impar', 2, 'impar', 4, 'impar']"
            ]
          },
          "metadata": {},
          "execution_count": 197
        }
      ]
    },
    {
      "cell_type": "markdown",
      "source": [
        "**Exercicio**\n",
        "\n",
        "Dada a lista [1,2,3,4,5,6,7,8,9,10]: <Br><Br>\n",
        "Se o elemento for par -> multiplique por 2 e adicione 1 ( n*2 + 1 ) <Br>\n",
        "Se o elemento for ímpar -> multiplique por 2"
      ],
      "metadata": {
        "id": "n745T9wS-173"
      }
    },
    {
      "cell_type": "code",
      "source": [
        "lista = [1,2,3,4,5,6,7,8,9,10]\n",
        "\n",
        "# Resolva\n",
        "\n",
        "lista_modificada = [ (num*2) + 1 if num%2==0 else num*2 for num in lista ]\n",
        "lista_modificada"
      ],
      "metadata": {
        "id": "fpBIpUNB_X3i",
        "colab": {
          "base_uri": "https://localhost:8080/"
        },
        "outputId": "831e2a83-9012-4c99-bd6b-a751c75f638f"
      },
      "execution_count": 198,
      "outputs": [
        {
          "output_type": "execute_result",
          "data": {
            "text/plain": [
              "[2, 5, 6, 9, 10, 13, 14, 17, 18, 21]"
            ]
          },
          "metadata": {},
          "execution_count": 198
        }
      ]
    },
    {
      "cell_type": "code",
      "source": [
        ""
      ],
      "metadata": {
        "id": "FHb2iFKxKSDc"
      },
      "execution_count": 198,
      "outputs": []
    },
    {
      "cell_type": "markdown",
      "source": [
        "## Funções"
      ],
      "metadata": {
        "id": "hKaOtMX2Ixtj"
      }
    },
    {
      "cell_type": "markdown",
      "source": [
        "Uma função é uma espécie de \"máquina geradora\".\n",
        "\n",
        "- É definida no python pelo comando **def**\n",
        "\n",
        "Por exemplo, se você colocar laranjas em um espremedor de frutas, ele retornará um Suco.\n",
        "\n",
        "Ou seja, ao colocarmos o **parâmetro** frutas (no caso Laranja) na **função** espremedor, é retornado um **objeto** Suco.\n",
        "\n",
        "Neste caso:\n",
        "- Função: espremedor\n",
        "- Parâmetro: laranjas\n",
        "- Objeto resultado: Suco\n",
        "\n",
        "<img src=\"https://cf.shopee.com.br/file/e8a29d6873abc9e4d196ad2254504e53_tn\" width=30%>"
      ],
      "metadata": {
        "id": "haSIRVgEIzFM"
      }
    },
    {
      "cell_type": "code",
      "source": [
        "# Exemplo\n",
        "\n",
        "def espremedor(fruta):\n",
        "  suco = 'Suco de ' + fruta\n",
        "  return suco\n",
        "\n",
        "print( espremedor(\"tamarindo\") )"
      ],
      "metadata": {
        "colab": {
          "base_uri": "https://localhost:8080/"
        },
        "id": "IA7RG0M7Ki2H",
        "outputId": "fe7e4f75-bb97-47f7-dd8d-5d4d1f08e29f"
      },
      "execution_count": 199,
      "outputs": [
        {
          "output_type": "stream",
          "name": "stdout",
          "text": [
            "Suco de tamarindo\n"
          ]
        }
      ]
    },
    {
      "cell_type": "code",
      "source": [
        "# Podemos deixar valores default para uma função com def func(suco = 'limao')\n"
      ],
      "metadata": {
        "id": "U9vaUUmBLMRK"
      },
      "execution_count": 200,
      "outputs": []
    },
    {
      "cell_type": "code",
      "source": [
        "# Passando uma função como parâmetro para outra função"
      ],
      "metadata": {
        "id": "d7lc4pEkLtDX"
      },
      "execution_count": 201,
      "outputs": []
    },
    {
      "cell_type": "markdown",
      "source": [
        "**Exercício**\n",
        "\n",
        "Faça uma função que recebe como parâmetros um nome de aluno X, sua idade Y e retorne quantos anos faltam para o aluno ter 80 anos.\n",
        "\n",
        "Ex. \"Me chamo Beatriz, tenho 28 anos e faltam 52 anos para que eu tenha 80 anos.\"\n",
        "\n",
        "Caso queira, tente utilizar a função input() para receber os valores, por exemplo:\n",
        "```python\n",
        "idade = int( input(\"Digite a idade: \") )\n",
        "```"
      ],
      "metadata": {
        "id": "XN0Afd2BL32z"
      }
    },
    {
      "cell_type": "code",
      "source": [
        "# Resolva\n",
        "\n",
        "# idade = int( input(\"Digite sua idade: \"))\n",
        "# nome = input(\"Digite seu nome: \")\n",
        "\n",
        "# print(f'Me chamo {nome}, tenho {idade} e faltam {80-idade} para chegar aos 80 anos.')"
      ],
      "metadata": {
        "id": "mv5F84W5MMbO"
      },
      "execution_count": 202,
      "outputs": []
    },
    {
      "cell_type": "markdown",
      "source": [
        "## Lambda"
      ],
      "metadata": {
        "id": "GtBueta3mRqr"
      }
    },
    {
      "cell_type": "markdown",
      "source": [
        "A função lambda em python também é chamada de função anônima (sem nome) e pode ser escrita no momento de utilização, não sendo necessário escrevê-la anteriormente\n",
        "\n",
        "Ex.<br>\n",
        "O seguinte código:\n",
        "```python\n",
        "def soma_dois_numeros(num1, num2):\n",
        "  return num1+num2\n",
        "print( soma_dois_numeros(2,5) )\n",
        ">>>7\n",
        "```\n",
        "Poderia ser escrito da seguinte forma utilizando lambda:\n",
        "```python\n",
        "resultado = lambda num1, num2: num1 + num2\n",
        "print( resultado(2,5) )\n",
        ">>> 7\n",
        "```"
      ],
      "metadata": {
        "id": "NdighGBbmUXd"
      }
    },
    {
      "cell_type": "code",
      "source": [
        "# Utilizando a função lambda para comprehension\n",
        "\n",
        "# Escrevendo uma função que descreve se o número é positivo ou negativo e então usando-a em uma comprehension\n",
        "\n",
        "lista_aux = [10,-2,4,0,3,-2]\n",
        "\n",
        "is_par = lambda x: 'positivo' if x>0 else 'negativo'\n",
        "\n",
        "pares = [ is_par(y) for y in lista_aux ]\n",
        "pares\n",
        "\n",
        "# Perceba que o 0 está sendo descrito como negativo"
      ],
      "metadata": {
        "id": "WVCnWJOynJKK",
        "outputId": "7998ca3d-eacc-4f36-bcf6-c54e4d0a5c0c",
        "colab": {
          "base_uri": "https://localhost:8080/"
        }
      },
      "execution_count": 203,
      "outputs": [
        {
          "output_type": "execute_result",
          "data": {
            "text/plain": [
              "['positivo', 'negativo', 'positivo', 'negativo', 'positivo', 'negativo']"
            ]
          },
          "metadata": {},
          "execution_count": 203
        }
      ]
    },
    {
      "cell_type": "code",
      "source": [
        "# Adicionando o caso neutro na função lambda\n",
        "\n",
        "lista_aux = [10,-2,4,0,3,-2]\n",
        "\n",
        "is_par = lambda x: 'positivo' if x>0 else( 'neutro' if x==0 else 'negativo' )\n",
        "\n",
        "pares = [ is_par(y) for y in lista_aux ]\n",
        "pares"
      ],
      "metadata": {
        "id": "PHD8vJBXovqi",
        "outputId": "82cd0d91-cfe7-4e4b-f084-8a1ceef6d169",
        "colab": {
          "base_uri": "https://localhost:8080/"
        }
      },
      "execution_count": 204,
      "outputs": [
        {
          "output_type": "execute_result",
          "data": {
            "text/plain": [
              "['positivo', 'negativo', 'positivo', 'neutro', 'positivo', 'negativo']"
            ]
          },
          "metadata": {},
          "execution_count": 204
        }
      ]
    },
    {
      "cell_type": "markdown",
      "source": [
        "**Exercício**\n",
        "\n",
        "Geraldo é um rapaz supersticioso e acredita que toda palavra que começa em vogal [a,e,i,o,u] deveria ser escrita em letra maiúscula antes de ser impressa em sua impressora amaldiçoada do ano de 1780.\n",
        "\n",
        "Ele está cansado de alterar todos os textos de seus trabalhos, você consegue ajudá-lo automatizando o processo?\n",
        "\n",
        "<img src=\"http://lh4.ggpht.com/-_x9PXMjU0LQ/TmtZaKHESvI/AAAAAAAAB0A/71bjy-376mA/Impressora_thumb%25255B1%25255D.jpg?imgmax=800\" width=30%>\n",
        "\n",
        "Exemplo de entrada:<Br>\n",
        "*'Este ambiente de inovação jamais abrirá as portas para mim se eu não estudar ...'*\n",
        "\n",
        "Exemplo de saída:<Br>\n",
        "*'Este Ambiente de Inovação jamais Abrirá As portas para mim se Eu não Estudar ...'*"
      ],
      "metadata": {
        "id": "_8qU3E10pbOe"
      }
    },
    {
      "cell_type": "code",
      "source": [
        "str_split = 'Olá mundo'\n",
        "\n",
        "str_split.split( sep = ' ' )"
      ],
      "metadata": {
        "id": "0TY181gMIgCQ",
        "outputId": "4f46922a-965a-4484-a24c-f314abaf293e",
        "colab": {
          "base_uri": "https://localhost:8080/"
        }
      },
      "execution_count": 205,
      "outputs": [
        {
          "output_type": "execute_result",
          "data": {
            "text/plain": [
              "['Olá', 'mundo']"
            ]
          },
          "metadata": {},
          "execution_count": 205
        }
      ]
    },
    {
      "cell_type": "code",
      "source": [
        "# Dica: usando o split para separar a frase com str.split(sep='')\n",
        "\n",
        "# Pergunta Vinicius: \"Como separo uma frase por uma palavra? Por exemplo,\n",
        "# separar a frase 'olá meu nome é joão' até o \"nome\"\n",
        "\n",
        "str_exemplo = 'Olá meu nome é João'\n",
        "\n",
        "str_exemplo.split(sep = 'nome')[0].rstrip()"
      ],
      "metadata": {
        "id": "J_UXzYx6tmlP",
        "outputId": "9b3c53c0-2ed2-4859-8222-4d714bc5b7b8",
        "colab": {
          "base_uri": "https://localhost:8080/",
          "height": 36
        }
      },
      "execution_count": 206,
      "outputs": [
        {
          "output_type": "execute_result",
          "data": {
            "text/plain": [
              "'Olá meu'"
            ],
            "application/vnd.google.colaboratory.intrinsic+json": {
              "type": "string"
            }
          },
          "metadata": {},
          "execution_count": 206
        }
      ]
    },
    {
      "cell_type": "code",
      "source": [
        "# Exemplo utilizando função def\n",
        "\n",
        "frase = 'Este ambiente de inovação jamais abrirá as portas para mim se eu não estudar ...'   \n",
        "palavras_da_frase = frase.split( sep = ' ' )        # retorna uma lista com palavras separadas por espaço na frase exemplo\n",
        "lista_auxiliar = []                                 # lista vazia para armazenar as palavras modificadas dentro da função\n",
        "\n",
        "def geraldo_aliviado(lista):\n",
        "  for palavra in lista:\n",
        "    if palavra[0] in 'aeiou':\n",
        "      lista_auxiliar.append( palavra.title() )      # retorna a palavra com a primeira letra maiúscula\n",
        "    else:\n",
        "      lista_auxiliar.append( palavra )\n",
        "\n",
        "geraldo_aliviado(palavras_da_frase)                 # utilizando a função para deixar as vogais iniciais em maiúsculo\n",
        "\n",
        "lista_auxiliar = ' '.join(lista_auxiliar)           # transformando a lista auxiliar em uma única string\n",
        "\n",
        "print(lista_auxiliar)"
      ],
      "metadata": {
        "colab": {
          "base_uri": "https://localhost:8080/"
        },
        "id": "NKJ5TcjurLjm",
        "outputId": "5b97154a-45c5-4bc5-d9fa-3403ca1107c3"
      },
      "execution_count": 207,
      "outputs": [
        {
          "output_type": "stream",
          "name": "stdout",
          "text": [
            "Este Ambiente de Inovação jamais Abrirá As portas para mim se Eu não Estudar ...\n"
          ]
        }
      ]
    },
    {
      "cell_type": "code",
      "source": [
        "# Agora resolva utilizando a função lambda e comprehension\n",
        "\n",
        "frase = 'Este ambiente de inovação jamais abrirá as portas para mim se eu não estudar ...'\n",
        "palavras_da_frase = frase.split( sep = ' ' )\n",
        "\n",
        "# Resolva\n",
        "f_lambda = lambda x: x.title() if x[0] in 'aeiou' else x\n",
        "\n",
        "frase_modificada = ' '.join( [ f_lambda(y) for y in palavras_da_frase ] )\n",
        "\n",
        "print(frase_modificada)"
      ],
      "metadata": {
        "colab": {
          "base_uri": "https://localhost:8080/"
        },
        "id": "a6gGhrWWqJzb",
        "outputId": "8665e0f0-be6f-4951-ecc0-60c41c6ba295"
      },
      "execution_count": 208,
      "outputs": [
        {
          "output_type": "stream",
          "name": "stdout",
          "text": [
            "Este Ambiente de Inovação jamais Abrirá As portas para mim se Eu não Estudar ...\n"
          ]
        }
      ]
    },
    {
      "cell_type": "markdown",
      "source": [
        "# DESAFIO DO DIA\n",
        "\n",
        "Faça uma função que retorne os números primos de 1 a 100"
      ],
      "metadata": {
        "id": "IybNIB0t3woS"
      }
    },
    {
      "cell_type": "code",
      "source": [
        "# Resolva\n",
        "\n",
        "aux = [ 2,3,5,7 ]\n",
        "\n",
        "for i in range(7,100,2):\n",
        "  if( i%3 != 0 and i%5 != 0 and i%7 != 0 ):\n",
        "    aux.append(i)\n",
        "\n",
        "print(aux)"
      ],
      "metadata": {
        "id": "05WLcfFbx2Oo",
        "colab": {
          "base_uri": "https://localhost:8080/"
        },
        "outputId": "61353ef6-99f5-4f7b-c7be-4d5ca6c3f50a"
      },
      "execution_count": 209,
      "outputs": [
        {
          "output_type": "stream",
          "name": "stdout",
          "text": [
            "[2, 3, 5, 7, 11, 13, 17, 19, 23, 29, 31, 37, 41, 43, 47, 53, 59, 61, 67, 71, 73, 79, 83, 89, 97]\n"
          ]
        }
      ]
    },
    {
      "cell_type": "markdown",
      "source": [
        "# AULA 02"
      ],
      "metadata": {
        "id": "TUL7s78PumoH"
      }
    },
    {
      "cell_type": "markdown",
      "source": [
        "## Imports"
      ],
      "metadata": {
        "id": "ALrvcY7UuyFE"
      }
    },
    {
      "cell_type": "markdown",
      "source": [
        "Um dos maiores poderes da linguagem Python! 🥇\n",
        "\n",
        "Um \"import\" nos permite \"trazer\" ao projeto várias funções previamente escritas por outros programadores contendo módulos e bibliotecas.\n",
        "- Semelhante ao `#include <stdio>` ou `#include \"customlib.h\"` na linguagem C\n",
        "\n",
        "<img src='https://memegenerator.net/img/instances/60968180.jpg' width=30%>"
      ],
      "metadata": {
        "id": "WkcbGP0OK8BO"
      }
    },
    {
      "cell_type": "code",
      "source": [
        "# Realizando o import do pacote numpy com o comando \"import\"\n",
        "# Obs: Um pacote é um conjunto de vários módulos reunidos\n",
        "import numpy\n",
        "\n",
        "# Realizando o import do pacote numpy e do modulo statistics com o comando \"from\"\n",
        "from matplotlib import pyplot\n",
        "import matplotlib.pyplot"
      ],
      "metadata": {
        "id": "1bqGWHu2L_it"
      },
      "execution_count": 210,
      "outputs": []
    },
    {
      "cell_type": "code",
      "source": [
        "# Listando os módulos presentes no numpy com dir(numpy)\n",
        "dir( numpy )"
      ],
      "metadata": {
        "id": "6KA9QaIHcmo7",
        "outputId": "db4b4b0d-38ea-454d-b3f6-5c6d29445d2c",
        "colab": {
          "base_uri": "https://localhost:8080/"
        }
      },
      "execution_count": 211,
      "outputs": [
        {
          "output_type": "execute_result",
          "data": {
            "text/plain": [
              "['ALLOW_THREADS',\n",
              " 'AxisError',\n",
              " 'BUFSIZE',\n",
              " 'Bytes0',\n",
              " 'CLIP',\n",
              " 'ComplexWarning',\n",
              " 'DataSource',\n",
              " 'Datetime64',\n",
              " 'ERR_CALL',\n",
              " 'ERR_DEFAULT',\n",
              " 'ERR_IGNORE',\n",
              " 'ERR_LOG',\n",
              " 'ERR_PRINT',\n",
              " 'ERR_RAISE',\n",
              " 'ERR_WARN',\n",
              " 'FLOATING_POINT_SUPPORT',\n",
              " 'FPE_DIVIDEBYZERO',\n",
              " 'FPE_INVALID',\n",
              " 'FPE_OVERFLOW',\n",
              " 'FPE_UNDERFLOW',\n",
              " 'False_',\n",
              " 'Inf',\n",
              " 'Infinity',\n",
              " 'MAXDIMS',\n",
              " 'MAY_SHARE_BOUNDS',\n",
              " 'MAY_SHARE_EXACT',\n",
              " 'MachAr',\n",
              " 'ModuleDeprecationWarning',\n",
              " 'NAN',\n",
              " 'NINF',\n",
              " 'NZERO',\n",
              " 'NaN',\n",
              " 'PINF',\n",
              " 'PZERO',\n",
              " 'RAISE',\n",
              " 'RankWarning',\n",
              " 'SHIFT_DIVIDEBYZERO',\n",
              " 'SHIFT_INVALID',\n",
              " 'SHIFT_OVERFLOW',\n",
              " 'SHIFT_UNDERFLOW',\n",
              " 'ScalarType',\n",
              " 'Str0',\n",
              " 'Tester',\n",
              " 'TooHardError',\n",
              " 'True_',\n",
              " 'UFUNC_BUFSIZE_DEFAULT',\n",
              " 'UFUNC_PYVALS_NAME',\n",
              " 'Uint64',\n",
              " 'VisibleDeprecationWarning',\n",
              " 'WRAP',\n",
              " '_NoValue',\n",
              " '_UFUNC_API',\n",
              " '__NUMPY_SETUP__',\n",
              " '__all__',\n",
              " '__builtins__',\n",
              " '__cached__',\n",
              " '__config__',\n",
              " '__deprecated_attrs__',\n",
              " '__dir__',\n",
              " '__doc__',\n",
              " '__expired_functions__',\n",
              " '__file__',\n",
              " '__getattr__',\n",
              " '__git_version__',\n",
              " '__loader__',\n",
              " '__name__',\n",
              " '__package__',\n",
              " '__path__',\n",
              " '__spec__',\n",
              " '__version__',\n",
              " '_add_newdoc_ufunc',\n",
              " '_distributor_init',\n",
              " '_financial_names',\n",
              " '_globals',\n",
              " '_mat',\n",
              " '_pytesttester',\n",
              " '_version',\n",
              " 'abs',\n",
              " 'absolute',\n",
              " 'add',\n",
              " 'add_docstring',\n",
              " 'add_newdoc',\n",
              " 'add_newdoc_ufunc',\n",
              " 'alen',\n",
              " 'all',\n",
              " 'allclose',\n",
              " 'alltrue',\n",
              " 'amax',\n",
              " 'amin',\n",
              " 'angle',\n",
              " 'any',\n",
              " 'append',\n",
              " 'apply_along_axis',\n",
              " 'apply_over_axes',\n",
              " 'arange',\n",
              " 'arccos',\n",
              " 'arccosh',\n",
              " 'arcsin',\n",
              " 'arcsinh',\n",
              " 'arctan',\n",
              " 'arctan2',\n",
              " 'arctanh',\n",
              " 'argmax',\n",
              " 'argmin',\n",
              " 'argpartition',\n",
              " 'argsort',\n",
              " 'argwhere',\n",
              " 'around',\n",
              " 'array',\n",
              " 'array2string',\n",
              " 'array_equal',\n",
              " 'array_equiv',\n",
              " 'array_repr',\n",
              " 'array_split',\n",
              " 'array_str',\n",
              " 'asanyarray',\n",
              " 'asarray',\n",
              " 'asarray_chkfinite',\n",
              " 'ascontiguousarray',\n",
              " 'asfarray',\n",
              " 'asfortranarray',\n",
              " 'asmatrix',\n",
              " 'asscalar',\n",
              " 'atleast_1d',\n",
              " 'atleast_2d',\n",
              " 'atleast_3d',\n",
              " 'average',\n",
              " 'bartlett',\n",
              " 'base_repr',\n",
              " 'binary_repr',\n",
              " 'bincount',\n",
              " 'bitwise_and',\n",
              " 'bitwise_not',\n",
              " 'bitwise_or',\n",
              " 'bitwise_xor',\n",
              " 'blackman',\n",
              " 'block',\n",
              " 'bmat',\n",
              " 'bool8',\n",
              " 'bool_',\n",
              " 'broadcast',\n",
              " 'broadcast_arrays',\n",
              " 'broadcast_shapes',\n",
              " 'broadcast_to',\n",
              " 'busday_count',\n",
              " 'busday_offset',\n",
              " 'busdaycalendar',\n",
              " 'byte',\n",
              " 'byte_bounds',\n",
              " 'bytes0',\n",
              " 'bytes_',\n",
              " 'c_',\n",
              " 'can_cast',\n",
              " 'cast',\n",
              " 'cbrt',\n",
              " 'cdouble',\n",
              " 'ceil',\n",
              " 'cfloat',\n",
              " 'char',\n",
              " 'character',\n",
              " 'chararray',\n",
              " 'choose',\n",
              " 'clip',\n",
              " 'clongdouble',\n",
              " 'clongfloat',\n",
              " 'column_stack',\n",
              " 'common_type',\n",
              " 'compare_chararrays',\n",
              " 'compat',\n",
              " 'complex128',\n",
              " 'complex256',\n",
              " 'complex64',\n",
              " 'complex_',\n",
              " 'complexfloating',\n",
              " 'compress',\n",
              " 'concatenate',\n",
              " 'conj',\n",
              " 'conjugate',\n",
              " 'convolve',\n",
              " 'copy',\n",
              " 'copysign',\n",
              " 'copyto',\n",
              " 'core',\n",
              " 'corrcoef',\n",
              " 'correlate',\n",
              " 'cos',\n",
              " 'cosh',\n",
              " 'count_nonzero',\n",
              " 'cov',\n",
              " 'cross',\n",
              " 'csingle',\n",
              " 'ctypeslib',\n",
              " 'cumprod',\n",
              " 'cumproduct',\n",
              " 'cumsum',\n",
              " 'datetime64',\n",
              " 'datetime_as_string',\n",
              " 'datetime_data',\n",
              " 'deg2rad',\n",
              " 'degrees',\n",
              " 'delete',\n",
              " 'deprecate',\n",
              " 'deprecate_with_doc',\n",
              " 'diag',\n",
              " 'diag_indices',\n",
              " 'diag_indices_from',\n",
              " 'diagflat',\n",
              " 'diagonal',\n",
              " 'diff',\n",
              " 'digitize',\n",
              " 'disp',\n",
              " 'divide',\n",
              " 'divmod',\n",
              " 'dot',\n",
              " 'double',\n",
              " 'dsplit',\n",
              " 'dstack',\n",
              " 'dtype',\n",
              " 'e',\n",
              " 'ediff1d',\n",
              " 'einsum',\n",
              " 'einsum_path',\n",
              " 'emath',\n",
              " 'empty',\n",
              " 'empty_like',\n",
              " 'equal',\n",
              " 'errstate',\n",
              " 'euler_gamma',\n",
              " 'exp',\n",
              " 'exp2',\n",
              " 'expand_dims',\n",
              " 'expm1',\n",
              " 'extract',\n",
              " 'eye',\n",
              " 'fabs',\n",
              " 'fastCopyAndTranspose',\n",
              " 'fft',\n",
              " 'fill_diagonal',\n",
              " 'find_common_type',\n",
              " 'finfo',\n",
              " 'fix',\n",
              " 'flatiter',\n",
              " 'flatnonzero',\n",
              " 'flexible',\n",
              " 'flip',\n",
              " 'fliplr',\n",
              " 'flipud',\n",
              " 'float128',\n",
              " 'float16',\n",
              " 'float32',\n",
              " 'float64',\n",
              " 'float_',\n",
              " 'float_power',\n",
              " 'floating',\n",
              " 'floor',\n",
              " 'floor_divide',\n",
              " 'fmax',\n",
              " 'fmin',\n",
              " 'fmod',\n",
              " 'format_float_positional',\n",
              " 'format_float_scientific',\n",
              " 'format_parser',\n",
              " 'frexp',\n",
              " 'frombuffer',\n",
              " 'fromfile',\n",
              " 'fromfunction',\n",
              " 'fromiter',\n",
              " 'frompyfunc',\n",
              " 'fromregex',\n",
              " 'fromstring',\n",
              " 'full',\n",
              " 'full_like',\n",
              " 'gcd',\n",
              " 'generic',\n",
              " 'genfromtxt',\n",
              " 'geomspace',\n",
              " 'get_array_wrap',\n",
              " 'get_include',\n",
              " 'get_printoptions',\n",
              " 'getbufsize',\n",
              " 'geterr',\n",
              " 'geterrcall',\n",
              " 'geterrobj',\n",
              " 'gradient',\n",
              " 'greater',\n",
              " 'greater_equal',\n",
              " 'half',\n",
              " 'hamming',\n",
              " 'hanning',\n",
              " 'heaviside',\n",
              " 'histogram',\n",
              " 'histogram2d',\n",
              " 'histogram_bin_edges',\n",
              " 'histogramdd',\n",
              " 'hsplit',\n",
              " 'hstack',\n",
              " 'hypot',\n",
              " 'i0',\n",
              " 'identity',\n",
              " 'iinfo',\n",
              " 'imag',\n",
              " 'in1d',\n",
              " 'index_exp',\n",
              " 'indices',\n",
              " 'inexact',\n",
              " 'inf',\n",
              " 'info',\n",
              " 'infty',\n",
              " 'inner',\n",
              " 'insert',\n",
              " 'int0',\n",
              " 'int16',\n",
              " 'int32',\n",
              " 'int64',\n",
              " 'int8',\n",
              " 'int_',\n",
              " 'intc',\n",
              " 'integer',\n",
              " 'interp',\n",
              " 'intersect1d',\n",
              " 'intp',\n",
              " 'invert',\n",
              " 'is_busday',\n",
              " 'isclose',\n",
              " 'iscomplex',\n",
              " 'iscomplexobj',\n",
              " 'isfinite',\n",
              " 'isfortran',\n",
              " 'isin',\n",
              " 'isinf',\n",
              " 'isnan',\n",
              " 'isnat',\n",
              " 'isneginf',\n",
              " 'isposinf',\n",
              " 'isreal',\n",
              " 'isrealobj',\n",
              " 'isscalar',\n",
              " 'issctype',\n",
              " 'issubclass_',\n",
              " 'issubdtype',\n",
              " 'issubsctype',\n",
              " 'iterable',\n",
              " 'ix_',\n",
              " 'kaiser',\n",
              " 'kernel_version',\n",
              " 'kron',\n",
              " 'lcm',\n",
              " 'ldexp',\n",
              " 'left_shift',\n",
              " 'less',\n",
              " 'less_equal',\n",
              " 'lexsort',\n",
              " 'lib',\n",
              " 'linalg',\n",
              " 'linspace',\n",
              " 'little_endian',\n",
              " 'load',\n",
              " 'loads',\n",
              " 'loadtxt',\n",
              " 'log',\n",
              " 'log10',\n",
              " 'log1p',\n",
              " 'log2',\n",
              " 'logaddexp',\n",
              " 'logaddexp2',\n",
              " 'logical_and',\n",
              " 'logical_not',\n",
              " 'logical_or',\n",
              " 'logical_xor',\n",
              " 'logspace',\n",
              " 'longcomplex',\n",
              " 'longdouble',\n",
              " 'longfloat',\n",
              " 'longlong',\n",
              " 'lookfor',\n",
              " 'ma',\n",
              " 'mafromtxt',\n",
              " 'mask_indices',\n",
              " 'mat',\n",
              " 'math',\n",
              " 'matmul',\n",
              " 'matrix',\n",
              " 'matrixlib',\n",
              " 'max',\n",
              " 'maximum',\n",
              " 'maximum_sctype',\n",
              " 'may_share_memory',\n",
              " 'mean',\n",
              " 'median',\n",
              " 'memmap',\n",
              " 'meshgrid',\n",
              " 'mgrid',\n",
              " 'min',\n",
              " 'min_scalar_type',\n",
              " 'minimum',\n",
              " 'mintypecode',\n",
              " 'mod',\n",
              " 'modf',\n",
              " 'moveaxis',\n",
              " 'msort',\n",
              " 'multiply',\n",
              " 'nan',\n",
              " 'nan_to_num',\n",
              " 'nanargmax',\n",
              " 'nanargmin',\n",
              " 'nancumprod',\n",
              " 'nancumsum',\n",
              " 'nanmax',\n",
              " 'nanmean',\n",
              " 'nanmedian',\n",
              " 'nanmin',\n",
              " 'nanpercentile',\n",
              " 'nanprod',\n",
              " 'nanquantile',\n",
              " 'nanstd',\n",
              " 'nansum',\n",
              " 'nanvar',\n",
              " 'nbytes',\n",
              " 'ndarray',\n",
              " 'ndenumerate',\n",
              " 'ndfromtxt',\n",
              " 'ndim',\n",
              " 'ndindex',\n",
              " 'nditer',\n",
              " 'negative',\n",
              " 'nested_iters',\n",
              " 'newaxis',\n",
              " 'nextafter',\n",
              " 'nonzero',\n",
              " 'not_equal',\n",
              " 'numarray',\n",
              " 'number',\n",
              " 'obj2sctype',\n",
              " 'object0',\n",
              " 'object_',\n",
              " 'ogrid',\n",
              " 'oldnumeric',\n",
              " 'ones',\n",
              " 'ones_like',\n",
              " 'os',\n",
              " 'outer',\n",
              " 'packbits',\n",
              " 'pad',\n",
              " 'partition',\n",
              " 'percentile',\n",
              " 'pi',\n",
              " 'piecewise',\n",
              " 'place',\n",
              " 'poly',\n",
              " 'poly1d',\n",
              " 'polyadd',\n",
              " 'polyder',\n",
              " 'polydiv',\n",
              " 'polyfit',\n",
              " 'polyint',\n",
              " 'polymul',\n",
              " 'polynomial',\n",
              " 'polysub',\n",
              " 'polyval',\n",
              " 'positive',\n",
              " 'power',\n",
              " 'printoptions',\n",
              " 'prod',\n",
              " 'product',\n",
              " 'promote_types',\n",
              " 'ptp',\n",
              " 'put',\n",
              " 'put_along_axis',\n",
              " 'putmask',\n",
              " 'quantile',\n",
              " 'r_',\n",
              " 'rad2deg',\n",
              " 'radians',\n",
              " 'random',\n",
              " 'ravel',\n",
              " 'ravel_multi_index',\n",
              " 'real',\n",
              " 'real_if_close',\n",
              " 'rec',\n",
              " 'recarray',\n",
              " 'recfromcsv',\n",
              " 'recfromtxt',\n",
              " 'reciprocal',\n",
              " 'record',\n",
              " 'remainder',\n",
              " 'repeat',\n",
              " 'require',\n",
              " 'reshape',\n",
              " 'resize',\n",
              " 'result_type',\n",
              " 'right_shift',\n",
              " 'rint',\n",
              " 'roll',\n",
              " 'rollaxis',\n",
              " 'roots',\n",
              " 'rot90',\n",
              " 'round',\n",
              " 'round_',\n",
              " 'row_stack',\n",
              " 's_',\n",
              " 'safe_eval',\n",
              " 'save',\n",
              " 'savetxt',\n",
              " 'savez',\n",
              " 'savez_compressed',\n",
              " 'sctype2char',\n",
              " 'sctypeDict',\n",
              " 'sctypes',\n",
              " 'searchsorted',\n",
              " 'select',\n",
              " 'set_numeric_ops',\n",
              " 'set_printoptions',\n",
              " 'set_string_function',\n",
              " 'setbufsize',\n",
              " 'setdiff1d',\n",
              " 'seterr',\n",
              " 'seterrcall',\n",
              " 'seterrobj',\n",
              " 'setxor1d',\n",
              " 'shape',\n",
              " 'shares_memory',\n",
              " 'short',\n",
              " 'show_config',\n",
              " 'sign',\n",
              " 'signbit',\n",
              " 'signedinteger',\n",
              " 'sin',\n",
              " 'sinc',\n",
              " 'single',\n",
              " 'singlecomplex',\n",
              " 'sinh',\n",
              " 'size',\n",
              " 'sometrue',\n",
              " 'sort',\n",
              " 'sort_complex',\n",
              " 'source',\n",
              " 'spacing',\n",
              " 'split',\n",
              " 'sqrt',\n",
              " 'square',\n",
              " 'squeeze',\n",
              " 'stack',\n",
              " 'std',\n",
              " 'str0',\n",
              " 'str_',\n",
              " 'string_',\n",
              " 'subtract',\n",
              " 'sum',\n",
              " 'swapaxes',\n",
              " 'sys',\n",
              " 'take',\n",
              " 'take_along_axis',\n",
              " 'tan',\n",
              " 'tanh',\n",
              " 'tensordot',\n",
              " 'test',\n",
              " 'testing',\n",
              " 'tile',\n",
              " 'timedelta64',\n",
              " 'trace',\n",
              " 'tracemalloc_domain',\n",
              " 'transpose',\n",
              " 'trapz',\n",
              " 'tri',\n",
              " 'tril',\n",
              " 'tril_indices',\n",
              " 'tril_indices_from',\n",
              " 'trim_zeros',\n",
              " 'triu',\n",
              " 'triu_indices',\n",
              " 'triu_indices_from',\n",
              " 'true_divide',\n",
              " 'trunc',\n",
              " 'typecodes',\n",
              " 'typename',\n",
              " 'ubyte',\n",
              " 'ufunc',\n",
              " 'uint',\n",
              " 'uint0',\n",
              " 'uint16',\n",
              " 'uint32',\n",
              " 'uint64',\n",
              " 'uint8',\n",
              " 'uintc',\n",
              " 'uintp',\n",
              " 'ulonglong',\n",
              " 'unicode_',\n",
              " 'union1d',\n",
              " 'unique',\n",
              " 'unpackbits',\n",
              " 'unravel_index',\n",
              " 'unsignedinteger',\n",
              " 'unwrap',\n",
              " 'use_hugepage',\n",
              " 'ushort',\n",
              " 'vander',\n",
              " 'var',\n",
              " 'vdot',\n",
              " 'vectorize',\n",
              " 'version',\n",
              " 'void',\n",
              " 'void0',\n",
              " 'vsplit',\n",
              " 'vstack',\n",
              " 'warnings',\n",
              " 'where',\n",
              " 'who',\n",
              " 'zeros',\n",
              " 'zeros_like']"
            ]
          },
          "metadata": {},
          "execution_count": 211
        }
      ]
    },
    {
      "cell_type": "markdown",
      "source": [
        "Extra: Qual a diferença entre um pacote e um módulo em Python?\n",
        "\n",
        "\n",
        "\n",
        "> \"Um módulo é um arquivo com a extensão .py contendo um script Python. O pacote é a maneira de manter os nomes desses módulos separados, usando a “notação ponto”, ou seja, <pacote>.<módulo>. Essa notação é usada internamente pelo Python para separar os módulos em “espaços de nomes” diferentes, mas para o sistema operacional, o pacote é apenas o diretório que contém os arquivos .py de cada módulo.\"\n",
        "\n",
        "*fonte: https://vaiprogramar.com/qual-a-diferenca-modulo-pacote-python/*\n",
        "\n",
        "\n",
        "Ou seja...\n",
        "Qualquer arquivo Python pode ser um módulo; um pacote é uma organização lógica de módulos em um dado diretório.\n",
        "O arquivo que transformará o diretório em um pacote se chama **__init__.py**"
      ],
      "metadata": {
        "id": "to2cxSwvNYv-"
      }
    },
    {
      "cell_type": "code",
      "source": [
        "# Importando o pacote numpy e dando um \"apelido\" para ele\n",
        "import numpy as np"
      ],
      "metadata": {
        "id": "AKQZR3Y0NLUX"
      },
      "execution_count": 212,
      "outputs": []
    },
    {
      "cell_type": "code",
      "source": [
        "# Alguns pacotes famosos e seus apelidos: np, plt, pd, sns\n",
        "import numpy as np\n",
        "import seaborn as sns\n",
        "import pandas as pd\n",
        "import matplotlib.pyplot as plt"
      ],
      "metadata": {
        "id": "LzfN_-9FOnvO"
      },
      "execution_count": 213,
      "outputs": []
    },
    {
      "cell_type": "markdown",
      "source": [
        "## Programação Funcional"
      ],
      "metadata": {
        "id": "rcygOcRxuzjh"
      }
    },
    {
      "cell_type": "markdown",
      "source": [
        "Python conta com um recurso interessante para melhorar a eficiência de se aplicar funções em sequências, chamada de programação funcional.<br>\n",
        "Pode-se acessar essa \"funcional\" pelo comando: <br>\n",
        "`funcao_funcional(funcao_utilizada, sequencia_ou_iterador)`\n",
        "\n",
        "Alguns dos exemplos mais famosos são as funcionais:\n",
        "- map: retorna um objeto do tipo \"map\" do resultado da aplicação da função escolhida para os elementos da sequência\n",
        "- filter: retorna um objeto do tipo \"filter\" com um filtro aplicado (condição verdadeira) para a sequência de elementos\n",
        "- reduce: aplica a função realizando um acumulado dos elementos (diferente das duas acimas, ela necessita ser importada pelo modulo functools)"
      ],
      "metadata": {
        "id": "v0cCraUpdiZ5"
      }
    },
    {
      "cell_type": "markdown",
      "source": [
        "**Map**"
      ],
      "metadata": {
        "id": "CGJ8krttkwMG"
      }
    },
    {
      "cell_type": "code",
      "source": [
        "# Map\n",
        "\n",
        "# Criando uma lista qualquer\n",
        "lst_auxiliar = [1,2,3,4,5,6,7,8,9,10]\n",
        "\n",
        "# Criando uma função qualquer para ser utilizada\n",
        "def is_par_or_impar(elementos):\n",
        "  if elementos%2 == 0:\n",
        "    return 'Par'\n",
        "  else:\n",
        "    return 'Impar'\n",
        "\n",
        "# Aplicando a função criada na lista auxiliar utilizando o .map(funcao, iterador)\n",
        "\n",
        "lst_modificada = map( is_par_or_impar, lst_auxiliar )\n",
        "print(lst_modificada)\n",
        "\n",
        "# Porém o resultado foi um objeto map, para vermos o resultado precisamos transformá-lo em lista\n",
        "print( list( lst_modificada ) )"
      ],
      "metadata": {
        "id": "nfzP5S1jikpk",
        "outputId": "6b5c88de-3a5d-4430-e587-c075f26f7bc9",
        "colab": {
          "base_uri": "https://localhost:8080/"
        }
      },
      "execution_count": 214,
      "outputs": [
        {
          "output_type": "stream",
          "name": "stdout",
          "text": [
            "<map object at 0x7f41bcb21f50>\n",
            "['Impar', 'Par', 'Impar', 'Par', 'Impar', 'Par', 'Impar', 'Par', 'Impar', 'Par']\n"
          ]
        }
      ]
    },
    {
      "cell_type": "code",
      "source": [
        "# Utilizando o comando ! para acessar o terminal\n",
        "\n",
        "# !pip install numpy"
      ],
      "metadata": {
        "id": "k9n3Ib3BQULe"
      },
      "execution_count": 215,
      "outputs": []
    },
    {
      "cell_type": "code",
      "source": [
        "# O mesmo código acima utilizando lambda\n",
        "\n",
        "lst_auxiliar = [1,2,3,4,5,6,7,8,9,10]\n",
        "\n",
        "lst_modificada = list( map( lambda x: 'Par' if x%2==0 else 'Impar', lst_auxiliar ) )\n",
        "print( lst_modificada )"
      ],
      "metadata": {
        "id": "qBY61t4YkJ2e",
        "outputId": "a804287b-ae3c-420e-df8e-3915b9d18f19",
        "colab": {
          "base_uri": "https://localhost:8080/"
        }
      },
      "execution_count": 216,
      "outputs": [
        {
          "output_type": "stream",
          "name": "stdout",
          "text": [
            "['Impar', 'Par', 'Impar', 'Par', 'Impar', 'Par', 'Impar', 'Par', 'Impar', 'Par']\n"
          ]
        }
      ]
    },
    {
      "cell_type": "markdown",
      "source": [
        "**Filter**"
      ],
      "metadata": {
        "id": "8QbPZtRkkyHC"
      }
    },
    {
      "cell_type": "code",
      "source": [
        "# Filtrando a lista auxiliar para retornar apenas os valores múltiplos de 3\n",
        "\n",
        "lst_auxiliar = [1,2,3,4,5,6,7,8,9,10]\n",
        "\n",
        "lst_modificada = list ( filter( lambda x: x%3==0, lst_auxiliar ) )\n",
        "print(lst_modificada)"
      ],
      "metadata": {
        "id": "V2vr5Et9kurc",
        "outputId": "bb08dbb4-44a9-4153-e0ba-fa601f3457a4",
        "colab": {
          "base_uri": "https://localhost:8080/"
        }
      },
      "execution_count": 217,
      "outputs": [
        {
          "output_type": "stream",
          "name": "stdout",
          "text": [
            "[3, 6, 9]\n"
          ]
        }
      ]
    },
    {
      "cell_type": "markdown",
      "source": [
        "**Reduce**"
      ],
      "metadata": {
        "id": "6PFNTPFTk0rP"
      }
    },
    {
      "cell_type": "code",
      "source": [
        "# Importando a funçao reduce\n",
        "from functools import reduce\n",
        "\n",
        "# Fazendo um acumulado de 0 ao 100\n",
        "\n",
        "lst_auxiliar = list( range(1,101) )\n",
        "\n",
        "lst_reduzida = reduce( lambda x, y: x+y, lst_auxiliar )     # x é o valor atual no qual será somado y a cada iteração\n",
        "\n",
        "print( lst_reduzida ) \n",
        "\n",
        "# Obs: neste exemplo realizamos a soma de Gauss"
      ],
      "metadata": {
        "id": "BHX0SEETltQp",
        "outputId": "1f1580ca-9b43-4425-a372-df886d04a2b2",
        "colab": {
          "base_uri": "https://localhost:8080/"
        }
      },
      "execution_count": 218,
      "outputs": [
        {
          "output_type": "stream",
          "name": "stdout",
          "text": [
            "5050\n"
          ]
        }
      ]
    },
    {
      "cell_type": "markdown",
      "source": [
        "___\n",
        "\n",
        "**Exercícios funcionais**\n",
        "\n",
        "___"
      ],
      "metadata": {
        "id": "WLMS487Gm4mI"
      }
    },
    {
      "cell_type": "markdown",
      "source": [
        "1) Dada uma lista [1,2,3,4,5,6,7,8,9,10], utilize a funcional filter para retornar os números cujo dobro sejam menores que 12.<br>\n",
        "Exemplo:<br>\n",
        "Dado o número 1, seu dobro é 2, logo menor que 12 ✅ <Br>\n",
        "Dado o número 6, seu dobro é 6, logo não é menor que 12 ❌"
      ],
      "metadata": {
        "id": "xc6F6au9nFDJ"
      }
    },
    {
      "cell_type": "code",
      "source": [
        "lst_auxiliar = list( range(1,11) )\n",
        "\n",
        "# Resolva\n",
        "\n",
        "lst_filtrada = list( filter( lambda x: (x*2)<12, lst_auxiliar ) )\n",
        "\n",
        "lst_filtrada"
      ],
      "metadata": {
        "colab": {
          "base_uri": "https://localhost:8080/"
        },
        "id": "HPr2sZaloAMP",
        "outputId": "cb23a2dd-ab3d-4289-cb4d-16b945d6180f"
      },
      "execution_count": 219,
      "outputs": [
        {
          "output_type": "execute_result",
          "data": {
            "text/plain": [
              "[1, 2, 3, 4, 5]"
            ]
          },
          "metadata": {},
          "execution_count": 219
        }
      ]
    },
    {
      "cell_type": "markdown",
      "source": [
        "2) Aplique a função para retirar os espaços laterais de todos os elementos da lista.<br>\n",
        "**Dica**: Utilize a função strip() juntamente da funcional map() e lambda()"
      ],
      "metadata": {
        "id": "kxGzgMmsopAB"
      }
    },
    {
      "cell_type": "code",
      "source": [
        "lst_auxiliar = ['   Matheus Carvalo', 'Janaina Oliveira  ', 'Paulo Cesar', '  Geraldo Osvaldo ']\n",
        "\n",
        "# Resolva\n",
        "lst_corrigida = list( map( lambda x: x.strip(), lst_auxiliar ) )\n",
        "lst_corrigida"
      ],
      "metadata": {
        "colab": {
          "base_uri": "https://localhost:8080/"
        },
        "id": "L_UbptZ-pCfC",
        "outputId": "f46f620d-c258-4842-b7de-d29f8e1bf2cb"
      },
      "execution_count": 220,
      "outputs": [
        {
          "output_type": "execute_result",
          "data": {
            "text/plain": [
              "['Matheus Carvalo', 'Janaina Oliveira', 'Paulo Cesar', 'Geraldo Osvaldo']"
            ]
          },
          "metadata": {},
          "execution_count": 220
        }
      ]
    },
    {
      "cell_type": "markdown",
      "source": [
        "3) Some os números múltiplos de 3 começando em 1 e terminando em 100, [1,2....100].\n",
        "\n",
        "Ex.<br>\n",
        "Entrada: 1,2,3,4,5,6,7,8,9 <br>\n",
        "Saída: 18   --> 3 + 6 + 9  <br>"
      ],
      "metadata": {
        "id": "pMNP7MkDub0k"
      }
    },
    {
      "cell_type": "code",
      "source": [
        "# Resolva\n",
        "\n",
        "from functools import reduce\n",
        "\n",
        "lst_aux = list( range(1,101) )\n",
        "\n",
        "lst_soma3 = reduce( lambda x,y: x+y, filter( lambda y: y%3==0, lst_aux )  )\n",
        "lst_soma3"
      ],
      "metadata": {
        "colab": {
          "base_uri": "https://localhost:8080/"
        },
        "id": "KTQVX4v-uv5v",
        "outputId": "01e3013f-45ef-456c-d573-6d18708c4ad4"
      },
      "execution_count": 221,
      "outputs": [
        {
          "output_type": "execute_result",
          "data": {
            "text/plain": [
              "1683"
            ]
          },
          "metadata": {},
          "execution_count": 221
        }
      ]
    },
    {
      "cell_type": "markdown",
      "source": [
        "4) Um certo clã do jogo World of Warcraft separava seus líderes colocando a nomenclatura LD ao final do nome.<br>\n",
        "Por exemplo, xXGeraldoXxLD significa que Geraldo é um lider.<br>\n",
        "Seguindo a lógica, OsvaldoHunter significa que o membro não é um líder.<br>\n",
        "Acontece que para o ano de 2022, o clã resolveu atualizar a nomenclatura de líder para futuramente incluir mais cargos, trocando a nomenclatura de 'LD' para 'LDG'.\n",
        "\n",
        "**Ajude a guilda** acrescentando a letra \"G\" ao final do nome dos atuais líderes e separando-os em uma nova lista\n",
        "\n",
        "Obs: **todo o código deve estar em uma linha**\n",
        "\n",
        "**Ex**: <br>\n",
        "Membros: GeraldoLD, Leandro, JanainaxxD, CaioLD <br>\n",
        "Lista resultado: GeraldoLDG, CaioLDG <Br>\n",
        "\n",
        "<img src=\"https://www.joyscribe.com/wp-content/uploads/2018/01/GAA.jpg\" width=50%>"
      ],
      "metadata": {
        "id": "IO5R9AG0pk8s"
      }
    },
    {
      "cell_type": "code",
      "source": [
        "membros = ['xXGeraldoXxLD', 'OsvaldoHunter', 'RichardGaviao', 'SilenceLD', 'Apocalyptico', 'LeeroyLD', 'Wakanda']\n",
        "\n",
        "# Resolva em UMA linha\n",
        "lista_atualizada = list( map( lambda x: x + 'G', filter( lambda y: y[-2:] == 'LD', membros ) ) )\n",
        "\n",
        "print( lista_atualizada )"
      ],
      "metadata": {
        "colab": {
          "base_uri": "https://localhost:8080/"
        },
        "id": "z47_S-QCrIow",
        "outputId": "b1bb1bc2-4330-452f-c348-9adf87ca782e"
      },
      "execution_count": 222,
      "outputs": [
        {
          "output_type": "stream",
          "name": "stdout",
          "text": [
            "['xXGeraldoXxLDG', 'SilenceLDG', 'LeeroyLDG']\n"
          ]
        }
      ]
    },
    {
      "cell_type": "markdown",
      "source": [
        "## Trabalhando com arquivos"
      ],
      "metadata": {
        "id": "wO2Y9MhJu3OW"
      }
    },
    {
      "cell_type": "markdown",
      "source": [
        "Criando um arquivo mágico para efeitos didáticos no Google Colab\n"
      ],
      "metadata": {
        "id": "8k36S_1NyrjI"
      }
    },
    {
      "cell_type": "code",
      "source": [
        "%%writefile aula03.txt\n",
        "Olá mundo, me Chamo Rafael \n",
        "e tenho 30 anos"
      ],
      "metadata": {
        "id": "ib32w3sky2Pt",
        "colab": {
          "base_uri": "https://localhost:8080/"
        },
        "outputId": "df3a4b65-934a-44cf-f0e3-1d00b77f8de7"
      },
      "execution_count": 223,
      "outputs": [
        {
          "output_type": "stream",
          "name": "stdout",
          "text": [
            "Writing aula03.txt\n"
          ]
        }
      ]
    },
    {
      "cell_type": "markdown",
      "source": [
        "**Abertura** <Br>\n",
        "Ao tratarmos da abertura do arquivo, deveremos passar o parâmetro de permissão de abertura, sendo eles:\n",
        "- r: read (leitura)\n",
        "- w: write (escrita)\n",
        "- r+: leitura e escrita\n",
        "- a: faz um append à um arquivo existente"
      ],
      "metadata": {
        "id": "YaXBAhTxzVhQ"
      }
    },
    {
      "cell_type": "code",
      "source": [
        "# Lendo o arquivo criado com open()\n",
        "\n",
        "f = open('aula03.txt', 'r')\n",
        "\n",
        "lines = f.readlines()\n",
        "print(lines)"
      ],
      "metadata": {
        "id": "zoGhWw1E0A8X",
        "colab": {
          "base_uri": "https://localhost:8080/"
        },
        "outputId": "03c6d682-74f1-4b24-af86-68bcfab2045d"
      },
      "execution_count": 224,
      "outputs": [
        {
          "output_type": "stream",
          "name": "stdout",
          "text": [
            "['Olá mundo, me Chamo Rafael \\n', 'e tenho 30 anos']\n"
          ]
        }
      ]
    },
    {
      "cell_type": "markdown",
      "source": [
        "Outros comandos úteis além do readlines()\n",
        "- readline(): lê uma linha específica\n",
        "- read(): Lê N bytes do arquivo"
      ],
      "metadata": {
        "id": "j70Lybjv02JL"
      }
    },
    {
      "cell_type": "code",
      "source": [
        "# Utilizando a forma mais comum de leitura em Python com o comando \"with\"\n",
        "\n",
        "with open('aula03.txt', 'r') as f:\n",
        "  f.readlines()"
      ],
      "metadata": {
        "id": "PhmoF1Nv1HMM"
      },
      "execution_count": 225,
      "outputs": []
    },
    {
      "cell_type": "markdown",
      "source": [
        "**Escrita**"
      ],
      "metadata": {
        "id": "Cpdilp5_1uiO"
      }
    },
    {
      "cell_type": "code",
      "source": [
        "# Escrevendo a lista em um novo arquivo (repare no diretório após rodar o código)\n",
        "\n",
        "lst_palavras = ['a', 'abacate', 'limao']\n",
        "\n",
        "with open('aula03_exemplo2.txt', 'w') as f:\n",
        "  f.writelines(lst_palavras)"
      ],
      "metadata": {
        "id": "8XTnSlwt15Up"
      },
      "execution_count": 226,
      "outputs": []
    },
    {
      "cell_type": "code",
      "source": [
        "# Escrevendo no arquivo anterior utilizando o f.write('mensagem') e parâmetro 'a'\n",
        "with open('aula03_exemplo2.txt', 'a') as f:\n",
        "  f.write('abacaxi')"
      ],
      "metadata": {
        "id": "c_Gf9rYl1wQy"
      },
      "execution_count": 227,
      "outputs": []
    },
    {
      "cell_type": "markdown",
      "source": [
        "## Classes e objetos"
      ],
      "metadata": {
        "id": "TTFV7EaGu7Yl"
      }
    },
    {
      "cell_type": "markdown",
      "source": [
        "Um objeto conterá informações salvas nos **atributos** e poderá ser manifestado através de **funções**\n",
        "\n",
        "Resumo de classe:\n",
        "- é uma representação do mundo real, ou seja, um protótipo\n",
        "- uma boa prática é declará-la com a primeira letra em maiúsculo seguindo o estilo CamelCase\n",
        "- criada através do comando `class`\n",
        "- pode **herdar** características de uma outra superclasse\n",
        "\n",
        "Declarando uma classe:\n",
        "```python\n",
        "class Aluno():\n",
        "  # atributos\n",
        "  # construtores\n",
        "  # métodos\n",
        "```\n",
        "Onde:<br>\n",
        "Atributos:\n",
        "- Representa as características da classe\n",
        "- Caso seja um atributo de classe, funciona como uma variável no escopo de outras instâncias da classe\n",
        "- Caso seja um atributo de uma instância, funciona como uma variável local para a instância que o criou\n",
        "\n",
        "Métodos:\n",
        "- Representa o comportamento de uma classe\n",
        "\n",
        "Construtor da classe:\n",
        "- Utiliza-se o método `__init__`<br>\n",
        "Ex. <br>\n",
        "```python\n",
        "class Aluno:\n",
        "    def __init__(self, nome, sexo, idade, curso):  #self é obrigatório para se distinguir um método de classe\n",
        "        self.nome = nome\n",
        "        self.sexo = sexo\n",
        "        self.idade = idade\n",
        "        self.curso = curso\n",
        "```\n",
        "\n"
      ],
      "metadata": {
        "id": "cdbtaeV6nkvV"
      }
    },
    {
      "cell_type": "code",
      "source": [
        "# Criando a class Aluno na prática\n",
        "\n",
        "class Aluno:\n",
        "  def __init__(self, nome, sexo, idade, curso):\n",
        "      self.nome = nome\n",
        "      self.sexo = sexo\n",
        "      self.idade = idade\n",
        "      self.curso = curso\n",
        "  \n",
        "  def altera_idade(self, idade):\n",
        "    self.idade = idade\n",
        "    print('Idade alterada!')\n",
        "\n",
        "  def __str__(self):\n",
        "    return('Nome: '+str(self.nome)+'\\n'\n",
        "           'Sexo: '+str(self.sexo)+'\\n'\n",
        "           'Idade: '+str(self.idade)+'\\n'\n",
        "           'Curso: '+str(self.curso))\n",
        "\n",
        "if __name__ == \"__main__\":                          # verifica se o programa está sendo executado por si só, ref. extra: https://www.alura.com.br/artigos/o-que-significa-if-name-main-no-python\n",
        "    aluno1 = Aluno(\"Geraldo\", \"Masculino\", \"31\", \"Computação\")\n",
        "    aluno1.altera_idade(32)\n",
        "\n",
        "print(aluno1)"
      ],
      "metadata": {
        "id": "-jSVe5ivnnRq",
        "colab": {
          "base_uri": "https://localhost:8080/"
        },
        "outputId": "6070d7e8-8b96-4971-83e3-c39effbde487"
      },
      "execution_count": 228,
      "outputs": [
        {
          "output_type": "stream",
          "name": "stdout",
          "text": [
            "Idade alterada!\n",
            "Nome: Geraldo\n",
            "Sexo: Masculino\n",
            "Idade: 32\n",
            "Curso: Computação\n"
          ]
        }
      ]
    },
    {
      "cell_type": "markdown",
      "source": [
        "Lembrando que esta foi uma abordagem rápida sobre orientação a objetos por não ser o escopo da semana de seminários. <br>\n",
        "Recomendo a leitura sobre escopos Public, Private e Protected para melhorar a segurança do código.\n",
        "\n",
        "leitura extra: https://www.treinaweb.com.br/blog/orientacao-a-objetos-em-python"
      ],
      "metadata": {
        "id": "z9Yi_IHknodS"
      }
    },
    {
      "cell_type": "markdown",
      "source": [
        "# AULA 03"
      ],
      "metadata": {
        "id": "G8-oINOzp3py"
      }
    },
    {
      "cell_type": "markdown",
      "source": [
        "**Numpy**"
      ],
      "metadata": {
        "id": "INKYBYPFqFNO"
      }
    },
    {
      "cell_type": "markdown",
      "source": [
        "Numpy é um importante pacote da linguagem Python para operações matriciais onde as classes são escritas em sua maior em **LINGUAGEM C**, garantindo um processamento mais rápido. ✅\n",
        "\n",
        "Site de consulta numpy: https://numpy.org/"
      ],
      "metadata": {
        "id": "CEwjLW6DqG75"
      }
    },
    {
      "cell_type": "code",
      "source": [
        "# Realizando a importação do pacote numpy\n",
        "import numpy as np"
      ],
      "metadata": {
        "id": "AJD9uU7Xqjdp"
      },
      "execution_count": 229,
      "outputs": []
    },
    {
      "cell_type": "markdown",
      "source": [
        "Um dos motivos de sua eficiência é que sua estrutura de dados se baseia em **arrays**.\n",
        "\n",
        "O que são arrays?\n",
        "- Semelhante a sequência de lista, porém de tipo único (apenas int ou float para todos os elementos)\n",
        "- Cada dimensão é chamada de eixo\n",
        "  - Um array com 1 linha e 2 colunas possui as dimensões linha e coluna.\n",
        "  - Um array multidimensional poderia apresentar um eixo Z (...)"
      ],
      "metadata": {
        "id": "3-2U0WSnq6oT"
      }
    },
    {
      "cell_type": "code",
      "source": [
        "# Criando arrays através dos métodos numpy\n",
        "\n",
        "# Método 1: np.zeros((quantidade))\n",
        "array1 = np.zeros((10))\n",
        "print(array1)\n",
        "\n",
        "# Método 2: np.ones((quantidade))\n",
        "array2 = np.ones((10))\n",
        "print(array2)\n",
        "\n",
        "# Método 3: np.linspace(inicio, fim, intervalo)\n",
        "array3 = np.linspace(1, 20, 5)\n",
        "print(array3)\n",
        "\n",
        "# Método 4: np.arange(quantidade)\n",
        "array4 = np.arange(15)\n",
        "print(array4)\n",
        "\n",
        "type(array4)"
      ],
      "metadata": {
        "id": "p7sveCxWr12h",
        "colab": {
          "base_uri": "https://localhost:8080/"
        },
        "outputId": "df6d1e94-d08b-44ff-fa2b-382a57cc3a47"
      },
      "execution_count": 230,
      "outputs": [
        {
          "output_type": "stream",
          "name": "stdout",
          "text": [
            "[0. 0. 0. 0. 0. 0. 0. 0. 0. 0.]\n",
            "[1. 1. 1. 1. 1. 1. 1. 1. 1. 1.]\n",
            "[ 1.    5.75 10.5  15.25 20.  ]\n",
            "[ 0  1  2  3  4  5  6  7  8  9 10 11 12 13 14]\n"
          ]
        },
        {
          "output_type": "execute_result",
          "data": {
            "text/plain": [
              "numpy.ndarray"
            ]
          },
          "metadata": {},
          "execution_count": 230
        }
      ]
    },
    {
      "cell_type": "code",
      "source": [
        "# Convertendo uma lista para um numpy array com o np.array(lista)\n",
        "\n",
        "lst_auxiliar = [1,2,3,4,5]\n",
        "\n",
        "print('Antes ', type(lst_auxiliar))\n",
        "\n",
        "lst_numpy = np.array(lst_auxiliar)\n",
        "\n",
        "print('Depois ', type(lst_numpy))"
      ],
      "metadata": {
        "id": "spPQ5D7lsvGl",
        "colab": {
          "base_uri": "https://localhost:8080/"
        },
        "outputId": "19d9592b-4ee2-47f5-b8fb-70a623a0dc2b"
      },
      "execution_count": 231,
      "outputs": [
        {
          "output_type": "stream",
          "name": "stdout",
          "text": [
            "Antes  <class 'list'>\n",
            "Depois  <class 'numpy.ndarray'>\n"
          ]
        }
      ]
    },
    {
      "cell_type": "code",
      "source": [
        "# Arrays bidimensionais (mais usado)\n",
        "\n",
        "arr_zeros = np.zeros((5,4))\n",
        "arr_zeros"
      ],
      "metadata": {
        "id": "c_y0l2IhtFKE",
        "colab": {
          "base_uri": "https://localhost:8080/"
        },
        "outputId": "1ce4780e-67ed-4fa9-dd0c-dcca7f50fa59"
      },
      "execution_count": 232,
      "outputs": [
        {
          "output_type": "execute_result",
          "data": {
            "text/plain": [
              "array([[0., 0., 0., 0.],\n",
              "       [0., 0., 0., 0.],\n",
              "       [0., 0., 0., 0.],\n",
              "       [0., 0., 0., 0.],\n",
              "       [0., 0., 0., 0.]])"
            ]
          },
          "metadata": {},
          "execution_count": 232
        }
      ]
    },
    {
      "cell_type": "code",
      "source": [
        "# Criando um array bidimensional utilizando o np.arange().reshape(())\n",
        "\n",
        "arr_aux = np.arange(20).reshape(5,4)\n",
        "arr_aux"
      ],
      "metadata": {
        "id": "1xp8PQ6ftddf",
        "colab": {
          "base_uri": "https://localhost:8080/"
        },
        "outputId": "9373f787-f1cf-41d0-9f56-3747b135b3d2"
      },
      "execution_count": 233,
      "outputs": [
        {
          "output_type": "execute_result",
          "data": {
            "text/plain": [
              "array([[ 0,  1,  2,  3],\n",
              "       [ 4,  5,  6,  7],\n",
              "       [ 8,  9, 10, 11],\n",
              "       [12, 13, 14, 15],\n",
              "       [16, 17, 18, 19]])"
            ]
          },
          "metadata": {},
          "execution_count": 233
        }
      ]
    },
    {
      "cell_type": "markdown",
      "source": [
        "Podemos utilizar alguns métodos para realizar consultas no array, como os que se encontram em: https://numpy.org/doc/stable/reference/generated/numpy.ndarray.html"
      ],
      "metadata": {
        "id": "7vU_2d05uMw3"
      }
    },
    {
      "cell_type": "code",
      "source": [
        "# Ex. procurando quantas dimensões tem o array com nome_array.ndim\n",
        "\n",
        "arr_zeros = np.zeros((5,4))\n",
        "\n",
        "arr_zeros.ndim"
      ],
      "metadata": {
        "id": "_fFkOmint4ow",
        "colab": {
          "base_uri": "https://localhost:8080/"
        },
        "outputId": "3ea75078-075f-46c5-9b6d-0073063973c8"
      },
      "execution_count": 234,
      "outputs": [
        {
          "output_type": "execute_result",
          "data": {
            "text/plain": [
              "2"
            ]
          },
          "metadata": {},
          "execution_count": 234
        }
      ]
    },
    {
      "cell_type": "code",
      "source": [
        "# Procurando o parâmetro .shape() no site do numpy\n",
        "\n",
        "array_aux = np.arange(10)\n",
        "\n",
        "np.mean(array_aux)"
      ],
      "metadata": {
        "id": "E-9GBN8MuyKq",
        "outputId": "ae5026e0-0f18-4c07-c181-af99a95da924",
        "colab": {
          "base_uri": "https://localhost:8080/"
        }
      },
      "execution_count": 235,
      "outputs": [
        {
          "output_type": "execute_result",
          "data": {
            "text/plain": [
              "4.5"
            ]
          },
          "metadata": {},
          "execution_count": 235
        }
      ]
    },
    {
      "cell_type": "code",
      "source": [
        "# Acessando elementos de um array\n",
        "\n",
        "array_aux = np.arange(20).reshape(5,4)\n",
        "\n",
        "print(array_aux)\n",
        "print('-'*80)\n",
        "\n",
        "# Acessando a primeira linha pelo índice array[0]\n",
        "array_aux[1]\n",
        "\n",
        "# Acessando o elemento da linha 4 e coluna 3 com array[4,3]\n",
        "array_aux[4,3]\n"
      ],
      "metadata": {
        "id": "iE4kMJESvJKr",
        "colab": {
          "base_uri": "https://localhost:8080/"
        },
        "outputId": "cd80a6d5-8bff-4896-ac20-b0eece0e31a0"
      },
      "execution_count": 236,
      "outputs": [
        {
          "output_type": "stream",
          "name": "stdout",
          "text": [
            "[[ 0  1  2  3]\n",
            " [ 4  5  6  7]\n",
            " [ 8  9 10 11]\n",
            " [12 13 14 15]\n",
            " [16 17 18 19]]\n",
            "--------------------------------------------------------------------------------\n"
          ]
        },
        {
          "output_type": "execute_result",
          "data": {
            "text/plain": [
              "19"
            ]
          },
          "metadata": {},
          "execution_count": 236
        }
      ]
    },
    {
      "cell_type": "code",
      "source": [
        "# Percorrendo um array com o enumerate (\"enumera\" a iteração)\n",
        "\n",
        "array_aux = np.arange(20).reshape(5,4)\n",
        "\n",
        "for linha, coluna in enumerate(array_aux):\n",
        "  print(f'Linha: {linha+1}; Colunas: {coluna}')"
      ],
      "metadata": {
        "colab": {
          "base_uri": "https://localhost:8080/"
        },
        "id": "cVh53Hu4yi3o",
        "outputId": "7db828e4-9de4-4df5-b131-e8b44694e76e"
      },
      "execution_count": 237,
      "outputs": [
        {
          "output_type": "stream",
          "name": "stdout",
          "text": [
            "Linha: 1; Colunas: [0 1 2 3]\n",
            "Linha: 2; Colunas: [4 5 6 7]\n",
            "Linha: 3; Colunas: [ 8  9 10 11]\n",
            "Linha: 4; Colunas: [12 13 14 15]\n",
            "Linha: 5; Colunas: [16 17 18 19]\n"
          ]
        }
      ]
    },
    {
      "cell_type": "code",
      "source": [
        "# Laço aninhado para percorrer linha e coluna e retornar o elemento\n",
        "\n",
        "array_aux = np.random.randint(0, 10, 20, int).reshape(5,4) # criando um array aleatório com 20 valores que variam de 0 a 10 e modificado para o formato 5 linhas e 4 colunas\n",
        "\n",
        "for linha, coluna in enumerate(array_aux):\n",
        "  for indice_coluna, valor in enumerate(coluna):\n",
        "    print(f'Posição [{linha};{indice_coluna}], valor = {valor}')"
      ],
      "metadata": {
        "colab": {
          "base_uri": "https://localhost:8080/"
        },
        "id": "gy1LK7tg0Q7B",
        "outputId": "467fc03b-02fe-4d72-f096-57aa7c4fb8dc"
      },
      "execution_count": 238,
      "outputs": [
        {
          "output_type": "stream",
          "name": "stdout",
          "text": [
            "Posição [0;0], valor = 7\n",
            "Posição [0;1], valor = 2\n",
            "Posição [0;2], valor = 7\n",
            "Posição [0;3], valor = 6\n",
            "Posição [1;0], valor = 4\n",
            "Posição [1;1], valor = 7\n",
            "Posição [1;2], valor = 4\n",
            "Posição [1;3], valor = 1\n",
            "Posição [2;0], valor = 6\n",
            "Posição [2;1], valor = 8\n",
            "Posição [2;2], valor = 1\n",
            "Posição [2;3], valor = 5\n",
            "Posição [3;0], valor = 8\n",
            "Posição [3;1], valor = 5\n",
            "Posição [3;2], valor = 3\n",
            "Posição [3;3], valor = 7\n",
            "Posição [4;0], valor = 9\n",
            "Posição [4;1], valor = 7\n",
            "Posição [4;2], valor = 7\n",
            "Posição [4;3], valor = 9\n"
          ]
        }
      ]
    },
    {
      "cell_type": "code",
      "source": [
        "# Deixando um array flat com o array.flat\n",
        "\n",
        "array_aux = np.ones((3,4))\n",
        "\n",
        "print(f'Array antes do flat:\\n {array_aux}')\n",
        "print('-'*40)\n",
        "print(f'Array depois do flat: {array_aux.flat}')\n",
        "\n",
        "# Precisamos transformar o array.flat em uma lista para entender o que aconteceu\n",
        "list(array_aux.flat)"
      ],
      "metadata": {
        "id": "nbUPTqTm2C6c",
        "colab": {
          "base_uri": "https://localhost:8080/"
        },
        "outputId": "016da36d-7582-4742-d4a2-982c33568b74"
      },
      "execution_count": 239,
      "outputs": [
        {
          "output_type": "stream",
          "name": "stdout",
          "text": [
            "Array antes do flat:\n",
            " [[1. 1. 1. 1.]\n",
            " [1. 1. 1. 1.]\n",
            " [1. 1. 1. 1.]]\n",
            "----------------------------------------\n",
            "Array depois do flat: <numpy.flatiter object at 0x5330000>\n"
          ]
        },
        {
          "output_type": "execute_result",
          "data": {
            "text/plain": [
              "[1.0, 1.0, 1.0, 1.0, 1.0, 1.0, 1.0, 1.0, 1.0, 1.0, 1.0, 1.0]"
            ]
          },
          "metadata": {},
          "execution_count": 239
        }
      ]
    },
    {
      "cell_type": "markdown",
      "source": [
        "Percorrendo arrays criando **VIEWS** com **slicing**\n",
        "- Melhor eficiência do que o laço for ✅\n",
        "- Semelhante às sequências, porém com mais \n",
        "- Utilizamos uma vírgula para separar as dimensões\n",
        "  - ex. Em um array de 2 dimensões com 3 linhas e 4 colunas\n",
        "  - `nome_array[:,:]` (lendo tudo)"
      ],
      "metadata": {
        "id": "w2UtG8oE3DSM"
      }
    },
    {
      "cell_type": "code",
      "source": [
        "# Criando um array para futuros slicings\n",
        "\n",
        "array_aux = np.random.randint(0,5,20,int).reshape(4,5)\n",
        "array_aux"
      ],
      "metadata": {
        "colab": {
          "base_uri": "https://localhost:8080/"
        },
        "id": "evgcUCqC3gdo",
        "outputId": "df385df0-10b9-4e0d-bb88-a94da216f6d9"
      },
      "execution_count": 240,
      "outputs": [
        {
          "output_type": "execute_result",
          "data": {
            "text/plain": [
              "array([[1, 1, 1, 1, 4],\n",
              "       [0, 2, 2, 4, 0],\n",
              "       [2, 1, 0, 3, 3],\n",
              "       [0, 4, 2, 0, 0]])"
            ]
          },
          "metadata": {},
          "execution_count": 240
        }
      ]
    },
    {
      "cell_type": "code",
      "source": [
        "# Percorrendo as linhas com array[linha,:]\n",
        "# Repare que se não for passado o argumento : ele pegará a linha toda\n",
        "\n",
        "# Buscando a linha de índice 3\n",
        "array_aux[2,:]"
      ],
      "metadata": {
        "colab": {
          "base_uri": "https://localhost:8080/"
        },
        "id": "Q3FJnHtK4ON8",
        "outputId": "70c58b22-0042-469e-c35a-7c0e75591405"
      },
      "execution_count": 241,
      "outputs": [
        {
          "output_type": "execute_result",
          "data": {
            "text/plain": [
              "array([2, 1, 0, 3, 3])"
            ]
          },
          "metadata": {},
          "execution_count": 241
        }
      ]
    },
    {
      "cell_type": "code",
      "source": [
        "# Percorrendo as linhas com array[:,coluna]\n",
        "# Repare que se não for passado o argumento : ele pegará a coluna toda\n",
        "\n",
        "# Buscando a coluna de índice 4\n",
        "array_aux[:,4]"
      ],
      "metadata": {
        "colab": {
          "base_uri": "https://localhost:8080/"
        },
        "id": "lMtgGOEv4hBY",
        "outputId": "395f2e4b-61b9-4a8f-d9f2-a04b2b8e0493"
      },
      "execution_count": 242,
      "outputs": [
        {
          "output_type": "execute_result",
          "data": {
            "text/plain": [
              "array([4, 0, 3, 0])"
            ]
          },
          "metadata": {},
          "execution_count": 242
        }
      ]
    },
    {
      "cell_type": "code",
      "source": [
        "# Escolhendo a partir de qual linha começar e quais colunas pegar\n",
        "\n",
        "# Começando da linha 3 e pegando as 2 últimas colunas\n",
        "array_aux[2:,-2:]"
      ],
      "metadata": {
        "colab": {
          "base_uri": "https://localhost:8080/"
        },
        "id": "jDy9ulMR4y-A",
        "outputId": "8cb3b11b-4dfb-42e0-c242-e1c9425eb7d7"
      },
      "execution_count": 243,
      "outputs": [
        {
          "output_type": "execute_result",
          "data": {
            "text/plain": [
              "array([[3, 3],\n",
              "       [0, 0]])"
            ]
          },
          "metadata": {},
          "execution_count": 243
        }
      ]
    },
    {
      "cell_type": "code",
      "source": [
        "# Recuperando as colunas 1, 3 e 4 a partir da linha 2 passando uma lista [1,3,4] em array[:,lista]\n",
        "array_aux[:,[1,3,4]]"
      ],
      "metadata": {
        "colab": {
          "base_uri": "https://localhost:8080/"
        },
        "id": "oiEtuNGJ5ZwE",
        "outputId": "e75519d3-434e-4fc8-f99f-b80126884f90"
      },
      "execution_count": 244,
      "outputs": [
        {
          "output_type": "execute_result",
          "data": {
            "text/plain": [
              "array([[1, 1, 4],\n",
              "       [2, 4, 0],\n",
              "       [1, 3, 3],\n",
              "       [4, 0, 0]])"
            ]
          },
          "metadata": {},
          "execution_count": 244
        }
      ]
    },
    {
      "cell_type": "code",
      "source": [
        "# Porém... se passarmos 2 listas com array[ [lista_linhas], [lista_colunas] ]\n",
        "array_aux[ [1,2], [2,3] ]"
      ],
      "metadata": {
        "colab": {
          "base_uri": "https://localhost:8080/"
        },
        "id": "7CHnrxyj5ywN",
        "outputId": "a7b33b2c-ec2e-44f8-da81-a1fd9c2d0e90"
      },
      "execution_count": 245,
      "outputs": [
        {
          "output_type": "execute_result",
          "data": {
            "text/plain": [
              "array([2, 3])"
            ]
          },
          "metadata": {},
          "execution_count": 245
        }
      ]
    },
    {
      "cell_type": "markdown",
      "source": [
        "**Exercícios de fixação**"
      ],
      "metadata": {
        "id": "ojMZYABf5UNK"
      }
    },
    {
      "cell_type": "markdown",
      "source": [
        "Dado o array a seguir, faça o que se pede"
      ],
      "metadata": {
        "id": "RUGGtJx-6Mon"
      }
    },
    {
      "cell_type": "code",
      "source": [
        "array_aux = np.random.randint(0,5,20,int).reshape(4,5)\n",
        "array_aux"
      ],
      "metadata": {
        "colab": {
          "base_uri": "https://localhost:8080/"
        },
        "id": "njfHnrk-8wmW",
        "outputId": "4079aee9-c899-4193-df89-41c9ac05c4bf"
      },
      "execution_count": 246,
      "outputs": [
        {
          "output_type": "execute_result",
          "data": {
            "text/plain": [
              "array([[4, 4, 3, 1, 0],\n",
              "       [1, 2, 0, 3, 3],\n",
              "       [0, 0, 4, 0, 4],\n",
              "       [0, 3, 3, 0, 0]])"
            ]
          },
          "metadata": {},
          "execution_count": 246
        }
      ]
    },
    {
      "cell_type": "code",
      "source": [
        "# Retorne as colunas 1, 3 e 4\n",
        "array_aux[:,[0,2,3]]"
      ],
      "metadata": {
        "id": "0fi8VX_S8Uwp",
        "colab": {
          "base_uri": "https://localhost:8080/"
        },
        "outputId": "ac096ae0-9931-4eff-b59f-bcf04eb168ce"
      },
      "execution_count": 247,
      "outputs": [
        {
          "output_type": "execute_result",
          "data": {
            "text/plain": [
              "array([[4, 3, 1],\n",
              "       [1, 0, 3],\n",
              "       [0, 4, 0],\n",
              "       [0, 3, 0]])"
            ]
          },
          "metadata": {},
          "execution_count": 247
        }
      ]
    },
    {
      "cell_type": "code",
      "source": [
        "# Retorne as linhas 3 e 4\n",
        "array_aux[ [2,3], : ]"
      ],
      "metadata": {
        "id": "lR3-uICa875M",
        "colab": {
          "base_uri": "https://localhost:8080/"
        },
        "outputId": "4f84514a-aa2f-418a-f3b5-d7aeb228682b"
      },
      "execution_count": 248,
      "outputs": [
        {
          "output_type": "execute_result",
          "data": {
            "text/plain": [
              "array([[0, 0, 4, 0, 4],\n",
              "       [0, 3, 3, 0, 0]])"
            ]
          },
          "metadata": {},
          "execution_count": 248
        }
      ]
    },
    {
      "cell_type": "code",
      "source": [
        "# Retorne a partir da coluna 3 e a partir da linha 2\n",
        "array_aux[ 1:, 2: ]"
      ],
      "metadata": {
        "id": "2jb1HpOL8-Yt",
        "colab": {
          "base_uri": "https://localhost:8080/"
        },
        "outputId": "bf6dd7d4-1d90-4e9b-bbf1-6892004b1406"
      },
      "execution_count": 249,
      "outputs": [
        {
          "output_type": "execute_result",
          "data": {
            "text/plain": [
              "array([[0, 3, 3],\n",
              "       [4, 0, 4],\n",
              "       [3, 0, 0]])"
            ]
          },
          "metadata": {},
          "execution_count": 249
        }
      ]
    },
    {
      "cell_type": "code",
      "source": [
        "# Retorne a primeira e última linha das 2 últimas colunas\n",
        "array_aux[ [0,-1] , -2: ]"
      ],
      "metadata": {
        "id": "6tWinL3N9H4V",
        "colab": {
          "base_uri": "https://localhost:8080/"
        },
        "outputId": "ef57ae9a-86ab-4018-c960-8a8a207701b6"
      },
      "execution_count": 250,
      "outputs": [
        {
          "output_type": "execute_result",
          "data": {
            "text/plain": [
              "array([[1, 0],\n",
              "       [0, 0]])"
            ]
          },
          "metadata": {},
          "execution_count": 250
        }
      ]
    },
    {
      "cell_type": "code",
      "source": [
        "# Retorne o elemento da primeira linha e primeira coluna e o elemento da segunda linha e quarta coluna\n",
        "array_aux[ [0,1], [0,3] ]"
      ],
      "metadata": {
        "id": "yxPSJR0I9UF2",
        "colab": {
          "base_uri": "https://localhost:8080/"
        },
        "outputId": "83d326e8-cd25-4b48-cf31-db2f1921a9d8"
      },
      "execution_count": 251,
      "outputs": [
        {
          "output_type": "execute_result",
          "data": {
            "text/plain": [
              "array([4, 3])"
            ]
          },
          "metadata": {},
          "execution_count": 251
        }
      ]
    },
    {
      "cell_type": "markdown",
      "source": [
        " Métodos Ravel e Flatten"
      ],
      "metadata": {
        "id": "lHf-EfIS9qlL"
      }
    },
    {
      "cell_type": "code",
      "source": [
        "# Utilizando o ravel para transformar um array bidimensional em um array unidimensional com o array.ravel()\n",
        "\n",
        "array_aux = np.arange(12).reshape(4,3)\n",
        "#array_ravel = \n",
        "array_aux.ravel()"
      ],
      "metadata": {
        "colab": {
          "base_uri": "https://localhost:8080/"
        },
        "id": "_vnmPSij9tL2",
        "outputId": "abc85cdf-8a5b-4f75-a4a1-53788af2567d"
      },
      "execution_count": 252,
      "outputs": [
        {
          "output_type": "execute_result",
          "data": {
            "text/plain": [
              "array([ 0,  1,  2,  3,  4,  5,  6,  7,  8,  9, 10, 11])"
            ]
          },
          "metadata": {},
          "execution_count": 252
        }
      ]
    },
    {
      "cell_type": "code",
      "source": [
        "# Utilizando o flatten para transformar um array bidimensional em um array unidimensional com o array.flatten()\n",
        "\n",
        "array_aux = np.arange(12).reshape(4,3)\n",
        "# array_flatten = \n",
        "array_aux.flatten()"
      ],
      "metadata": {
        "id": "3TAKtgYR-PkW",
        "colab": {
          "base_uri": "https://localhost:8080/"
        },
        "outputId": "005917f8-347b-4f8c-9e35-71142d5b73aa"
      },
      "execution_count": 253,
      "outputs": [
        {
          "output_type": "execute_result",
          "data": {
            "text/plain": [
              "array([ 0,  1,  2,  3,  4,  5,  6,  7,  8,  9, 10, 11])"
            ]
          },
          "metadata": {},
          "execution_count": 253
        }
      ]
    },
    {
      "cell_type": "markdown",
      "source": [
        "Qual a diferença então?\n",
        "- O método ravel cria uma VIEW!\n",
        "- O método flatten cria uma cópia!"
      ],
      "metadata": {
        "id": "U9dm5m2g-oMG"
      }
    },
    {
      "cell_type": "code",
      "source": [
        "array_original = np.arange(12).reshape(4,3)\n",
        "print(f'Array original\\n: {array_original}')\n",
        "print('-'*40)\n",
        "\n",
        "array_ravel = array_original.ravel()\n",
        "\n",
        "print(f'Array ravel antes da alteração\\n: {array_ravel}')\n",
        "print('-'*40)\n",
        "\n",
        "# alterando um valor no array ravel\n",
        "array_ravel[0] = 3333\n",
        "print(f'Array ravel depois da alteração\\n: {array_ravel}')\n",
        "print('-'*40)\n",
        "\n",
        "# verificando se o array ravel modificou o array original\n",
        "print(f'Array original\\n: {array_original}')"
      ],
      "metadata": {
        "colab": {
          "base_uri": "https://localhost:8080/"
        },
        "id": "3Z4z-B-0-wN7",
        "outputId": "00ccf8d3-6de6-4657-f031-a36c9de042a1"
      },
      "execution_count": 254,
      "outputs": [
        {
          "output_type": "stream",
          "name": "stdout",
          "text": [
            "Array original\n",
            ": [[ 0  1  2]\n",
            " [ 3  4  5]\n",
            " [ 6  7  8]\n",
            " [ 9 10 11]]\n",
            "----------------------------------------\n",
            "Array ravel antes da alteração\n",
            ": [ 0  1  2  3  4  5  6  7  8  9 10 11]\n",
            "----------------------------------------\n",
            "Array ravel depois da alteração\n",
            ": [3333    1    2    3    4    5    6    7    8    9   10   11]\n",
            "----------------------------------------\n",
            "Array original\n",
            ": [[3333    1    2]\n",
            " [   3    4    5]\n",
            " [   6    7    8]\n",
            " [   9   10   11]]\n"
          ]
        }
      ]
    },
    {
      "cell_type": "code",
      "source": [
        "array_original = np.arange(12).reshape(4,3)\n",
        "print(f'Array original\\n: {array_original}')\n",
        "print('-'*40)\n",
        "\n",
        "array_flatten = array_original.flatten()\n",
        "\n",
        "print(f'Array flatten antes da alteração\\n: {array_flatten}')\n",
        "print('-'*40)\n",
        "\n",
        "# alterando um valor no array ravel\n",
        "array_flatten[0] = 3333\n",
        "print(f'Array flatten depois da alteração\\n: {array_flatten}')\n",
        "print('-'*40)\n",
        "\n",
        "# verificando se o array ravel modificou o array original\n",
        "print(f'Array original\\n: {array_original}')"
      ],
      "metadata": {
        "colab": {
          "base_uri": "https://localhost:8080/"
        },
        "id": "0nWU3G6c_uuo",
        "outputId": "3ed2a20f-a43c-4248-c32e-e3749f8e47db"
      },
      "execution_count": 255,
      "outputs": [
        {
          "output_type": "stream",
          "name": "stdout",
          "text": [
            "Array original\n",
            ": [[ 0  1  2]\n",
            " [ 3  4  5]\n",
            " [ 6  7  8]\n",
            " [ 9 10 11]]\n",
            "----------------------------------------\n",
            "Array flatten antes da alteração\n",
            ": [ 0  1  2  3  4  5  6  7  8  9 10 11]\n",
            "----------------------------------------\n",
            "Array flatten depois da alteração\n",
            ": [3333    1    2    3    4    5    6    7    8    9   10   11]\n",
            "----------------------------------------\n",
            "Array original\n",
            ": [[ 0  1  2]\n",
            " [ 3  4  5]\n",
            " [ 6  7  8]\n",
            " [ 9 10 11]]\n"
          ]
        }
      ]
    },
    {
      "cell_type": "markdown",
      "source": [
        "Matriz transposta"
      ],
      "metadata": {
        "id": "CF-k0PWfAHsh"
      }
    },
    {
      "cell_type": "code",
      "source": [
        "# Dada a matriz a seguir\n",
        "matriz_aux = np.arange(15).reshape(3,5)\n",
        "matriz_aux"
      ],
      "metadata": {
        "colab": {
          "base_uri": "https://localhost:8080/"
        },
        "id": "ttan5SFFAKIk",
        "outputId": "3971eca6-f85c-4f68-a010-a6c15c30ae11"
      },
      "execution_count": 256,
      "outputs": [
        {
          "output_type": "execute_result",
          "data": {
            "text/plain": [
              "array([[ 0,  1,  2,  3,  4],\n",
              "       [ 5,  6,  7,  8,  9],\n",
              "       [10, 11, 12, 13, 14]])"
            ]
          },
          "metadata": {},
          "execution_count": 256
        }
      ]
    },
    {
      "cell_type": "code",
      "source": [
        "# Sua transposta será dada por matriz.T\n",
        "matriz_aux.T"
      ],
      "metadata": {
        "id": "HLqOvpvlAkfO",
        "colab": {
          "base_uri": "https://localhost:8080/"
        },
        "outputId": "806d2106-3983-4ee9-fec2-e543f4352da1"
      },
      "execution_count": 257,
      "outputs": [
        {
          "output_type": "execute_result",
          "data": {
            "text/plain": [
              "array([[ 0,  5, 10],\n",
              "       [ 1,  6, 11],\n",
              "       [ 2,  7, 12],\n",
              "       [ 3,  8, 13],\n",
              "       [ 4,  9, 14]])"
            ]
          },
          "metadata": {},
          "execution_count": 257
        }
      ]
    },
    {
      "cell_type": "markdown",
      "source": [
        "**Exercício**\n",
        "\n",
        "Dado o array a seguir, escreve um código que encontre a mediana de um array de tamanho ímpar (sem usar funções prontas)\n",
        "\n",
        "Dica: use o método sorted() e len()"
      ],
      "metadata": {
        "id": "ECDE0G5OsYDB"
      }
    },
    {
      "cell_type": "code",
      "source": [
        "array_aux = np.random.randint(1,10, 15, int)\n",
        "print(array_aux)\n",
        "\n",
        "# Resolva\n",
        "\n",
        "# Seu código vai aqui\n",
        "\n",
        "tam_array = len( array_aux )\n",
        "pos_mediana = int( tam_array/2 )\n",
        "\n",
        "array_aux_sorted = sorted( array_aux )\n",
        "\n",
        "mediana = float (array_aux_sorted[ pos_mediana ] )\n",
        "\n",
        "print('Seu resultado da mediana: ', mediana)\n",
        "print(f'Seu resultado da mediana: {mediana:.2}')\n",
        "\n",
        "# Conferindo se o resultado está correto\n",
        "print('Mediana usando numpy: ', np.median(array_aux))"
      ],
      "metadata": {
        "id": "ZZmhZwQvssAJ",
        "colab": {
          "base_uri": "https://localhost:8080/"
        },
        "outputId": "a3c04b94-ef29-45ce-e3a1-12b5c017d0cd"
      },
      "execution_count": 258,
      "outputs": [
        {
          "output_type": "stream",
          "name": "stdout",
          "text": [
            "[8 9 7 9 4 8 8 6 2 7 9 8 4 5 7]\n",
            "Seu resultado da mediana:  7.0\n",
            "Seu resultado da mediana: 7.0\n",
            "Mediana usando numpy:  7.0\n"
          ]
        }
      ]
    },
    {
      "cell_type": "markdown",
      "source": [
        "Extra: procurando o erro no código pelo Google Colab usando alt+f8"
      ],
      "metadata": {
        "id": "ttX6rYH2qE8M"
      }
    },
    {
      "cell_type": "code",
      "source": [
        "# Procurando o erro no código\n",
        "\n",
        "# aux = [1,2,3,4,5]\n",
        "\n",
        "# aux.harmonic_mean()\n",
        "\n",
        "# print('Texto aleatorio')"
      ],
      "metadata": {
        "id": "3MT8uxRNqG6H"
      },
      "execution_count": 259,
      "outputs": []
    },
    {
      "cell_type": "markdown",
      "source": [
        "**Máscaras Booleanas**\n",
        "- Importante❗"
      ],
      "metadata": {
        "id": "WZBsbfpFleWn"
      }
    },
    {
      "cell_type": "code",
      "source": [
        "# 1º: Reforçando operações Booleanas\n",
        "\n",
        "A = 2\n",
        "B = 5\n",
        "C = 6\n",
        "\n",
        "# A é maior que B? Não\n",
        "A>B\n",
        "# A é menor que B? Sim\n",
        "A<B\n",
        "# A é menor que B e menor que C? Sim\n",
        "(A<B) & (A<C)\n",
        "\n",
        "# A é menor que B e maior que C? Não\n",
        "(A<B) & (A>C)\n",
        "# A é maior que B ou A é menor que C? Sim\n",
        "(A>B) | (A<C)\n",
        "# Outra forma de escrever 'e' e 'ou'  -> Não recomendo\n",
        "# and como &, or como |"
      ],
      "metadata": {
        "id": "uEg7Gb55lwzf",
        "outputId": "7a2efd3d-2798-46e7-dcff-ad4263bb27d5",
        "colab": {
          "base_uri": "https://localhost:8080/"
        }
      },
      "execution_count": 260,
      "outputs": [
        {
          "output_type": "execute_result",
          "data": {
            "text/plain": [
              "True"
            ]
          },
          "metadata": {},
          "execution_count": 260
        }
      ]
    },
    {
      "cell_type": "code",
      "source": [
        "# Criando um array com valores de 1 a 50\n",
        "import numpy as np\n",
        "array_50 = np.arange(51)\n",
        "print('Array exemplo:\\n', array_50)\n",
        "print('-'*80)\n",
        "print('Resultado da transformação:\\n')\n",
        "\n",
        "# Vamos filtrar os valores multiplos de 5 com uma máscara!\n",
        "mask = ( array_50 % 5 == 0 )\n",
        "\n",
        "# Como uma condição acontece quando o valor é verdadeiro então vamos passar\n",
        "# o valor com array[ mask ]\n",
        "array_50[ mask ]\n",
        "\n",
        "\n",
        "# Vamos trocar esses elementos múltiplos de 5 por 888 com array[ mask ] = 888\n",
        "array_50[ mask ] = 888\n",
        "array_50"
      ],
      "metadata": {
        "id": "zlKQGoKxqJf1",
        "colab": {
          "base_uri": "https://localhost:8080/"
        },
        "outputId": "c7e40ecf-00e1-4ca7-fdb1-bfe6bdf6a010"
      },
      "execution_count": 261,
      "outputs": [
        {
          "output_type": "stream",
          "name": "stdout",
          "text": [
            "Array exemplo:\n",
            " [ 0  1  2  3  4  5  6  7  8  9 10 11 12 13 14 15 16 17 18 19 20 21 22 23\n",
            " 24 25 26 27 28 29 30 31 32 33 34 35 36 37 38 39 40 41 42 43 44 45 46 47\n",
            " 48 49 50]\n",
            "--------------------------------------------------------------------------------\n",
            "Resultado da transformação:\n",
            "\n"
          ]
        },
        {
          "output_type": "execute_result",
          "data": {
            "text/plain": [
              "array([888,   1,   2,   3,   4, 888,   6,   7,   8,   9, 888,  11,  12,\n",
              "        13,  14, 888,  16,  17,  18,  19, 888,  21,  22,  23,  24, 888,\n",
              "        26,  27,  28,  29, 888,  31,  32,  33,  34, 888,  36,  37,  38,\n",
              "        39, 888,  41,  42,  43,  44, 888,  46,  47,  48,  49, 888])"
            ]
          },
          "metadata": {},
          "execution_count": 261
        }
      ]
    },
    {
      "cell_type": "markdown",
      "source": [
        "Exercício\n",
        "\n",
        "Em uma base de dado de alguns alunos há notas negativas. Mas ninguém consegue tirar uma nova negativa (certo?!). <br>\n",
        "Sendo assim, quando encontrar um valor negativo no array (unidimensional), altere o valor para que ele se torne positivo.\n",
        "\n",
        "Ex. de entrada:\n",
        "> 10, 5, -4, 10, 9 <br>\n",
        "\n",
        "Ex. de saída <br>\n",
        "> 10, 5, 4, 10, 9<br>\n",
        "\n",
        "<img src = \"https://conteudo.imguol.com.br/c/noticias/e6/2015/09/14/alunos-de-exatas-fazem-piada-com-a-rotina-de-estudos-nas-redes-sociais-1442243660716_300x300.jpg.webp\" width=30%>"
      ],
      "metadata": {
        "id": "1sD018JJw98u"
      }
    },
    {
      "cell_type": "code",
      "source": [
        "notas = np.array( [10, 5, 3, -3, 6, 8, 10, -6, 0] )\n",
        "\n",
        "# Resolva\n",
        "mask = ( notas < 0 )\n",
        "notas[ mask ] = notas[ mask ] * -1\n",
        "notas"
      ],
      "metadata": {
        "id": "4J03J3NhyMsU",
        "colab": {
          "base_uri": "https://localhost:8080/"
        },
        "outputId": "c59b7934-6400-49be-bd72-6add8e3ac515"
      },
      "execution_count": 262,
      "outputs": [
        {
          "output_type": "execute_result",
          "data": {
            "text/plain": [
              "array([10,  5,  3,  3,  6,  8, 10,  6,  0])"
            ]
          },
          "metadata": {},
          "execution_count": 262
        }
      ]
    },
    {
      "cell_type": "markdown",
      "source": [
        "## Desafio do dia\n",
        "\n",
        "Escreva um código que recebe 2 parâmetros (2 colunas) e devolve uma nova matriz com as colunas invertidas.\n",
        "\n",
        "Por exemplo\n",
        "\n",
        "\n",
        "```\n",
        "matriz  =\n",
        "[1, 2, 3]\n",
        "[4, 5, 6]\n",
        "\n",
        "ao aplicarmos a função troca_coluna(0,2), temos o resultado:\n",
        "[3, 2, 1]\n",
        "[6, 5, 4]\n",
        "```\n",
        "\n"
      ],
      "metadata": {
        "id": "5udrip6R1LpR"
      }
    },
    {
      "cell_type": "markdown",
      "source": [
        "**Broadcast**\n",
        "\n",
        "Um método para tentar aumentar a eficiência de cálculos de matrizes ao tentar fazer uma \"transmissão\" do vetor de menor tamanho para o de maior tamanho. Com isso, conseguimos fazer soma entre dois arrays e outras operações aritméticas calculando elemento a elemento.\n",
        "\n",
        "Vamos tentar entender na prática ⏭\n"
      ],
      "metadata": {
        "id": "mm_xu2UA26BN"
      }
    },
    {
      "cell_type": "code",
      "source": [
        "# Como multiplicar um array por 2\n",
        "\n",
        "array_aux = np.arange(12).reshape(4,3)\n",
        "\n",
        "print('Array antes da multiplicação:\\n', array_aux)\n",
        "\n",
        "multiplicador = 2\n",
        "\n",
        "print('\\nArray após a multiplicação:\\n', array_aux * multiplicador)"
      ],
      "metadata": {
        "id": "t8UGm_db3bBx",
        "colab": {
          "base_uri": "https://localhost:8080/"
        },
        "outputId": "1eb4ab4a-ae57-4162-aac2-a01314e586af"
      },
      "execution_count": 263,
      "outputs": [
        {
          "output_type": "stream",
          "name": "stdout",
          "text": [
            "Array antes da multiplicação:\n",
            " [[ 0  1  2]\n",
            " [ 3  4  5]\n",
            " [ 6  7  8]\n",
            " [ 9 10 11]]\n",
            "\n",
            "Array após a multiplicação:\n",
            " [[ 0  2  4]\n",
            " [ 6  8 10]\n",
            " [12 14 16]\n",
            " [18 20 22]]\n"
          ]
        }
      ]
    },
    {
      "cell_type": "markdown",
      "source": [
        "O que aconteceu?\n",
        "Replicamos o valor 2 para uma matriz de mesmo tamanho do array original e então multiplicamos elemento a elemento.\n",
        "\n",
        "<img src=\"https://www.astroml.org/_images/fig_broadcast_visual_1.png\" width =50%>\n",
        "\n",
        "*fonte: https://www.astroml.org/_images/fig_broadcast_visual_1.png*"
      ],
      "metadata": {
        "id": "IpddvO3Z4OS-"
      }
    },
    {
      "cell_type": "code",
      "source": [
        "# Forçando um broadcast NA LINHA para criar um novo array a partir de outro existente\n",
        "\n",
        "# 1º: Criamos o esqueleto\n",
        "esqueleto = np.ones((4,4))  # matriz de 1's de 4 linhas e 4 colunas\n",
        "print('Array \"esqueleto\":\\n ')\n",
        "print(esqueleto)\n",
        "print('-'*80)\n",
        "\n",
        "# 2º: Criamos o array ao qual faremos um broadcasting\n",
        "esqueleto[:] = np.array( [2,3,8,9] )\n",
        "print('Array após o broadcasting:\\n')\n",
        "print(esqueleto)"
      ],
      "metadata": {
        "id": "hAur4cJmF-0p",
        "colab": {
          "base_uri": "https://localhost:8080/"
        },
        "outputId": "b22be3d7-faf4-4d86-bac2-c532812a7e5d"
      },
      "execution_count": 264,
      "outputs": [
        {
          "output_type": "stream",
          "name": "stdout",
          "text": [
            "Array \"esqueleto\":\n",
            " \n",
            "[[1. 1. 1. 1.]\n",
            " [1. 1. 1. 1.]\n",
            " [1. 1. 1. 1.]\n",
            " [1. 1. 1. 1.]]\n",
            "--------------------------------------------------------------------------------\n",
            "Array após o broadcasting:\n",
            "\n",
            "[[2. 3. 8. 9.]\n",
            " [2. 3. 8. 9.]\n",
            " [2. 3. 8. 9.]\n",
            " [2. 3. 8. 9.]]\n"
          ]
        }
      ]
    },
    {
      "cell_type": "code",
      "source": [
        "# Realizando o mesmo broadcasting para COLUNA\n",
        "\n",
        "# 1º: Criamos o esqueleto\n",
        "esqueleto = np.ones((4,4))\n",
        "print('Array \"esqueleto\":\\n ')\n",
        "print(esqueleto)\n",
        "print('-'*80)\n",
        "\n",
        "# 2º: Criamos o array ao qual faremos um broadcasting\n",
        "esqueleto[:] = np.array( [2,3,8,9] ).reshape(4,1)  # Fazemos um reshape do formato (1,4) para o formato (4,1)\n",
        "print('Array após o broadcasting:\\n')\n",
        "print(esqueleto)"
      ],
      "metadata": {
        "id": "fQAiKmI8HFkf",
        "colab": {
          "base_uri": "https://localhost:8080/"
        },
        "outputId": "92e578db-3a98-4d39-f536-56df45f4756f"
      },
      "execution_count": 265,
      "outputs": [
        {
          "output_type": "stream",
          "name": "stdout",
          "text": [
            "Array \"esqueleto\":\n",
            " \n",
            "[[1. 1. 1. 1.]\n",
            " [1. 1. 1. 1.]\n",
            " [1. 1. 1. 1.]\n",
            " [1. 1. 1. 1.]]\n",
            "--------------------------------------------------------------------------------\n",
            "Array após o broadcasting:\n",
            "\n",
            "[[2. 2. 2. 2.]\n",
            " [3. 3. 3. 3.]\n",
            " [8. 8. 8. 8.]\n",
            " [9. 9. 9. 9.]]\n"
          ]
        }
      ]
    },
    {
      "cell_type": "code",
      "source": [
        "# Verificando se um array é igual a outro em todos seus elementos\n",
        "\n",
        "# Criando os vetores\n",
        "array_1 = np.identity(3)\n",
        "array_2 = np.array( [[1,0,0], [0,1,0], [0,0,1]], int )\n",
        "\n",
        "# 1º: Buscando os valores que são iguais em ambos os vetores\n",
        "elementos_iguais = array_1 == array_2\n",
        "\n",
        "# 2º: Retornando se todos os elementos dos dois arrays são iguais com np.all(elementos_iguais)\n",
        "comparacao = np.all(elementos_iguais)\n",
        "\n",
        "# 3º: Respondendo se os arrays são iguais ou não\n",
        "f = lambda x: print('Os arrays são iguais') if x == True else print('Os arrays são diferentes')\n",
        "f( comparacao )"
      ],
      "metadata": {
        "id": "wdwzkP_49TbR",
        "outputId": "fac6f942-f8ef-403f-c4ef-87bd443c0e5a",
        "colab": {
          "base_uri": "https://localhost:8080/"
        }
      },
      "execution_count": 266,
      "outputs": [
        {
          "output_type": "stream",
          "name": "stdout",
          "text": [
            "Os arrays são iguais\n"
          ]
        }
      ]
    },
    {
      "cell_type": "code",
      "source": [
        "# Criando os vetores\n",
        "array_1 = np.identity(3)\n",
        "array_2 = np.array( [[1,0,0], [0,1,0], [0,0,1]], int )\n",
        "\n",
        "print(array_1)\n",
        "print('-'*80)\n",
        "print(array_2)"
      ],
      "metadata": {
        "id": "k4TepXxaZ0Jn",
        "outputId": "b1d64b03-e1d1-44e4-8ec4-d3451b970af6",
        "colab": {
          "base_uri": "https://localhost:8080/"
        }
      },
      "execution_count": 267,
      "outputs": [
        {
          "output_type": "stream",
          "name": "stdout",
          "text": [
            "[[1. 0. 0.]\n",
            " [0. 1. 0.]\n",
            " [0. 0. 1.]]\n",
            "--------------------------------------------------------------------------------\n",
            "[[1 0 0]\n",
            " [0 1 0]\n",
            " [0 0 1]]\n"
          ]
        }
      ]
    },
    {
      "cell_type": "markdown",
      "source": [
        "Obs:<br>\n",
        "Caso queira saber se algum elemento qualquer do array_1 também está no array_2 use `np.any(comparacao)`"
      ],
      "metadata": {
        "id": "IYUvTsrkOm0s"
      }
    },
    {
      "cell_type": "code",
      "source": [
        "# Criando os vetores\n",
        "array_1 = np.identity(3)\n",
        "array_2 = np.array( [[1,0,0], [0,1,0], [0,0,1]], int )\n",
        "\n",
        "# Outra opção é utilizar o numpy com np.array_equal(arr1, arr2)\n",
        "np.array_equal(array_1, array_2)"
      ],
      "metadata": {
        "id": "QAv0UFIqENFe",
        "outputId": "8ae23bd5-dfe2-414c-9e9f-a6ee6e8d91f6",
        "colab": {
          "base_uri": "https://localhost:8080/"
        }
      },
      "execution_count": 268,
      "outputs": [
        {
          "output_type": "execute_result",
          "data": {
            "text/plain": [
              "True"
            ]
          },
          "metadata": {},
          "execution_count": 268
        }
      ]
    },
    {
      "cell_type": "markdown",
      "source": [
        "**Exercício**\n",
        "\n",
        "Dadaos os vetores [0 2 4 6 8 10] e [1 3 5 7 9 11], construa a matriz:\n",
        "\n",
        "\n",
        "```\n",
        "[  0,   0,   0,   0,   0,   0]\n",
        "[  2,   6,  10,  14,  18,  22]\n",
        "[  4,  12,  20,  28,  36,  44]\n",
        "[  6,  18,  30,  42,  54,  66]\n",
        "[  8,  24,  40,  56,  72,  88]\n",
        "[ 10,  30,  50,  70,  90, 110]\n",
        "```\n",
        "\n",
        "\n"
      ],
      "metadata": {
        "id": "fpuiyxA05qq1"
      }
    },
    {
      "cell_type": "code",
      "source": [
        "a = np.array( [0, 2, 4, 6, 8, 10] ) \n",
        "b = np.array( [1, 3, 5, 7, 9, 11] )\n",
        "\n",
        "# Resolva\n",
        "a = a.reshape(6,1)\n",
        "b = b.reshape(1,6)\n",
        "a*b"
      ],
      "metadata": {
        "id": "JR8obY6t7BR_",
        "outputId": "6ac8e0f3-7d97-4740-ca70-c08e7fcdabbc",
        "colab": {
          "base_uri": "https://localhost:8080/"
        }
      },
      "execution_count": 269,
      "outputs": [
        {
          "output_type": "execute_result",
          "data": {
            "text/plain": [
              "array([[  0,   0,   0,   0,   0,   0],\n",
              "       [  2,   6,  10,  14,  18,  22],\n",
              "       [  4,  12,  20,  28,  36,  44],\n",
              "       [  6,  18,  30,  42,  54,  66],\n",
              "       [  8,  24,  40,  56,  72,  88],\n",
              "       [ 10,  30,  50,  70,  90, 110]])"
            ]
          },
          "metadata": {},
          "execution_count": 269
        }
      ]
    },
    {
      "cell_type": "markdown",
      "source": [
        "**Reduções**"
      ],
      "metadata": {
        "id": "7GIU6VnIEqb2"
      }
    },
    {
      "cell_type": "markdown",
      "source": [
        "Funções de redução são funções que \"reduzem\" uma certa amostra de valores em uma única resposta.\n",
        "\n",
        "> Já utilizamos algumas, como: <br>\n",
        "> Soma, média, desvio padrão, valor máximo etc\n",
        "\n",
        "Ou seja... <br>\n",
        "Dado uma série de valores, reduzimos à um resultado"
      ],
      "metadata": {
        "id": "QVu-Vs44E1dX"
      }
    },
    {
      "cell_type": "markdown",
      "source": [
        "Para trabalhar com reduções no numpy, precisaremos entender como funcionas os eixos.\n",
        "\n",
        "- Axis 0: Faz a redução de linhas <br>\n",
        "- Axis 1: Faz a redução de colunas <br>\n",
        "- Axis 3: Faz a redução no eixo Z <br>\n",
        "(...)\n",
        "\n",
        "Logo, se passarmos o comando max() para o array todo, retornaremos o maior elemento do array.\n",
        "\n",
        "Se passarmos o comando `max()` especificando o eixo 1 com `max(axis=1)`, encontraremos o maior valor da linha (pois estamos comprimindo as colunas ❗)\n",
        "\n",
        "Se passarmos o comando `max(axis=0)` encontraremos o maior valor das colunas.\n",
        "\n",
        "<img src=\"https://i.stack.imgur.com/zzTgR.png\" width = 50%>"
      ],
      "metadata": {
        "id": "wnhrO-KaJOJK"
      }
    },
    {
      "cell_type": "markdown",
      "source": [
        "Teste prático"
      ],
      "metadata": {
        "id": "8rW3BHBYK_Ou"
      }
    },
    {
      "cell_type": "code",
      "source": [
        "array_aux = np.arange(20).reshape(4,5)\n",
        "\n",
        "print('Array: \\n', array_aux, '\\n', '-'*80)\n",
        "\n",
        "# Soma do array todo com array.sum()\n",
        "soma = array_aux.sum()\n",
        "print('Soma do array', soma, '\\n', '-'*80)\n",
        "\n",
        "# Somando as linhas com axis=1 -> \"Para somar as linhas achatamos as colunas\"\n",
        "soma_linha = array_aux.sum(axis=1)\n",
        "print('Soma da linha: ', soma_linha, '\\n', '-'*80)\n",
        "\n",
        "# Somando as colunas com axis=0 -> \"Para somar as colunas achatamos as linhas\"\n",
        "soma_coluna = array_aux.sum(axis=0)\n",
        "print('Soma da coluna: ', soma_coluna)"
      ],
      "metadata": {
        "id": "vbPgaPYEK9sj",
        "colab": {
          "base_uri": "https://localhost:8080/"
        },
        "outputId": "9729e1c6-51b7-44bb-b803-917d5b7344ec"
      },
      "execution_count": 270,
      "outputs": [
        {
          "output_type": "stream",
          "name": "stdout",
          "text": [
            "Array: \n",
            " [[ 0  1  2  3  4]\n",
            " [ 5  6  7  8  9]\n",
            " [10 11 12 13 14]\n",
            " [15 16 17 18 19]] \n",
            " --------------------------------------------------------------------------------\n",
            "Soma do array 190 \n",
            " --------------------------------------------------------------------------------\n",
            "Soma da linha:  [10 35 60 85] \n",
            " --------------------------------------------------------------------------------\n",
            "Soma da coluna:  [30 34 38 42 46]\n"
          ]
        }
      ]
    },
    {
      "cell_type": "markdown",
      "source": [
        "Outros comandos de redução úteis\n",
        "- argmax()\n",
        "- argmin()\n",
        "- argsort()\n",
        "\n",
        "Obs: ao utilizarmos o método `array.sort()` ao invés de `np.sort(array)`, afetaremos o array original"
      ],
      "metadata": {
        "id": "SXSJo7q2Jef7"
      }
    },
    {
      "cell_type": "code",
      "source": [
        "# Seguinte o mesmo princípio do np.sum(), podemos ordenar por colunas ou linhas\n",
        "\n",
        "array_aux = np.array( [[1,3,2],[2,4,4],[5,2,1]] )\n",
        "print('Array original:\\n', array_aux)\n",
        "\n",
        "# Ordenando as linhas com axis=1\n",
        "array_ordenado_linha = np.sort(array_aux, axis=1)\n",
        "print( '\\nArray ordenado por linha:\\n', array_ordenado_linha )"
      ],
      "metadata": {
        "id": "hk5JwS1KIx1t",
        "colab": {
          "base_uri": "https://localhost:8080/"
        },
        "outputId": "a96ab8a7-1ebc-48b8-b5a5-f76e89b0a49c"
      },
      "execution_count": 271,
      "outputs": [
        {
          "output_type": "stream",
          "name": "stdout",
          "text": [
            "Array original:\n",
            " [[1 3 2]\n",
            " [2 4 4]\n",
            " [5 2 1]]\n",
            "\n",
            "Array ordenado por linha:\n",
            " [[1 2 3]\n",
            " [2 4 4]\n",
            " [1 2 5]]\n"
          ]
        }
      ]
    },
    {
      "cell_type": "code",
      "source": [
        "# Retornando os índices do array como se estivessem ordenado usando o np.argsort(array)\n",
        "\n",
        "array_aux = [1,3,5,2,5,6,99,0]\n",
        "\n",
        "array_argsort = np.argsort( array_aux )\n",
        "print(array_argsort)\n",
        "\n",
        "# Ou seja, o menor elemento está na posição 7, o segundo menor na posição 0 (...)\n",
        "# e o maior na posição 6\n",
        "\n",
        "# Obs: também é possível utilizar os eixos (...)"
      ],
      "metadata": {
        "colab": {
          "base_uri": "https://localhost:8080/"
        },
        "id": "K81f7ZlERgis",
        "outputId": "08953701-e035-4439-91dc-5701f5e254cc"
      },
      "execution_count": 272,
      "outputs": [
        {
          "output_type": "stream",
          "name": "stdout",
          "text": [
            "[7 0 3 1 2 4 5 6]\n"
          ]
        }
      ]
    },
    {
      "cell_type": "code",
      "source": [
        "array_aux = [1,3,5,2,5,6,99,0]\n",
        "\n",
        "# Buscando a posição do maior elemento com np.argmax()\n",
        "np.argmax( array_aux )\n",
        "\n",
        "# Buscando a posição do menor elemento com np.argmin()\n",
        "np.argmin( array_aux )"
      ],
      "metadata": {
        "id": "grIergUHSo6c",
        "outputId": "df5d7b0f-b28d-491d-84ff-038945ee08a0",
        "colab": {
          "base_uri": "https://localhost:8080/"
        }
      },
      "execution_count": 273,
      "outputs": [
        {
          "output_type": "execute_result",
          "data": {
            "text/plain": [
              "7"
            ]
          },
          "metadata": {},
          "execution_count": 273
        }
      ]
    },
    {
      "cell_type": "markdown",
      "source": [
        "**Exercício**\n",
        "\n",
        "1) Dado o array a seguir, encontre a linha com a maior média"
      ],
      "metadata": {
        "id": "MuBJaxX1TMJy"
      }
    },
    {
      "cell_type": "code",
      "source": [
        "array_aux = np.array( [[1,2,3,4,5], [2,3,2,3,2], [5,5,5,5,5],[10,9,5,0,0], [10,0,10,0,1]] )\n",
        "print(array_aux)\n",
        "\n",
        "# Resolva\n",
        "linha_maior_media = np.argmax( array_aux.mean(axis=1) )\n",
        "print(f'A linha com a maior média é: {linha_maior_media + 1}ª')"
      ],
      "metadata": {
        "colab": {
          "base_uri": "https://localhost:8080/"
        },
        "id": "5vQNMpSxTRmu",
        "outputId": "3ffe2109-9c95-4a96-c6fb-52be5ae5f540"
      },
      "execution_count": 274,
      "outputs": [
        {
          "output_type": "stream",
          "name": "stdout",
          "text": [
            "[[ 1  2  3  4  5]\n",
            " [ 2  3  2  3  2]\n",
            " [ 5  5  5  5  5]\n",
            " [10  9  5  0  0]\n",
            " [10  0 10  0  1]]\n",
            "A linha com a maior média é: 3ª\n"
          ]
        }
      ]
    },
    {
      "cell_type": "markdown",
      "source": [
        "2) Dado o array a seguir, encontre a posição do maior elemento e mostre qual é esse elemento"
      ],
      "metadata": {
        "id": "9OtL19AzTR73"
      }
    },
    {
      "cell_type": "code",
      "source": [
        "array_aux = np.array( [[1,2,3,4,5], [2,3,2,3,2], [5,5,5,5,5],[10,9,5,0,0], [11,0,10,0,1]] )\n",
        "print(array_aux)\n",
        "\n",
        "# Resolva\n",
        "pos_maior = np.argmax( array_aux )\n",
        "\n",
        "maior_elemento = np.max( array_aux )\n",
        "maior_elemento"
      ],
      "metadata": {
        "id": "m5peqr86Tc5O",
        "colab": {
          "base_uri": "https://localhost:8080/"
        },
        "outputId": "a1e1bb44-816b-4fd1-a68b-76e34287816e"
      },
      "execution_count": 275,
      "outputs": [
        {
          "output_type": "stream",
          "name": "stdout",
          "text": [
            "[[ 1  2  3  4  5]\n",
            " [ 2  3  2  3  2]\n",
            " [ 5  5  5  5  5]\n",
            " [10  9  5  0  0]\n",
            " [11  0 10  0  1]]\n"
          ]
        },
        {
          "output_type": "execute_result",
          "data": {
            "text/plain": [
              "11"
            ]
          },
          "metadata": {},
          "execution_count": 275
        }
      ]
    },
    {
      "cell_type": "markdown",
      "source": [
        "3) Seguindo a lógica anterior, mostre qual é o segundo maior elemento"
      ],
      "metadata": {
        "id": "rWNMBDyYTdEy"
      }
    },
    {
      "cell_type": "code",
      "source": [
        "array_aux = np.array( [[1,2,3,4,5], [2,3,2,3,2], [5,5,5,5,5],[10,9,5,0,0], [11,0,10,0,1]] )\n",
        "print(array_aux)\n",
        "\n",
        "# Resolva\n"
      ],
      "metadata": {
        "id": "fJYnoB_eTpcg",
        "outputId": "74c8fa4f-2af9-4370-8ac7-ebad4c1b629b",
        "colab": {
          "base_uri": "https://localhost:8080/"
        }
      },
      "execution_count": 276,
      "outputs": [
        {
          "output_type": "stream",
          "name": "stdout",
          "text": [
            "[[ 1  2  3  4  5]\n",
            " [ 2  3  2  3  2]\n",
            " [ 5  5  5  5  5]\n",
            " [10  9  5  0  0]\n",
            " [11  0 10  0  1]]\n"
          ]
        }
      ]
    },
    {
      "cell_type": "markdown",
      "source": [
        "# Matplotlib"
      ],
      "metadata": {
        "id": "pcqQD1sXd7i8"
      }
    },
    {
      "cell_type": "markdown",
      "source": [
        "Matplotlib é um pacote de visualização de gráficos que aceita dados em array (ou os converte automaticamente) e nos da um resultado visual.\n",
        "\n",
        "Seu módulo mais famoso é o pyplot!"
      ],
      "metadata": {
        "id": "eCAT98TFd9fr"
      }
    },
    {
      "cell_type": "markdown",
      "source": [
        "Podemos fazer o import dele com: <br>\n",
        "`import matplotlib`\n",
        "\n",
        "E para importar o pyplot:\n",
        "`from matplotlib import pyplot` <br>\n",
        "ou <br>\n",
        "`import matplotlib.pyplot`"
      ],
      "metadata": {
        "id": "fPLmmWjXf7xd"
      }
    },
    {
      "cell_type": "markdown",
      "source": [
        "*Obs: A beleza vem com o tempo*\n",
        "\n",
        "<img src = \"https://encrypted-tbn0.gstatic.com/images?q=tbn:ANd9GcSNyohI8C4n8UySkw_IXsqFZn51wbTpwZlzHg&usqp=CAU\" width=30%>"
      ],
      "metadata": {
        "id": "qCgoNbRXtoaY"
      }
    },
    {
      "cell_type": "code",
      "source": [
        "# Import com apelido\n",
        "\n",
        "import matplotlib.pyplot as plt"
      ],
      "metadata": {
        "id": "9HVpLaIfgHlY"
      },
      "execution_count": 277,
      "outputs": []
    },
    {
      "cell_type": "markdown",
      "source": [
        "Vamos relembrar alguns gráficos do ensino médio na prática!"
      ],
      "metadata": {
        "id": "3e6FMhKygvIs"
      }
    },
    {
      "cell_type": "code",
      "source": [
        "# Retornando uma função quadrática\n",
        "X = np.array( range(-20,21) )\n",
        "\n",
        "# Elevando os dados ao quadrado\n",
        "Y = X**2\n",
        "\n",
        "# Plot do gráfico com plt.plot(X,Y)\n",
        "plt.plot(X,Y)"
      ],
      "metadata": {
        "id": "dVu1tCYzgzUv",
        "outputId": "bf6fda7f-a5f5-4556-cf6e-17ae95488882",
        "colab": {
          "base_uri": "https://localhost:8080/",
          "height": 282
        }
      },
      "execution_count": 278,
      "outputs": [
        {
          "output_type": "execute_result",
          "data": {
            "text/plain": [
              "[<matplotlib.lines.Line2D at 0x7f41adffeb10>]"
            ]
          },
          "metadata": {},
          "execution_count": 278
        },
        {
          "output_type": "display_data",
          "data": {
            "text/plain": [
              "<Figure size 432x288 with 1 Axes>"
            ],
            "image/png": "[encoded data removed]"
          },
          "metadata": {
            "needs_background": "light"
          }
        }
      ]
    },
    {
      "cell_type": "code",
      "source": [
        "# Retornando uma função cúbica\n",
        "\n",
        "X = np.array( range(-20,21) )\n",
        "\n",
        "# Elevando os dados ao cubo\n",
        "Y = X**3\n",
        "\n",
        "# Plot do gráfico com plt.plot(X,Y)\n",
        "plt.plot(X,Y)"
      ],
      "metadata": {
        "id": "h4mvz6K5hghQ",
        "outputId": "9a77c6e9-8d90-4c4b-ecd3-02bb644f8ea4",
        "colab": {
          "base_uri": "https://localhost:8080/",
          "height": 282
        }
      },
      "execution_count": 279,
      "outputs": [
        {
          "output_type": "execute_result",
          "data": {
            "text/plain": [
              "[<matplotlib.lines.Line2D at 0x7f41adfdbe10>]"
            ]
          },
          "metadata": {},
          "execution_count": 279
        },
        {
          "output_type": "display_data",
          "data": {
            "text/plain": [
              "<Figure size 432x288 with 1 Axes>"
            ],
            "image/png": "[encoded data removed]"
          },
          "metadata": {
            "needs_background": "light"
          }
        }
      ]
    },
    {
      "cell_type": "code",
      "source": [
        "# Função seno\n",
        "\n",
        "from math import pi\n",
        "\n",
        "X = np.linspace(-2 * np.pi, 2 * np.pi, 1000)\n",
        "\n",
        "# Seno dos dados\n",
        "Y = np.sin(X)\n",
        "\n",
        "# Plot do gráfico com plt.plot(X,Y)\n",
        "plt.plot(X,Y)"
      ],
      "metadata": {
        "id": "KjYATWLGhv2l",
        "outputId": "1352e64d-e648-4a9b-ef1f-6c72641b2d23",
        "colab": {
          "base_uri": "https://localhost:8080/",
          "height": 282
        }
      },
      "execution_count": 280,
      "outputs": [
        {
          "output_type": "execute_result",
          "data": {
            "text/plain": [
              "[<matplotlib.lines.Line2D at 0x7f41bd2fef90>]"
            ]
          },
          "metadata": {},
          "execution_count": 280
        },
        {
          "output_type": "display_data",
          "data": {
            "text/plain": [
              "<Figure size 432x288 with 1 Axes>"
            ],
            "image/png": "[encoded data removed]"
          },
          "metadata": {
            "needs_background": "light"
          }
        }
      ]
    },
    {
      "cell_type": "code",
      "source": [
        "# Gráfico da tangente\n",
        "\n",
        "X = np.linspace(-2 * np.pi, 2 * np.pi, 1000)\n",
        "\n",
        "# Tangente dos dados\n",
        "Y = np.sin(X)/np.cos(X)   # ou np.tan(X)\n",
        "\n",
        "# Plot do gráfico com plt.plot(X,Y)\n",
        "plt.plot(X,Y)\n",
        "\n",
        "# Limitando a aplitude do eixo Y com plt.ylim(-5, 5)\n",
        "plt.ylim(-5,5)"
      ],
      "metadata": {
        "id": "JCM6Bqz8h6YH",
        "outputId": "b4377bf2-b023-4f1d-cc4a-844a0c6ee008",
        "colab": {
          "base_uri": "https://localhost:8080/",
          "height": 282
        }
      },
      "execution_count": 281,
      "outputs": [
        {
          "output_type": "execute_result",
          "data": {
            "text/plain": [
              "(-5.0, 5.0)"
            ]
          },
          "metadata": {},
          "execution_count": 281
        },
        {
          "output_type": "display_data",
          "data": {
            "text/plain": [
              "<Figure size 432x288 with 1 Axes>"
            ],
            "image/png": "[encoded data removed]"
          },
          "metadata": {
            "needs_background": "light"
          }
        }
      ]
    },
    {
      "cell_type": "code",
      "source": [
        "# Mudando o estilo da linha\n",
        "\n",
        "plt.plot(X, Y, color='orange', linewidth = 4, linestyle = ':') # Busque por outros estilos em https://matplotlib.org/2.0.2/users/pyplot_tutorial.html\n",
        "plt.ylim(-5,5)"
      ],
      "metadata": {
        "id": "BkSJ4Y5akL8l",
        "outputId": "6df406d0-e0e2-441f-c9bb-0973aa5ae5a6",
        "colab": {
          "base_uri": "https://localhost:8080/",
          "height": 282
        }
      },
      "execution_count": 282,
      "outputs": [
        {
          "output_type": "execute_result",
          "data": {
            "text/plain": [
              "(-5.0, 5.0)"
            ]
          },
          "metadata": {},
          "execution_count": 282
        },
        {
          "output_type": "display_data",
          "data": {
            "text/plain": [
              "<Figure size 432x288 with 1 Axes>"
            ],
            "image/png": "[encoded data removed]"
          },
          "metadata": {
            "needs_background": "light"
          }
        }
      ]
    },
    {
      "cell_type": "code",
      "source": [
        "# Adicionando um título ao gráfico\n",
        "plt.plot(X, Y, color='orange', linewidth = 4, linestyle = ':')\n",
        "plt.title('Gráfico da tangente')\n",
        "plt.ylim(-5,5)"
      ],
      "metadata": {
        "id": "vpyVMm4PnMOW",
        "outputId": "a823f9aa-33b2-4b4a-cd51-3332a06cc139",
        "colab": {
          "base_uri": "https://localhost:8080/",
          "height": 298
        }
      },
      "execution_count": 283,
      "outputs": [
        {
          "output_type": "execute_result",
          "data": {
            "text/plain": [
              "(-5.0, 5.0)"
            ]
          },
          "metadata": {},
          "execution_count": 283
        },
        {
          "output_type": "display_data",
          "data": {
            "text/plain": [
              "<Figure size 432x288 with 1 Axes>"
            ],
            "image/png": "[encoded data removed]"
          },
          "metadata": {
            "needs_background": "light"
          }
        }
      ]
    },
    {
      "cell_type": "code",
      "source": [
        "# Adicionando legenda nos eixos X e Y\n",
        "plt.plot(X, Y, color='orange', linewidth = 4, linestyle = ':')\n",
        "plt.xlabel('X')\n",
        "plt.ylabel('eixo Y')\n",
        "plt.title('Gráfico da tangente')\n",
        "plt.ylim(-5,5)"
      ],
      "metadata": {
        "id": "YS7fmFIMnTR-",
        "outputId": "fe67ba7b-1689-40f8-a717-14fd9d5bef19",
        "colab": {
          "base_uri": "https://localhost:8080/",
          "height": 312
        }
      },
      "execution_count": 284,
      "outputs": [
        {
          "output_type": "execute_result",
          "data": {
            "text/plain": [
              "(-5.0, 5.0)"
            ]
          },
          "metadata": {},
          "execution_count": 284
        },
        {
          "output_type": "display_data",
          "data": {
            "text/plain": [
              "<Figure size 432x288 with 1 Axes>"
            ],
            "image/png": "[encoded data removed]"
          },
          "metadata": {
            "needs_background": "light"
          }
        }
      ]
    },
    {
      "cell_type": "markdown",
      "source": [
        "Extra:<br>\n",
        "Para definir os intervalos dos eixos, passe uma lista com os valores desejados<br>\n",
        "`plt.axis([list])`"
      ],
      "metadata": {
        "id": "cVq83SaSr9p2"
      }
    },
    {
      "cell_type": "markdown",
      "source": [
        "**Exercício**\n",
        "\n",
        "Gere os dados de 1 a 50 e aplique a função log na base 2. <br>\n",
        "Feito isso, gere o gráfico com o `linestyle='--'` e cor vermelha!\n",
        "\n",
        "Dica: use a função https://numpy.org/doc/stable/reference/generated/numpy.log.html"
      ],
      "metadata": {
        "id": "KAICcOdok3yu"
      }
    },
    {
      "cell_type": "code",
      "source": [
        "# Resolva\n",
        "X = np.array( range(1,51) )\n",
        "Y = np.log2(X)\n",
        "\n",
        "plt.plot(X, Y, color = 'red', linestyle='--' )"
      ],
      "metadata": {
        "id": "wOLU3agulg_m",
        "outputId": "191d53d1-099d-4cb4-fd38-6b5f50a0801a",
        "colab": {
          "base_uri": "https://localhost:8080/",
          "height": 282
        }
      },
      "execution_count": 285,
      "outputs": [
        {
          "output_type": "execute_result",
          "data": {
            "text/plain": [
              "[<matplotlib.lines.Line2D at 0x7f41ad8aa390>]"
            ]
          },
          "metadata": {},
          "execution_count": 285
        },
        {
          "output_type": "display_data",
          "data": {
            "text/plain": [
              "<Figure size 432x288 with 1 Axes>"
            ],
            "image/png": "[encoded data removed]"
          },
          "metadata": {
            "needs_background": "light"
          }
        }
      ]
    },
    {
      "cell_type": "code",
      "source": [
        "# Extra: mais de um plot por vez (subplot)\n",
        "\n",
        "X = np.linspace(-2 * np.pi, 2 * np.pi, 1000)\n",
        "Y = np.sin(X)\n",
        "\n",
        "\n",
        "plt.subplot(2, 3, 1)   # Dado um esquema de 2 linhas e 3 colunas, coloque o próximo gráfico na primeira posição\n",
        "plt.plot(X, Y, color='orange', linewidth = 4, linestyle = ':')\n",
        "\n",
        "plt.subplot(2, 3, 2)\n",
        "plt.plot(X, Y, color='red', linewidth = 4, linestyle = ':')\n",
        "\n",
        "plt.subplot(2, 3, 3)\n",
        "plt.plot(X, Y, color='blue', linewidth = 4, linestyle = ':')\n",
        "\n",
        "plt.subplot(2, 3, 4)\n",
        "plt.plot(X, Y, color='yellow', linewidth = 4, linestyle = ':')\n",
        "\n",
        "plt.subplot(2, 3, 5)\n",
        "plt.plot(X, Y, color='black', linewidth = 4, linestyle = ':')\n",
        "\n",
        "plt.subplot(2, 3, 6)\n",
        "plt.plot(X, Y, color='green', linewidth = 4, linestyle = ':')"
      ],
      "metadata": {
        "colab": {
          "base_uri": "https://localhost:8080/",
          "height": 282
        },
        "id": "W1z9Z4ZMn-q0",
        "outputId": "447f6746-5fa9-416d-f1fe-e76b05fc6a1f"
      },
      "execution_count": 286,
      "outputs": [
        {
          "output_type": "execute_result",
          "data": {
            "text/plain": [
              "[<matplotlib.lines.Line2D at 0x7f41ad749fd0>]"
            ]
          },
          "metadata": {},
          "execution_count": 286
        },
        {
          "output_type": "display_data",
          "data": {
            "text/plain": [
              "<Figure size 432x288 with 6 Axes>"
            ],
            "image/png": "[encoded data removed]"
          },
          "metadata": {
            "needs_background": "light"
          }
        }
      ]
    },
    {
      "cell_type": "markdown",
      "source": [
        "Outros tipos de gráficos"
      ],
      "metadata": {
        "id": "EThHHAolsHko"
      }
    },
    {
      "cell_type": "code",
      "source": [
        "# Gerando dados normais\n",
        "\n",
        "mu, sigma = 0, 0.1 # mean and standard deviation\n",
        "s = np.random.normal(mu, sigma, 1000)"
      ],
      "metadata": {
        "id": "jDnaX5Y5sK0X"
      },
      "execution_count": 287,
      "outputs": []
    },
    {
      "cell_type": "code",
      "source": [
        "# Histograma\n",
        "\n",
        "plt.hist(s, 30)  # Gráfico de 30 elementos gerados"
      ],
      "metadata": {
        "colab": {
          "base_uri": "https://localhost:8080/",
          "height": 456
        },
        "id": "nW9iZfhhsI3-",
        "outputId": "ae411597-5ad7-4b75-aa20-0219c3e1a43e"
      },
      "execution_count": 288,
      "outputs": [
        {
          "output_type": "execute_result",
          "data": {
            "text/plain": [
              "(array([ 1.,  4.,  8., 14., 11., 26., 43., 34., 54., 63., 69., 77., 79.,\n",
              "        71., 76., 69., 73., 50., 53., 42., 33., 15., 11., 11.,  3.,  6.,\n",
              "         2.,  1.,  0.,  1.]),\n",
              " array([-0.27702579, -0.25609906, -0.23517234, -0.21424561, -0.19331888,\n",
              "        -0.17239215, -0.15146542, -0.13053869, -0.10961196, -0.08868523,\n",
              "        -0.0677585 , -0.04683177, -0.02590505, -0.00497832,  0.01594841,\n",
              "         0.03687514,  0.05780187,  0.0787286 ,  0.09965533,  0.12058206,\n",
              "         0.14150879,  0.16243552,  0.18336224,  0.20428897,  0.2252157 ,\n",
              "         0.24614243,  0.26706916,  0.28799589,  0.30892262,  0.32984935,\n",
              "         0.35077608]),\n",
              " <a list of 30 Patch objects>)"
            ]
          },
          "metadata": {},
          "execution_count": 288
        },
        {
          "output_type": "display_data",
          "data": {
            "text/plain": [
              "<Figure size 432x288 with 1 Axes>"
            ],
            "image/png": "[encoded data removed]"
          },
          "metadata": {
            "needs_background": "light"
          }
        }
      ]
    },
    {
      "cell_type": "code",
      "source": [
        "# Importando o seaborn\n",
        "import seaborn as sns\n",
        "\n",
        "penguins = sns.load_dataset(\"penguins\")\n",
        "sns.histplot(data=penguins, x=\"flipper_length_mm\")"
      ],
      "metadata": {
        "id": "WXlblBUj3HYl",
        "outputId": "61c9ff5f-6e7e-4b64-b725-8adc531fb532",
        "colab": {
          "base_uri": "https://localhost:8080/",
          "height": 297
        }
      },
      "execution_count": 289,
      "outputs": [
        {
          "output_type": "execute_result",
          "data": {
            "text/plain": [
              "<matplotlib.axes._subplots.AxesSubplot at 0x7f41ad5d7390>"
            ]
          },
          "metadata": {},
          "execution_count": 289
        },
        {
          "output_type": "display_data",
          "data": {
            "text/plain": [
              "<Figure size 432x288 with 1 Axes>"
            ],
            "image/png": "[encoded data removed]"
          },
          "metadata": {
            "needs_background": "light"
          }
        }
      ]
    },
    {
      "cell_type": "code",
      "source": [
        "# Barras\n",
        "\n",
        "# make data:\n",
        "np.random.seed(3)\n",
        "x = 0.5 + np.arange(8)\n",
        "y = np.random.uniform(2, 7, len(x))\n",
        "\n",
        "# plot\n",
        "fig, ax = plt.subplots()\n",
        "\n",
        "ax.bar(x, y, width=1, edgecolor=\"white\", linewidth=0.7)\n",
        "\n",
        "ax.set(xlim=(0, 8), xticks=np.arange(1, 8),\n",
        "       ylim=(0, 8), yticks=np.arange(1, 8))\n",
        "\n",
        "plt.show()"
      ],
      "metadata": {
        "colab": {
          "base_uri": "https://localhost:8080/",
          "height": 265
        },
        "id": "ziRvIcMosiy_",
        "outputId": "7885e5b4-55e7-4c75-d6d2-7bfb1d73cd68"
      },
      "execution_count": 290,
      "outputs": [
        {
          "output_type": "display_data",
          "data": {
            "text/plain": [
              "<Figure size 432x288 with 1 Axes>"
            ],
            "image/png": "[encoded data removed]"
          },
          "metadata": {
            "needs_background": "light"
          }
        }
      ]
    },
    {
      "cell_type": "code",
      "source": [
        "# Pizza\n",
        "\n",
        "# make data\n",
        "x = [1, 2, 3, 4]\n",
        "colors = plt.get_cmap('Blues')(np.linspace(0.2, 0.7, len(x)))\n",
        "\n",
        "# plot\n",
        "fig, ax = plt.subplots()\n",
        "ax.pie(x, colors=colors, radius=3, center=(4, 4),\n",
        "       wedgeprops={\"linewidth\": 1, \"edgecolor\": \"white\"}, frame=True)\n",
        "\n",
        "ax.set(xlim=(0, 8), xticks=np.arange(1, 8),\n",
        "       ylim=(0, 8), yticks=np.arange(1, 8))\n",
        "\n",
        "plt.show()"
      ],
      "metadata": {
        "colab": {
          "base_uri": "https://localhost:8080/",
          "height": 265
        },
        "id": "LSi-qURltPCM",
        "outputId": "a26c38dc-5692-49c8-d911-2d68dc35dc41"
      },
      "execution_count": 291,
      "outputs": [
        {
          "output_type": "display_data",
          "data": {
            "text/plain": [
              "<Figure size 432x288 with 1 Axes>"
            ],
            "image/png": "[encoded data removed]"
          },
          "metadata": {
            "needs_background": "light"
          }
        }
      ]
    },
    {
      "cell_type": "markdown",
      "source": [
        "## Extras\n",
        "\n",
        "Alguns exemplos de gráficos: https://matplotlib.org/stable/plot_types/index.html\n",
        "\n",
        "Cola para estilos de gráficos: https://matplotlib.org/3.5.0/gallery/style_sheets/style_sheets_reference.html"
      ],
      "metadata": {
        "id": "aPuZ3dC-s-v7"
      }
    },
    {
      "cell_type": "markdown",
      "source": [
        "# Pandas"
      ],
      "metadata": {
        "id": "TsK4fSW1tb-O"
      }
    },
    {
      "cell_type": "markdown",
      "source": [
        "Pandas é uma biblioteca que utiliza o matplotlib e numpy como base e retorna tabelas com indexação para linhas e colunas (como o excel) em formato de ***séries*** e ***dataframes*** por exemplo.\n",
        "\n",
        "Processaremos as tabelas com ele de forma fácil e muito mais rápida do que quando usamos excel para arquivos maiores, pois o limite de linhas no excel é de 1.048.576 linhas (consideravelmente pequeno).\n",
        "\n",
        "Sobre o retorno do pandas:\n",
        "1. Séries:\n",
        "- Semelhante a um array de uma dimensão, mas com a possibilidade de se indexar por \"nomes\" (rótulos) e não só inteiros.\n",
        "- Podem ser criadas a partir de dataframes e sequências básicas como listas, dicionários e arrays.\n",
        "- Encontrada pelo comando `pd.Series()`\n",
        "\n",
        "2. DataFrames:\n",
        "- Uma tabela propriamente dita (com indexação).\n",
        "- Podem ser importados para o python através de CSV, excel, web scraping etc.\n",
        "- Podem ser criados através de matriz, dicionários, listas de listas (entre outras listas e tuplas) etc.\n",
        "- Encontrado pelo comando `pd.DataFrame()`"
      ],
      "metadata": {
        "id": "Qkex237QGvCT"
      }
    },
    {
      "cell_type": "code",
      "source": [
        "# Importação do pacote pandas\n",
        "\n",
        "import pandas as pd"
      ],
      "metadata": {
        "id": "FNePixnWQsvN"
      },
      "execution_count": 292,
      "outputs": []
    },
    {
      "cell_type": "code",
      "source": [
        "import numpy as np\n",
        "\n",
        "# Criando um dataset aluno\n",
        "\n",
        "data = {'aluno'       : ['João', 'Ribeiro', 'Evaldo', 'Isaias', 'Jessyca','Anne','Luiz'],    \n",
        "        'idade'       : ['20', '29', '22', '21', '35', '32', '40'],    \n",
        "        'cidade'      : ['São Paulo', 'São João', 'Pinhal', 'Mococa', 'Poços', 'Botelhos', 'Pinhal'],\n",
        "        'aniversario' : ['021004', '930220', np.nan, '000420', '871212', '000101', np.nan] }    #np.nan nos traz um NaN (not a number)\n",
        "\n",
        "df = pd.DataFrame(data)\n",
        "\n",
        "print(df)"
      ],
      "metadata": {
        "id": "earrM4ckSx7I"
      },
      "execution_count": null,
      "outputs": []
    },
    {
      "cell_type": "code",
      "source": [
        "# Lendo as 5 primeiras linhas com o comando head()\n",
        "\n",
        "# Lendo as 3 primeiras linhas\n",
        "\n",
        "# Lendo as últimas 5 linhas com o tail()\n",
        "\n",
        "# Lendo 2 amostras aleatórias com o sample()\n"
      ],
      "metadata": {
        "id": "zjRsFXCNTlW-"
      },
      "execution_count": 294,
      "outputs": []
    },
    {
      "cell_type": "code",
      "source": [
        "# Acessando a coluna nome\n",
        "\n",
        "df['aluno']"
      ],
      "metadata": {
        "id": "muTHSg7MVEBE"
      },
      "execution_count": null,
      "outputs": []
    },
    {
      "cell_type": "code",
      "source": [
        "# Acessando as colunas nome e idade\n",
        "\n",
        "df[['aluno', 'idade']]"
      ],
      "metadata": {
        "id": "1B_DiYPTVKlN"
      },
      "execution_count": null,
      "outputs": []
    },
    {
      "cell_type": "code",
      "source": [
        "# Verificando o tipo dos dados de cada coluna: IMPORTANTE!\n",
        "\n",
        "df.dtypes"
      ],
      "metadata": {
        "id": "C26xipH1T6AY"
      },
      "execution_count": null,
      "outputs": []
    },
    {
      "cell_type": "code",
      "source": [
        "# Transformando a coluna idade para o tipo int\n",
        "\n",
        "df['idade'] = df['idade'].astype(int)\n",
        "\n",
        "df.dtypes"
      ],
      "metadata": {
        "id": "3BrqDtukVui1"
      },
      "execution_count": null,
      "outputs": []
    },
    {
      "cell_type": "code",
      "source": [
        "# Transformando a coluna aniversário para o tipo data\n",
        "\n",
        "df['aniversario'] = pd.to_datetime( df['aniversario'], format = '%y%m%d' )\n",
        "\n",
        "df.dtypes"
      ],
      "metadata": {
        "id": "NUZrVk-1U-Rh"
      },
      "execution_count": null,
      "outputs": []
    },
    {
      "cell_type": "code",
      "source": [
        "# Verificando como ficou a data após a transformação\n",
        "\n",
        "df.head(2)"
      ],
      "metadata": {
        "id": "HDoN-r4WbL0S"
      },
      "execution_count": null,
      "outputs": []
    },
    {
      "cell_type": "code",
      "source": [
        "# Verificando os rótulos das colunas com df.columns.values\n",
        "\n",
        "df.columns.values"
      ],
      "metadata": {
        "id": "mYkHL6OFUKoA"
      },
      "execution_count": null,
      "outputs": []
    },
    {
      "cell_type": "code",
      "source": [
        "# Recuperando somente os valores\n",
        "\n",
        "print( df.values )"
      ],
      "metadata": {
        "id": "qVOfYKirj54h"
      },
      "execution_count": null,
      "outputs": []
    },
    {
      "cell_type": "markdown",
      "source": [
        "Buscando valores com condição \"WHERE\""
      ],
      "metadata": {
        "id": "yNvU1Ylvcghq"
      }
    },
    {
      "cell_type": "code",
      "source": [
        "# 1. Utilizando o método query() para retornar idades menores que 25 anos\n",
        "\n",
        "df.query( 'idade < 25' )"
      ],
      "metadata": {
        "id": "RjjqxWBfcVNW"
      },
      "execution_count": null,
      "outputs": []
    },
    {
      "cell_type": "code",
      "source": [
        "# 1. Utilizando o método query() para retornar idades menores que 25 E maior que 20\n",
        " \n",
        "df.query( 'idade > 20 & idade < 25' )"
      ],
      "metadata": {
        "id": "b3JI0BbQcvoZ"
      },
      "execution_count": null,
      "outputs": []
    },
    {
      "cell_type": "code",
      "source": [
        "# 1. Utilizando o método query() para retornar datas até 1995\n",
        "\n",
        "df.query( 'aniversario < \"01-01-1995\"' )"
      ],
      "metadata": {
        "id": "jV5-8SdCbhQn"
      },
      "execution_count": null,
      "outputs": []
    },
    {
      "cell_type": "code",
      "source": [
        "# 2. Utilizando o método .loc[] para buscar quem mora em pinhal\n",
        "\n",
        "df.loc[ df['cidade'] == 'Pinhal' ]"
      ],
      "metadata": {
        "id": "2YajCUSXdTXK"
      },
      "execution_count": null,
      "outputs": []
    },
    {
      "cell_type": "code",
      "source": [
        "# 2. Utilizando o método .loc[] para buscar a idade de quem mora em pinhal\n",
        "\n",
        "df.loc[ df['cidade'] == 'Pinhal', ['idade'] ]"
      ],
      "metadata": {
        "id": "1BxuSBzkd8MD"
      },
      "execution_count": null,
      "outputs": []
    },
    {
      "cell_type": "markdown",
      "source": [
        "Outras formas de utilização do .loc[]: https://pandas.pydata.org/docs/reference/api/pandas.DataFrame.loc.html"
      ],
      "metadata": {
        "id": "BNcDGOE0eb0R"
      }
    },
    {
      "cell_type": "code",
      "source": [
        "# 3. Utilizando o método .iloc[] para buscar a linha de índice 2\n",
        "\n",
        "df.iloc[2]"
      ],
      "metadata": {
        "id": "_k7eCiNaegRZ"
      },
      "execution_count": null,
      "outputs": []
    },
    {
      "cell_type": "code",
      "source": [
        "# 3. Utilizando o método .iloc[] para buscar as linhas de índice 2 e 3\n",
        "\n",
        "df.iloc[[2,3]]"
      ],
      "metadata": {
        "id": "_nnC7s7aetwH"
      },
      "execution_count": null,
      "outputs": []
    },
    {
      "cell_type": "markdown",
      "source": [
        "Alterando índices"
      ],
      "metadata": {
        "id": "DXS3P-11e6m6"
      }
    },
    {
      "cell_type": "code",
      "source": [
        "# Relembrando o dataframe\n",
        "\n",
        "df.head(5)\n",
        "\n",
        "# Repare na coluna à esquerda sendo utilizada como índice"
      ],
      "metadata": {
        "id": "S3kwzkUle_0z"
      },
      "execution_count": null,
      "outputs": []
    },
    {
      "cell_type": "code",
      "source": [
        "# Alterando o índice para que seja 'aluno'\n",
        "\n",
        "df = df.set_index('aluno')\n",
        "df"
      ],
      "metadata": {
        "id": "YAXxWnDJfUPd"
      },
      "execution_count": null,
      "outputs": []
    },
    {
      "cell_type": "code",
      "source": [
        "# Resetando os índices\n",
        "\n",
        "df = df.reset_index()\n",
        "df"
      ],
      "metadata": {
        "id": "iRLXv1MUgVa6"
      },
      "execution_count": null,
      "outputs": []
    },
    {
      "cell_type": "markdown",
      "source": [
        "Adicionando e excluindo colunas"
      ],
      "metadata": {
        "id": "_0q5k6K3grw2"
      }
    },
    {
      "cell_type": "code",
      "source": [
        "# Adicionando uma coluna ao DataFrame com valores 1\n",
        "\n",
        "df['coluna_nova'] = 1\n",
        "df"
      ],
      "metadata": {
        "id": "i3nQKIhhguJE"
      },
      "execution_count": null,
      "outputs": []
    },
    {
      "cell_type": "code",
      "source": [
        "# Excluindo a coluna_nova\n",
        "\n",
        "df.drop(columns = ['coluna_nova'])"
      ],
      "metadata": {
        "id": "tj9N3M0sg2OT"
      },
      "execution_count": null,
      "outputs": []
    },
    {
      "cell_type": "code",
      "source": [
        "# Porém... vamos rodar o DataFrame novamente\n",
        "\n",
        "df.head(5)\n",
        "\n",
        "# A coluna_nova ainda está lá!"
      ],
      "metadata": {
        "id": "YXIsGeMrhGUD"
      },
      "execution_count": null,
      "outputs": []
    },
    {
      "cell_type": "code",
      "source": [
        "# Corrigindo\n",
        "\n",
        "# Método 1: usando inplace()\n",
        "df.drop(columns = ['coluna_nova'], inplace = True)\n",
        "df.head(5)\n",
        "\n",
        "# Método 2: reatribuindo ao DataFrame\n",
        "# df = df.drop(columns = ['coluna_nova'])"
      ],
      "metadata": {
        "id": "ppWd_lINhQEU"
      },
      "execution_count": null,
      "outputs": []
    },
    {
      "cell_type": "markdown",
      "source": [
        "Extra: copiando um DataFrame"
      ],
      "metadata": {
        "id": "OSqBd8Qrhqe3"
      }
    },
    {
      "cell_type": "code",
      "source": [
        "# Copiando o dataframe 'df' para o dataframe 'df2' com o .copy()\n",
        "\n",
        "df2 = df.copy()\n",
        "\n",
        "df2.head()"
      ],
      "metadata": {
        "id": "woA5y3JUhuXJ"
      },
      "execution_count": null,
      "outputs": []
    },
    {
      "cell_type": "markdown",
      "source": [
        "Elementos duplicados, ocorrência de valores, operador 'in' e sort_values"
      ],
      "metadata": {
        "id": "o4biVSypiCjJ"
      }
    },
    {
      "cell_type": "code",
      "source": [
        "# Ordenando a series idade com o sort_values()\n",
        "\n",
        "df.sort_values('idade', ascending = True)  # Para retornar em ordem decrescente utilize ascending = False"
      ],
      "metadata": {
        "id": "e-liDemTiR-B"
      },
      "execution_count": null,
      "outputs": []
    },
    {
      "cell_type": "code",
      "source": [
        "# Procurando se alguém mora em 'Mococa' com o operador 'in'\n",
        "\n",
        "df['cidade'].isin( ['Mococa'] )\n",
        "\n",
        "# Repare no True para o índice 3"
      ],
      "metadata": {
        "id": "5JN87huBihln"
      },
      "execution_count": null,
      "outputs": []
    },
    {
      "cell_type": "code",
      "source": [
        "# Verificando se há alguma linha duplicada\n",
        "\n",
        "df.duplicated()\n",
        "\n",
        "# Nenhuma linha está duplicada\n",
        "# Consulta extra: https://pandas.pydata.org/docs/reference/api/pandas.DataFrame.duplicated.html"
      ],
      "metadata": {
        "id": "2l7pzZsRi987"
      },
      "execution_count": null,
      "outputs": []
    },
    {
      "cell_type": "code",
      "source": [
        "# Verificando se há um valor duplicado em 'cidade'\n",
        "\n",
        "df['cidade'].duplicated(keep = False)\n",
        "\n",
        "# Há 2 ocorrências que se repetem"
      ],
      "metadata": {
        "id": "qL40mIPFjNl_"
      },
      "execution_count": null,
      "outputs": []
    },
    {
      "cell_type": "code",
      "source": [
        "# Buscando pelos valores únicos de uma coluna\n",
        "\n",
        "df['cidade'].unique()"
      ],
      "metadata": {
        "id": "i6oYuOT6jZGs"
      },
      "execution_count": null,
      "outputs": []
    },
    {
      "cell_type": "code",
      "source": [
        "# E quantos são os valores únicos?\n",
        "\n",
        "df['cidade'].nunique()"
      ],
      "metadata": {
        "id": "2M1L-0Ixjd2B"
      },
      "execution_count": null,
      "outputs": []
    },
    {
      "cell_type": "markdown",
      "source": [
        "Maneira rápida de verificar as principais estatísticas do DataFrame"
      ],
      "metadata": {
        "id": "43TsM0Buk9pG"
      }
    },
    {
      "cell_type": "code",
      "source": [
        "# Procurando a contagem, média, desvio padrão, mínimo, percentils e valor máximo\n",
        "\n",
        "df.describe()"
      ],
      "metadata": {
        "id": "xvpEQqFdlDQC"
      },
      "execution_count": null,
      "outputs": []
    },
    {
      "cell_type": "code",
      "source": [
        "# Verificando para strings\n",
        "\n",
        "df.describe(include=['O'])"
      ],
      "metadata": {
        "id": "sXr7QOpKlMML"
      },
      "execution_count": null,
      "outputs": []
    },
    {
      "cell_type": "markdown",
      "source": [
        "Valores **NaN**"
      ],
      "metadata": {
        "id": "KGuBXFXmmEKM"
      }
    },
    {
      "cell_type": "code",
      "source": [
        "# Buscando se e quantos valores NaN's temos em nosso dataframe\n",
        "\n",
        "df.isna().sum()\n",
        "\n",
        "# Há 2 valores faltantes em aniversario"
      ],
      "metadata": {
        "id": "UvzVo7Vdo2v8"
      },
      "execution_count": null,
      "outputs": []
    },
    {
      "cell_type": "code",
      "source": [
        "# Preenchendo os valores faltantes com os valores de cima\n",
        "\n",
        "# 1º: Verificando o df antes do processo\n",
        "df"
      ],
      "metadata": {
        "id": "hnf71TiJpShK"
      },
      "execution_count": null,
      "outputs": []
    },
    {
      "cell_type": "code",
      "source": [
        "# 2º: Completando os valores Na com os valores de cima\n",
        "\n",
        "df['aniversario'].fillna(method = 'pad', inplace = True)\n",
        "\n",
        "df"
      ],
      "metadata": {
        "id": "GRSg_KQopZZZ"
      },
      "execution_count": null,
      "outputs": []
    },
    {
      "cell_type": "markdown",
      "source": [
        "Outros métodos de fill: https://pandas.pydata.org/docs/reference/api/pandas.DataFrame.fillna.html"
      ],
      "metadata": {
        "id": "5Etl2GJ_p-sI"
      }
    },
    {
      "cell_type": "markdown",
      "source": [
        "**Extra**\n",
        "\n",
        "Faça uma cópia do df anterior com o nome de 'df_exercicio' e então, altere as ocorrências da cidade 'Pinhal' para 'Aguai' e 'João' para 'Matheus'.<br>\n",
        "*Imprima o dataframe resultante*"
      ],
      "metadata": {
        "id": "x3PYz5BhkFHd"
      }
    },
    {
      "cell_type": "code",
      "source": [
        "df_exercicio = df.copy()\n",
        "\n",
        "df_exercicio.loc[ df_exercicio.cidade == \"Pinhal\", 'cidade'] = \"Aguai\"\n",
        "\n",
        "df_exercicio"
      ],
      "metadata": {
        "id": "3e8lrt60mFaz"
      },
      "execution_count": null,
      "outputs": []
    },
    {
      "cell_type": "markdown",
      "source": [
        "Lendo arquivos em Pandas\n",
        "\n",
        "<img src=\"data:image/jpeg;base64,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\" width=50%>"
      ],
      "metadata": {
        "id": "C0Q4UDsmqD1p"
      }
    },
    {
      "cell_type": "markdown",
      "source": [
        "Link para o dataset de exemplo:\n",
        "https://www.kaggle.com/datasets/nehalbirla/vehicle-dataset-from-cardekho"
      ],
      "metadata": {
        "id": "CsI7pToaRlhx"
      }
    },
    {
      "cell_type": "code",
      "source": [
        "data = \n",
        "\n",
        "# Outros parâmetros úteis para o pd.read():\n",
        "  # encoding: colocamos o 'encode'. Ex. UTF-8\n",
        "  # skiprows: pulamos N linhas iniciais do arquivo\n",
        "  # sep: Tipo de separador. No csv geralmente é a vírgula ','\n",
        "  # skipfooter: pulamos N linhas finais do arquivo\n",
        "  # thousands: especificamos como está os milhares. Ex. 10.000,00 = dez mil\n",
        "  # decimal: especificamos como está os decimais. Ex. 10,5 = dez vírgula cinco\n",
        "\n",
        "data.head()"
      ],
      "metadata": {
        "id": "Wj4Ipxk7qRqA"
      },
      "execution_count": null,
      "outputs": []
    },
    {
      "cell_type": "code",
      "source": [
        "# Lendo o arquivo do github\n",
        "\n",
        "data2 = pd.read_csv('https://raw.githubusercontent.com/GuilhermeRuy97/Curso-ministrado-Python-para-Dados/main/Car%20details%20v3.csv')\n",
        "data2.head()"
      ],
      "metadata": {
        "id": "17ticwdXrYSU"
      },
      "execution_count": null,
      "outputs": []
    }
  ]
}