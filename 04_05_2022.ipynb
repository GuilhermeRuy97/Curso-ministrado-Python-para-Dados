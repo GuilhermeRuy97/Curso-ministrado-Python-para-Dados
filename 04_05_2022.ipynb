{
  "nbformat": 4,
  "nbformat_minor": 0,
  "metadata": {
    "colab": {
      "name": "Cópia de Pt2_aula01.ipynb",
      "provenance": [],
      "collapsed_sections": []
    },
    "kernelspec": {
      "name": "python3",
      "display_name": "Python 3"
    },
    "language_info": {
      "name": "python"
    }
  },
  "cells": [
    {
      "cell_type": "markdown",
      "source": [
        "---\n",
        "# Python para Ciência de Dados\n",
        "\n",
        "_Guilherme Sasso Ruy_\n",
        "\n",
        "_Endereço para consulta dos arquivos:_ <br>\n",
        "https://github.com/GuilhermeRuy97/Curso-ministrado-Python-para-Dados\n",
        "\n",
        "---"
      ],
      "metadata": {
        "id": "s9puR4fMjv8G"
      }
    },
    {
      "cell_type": "code",
      "source": [
        ""
      ],
      "metadata": {
        "id": "M4C3hFGXeOrn"
      },
      "execution_count": null,
      "outputs": []
    },
    {
      "cell_type": "markdown",
      "source": [
        "# Conteúdo abordado:"
      ],
      "metadata": {
        "id": "lgsNrlPbu8Pm"
      }
    },
    {
      "cell_type": "markdown",
      "source": [
        "- <font color='yellow'> **Hello World** </font> ( _obrigatório_ ☑)\n",
        "- **Um pouco de teoria sobre Pyhon**\n",
        "  - \"Por que estudar programação?\"\n",
        "  - O que é (conceitos e motivo de se popularizar)\n",
        "- **Tipos de variáveis e atribuições**\n",
        "  - Operações matemáticas e lógicas com variáveis\n",
        "- **Tipos de dados**\n",
        "    - Básicos\n",
        "    - Listas, tuplas e strings\n",
        "    - Dicionários\n",
        "    - Slicing\n",
        "- **Estruturas de controle**\n",
        "    - Comando **if**\n",
        "    - Estruturas de repetição (como \"for\" e \"while\" em linguagem C)\n",
        "- **Como funcionam as referências**\n",
        "- **Operações em sequências**\n",
        "  - +, *, in, append, insert etc\n",
        "  - Comprehensions e sua eficiência\n",
        "- **Funções**\n",
        "  - Parâmetros\n",
        "  - Função \"lambda\"\n",
        "- **Imports**\n",
        "  - Bibliotecas e módulos\n",
        "- **Programação Funcional**\n",
        "  - map\n",
        "  - filter\n",
        "  - reduce\n",
        "- **Arquivos em python**\n",
        "  - leitura\n",
        "  - escrita\n",
        "- **Abordagem rápida de classes e objetos**\n",
        "  - Objetos\n",
        "  - Classes\n",
        "  - Heranças\n"
      ],
      "metadata": {
        "id": "xyaMMk-jjzEP"
      }
    },
    {
      "cell_type": "markdown",
      "source": [
        "![tempo](data:image/jpeg;base64,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)"
      ],
      "metadata": {
        "id": "zMpW7zbEj1sw"
      }
    },
    {
      "cell_type": "code",
      "source": [
        ""
      ],
      "metadata": {
        "id": "kgQlMy0iviI0"
      },
      "execution_count": null,
      "outputs": []
    },
    {
      "cell_type": "markdown",
      "source": [
        "# AULA 01"
      ],
      "metadata": {
        "id": "Ae541Xx4vWRn"
      }
    },
    {
      "cell_type": "markdown",
      "source": [
        "O que é Python?\n",
        "\n",
        "- Python é uma linguagem **dinâmica** e interpretada.\n",
        "\n",
        "Python também é:\n",
        "- **Imperativo**: \"algo diz o como fazer\" ou seja, segue uma sequência de passos\n",
        "- **Orientada a objetos**: permite utilizar classes e objetos\n",
        "- **Procedural**: permite o uso de funções\n",
        "- **Funcional**: \"um código escrito sob um paradigma funcional é composto de múltiplas funções, que trabalham de forma unificada para a resolução de um problema\""
      ],
      "metadata": {
        "id": "C4Q0X-RAj5-j"
      }
    },
    {
      "cell_type": "markdown",
      "source": [
        "# Materiais extras"
      ],
      "metadata": {
        "id": "vqE8dx-Kt4T9"
      }
    },
    {
      "cell_type": "markdown",
      "source": [
        "*Tutorial de instalação do Python para quem for programar em Python utilizando outros ambientes fora Google Colab:* <br>\n",
        "https://www.youtube.com/watch?v=VuKvR1J2LQE"
      ],
      "metadata": {
        "id": "9t2FNSMTs73Q"
      }
    },
    {
      "cell_type": "markdown",
      "source": [
        "Fonte de pesquisa e consulta Python: www.python.org"
      ],
      "metadata": {
        "id": "dUuBA8XMuMh0"
      }
    },
    {
      "cell_type": "code",
      "source": [
        "# Vídeo \"Por que todos deveriam aprender a programar? LEGENDADO\"\n",
        "# Pressione as teclas shift e enter para executar esse código e assista o vídeo.\n",
        "from IPython.display import IFrame\n",
        "IFrame(src=\"https://www.youtube.com/watch?v=mHW1Hsqlp6A&t=11s\", width = \"560\", height = \"315\")"
      ],
      "metadata": {
        "colab": {
          "base_uri": "https://localhost:8080/",
          "height": 336
        },
        "id": "D5CAGMzquSth",
        "outputId": "eac00192-9d97-453e-a685-a3ca34af8515"
      },
      "execution_count": null,
      "outputs": [
        {
          "output_type": "execute_result",
          "data": {
            "text/plain": [
              "<IPython.lib.display.IFrame at 0x7f85ac2ee290>"
            ],
            "text/html": [
              "\n",
              "        <iframe\n",
              "            width=\"560\"\n",
              "            height=\"315\"\n",
              "            src=\"https://www.youtube.com/watch?v=mHW1Hsqlp6A&t=11s\"\n",
              "            frameborder=\"0\"\n",
              "            allowfullscreen\n",
              "        ></iframe>\n",
              "        "
            ]
          },
          "metadata": {},
          "execution_count": 1
        }
      ]
    },
    {
      "cell_type": "markdown",
      "source": [
        "Cola para Google Colab: https://colab.research.google.com/github/Tanu-N-Prabhu/Python/blob/master/Cheat_sheet_for_Google_Colab.ipynb"
      ],
      "metadata": {
        "id": "u7qRMe5szmV2"
      }
    },
    {
      "cell_type": "markdown",
      "source": [
        "# AULA 01"
      ],
      "metadata": {
        "id": "_6fAqjsm3vAs"
      }
    },
    {
      "cell_type": "code",
      "source": [
        "# Começando a aula com o Hello World!\n",
        "\n",
        "print('Hello Word')"
      ],
      "metadata": {
        "id": "C8ecMZoP3z1D",
        "colab": {
          "base_uri": "https://localhost:8080/"
        },
        "outputId": "4d1b5604-8295-4742-c145-6530c840b90f"
      },
      "execution_count": null,
      "outputs": [
        {
          "output_type": "stream",
          "name": "stdout",
          "text": [
            "Hello Word\n"
          ]
        }
      ]
    },
    {
      "cell_type": "markdown",
      "source": [
        "## Tipos de variáveis e atribuições"
      ],
      "metadata": {
        "id": "DFGqTi-B6Qpd"
      }
    },
    {
      "cell_type": "markdown",
      "source": [
        "* Uma variável é uma referência para um endereço de memória (ponteiros em linguagem C).\n",
        "* Por ser uma linguagem dinâmica, não é necessário atribuir no código o tipo da variável (int, float, str etc). O Python atribuirá automaticamente."
      ],
      "metadata": {
        "id": "yDCgPZWw6UdA"
      }
    },
    {
      "cell_type": "code",
      "source": [
        "# Inicializando as variáveis do tipo int, float, string e booleana\n",
        "\n",
        "a = 1\n",
        "b = 2.5\n",
        "string_exemplo = 'richard'\n",
        "d = True\n",
        "\n",
        "type(d)"
      ],
      "metadata": {
        "id": "jIN8AdQH878G",
        "colab": {
          "base_uri": "https://localhost:8080/"
        },
        "outputId": "909af09d-895a-48e0-9280-d75d5627b0aa"
      },
      "execution_count": null,
      "outputs": [
        {
          "output_type": "execute_result",
          "data": {
            "text/plain": [
              "bool"
            ]
          },
          "metadata": {},
          "execution_count": 9
        }
      ]
    },
    {
      "cell_type": "code",
      "source": [
        "# Print com fstring\n",
        "\n",
        "print(f'Meu nome é: {5+2}')"
      ],
      "metadata": {
        "id": "RiVsxd2j-nZu",
        "colab": {
          "base_uri": "https://localhost:8080/"
        },
        "outputId": "f4ba9850-02ed-4deb-f59b-cebeef4f1551"
      },
      "execution_count": null,
      "outputs": [
        {
          "output_type": "stream",
          "name": "stdout",
          "text": [
            "Meu nome é: 7\n"
          ]
        }
      ]
    },
    {
      "cell_type": "code",
      "source": [
        "# Verificando o tipo das variáveis com o comando type()\n",
        "\n",
        "print()"
      ],
      "metadata": {
        "id": "uqJpKx9q-nEj"
      },
      "execution_count": null,
      "outputs": []
    },
    {
      "cell_type": "markdown",
      "source": [
        "Algumas operações matemáticas são possíveis com os tipos int e float\n",
        " - Obs: toda divisão resulta em float"
      ],
      "metadata": {
        "id": "Sp6nBXWD9yk9"
      }
    },
    {
      "cell_type": "code",
      "source": [
        "a = 4\n",
        "b = 2\n",
        "c = 1\n",
        "d = 1.2\n",
        "\n",
        "# Soma\n",
        "soma = a + b\n",
        "print(\"Resultado do tipo da soma \",soma)\n",
        "\n",
        "# Adição -> +\n",
        "# soma = \n",
        "# print(soma)\n",
        "# Subtração -> -\n",
        "subtracao = b - a\n",
        "print(\"Resultado do tipo da subtracao \",subtracao)\n",
        "# Multiplicação -> *\n",
        "multiplicacao = a * b\n",
        "# Divisão -> /\n",
        "divisao = a / b\n",
        "\n",
        "# Exponenciação\n",
        "exponencial = b**2\n",
        "\n",
        "# Divisão inteira (mod) -> //\n",
        "a = 5 //2\n",
        "print(f'O conteúdo de a é: {a}')\n",
        "# Resto da divisão -> %\n",
        "b = 5%2\n",
        "print(f'O resto da divisão é: {b}')\n",
        "\n",
        "# Operações Booleanas -> >,<,=>,<=,!=\n",
        "print( 5 == 3 )"
      ],
      "metadata": {
        "colab": {
          "base_uri": "https://localhost:8080/"
        },
        "id": "J9adaptW9-j-",
        "outputId": "d0623b7d-0e7b-4924-8655-731894cde053"
      },
      "execution_count": null,
      "outputs": [
        {
          "output_type": "stream",
          "name": "stdout",
          "text": [
            "Resultado do tipo da soma  6\n",
            "Resultado do tipo da subtracao  -2\n",
            "O conteúdo de a é: 2\n",
            "O resto da divisão é: 1\n",
            "False\n"
          ]
        }
      ]
    },
    {
      "cell_type": "code",
      "source": [
        "# Alterando um tipo de dado string para int\n",
        "a = '1'\n",
        "a = int( a )\n",
        "print(f'Novo dado a: {a}, tipo do dado \"a\": {type(a)}')\n",
        "\n",
        "# Alterando um tipo float para int\n",
        "b = 2.5\n",
        "b = int( b )\n",
        "print(f'Novo dado a: {b}, tipo do dado \"a\": {type(b)}')"
      ],
      "metadata": {
        "colab": {
          "base_uri": "https://localhost:8080/"
        },
        "id": "gRbyAKcQRv3X",
        "outputId": "a6f90d07-98e7-4a15-f9c4-7c76298dbd58"
      },
      "execution_count": null,
      "outputs": [
        {
          "output_type": "stream",
          "name": "stdout",
          "text": [
            "Novo dado a: 1, tipo do dado \"a\": <class 'int'>\n",
            "Novo dado a: 2, tipo do dado \"a\": <class 'int'>\n"
          ]
        }
      ]
    },
    {
      "cell_type": "markdown",
      "source": [
        "Algumas operações interessantes com strings"
      ],
      "metadata": {
        "id": "hbtyeWkUCPf4"
      }
    },
    {
      "cell_type": "markdown",
      "source": [
        "Referências:\n",
        "- Quando atribuitos uma variável, geramos uma referência a um endereço de memória"
      ],
      "metadata": {
        "id": "ckFNltm5oG9c"
      }
    },
    {
      "cell_type": "code",
      "source": [
        "A = 1    # o valor 1 é referenciado por A\n",
        "B = A    # o valor 1 é referenciado por B\n",
        "\n",
        "print( id(A) )    # id retorna o endereço ao qual se referencia\n",
        "print( id(B) )"
      ],
      "metadata": {
        "colab": {
          "base_uri": "https://localhost:8080/"
        },
        "id": "pBmmwtA4osq4",
        "outputId": "1fead4cf-e18c-459b-99bf-80a8c22b1ecd"
      },
      "execution_count": null,
      "outputs": [
        {
          "output_type": "stream",
          "name": "stdout",
          "text": [
            "11256064\n",
            "11256064\n"
          ]
        }
      ]
    },
    {
      "cell_type": "code",
      "source": [
        "a = 'Curso de '\n",
        "b = 'Python'\n",
        "\n",
        "# Concatenação\n",
        "a + b\n",
        "# Replicação\n",
        "(a + b)*10"
      ],
      "metadata": {
        "id": "Aaz2PPS0CRXQ",
        "colab": {
          "base_uri": "https://localhost:8080/",
          "height": 53
        },
        "outputId": "e3d52f91-2c18-4ffb-c78f-f42eba926f8f"
      },
      "execution_count": null,
      "outputs": [
        {
          "output_type": "execute_result",
          "data": {
            "text/plain": [
              "'Curso de PythonCurso de PythonCurso de PythonCurso de PythonCurso de PythonCurso de PythonCurso de PythonCurso de PythonCurso de PythonCurso de Python'"
            ],
            "application/vnd.google.colaboratory.intrinsic+json": {
              "type": "string"
            }
          },
          "metadata": {},
          "execution_count": 23
        }
      ]
    },
    {
      "cell_type": "markdown",
      "source": [
        "___\n",
        "\n",
        "**Desafio 1:**\n",
        "\n",
        "Bart foi um aluno desobediente na aula do professor Boca e como castigo teve que escrever a frase \"Eu não vou matar aula no D.A. e  atrasar pra aula nunca mais\" **200** vezes em um arquivo txt.\n",
        "\n",
        "Pra aumentar a infelicidade de Bart, ele foi obrigado a utilizar um computador do laboratório em que o \"ctrl c\" não funcionava!\n",
        "\n",
        "Por sorte, Bart sabia que você manjava de computação e era um ótimo amigo, ajude-o!\n",
        "\n",
        "<img src=\"https://i.pinimg.com/originals/97/09/80/97098039eb089e4f68cb02095db6e696.jpg\" width=30%>\n",
        "\n",
        "___"
      ],
      "metadata": {
        "id": "-F2NEUH6Daqz"
      }
    },
    {
      "cell_type": "code",
      "source": [
        "# Ajude Bart\n",
        "a =  \"Eu não vou matar aula no D.A. e atrasar pra aula nunca mais\"\n",
        "a*200"
      ],
      "metadata": {
        "id": "AZu6tJorGFQ7",
        "colab": {
          "base_uri": "https://localhost:8080/",
          "height": 191
        },
        "outputId": "bdc0339b-2684-468c-c0cc-65e8152e2d16"
      },
      "execution_count": null,
      "outputs": [
        {
          "output_type": "execute_result",
          "data": {
            "text/plain": [
              "'Eu não vou matar aula no D.A. e atrasar pra aula nunca maisEu não vou matar aula no D.A. e atrasar pra aula nunca maisEu não vou matar aula no D.A. e atrasar pra aula nunca maisEu não vou matar aula no D.A. e atrasar pra aula nunca maisEu não vou matar aula no D.A. e atrasar pra aula nunca maisEu não vou matar aula no D.A. e atrasar pra aula nunca maisEu não vou matar aula no D.A. e atrasar pra aula nunca maisEu não vou matar aula no D.A. e atrasar pra aula nunca maisEu não vou matar aula no D.A. e atrasar pra aula nunca maisEu não vou matar aula no D.A. e atrasar pra aula nunca maisEu não vou matar aula no D.A. e atrasar pra aula nunca maisEu não vou matar aula no D.A. e atrasar pra aula nunca maisEu não vou matar aula no D.A. e atrasar pra aula nunca maisEu não vou matar aula no D.A. e atrasar pra aula nunca maisEu não vou matar aula no D.A. e atrasar pra aula nunca maisEu não vou matar aula no D.A. e atrasar pra aula nunca maisEu não vou matar aula no D.A. e atrasar pra aula nunca maisEu não vou matar aula no D.A. e atrasar pra aula nunca maisEu não vou matar aula no D.A. e atrasar pra aula nunca maisEu não vou matar aula no D.A. e atrasar pra aula nunca maisEu não vou matar aula no D.A. e atrasar pra aula nunca maisEu não vou matar aula no D.A. e atrasar pra aula nunca maisEu não vou matar aula no D.A. e atrasar pra aula nunca maisEu não vou matar aula no D.A. e atrasar pra aula nunca maisEu não vou matar aula no D.A. e atrasar pra aula nunca maisEu não vou matar aula no D.A. e atrasar pra aula nunca maisEu não vou matar aula no D.A. e atrasar pra aula nunca maisEu não vou matar aula no D.A. e atrasar pra aula nunca maisEu não vou matar aula no D.A. e atrasar pra aula nunca maisEu não vou matar aula no D.A. e atrasar pra aula nunca maisEu não vou matar aula no D.A. e atrasar pra aula nunca maisEu não vou matar aula no D.A. e atrasar pra aula nunca maisEu não vou matar aula no D.A. e atrasar pra aula nunca maisEu não vou matar aula no D.A. e atrasar pra aula nunca maisEu não vou matar aula no D.A. e atrasar pra aula nunca maisEu não vou matar aula no D.A. e atrasar pra aula nunca maisEu não vou matar aula no D.A. e atrasar pra aula nunca maisEu não vou matar aula no D.A. e atrasar pra aula nunca maisEu não vou matar aula no D.A. e atrasar pra aula nunca maisEu não vou matar aula no D.A. e atrasar pra aula nunca maisEu não vou matar aula no D.A. e atrasar pra aula nunca maisEu não vou matar aula no D.A. e atrasar pra aula nunca maisEu não vou matar aula no D.A. e atrasar pra aula nunca maisEu não vou matar aula no D.A. e atrasar pra aula nunca maisEu não vou matar aula no D.A. e atrasar pra aula nunca maisEu não vou matar aula no D.A. e atrasar pra aula nunca maisEu não vou matar aula no D.A. e atrasar pra aula nunca maisEu não vou matar aula no D.A. e atrasar pra aula nunca maisEu não vou matar aula no D.A. e atrasar pra aula nunca maisEu não vou matar aula no D.A. e atrasar pra aula nunca maisEu não vou matar aula no D.A. e atrasar pra aula nunca maisEu não vou matar aula no D.A. e atrasar pra aula nunca maisEu não vou matar aula no D.A. e atrasar pra aula nunca maisEu não vou matar aula no D.A. e atrasar pra aula nunca maisEu não vou matar aula no D.A. e atrasar pra aula nunca maisEu não vou matar aula no D.A. e atrasar pra aula nunca maisEu não vou matar aula no D.A. e atrasar pra aula nunca maisEu não vou matar aula no D.A. e atrasar pra aula nunca maisEu não vou matar aula no D.A. e atrasar pra aula nunca maisEu não vou matar aula no D.A. e atrasar pra aula nunca maisEu não vou matar aula no D.A. e atrasar pra aula nunca maisEu não vou matar aula no D.A. e atrasar pra aula nunca maisEu não vou matar aula no D.A. e atrasar pra aula nunca maisEu não vou matar aula no D.A. e atrasar pra aula nunca maisEu não vou matar aula no D.A. e atrasar pra aula nunca maisEu não vou matar aula no D.A. e atrasar pra aula nunca maisEu não vou matar aula no D.A. e atrasar pra aula nunca maisEu não vou matar aula no D.A. e atrasar pra aula nunca maisEu não vou matar aula no D.A. e atrasar pra aula nunca maisEu não vou matar aula no D.A. e atrasar pra aula nunca maisEu não vou matar aula no D.A. e atrasar pra aula nunca maisEu não vou matar aula no D.A. e atrasar pra aula nunca maisEu não vou matar aula no D.A. e atrasar pra aula nunca maisEu não vou matar aula no D.A. e atrasar pra aula nunca maisEu não vou matar aula no D.A. e atrasar pra aula nunca maisEu não vou matar aula no D.A. e atrasar pra aula nunca maisEu não vou matar aula no D.A. e atrasar pra aula nunca maisEu não vou matar aula no D.A. e atrasar pra aula nunca maisEu não vou matar aula no D.A. e atrasar pra aula nunca maisEu não vou matar aula no D.A. e atrasar pra aula nunca maisEu não vou matar aula no D.A. e atrasar pra aula nunca maisEu não vou matar aula no D.A. e atrasar pra aula nunca maisEu não vou matar aula no D.A. e atrasar pra aula nunca maisEu não vou matar aula no D.A. e atrasar pra aula nunca maisEu não vou matar aula no D.A. e atrasar pra aula nunca maisEu não vou matar aula no D.A. e atrasar pra aula nunca maisEu não vou matar aula no D.A. e atrasar pra aula nunca maisEu não vou matar aula no D.A. e atrasar pra aula nunca maisEu não vou matar aula no D.A. e atrasar pra aula nunca maisEu não vou matar aula no D.A. e atrasar pra aula nunca maisEu não vou matar aula no D.A. e atrasar pra aula nunca maisEu não vou matar aula no D.A. e atrasar pra aula nunca maisEu não vou matar aula no D.A. e atrasar pra aula nunca maisEu não vou matar aula no D.A. e atrasar pra aula nunca maisEu não vou matar aula no D.A. e atrasar pra aula nunca maisEu não vou matar aula no D.A. e atrasar pra aula nunca maisEu não vou matar aula no D.A. e atrasar pra aula nunca maisEu não vou matar aula no D.A. e atrasar pra aula nunca maisEu não vou matar aula no D.A. e atrasar pra aula nunca maisEu não vou matar aula no D.A. e atrasar pra aula nunca maisEu não vou matar aula no D.A. e atrasar pra aula nunca maisEu não vou matar aula no D.A. e atrasar pra aula nunca maisEu não vou matar aula no D.A. e atrasar pra aula nunca maisEu não vou matar aula no D.A. e atrasar pra aula nunca maisEu não vou matar aula no D.A. e atrasar pra aula nunca maisEu não vou matar aula no D.A. e atrasar pra aula nunca maisEu não vou matar aula no D.A. e atrasar pra aula nunca maisEu não vou matar aula no D.A. e atrasar pra aula nunca maisEu não vou matar aula no D.A. e atrasar pra aula nunca maisEu não vou matar aula no D.A. e atrasar pra aula nunca maisEu não vou matar aula no D.A. e atrasar pra aula nunca maisEu não vou matar aula no D.A. e atrasar pra aula nunca maisEu não vou matar aula no D.A. e atrasar pra aula nunca maisEu não vou matar aula no D.A. e atrasar pra aula nunca maisEu não vou matar aula no D.A. e atrasar pra aula nunca maisEu não vou matar aula no D.A. e atrasar pra aula nunca maisEu não vou matar aula no D.A. e atrasar pra aula nunca maisEu não vou matar aula no D.A. e atrasar pra aula nunca maisEu não vou matar aula no D.A. e atrasar pra aula nunca maisEu não vou matar aula no D.A. e atrasar pra aula nunca maisEu não vou matar aula no D.A. e atrasar pra aula nunca maisEu não vou matar aula no D.A. e atrasar pra aula nunca maisEu não vou matar aula no D.A. e atrasar pra aula nunca maisEu não vou matar aula no D.A. e atrasar pra aula nunca maisEu não vou matar aula no D.A. e atrasar pra aula nunca maisEu não vou matar aula no D.A. e atrasar pra aula nunca maisEu não vou matar aula no D.A. e atrasar pra aula nunca maisEu não vou matar aula no D.A. e atrasar pra aula nunca maisEu não vou matar aula no D.A. e atrasar pra aula nunca maisEu não vou matar aula no D.A. e atrasar pra aula nunca maisEu não vou matar aula no D.A. e atrasar pra aula nunca maisEu não vou matar aula no D.A. e atrasar pra aula nunca maisEu não vou matar aula no D.A. e atrasar pra aula nunca maisEu não vou matar aula no D.A. e atrasar pra aula nunca maisEu não vou matar aula no D.A. e atrasar pra aula nunca maisEu não vou matar aula no D.A. e atrasar pra aula nunca maisEu não vou matar aula no D.A. e atrasar pra aula nunca maisEu não vou matar aula no D.A. e atrasar pra aula nunca maisEu não vou matar aula no D.A. e atrasar pra aula nunca maisEu não vou matar aula no D.A. e atrasar pra aula nunca maisEu não vou matar aula no D.A. e atrasar pra aula nunca maisEu não vou matar aula no D.A. e atrasar pra aula nunca maisEu não vou matar aula no D.A. e atrasar pra aula nunca maisEu não vou matar aula no D.A. e atrasar pra aula nunca maisEu não vou matar aula no D.A. e atrasar pra aula nunca maisEu não vou matar aula no D.A. e atrasar pra aula nunca maisEu não vou matar aula no D.A. e atrasar pra aula nunca maisEu não vou matar aula no D.A. e atrasar pra aula nunca maisEu não vou matar aula no D.A. e atrasar pra aula nunca maisEu não vou matar aula no D.A. e atrasar pra aula nunca maisEu não vou matar aula no D.A. e atrasar pra aula nunca maisEu não vou matar aula no D.A. e atrasar pra aula nunca maisEu não vou matar aula no D.A. e atrasar pra aula nunca maisEu não vou matar aula no D.A. e atrasar pra aula nunca maisEu não vou matar aula no D.A. e atrasar pra aula nunca maisEu não vou matar aula no D.A. e atrasar pra aula nunca maisEu não vou matar aula no D.A. e atrasar pra aula nunca maisEu não vou matar aula no D.A. e atrasar pra aula nunca maisEu não vou matar aula no D.A. e atrasar pra aula nunca maisEu não vou matar aula no D.A. e atrasar pra aula nunca maisEu não vou matar aula no D.A. e atrasar pra aula nunca maisEu não vou matar aula no D.A. e atrasar pra aula nunca maisEu não vou matar aula no D.A. e atrasar pra aula nunca maisEu não vou matar aula no D.A. e atrasar pra aula nunca maisEu não vou matar aula no D.A. e atrasar pra aula nunca maisEu não vou matar aula no D.A. e atrasar pra aula nunca maisEu não vou matar aula no D.A. e atrasar pra aula nunca maisEu não vou matar aula no D.A. e atrasar pra aula nunca maisEu não vou matar aula no D.A. e atrasar pra aula nunca maisEu não vou matar aula no D.A. e atrasar pra aula nunca maisEu não vou matar aula no D.A. e atrasar pra aula nunca maisEu não vou matar aula no D.A. e atrasar pra aula nunca maisEu não vou matar aula no D.A. e atrasar pra aula nunca maisEu não vou matar aula no D.A. e atrasar pra aula nunca maisEu não vou matar aula no D.A. e atrasar pra aula nunca maisEu não vou matar aula no D.A. e atrasar pra aula nunca maisEu não vou matar aula no D.A. e atrasar pra aula nunca maisEu não vou matar aula no D.A. e atrasar pra aula nunca maisEu não vou matar aula no D.A. e atrasar pra aula nunca maisEu não vou matar aula no D.A. e atrasar pra aula nunca maisEu não vou matar aula no D.A. e atrasar pra aula nunca maisEu não vou matar aula no D.A. e atrasar pra aula nunca maisEu não vou matar aula no D.A. e atrasar pra aula nunca maisEu não vou matar aula no D.A. e atrasar pra aula nunca maisEu não vou matar aula no D.A. e atrasar pra aula nunca maisEu não vou matar aula no D.A. e atrasar pra aula nunca maisEu não vou matar aula no D.A. e atrasar pra aula nunca maisEu não vou matar aula no D.A. e atrasar pra aula nunca maisEu não vou matar aula no D.A. e atrasar pra aula nunca maisEu não vou matar aula no D.A. e atrasar pra aula nunca maisEu não vou matar aula no D.A. e atrasar pra aula nunca maisEu não vou matar aula no D.A. e atrasar pra aula nunca maisEu não vou matar aula no D.A. e atrasar pra aula nunca maisEu não vou matar aula no D.A. e atrasar pra aula nunca maisEu não vou matar aula no D.A. e atrasar pra aula nunca maisEu não vou matar aula no D.A. e atrasar pra aula nunca maisEu não vou matar aula no D.A. e atrasar pra aula nunca maisEu não vou matar aula no D.A. e atrasar pra aula nunca maisEu não vou matar aula no D.A. e atrasar pra aula nunca maisEu não vou matar aula no D.A. e atrasar pra aula nunca mais'"
            ],
            "application/vnd.google.colaboratory.intrinsic+json": {
              "type": "string"
            }
          },
          "metadata": {},
          "execution_count": 24
        }
      ]
    },
    {
      "cell_type": "code",
      "source": [
        "# Exercício 2\n",
        "# Realize as seguintes operações:\n",
        "# a. 2 + 3 - 1\n",
        "a = 2 + 3 - 1\n",
        "a\n",
        "# b. 2 + 3 * 2\n",
        "b = 2 + ( 3*2 )\n",
        "b\n",
        "# c. (2)^3^2 [Observe que o resultado é o mesmo que 2^9]\n",
        "c = 2**9\n",
        "c"
      ],
      "metadata": {
        "id": "2yC0Ur76JZVs",
        "colab": {
          "base_uri": "https://localhost:8080/"
        },
        "outputId": "b4556d19-3679-46f6-9e13-a7881bfb1c40"
      },
      "execution_count": null,
      "outputs": [
        {
          "output_type": "execute_result",
          "data": {
            "text/plain": [
              "512"
            ]
          },
          "metadata": {},
          "execution_count": 27
        }
      ]
    },
    {
      "cell_type": "markdown",
      "source": [
        "## Listas, tuplas, strings e Dicionários"
      ],
      "metadata": {
        "id": "cwQa5jHTKbi6"
      }
    },
    {
      "cell_type": "markdown",
      "source": [
        "**Lista**\n",
        "- Chamada de \"list\"\n",
        "- É uma sequência de elementos (de vários tipos) com uma dada ordem"
      ],
      "metadata": {
        "id": "mal5wbkjKj_g"
      }
    },
    {
      "cell_type": "code",
      "source": [
        "lst1 = [1, 2, 3, 'Pedro', 3.5, True]\n",
        "\n",
        "print(lst1)\n",
        "\n",
        "# Acessando valores da lista com o lst[]\n",
        "lst1[0]"
      ],
      "metadata": {
        "id": "yQAFveoMK8yt",
        "colab": {
          "base_uri": "https://localhost:8080/"
        },
        "outputId": "d100deeb-8674-4a4d-d23b-b9004c8d52b7"
      },
      "execution_count": null,
      "outputs": [
        {
          "output_type": "stream",
          "name": "stdout",
          "text": [
            "[1, 2, 3, 'Pedro', 3.5, True]\n"
          ]
        },
        {
          "output_type": "execute_result",
          "data": {
            "text/plain": [
              "1"
            ]
          },
          "metadata": {},
          "execution_count": 30
        }
      ]
    },
    {
      "cell_type": "code",
      "source": [
        "lst_vazia = []\n",
        "\n",
        "# Inserindo elementos na lista com o append\n",
        "lst_vazia.append('thiago')\n",
        "print(lst_vazia)"
      ],
      "metadata": {
        "id": "7QJEO7hqMYXr",
        "colab": {
          "base_uri": "https://localhost:8080/"
        },
        "outputId": "cc49edee-a63b-40bd-834e-1c3a26051194"
      },
      "execution_count": null,
      "outputs": [
        {
          "output_type": "stream",
          "name": "stdout",
          "text": [
            "['thiago']\n"
          ]
        }
      ]
    },
    {
      "cell_type": "code",
      "source": [
        "lst_auxiliar = ['a','b','c','d','e']\n",
        "\n",
        "# Inserindo elementos na lista escolhendo a posição com o insert(local, elemento)\n",
        "lst_auxiliar.insert(2, 3)\n",
        "\n",
        "print(lst_auxiliar)"
      ],
      "metadata": {
        "id": "LUE2pt0HNMm8",
        "colab": {
          "base_uri": "https://localhost:8080/"
        },
        "outputId": "57cbd535-a442-4def-d480-32fdeed209cc"
      },
      "execution_count": null,
      "outputs": [
        {
          "output_type": "stream",
          "name": "stdout",
          "text": [
            "['a', 'b', 3, 'c', 'd', 'e']\n"
          ]
        }
      ]
    },
    {
      "cell_type": "code",
      "source": [
        "lst_auxiliar = ['a','b','c','d','e']\n",
        "\n",
        "# Excluindo elementos da lista escolhendo a posição com del lst_vazia[posição]\n",
        "del lst_auxiliar[2]\n",
        "print(lst_auxiliar)"
      ],
      "metadata": {
        "id": "VwT-thXONSVn",
        "colab": {
          "base_uri": "https://localhost:8080/"
        },
        "outputId": "b04cfd44-9814-4b5f-afcc-dc92499f0ca9"
      },
      "execution_count": null,
      "outputs": [
        {
          "output_type": "stream",
          "name": "stdout",
          "text": [
            "['a', 'b', 'd', 'e']\n"
          ]
        }
      ]
    },
    {
      "cell_type": "code",
      "source": [
        "lst_auxiliar = ['a','b','c','d','e']\n",
        "\n",
        "# Excluindo elemento da lista e salvando o elemento excluído em uma variável com o lst.pop(posição)\n",
        "\n",
        "excluido = lst_auxiliar.pop(2)\n",
        "print(excluido)"
      ],
      "metadata": {
        "id": "LD6qOowDNlCc",
        "colab": {
          "base_uri": "https://localhost:8080/"
        },
        "outputId": "b27b3f6f-ff0e-4b66-9019-16a719f73ddd"
      },
      "execution_count": null,
      "outputs": [
        {
          "output_type": "stream",
          "name": "stdout",
          "text": [
            "c\n"
          ]
        }
      ]
    },
    {
      "cell_type": "code",
      "source": [
        "lst_auxiliar = ['a','b','c','d','e']\n",
        "\n",
        "# Verificando o tamanho de uma lista com a função len()\n",
        "len( lst_auxiliar )"
      ],
      "metadata": {
        "id": "sFcXlAtmOun7",
        "colab": {
          "base_uri": "https://localhost:8080/"
        },
        "outputId": "03407437-4f17-4313-8b2e-3fc6e50d93a0"
      },
      "execution_count": null,
      "outputs": [
        {
          "output_type": "execute_result",
          "data": {
            "text/plain": [
              "5"
            ]
          },
          "metadata": {},
          "execution_count": 35
        }
      ]
    },
    {
      "cell_type": "code",
      "source": [
        "# Índices negativos como lst[-1]\n",
        "lst_auxiliar[-2]"
      ],
      "metadata": {
        "id": "wdr7NqwEO9Xz",
        "colab": {
          "base_uri": "https://localhost:8080/",
          "height": 35
        },
        "outputId": "315307c4-ef4a-437e-f4ec-2d21742a4cff"
      },
      "execution_count": null,
      "outputs": [
        {
          "output_type": "execute_result",
          "data": {
            "text/plain": [
              "'d'"
            ],
            "application/vnd.google.colaboratory.intrinsic+json": {
              "type": "string"
            }
          },
          "metadata": {},
          "execution_count": 37
        }
      ]
    },
    {
      "cell_type": "code",
      "source": [
        "# Extra lista com lista dentro\n",
        "\n",
        "lst_extra = ['a', 'b', 1, 2, (2.4, 2.5), 'João']\n",
        "print(lst_extra)"
      ],
      "metadata": {
        "colab": {
          "base_uri": "https://localhost:8080/"
        },
        "id": "Ma-MOc5VPPrv",
        "outputId": "f6bd1fe1-9033-4e1d-e92a-f5d2e6043f2b"
      },
      "execution_count": null,
      "outputs": [
        {
          "output_type": "stream",
          "name": "stdout",
          "text": [
            "['a', 'b', 1, 2, (2.4, 2.5), 'João']\n"
          ]
        }
      ]
    },
    {
      "cell_type": "code",
      "source": [
        "# Extra: somando e multiplicando listas\n",
        "\n",
        "lst_a = [1,2,3,4,5]\n",
        "lst_b = [2,2,2,2,2]\n",
        "\n",
        "# Somando\n",
        "lst_a + lst_b\n",
        "# Multiplicando\n",
        "lst_a * lst_b"
      ],
      "metadata": {
        "id": "YmizLlnHrYE7",
        "colab": {
          "base_uri": "https://localhost:8080/",
          "height": 201
        },
        "outputId": "06a48c8d-f3b6-4bab-ac0d-402af474fbf9"
      },
      "execution_count": null,
      "outputs": [
        {
          "output_type": "error",
          "ename": "TypeError",
          "evalue": "ignored",
          "traceback": [
            "\u001b[0;31m---------------------------------------------------------------------------\u001b[0m",
            "\u001b[0;31mTypeError\u001b[0m                                 Traceback (most recent call last)",
            "\u001b[0;32m<ipython-input-39-4635a1abb3f6>\u001b[0m in \u001b[0;36m<module>\u001b[0;34m()\u001b[0m\n\u001b[1;32m      7\u001b[0m \u001b[0mlst_a\u001b[0m \u001b[0;34m+\u001b[0m \u001b[0mlst_b\u001b[0m\u001b[0;34m\u001b[0m\u001b[0;34m\u001b[0m\u001b[0m\n\u001b[1;32m      8\u001b[0m \u001b[0;31m# Multiplicando\u001b[0m\u001b[0;34m\u001b[0m\u001b[0;34m\u001b[0m\u001b[0;34m\u001b[0m\u001b[0m\n\u001b[0;32m----> 9\u001b[0;31m \u001b[0mlst_a\u001b[0m \u001b[0;34m*\u001b[0m \u001b[0mlst_b\u001b[0m\u001b[0;34m\u001b[0m\u001b[0;34m\u001b[0m\u001b[0m\n\u001b[0m",
            "\u001b[0;31mTypeError\u001b[0m: can't multiply sequence by non-int of type 'list'"
          ]
        }
      ]
    },
    {
      "cell_type": "code",
      "source": [
        "# Extra: copiando outra lista em uma nova\n",
        "\n",
        "lst_a = ['a','b', 'c', 'd']\n",
        "lst_b = []\n",
        "lst_b.extend(lst_a)\n",
        "print(lst_b)"
      ],
      "metadata": {
        "id": "muuqx7H2rqxe",
        "colab": {
          "base_uri": "https://localhost:8080/"
        },
        "outputId": "c62a35dc-6c8c-40db-8c3d-bca0acf0d827"
      },
      "execution_count": null,
      "outputs": [
        {
          "output_type": "stream",
          "name": "stdout",
          "text": [
            "['a', 'b', 'c', 'd']\n"
          ]
        }
      ]
    },
    {
      "cell_type": "markdown",
      "source": [
        "Lembram de como o Python faz a referência?\n",
        "\n",
        "Então realize o seguinte teste:\n",
        "```Python\n",
        "A = [1,2,3,4,5]\n",
        "B = A\n",
        "\n",
        "print(f'A antes: {A}')\n",
        "\n",
        "B.append(30)\n",
        "\n",
        "print(f'A depois: {A}')\n",
        "```"
      ],
      "metadata": {
        "id": "8tQUy4kxqOok"
      }
    },
    {
      "cell_type": "code",
      "source": [
        "A = [1,2,3,4,5]\n",
        "B = A\n",
        "\n",
        "print(f'A antes: {A}')\n",
        "\n",
        "B.append(30)   # Adicionando um elemento em B\n",
        "\n",
        "print(f'A depois: {A}')"
      ],
      "metadata": {
        "colab": {
          "base_uri": "https://localhost:8080/"
        },
        "id": "fO7r0cXsqyej",
        "outputId": "5610768f-69a3-4983-b8ad-5670d0634dc6"
      },
      "execution_count": null,
      "outputs": [
        {
          "output_type": "stream",
          "name": "stdout",
          "text": [
            "A antes: [1, 2, 3, 4, 5]\n",
            "A depois: [1, 2, 3, 4, 5, 30]\n"
          ]
        }
      ]
    },
    {
      "cell_type": "markdown",
      "source": [
        "O que ocorre é que como ambas as variáveis A e B referenciam para a mesma lista, quando B é alterada através do append(), A também é afetada!"
      ],
      "metadata": {
        "id": "HUttjxsnq2QG"
      }
    },
    {
      "cell_type": "code",
      "source": [
        "# Outro exemplo\n",
        "\n",
        "a = [1,2,3,4,5]\n",
        "b = a\n",
        "\n",
        "b.extend([10,20,30])\n",
        "\n",
        "print(a)"
      ],
      "metadata": {
        "colab": {
          "base_uri": "https://localhost:8080/"
        },
        "id": "oxHB17_CsHGo",
        "outputId": "9562b55d-bec8-4218-b090-8353121d6d30"
      },
      "execution_count": null,
      "outputs": [
        {
          "output_type": "stream",
          "name": "stdout",
          "text": [
            "[1, 2, 3, 4, 5, 10, 20, 30]\n"
          ]
        }
      ]
    },
    {
      "cell_type": "code",
      "source": [
        "# Encontrando um índice da primeira ocorrência em uma lista\n",
        "\n",
        "nomes = ['Joao', 'Pedro', 'Carlos']\n",
        "\n",
        "# Encontrando o índice de Pedro com o lst.index('Pedro')\n",
        "nomes.index( 'Pedro' )"
      ],
      "metadata": {
        "id": "YFUFYMiksbm9",
        "colab": {
          "base_uri": "https://localhost:8080/"
        },
        "outputId": "d0dca0f4-9f13-473c-d7f2-9f7491d22487"
      },
      "execution_count": null,
      "outputs": [
        {
          "output_type": "execute_result",
          "data": {
            "text/plain": [
              "1"
            ]
          },
          "metadata": {},
          "execution_count": 42
        }
      ]
    },
    {
      "cell_type": "code",
      "source": [
        "# Contando o número de 'a' em 'abacate' com lst.count('a')\n",
        "\n",
        "fruta = 'abacate'\n",
        "fruta.count('a')"
      ],
      "metadata": {
        "id": "SqjyNFMMsnS9",
        "colab": {
          "base_uri": "https://localhost:8080/"
        },
        "outputId": "2a23025c-449c-4a61-c4c0-fb35e65d289f"
      },
      "execution_count": null,
      "outputs": [
        {
          "output_type": "execute_result",
          "data": {
            "text/plain": [
              "3"
            ]
          },
          "metadata": {},
          "execution_count": 44
        }
      ]
    },
    {
      "cell_type": "code",
      "source": [
        "aux = [3,1,2,20,10]\n",
        "\n",
        "# Ordenando uma lista com lst.sort()   OBS: este método altera a lista original\n",
        "aux.sort()\n",
        "aux"
      ],
      "metadata": {
        "id": "6x-TtAJXsuya",
        "colab": {
          "base_uri": "https://localhost:8080/"
        },
        "outputId": "1eeee724-546f-402a-82ec-e16c8c8d0475"
      },
      "execution_count": null,
      "outputs": [
        {
          "output_type": "execute_result",
          "data": {
            "text/plain": [
              "[1, 2, 3, 10, 20]"
            ]
          },
          "metadata": {},
          "execution_count": 46
        }
      ]
    },
    {
      "cell_type": "code",
      "source": [
        "aux = [3,1,2,20,10]\n",
        "\n",
        "# Ordenando a lista sem alterar a original (cria-se uma nova sequência na memória) usando o sorted(aux)\n",
        "sorted(aux)\n",
        "\n",
        "aux"
      ],
      "metadata": {
        "id": "MeMSv8PvtQkk",
        "colab": {
          "base_uri": "https://localhost:8080/"
        },
        "outputId": "138d25fe-413b-4776-c648-8fd9f7c58ec5"
      },
      "execution_count": null,
      "outputs": [
        {
          "output_type": "execute_result",
          "data": {
            "text/plain": [
              "[3, 1, 2, 20, 10]"
            ]
          },
          "metadata": {},
          "execution_count": 49
        }
      ]
    },
    {
      "cell_type": "code",
      "source": [
        "# Achando o maior elemento da sequência com max(lst)\n",
        "max( aux )"
      ],
      "metadata": {
        "id": "Sp9YXY9JthjJ",
        "colab": {
          "base_uri": "https://localhost:8080/"
        },
        "outputId": "f800f904-1ac4-4111-ef7a-1f2430501af9"
      },
      "execution_count": null,
      "outputs": [
        {
          "output_type": "execute_result",
          "data": {
            "text/plain": [
              "20"
            ]
          },
          "metadata": {},
          "execution_count": 50
        }
      ]
    },
    {
      "cell_type": "code",
      "source": [
        "# Achando o menor elemento da sequência com min(lst)\n",
        "min( aux )"
      ],
      "metadata": {
        "id": "Takt6mBctneN",
        "colab": {
          "base_uri": "https://localhost:8080/"
        },
        "outputId": "d74f2467-aee8-43e4-971f-bdff76f28b1a"
      },
      "execution_count": null,
      "outputs": [
        {
          "output_type": "execute_result",
          "data": {
            "text/plain": [
              "1"
            ]
          },
          "metadata": {},
          "execution_count": 51
        }
      ]
    },
    {
      "cell_type": "markdown",
      "source": [
        "**Tupla**\n",
        "\n",
        "- Chamada de \"tuple\"\n",
        "- Similar a lista mas os elementos não podem ser modificados!"
      ],
      "metadata": {
        "id": "FwzptiiaK-8R"
      }
    },
    {
      "cell_type": "code",
      "source": [
        "tupla_auxiliar = ('a',2,'c', 3.5,'e')\n",
        "\n",
        "print(tupla_auxiliar)"
      ],
      "metadata": {
        "id": "dwU-UHfmLKZ3",
        "colab": {
          "base_uri": "https://localhost:8080/"
        },
        "outputId": "5123cfe9-3827-40f3-bd94-fcca59bb57d1"
      },
      "execution_count": null,
      "outputs": [
        {
          "output_type": "stream",
          "name": "stdout",
          "text": [
            "('a', 2, 'c', 3.5, 'e')\n"
          ]
        }
      ]
    },
    {
      "cell_type": "code",
      "source": [
        "# Tentando adicionar algo em uma tupla (Error)\n",
        "tupla_auxiliar.append('b')"
      ],
      "metadata": {
        "id": "vRl6BucLP3gw",
        "colab": {
          "base_uri": "https://localhost:8080/",
          "height": 183
        },
        "outputId": "f032ef1c-5940-49cb-f7e7-3130ed6a5f7c"
      },
      "execution_count": null,
      "outputs": [
        {
          "output_type": "error",
          "ename": "AttributeError",
          "evalue": "ignored",
          "traceback": [
            "\u001b[0;31m---------------------------------------------------------------------------\u001b[0m",
            "\u001b[0;31mAttributeError\u001b[0m                            Traceback (most recent call last)",
            "\u001b[0;32m<ipython-input-53-be349005e181>\u001b[0m in \u001b[0;36m<module>\u001b[0;34m()\u001b[0m\n\u001b[1;32m      1\u001b[0m \u001b[0;31m# Tentando adicionar algo em uma tupla (Error)\u001b[0m\u001b[0;34m\u001b[0m\u001b[0;34m\u001b[0m\u001b[0;34m\u001b[0m\u001b[0m\n\u001b[0;32m----> 2\u001b[0;31m \u001b[0mtupla_auxiliar\u001b[0m\u001b[0;34m.\u001b[0m\u001b[0mappend\u001b[0m\u001b[0;34m(\u001b[0m\u001b[0;34m'b'\u001b[0m\u001b[0;34m)\u001b[0m\u001b[0;34m\u001b[0m\u001b[0;34m\u001b[0m\u001b[0m\n\u001b[0m",
            "\u001b[0;31mAttributeError\u001b[0m: 'tuple' object has no attribute 'append'"
          ]
        }
      ]
    },
    {
      "cell_type": "markdown",
      "source": [
        "\"Mas e se eu precisar muito mexer na tupla? (Você precisa mesmo??!)\"\n",
        "\n",
        "<img src=\"https://www.memesmonkey.com/images/memesmonkey/8c/8c61344284918bae325bdc4fbf9c6c6f.jpeg\" width=20%>"
      ],
      "metadata": {
        "id": "qzU2_88uQDaF"
      }
    },
    {
      "cell_type": "code",
      "source": [
        "# Transformando uma tupla em uma lista\n",
        "tupla_auxiliar = list( tupla_auxiliar )"
      ],
      "metadata": {
        "id": "O6vcLCPiQOni"
      },
      "execution_count": null,
      "outputs": []
    },
    {
      "cell_type": "code",
      "source": [
        "# Adicionando o elemento na lista\n",
        "tupla_auxiliar.append('Joao')"
      ],
      "metadata": {
        "id": "JefvRsP4QRuX"
      },
      "execution_count": null,
      "outputs": []
    },
    {
      "cell_type": "code",
      "source": [
        "# Transformando a lista em uma tupla novamente\n",
        "tupla_auxiliar = tuple ( tupla_auxiliar )"
      ],
      "metadata": {
        "id": "5BnQ4-AKQUV7"
      },
      "execution_count": null,
      "outputs": []
    },
    {
      "cell_type": "code",
      "source": [
        "tupla_auxiliar"
      ],
      "metadata": {
        "id": "r6ipK2cJP_u-",
        "outputId": "0f490e74-e35b-4c6e-9dec-8c2b3a9f5277",
        "colab": {
          "base_uri": "https://localhost:8080/"
        }
      },
      "execution_count": null,
      "outputs": [
        {
          "output_type": "execute_result",
          "data": {
            "text/plain": [
              "('a', 2, 'c', 3.5, 'e', 'Joao')"
            ]
          },
          "metadata": {},
          "execution_count": 59
        }
      ]
    },
    {
      "cell_type": "markdown",
      "source": [
        "**String**\n",
        "\n",
        "- Cadeia de caracteres com leitura 1 a 1"
      ],
      "metadata": {
        "id": "PaSYm103LKhn"
      }
    },
    {
      "cell_type": "code",
      "source": [
        "str_auxiliar = 'computação é o orgulho da puc'\n",
        "\n",
        "# Acessando as letras da string com str[posição]\n",
        "str_auxiliar[-1]"
      ],
      "metadata": {
        "id": "xO7knLe5LTz4",
        "colab": {
          "base_uri": "https://localhost:8080/",
          "height": 35
        },
        "outputId": "f5f4f635-99b2-4dd4-fe89-331c3eb4162b"
      },
      "execution_count": null,
      "outputs": [
        {
          "output_type": "execute_result",
          "data": {
            "text/plain": [
              "'c'"
            ],
            "application/vnd.google.colaboratory.intrinsic+json": {
              "type": "string"
            }
          },
          "metadata": {},
          "execution_count": 60
        }
      ]
    },
    {
      "cell_type": "code",
      "source": [
        "# Transformando as primeiras letras em maiúsculas com str.title()\n",
        "nome = 'joao'\n",
        "nome = nome.title()\n",
        "nome"
      ],
      "metadata": {
        "colab": {
          "base_uri": "https://localhost:8080/",
          "height": 35
        },
        "id": "NJDdsOiiUUzo",
        "outputId": "c6310fd3-859a-4bf9-bb59-be3604c36e94"
      },
      "execution_count": null,
      "outputs": [
        {
          "output_type": "execute_result",
          "data": {
            "text/plain": [
              "'Joao'"
            ],
            "application/vnd.google.colaboratory.intrinsic+json": {
              "type": "string"
            }
          },
          "metadata": {},
          "execution_count": 61
        }
      ]
    },
    {
      "cell_type": "code",
      "source": [
        "# Transformando as letras em maiúsculas com str.upper()\n",
        "nome = nome.upper()"
      ],
      "metadata": {
        "id": "FCnKVh2XUwx3"
      },
      "execution_count": null,
      "outputs": []
    },
    {
      "cell_type": "code",
      "source": [
        "# Transformando as letras em minúsculas com str.lower()\n",
        "nome.lower()"
      ],
      "metadata": {
        "id": "62loN-QvU0Sv",
        "colab": {
          "base_uri": "https://localhost:8080/",
          "height": 35
        },
        "outputId": "6c6d8b64-4653-471e-a1bf-07a671a42d6b"
      },
      "execution_count": null,
      "outputs": [
        {
          "output_type": "execute_result",
          "data": {
            "text/plain": [
              "'joao'"
            ],
            "application/vnd.google.colaboratory.intrinsic+json": {
              "type": "string"
            }
          },
          "metadata": {},
          "execution_count": 66
        }
      ]
    },
    {
      "cell_type": "code",
      "source": [
        "# Tabulações com /n e /t\n",
        "print('\\tHello\\nworld')"
      ],
      "metadata": {
        "id": "HOlo8u6lU7qI",
        "colab": {
          "base_uri": "https://localhost:8080/"
        },
        "outputId": "cce6deae-248e-40f6-a3ee-3b75f79bfe24"
      },
      "execution_count": null,
      "outputs": [
        {
          "output_type": "stream",
          "name": "stdout",
          "text": [
            "\tHello\n",
            "world\n"
          ]
        }
      ]
    },
    {
      "cell_type": "code",
      "source": [
        "str_aux = '    olá mundo   '\n",
        "\n",
        "# Removendo espaços da direita com str.rstrip()\n",
        "print(str_aux.rstrip())\n",
        "# Removendo espaços da esquerda com str.lstrip()\n",
        "print(str_aux.lstrip())\n",
        "# Removendo espaços de ambos os lados com str.strip()\n",
        "print(str_aux.strip())\n",
        "# Trocando alguma string com str.replace(\"antiga\", \"nova\")\n",
        "print( str_aux.replace('mundo', 'world') )\n",
        "print( str_aux.replace('o', 'A') )"
      ],
      "metadata": {
        "id": "S6-psHWQVENC",
        "colab": {
          "base_uri": "https://localhost:8080/"
        },
        "outputId": "062ee1f8-ae18-4731-d3fb-7998f5522bdb"
      },
      "execution_count": null,
      "outputs": [
        {
          "output_type": "stream",
          "name": "stdout",
          "text": [
            "    olá mundo\n",
            "olá mundo   \n",
            "olá mundo\n",
            "    olá world   \n",
            "    Alá mundA   \n"
          ]
        }
      ]
    },
    {
      "cell_type": "markdown",
      "source": [
        "**Dicionários**\n",
        "- Chamado de \"dict\n",
        "- Mapeia um par (chave-valor) de informações\n",
        "- Chaves são imutáveis (ex. string)\n",
        "- Valores podem ser de qualquer tipo (str, int, float etc)"
      ],
      "metadata": {
        "id": "6KJpFCAEWj3k"
      }
    },
    {
      "cell_type": "code",
      "source": [
        "# Exemplo\n",
        "\n",
        "# dic_exemplo = {'chave1': \"valor1 da chave 1\", \"valor 2 da chave 1\",\n",
        "#                'chave2': 'valor1 da chave 2\"(...)}\n",
        "\n",
        "dic_cidade_estado = { 'Rio de Janeiro': 'Petrópolis',\n",
        "                      'São Paulo': ['São João da Boa Vista', 'Divinolândia'],\n",
        "                      'Minas Gerais': ['Poços de Caldas', 'Alfenas'] }"
      ],
      "metadata": {
        "id": "qwUqYWROXHAx"
      },
      "execution_count": null,
      "outputs": []
    },
    {
      "cell_type": "code",
      "source": [
        "# Acessando uma chave do dicionário\n",
        "\n",
        "dic_cidade_estado['São Paulo']"
      ],
      "metadata": {
        "id": "ptcNO8f5YTpE",
        "colab": {
          "base_uri": "https://localhost:8080/"
        },
        "outputId": "72b2eb4c-ca3f-4f72-ce44-1eb1398abaa5"
      },
      "execution_count": null,
      "outputs": [
        {
          "output_type": "execute_result",
          "data": {
            "text/plain": [
              "['São João da Boa Vista', 'Divinolândia']"
            ]
          },
          "metadata": {},
          "execution_count": 77
        }
      ]
    },
    {
      "cell_type": "code",
      "source": [
        "# Dicionários podem conter diferentes tipos de valores\n",
        "dic_valor = { 'chave1': 1,\n",
        "              'a': [2,3,[2,3,4]] }\n",
        "dic_valor"
      ],
      "metadata": {
        "id": "9nbEuN8RYYrE",
        "colab": {
          "base_uri": "https://localhost:8080/"
        },
        "outputId": "d7a545ff-934e-42a7-d46b-ec8016df6ab8"
      },
      "execution_count": null,
      "outputs": [
        {
          "output_type": "execute_result",
          "data": {
            "text/plain": [
              "{'a': [2, 3, [2, 3, 4]], 'chave1': 1}"
            ]
          },
          "metadata": {},
          "execution_count": 78
        }
      ]
    },
    {
      "cell_type": "code",
      "source": [
        "dict_aux = {'a': 1,\n",
        "            'b': 2,\n",
        "            'c': 3}\n",
        "\n",
        "print(dict_aux)\n",
        "\n",
        "# Adicionando um novo par de chave-valor ao dicionário com dic['chave'] = valor\n",
        "dict_aux['d'] = 4\n",
        "dict_aux\n",
        "\n",
        "# Alterando valores de um dicionário\n",
        "dict_aux['c'] = [1,2]\n",
        "dict_aux\n",
        "\n",
        "# Deletar valores de um dicionário\n",
        "del dict_aux['b']\n",
        "dict_aux"
      ],
      "metadata": {
        "id": "hFaYrz17ZhoD",
        "colab": {
          "base_uri": "https://localhost:8080/"
        },
        "outputId": "6f995cae-b201-44fe-bcbe-182955b202dd"
      },
      "execution_count": null,
      "outputs": [
        {
          "output_type": "stream",
          "name": "stdout",
          "text": [
            "{'a': 1, 'b': 2, 'c': 3}\n"
          ]
        },
        {
          "output_type": "execute_result",
          "data": {
            "text/plain": [
              "{'a': 1, 'c': [1, 2], 'd': 4}"
            ]
          },
          "metadata": {},
          "execution_count": 83
        }
      ]
    },
    {
      "cell_type": "code",
      "source": [
        "dict_aux = {'a': 1,\n",
        "            'b': 2,\n",
        "            'c': 3}\n",
        "\n",
        "print(dict_aux)\n",
        "\n",
        "# Adicionando um novo par de chave-valor ao dicionário com dic['chave'] = valor\n",
        "\n",
        "\n",
        "# Alterando valores de um dicionário com dic['chave'] = novos valores\n",
        "\n",
        "\n",
        "# Removendo valores de um dicionário com del dict['chave']\n",
        "\n"
      ],
      "metadata": {
        "colab": {
          "base_uri": "https://localhost:8080/"
        },
        "id": "IfmTjAZEaMw6",
        "outputId": "733e9bad-e9d7-4bf3-ccbb-b294d4e8d679"
      },
      "execution_count": null,
      "outputs": [
        {
          "output_type": "stream",
          "name": "stdout",
          "text": [
            "{'a': 1, 'b': 2, 'c': 3}\n",
            "{'a': [1, 2, 3], 'b': 2, 'c': 3}\n"
          ]
        }
      ]
    },
    {
      "cell_type": "code",
      "source": [
        "# Retornando os pares chave-valor de um dicionário com dict.items()\n",
        "dict_aux.items()\n",
        "# Retornando chaves de um dicionário com dict.keys()\n",
        "dict_aux.keys()\n",
        "# Retornando os valores de um dicionário com dict.values()\n",
        "dict_aux.values()"
      ],
      "metadata": {
        "id": "gzSkCzItakv0",
        "colab": {
          "base_uri": "https://localhost:8080/"
        },
        "outputId": "4fd2e7fc-d34c-49fd-c283-c78498b57808"
      },
      "execution_count": null,
      "outputs": [
        {
          "output_type": "execute_result",
          "data": {
            "text/plain": [
              "dict_values([1, [1, 2], 4])"
            ]
          },
          "metadata": {},
          "execution_count": 86
        }
      ]
    },
    {
      "cell_type": "markdown",
      "source": [
        "**Slicing**\n",
        "- Modo de pegar apenas uma 'fatia' de algo"
      ],
      "metadata": {
        "id": "9-vlcSnqa9Lw"
      }
    },
    {
      "cell_type": "code",
      "source": [
        "lst_auxiliar = ['a', 'b', 'c', 'd', 'e']\n",
        "\n",
        "# Retornando do segundo elemento em diante\n",
        "lst_auxiliar[1:]"
      ],
      "metadata": {
        "id": "eDJvwWrZbFJa",
        "colab": {
          "base_uri": "https://localhost:8080/"
        },
        "outputId": "cf5d281f-c193-4867-ca00-06b4d33d41b9"
      },
      "execution_count": null,
      "outputs": [
        {
          "output_type": "execute_result",
          "data": {
            "text/plain": [
              "['b', 'c', 'd', 'e']"
            ]
          },
          "metadata": {},
          "execution_count": 87
        }
      ]
    },
    {
      "cell_type": "code",
      "source": [
        "# Retornando do segundo elemento ao quarto\n",
        "lst_auxiliar[1:4]"
      ],
      "metadata": {
        "id": "k1r2j9ITbRkL",
        "colab": {
          "base_uri": "https://localhost:8080/"
        },
        "outputId": "63f7d802-e180-4478-cfec-d03c85438c74"
      },
      "execution_count": null,
      "outputs": [
        {
          "output_type": "execute_result",
          "data": {
            "text/plain": [
              "['b', 'c', 'd']"
            ]
          },
          "metadata": {},
          "execution_count": 89
        }
      ]
    },
    {
      "cell_type": "code",
      "source": [
        "# Acessando os últimos 3 elementos\n",
        "lst_auxiliar[-3:]"
      ],
      "metadata": {
        "id": "88fK4ZahbXVN",
        "colab": {
          "base_uri": "https://localhost:8080/"
        },
        "outputId": "a043fe92-4671-496d-b390-05b06f6f5ede"
      },
      "execution_count": null,
      "outputs": [
        {
          "output_type": "execute_result",
          "data": {
            "text/plain": [
              "['c', 'd', 'e']"
            ]
          },
          "metadata": {},
          "execution_count": 90
        }
      ]
    },
    {
      "cell_type": "code",
      "source": [
        "# Acessando do segundo penúltimo elemento com lst[1:-1]\n",
        "lst_auxiliar[1:-1]"
      ],
      "metadata": {
        "id": "3OeywJxRbcMG",
        "colab": {
          "base_uri": "https://localhost:8080/"
        },
        "outputId": "e3e1dea9-1f45-43ab-ae66-baffa7bfd963"
      },
      "execution_count": null,
      "outputs": [
        {
          "output_type": "execute_result",
          "data": {
            "text/plain": [
              "['b', 'c', 'd']"
            ]
          },
          "metadata": {},
          "execution_count": 91
        }
      ]
    },
    {
      "cell_type": "code",
      "source": [
        "# Fatiando uma string\n",
        "\n",
        "aux = \"Computação\"\n",
        "\n",
        "# Abreviando para Comp\n",
        "aux[0:4]"
      ],
      "metadata": {
        "id": "BS7-D8hlbnyl",
        "colab": {
          "base_uri": "https://localhost:8080/",
          "height": 35
        },
        "outputId": "0c546f7a-abac-491f-c44c-e0865f32ae1c"
      },
      "execution_count": null,
      "outputs": [
        {
          "output_type": "execute_result",
          "data": {
            "text/plain": [
              "'Comp'"
            ],
            "application/vnd.google.colaboratory.intrinsic+json": {
              "type": "string"
            }
          },
          "metadata": {},
          "execution_count": 93
        }
      ]
    },
    {
      "cell_type": "markdown",
      "source": [
        "## Estruturas de controle"
      ],
      "metadata": {
        "id": "7smri6U7ccAd"
      }
    },
    {
      "cell_type": "markdown",
      "source": [
        "São os comandos responsáveis por controlar a execução de algo, como na maioria das linguagens que conhecemos.\n",
        "\n",
        "Ex.\n",
        "- if: \"se\" algo acontecer faça isso\n",
        "- elif: \" e além disso se\" algo acontecer faça isso\n",
        "- for: \"por tantas vezes\" faça isso\n",
        "- while: \"enquanto\" algo acontecer faça isso"
      ],
      "metadata": {
        "id": "6tP2lz_xcizY"
      }
    },
    {
      "cell_type": "markdown",
      "source": [
        "Comando if:\n",
        "```Python\n",
        "se (condição for verdadeira):\n",
        "  faça X\n",
        "se não caso (...):\n",
        "  faça Y\n",
        "se não ():\n",
        "  faça Z  \n",
        "```\n",
        "Ex."
      ],
      "metadata": {
        "id": "TwYbvLZ_dpem"
      }
    },
    {
      "cell_type": "code",
      "source": [
        "# Comando if\n",
        "\n",
        "a = 2\n",
        "b = 2\n",
        "c = 3\n",
        "\n",
        "if ( b<a ):\n",
        "  print('Deu certo')\n",
        "elif (b == a):\n",
        "  print('Deu em nada')\n",
        "else:\n",
        "  print('Deu errado')"
      ],
      "metadata": {
        "id": "xk0qwN1odd2s",
        "colab": {
          "base_uri": "https://localhost:8080/"
        },
        "outputId": "48657337-a35a-40a1-e5cb-bd3a889db48d"
      },
      "execution_count": null,
      "outputs": [
        {
          "output_type": "stream",
          "name": "stdout",
          "text": [
            "Deu em nada\n"
          ]
        }
      ]
    },
    {
      "cell_type": "code",
      "source": [
        "# Extra: declarando variáveis com uma condição\n",
        "\n",
        "a = 2\n",
        "\n",
        "if a == 2:\n",
        "  valor = 'Verdadeiro'\n",
        "else:\n",
        "  valor = 'Falso'\n",
        "\n",
        "# Equivale a:\n",
        "\n",
        "valor = 'Verdadeiro' if a == 2 else 'Falso'\n",
        "\n",
        "print(valor)"
      ],
      "metadata": {
        "id": "yMIc5sqnfGUV",
        "colab": {
          "base_uri": "https://localhost:8080/"
        },
        "outputId": "32057509-62ee-484e-b15c-34653b2b522e"
      },
      "execution_count": null,
      "outputs": [
        {
          "output_type": "stream",
          "name": "stdout",
          "text": [
            "Verdadeiro\n"
          ]
        }
      ]
    },
    {
      "cell_type": "markdown",
      "source": [
        "Comando for:\n",
        "```Python\n",
        "para 'cada x' em 'intervalo':\n",
        "  faça isso\n",
        "```"
      ],
      "metadata": {
        "id": "CTexliSXfZAM"
      }
    },
    {
      "cell_type": "code",
      "source": [
        "# Comando for\n",
        "\n",
        "for numero in range(10):\n",
        "  print('Olá')"
      ],
      "metadata": {
        "colab": {
          "base_uri": "https://localhost:8080/"
        },
        "id": "LCnkkuxpfmug",
        "outputId": "d94ebc65-8ac6-41ae-a36d-416ee7b246a9"
      },
      "execution_count": null,
      "outputs": [
        {
          "output_type": "stream",
          "name": "stdout",
          "text": [
            "Olá\n",
            "Olá\n",
            "Olá\n",
            "Olá\n",
            "Olá\n",
            "Olá\n",
            "Olá\n",
            "Olá\n",
            "Olá\n",
            "Olá\n"
          ]
        }
      ]
    },
    {
      "cell_type": "code",
      "source": [
        "lst_aux = [-60, -50, -40, -30, 10, 20, 50, 80, 90, 100]\n",
        "\n",
        "# Utilizando for em listas para imprimir os valores positivos\n",
        "for valor in lst_aux:\n",
        "  print( valor+2 )"
      ],
      "metadata": {
        "id": "BmmkH1K0fzne",
        "colab": {
          "base_uri": "https://localhost:8080/"
        },
        "outputId": "117bbdd6-21d0-41d1-84fc-23fcaadf6c58"
      },
      "execution_count": null,
      "outputs": [
        {
          "output_type": "stream",
          "name": "stdout",
          "text": [
            "-58\n",
            "-48\n",
            "-38\n",
            "-28\n",
            "12\n",
            "22\n",
            "52\n",
            "82\n",
            "92\n",
            "102\n"
          ]
        }
      ]
    },
    {
      "cell_type": "markdown",
      "source": [
        "**Exercício**\n",
        "\n",
        "Dada a lista [1, 2, 3, 4, 5, 6, 7, 8, 9, 10], adicione os valores pares em uma nova lista e a imprima.\n",
        "\n",
        "Dica: popule a lista auxiliar com os valores pares utilizando um laço 'for' e '.append()'"
      ],
      "metadata": {
        "id": "RzWPei0pgYSI"
      }
    },
    {
      "cell_type": "code",
      "source": [
        "lst = [1, 2, 3, 4, 5, 6, 7, 8, 9, 10]\n",
        "lst_aux = []\n",
        "\n",
        "# Resolva\n",
        "for numero in lst:\n",
        "  if ( numero%2==0 ):\n",
        "    lst_aux.append( numero )\n",
        "\n",
        "lst_aux"
      ],
      "metadata": {
        "id": "Zl0R_a_agoTD",
        "colab": {
          "base_uri": "https://localhost:8080/"
        },
        "outputId": "62329e30-efa3-45ea-c016-950f4071fdae"
      },
      "execution_count": null,
      "outputs": [
        {
          "output_type": "execute_result",
          "data": {
            "text/plain": [
              "[2, 4, 6, 8, 10]"
            ]
          },
          "metadata": {},
          "execution_count": 105
        }
      ]
    },
    {
      "cell_type": "markdown",
      "source": [
        "**Exercício**\n",
        "\n",
        "Imprima o maior valor da lista [1, 2, 3, 4, 50, 60, 7, 8, 9, 10]"
      ],
      "metadata": {
        "id": "XbWAaYr8kbFH"
      }
    },
    {
      "cell_type": "code",
      "source": [
        "lst = [1, 2, 3, 4, 50, 60, 7, 8, 9, 10]\n",
        "\n",
        "# Resolva\n",
        "max( lst )"
      ],
      "metadata": {
        "id": "2MRHFpNJkhjK",
        "colab": {
          "base_uri": "https://localhost:8080/"
        },
        "outputId": "a5d9682b-e81c-490c-a5cc-9975146a833e"
      },
      "execution_count": null,
      "outputs": [
        {
          "output_type": "execute_result",
          "data": {
            "text/plain": [
              "60"
            ]
          },
          "metadata": {},
          "execution_count": 106
        }
      ]
    },
    {
      "cell_type": "markdown",
      "source": [
        "**Exercício**\n",
        "\n",
        "Imprima a média da lista [1, 2, 3, 4, 5, 6, 7, 8, 9, 10]\n",
        "\n",
        "Lembrando que:\n",
        "média = Soma dos valores / Quantidade de valores"
      ],
      "metadata": {
        "id": "vnPoOqedksb2"
      }
    },
    {
      "cell_type": "code",
      "source": [
        "lst = [1, 2, 3, 4, 5, 6, 7, 8, 9, 10]\n",
        "\n",
        "# Resolva\n",
        "soma = 0\n",
        "\n",
        "for valor in lst:\n",
        "  soma += valor   # soma = soma + valor\n",
        "\n",
        "media = soma / len(lst)\n",
        "media"
      ],
      "metadata": {
        "id": "Dl84ed6sk0J9",
        "colab": {
          "base_uri": "https://localhost:8080/"
        },
        "outputId": "1ca27dfe-7586-4609-fff2-03f00bd14bb6"
      },
      "execution_count": null,
      "outputs": [
        {
          "output_type": "execute_result",
          "data": {
            "text/plain": [
              "5.5"
            ]
          },
          "metadata": {},
          "execution_count": 107
        }
      ]
    },
    {
      "cell_type": "markdown",
      "source": [
        "**Exercício**\n",
        "\n",
        "Dada a lista a seguir, imprima somente os nomes que contenham a string 'de'.\n",
        "\n",
        "Dica: utilize o comando in() e uma lista auxiliar vazia para popular com append()"
      ],
      "metadata": {
        "id": "bw1_MisMlXt6"
      }
    },
    {
      "cell_type": "code",
      "source": [
        "# Exemplo de comando in()\n",
        "print('Jo' in 'Joao')\n",
        "print('Za' in 'Joao')\n",
        "print('Za' not in 'Joao')"
      ],
      "metadata": {
        "colab": {
          "base_uri": "https://localhost:8080/"
        },
        "id": "MWRtIhHQl2k0",
        "outputId": "cd0f3964-db6c-47b3-87c7-478ff3f089b9"
      },
      "execution_count": null,
      "outputs": [
        {
          "output_type": "stream",
          "name": "stdout",
          "text": [
            "True\n",
            "False\n",
            "True\n"
          ]
        }
      ]
    },
    {
      "cell_type": "code",
      "source": [
        "lst = ['João de Paula', 'Guimarães de Fernandes', 'Sebastião', 'Dienefer']\n",
        "lst_aux = []\n",
        "\n",
        "# Resolva\n",
        "for nome in lst:\n",
        "  if 'de' in nome:\n",
        "    lst_aux.append(nome)\n",
        "\n",
        "lst_aux"
      ],
      "metadata": {
        "id": "B-uSlTogmAcs",
        "colab": {
          "base_uri": "https://localhost:8080/"
        },
        "outputId": "0566e0eb-a7b3-423d-a9ee-e3b367503ede"
      },
      "execution_count": null,
      "outputs": [
        {
          "output_type": "execute_result",
          "data": {
            "text/plain": [
              "['João de Paula', 'Guimarães de Fernandes']"
            ]
          },
          "metadata": {},
          "execution_count": 109
        }
      ]
    },
    {
      "cell_type": "markdown",
      "source": [
        "Comando while:\n",
        "```Python\n",
        "enquanto (condição for verdadeira):\n",
        "  faça isso\n",
        "```"
      ],
      "metadata": {
        "id": "wspkGKf6h-4a"
      }
    },
    {
      "cell_type": "code",
      "source": [
        "# Exemplo de while\n",
        "\n",
        "aux = 0\n",
        "\n",
        "while aux < 20:\n",
        "  aux += 2\n",
        "  print(aux)"
      ],
      "metadata": {
        "id": "wjQhLKzfiOKF",
        "colab": {
          "base_uri": "https://localhost:8080/"
        },
        "outputId": "06202628-16a9-4c38-d401-8083ef419822"
      },
      "execution_count": null,
      "outputs": [
        {
          "output_type": "stream",
          "name": "stdout",
          "text": [
            "2\n",
            "4\n",
            "6\n",
            "8\n",
            "10\n",
            "12\n",
            "14\n",
            "16\n",
            "18\n",
            "20\n"
          ]
        }
      ]
    },
    {
      "cell_type": "code",
      "source": [
        "# Extra: laço for em dicionários\n",
        "\n",
        "dict_aux = {'a': 2,\n",
        "            'b': 'João',\n",
        "            'L': 'Luiz'}\n",
        "\n",
        "for chaveValor in dict_aux.items():\n",
        "  print(f'Chave: {chaveValor[0]}, Valor: {chaveValor[1]}')"
      ],
      "metadata": {
        "id": "QFdZ3uD8mh-S",
        "colab": {
          "base_uri": "https://localhost:8080/"
        },
        "outputId": "ab6c8d57-5c73-474e-d945-42395b0ec4c0"
      },
      "execution_count": null,
      "outputs": [
        {
          "output_type": "stream",
          "name": "stdout",
          "text": [
            "Chave: a, Valor: 2\n",
            "Chave: b, Valor: João\n",
            "Chave: L, Valor: Luiz\n"
          ]
        }
      ]
    },
    {
      "cell_type": "code",
      "source": [
        "a,b = 2,3\n",
        "print(b)"
      ],
      "metadata": {
        "id": "DW8Z37VPZ-Zs",
        "outputId": "f4310835-5ddb-4c04-b586-c09ca7cf4aed",
        "colab": {
          "base_uri": "https://localhost:8080/"
        }
      },
      "execution_count": null,
      "outputs": [
        {
          "output_type": "stream",
          "name": "stdout",
          "text": [
            "3\n"
          ]
        }
      ]
    },
    {
      "cell_type": "markdown",
      "source": [
        "## Comprehension"
      ],
      "metadata": {
        "id": "iTbp-wDAtxeN"
      }
    },
    {
      "cell_type": "markdown",
      "source": [
        "Comprehension é um recurso que permite criar uma sequência avaliada com base em outra sequência.\n",
        "\n",
        "É uma maneira eficiente de se trabalhar ✅ (melhor em termos de processamento do que utilizar um laço for)"
      ],
      "metadata": {
        "id": "Wo4Tr_Pl7bXa"
      }
    },
    {
      "cell_type": "code",
      "source": [
        "# Exemplo criando uma lista de modo \"convencional\" onde a lista vem de uma outra lista multiplicada por 3\n",
        "\n",
        "lista_1 = [1,2,3,4,5]\n",
        "list_vezes_3 = []\n",
        "\n",
        "for num in lista_1:\n",
        "  list_vezes_3.append( num*3 )\n",
        "\n",
        "print(list_vezes_3)"
      ],
      "metadata": {
        "colab": {
          "base_uri": "https://localhost:8080/"
        },
        "id": "sN_z28jp71mp",
        "outputId": "d95218cf-c856-4061-ce5d-21686fa0aa56"
      },
      "execution_count": null,
      "outputs": [
        {
          "output_type": "stream",
          "name": "stdout",
          "text": [
            "[3, 6, 9, 12, 15]\n"
          ]
        }
      ]
    },
    {
      "cell_type": "code",
      "source": [
        "# Mesmo exemplo utilizando comprehension\n",
        "\n",
        "lista_1 = [1,2,3,4,5]\n",
        "\n",
        "list_vezes_3_comprehension = [ num*3 for num in lista_1 ]\n",
        "\n",
        "print(list_vezes_3_comprehension)"
      ],
      "metadata": {
        "colab": {
          "base_uri": "https://localhost:8080/"
        },
        "id": "sVXkOrjI8d1d",
        "outputId": "4249bbf5-4136-4a20-e575-1b89c77dbb5b"
      },
      "execution_count": null,
      "outputs": [
        {
          "output_type": "stream",
          "name": "stdout",
          "text": [
            "[3, 6, 9, 12, 15]\n"
          ]
        }
      ]
    },
    {
      "cell_type": "code",
      "source": [
        "# Utilizando comprehension com \"if\" e \"else\"\n",
        "\n",
        "lista_1 = [1,2,3,4,5]\n",
        "\n",
        "# Selecionando apenas os números pares e colocando \"impar\" para os ímpares\n",
        "\n",
        "lista_1_par = [ num if num%2==0 else \"impar\" for num in lista_1 ]\n",
        "\n",
        "lista_1_par"
      ],
      "metadata": {
        "colab": {
          "base_uri": "https://localhost:8080/"
        },
        "id": "T-PvOOQ99JOW",
        "outputId": "5f3f1d44-4535-4396-ac08-cfa4b775df94"
      },
      "execution_count": null,
      "outputs": [
        {
          "output_type": "execute_result",
          "data": {
            "text/plain": [
              "['impar', 2, 'impar', 4, 'impar']"
            ]
          },
          "metadata": {},
          "execution_count": 3
        }
      ]
    },
    {
      "cell_type": "markdown",
      "source": [
        "**Exercicio**\n",
        "\n",
        "Dada a lista [1,2,3,4,5,6,7,8,9,10]: <Br><Br>\n",
        "Se o elemento for par -> multiplique por 2 e adicione 1 ( n*2 + 1 ) <Br>\n",
        "Se o elemento for ímpar -> multiplique por 2"
      ],
      "metadata": {
        "id": "n745T9wS-173"
      }
    },
    {
      "cell_type": "code",
      "source": [
        "lista = [1,2,3,4,5,6,7,8,9,10]\n",
        "\n",
        "# Resolva\n",
        "\n",
        "lista_modificada = [ (num*2) + 1 if num%2==0 else num*2 for num in lista ]\n",
        "lista_modificada"
      ],
      "metadata": {
        "id": "fpBIpUNB_X3i",
        "colab": {
          "base_uri": "https://localhost:8080/"
        },
        "outputId": "77fad4de-0230-4671-dbc5-127caaa8a1ca"
      },
      "execution_count": null,
      "outputs": [
        {
          "output_type": "execute_result",
          "data": {
            "text/plain": [
              "[2, 5, 6, 9, 10, 13, 14, 17, 18, 21]"
            ]
          },
          "metadata": {},
          "execution_count": 116
        }
      ]
    },
    {
      "cell_type": "code",
      "source": [
        ""
      ],
      "metadata": {
        "id": "FHb2iFKxKSDc"
      },
      "execution_count": null,
      "outputs": []
    },
    {
      "cell_type": "markdown",
      "source": [
        "## Funções"
      ],
      "metadata": {
        "id": "hKaOtMX2Ixtj"
      }
    },
    {
      "cell_type": "markdown",
      "source": [
        "Uma função é uma espécie de \"máquina geradora\".\n",
        "\n",
        "- É definida no python pelo comando **def**\n",
        "\n",
        "Por exemplo, se você colocar laranjas em um espremedor de frutas, ele retornará um Suco.\n",
        "\n",
        "Ou seja, ao colocarmos o **parâmetro** frutas (no caso Laranja) na **função** espremedor, é retornado um **objeto** Suco.\n",
        "\n",
        "Neste caso:\n",
        "- Função: espremedor\n",
        "- Parâmetro: laranjas\n",
        "- Objeto resultado: Suco\n",
        "\n",
        "<img src=\"https://cf.shopee.com.br/file/e8a29d6873abc9e4d196ad2254504e53_tn\" width=30%>"
      ],
      "metadata": {
        "id": "haSIRVgEIzFM"
      }
    },
    {
      "cell_type": "code",
      "source": [
        "# Exemplo\n",
        "\n",
        "def espremedor(fruta):\n",
        "  suco = 'Suco de ' + fruta\n",
        "  return suco\n",
        "\n",
        "print( espremedor(\"tamarindo\") )"
      ],
      "metadata": {
        "colab": {
          "base_uri": "https://localhost:8080/"
        },
        "id": "IA7RG0M7Ki2H",
        "outputId": "08b26a41-1b15-4780-ce3e-dfd0a30af54c"
      },
      "execution_count": null,
      "outputs": [
        {
          "output_type": "stream",
          "name": "stdout",
          "text": [
            "Suco de tamarindo\n"
          ]
        }
      ]
    },
    {
      "cell_type": "code",
      "source": [
        "# Podemos deixar valores default para uma função com def func(suco = 'limao')\n"
      ],
      "metadata": {
        "id": "U9vaUUmBLMRK"
      },
      "execution_count": null,
      "outputs": []
    },
    {
      "cell_type": "code",
      "source": [
        "# Passando uma função como parâmetro para outra função"
      ],
      "metadata": {
        "id": "d7lc4pEkLtDX"
      },
      "execution_count": null,
      "outputs": []
    },
    {
      "cell_type": "markdown",
      "source": [
        "**Exercício**\n",
        "\n",
        "Faça uma função que recebe como parâmetros um nome de aluno X, sua idade Y e retorne quantos anos faltam para o aluno ter 80 anos.\n",
        "\n",
        "Ex. \"Me chamo Beatriz, tenho 28 anos e faltam 52 anos para que eu tenha 80 anos.\"\n",
        "\n",
        "Caso queira, tente utilizar a função input() para receber os valores, por exemplo:\n",
        "```python\n",
        "idade = int( input(\"Digite a idade: \") )\n",
        "```"
      ],
      "metadata": {
        "id": "XN0Afd2BL32z"
      }
    },
    {
      "cell_type": "code",
      "source": [
        "# Resolva\n",
        "\n",
        "idade = int( input(\"Digite sua idade: \"))\n",
        "nome = input(\"Digite seu nome: \")\n",
        "\n",
        "print(f'Me chamo {nome}, tenho {idade} e faltam {80-idade} para chegar aos 80 anos.')"
      ],
      "metadata": {
        "id": "mv5F84W5MMbO",
        "colab": {
          "base_uri": "https://localhost:8080/"
        },
        "outputId": "6cd9d37e-da25-4a00-d2a5-96af9fb53596"
      },
      "execution_count": null,
      "outputs": [
        {
          "output_type": "stream",
          "name": "stdout",
          "text": [
            "Digite sua idade: 30\n",
            "Digite seu nome: Beatriz\n",
            "Me chamo Beatriz, tenho 30 e faltam 50 para chegar aos 80 anos.\n"
          ]
        }
      ]
    },
    {
      "cell_type": "markdown",
      "source": [
        "## Lambda"
      ],
      "metadata": {
        "id": "GtBueta3mRqr"
      }
    },
    {
      "cell_type": "markdown",
      "source": [
        "A função lambda em python também é chamada de função anônima (sem nome) e pode ser escrita no momento de utilização, não sendo necessário escrevê-la anteriormente\n",
        "\n",
        "Ex.<br>\n",
        "O seguinte código:\n",
        "```python\n",
        "def soma_dois_numeros(num1, num2):\n",
        "  return num1+num2\n",
        "print( soma_dois_numeros(2,5) )\n",
        ">>>7\n",
        "```\n",
        "Poderia ser escrito da seguinte forma utilizando lambda:\n",
        "```python\n",
        "resultado = lambda num1, num2: num1 + num2\n",
        "print( resultado(2,5) )\n",
        ">>> 7\n",
        "```"
      ],
      "metadata": {
        "id": "NdighGBbmUXd"
      }
    },
    {
      "cell_type": "code",
      "source": [
        "# Utilizando a função lambda para comprehension\n",
        "\n",
        "# Escrevendo uma função que descreve se o número é positivo ou negativo e então usando-a em uma comprehension\n",
        "\n",
        "lista_aux = [10,-2,4,0,3,-2]\n",
        "\n",
        "is_par = lambda x: 'positivo' if x>0 else 'negativo'\n",
        "\n",
        "pares = [ is_par(y) for y in lista_aux ]\n",
        "pares\n",
        "\n",
        "# Perceba que o 0 está sendo descrito como negativo"
      ],
      "metadata": {
        "id": "WVCnWJOynJKK",
        "outputId": "827ee939-bb71-4a5f-f361-ca7dbf73be7b",
        "colab": {
          "base_uri": "https://localhost:8080/"
        }
      },
      "execution_count": null,
      "outputs": [
        {
          "output_type": "execute_result",
          "data": {
            "text/plain": [
              "['positivo', 'negativo', 'positivo', 'negativo', 'positivo', 'negativo']"
            ]
          },
          "metadata": {},
          "execution_count": 1
        }
      ]
    },
    {
      "cell_type": "code",
      "source": [
        "# Adicionando o caso neutro na função lambda\n",
        "\n",
        "lista_aux = [10,-2,4,0,3,-2]\n",
        "\n",
        "is_par = lambda x: 'positivo' if x>0 else( 'neutro' if x==0 else 'negativo' )\n",
        "\n",
        "pares = [ is_par(y) for y in lista_aux ]\n",
        "pares"
      ],
      "metadata": {
        "id": "PHD8vJBXovqi",
        "outputId": "7f5ae142-bef1-4492-f25e-67093bcae2f4",
        "colab": {
          "base_uri": "https://localhost:8080/"
        }
      },
      "execution_count": null,
      "outputs": [
        {
          "output_type": "execute_result",
          "data": {
            "text/plain": [
              "['positivo', 'negativo', 'positivo', 'neutro', 'positivo', 'negativo']"
            ]
          },
          "metadata": {},
          "execution_count": 2
        }
      ]
    },
    {
      "cell_type": "markdown",
      "source": [
        "**Exercício**\n",
        "\n",
        "Geraldo é um rapaz supersticioso e acredita que toda palavra que começa em vogal [a,e,i,o,u] deveria ser escrita em letra maiúscula antes de ser impressa em sua impressora amaldiçoada do ano de 1780.\n",
        "\n",
        "Ele está cansado de alterar todos os textos de seus trabalhos, você consegue ajudá-lo automatizando o processo?\n",
        "\n",
        "<img src=\"http://lh4.ggpht.com/-_x9PXMjU0LQ/TmtZaKHESvI/AAAAAAAAB0A/71bjy-376mA/Impressora_thumb%25255B1%25255D.jpg?imgmax=800\" width=30%>\n",
        "\n",
        "Exemplo de entrada:<Br>\n",
        "*'Este ambiente de inovação jamais abrirá as portas para mim se eu não estudar ...'*\n",
        "\n",
        "Exemplo de saída:<Br>\n",
        "*'Este Ambiente de Inovação jamais Abrirá As portas para mim se Eu não Estudar ...'*"
      ],
      "metadata": {
        "id": "_8qU3E10pbOe"
      }
    },
    {
      "cell_type": "code",
      "source": [
        "str_split = 'Olá mundo'\n",
        "\n",
        "str_split.split( sep = ' ' )"
      ],
      "metadata": {
        "id": "0TY181gMIgCQ",
        "outputId": "3c9a7219-8208-4dfc-8fb3-22492f327e83",
        "colab": {
          "base_uri": "https://localhost:8080/"
        }
      },
      "execution_count": null,
      "outputs": [
        {
          "output_type": "execute_result",
          "data": {
            "text/plain": [
              "['Olá', 'mundo']"
            ]
          },
          "metadata": {},
          "execution_count": 3
        }
      ]
    },
    {
      "cell_type": "code",
      "source": [
        "# Dica: usando o split para separar a frase com str.split(sep='')\n",
        "\n",
        "# Pergunta Vinicius: \"Como separo uma frase por uma palavra? Por exemplo,\n",
        "# separar a frase 'olá meu nome é joão' até o \"nome\"\n",
        "\n",
        "str_exemplo = 'Olá meu nome é João'\n",
        "\n",
        "str_exemplo.split(sep = 'nome')[0].rstrip()"
      ],
      "metadata": {
        "id": "J_UXzYx6tmlP",
        "outputId": "5065e506-e561-4d26-aaae-84ed911c2ed0",
        "colab": {
          "base_uri": "https://localhost:8080/",
          "height": 35
        }
      },
      "execution_count": null,
      "outputs": [
        {
          "output_type": "execute_result",
          "data": {
            "text/plain": [
              "'Olá meu'"
            ],
            "application/vnd.google.colaboratory.intrinsic+json": {
              "type": "string"
            }
          },
          "metadata": {},
          "execution_count": 10
        }
      ]
    },
    {
      "cell_type": "code",
      "source": [
        "# Exemplo utilizando função def\n",
        "\n",
        "frase = 'Este ambiente de inovação jamais abrirá as portas para mim se eu não estudar ...'   \n",
        "palavras_da_frase = frase.split( sep = ' ' )        # retorna uma lista com palavras separadas por espaço na frase exemplo\n",
        "lista_auxiliar = []                                 # lista vazia para armazenar as palavras modificadas dentro da função\n",
        "\n",
        "def geraldo_aliviado(lista):\n",
        "  for palavra in lista:\n",
        "    if palavra[0] in 'aeiou':\n",
        "      lista_auxiliar.append( palavra.title() )      # retorna a palavra com a primeira letra maiúscula\n",
        "    else:\n",
        "      lista_auxiliar.append( palavra )\n",
        "\n",
        "geraldo_aliviado(palavras_da_frase)                 # utilizando a função para deixar as vogais iniciais em maiúsculo\n",
        "\n",
        "lista_auxiliar = ' '.join(lista_auxiliar)           # transformando a lista auxiliar em uma única string\n",
        "\n",
        "print(lista_auxiliar)"
      ],
      "metadata": {
        "colab": {
          "base_uri": "https://localhost:8080/"
        },
        "id": "NKJ5TcjurLjm",
        "outputId": "f9f5acb1-4f3f-4b9c-d5f0-b90269c7916e"
      },
      "execution_count": null,
      "outputs": [
        {
          "output_type": "stream",
          "name": "stdout",
          "text": [
            "Este Ambiente de Inovação jamais Abrirá As portas para mim se Eu não Estudar ...\n"
          ]
        }
      ]
    },
    {
      "cell_type": "code",
      "source": [
        "# Agora resolva utilizando a função lambda e comprehension\n",
        "\n",
        "frase = 'Este ambiente de inovação jamais abrirá as portas para mim se eu não estudar ...'\n",
        "palavras_da_frase = frase.split( sep = ' ' )\n",
        "\n",
        "# Resolva\n",
        "f_lambda = lambda x: x.title() if x[0] in 'aeiou' else x\n",
        "\n",
        "frase_modificada = ' '.join( [ f_lambda(y) for y in palavras_da_frase ] )\n",
        "\n",
        "print(frase_modificada)"
      ],
      "metadata": {
        "colab": {
          "base_uri": "https://localhost:8080/"
        },
        "id": "a6gGhrWWqJzb",
        "outputId": "8aa08799-ca7e-41b6-9023-79f57c624e81"
      },
      "execution_count": null,
      "outputs": [
        {
          "output_type": "stream",
          "name": "stdout",
          "text": [
            "Este Ambiente de Inovação jamais Abrirá As portas para mim se Eu não Estudar ...\n"
          ]
        }
      ]
    },
    {
      "cell_type": "markdown",
      "source": [
        "# DESAFIO DO DIA\n",
        "\n",
        "Faça uma função que retorne os números primos de 1 a 100"
      ],
      "metadata": {
        "id": "IybNIB0t3woS"
      }
    },
    {
      "cell_type": "code",
      "source": [
        "# Resolva\n"
      ],
      "metadata": {
        "id": "05WLcfFbx2Oo"
      },
      "execution_count": null,
      "outputs": []
    },
    {
      "cell_type": "markdown",
      "source": [
        "# AULA 02"
      ],
      "metadata": {
        "id": "TUL7s78PumoH"
      }
    },
    {
      "cell_type": "markdown",
      "source": [
        "## Imports"
      ],
      "metadata": {
        "id": "ALrvcY7UuyFE"
      }
    },
    {
      "cell_type": "markdown",
      "source": [
        "Um dos maiores poderes da linguagem Python! 🥇\n",
        "\n",
        "Um \"import\" nos permite \"trazer\" ao projeto várias funções previamente escritas por outros programadores contendo módulos e bibliotecas.\n",
        "- Semelhante ao `#include <stdio>` ou `#include \"customlib.h\"` na linguagem C\n",
        "\n",
        "<img src='https://memegenerator.net/img/instances/60968180.jpg' width=30%>"
      ],
      "metadata": {
        "id": "WkcbGP0OK8BO"
      }
    },
    {
      "cell_type": "code",
      "source": [
        "# Realizando o import do pacote numpy com o comando \"import\"\n",
        "# Obs: Um pacote é um conjunto de vários módulos reunidos\n",
        "import numpy\n",
        "\n",
        "# Realizando o import do pacote numpy e do modulo statistics com o comando \"from\"\n",
        "from matplotlib import pyplot\n",
        "import matplotlib.pyplot"
      ],
      "metadata": {
        "id": "1bqGWHu2L_it"
      },
      "execution_count": null,
      "outputs": []
    },
    {
      "cell_type": "code",
      "source": [
        "# Listando os módulos presentes no numpy com dir(numpy)\n",
        "dir( numpy )"
      ],
      "metadata": {
        "id": "6KA9QaIHcmo7",
        "outputId": "79bdb7a0-a66f-4570-8eb9-50fdaa7bdf3c",
        "colab": {
          "base_uri": "https://localhost:8080/"
        }
      },
      "execution_count": null,
      "outputs": [
        {
          "output_type": "execute_result",
          "data": {
            "text/plain": [
              "['ALLOW_THREADS',\n",
              " 'AxisError',\n",
              " 'BUFSIZE',\n",
              " 'Bytes0',\n",
              " 'CLIP',\n",
              " 'ComplexWarning',\n",
              " 'DataSource',\n",
              " 'Datetime64',\n",
              " 'ERR_CALL',\n",
              " 'ERR_DEFAULT',\n",
              " 'ERR_IGNORE',\n",
              " 'ERR_LOG',\n",
              " 'ERR_PRINT',\n",
              " 'ERR_RAISE',\n",
              " 'ERR_WARN',\n",
              " 'FLOATING_POINT_SUPPORT',\n",
              " 'FPE_DIVIDEBYZERO',\n",
              " 'FPE_INVALID',\n",
              " 'FPE_OVERFLOW',\n",
              " 'FPE_UNDERFLOW',\n",
              " 'False_',\n",
              " 'Inf',\n",
              " 'Infinity',\n",
              " 'MAXDIMS',\n",
              " 'MAY_SHARE_BOUNDS',\n",
              " 'MAY_SHARE_EXACT',\n",
              " 'MachAr',\n",
              " 'ModuleDeprecationWarning',\n",
              " 'NAN',\n",
              " 'NINF',\n",
              " 'NZERO',\n",
              " 'NaN',\n",
              " 'PINF',\n",
              " 'PZERO',\n",
              " 'RAISE',\n",
              " 'RankWarning',\n",
              " 'SHIFT_DIVIDEBYZERO',\n",
              " 'SHIFT_INVALID',\n",
              " 'SHIFT_OVERFLOW',\n",
              " 'SHIFT_UNDERFLOW',\n",
              " 'ScalarType',\n",
              " 'Str0',\n",
              " 'Tester',\n",
              " 'TooHardError',\n",
              " 'True_',\n",
              " 'UFUNC_BUFSIZE_DEFAULT',\n",
              " 'UFUNC_PYVALS_NAME',\n",
              " 'Uint64',\n",
              " 'VisibleDeprecationWarning',\n",
              " 'WRAP',\n",
              " '_NoValue',\n",
              " '_UFUNC_API',\n",
              " '__NUMPY_SETUP__',\n",
              " '__all__',\n",
              " '__builtins__',\n",
              " '__cached__',\n",
              " '__config__',\n",
              " '__deprecated_attrs__',\n",
              " '__dir__',\n",
              " '__doc__',\n",
              " '__expired_functions__',\n",
              " '__file__',\n",
              " '__getattr__',\n",
              " '__git_version__',\n",
              " '__loader__',\n",
              " '__name__',\n",
              " '__package__',\n",
              " '__path__',\n",
              " '__spec__',\n",
              " '__version__',\n",
              " '_add_newdoc_ufunc',\n",
              " '_distributor_init',\n",
              " '_financial_names',\n",
              " '_globals',\n",
              " '_mat',\n",
              " '_pytesttester',\n",
              " '_version',\n",
              " 'abs',\n",
              " 'absolute',\n",
              " 'add',\n",
              " 'add_docstring',\n",
              " 'add_newdoc',\n",
              " 'add_newdoc_ufunc',\n",
              " 'alen',\n",
              " 'all',\n",
              " 'allclose',\n",
              " 'alltrue',\n",
              " 'amax',\n",
              " 'amin',\n",
              " 'angle',\n",
              " 'any',\n",
              " 'append',\n",
              " 'apply_along_axis',\n",
              " 'apply_over_axes',\n",
              " 'arange',\n",
              " 'arccos',\n",
              " 'arccosh',\n",
              " 'arcsin',\n",
              " 'arcsinh',\n",
              " 'arctan',\n",
              " 'arctan2',\n",
              " 'arctanh',\n",
              " 'argmax',\n",
              " 'argmin',\n",
              " 'argpartition',\n",
              " 'argsort',\n",
              " 'argwhere',\n",
              " 'around',\n",
              " 'array',\n",
              " 'array2string',\n",
              " 'array_equal',\n",
              " 'array_equiv',\n",
              " 'array_repr',\n",
              " 'array_split',\n",
              " 'array_str',\n",
              " 'asanyarray',\n",
              " 'asarray',\n",
              " 'asarray_chkfinite',\n",
              " 'ascontiguousarray',\n",
              " 'asfarray',\n",
              " 'asfortranarray',\n",
              " 'asmatrix',\n",
              " 'asscalar',\n",
              " 'atleast_1d',\n",
              " 'atleast_2d',\n",
              " 'atleast_3d',\n",
              " 'average',\n",
              " 'bartlett',\n",
              " 'base_repr',\n",
              " 'binary_repr',\n",
              " 'bincount',\n",
              " 'bitwise_and',\n",
              " 'bitwise_not',\n",
              " 'bitwise_or',\n",
              " 'bitwise_xor',\n",
              " 'blackman',\n",
              " 'block',\n",
              " 'bmat',\n",
              " 'bool8',\n",
              " 'bool_',\n",
              " 'broadcast',\n",
              " 'broadcast_arrays',\n",
              " 'broadcast_shapes',\n",
              " 'broadcast_to',\n",
              " 'busday_count',\n",
              " 'busday_offset',\n",
              " 'busdaycalendar',\n",
              " 'byte',\n",
              " 'byte_bounds',\n",
              " 'bytes0',\n",
              " 'bytes_',\n",
              " 'c_',\n",
              " 'can_cast',\n",
              " 'cast',\n",
              " 'cbrt',\n",
              " 'cdouble',\n",
              " 'ceil',\n",
              " 'cfloat',\n",
              " 'char',\n",
              " 'character',\n",
              " 'chararray',\n",
              " 'choose',\n",
              " 'clip',\n",
              " 'clongdouble',\n",
              " 'clongfloat',\n",
              " 'column_stack',\n",
              " 'common_type',\n",
              " 'compare_chararrays',\n",
              " 'compat',\n",
              " 'complex128',\n",
              " 'complex256',\n",
              " 'complex64',\n",
              " 'complex_',\n",
              " 'complexfloating',\n",
              " 'compress',\n",
              " 'concatenate',\n",
              " 'conj',\n",
              " 'conjugate',\n",
              " 'convolve',\n",
              " 'copy',\n",
              " 'copysign',\n",
              " 'copyto',\n",
              " 'core',\n",
              " 'corrcoef',\n",
              " 'correlate',\n",
              " 'cos',\n",
              " 'cosh',\n",
              " 'count_nonzero',\n",
              " 'cov',\n",
              " 'cross',\n",
              " 'csingle',\n",
              " 'ctypeslib',\n",
              " 'cumprod',\n",
              " 'cumproduct',\n",
              " 'cumsum',\n",
              " 'datetime64',\n",
              " 'datetime_as_string',\n",
              " 'datetime_data',\n",
              " 'deg2rad',\n",
              " 'degrees',\n",
              " 'delete',\n",
              " 'deprecate',\n",
              " 'deprecate_with_doc',\n",
              " 'diag',\n",
              " 'diag_indices',\n",
              " 'diag_indices_from',\n",
              " 'diagflat',\n",
              " 'diagonal',\n",
              " 'diff',\n",
              " 'digitize',\n",
              " 'disp',\n",
              " 'divide',\n",
              " 'divmod',\n",
              " 'dot',\n",
              " 'double',\n",
              " 'dsplit',\n",
              " 'dstack',\n",
              " 'dtype',\n",
              " 'e',\n",
              " 'ediff1d',\n",
              " 'einsum',\n",
              " 'einsum_path',\n",
              " 'emath',\n",
              " 'empty',\n",
              " 'empty_like',\n",
              " 'equal',\n",
              " 'errstate',\n",
              " 'euler_gamma',\n",
              " 'exp',\n",
              " 'exp2',\n",
              " 'expand_dims',\n",
              " 'expm1',\n",
              " 'extract',\n",
              " 'eye',\n",
              " 'fabs',\n",
              " 'fastCopyAndTranspose',\n",
              " 'fft',\n",
              " 'fill_diagonal',\n",
              " 'find_common_type',\n",
              " 'finfo',\n",
              " 'fix',\n",
              " 'flatiter',\n",
              " 'flatnonzero',\n",
              " 'flexible',\n",
              " 'flip',\n",
              " 'fliplr',\n",
              " 'flipud',\n",
              " 'float128',\n",
              " 'float16',\n",
              " 'float32',\n",
              " 'float64',\n",
              " 'float_',\n",
              " 'float_power',\n",
              " 'floating',\n",
              " 'floor',\n",
              " 'floor_divide',\n",
              " 'fmax',\n",
              " 'fmin',\n",
              " 'fmod',\n",
              " 'format_float_positional',\n",
              " 'format_float_scientific',\n",
              " 'format_parser',\n",
              " 'frexp',\n",
              " 'frombuffer',\n",
              " 'fromfile',\n",
              " 'fromfunction',\n",
              " 'fromiter',\n",
              " 'frompyfunc',\n",
              " 'fromregex',\n",
              " 'fromstring',\n",
              " 'full',\n",
              " 'full_like',\n",
              " 'gcd',\n",
              " 'generic',\n",
              " 'genfromtxt',\n",
              " 'geomspace',\n",
              " 'get_array_wrap',\n",
              " 'get_include',\n",
              " 'get_printoptions',\n",
              " 'getbufsize',\n",
              " 'geterr',\n",
              " 'geterrcall',\n",
              " 'geterrobj',\n",
              " 'gradient',\n",
              " 'greater',\n",
              " 'greater_equal',\n",
              " 'half',\n",
              " 'hamming',\n",
              " 'hanning',\n",
              " 'heaviside',\n",
              " 'histogram',\n",
              " 'histogram2d',\n",
              " 'histogram_bin_edges',\n",
              " 'histogramdd',\n",
              " 'hsplit',\n",
              " 'hstack',\n",
              " 'hypot',\n",
              " 'i0',\n",
              " 'identity',\n",
              " 'iinfo',\n",
              " 'imag',\n",
              " 'in1d',\n",
              " 'index_exp',\n",
              " 'indices',\n",
              " 'inexact',\n",
              " 'inf',\n",
              " 'info',\n",
              " 'infty',\n",
              " 'inner',\n",
              " 'insert',\n",
              " 'int0',\n",
              " 'int16',\n",
              " 'int32',\n",
              " 'int64',\n",
              " 'int8',\n",
              " 'int_',\n",
              " 'intc',\n",
              " 'integer',\n",
              " 'interp',\n",
              " 'intersect1d',\n",
              " 'intp',\n",
              " 'invert',\n",
              " 'is_busday',\n",
              " 'isclose',\n",
              " 'iscomplex',\n",
              " 'iscomplexobj',\n",
              " 'isfinite',\n",
              " 'isfortran',\n",
              " 'isin',\n",
              " 'isinf',\n",
              " 'isnan',\n",
              " 'isnat',\n",
              " 'isneginf',\n",
              " 'isposinf',\n",
              " 'isreal',\n",
              " 'isrealobj',\n",
              " 'isscalar',\n",
              " 'issctype',\n",
              " 'issubclass_',\n",
              " 'issubdtype',\n",
              " 'issubsctype',\n",
              " 'iterable',\n",
              " 'ix_',\n",
              " 'kaiser',\n",
              " 'kernel_version',\n",
              " 'kron',\n",
              " 'lcm',\n",
              " 'ldexp',\n",
              " 'left_shift',\n",
              " 'less',\n",
              " 'less_equal',\n",
              " 'lexsort',\n",
              " 'lib',\n",
              " 'linalg',\n",
              " 'linspace',\n",
              " 'little_endian',\n",
              " 'load',\n",
              " 'loads',\n",
              " 'loadtxt',\n",
              " 'log',\n",
              " 'log10',\n",
              " 'log1p',\n",
              " 'log2',\n",
              " 'logaddexp',\n",
              " 'logaddexp2',\n",
              " 'logical_and',\n",
              " 'logical_not',\n",
              " 'logical_or',\n",
              " 'logical_xor',\n",
              " 'logspace',\n",
              " 'longcomplex',\n",
              " 'longdouble',\n",
              " 'longfloat',\n",
              " 'longlong',\n",
              " 'lookfor',\n",
              " 'ma',\n",
              " 'mafromtxt',\n",
              " 'mask_indices',\n",
              " 'mat',\n",
              " 'math',\n",
              " 'matmul',\n",
              " 'matrix',\n",
              " 'matrixlib',\n",
              " 'max',\n",
              " 'maximum',\n",
              " 'maximum_sctype',\n",
              " 'may_share_memory',\n",
              " 'mean',\n",
              " 'median',\n",
              " 'memmap',\n",
              " 'meshgrid',\n",
              " 'mgrid',\n",
              " 'min',\n",
              " 'min_scalar_type',\n",
              " 'minimum',\n",
              " 'mintypecode',\n",
              " 'mod',\n",
              " 'modf',\n",
              " 'moveaxis',\n",
              " 'msort',\n",
              " 'multiply',\n",
              " 'nan',\n",
              " 'nan_to_num',\n",
              " 'nanargmax',\n",
              " 'nanargmin',\n",
              " 'nancumprod',\n",
              " 'nancumsum',\n",
              " 'nanmax',\n",
              " 'nanmean',\n",
              " 'nanmedian',\n",
              " 'nanmin',\n",
              " 'nanpercentile',\n",
              " 'nanprod',\n",
              " 'nanquantile',\n",
              " 'nanstd',\n",
              " 'nansum',\n",
              " 'nanvar',\n",
              " 'nbytes',\n",
              " 'ndarray',\n",
              " 'ndenumerate',\n",
              " 'ndfromtxt',\n",
              " 'ndim',\n",
              " 'ndindex',\n",
              " 'nditer',\n",
              " 'negative',\n",
              " 'nested_iters',\n",
              " 'newaxis',\n",
              " 'nextafter',\n",
              " 'nonzero',\n",
              " 'not_equal',\n",
              " 'numarray',\n",
              " 'number',\n",
              " 'obj2sctype',\n",
              " 'object0',\n",
              " 'object_',\n",
              " 'ogrid',\n",
              " 'oldnumeric',\n",
              " 'ones',\n",
              " 'ones_like',\n",
              " 'os',\n",
              " 'outer',\n",
              " 'packbits',\n",
              " 'pad',\n",
              " 'partition',\n",
              " 'percentile',\n",
              " 'pi',\n",
              " 'piecewise',\n",
              " 'place',\n",
              " 'poly',\n",
              " 'poly1d',\n",
              " 'polyadd',\n",
              " 'polyder',\n",
              " 'polydiv',\n",
              " 'polyfit',\n",
              " 'polyint',\n",
              " 'polymul',\n",
              " 'polynomial',\n",
              " 'polysub',\n",
              " 'polyval',\n",
              " 'positive',\n",
              " 'power',\n",
              " 'printoptions',\n",
              " 'prod',\n",
              " 'product',\n",
              " 'promote_types',\n",
              " 'ptp',\n",
              " 'put',\n",
              " 'put_along_axis',\n",
              " 'putmask',\n",
              " 'quantile',\n",
              " 'r_',\n",
              " 'rad2deg',\n",
              " 'radians',\n",
              " 'random',\n",
              " 'ravel',\n",
              " 'ravel_multi_index',\n",
              " 'real',\n",
              " 'real_if_close',\n",
              " 'rec',\n",
              " 'recarray',\n",
              " 'recfromcsv',\n",
              " 'recfromtxt',\n",
              " 'reciprocal',\n",
              " 'record',\n",
              " 'remainder',\n",
              " 'repeat',\n",
              " 'require',\n",
              " 'reshape',\n",
              " 'resize',\n",
              " 'result_type',\n",
              " 'right_shift',\n",
              " 'rint',\n",
              " 'roll',\n",
              " 'rollaxis',\n",
              " 'roots',\n",
              " 'rot90',\n",
              " 'round',\n",
              " 'round_',\n",
              " 'row_stack',\n",
              " 's_',\n",
              " 'safe_eval',\n",
              " 'save',\n",
              " 'savetxt',\n",
              " 'savez',\n",
              " 'savez_compressed',\n",
              " 'sctype2char',\n",
              " 'sctypeDict',\n",
              " 'sctypes',\n",
              " 'searchsorted',\n",
              " 'select',\n",
              " 'set_numeric_ops',\n",
              " 'set_printoptions',\n",
              " 'set_string_function',\n",
              " 'setbufsize',\n",
              " 'setdiff1d',\n",
              " 'seterr',\n",
              " 'seterrcall',\n",
              " 'seterrobj',\n",
              " 'setxor1d',\n",
              " 'shape',\n",
              " 'shares_memory',\n",
              " 'short',\n",
              " 'show_config',\n",
              " 'sign',\n",
              " 'signbit',\n",
              " 'signedinteger',\n",
              " 'sin',\n",
              " 'sinc',\n",
              " 'single',\n",
              " 'singlecomplex',\n",
              " 'sinh',\n",
              " 'size',\n",
              " 'sometrue',\n",
              " 'sort',\n",
              " 'sort_complex',\n",
              " 'source',\n",
              " 'spacing',\n",
              " 'split',\n",
              " 'sqrt',\n",
              " 'square',\n",
              " 'squeeze',\n",
              " 'stack',\n",
              " 'std',\n",
              " 'str0',\n",
              " 'str_',\n",
              " 'string_',\n",
              " 'subtract',\n",
              " 'sum',\n",
              " 'swapaxes',\n",
              " 'sys',\n",
              " 'take',\n",
              " 'take_along_axis',\n",
              " 'tan',\n",
              " 'tanh',\n",
              " 'tensordot',\n",
              " 'test',\n",
              " 'testing',\n",
              " 'tile',\n",
              " 'timedelta64',\n",
              " 'trace',\n",
              " 'tracemalloc_domain',\n",
              " 'transpose',\n",
              " 'trapz',\n",
              " 'tri',\n",
              " 'tril',\n",
              " 'tril_indices',\n",
              " 'tril_indices_from',\n",
              " 'trim_zeros',\n",
              " 'triu',\n",
              " 'triu_indices',\n",
              " 'triu_indices_from',\n",
              " 'true_divide',\n",
              " 'trunc',\n",
              " 'typecodes',\n",
              " 'typename',\n",
              " 'ubyte',\n",
              " 'ufunc',\n",
              " 'uint',\n",
              " 'uint0',\n",
              " 'uint16',\n",
              " 'uint32',\n",
              " 'uint64',\n",
              " 'uint8',\n",
              " 'uintc',\n",
              " 'uintp',\n",
              " 'ulonglong',\n",
              " 'unicode_',\n",
              " 'union1d',\n",
              " 'unique',\n",
              " 'unpackbits',\n",
              " 'unravel_index',\n",
              " 'unsignedinteger',\n",
              " 'unwrap',\n",
              " 'use_hugepage',\n",
              " 'ushort',\n",
              " 'vander',\n",
              " 'var',\n",
              " 'vdot',\n",
              " 'vectorize',\n",
              " 'version',\n",
              " 'void',\n",
              " 'void0',\n",
              " 'vsplit',\n",
              " 'vstack',\n",
              " 'warnings',\n",
              " 'where',\n",
              " 'who',\n",
              " 'zeros',\n",
              " 'zeros_like']"
            ]
          },
          "metadata": {},
          "execution_count": 21
        }
      ]
    },
    {
      "cell_type": "code",
      "source": [
        "# Apelido\n",
        "import numpy as np\n",
        "import seaborn as sns\n",
        "import pandas as pd\n",
        "import matplotlib.pyplot as plt"
      ],
      "metadata": {
        "id": "LzfN_-9FOnvO"
      },
      "execution_count": null,
      "outputs": []
    },
    {
      "cell_type": "markdown",
      "source": [
        "Extra: Qual a diferença entre um pacote e um módulo em Python?\n",
        "\n",
        "\n",
        "\n",
        "> \"Um módulo é um arquivo com a extensão .py contendo um script Python. O pacote é a maneira de manter os nomes desses módulos separados, usando a “notação ponto”, ou seja, <pacote>.<módulo>. Essa notação é usada internamente pelo Python para separar os módulos em “espaços de nomes” diferentes, mas para o sistema operacional, o pacote é apenas o diretório que contém os arquivos .py de cada módulo.\"\n",
        "\n",
        "*fonte: https://vaiprogramar.com/qual-a-diferenca-modulo-pacote-python/*\n",
        "\n",
        "\n",
        "Ou seja...\n",
        "Qualquer arquivo Python pode ser um módulo; um pacote é uma organização lógica de módulos em um dado diretório.\n",
        "O arquivo que transformará o diretório em um pacote se chama **__init__.py**"
      ],
      "metadata": {
        "id": "to2cxSwvNYv-"
      }
    },
    {
      "cell_type": "code",
      "source": [
        "# Importando o pacote numpy e dando um \"apelido\" para ele\n",
        "import numpy as np"
      ],
      "metadata": {
        "id": "AKQZR3Y0NLUX"
      },
      "execution_count": null,
      "outputs": []
    },
    {
      "cell_type": "code",
      "source": [
        "# Alguns pacotes famosos e seus apelidos: np, plt, pd, sns\n"
      ],
      "metadata": {
        "id": "ceVh-RmndQgJ"
      },
      "execution_count": null,
      "outputs": []
    },
    {
      "cell_type": "markdown",
      "source": [
        "## Programação Funcional"
      ],
      "metadata": {
        "id": "rcygOcRxuzjh"
      }
    },
    {
      "cell_type": "markdown",
      "source": [
        "Python conta com um recurso interessante para melhorar a eficiência de se aplicar funções em sequências, chamada de programação funcional.<br>\n",
        "Pode-se acessar essa \"funcional\" pelo comando: <br>\n",
        "`funcao_funcional(funcao_utilizada, sequencia_ou_iterador)`\n",
        "\n",
        "Alguns dos exemplos mais famosos são as funcionais:\n",
        "- map: retorna um objeto do tipo \"map\" do resultado da aplicação da função escolhida para os elementos da sequência\n",
        "- filter: retorna um objeto do tipo \"filter\" com um filtro aplicado (condição verdadeira) para a sequência de elementos\n",
        "- reduce: aplica a função realizando um acumulado dos elementos (diferente das duas acimas, ela necessita ser importada pelo modulo functools)"
      ],
      "metadata": {
        "id": "v0cCraUpdiZ5"
      }
    },
    {
      "cell_type": "markdown",
      "source": [
        "**Map**"
      ],
      "metadata": {
        "id": "CGJ8krttkwMG"
      }
    },
    {
      "cell_type": "code",
      "source": [
        "# Map\n",
        "\n",
        "# Criando uma lista qualquer\n",
        "lst_auxiliar = [1,2,3,4,5,6,7,8,9,10]\n",
        "\n",
        "# Criando uma função qualquer para ser utilizada\n",
        "def is_par_or_impar(elementos):\n",
        "  if elementos%2 == 0:\n",
        "    return 'Par'\n",
        "  else:\n",
        "    return 'Impar'\n",
        "\n",
        "# Aplicando a função criada na lista auxiliar utilizando o .map(funcao, iterador)\n",
        "\n",
        "lst_modificada = map( is_par_or_impar, lst_auxiliar )\n",
        "print(lst_modificada)\n",
        "\n",
        "# Porém o resultado foi um objeto map, para vermos o resultado precisamos transformá-lo em lista\n",
        "print( list( lst_modificada ) )"
      ],
      "metadata": {
        "id": "nfzP5S1jikpk",
        "outputId": "3a230223-25c2-47c5-cdc3-206f2ff843d6",
        "colab": {
          "base_uri": "https://localhost:8080/"
        }
      },
      "execution_count": null,
      "outputs": [
        {
          "output_type": "stream",
          "name": "stdout",
          "text": [
            "<map object at 0x7f1147c227d0>\n",
            "['Impar', 'Par', 'Impar', 'Par', 'Impar', 'Par', 'Impar', 'Par', 'Impar', 'Par']\n"
          ]
        }
      ]
    },
    {
      "cell_type": "code",
      "source": [
        "# !pip install numpy"
      ],
      "metadata": {
        "id": "k9n3Ib3BQULe",
        "outputId": "573bfcb7-dc20-4d9a-97de-e9e429121136",
        "colab": {
          "base_uri": "https://localhost:8080/"
        }
      },
      "execution_count": null,
      "outputs": [
        {
          "output_type": "stream",
          "name": "stdout",
          "text": [
            "Requirement already satisfied: numpy in /usr/local/lib/python3.7/dist-packages (1.21.6)\n"
          ]
        }
      ]
    },
    {
      "cell_type": "code",
      "source": [
        "# O mesmo código acima utilizando lambda\n",
        "\n",
        "lst_auxiliar = [1,2,3,4,5,6,7,8,9,10]\n",
        "\n",
        "lst_modificada = list( map( lambda x: 'Par' if x%2==0 else 'Impar', lst_auxiliar ) )\n",
        "print( lst_modificada )"
      ],
      "metadata": {
        "id": "qBY61t4YkJ2e",
        "outputId": "9b149983-2ff9-49fc-f6ec-bc9183ff72a6",
        "colab": {
          "base_uri": "https://localhost:8080/"
        }
      },
      "execution_count": null,
      "outputs": [
        {
          "output_type": "stream",
          "name": "stdout",
          "text": [
            "['Impar', 'Par', 'Impar', 'Par', 'Impar', 'Par', 'Impar', 'Par', 'Impar', 'Par']\n"
          ]
        }
      ]
    },
    {
      "cell_type": "markdown",
      "source": [
        "**Filter**"
      ],
      "metadata": {
        "id": "8QbPZtRkkyHC"
      }
    },
    {
      "cell_type": "code",
      "source": [
        "# Filtrando a lista auxiliar para retornar apenas os valores múltiplos de 3\n",
        "\n",
        "lst_auxiliar = [1,2,3,4,5,6,7,8,9,10]\n",
        "\n",
        "lst_modificada = list ( filter( lambda x: x%3==0, lst_auxiliar ) )\n",
        "print(lst_modificada)"
      ],
      "metadata": {
        "id": "V2vr5Et9kurc",
        "outputId": "20c31e81-2503-4fdb-d9cf-0f68103d394f",
        "colab": {
          "base_uri": "https://localhost:8080/"
        }
      },
      "execution_count": null,
      "outputs": [
        {
          "output_type": "stream",
          "name": "stdout",
          "text": [
            "[3, 6, 9]\n"
          ]
        }
      ]
    },
    {
      "cell_type": "markdown",
      "source": [
        "**Reduce**"
      ],
      "metadata": {
        "id": "6PFNTPFTk0rP"
      }
    },
    {
      "cell_type": "code",
      "source": [
        "# Importando a funçao reduce\n",
        "from functools import reduce\n",
        "\n",
        "# Fazendo um acumulado de 0 ao 100\n",
        "\n",
        "lst_auxiliar = list( range(1,101) )\n",
        "\n",
        "lst_reduzida = reduce( lambda x, y: x+y, lst_auxiliar )     # x é o valor atual no qual será somado y a cada iteração\n",
        "\n",
        "print( lst_reduzida ) \n",
        "\n",
        "# Obs: neste exemplo realizamos a soma de Gauss"
      ],
      "metadata": {
        "id": "BHX0SEETltQp",
        "outputId": "3cf82d81-c834-4a43-9ff8-85e1a543dea6",
        "colab": {
          "base_uri": "https://localhost:8080/"
        }
      },
      "execution_count": null,
      "outputs": [
        {
          "output_type": "stream",
          "name": "stdout",
          "text": [
            "5050\n"
          ]
        }
      ]
    },
    {
      "cell_type": "markdown",
      "source": [
        "___\n",
        "\n",
        "**Exercícios funcionais**\n",
        "\n",
        "___"
      ],
      "metadata": {
        "id": "WLMS487Gm4mI"
      }
    },
    {
      "cell_type": "markdown",
      "source": [
        "1) Dada uma lista [1,2,3,4,5,6,7,8,9,10], utilize a funcional filter para retornar os números cujo dobro sejam menores que 12.<br>\n",
        "Exemplo:<br>\n",
        "Dado o número 1, seu dobro é 2, logo menor que 12 ✅ <Br>\n",
        "Dado o número 6, seu dobro é 6, logo não é menor que 12 ❌"
      ],
      "metadata": {
        "id": "xc6F6au9nFDJ"
      }
    },
    {
      "cell_type": "code",
      "source": [
        "lst_auxiliar = list( range(1,11) )\n",
        "\n",
        "# Resolva\n"
      ],
      "metadata": {
        "colab": {
          "base_uri": "https://localhost:8080/"
        },
        "id": "HPr2sZaloAMP",
        "outputId": "39797c52-c7c2-4759-c858-40a12ff67483"
      },
      "execution_count": null,
      "outputs": [
        {
          "output_type": "execute_result",
          "data": {
            "text/plain": [
              "[1, 2, 3, 4, 5]"
            ]
          },
          "metadata": {},
          "execution_count": 10
        }
      ]
    },
    {
      "cell_type": "markdown",
      "source": [
        "2) Aplique a função para retirar os espaços laterais de todos os elementos da lista.<br>\n",
        "**Dica**: Utilize a função strip() juntamente da funcional map() e lambda()"
      ],
      "metadata": {
        "id": "kxGzgMmsopAB"
      }
    },
    {
      "cell_type": "code",
      "source": [
        "lst_auxiliar = ['   Matheus Carvalo', 'Janaina Oliveira  ', 'Paulo Cesar', '  Geraldo Osvaldo ']\n",
        "\n",
        "# Resolva\n"
      ],
      "metadata": {
        "colab": {
          "base_uri": "https://localhost:8080/"
        },
        "id": "L_UbptZ-pCfC",
        "outputId": "df3f70ad-7803-4403-e7f3-3539d20f8929"
      },
      "execution_count": null,
      "outputs": [
        {
          "output_type": "execute_result",
          "data": {
            "text/plain": [
              "['Matheus Carvalo', 'Janaina Oliveira', 'Paulo Cesar', 'Geraldo Osvaldo']"
            ]
          },
          "metadata": {},
          "execution_count": 13
        }
      ]
    },
    {
      "cell_type": "markdown",
      "source": [
        "3) Some os números múltiplos de 3 começando em 1 e terminando em 100, [1,2....100].\n",
        "\n",
        "Ex.<br>\n",
        "Entrada: 1,2,3,4,5,6,7,8,9 <br>\n",
        "Saída: 18   --> 3 + 6 + 9  <br>"
      ],
      "metadata": {
        "id": "pMNP7MkDub0k"
      }
    },
    {
      "cell_type": "code",
      "source": [
        "# Resolva\n"
      ],
      "metadata": {
        "colab": {
          "base_uri": "https://localhost:8080/"
        },
        "id": "KTQVX4v-uv5v",
        "outputId": "4e265c2b-e101-476c-8be0-3131d670071b"
      },
      "execution_count": null,
      "outputs": [
        {
          "output_type": "execute_result",
          "data": {
            "text/plain": [
              "1683"
            ]
          },
          "metadata": {},
          "execution_count": 21
        }
      ]
    },
    {
      "cell_type": "markdown",
      "source": [
        "4) Um certo clã do jogo World of Warcraft separava seus líderes colocando a nomenclatura LD ao final do nome.<br>\n",
        "Por exemplo, xXGeraldoXxLD significa que Geraldo é um lider.<br>\n",
        "Seguindo a lógica, OsvaldoHunter significa que o membro não é um líder.<br>\n",
        "Acontece que para o ano de 2022, o clã resolveu atualizar a nomenclatura de líder para futuramente incluir mais cargos, trocando a nomenclatura de 'LD' para 'LDG'.\n",
        "\n",
        "**Ajude a guilda** acrescentando a letra \"G\" ao final do nome dos atuais líderes e separando-os em uma nova lista\n",
        "\n",
        "Obs: **todo o código deve estar em uma linha**\n",
        "\n",
        "**Ex**: <br>\n",
        "Membros: GeraldoLD, Leandro, JanainaxxD, CaioLD <br>\n",
        "Lista resultado: GeraldoLDG, CaioLDG <Br>\n",
        "\n",
        "<img src=\"https://www.joyscribe.com/wp-content/uploads/2018/01/GAA.jpg\" width=50%>"
      ],
      "metadata": {
        "id": "IO5R9AG0pk8s"
      }
    },
    {
      "cell_type": "code",
      "source": [
        "membros = ['xXGeraldoXxLD', 'OsvaldoHunter', 'RichardGaviao', 'SilenceLD', 'Apocalyptico', 'LeeroyLD', 'Wakanda']\n",
        "\n",
        "# Resolva em UMA linha\n",
        "lista_atualizada = list( map( lambda x: x + 'G', filter( lambda y: y[-2:] == 'LD', membros ) ) )\n",
        "\n",
        "print( lista_atualizada )"
      ],
      "metadata": {
        "colab": {
          "base_uri": "https://localhost:8080/"
        },
        "id": "z47_S-QCrIow",
        "outputId": "7ccbcba1-e2ed-40e4-8ac0-ce14ad9ed735"
      },
      "execution_count": null,
      "outputs": [
        {
          "output_type": "stream",
          "name": "stdout",
          "text": [
            "['xXGeraldoXxLDG', 'SilenceLDG', 'LeeroyLDG']\n"
          ]
        }
      ]
    },
    {
      "cell_type": "markdown",
      "source": [
        "## Trabalhando com arquivos"
      ],
      "metadata": {
        "id": "wO2Y9MhJu3OW"
      }
    },
    {
      "cell_type": "markdown",
      "source": [
        "Criando um arquivo mágico para efeitos didáticos no Google Colab\n"
      ],
      "metadata": {
        "id": "8k36S_1NyrjI"
      }
    },
    {
      "cell_type": "code",
      "source": [
        "%%writefile nome.txt\n",
        "Tudo que eu escrever\n",
        "nesta célula irá \n",
        "para o meu arquivo"
      ],
      "metadata": {
        "id": "ib32w3sky2Pt"
      },
      "execution_count": null,
      "outputs": []
    },
    {
      "cell_type": "markdown",
      "source": [
        "**Abertura** <Br>\n",
        "Ao tratarmos da abertura do arquivo, deveremos passar o parâmetro de permissão de abertura, sendo eles:\n",
        "- r: read (leitura)\n",
        "- w: write (escrita)\n",
        "- r+: leitura e escrita\n",
        "- a: faz um append à um arquivo existente"
      ],
      "metadata": {
        "id": "YaXBAhTxzVhQ"
      }
    },
    {
      "cell_type": "code",
      "source": [
        "# Lendo o arquivo criado com open()\n",
        "\n",
        "f = open('nome_do_arquivo', 'tipo_de_acesso')\n",
        "\n",
        "lines = f.readlines()\n",
        "print(lines)"
      ],
      "metadata": {
        "id": "zoGhWw1E0A8X"
      },
      "execution_count": null,
      "outputs": []
    },
    {
      "cell_type": "markdown",
      "source": [
        "Outros comandos úteis além do readlines()\n",
        "- readline(): lê uma linha específica\n",
        "- read(): Lê N bytes do arquivo"
      ],
      "metadata": {
        "id": "j70Lybjv02JL"
      }
    },
    {
      "cell_type": "code",
      "source": [
        "# Utilizando a forma mais comum de leitura em Python com o comando \"with\"\n",
        "\n",
        "with open('nome_do_arquivo', 'tipo_de_acesso') as apelido:\n",
        "  apelido.readlines()"
      ],
      "metadata": {
        "id": "PhmoF1Nv1HMM"
      },
      "execution_count": null,
      "outputs": []
    },
    {
      "cell_type": "markdown",
      "source": [
        "**Escrita**"
      ],
      "metadata": {
        "id": "Cpdilp5_1uiO"
      }
    },
    {
      "cell_type": "code",
      "source": [
        "# Escrevendo a lista em um novo arquivo (repare no diretório após rodar o código)\n",
        "\n",
        "lst_palavras = ['a', 'abacate', 'limao']\n",
        "\n",
        "with open('NovoArquivo.txt', 'w') as f:\n",
        "  f.writelines(lst_palavras)"
      ],
      "metadata": {
        "id": "8XTnSlwt15Up"
      },
      "execution_count": null,
      "outputs": []
    },
    {
      "cell_type": "code",
      "source": [
        "# Escrevendo no arquivo anterior utilizando o f.write('mensagem') e parâmetro 'a'\n"
      ],
      "metadata": {
        "id": "c_Gf9rYl1wQy"
      },
      "execution_count": null,
      "outputs": []
    },
    {
      "cell_type": "markdown",
      "source": [
        "## Classes e objetos"
      ],
      "metadata": {
        "id": "TTFV7EaGu7Yl"
      }
    },
    {
      "cell_type": "markdown",
      "source": [
        "Um objeto conterá informações salvas nos **atributos** e poderá ser manifestado através de **funções**\n",
        "\n",
        "Resumo de classe:\n",
        "- é uma representação do mundo real, ou seja, um protótipo\n",
        "- uma boa prática é declará-la com a primeira letra em maiúsculo seguindo o estilo CamelCase\n",
        "- criada através do comando `class`\n",
        "- pode **herdar** características de uma outra superclasse\n",
        "\n",
        "Declarando uma classe:\n",
        "```python\n",
        "class Aluno():\n",
        "  # atributos\n",
        "  # construtores\n",
        "  # métodos\n",
        "```\n",
        "Onde:<br>\n",
        "Atributos:\n",
        "- Representa as características da classe\n",
        "- Caso seja um atributo de classe, funciona como uma variável no escopo de outras instâncias da classe\n",
        "- Caso seja um atributo de uma instância, funciona como uma variável local para a instância que o criou\n",
        "\n",
        "Métodos:\n",
        "- Representa o comportamento de uma classe\n",
        "\n",
        "Construtor da classe:\n",
        "- Utiliza-se o método `__init__`<br>\n",
        "Ex. <br>\n",
        "```python\n",
        "class Aluno:\n",
        "    def __init__(self, nome, sexo, idade, curso):  #self é obrigatório para se distinguir um método de classe\n",
        "        self.nome = nome\n",
        "        self.sexo = sexo\n",
        "        self.idade = idade\n",
        "        self.curso = curso\n",
        "```\n",
        "\n"
      ],
      "metadata": {
        "id": "cdbtaeV6nkvV"
      }
    },
    {
      "cell_type": "code",
      "source": [
        "# Criando a class Aluno na prática\n",
        "\n",
        "class Aluno:\n",
        "  def __init__(self, nome, sexo, idade, curso):\n",
        "      self.nome = nome\n",
        "      self.sexo = sexo\n",
        "      self.idade = idade\n",
        "      self.curso = curso\n",
        "  \n",
        "  def altera_idade(self, idade):\n",
        "    self.idade = idade\n",
        "    print('Idade alterada!')\n",
        "\n",
        "  def __str__(self):\n",
        "    return('Nome: '+str(self.nome)+'\\n'\n",
        "           'Sexo: '+str(self.sexo)+'\\n'\n",
        "           'Idade: '+str(self.idade)+'\\n'\n",
        "           'Curso: '+str(self.curso))\n",
        "\n",
        "if __name__ == \"__main__\":                          # verifica se o programa está sendo executado por si só, ref. extra: https://www.alura.com.br/artigos/o-que-significa-if-name-main-no-python\n",
        "    aluno1 = Aluno(\"Geraldo\", \"Masculino\", \"31\", \"Computação\")\n",
        "    #aluno1.altera_idade(32)\n",
        "\n",
        "print(aluno1)"
      ],
      "metadata": {
        "id": "-jSVe5ivnnRq"
      },
      "execution_count": null,
      "outputs": []
    },
    {
      "cell_type": "markdown",
      "source": [
        "Lembrando que esta foi uma abordagem rápida sobre orientação a objetos por não ser o escopo da semana de seminários. <br>\n",
        "Recomendo a leitura sobre escopos Public, Private e Protected para melhorar a segurança do código.\n",
        "\n",
        "leitura extra: https://www.treinaweb.com.br/blog/orientacao-a-objetos-em-python"
      ],
      "metadata": {
        "id": "z9Yi_IHknodS"
      }
    },
    {
      "cell_type": "markdown",
      "source": [
        "# AULA 03"
      ],
      "metadata": {
        "id": "G8-oINOzp3py"
      }
    },
    {
      "cell_type": "markdown",
      "source": [
        "**Numpy**"
      ],
      "metadata": {
        "id": "INKYBYPFqFNO"
      }
    },
    {
      "cell_type": "markdown",
      "source": [
        "Numpy é um importante pacote da linguagem Python para operações matriciais onde as classes são escritas em sua maior em **LINGUAGEM C**, garantindo um processamento mais rápido. ✅\n",
        "\n",
        "Site de consulta numpy: https://numpy.org/"
      ],
      "metadata": {
        "id": "CEwjLW6DqG75"
      }
    },
    {
      "cell_type": "code",
      "source": [
        "# Realizando a importação do pacote numpy\n"
      ],
      "metadata": {
        "id": "AJD9uU7Xqjdp"
      },
      "execution_count": null,
      "outputs": []
    },
    {
      "cell_type": "markdown",
      "source": [
        "Um dos motivos de sua eficiência é que sua estrutura de dados se baseia em **arrays**.\n",
        "\n",
        "O que são arrays?\n",
        "- Semelhante a sequência de lista, porém de tipo único (apenas int ou float para todos os elementos)\n",
        "- Cada dimensão é chamada de eixo\n",
        "  - Um array com 1 linha e 2 colunas possui as dimensões linha e coluna.\n",
        "  - Um array multidimensional poderia apresentar um eixo Z (...)"
      ],
      "metadata": {
        "id": "3-2U0WSnq6oT"
      }
    },
    {
      "cell_type": "code",
      "source": [
        "# Criando arrays através dos métodos numpy\n",
        "\n",
        "# Método 1: np.zeros((quantidade))\n",
        "array1 = \n",
        "print(array1)\n",
        "\n",
        "# Método 2: np.ones((quantidade))\n",
        "\n",
        "\n",
        "\n",
        "# Método 3: np.linspace(inicio, fim, intervalo)\n",
        "\n",
        "\n",
        "\n",
        "# Método 4: np.arange(quantidade)\n",
        "\n",
        "\n"
      ],
      "metadata": {
        "id": "p7sveCxWr12h"
      },
      "execution_count": null,
      "outputs": []
    },
    {
      "cell_type": "code",
      "source": [
        "# Convertendo uma lista para um numpy array com o np.array(lista)\n",
        "\n",
        "lst_auxiliar = [1,2,3,4,5]\n",
        "\n",
        "lst_numpy = \n"
      ],
      "metadata": {
        "id": "spPQ5D7lsvGl"
      },
      "execution_count": null,
      "outputs": []
    },
    {
      "cell_type": "code",
      "source": [
        "# Arrays bidimensionais (mais usado)\n",
        "\n",
        "arr_zeros = np.zeros((5,4))\n",
        "arr_zeros"
      ],
      "metadata": {
        "id": "c_y0l2IhtFKE"
      },
      "execution_count": null,
      "outputs": []
    },
    {
      "cell_type": "code",
      "source": [
        "# Criando um array bidimensional utilizando o np.arange().reshape(())\n",
        "\n",
        "arr_aux = \n",
        "arr_aux"
      ],
      "metadata": {
        "id": "1xp8PQ6ftddf"
      },
      "execution_count": null,
      "outputs": []
    },
    {
      "cell_type": "markdown",
      "source": [
        "Podemos utilizar alguns métodos para realizar consultas no array, como os que se encontram em: https://numpy.org/doc/stable/reference/generated/numpy.ndarray.html"
      ],
      "metadata": {
        "id": "7vU_2d05uMw3"
      }
    },
    {
      "cell_type": "code",
      "source": [
        "# Ex. procurando quantas dimensões tem o array com nome_array.ndim\n",
        "\n",
        "arr_zeros = np.zeros((5,4))"
      ],
      "metadata": {
        "id": "_fFkOmint4ow"
      },
      "execution_count": null,
      "outputs": []
    },
    {
      "cell_type": "code",
      "source": [
        "# Procurando o parâmetro .shape() no site do numpy\n"
      ],
      "metadata": {
        "id": "E-9GBN8MuyKq",
        "outputId": "8c395c0e-9a2f-4569-e604-7f264b2552ef",
        "colab": {
          "base_uri": "https://localhost:8080/"
        }
      },
      "execution_count": null,
      "outputs": [
        {
          "output_type": "execute_result",
          "data": {
            "text/plain": [
              "(5, 4)"
            ]
          },
          "metadata": {},
          "execution_count": 8
        }
      ]
    },
    {
      "cell_type": "code",
      "source": [
        "# Acessando elementos de um array\n",
        "\n",
        "array_aux = np.arange(20).reshape(5,4)\n",
        "\n",
        "# Acessando a primeira linha pelo índice array[0]\n",
        "\n",
        "\n",
        "# Acessando o elemento dalinha 4 e coluna 3 com array[4,3]\n",
        "\n"
      ],
      "metadata": {
        "id": "iE4kMJESvJKr"
      },
      "execution_count": null,
      "outputs": []
    }
  ]
}