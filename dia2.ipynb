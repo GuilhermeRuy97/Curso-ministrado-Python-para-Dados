{
  "nbformat": 4,
  "nbformat_minor": 0,
  "metadata": {
    "colab": {
      "provenance": [],
      "collapsed_sections": [
        "lgsNrlPbu8Pm",
        "RvpxIi6pd3sP",
        "KmDUHQvnd5D1",
        "heRCT7jfd-NR",
        "vqE8dx-Kt4T9",
        "DFGqTi-B6Qpd",
        "cwQa5jHTKbi6",
        "7smri6U7ccAd",
        "iTbp-wDAtxeN",
        "hKaOtMX2Ixtj",
        "IybNIB0t3woS",
        "wO2Y9MhJu3OW",
        "TTFV7EaGu7Yl",
        "G8-oINOzp3py",
        "GsG4G33YCKBK"
      ],
      "include_colab_link": true
    },
    "kernelspec": {
      "name": "python3",
      "display_name": "Python 3"
    },
    "language_info": {
      "name": "python"
    }
  },
  "cells": [
    {
      "cell_type": "markdown",
      "metadata": {
        "id": "view-in-github",
        "colab_type": "text"
      },
      "source": [
        "<a href=\"https://colab.research.google.com/github/GuilhermeRuy97/Curso-ministrado-Python-para-Dados/blob/main/dia2.ipynb\" target=\"_parent\"><img src=\"https://colab.research.google.com/assets/colab-badge.svg\" alt=\"Open In Colab\"/></a>"
      ]
    },
    {
      "cell_type": "markdown",
      "source": [
        "---\n",
        "# Python para Ciência de Dados\n",
        "\n",
        "_Guilherme Sasso Ruy_\n",
        "\n",
        "_Endereço para consulta dos arquivos:_ <br>\n",
        "https://github.com/GuilhermeRuy97/Curso-ministrado-Python-para-Dados\n",
        "\n",
        "---"
      ],
      "metadata": {
        "id": "s9puR4fMjv8G"
      }
    },
    {
      "cell_type": "markdown",
      "source": [
        "# Conteúdo abordado:"
      ],
      "metadata": {
        "id": "lgsNrlPbu8Pm"
      }
    },
    {
      "cell_type": "markdown",
      "source": [
        "## Parte 1"
      ],
      "metadata": {
        "id": "RvpxIi6pd3sP"
      }
    },
    {
      "cell_type": "markdown",
      "source": [
        "**Conteúdo**:\n",
        "- <font color='yellow'> **Hello World** </font> ( _obrigatório_ ☑)\n",
        "- **Um pouco de teoria sobre Pyhon**\n",
        "  - \"Por que estudar programação?\"\n",
        "  - O que é (conceitos e motivo de se popularizar)\n",
        "- **Dicas para utilizar o Google Colab**\n",
        "  - O que é um arquivo 'python notebook'\n",
        "- **Tipos de variáveis e atribuições**\n",
        "  - Operações matemáticas e lógicas com variáveis\n",
        "- **Tipos de dados**\n",
        "    - Básicos\n",
        "    - Listas, tuplas e strings\n",
        "    - Dicionários\n",
        "- **Slicing**\n",
        "- **Estruturas de controle**\n",
        "    - Comando **if**\n",
        "    - Estruturas de repetição (como \"for\" e \"while\" em linguagem C)\n",
        "- **Como funcionam as referências**\n",
        "- **Operações em sequências**\n",
        "  - +, *, in, append, insert etc\n",
        "  - Comprehensions e sua eficiência\n",
        "- **Funções**\n",
        "  - Parâmetros\n",
        "  - Função \"lambda\"\n",
        "- **Imports**\n",
        "  - Bibliotecas e módulos\n",
        "- **Programação Funcional**\n",
        "  - map\n",
        "  - filter\n",
        "  - reduce\n",
        "  - functools\n",
        "- **Arquivos em python**\n",
        "  - leitura\n",
        "  - escrita\n",
        "  - append\n",
        "- **Abordagem rápida de classes e objetos**\n",
        "  - Classes\n",
        "  - Objetos\n",
        "  - Atributos\n",
        "  - Heranças\n"
      ],
      "metadata": {
        "id": "xyaMMk-jjzEP"
      }
    },
    {
      "cell_type": "markdown",
      "source": [
        "![tempo](data:image/jpeg;base64,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)"
      ],
      "metadata": {
        "id": "zMpW7zbEj1sw"
      }
    },
    {
      "cell_type": "markdown",
      "source": [
        "## Parte 2"
      ],
      "metadata": {
        "id": "KmDUHQvnd5D1"
      }
    },
    {
      "cell_type": "markdown",
      "source": [
        "**Conteúdo**:\n",
        "- <font color='orange'> **Numpy** </font>\n",
        "- **Visão geral**\n",
        "  - Quais as vantagens do Numpy\n",
        "- **Arrays**\n",
        "  - Dimensões (flatten, ravel, reshape)\n",
        "- **Máscaras Booleanas**\n",
        "  - Aplicando a lógica em arrays\n",
        "- **Cópias e visualizações**\n",
        "  - Cópias\n",
        "  - Views\n",
        "  - Cópias e visualizações\n",
        "- **Broadcasting**\n",
        "  - Abstraindo o conceito\n",
        "- **Reduções**\n",
        "  - Sum, max, min, argmax, argmin\n",
        "  - Mean, median, std\n",
        "  - Lógicas (all, any)\n",
        "- **Ordenação**\n",
        "  - sort\n",
        "  - argsort\n",
        "  - argmax e argmin\n",
        "- **Básico de aritmética vetorial e matricial**\n",
        "<br><br>\n",
        "- <font color='Orange'> **Matplotlib** </font>\n",
        "- **Visão Geral**\n",
        "- **Plots**\n",
        "- **Subplots**\n",
        "- **Informações textuais**\n",
        "  - texto\n",
        "  - legendas\n",
        "- **Derivados**\n",
        "  - Utilizando o matplotlib com a biblioteca Seaborn (sns)\n",
        "  - Uso do pairplot() e dica de estudo heatmap()\n",
        "- <font color='Orange'> **Extras** </font>\n",
        "  - Deixando o notebook organizado e legível com Markdown e HTML\n",
        "  - Como ser autônomo em um projeto pesquisando na documentação das bibliotecas (+ stackoverflow)\n",
        "  - Aplicando a prática com o teste de proeficiência Linkedin"
      ],
      "metadata": {
        "id": "aqvhhW7GeDgu"
      }
    },
    {
      "cell_type": "markdown",
      "source": [
        "<img src=\"https://i1.wp.com/gestaodesegurancaprivada.com.br/wp-content/uploads/definicao-de-grafico.jpg?fit=750%2C405&ssl=1\" width=50%>\n",
        "\n",
        "*fonte: https://gestaodesegurancaprivada.com.br/grafico-o-que-e-objetivo-caracteristica-e-tipos/*"
      ],
      "metadata": {
        "id": "GtjWwOLFhVyD"
      }
    },
    {
      "cell_type": "markdown",
      "source": [
        "## Parte 3"
      ],
      "metadata": {
        "id": "heRCT7jfd-NR"
      }
    },
    {
      "cell_type": "markdown",
      "source": [
        "**Conteúdo**:\n",
        "- <font color='Orange'> **Pandas** </font>\n",
        "- **Visão geral**\n",
        "- **Séries**\n",
        "  - Criação\n",
        "  - Acesso (índice, slicing, máscara booleana)\n",
        "  - Reindexação\n",
        "  - NaN's\n",
        "  - Aritmética\n",
        "  - Ordenação\n",
        "  - Valores únicos, número de ocorrências e presença de valor\n",
        "- **Dataframes**\n",
        "  - Criação\n",
        "  - Manipulação e acesso de colunas\n",
        "  - Consultas Booleanas\n",
        "  - Manipulando e acessando linhas e colunas\n",
        "  - 'loc' e 'iloc'\n",
        "  - values\n",
        "  - E operações semelhantes às series\n",
        "- **Load de arquivos**\n",
        "  - Como ler arquivos de diferentes tipos e escritas\n",
        "- **Dados faltantes**\n",
        "  - isnull, dropna\n",
        "  - fill\n",
        "- **Dados redundantes**\n",
        "  - Dados duplicados e como encontrá=los\n",
        "- **Funções manipuladoras**\n",
        "  - map\n",
        "  - replace\n",
        "  - rename\n",
        "- **Estatísticas básicas**\n",
        "- <font color='#4CF06E'> **Groupby** </font>\n",
        "  - A importância no dia a dia\n",
        "  - Agregação\n",
        "  - Filtragem ('filter')\n",
        "  - Cópias alteradas ('transform')\n",
        "\n",
        "- <font color='Orange'> **Projeto final** </font>\n",
        "  - Desafiando-se com um projeto que busca responder perguntas do mundo real utilizando os dados que temos em mãos\n",
        "  - Projeto de exploração do notebook Titanic pelo Kaggle  "
      ],
      "metadata": {
        "id": "lPV40Ll3eJ9b"
      }
    },
    {
      "cell_type": "markdown",
      "source": [
        "<img src=\"https://d5y9g7a5.rocketcdn.me/wp-content/uploads/2021/08/historia-do-titanic-origem-naufragio-sobreviventes-e-fatos-sobre-o-navio-2-960x576.jpg\" width=50%>\n",
        "\n",
        "*fonte: https://segredosdomundo.r7.com/historia-do-titanic/*"
      ],
      "metadata": {
        "id": "l8WwrAC5ghOo"
      }
    },
    {
      "cell_type": "markdown",
      "source": [
        "## Materiais extras"
      ],
      "metadata": {
        "id": "vqE8dx-Kt4T9"
      }
    },
    {
      "cell_type": "markdown",
      "source": [
        "*Tutorial de instalação do Python para quem for programar em Python utilizando outros ambientes fora Google Colab:* <br>\n",
        "https://www.youtube.com/watch?v=VuKvR1J2LQE"
      ],
      "metadata": {
        "id": "9t2FNSMTs73Q"
      }
    },
    {
      "cell_type": "markdown",
      "source": [
        "Fonte de pesquisa e consulta Python: www.python.org"
      ],
      "metadata": {
        "id": "dUuBA8XMuMh0"
      }
    },
    {
      "cell_type": "code",
      "source": [
        "# Vídeo \"Por que todos deveriam aprender a programar? LEGENDADO\"\n",
        "# Pressione as teclas shift e enter para executar esse código e assista o vídeo.\n",
        "from IPython.display import IFrame\n",
        "IFrame(src=\"https://www.youtube.com/watch?v=mHW1Hsqlp6A&t=11s\", width = \"560\", height = \"315\")\n",
        "\n",
        "# Ou entre pelo link: https://www.youtube.com/watch?v=mHW1Hsqlp6A&t=11s"
      ],
      "metadata": {
        "colab": {
          "base_uri": "https://localhost:8080/"
        },
        "id": "D5CAGMzquSth",
        "outputId": "972973ce-675b-4c75-fbaa-bae416c4a0a7"
      },
      "execution_count": null,
      "outputs": [
        {
          "output_type": "execute_result",
          "data": {
            "text/plain": [
              "<IPython.lib.display.IFrame at 0x7f32e8d1f550>"
            ],
            "text/html": [
              "\n",
              "        <iframe\n",
              "            width=\"560\"\n",
              "            height=\"315\"\n",
              "            src=\"https://www.youtube.com/watch?v=mHW1Hsqlp6A&t=11s\"\n",
              "            frameborder=\"0\"\n",
              "            allowfullscreen\n",
              "        ></iframe>\n",
              "        "
            ]
          },
          "metadata": {},
          "execution_count": 33
        }
      ]
    },
    {
      "cell_type": "markdown",
      "source": [
        "Cola para Google Colab: https://colab.research.google.com/github/Tanu-N-Prabhu/Python/blob/master/Cheat_sheet_for_Google_Colab.ipynb"
      ],
      "metadata": {
        "id": "u7qRMe5szmV2"
      }
    },
    {
      "cell_type": "markdown",
      "source": [
        "# PARTE 01"
      ],
      "metadata": {
        "id": "_6fAqjsm3vAs"
      }
    },
    {
      "cell_type": "markdown",
      "source": [
        "O que é Python?\n",
        "\n",
        "- Python é uma linguagem **dinâmica** e interpretada.\n",
        "\n",
        "Python também é:\n",
        "- **Imperativo**: \"algo diz o como fazer\", o que quer dizer que ele segue uma sequência de passos\n",
        "- **Orientada a objetos**: permite utilizar classes e objetos\n",
        "- **Procedural**: permite o uso de funções\n",
        "- **Funcional**: \"um código escrito sob um paradigma funcional é composto de múltiplas funções, que trabalham de forma unificada para a resolução de um problema\""
      ],
      "metadata": {
        "id": "5R8gpS0DisqL"
      }
    },
    {
      "cell_type": "code",
      "source": [
        "# Começando a aula com o Hello World!\n",
        "\n",
        "print('Hello World!')\n",
        "\n",
        "print(\"Hello 'World!'\")\n",
        "print('Hello \"World!\"')"
      ],
      "metadata": {
        "id": "C8ecMZoP3z1D",
        "colab": {
          "base_uri": "https://localhost:8080/"
        },
        "outputId": "2c313833-207c-4806-faaa-fe6984bf971b"
      },
      "execution_count": null,
      "outputs": [
        {
          "output_type": "stream",
          "name": "stdout",
          "text": [
            "Hello World!\n",
            "Hello 'World!'\n",
            "Hello \"World!\"\n"
          ]
        }
      ]
    },
    {
      "cell_type": "markdown",
      "source": [
        "## Tipos de variáveis e atribuições"
      ],
      "metadata": {
        "id": "DFGqTi-B6Qpd"
      }
    },
    {
      "cell_type": "markdown",
      "source": [
        "* Uma variável é uma **referência** para um endereço de memória (ponteiros em linguagem C). Sendo assim, reforce a atenção ao modificar esse endereço de memória com métodos como `append()` etc (*visto ao longo do curso*).\n",
        "* Por ser uma linguagem dinâmica, não é necessário atribuir no código o tipo da variável (`int`, `float`, `str` etc). O Python atribuirá automaticamente."
      ],
      "metadata": {
        "id": "yDCgPZWw6UdA"
      }
    },
    {
      "cell_type": "code",
      "source": [
        "# Inicializando as variáveis do tipo int, float, string e booleana\n",
        "a = 1\n",
        "b = 2.4\n",
        "c = 'Joao'\n",
        "d = False\n",
        "\n",
        "# Procurando o tipo do dado com a função type() e imprimindo os valores com a função print()\n",
        "print( type(a) )\n",
        "print( type(b) )\n",
        "print( type(c) )\n",
        "print( type(d) )"
      ],
      "metadata": {
        "id": "jIN8AdQH878G",
        "colab": {
          "base_uri": "https://localhost:8080/"
        },
        "outputId": "7d03f1c3-3317-4127-da86-8f0af09a4d99"
      },
      "execution_count": null,
      "outputs": [
        {
          "output_type": "stream",
          "name": "stdout",
          "text": [
            "<class 'int'>\n",
            "<class 'float'>\n",
            "<class 'str'>\n",
            "<class 'bool'>\n"
          ]
        }
      ]
    },
    {
      "cell_type": "markdown",
      "source": [
        "*Escrevendo* **aqui**"
      ],
      "metadata": {
        "id": "ZUhpTTS_Jng3"
      }
    },
    {
      "cell_type": "code",
      "source": [
        "# Print com fstring\n",
        "\n",
        "nome = 'Paulo'\n",
        "idade = 25\n",
        "\n",
        "print(f'Meu nome é {nome} e minha idade é {idade}')"
      ],
      "metadata": {
        "id": "RiVsxd2j-nZu",
        "colab": {
          "base_uri": "https://localhost:8080/"
        },
        "outputId": "361e18fe-3cec-4a99-ef22-b20756c033a8"
      },
      "execution_count": null,
      "outputs": [
        {
          "output_type": "stream",
          "name": "stdout",
          "text": [
            "Meu nome é Paulo e minha idade é 25\n"
          ]
        }
      ]
    },
    {
      "cell_type": "code",
      "source": [
        "# Extra: é possível declarar mais de uma variável de uma vez\n",
        "\n",
        "a, b, c = 2, 5, 'Joao'\n",
        "\n",
        "print(a)\n",
        "print(b)\n",
        "print(c)"
      ],
      "metadata": {
        "id": "DW8Z37VPZ-Zs",
        "outputId": "23424dea-6a42-4e07-aef9-5b1cf10ac5c4",
        "colab": {
          "base_uri": "https://localhost:8080/"
        }
      },
      "execution_count": null,
      "outputs": [
        {
          "output_type": "stream",
          "name": "stdout",
          "text": [
            "2\n",
            "5\n",
            "Joao\n"
          ]
        }
      ]
    },
    {
      "cell_type": "markdown",
      "source": [
        "Algumas operações matemáticas são possíveis com os tipos int e float\n",
        " - Obs: toda divisão resulta em float"
      ],
      "metadata": {
        "id": "Sp6nBXWD9yk9"
      }
    },
    {
      "cell_type": "markdown",
      "source": [
        "5 mod 2\n",
        "\n",
        "2 vai caber 2 vezes dentro do 5\n",
        "\n",
        "E em %\n",
        "\n",
        "5 % 2 == 1"
      ],
      "metadata": {
        "id": "vgAEk4K5LzQT"
      }
    },
    {
      "cell_type": "code",
      "source": [
        "a = 4\n",
        "b = 2\n",
        "c = 1\n",
        "d = 1.2\n",
        "\n",
        "# Soma -> +\n",
        "soma = a + b\n",
        "print(f'Resultado da soma: {soma}')\n",
        "\n",
        "# Subtração -> -\n",
        "subtracao = a - b\n",
        "print(\"Resultado do tipo da subtração: \",subtracao)\n",
        "\n",
        "# Multiplicação -> *\n",
        "multiplicacao = a * b\n",
        "print(\"Resultado do tipo da multiplicação: \",multiplicacao)\n",
        "\n",
        "# Divisão -> /\n",
        "divisao = a / b\n",
        "print(\"Resultado do tipo da divisão: \",divisao)\n",
        "\n",
        "# Exponenciação -> **\n",
        "exponencial = a ** b\n",
        "print(\"Resultado do tipo da exponencial: \",exponencial)\n",
        "\n",
        "# Divisão inteira (mod) -> //\n",
        "a_inteira = a // b\n",
        "print(f'A divisão inteira é: {a_inteira}')\n",
        "\n",
        "# Resto da divisão -> %\n",
        "b_resto = a % b\n",
        "print(f'O resto da divisão é: {b_resto}')\n",
        "\n",
        "# Operações Booleanas -> >,<,=>,<=,!=\n",
        "print(1 == 1)\n",
        "print(1 == 1.1)\n",
        "print(1 != 1.1)\n",
        "print(2 > 1)"
      ],
      "metadata": {
        "colab": {
          "base_uri": "https://localhost:8080/"
        },
        "id": "J9adaptW9-j-",
        "outputId": "58dda8fd-acf7-4b86-926a-4fc466421a5a"
      },
      "execution_count": null,
      "outputs": [
        {
          "output_type": "stream",
          "name": "stdout",
          "text": [
            "Resultado da soma: 6\n",
            "Resultado do tipo da subtração:  2\n",
            "Resultado do tipo da multiplicação:  8\n",
            "Resultado do tipo da divisão:  2.0\n",
            "Resultado do tipo da exponencial:  16\n",
            "A divisão inteira é: 2\n",
            "O resto da divisão é: 0\n",
            "True\n",
            "False\n",
            "True\n",
            "True\n"
          ]
        }
      ]
    },
    {
      "cell_type": "code",
      "source": [
        "# Alterando um tipo de dado \"string\" para \"int\"\n",
        "a = '10'\n",
        "print(f'Valor de \"a\" antes da transformação: {a}, tipo do dado \"a\": {type(a)}')\n",
        "\n",
        "# Transformando\n",
        "a = int( a )\n",
        "print(f'Novo dado \"a\": {a}, tipo do dado \"a\": {type(a)}')\n",
        "\n",
        "print('-'*80)\n",
        "\n",
        "# Alterando um tipo \"float\" para \"int\"\n",
        "b = 2.5\n",
        "print(f'Valor de \"b\" antes da transformação: {b}, tipo do dado \"b\": {type(b)}')\n",
        "\n",
        "# Transformando\n",
        "b = int( b )\n",
        "print(f'Novo dado \"b\": {b}, tipo do dado \"b\": {type(b)}')"
      ],
      "metadata": {
        "colab": {
          "base_uri": "https://localhost:8080/"
        },
        "id": "gRbyAKcQRv3X",
        "outputId": "a12332d0-a4eb-4978-d9f7-4ae198fd44b3"
      },
      "execution_count": null,
      "outputs": [
        {
          "output_type": "stream",
          "name": "stdout",
          "text": [
            "Valor de \"a\" antes da transformação: 10, tipo do dado \"a\": <class 'str'>\n",
            "Novo dado \"a\": 10, tipo do dado \"a\": <class 'int'>\n",
            "--------------------------------------------------------------------------------\n",
            "Valor de \"b\" antes da transformação: 2.5, tipo do dado \"b\": <class 'float'>\n",
            "Novo dado \"b\": 2, tipo do dado \"b\": <class 'int'>\n"
          ]
        }
      ]
    },
    {
      "cell_type": "markdown",
      "source": [
        "Algumas operações interessantes com strings"
      ],
      "metadata": {
        "id": "hbtyeWkUCPf4"
      }
    },
    {
      "cell_type": "code",
      "source": [
        "a = 'Seminário'\n",
        "b = ' de '\n",
        "c = 'Python'\n",
        "\n",
        "# Concatenação\n",
        "print(f'a + b + c = {a+b+c}')\n",
        "\n",
        "print('-'*80)\n",
        "\n",
        "# Replicação\n",
        "print(f'(a + b + c) * 10: {(a+b+c)*10}')"
      ],
      "metadata": {
        "id": "Aaz2PPS0CRXQ",
        "colab": {
          "base_uri": "https://localhost:8080/"
        },
        "outputId": "1b27a824-0ebc-4cb4-b709-181593eca580"
      },
      "execution_count": null,
      "outputs": [
        {
          "output_type": "stream",
          "name": "stdout",
          "text": [
            "a + b + c = Seminário de Python\n",
            "--------------------------------------------------------------------------------\n",
            "(a + b + c) * 10: Seminário de PythonSeminário de PythonSeminário de PythonSeminário de PythonSeminário de PythonSeminário de PythonSeminário de PythonSeminário de PythonSeminário de PythonSeminário de Python\n"
          ]
        }
      ]
    },
    {
      "cell_type": "markdown",
      "source": [
        "Referências:\n",
        "- Quando atribuitos uma variável, geramos uma referência a um endereço de memória"
      ],
      "metadata": {
        "id": "ckFNltm5oG9c"
      }
    },
    {
      "cell_type": "code",
      "source": [
        "A = 1  # O valor 1 é referenciado por A\n",
        "B = A  # O valor 1 é referenciado por B\n",
        "\n",
        "print(f\"O valor do endereço de 'A' é: {id(A)}\")    # id retorna o endereço ao qual se referencia\n",
        "print(f\"O valor do endereço de 'B' é: {id(B)}\")"
      ],
      "metadata": {
        "colab": {
          "base_uri": "https://localhost:8080/"
        },
        "id": "pBmmwtA4osq4",
        "outputId": "92ad7b8b-1084-4d88-c4a1-c3263d29a0d7"
      },
      "execution_count": null,
      "outputs": [
        {
          "output_type": "stream",
          "name": "stdout",
          "text": [
            "O valor do endereço de 'A' é: 11126688\n",
            "O valor do endereço de 'B' é: 11126688\n"
          ]
        }
      ]
    },
    {
      "cell_type": "markdown",
      "source": [
        "___\n",
        "\n",
        "**Desafio 1:**\n",
        "\n",
        "Bart foi um aluno negligente na aula do professor Boca e como castigo teve que escrever a frase \"Eu não vou mais matar aula no D.A.\" **250** vezes em um arquivo txt.\n",
        "\n",
        "Pra aumentar a infelicidade de Bart, ele foi obrigado a utilizar um computador do laboratório em que o \"ctrl c\" (copiar e colar) não funcionava!\n",
        "\n",
        "Por sorte, Bart era esperto e tinha alguns truques de Python na manga.\n",
        "Resolva o problema sendo ele!\n",
        "\n",
        "<img src=\"https://i.pinimg.com/originals/97/09/80/97098039eb089e4f68cb02095db6e696.jpg\" width=30%>\n",
        "\n",
        "___"
      ],
      "metadata": {
        "id": "-F2NEUH6Daqz"
      }
    },
    {
      "cell_type": "code",
      "source": [
        "# Ajude Bart\n",
        "frase = \"Eu não vou mais matar aula no D.A.\"\n",
        "frase * 250"
      ],
      "metadata": {
        "id": "AZu6tJorGFQ7",
        "colab": {
          "base_uri": "https://localhost:8080/",
          "height": 127
        },
        "outputId": "a328c9e9-1522-45e0-d34d-e6e35a4d1846"
      },
      "execution_count": null,
      "outputs": [
        {
          "output_type": "execute_result",
          "data": {
            "text/plain": [
              "'Eu não vou mais matar aula no D.A.Eu não vou mais matar aula no D.A.Eu não vou mais matar aula no D.A.Eu não vou mais matar aula no D.A.Eu não vou mais matar aula no D.A.Eu não vou mais matar aula no D.A.Eu não vou mais matar aula no D.A.Eu não vou mais matar aula no D.A.Eu não vou mais matar aula no D.A.Eu não vou mais matar aula no D.A.Eu não vou mais matar aula no D.A.Eu não vou mais matar aula no D.A.Eu não vou mais matar aula no D.A.Eu não vou mais matar aula no D.A.Eu não vou mais matar aula no D.A.Eu não vou mais matar aula no D.A.Eu não vou mais matar aula no D.A.Eu não vou mais matar aula no D.A.Eu não vou mais matar aula no D.A.Eu não vou mais matar aula no D.A.Eu não vou mais matar aula no D.A.Eu não vou mais matar aula no D.A.Eu não vou mais matar aula no D.A.Eu não vou mais matar aula no D.A.Eu não vou mais matar aula no D.A.Eu não vou mais matar aula no D.A.Eu não vou mais matar aula no D.A.Eu não vou mais matar aula no D.A.Eu não vou mais matar aula no D.A.Eu não vou mais matar aula no D.A.Eu não vou mais matar aula no D.A.Eu não vou mais matar aula no D.A.Eu não vou mais matar aula no D.A.Eu não vou mais matar aula no D.A.Eu não vou mais matar aula no D.A.Eu não vou mais matar aula no D.A.Eu não vou mais matar aula no D.A.Eu não vou mais matar aula no D.A.Eu não vou mais matar aula no D.A.Eu não vou mais matar aula no D.A.Eu não vou mais matar aula no D.A.Eu não vou mais matar aula no D.A.Eu não vou mais matar aula no D.A.Eu não vou mais matar aula no D.A.Eu não vou mais matar aula no D.A.Eu não vou mais matar aula no D.A.Eu não vou mais matar aula no D.A.Eu não vou mais matar aula no D.A.Eu não vou mais matar aula no D.A.Eu não vou mais matar aula no D.A.Eu não vou mais matar aula no D.A.Eu não vou mais matar aula no D.A.Eu não vou mais matar aula no D.A.Eu não vou mais matar aula no D.A.Eu não vou mais matar aula no D.A.Eu não vou mais matar aula no D.A.Eu não vou mais matar aula no D.A.Eu não vou mais matar aula no D.A.Eu não vou mais matar aula no D.A.Eu não vou mais matar aula no D.A.Eu não vou mais matar aula no D.A.Eu não vou mais matar aula no D.A.Eu não vou mais matar aula no D.A.Eu não vou mais matar aula no D.A.Eu não vou mais matar aula no D.A.Eu não vou mais matar aula no D.A.Eu não vou mais matar aula no D.A.Eu não vou mais matar aula no D.A.Eu não vou mais matar aula no D.A.Eu não vou mais matar aula no D.A.Eu não vou mais matar aula no D.A.Eu não vou mais matar aula no D.A.Eu não vou mais matar aula no D.A.Eu não vou mais matar aula no D.A.Eu não vou mais matar aula no D.A.Eu não vou mais matar aula no D.A.Eu não vou mais matar aula no D.A.Eu não vou mais matar aula no D.A.Eu não vou mais matar aula no D.A.Eu não vou mais matar aula no D.A.Eu não vou mais matar aula no D.A.Eu não vou mais matar aula no D.A.Eu não vou mais matar aula no D.A.Eu não vou mais matar aula no D.A.Eu não vou mais matar aula no D.A.Eu não vou mais matar aula no D.A.Eu não vou mais matar aula no D.A.Eu não vou mais matar aula no D.A.Eu não vou mais matar aula no D.A.Eu não vou mais matar aula no D.A.Eu não vou mais matar aula no D.A.Eu não vou mais matar aula no D.A.Eu não vou mais matar aula no D.A.Eu não vou mais matar aula no D.A.Eu não vou mais matar aula no D.A.Eu não vou mais matar aula no D.A.Eu não vou mais matar aula no D.A.Eu não vou mais matar aula no D.A.Eu não vou mais matar aula no D.A.Eu não vou mais matar aula no D.A.Eu não vou mais matar aula no D.A.Eu não vou mais matar aula no D.A.Eu não vou mais matar aula no D.A.Eu não vou mais matar aula no D.A.Eu não vou mais matar aula no D.A.Eu não vou mais matar aula no D.A.Eu não vou mais matar aula no D.A.Eu não vou mais matar aula no D.A.Eu não vou mais matar aula no D.A.Eu não vou mais matar aula no D.A.Eu não vou mais matar aula no D.A.Eu não vou mais matar aula no D.A.Eu não vou mais matar aula no D.A.Eu não vou mais matar aula no D.A.Eu não vou mais matar aula no D.A.Eu não vou mais matar aula no D.A.Eu não vou mais matar aula no D.A.Eu não vou mais matar aula no D.A.Eu não vou mais matar aula no D.A.Eu não vou mais matar aula no D.A.Eu não vou mais matar aula no D.A.Eu não vou mais matar aula no D.A.Eu não vou mais matar aula no D.A.Eu não vou mais matar aula no D.A.Eu não vou mais matar aula no D.A.Eu não vou mais matar aula no D.A.Eu não vou mais matar aula no D.A.Eu não vou mais matar aula no D.A.Eu não vou mais matar aula no D.A.Eu não vou mais matar aula no D.A.Eu não vou mais matar aula no D.A.Eu não vou mais matar aula no D.A.Eu não vou mais matar aula no D.A.Eu não vou mais matar aula no D.A.Eu não vou mais matar aula no D.A.Eu não vou mais matar aula no D.A.Eu não vou mais matar aula no D.A.Eu não vou mais matar aula no D.A.Eu não vou mais matar aula no D.A.Eu não vou mais matar aula no D.A.Eu não vou mais matar aula no D.A.Eu não vou mais matar aula no D.A.Eu não vou mais matar aula no D.A.Eu não vou mais matar aula no D.A.Eu não vou mais matar aula no D.A.Eu não vou mais matar aula no D.A.Eu não vou mais matar aula no D.A.Eu não vou mais matar aula no D.A.Eu não vou mais matar aula no D.A.Eu não vou mais matar aula no D.A.Eu não vou mais matar aula no D.A.Eu não vou mais matar aula no D.A.Eu não vou mais matar aula no D.A.Eu não vou mais matar aula no D.A.Eu não vou mais matar aula no D.A.Eu não vou mais matar aula no D.A.Eu não vou mais matar aula no D.A.Eu não vou mais matar aula no D.A.Eu não vou mais matar aula no D.A.Eu não vou mais matar aula no D.A.Eu não vou mais matar aula no D.A.Eu não vou mais matar aula no D.A.Eu não vou mais matar aula no D.A.Eu não vou mais matar aula no D.A.Eu não vou mais matar aula no D.A.Eu não vou mais matar aula no D.A.Eu não vou mais matar aula no D.A.Eu não vou mais matar aula no D.A.Eu não vou mais matar aula no D.A.Eu não vou mais matar aula no D.A.Eu não vou mais matar aula no D.A.Eu não vou mais matar aula no D.A.Eu não vou mais matar aula no D.A.Eu não vou mais matar aula no D.A.Eu não vou mais matar aula no D.A.Eu não vou mais matar aula no D.A.Eu não vou mais matar aula no D.A.Eu não vou mais matar aula no D.A.Eu não vou mais matar aula no D.A.Eu não vou mais matar aula no D.A.Eu não vou mais matar aula no D.A.Eu não vou mais matar aula no D.A.Eu não vou mais matar aula no D.A.Eu não vou mais matar aula no D.A.Eu não vou mais matar aula no D.A.Eu não vou mais matar aula no D.A.Eu não vou mais matar aula no D.A.Eu não vou mais matar aula no D.A.Eu não vou mais matar aula no D.A.Eu não vou mais matar aula no D.A.Eu não vou mais matar aula no D.A.Eu não vou mais matar aula no D.A.Eu não vou mais matar aula no D.A.Eu não vou mais matar aula no D.A.Eu não vou mais matar aula no D.A.Eu não vou mais matar aula no D.A.Eu não vou mais matar aula no D.A.Eu não vou mais matar aula no D.A.Eu não vou mais matar aula no D.A.Eu não vou mais matar aula no D.A.Eu não vou mais matar aula no D.A.Eu não vou mais matar aula no D.A.Eu não vou mais matar aula no D.A.Eu não vou mais matar aula no D.A.Eu não vou mais matar aula no D.A.Eu não vou mais matar aula no D.A.Eu não vou mais matar aula no D.A.Eu não vou mais matar aula no D.A.Eu não vou mais matar aula no D.A.Eu não vou mais matar aula no D.A.Eu não vou mais matar aula no D.A.Eu não vou mais matar aula no D.A.Eu não vou mais matar aula no D.A.Eu não vou mais matar aula no D.A.Eu não vou mais matar aula no D.A.Eu não vou mais matar aula no D.A.Eu não vou mais matar aula no D.A.Eu não vou mais matar aula no D.A.Eu não vou mais matar aula no D.A.Eu não vou mais matar aula no D.A.Eu não vou mais matar aula no D.A.Eu não vou mais matar aula no D.A.Eu não vou mais matar aula no D.A.Eu não vou mais matar aula no D.A.Eu não vou mais matar aula no D.A.Eu não vou mais matar aula no D.A.Eu não vou mais matar aula no D.A.Eu não vou mais matar aula no D.A.Eu não vou mais matar aula no D.A.Eu não vou mais matar aula no D.A.Eu não vou mais matar aula no D.A.Eu não vou mais matar aula no D.A.Eu não vou mais matar aula no D.A.Eu não vou mais matar aula no D.A.Eu não vou mais matar aula no D.A.Eu não vou mais matar aula no D.A.Eu não vou mais matar aula no D.A.Eu não vou mais matar aula no D.A.Eu não vou mais matar aula no D.A.Eu não vou mais matar aula no D.A.Eu não vou mais matar aula no D.A.Eu não vou mais matar aula no D.A.Eu não vou mais matar aula no D.A.Eu não vou mais matar aula no D.A.Eu não vou mais matar aula no D.A.Eu não vou mais matar aula no D.A.Eu não vou mais matar aula no D.A.Eu não vou mais matar aula no D.A.Eu não vou mais matar aula no D.A.Eu não vou mais matar aula no D.A.'"
            ],
            "application/vnd.google.colaboratory.intrinsic+json": {
              "type": "string"
            }
          },
          "metadata": {},
          "execution_count": 42
        }
      ]
    },
    {
      "cell_type": "code",
      "source": [
        "# Exercício 2\n",
        "# Realize as seguintes operações:\n",
        "\n",
        "# a. 2 + 3 - 1\n",
        "a = 2 + 3 - 1\n",
        "print('a: ', a)\n",
        "\n",
        "# b. 2 + 3 * 2\n",
        "b = 2 + ( 3 * 2 )\n",
        "print('b: ', b)\n",
        "\n",
        "# c. (2)^3^2 [Observe que o resultado é o mesmo que 2^9]\n",
        "c = 2 ** 9\n",
        "print('c: ', c)"
      ],
      "metadata": {
        "id": "2yC0Ur76JZVs",
        "colab": {
          "base_uri": "https://localhost:8080/"
        },
        "outputId": "4f20f3e9-5ce8-4379-fccc-4043c0555afe"
      },
      "execution_count": null,
      "outputs": [
        {
          "output_type": "stream",
          "name": "stdout",
          "text": [
            "a:  4\n",
            "b:  8\n",
            "c:  512\n"
          ]
        }
      ]
    },
    {
      "cell_type": "markdown",
      "source": [
        "## Listas, tuplas, strings e Dicionários"
      ],
      "metadata": {
        "id": "cwQa5jHTKbi6"
      }
    },
    {
      "cell_type": "markdown",
      "source": [
        "**Lista**\n",
        "- Chamada de \"list\"\n",
        "- É uma sequência de elementos (de vários tipos) com uma dada ordem\n",
        "- Comum ao nosso dia a dia na \"lista de mercado\" ou \"lista de notas de provas\""
      ],
      "metadata": {
        "id": "mal5wbkjKj_g"
      }
    },
    {
      "cell_type": "code",
      "source": [
        "# Criando uma lista com [ ]\n",
        "\n",
        "lst = [ 1, 2, 3, 'Pedro', True ]\n",
        "lst"
      ],
      "metadata": {
        "id": "yQAFveoMK8yt",
        "colab": {
          "base_uri": "https://localhost:8080/"
        },
        "outputId": "b0338b17-1c4c-45ba-cb25-de995c2bbf0d"
      },
      "execution_count": null,
      "outputs": [
        {
          "output_type": "execute_result",
          "data": {
            "text/plain": [
              "[1, 2, 3, 'Pedro', True]"
            ]
          },
          "metadata": {},
          "execution_count": 44
        }
      ]
    },
    {
      "cell_type": "code",
      "source": [
        "# Acessando valores da lista pelo índice com lista[n]\n",
        "lst[0]"
      ],
      "metadata": {
        "colab": {
          "base_uri": "https://localhost:8080/"
        },
        "id": "yTU-Ij3QddX_",
        "outputId": "21489a0c-25f1-4c8f-b5ae-4eaef50c0af7"
      },
      "execution_count": null,
      "outputs": [
        {
          "output_type": "execute_result",
          "data": {
            "text/plain": [
              "1"
            ]
          },
          "metadata": {},
          "execution_count": 45
        }
      ]
    },
    {
      "cell_type": "code",
      "source": [
        "# Criando uma lista vazia\n",
        "lst_vazia = []\n",
        "\n",
        "# Inserindo elementos na lista com o lista.append(x)\n",
        "lst_vazia.append('Marcelo')\n",
        "lst_vazia.append('Marcio')\n",
        "\n",
        "lst_vazia"
      ],
      "metadata": {
        "id": "7QJEO7hqMYXr",
        "colab": {
          "base_uri": "https://localhost:8080/"
        },
        "outputId": "bf8fe50d-84e1-43e9-9cfd-0662af4c7e65"
      },
      "execution_count": null,
      "outputs": [
        {
          "output_type": "execute_result",
          "data": {
            "text/plain": [
              "['Marcelo', 'Marcio']"
            ]
          },
          "metadata": {},
          "execution_count": 46
        }
      ]
    },
    {
      "cell_type": "code",
      "source": [
        "lst_auxiliar = ['a','b','c','d','e']\n",
        "\n",
        "# Inserindo elementos na lista escolhendo a posição com o lista.insert(posição, elemento)\n",
        "lst_auxiliar.insert(2, 'Z')\n",
        "print(lst_auxiliar)"
      ],
      "metadata": {
        "id": "LUE2pt0HNMm8",
        "colab": {
          "base_uri": "https://localhost:8080/"
        },
        "outputId": "a748b66f-3aed-4658-f89f-3db4fb220943"
      },
      "execution_count": null,
      "outputs": [
        {
          "output_type": "stream",
          "name": "stdout",
          "text": [
            "['a', 'b', 'Z', 'c', 'd', 'e']\n"
          ]
        }
      ]
    },
    {
      "cell_type": "code",
      "source": [
        "lst_auxiliar = ['a','b','c','d','e']\n",
        "\n",
        "# Excluindo elementos da lista escolhendo a posição com del lista[posição]\n",
        "del lst_auxiliar[2]\n",
        "print(lst_auxiliar)"
      ],
      "metadata": {
        "id": "VwT-thXONSVn",
        "colab": {
          "base_uri": "https://localhost:8080/"
        },
        "outputId": "ca6fbcce-ed80-4f08-bfc1-f39a9c62e5a1"
      },
      "execution_count": null,
      "outputs": [
        {
          "output_type": "stream",
          "name": "stdout",
          "text": [
            "['a', 'b', 'd', 'e']\n"
          ]
        }
      ]
    },
    {
      "cell_type": "code",
      "source": [
        "lst_auxiliar = ['a','b','c','d','e']\n",
        "\n",
        "# Excluindo elemento da lista e salvando o elemento excluído em uma variável com o lista.pop(posição)\n",
        "excluido = lst_auxiliar.pop(3)\n",
        "print(f'Elemento excluido: {excluido}')"
      ],
      "metadata": {
        "id": "LD6qOowDNlCc",
        "colab": {
          "base_uri": "https://localhost:8080/"
        },
        "outputId": "cb325344-0105-42c0-ba3b-74e42e22288e"
      },
      "execution_count": null,
      "outputs": [
        {
          "output_type": "stream",
          "name": "stdout",
          "text": [
            "Elemento excluido: d\n"
          ]
        }
      ]
    },
    {
      "cell_type": "code",
      "source": [
        "lst_auxiliar = ['a','b','c','d','e']\n",
        "\n",
        "# Verificando o tamanho de uma lista com a função len(lista)\n",
        "len( lst_auxiliar )"
      ],
      "metadata": {
        "id": "sFcXlAtmOun7",
        "colab": {
          "base_uri": "https://localhost:8080/"
        },
        "outputId": "6efd4a6a-053b-465f-a5ba-a09b49b51ee2"
      },
      "execution_count": null,
      "outputs": [
        {
          "output_type": "execute_result",
          "data": {
            "text/plain": [
              "5"
            ]
          },
          "metadata": {},
          "execution_count": 50
        }
      ]
    },
    {
      "cell_type": "code",
      "source": [
        "lst_auxiliar = ['a','b','c','d','e']\n",
        "\n",
        "# Índices negativos (buscando elementos em ordem contrária)\n",
        "\n",
        "print( lst_auxiliar[-1] ) # último\n",
        "print( lst_auxiliar[-2] ) # penúltimo"
      ],
      "metadata": {
        "id": "wdr7NqwEO9Xz",
        "colab": {
          "base_uri": "https://localhost:8080/"
        },
        "outputId": "b87c110e-5ad5-44ac-a48d-45fd969f66b8"
      },
      "execution_count": null,
      "outputs": [
        {
          "output_type": "stream",
          "name": "stdout",
          "text": [
            "e\n",
            "d\n"
          ]
        }
      ]
    },
    {
      "cell_type": "code",
      "source": [
        "# Extra: listas com listas dentro\n",
        "\n",
        "lst_extra = ['a', 'c', 3, 5, ['João', ['Carlos', 'Alberto'], 'Marcio'], True]\n",
        "print(lst_extra)"
      ],
      "metadata": {
        "colab": {
          "base_uri": "https://localhost:8080/"
        },
        "id": "Ma-MOc5VPPrv",
        "outputId": "1a8b564e-39b5-49b6-f558-f55840fb107e"
      },
      "execution_count": null,
      "outputs": [
        {
          "output_type": "stream",
          "name": "stdout",
          "text": [
            "['a', 'c', 3, 5, ['João', ['Carlos', 'Alberto'], 'Marcio'], True]\n"
          ]
        }
      ]
    },
    {
      "cell_type": "code",
      "source": [
        "# Extra: concatenando listas com o operador +\n",
        "\n",
        "lst_a = [1,2,3,4,5]\n",
        "lst_b = [2,2,2,2,2]\n",
        "\n",
        "lst_a + lst_b"
      ],
      "metadata": {
        "id": "YmizLlnHrYE7",
        "colab": {
          "base_uri": "https://localhost:8080/"
        },
        "outputId": "c77ec200-bbba-410d-9bb5-0c17dbd0792f"
      },
      "execution_count": null,
      "outputs": [
        {
          "output_type": "execute_result",
          "data": {
            "text/plain": [
              "[1, 2, 3, 4, 5, 2, 2, 2, 2, 2]"
            ]
          },
          "metadata": {},
          "execution_count": 53
        }
      ]
    },
    {
      "cell_type": "code",
      "source": [
        "# Extra: copiando outra lista em uma nova com o lista.extend()\n",
        "\n",
        "lst_a = ['a','b', 'c', 'd']\n",
        "lst_b = ['e', 'f', 'g', 'h']\n",
        "\n",
        "# Trazendo o conteúdo da lista B para a lista A\n",
        "\n",
        "lst_a.extend( lst_b )\n",
        "\n",
        "print(lst_a)"
      ],
      "metadata": {
        "id": "muuqx7H2rqxe",
        "colab": {
          "base_uri": "https://localhost:8080/"
        },
        "outputId": "f41f8f65-cb8b-48f8-b9c1-26ca54877f48"
      },
      "execution_count": null,
      "outputs": [
        {
          "output_type": "stream",
          "name": "stdout",
          "text": [
            "['a', 'b', 'c', 'd', 'e', 'f', 'g', 'h']\n"
          ]
        }
      ]
    },
    {
      "cell_type": "markdown",
      "source": [
        "Lembram de como o Python faz a referência?\n",
        "\n",
        "Então realize o seguinte teste:\n",
        "```Python\n",
        "A = [1,2,3,4,5]\n",
        "B = A\n",
        "\n",
        "print(f'A antes: {A}')\n",
        "\n",
        "B.append(30)\n",
        "\n",
        "print(f'A depois: {A}')\n",
        "```"
      ],
      "metadata": {
        "id": "8tQUy4kxqOok"
      }
    },
    {
      "cell_type": "code",
      "source": [
        "A = [1,2,3,4,5]\n",
        "B = A\n",
        "\n",
        "print(f'A antes: {A}')\n",
        "\n",
        "B.append(30)\n",
        "\n",
        "print(f'A depois: {A}')"
      ],
      "metadata": {
        "colab": {
          "base_uri": "https://localhost:8080/"
        },
        "id": "fO7r0cXsqyej",
        "outputId": "b3cff3b5-5964-4e7e-9345-62e6620380c3"
      },
      "execution_count": null,
      "outputs": [
        {
          "output_type": "stream",
          "name": "stdout",
          "text": [
            "A antes: [1, 2, 3, 4, 5]\n",
            "A depois: [1, 2, 3, 4, 5, 30]\n"
          ]
        }
      ]
    },
    {
      "cell_type": "markdown",
      "source": [
        "O que ocorre é que como ambas as variáveis **A** e **B** referenciam para a mesma lista, quando **B** é alterada através do `append()`, **A** também é afetada!"
      ],
      "metadata": {
        "id": "HUttjxsnq2QG"
      }
    },
    {
      "cell_type": "code",
      "source": [
        "# Outro exemplo\n",
        "\n",
        "a = [1,2,3,4,5]\n",
        "b = a\n",
        "\n",
        "b.extend([10, 20, 30])\n",
        "\n",
        "print(a)"
      ],
      "metadata": {
        "colab": {
          "base_uri": "https://localhost:8080/"
        },
        "id": "oxHB17_CsHGo",
        "outputId": "05ccaa59-ba87-4a22-db74-cabf3a9ea2d1"
      },
      "execution_count": null,
      "outputs": [
        {
          "output_type": "stream",
          "name": "stdout",
          "text": [
            "[1, 2, 3, 4, 5, 10, 20, 30]\n"
          ]
        }
      ]
    },
    {
      "cell_type": "code",
      "source": [
        "# Encontrando o índice da primeira ocorrência de um valor em uma lista\n",
        "\n",
        "nomes = ['Joao', 'Pedro', 'Carlos']\n",
        "\n",
        "# Encontrando o índice de Pedro com o lista.index(x)\n",
        "posicao = nomes.index( 'Carlos' )\n",
        "print('O índice de Carlos é: ', posicao)"
      ],
      "metadata": {
        "id": "YFUFYMiksbm9",
        "colab": {
          "base_uri": "https://localhost:8080/"
        },
        "outputId": "6482147d-8764-41db-984b-eae167fc8c53"
      },
      "execution_count": null,
      "outputs": [
        {
          "output_type": "stream",
          "name": "stdout",
          "text": [
            "O índice de Carlos é:  2\n"
          ]
        }
      ]
    },
    {
      "cell_type": "code",
      "source": [
        "# Contando o número de letras 'a' em 'abacate' com o lista.count()\n",
        "\n",
        "fruta = 'abacate'\n",
        "fruta.count('a')"
      ],
      "metadata": {
        "id": "SqjyNFMMsnS9",
        "colab": {
          "base_uri": "https://localhost:8080/"
        },
        "outputId": "87a4b532-40b2-4e5b-af31-87ca36bf3cde"
      },
      "execution_count": null,
      "outputs": [
        {
          "output_type": "execute_result",
          "data": {
            "text/plain": [
              "3"
            ]
          },
          "metadata": {},
          "execution_count": 58
        }
      ]
    },
    {
      "cell_type": "code",
      "source": [
        "lst_aux = [3, 1, 2, 20, 10]\n",
        "\n",
        "# Ordenando uma lista com lista.sort()   OBS: este método altera a lista original\n",
        "lst_aux.sort()\n",
        "\n",
        "print('Lista ordenada:\\n', lst_aux)\n",
        "print('-'*80)\n",
        "print('Lista original:\\n', lst_aux)"
      ],
      "metadata": {
        "id": "6x-TtAJXsuya",
        "colab": {
          "base_uri": "https://localhost:8080/"
        },
        "outputId": "d8a67150-d6b1-4089-b927-7aa3ccabdfc7"
      },
      "execution_count": null,
      "outputs": [
        {
          "output_type": "stream",
          "name": "stdout",
          "text": [
            "Lista ordenada:\n",
            " [1, 2, 3, 10, 20]\n",
            "--------------------------------------------------------------------------------\n",
            "Lista original:\n",
            " [1, 2, 3, 10, 20]\n"
          ]
        }
      ]
    },
    {
      "cell_type": "code",
      "source": [
        "lst_aux = [3, 1, 2, 20, 10]\n",
        "\n",
        "# Ordenando a lista sem alterar a original (cria-se uma nova sequência na memória) usando o sorted(lista)\n",
        "lst_ordenada = sorted(lst_aux)\n",
        "\n",
        "print('Lista ordenada:\\n', lst_ordenada)\n",
        "print('-'*80)\n",
        "print('Lista original:\\n', lst_aux)"
      ],
      "metadata": {
        "id": "MeMSv8PvtQkk",
        "colab": {
          "base_uri": "https://localhost:8080/"
        },
        "outputId": "c79af0f5-c1d7-438c-edb2-f3b9eba0ae09"
      },
      "execution_count": null,
      "outputs": [
        {
          "output_type": "stream",
          "name": "stdout",
          "text": [
            "Lista ordenada:\n",
            " [1, 2, 3, 10, 20]\n",
            "--------------------------------------------------------------------------------\n",
            "Lista original:\n",
            " [3, 1, 2, 20, 10]\n"
          ]
        }
      ]
    },
    {
      "cell_type": "code",
      "source": [
        "# Achando o maior elemento da sequência com max(lista)\n",
        "\n",
        "lst_aux = [3, 1, 2, 20, 10]\n",
        "\n",
        "max( lst_aux )"
      ],
      "metadata": {
        "id": "Sp9YXY9JthjJ",
        "colab": {
          "base_uri": "https://localhost:8080/"
        },
        "outputId": "3662c149-4849-4ea4-9d25-daee6c3a6e5c"
      },
      "execution_count": null,
      "outputs": [
        {
          "output_type": "execute_result",
          "data": {
            "text/plain": [
              "20"
            ]
          },
          "metadata": {},
          "execution_count": 61
        }
      ]
    },
    {
      "cell_type": "code",
      "source": [
        "# Achando o menor elemento da sequência com min(lista)\n",
        "\n",
        "lst_aux = [3, 1, 2, 20, 10]\n",
        "\n",
        "min( lst_aux )"
      ],
      "metadata": {
        "id": "Takt6mBctneN",
        "colab": {
          "base_uri": "https://localhost:8080/"
        },
        "outputId": "fc4e123e-55ad-4403-ef1e-54cb2a3a7dd6"
      },
      "execution_count": null,
      "outputs": [
        {
          "output_type": "execute_result",
          "data": {
            "text/plain": [
              "1"
            ]
          },
          "metadata": {},
          "execution_count": 62
        }
      ]
    },
    {
      "cell_type": "markdown",
      "source": [
        "**Tupla**\n",
        "\n",
        "- Chamada de \"tuple\"\n",
        "- Similar a lista mas os elementos não podem ser modificados!\n",
        "- Muito útil quando queremos que outra pessoa, função ou método NÃO altere a lista original"
      ],
      "metadata": {
        "id": "FwzptiiaK-8R"
      }
    },
    {
      "cell_type": "code",
      "source": [
        "# Criando uma tupla com ()\n",
        "\n",
        "tupla_auxiliar = (2, 3, 'a', 'b', 3.5)\n",
        "print(tupla_auxiliar)"
      ],
      "metadata": {
        "id": "dwU-UHfmLKZ3",
        "colab": {
          "base_uri": "https://localhost:8080/"
        },
        "outputId": "3420a015-6686-42aa-d760-c84292eed6af"
      },
      "execution_count": null,
      "outputs": [
        {
          "output_type": "stream",
          "name": "stdout",
          "text": [
            "(2, 3, 'a', 'b', 3.5)\n"
          ]
        }
      ]
    },
    {
      "cell_type": "code",
      "source": [
        "# Tentando adicionar algo em uma tupla (descomente e veja o que acontece)\n",
        "# tupla_auxiliar.append('Z')"
      ],
      "metadata": {
        "id": "vRl6BucLP3gw"
      },
      "execution_count": null,
      "outputs": []
    },
    {
      "cell_type": "markdown",
      "source": [
        "\"Mas e se eu precisar muito mexer na tupla? (Você precisa mesmo??!)\"\n",
        "\n",
        "<img src=\"https://www.memesmonkey.com/images/memesmonkey/8c/8c61344284918bae325bdc4fbf9c6c6f.jpeg\" width=20%>"
      ],
      "metadata": {
        "id": "qzU2_88uQDaF"
      }
    },
    {
      "cell_type": "code",
      "source": [
        "type( tupla_auxiliar )"
      ],
      "metadata": {
        "colab": {
          "base_uri": "https://localhost:8080/"
        },
        "id": "fGayiwvkdQ-a",
        "outputId": "ba8ec57b-6bfa-4399-83dd-91a343c6d4c6"
      },
      "execution_count": null,
      "outputs": [
        {
          "output_type": "execute_result",
          "data": {
            "text/plain": [
              "tuple"
            ]
          },
          "metadata": {},
          "execution_count": 65
        }
      ]
    },
    {
      "cell_type": "code",
      "source": [
        "# Transformando uma tupla em uma lista com o list(x)\n",
        "tupla_auxiliar = list( tupla_auxiliar )\n",
        "\n",
        "type( tupla_auxiliar )"
      ],
      "metadata": {
        "id": "O6vcLCPiQOni",
        "colab": {
          "base_uri": "https://localhost:8080/"
        },
        "outputId": "a82a55eb-2063-4610-c75d-2398a36720fe"
      },
      "execution_count": null,
      "outputs": [
        {
          "output_type": "execute_result",
          "data": {
            "text/plain": [
              "list"
            ]
          },
          "metadata": {},
          "execution_count": 66
        }
      ]
    },
    {
      "cell_type": "code",
      "source": [
        "# Adicionando o elemento na lista\n",
        "tupla_auxiliar.append('Z')"
      ],
      "metadata": {
        "id": "JefvRsP4QRuX"
      },
      "execution_count": null,
      "outputs": []
    },
    {
      "cell_type": "code",
      "source": [
        "# Transformando a lista em uma tupla novamente com tuple(x)\n",
        "tupla_auxiliar = tuple( tupla_auxiliar )\n",
        "\n",
        "type( tupla_auxiliar )"
      ],
      "metadata": {
        "id": "5BnQ4-AKQUV7",
        "colab": {
          "base_uri": "https://localhost:8080/"
        },
        "outputId": "715fb823-b176-4e23-e822-20cd48a7e868"
      },
      "execution_count": null,
      "outputs": [
        {
          "output_type": "execute_result",
          "data": {
            "text/plain": [
              "tuple"
            ]
          },
          "metadata": {},
          "execution_count": 68
        }
      ]
    },
    {
      "cell_type": "code",
      "source": [
        "# Verificando como ficou nossa tupla\n",
        "tupla_auxiliar"
      ],
      "metadata": {
        "id": "r6ipK2cJP_u-",
        "outputId": "cb2bbf87-6375-44e2-df99-3f5e006b4b2e",
        "colab": {
          "base_uri": "https://localhost:8080/"
        }
      },
      "execution_count": null,
      "outputs": [
        {
          "output_type": "execute_result",
          "data": {
            "text/plain": [
              "(2, 3, 'a', 'b', 3.5, 'Z')"
            ]
          },
          "metadata": {},
          "execution_count": 69
        }
      ]
    },
    {
      "cell_type": "markdown",
      "source": [
        "**String**\n",
        "\n",
        "- Cadeia de caracteres com leitura 1 a 1\n",
        "- \"Uma palavra é uma **SEQUÊNCIA** de letras"
      ],
      "metadata": {
        "id": "PaSYm103LKhn"
      }
    },
    {
      "cell_type": "code",
      "source": [
        "str_auxiliar = 'Computação é o orgulho da PUC'\n",
        "\n",
        "# Acessando as letras da string com str[posição]\n",
        "\n",
        "print('Posição 1 da string: ', str_auxiliar[0])   # Obs: o primeiro elemento é o 0\n",
        "print('Posição 3 da string: ', str_auxiliar[2])\n",
        "print('Posição 10 da string: ', str_auxiliar[9])\n",
        "print('Última posição da string: ', str_auxiliar[-1])"
      ],
      "metadata": {
        "id": "xO7knLe5LTz4",
        "colab": {
          "base_uri": "https://localhost:8080/"
        },
        "outputId": "1a68f8ec-a117-40d5-9fe2-9d6b0adeb617"
      },
      "execution_count": null,
      "outputs": [
        {
          "output_type": "stream",
          "name": "stdout",
          "text": [
            "Posição 1 da string:  C\n",
            "Posição 3 da string:  m\n",
            "Posição 10 da string:  o\n",
            "Última posição da string:  C\n"
          ]
        }
      ]
    },
    {
      "cell_type": "code",
      "source": [
        "# Transformando as primeiras letras das palavras em maiúsculas com o string.title()\n",
        "nome = 'joao barbosa'\n",
        "nome = nome.title()\n",
        "nome"
      ],
      "metadata": {
        "colab": {
          "base_uri": "https://localhost:8080/",
          "height": 36
        },
        "id": "NJDdsOiiUUzo",
        "outputId": "efc81d41-9b42-4e0f-f525-c362be1d7279"
      },
      "execution_count": null,
      "outputs": [
        {
          "output_type": "execute_result",
          "data": {
            "text/plain": [
              "'Joao Barbosa'"
            ],
            "application/vnd.google.colaboratory.intrinsic+json": {
              "type": "string"
            }
          },
          "metadata": {},
          "execution_count": 71
        }
      ]
    },
    {
      "cell_type": "code",
      "source": [
        "# Transformando todas as letras em maiúsculas com string.upper()\n",
        "nome = 'joao barbosa'\n",
        "nome = nome.upper()\n",
        "nome"
      ],
      "metadata": {
        "id": "FCnKVh2XUwx3",
        "colab": {
          "base_uri": "https://localhost:8080/",
          "height": 36
        },
        "outputId": "e6c70027-82f3-42cf-8a76-fc384f1a1740"
      },
      "execution_count": null,
      "outputs": [
        {
          "output_type": "execute_result",
          "data": {
            "text/plain": [
              "'JOAO BARBOSA'"
            ],
            "application/vnd.google.colaboratory.intrinsic+json": {
              "type": "string"
            }
          },
          "metadata": {},
          "execution_count": 72
        }
      ]
    },
    {
      "cell_type": "code",
      "source": [
        "# Transformando todas as letras em minúsculas com string.lower()\n",
        "nome = 'JOAO BARBOSA'\n",
        "nome = nome.lower()\n",
        "nome"
      ],
      "metadata": {
        "id": "62loN-QvU0Sv",
        "colab": {
          "base_uri": "https://localhost:8080/",
          "height": 36
        },
        "outputId": "0b763f08-242f-43df-cdbe-bc155fde2f96"
      },
      "execution_count": null,
      "outputs": [
        {
          "output_type": "execute_result",
          "data": {
            "text/plain": [
              "'joao barbosa'"
            ],
            "application/vnd.google.colaboratory.intrinsic+json": {
              "type": "string"
            }
          },
          "metadata": {},
          "execution_count": 73
        }
      ]
    },
    {
      "cell_type": "code",
      "source": [
        "# Tabulações com \\n e \\t\n",
        "print('Hello World')\n",
        "print('-'*80)\n",
        "print('\\t\\tHello World')\n",
        "print('-'*80)\n",
        "print('Hello \\nWorld')\n",
        "\n",
        "# \\t adicionará um tab\n",
        "# \\n pulará uma linha"
      ],
      "metadata": {
        "id": "HOlo8u6lU7qI",
        "colab": {
          "base_uri": "https://localhost:8080/"
        },
        "outputId": "93c38386-5901-4b8f-8351-1cab8d9511ba"
      },
      "execution_count": null,
      "outputs": [
        {
          "output_type": "stream",
          "name": "stdout",
          "text": [
            "Hello World\n",
            "--------------------------------------------------------------------------------\n",
            "\t\tHello World\n",
            "--------------------------------------------------------------------------------\n",
            "Hello \n",
            "World\n"
          ]
        }
      ]
    },
    {
      "cell_type": "code",
      "source": [
        "str_aux = '    olá mundo   '\n",
        "\n",
        "# Removendo espaços da direita com string.rstrip()\n",
        "print( str_aux.rstrip() )\n",
        "print('-'*80)\n",
        "\n",
        "# Removendo espaços da esquerda com string.lstrip()\n",
        "print( str_aux.lstrip() )\n",
        "print('-'*80)\n",
        "\n",
        "# Removendo espaços de ambos os lados com string.strip()\n",
        "print( str_aux.strip() )\n",
        "print('-'*80)\n",
        "\n",
        "# Trocando alguma string por outra com string.replace(\"str antiga\", \"str nova\")\n"
      ],
      "metadata": {
        "id": "S6-psHWQVENC",
        "colab": {
          "base_uri": "https://localhost:8080/"
        },
        "outputId": "23aa22e8-d417-4e7b-a0e5-632acb8a2367"
      },
      "execution_count": null,
      "outputs": [
        {
          "output_type": "stream",
          "name": "stdout",
          "text": [
            "    olá mundo\n",
            "--------------------------------------------------------------------------------\n",
            "olá mundo   \n",
            "--------------------------------------------------------------------------------\n",
            "olá mundo\n",
            "--------------------------------------------------------------------------------\n"
          ]
        }
      ]
    },
    {
      "cell_type": "markdown",
      "source": [
        "**Exercício**\n",
        "\n",
        "Imprima o maior valor da lista [1, 2, 3, 4, 50, 60, 7, 8, 9, 10]"
      ],
      "metadata": {
        "id": "XbWAaYr8kbFH"
      }
    },
    {
      "cell_type": "code",
      "source": [
        "lst = [1, 2, 3, 4, 50, 60, 7, 8, 9, 10]\n",
        "\n",
        "# Resolva\n",
        "max( lst )"
      ],
      "metadata": {
        "colab": {
          "base_uri": "https://localhost:8080/"
        },
        "id": "1BAwzrL9M5T4",
        "outputId": "46e1c17d-c4be-4426-8572-600181139176"
      },
      "execution_count": null,
      "outputs": [
        {
          "output_type": "execute_result",
          "data": {
            "text/plain": [
              "60"
            ]
          },
          "metadata": {},
          "execution_count": 76
        }
      ]
    },
    {
      "cell_type": "markdown",
      "source": [
        "**Dicionários**\n",
        "- Chamado de \"dict\n",
        "- Mapeia um par (chave-valor) de informações\n",
        "- Chaves são imutáveis (ex. string)\n",
        "- Valores podem ser de qualquer tipo (str, int, float etc)\n",
        "- Similar a buscar o significado de uma palavra no dicionário, pois buscamos uma palavra (chave) e seu significado (valor)"
      ],
      "metadata": {
        "id": "6KJpFCAEWj3k"
      }
    },
    {
      "cell_type": "code",
      "source": [
        "# Exemplo simples\n",
        "\n",
        "dict_simples = { 'A': 1 }\n",
        "\n",
        "type( dict_simples )"
      ],
      "metadata": {
        "colab": {
          "base_uri": "https://localhost:8080/"
        },
        "id": "OycFyHmkLDrk",
        "outputId": "589a3080-d5e0-46ae-8fe8-01124e5ebb6a"
      },
      "execution_count": null,
      "outputs": [
        {
          "output_type": "execute_result",
          "data": {
            "text/plain": [
              "dict"
            ]
          },
          "metadata": {},
          "execution_count": 77
        }
      ]
    },
    {
      "cell_type": "code",
      "source": [
        "# Exemplo com estado e cidade\n",
        "\n",
        "# dic_exemplo = {'chave1': \"valor1 da chave 1\", \"valor 2 da chave 1\",\n",
        "#                'chave2': 'valor1 da chave 2\"(...)}\n",
        "\n",
        "dict_cidade_estado = { 'Rio de Janeiro': 'Petrópolis',\n",
        "                       'São Paulo': ['São João da Boa Vista', 'Divinolândia'],\n",
        "                       'Minas Gerais': ['Poços de Caldas', 'Alfenas'] }"
      ],
      "metadata": {
        "id": "qwUqYWROXHAx"
      },
      "execution_count": null,
      "outputs": []
    },
    {
      "cell_type": "code",
      "source": [
        "# Acessando uma chave do dicionário\n",
        "\n",
        "dict_cidade_estado['Minas Gerais']"
      ],
      "metadata": {
        "id": "ptcNO8f5YTpE",
        "colab": {
          "base_uri": "https://localhost:8080/"
        },
        "outputId": "12cf689b-e9fe-4fe7-dc98-345ef294e982"
      },
      "execution_count": null,
      "outputs": [
        {
          "output_type": "execute_result",
          "data": {
            "text/plain": [
              "['Poços de Caldas', 'Alfenas']"
            ]
          },
          "metadata": {},
          "execution_count": 79
        }
      ]
    },
    {
      "cell_type": "code",
      "source": [
        "# Dicionários podem conter diferentes tipos de valores\n",
        "dict_valor = { 'chave1': 1,\n",
        "               'chave2': [2, 3, [5, 5, 5], 2]\n",
        "             }\n",
        "dict_valor"
      ],
      "metadata": {
        "id": "9nbEuN8RYYrE",
        "colab": {
          "base_uri": "https://localhost:8080/"
        },
        "outputId": "e74b6b43-8c63-4796-a468-eb0c5cb155b2"
      },
      "execution_count": null,
      "outputs": [
        {
          "output_type": "execute_result",
          "data": {
            "text/plain": [
              "{'chave1': 1, 'chave2': [2, 3, [5, 5, 5], 2]}"
            ]
          },
          "metadata": {},
          "execution_count": 80
        }
      ]
    },
    {
      "cell_type": "code",
      "source": [
        "dict_aux = {'a': 1,\n",
        "            'b': 2,\n",
        "            'c': 3}\n",
        "\n",
        "print(dict_aux)\n",
        "\n",
        "# Adicionando um novo par de chave-valor ao dicionário com dict['chave'] = valor\n",
        "\n",
        "dict_aux['d'] = 4\n",
        "\n",
        "# Alterando valores de um dicionário\n",
        "\n",
        "dict_aux['c'] = 15\n",
        "\n",
        "# Deletar valores de um dicionário\n",
        "\n",
        "del dict_aux['a']\n",
        "\n",
        "print('Dicionário modificado: ', dict_aux)"
      ],
      "metadata": {
        "id": "hFaYrz17ZhoD",
        "colab": {
          "base_uri": "https://localhost:8080/"
        },
        "outputId": "35a8bd68-4cca-43e3-aa4d-91e7d519c62b"
      },
      "execution_count": null,
      "outputs": [
        {
          "output_type": "stream",
          "name": "stdout",
          "text": [
            "{'a': 1, 'b': 2, 'c': 3}\n",
            "Dicionário modificado:  {'b': 2, 'c': 15, 'd': 4}\n"
          ]
        }
      ]
    },
    {
      "cell_type": "code",
      "source": [
        "# Retornando os pares chave-valor de um dicionário com dict.items()\n",
        "print( dict_aux.items() )\n",
        "\n",
        "# Retornando chaves de um dicionário com dict.keys()\n",
        "print( dict_aux.keys() )\n",
        "\n",
        "# Retornando os valores de um dicionário com dict.values()\n",
        "print( dict_aux.values() )"
      ],
      "metadata": {
        "id": "gzSkCzItakv0",
        "colab": {
          "base_uri": "https://localhost:8080/"
        },
        "outputId": "2581c881-82c4-4355-a429-316a7da2c2f6"
      },
      "execution_count": null,
      "outputs": [
        {
          "output_type": "stream",
          "name": "stdout",
          "text": [
            "dict_items([('b', 2), ('c', 15), ('d', 4)])\n",
            "dict_keys(['b', 'c', 'd'])\n",
            "dict_values([2, 15, 4])\n"
          ]
        }
      ]
    },
    {
      "cell_type": "markdown",
      "source": [
        "**Slicing**\n",
        "- Modo de pegar apenas uma 'fatia' de algo\n",
        "\n",
        "<img src=\"https://images.pexels.com/photos/5848259/pexels-photo-5848259.jpeg?auto=compress&cs=tinysrgb&w=1260&h=750&dpr=1\" width = 30%>\n"
      ],
      "metadata": {
        "id": "9-vlcSnqa9Lw"
      }
    },
    {
      "cell_type": "code",
      "source": [
        "lst_auxiliar = ['a', 'b', 'c', 'd', 'e']\n",
        "\n",
        "# Retornando do segundo elemento em diante\n",
        "lst_auxiliar[1:]"
      ],
      "metadata": {
        "id": "eDJvwWrZbFJa",
        "colab": {
          "base_uri": "https://localhost:8080/"
        },
        "outputId": "995492ea-0de1-41fd-842a-aa4f120ab8e5"
      },
      "execution_count": null,
      "outputs": [
        {
          "output_type": "execute_result",
          "data": {
            "text/plain": [
              "['b', 'c', 'd', 'e']"
            ]
          },
          "metadata": {},
          "execution_count": 83
        }
      ]
    },
    {
      "cell_type": "code",
      "source": [
        "# Retornando do segundo elemento ao quarto\n",
        "lst_auxiliar[1:4]"
      ],
      "metadata": {
        "id": "k1r2j9ITbRkL",
        "colab": {
          "base_uri": "https://localhost:8080/"
        },
        "outputId": "cba1a367-0fc5-4107-eeff-3411f96f47aa"
      },
      "execution_count": null,
      "outputs": [
        {
          "output_type": "execute_result",
          "data": {
            "text/plain": [
              "['b', 'c', 'd']"
            ]
          },
          "metadata": {},
          "execution_count": 84
        }
      ]
    },
    {
      "cell_type": "code",
      "source": [
        "# Acessando os últimos 3 elementos\n",
        "lst_auxiliar[-3:]"
      ],
      "metadata": {
        "id": "88fK4ZahbXVN",
        "colab": {
          "base_uri": "https://localhost:8080/"
        },
        "outputId": "cf6415f0-e5a9-4cf4-bf1c-8acb0249a3bb"
      },
      "execution_count": null,
      "outputs": [
        {
          "output_type": "execute_result",
          "data": {
            "text/plain": [
              "['c', 'd', 'e']"
            ]
          },
          "metadata": {},
          "execution_count": 85
        }
      ]
    },
    {
      "cell_type": "code",
      "source": [
        "# Acessando do segundo penúltimo elemento com lst[1:-1]\n",
        "lst_auxiliar[1:-1]"
      ],
      "metadata": {
        "id": "3OeywJxRbcMG",
        "colab": {
          "base_uri": "https://localhost:8080/"
        },
        "outputId": "d6d9493a-98f7-49da-cf39-5015927d3015"
      },
      "execution_count": null,
      "outputs": [
        {
          "output_type": "execute_result",
          "data": {
            "text/plain": [
              "['b', 'c', 'd']"
            ]
          },
          "metadata": {},
          "execution_count": 86
        }
      ]
    },
    {
      "cell_type": "code",
      "source": [
        "# Fatiando uma string\n",
        "\n",
        "aux = \"Computação\"\n",
        "\n",
        "# Abreviando para Comp\n",
        "aux[:4]"
      ],
      "metadata": {
        "id": "BS7-D8hlbnyl",
        "colab": {
          "base_uri": "https://localhost:8080/",
          "height": 36
        },
        "outputId": "abfecb47-3b38-400a-a856-907aba67650a"
      },
      "execution_count": null,
      "outputs": [
        {
          "output_type": "execute_result",
          "data": {
            "text/plain": [
              "'Comp'"
            ],
            "application/vnd.google.colaboratory.intrinsic+json": {
              "type": "string"
            }
          },
          "metadata": {},
          "execution_count": 87
        }
      ]
    },
    {
      "cell_type": "markdown",
      "source": [
        "## Estruturas de controle"
      ],
      "metadata": {
        "id": "7smri6U7ccAd"
      }
    },
    {
      "cell_type": "markdown",
      "source": [
        "São os comandos responsáveis por controlar a execução de algo, como na maioria das linguagens que conhecemos.\n",
        "\n",
        "Ex.\n",
        "- if: \"se\" algo acontecer faça isso\n",
        "- elif: \" e além disso se\" algo acontecer faça isso\n",
        "- for: \"por tantas vezes\" faça isso\n",
        "- while: \"enquanto\" algo acontecer faça isso\n",
        "\n",
        "<img src=\"https://media.istockphoto.com/photos/question-what-if-handwritten-with-black-marker-picture-id1093311164?s=612x612\" width = 30%>"
      ],
      "metadata": {
        "id": "6tP2lz_xcizY"
      }
    },
    {
      "cell_type": "markdown",
      "source": [
        "Comando if:\n",
        "```python\n",
        "se (condição for verdadeira):\n",
        "  faça X\n",
        "se não caso (...):\n",
        "  faça Y\n",
        "se não ():\n",
        "  faça Z  \n",
        "```\n",
        "Ex."
      ],
      "metadata": {
        "id": "TwYbvLZ_dpem"
      }
    },
    {
      "cell_type": "code",
      "source": [
        "# Comando if\n",
        "\n",
        "a = 2\n",
        "b = 4\n",
        "c = 3\n",
        "\n",
        "if ( b < a ):\n",
        "  print('Deu certo')\n",
        "elif ( b == a):\n",
        "  print('É igual')\n",
        "else:\n",
        "  print('Deu errado')"
      ],
      "metadata": {
        "id": "xk0qwN1odd2s",
        "colab": {
          "base_uri": "https://localhost:8080/"
        },
        "outputId": "5e28cb21-3763-463b-a574-5e20ccc4202f"
      },
      "execution_count": null,
      "outputs": [
        {
          "output_type": "stream",
          "name": "stdout",
          "text": [
            "Deu errado\n"
          ]
        }
      ]
    },
    {
      "cell_type": "code",
      "source": [
        "# Extra: declarando variáveis com uma condição\n",
        "\n",
        "a = 2\n",
        "\n",
        "if a == 2:\n",
        "  valor = 'Verdadeiro'\n",
        "else:\n",
        "  valor = 'Falso'\n",
        "\n",
        "# Equivale a:\n",
        "\n",
        "valor2 = 'Verdadeiro' if a == 3 else 'Falso'\n",
        "\n",
        "print(valor)\n",
        "print(valor2)"
      ],
      "metadata": {
        "id": "yMIc5sqnfGUV",
        "colab": {
          "base_uri": "https://localhost:8080/"
        },
        "outputId": "61264d6c-d9a0-4684-93ed-21cb85437482"
      },
      "execution_count": null,
      "outputs": [
        {
          "output_type": "stream",
          "name": "stdout",
          "text": [
            "Verdadeiro\n",
            "Falso\n"
          ]
        }
      ]
    },
    {
      "cell_type": "markdown",
      "source": [
        "Comando for:\n",
        "```Python\n",
        "para 'cada x' em 'intervalo':\n",
        "  faça isso\n",
        "```\n",
        "\n",
        "<img src=\"https://images.pexels.com/photos/315499/pexels-photo-315499.jpeg?auto=compress&cs=tinysrgb&w=1260&h=750&dpr=1\" width = 40%>"
      ],
      "metadata": {
        "id": "CTexliSXfZAM"
      }
    },
    {
      "cell_type": "code",
      "source": [
        "# Comando for\n",
        "\n",
        "for numero in range(10):\n",
        "  print(f'Looping {numero}:  Hello World')"
      ],
      "metadata": {
        "colab": {
          "base_uri": "https://localhost:8080/"
        },
        "id": "LCnkkuxpfmug",
        "outputId": "2d5f1f47-0018-4027-ca0d-886d79f02fd3"
      },
      "execution_count": null,
      "outputs": [
        {
          "output_type": "stream",
          "name": "stdout",
          "text": [
            "Looping 0:  Hello World\n",
            "Looping 1:  Hello World\n",
            "Looping 2:  Hello World\n",
            "Looping 3:  Hello World\n",
            "Looping 4:  Hello World\n",
            "Looping 5:  Hello World\n",
            "Looping 6:  Hello World\n",
            "Looping 7:  Hello World\n",
            "Looping 8:  Hello World\n",
            "Looping 9:  Hello World\n"
          ]
        }
      ]
    },
    {
      "cell_type": "code",
      "source": [
        "lst_aux = [-60, -50, -40, -30, 10, 20, 50, 80, 90, 100]\n",
        "\n",
        "# Utilizando for em listas para imprimir os valores positivos\n",
        "\n",
        "for valor in lst_aux:\n",
        "  if valor > 0:\n",
        "    print(valor)"
      ],
      "metadata": {
        "id": "BmmkH1K0fzne",
        "colab": {
          "base_uri": "https://localhost:8080/"
        },
        "outputId": "548bdda1-a566-42a4-9359-e6852fd95290"
      },
      "execution_count": null,
      "outputs": [
        {
          "output_type": "stream",
          "name": "stdout",
          "text": [
            "10\n",
            "20\n",
            "50\n",
            "80\n",
            "90\n",
            "100\n"
          ]
        }
      ]
    },
    {
      "cell_type": "markdown",
      "source": [
        "**Exercício**\n",
        "\n",
        "Dada a lista [1, 2, 3, 4, 5, 6, 7, 8, 9, 10], adicione os valores pares em uma nova lista e a imprima.\n",
        "\n",
        "Dica: popule a lista auxiliar com os valores pares utilizando um laço 'for' e '.append()' <br>\n",
        "Dica 2: valores pares são divisíveis por 2"
      ],
      "metadata": {
        "id": "RzWPei0pgYSI"
      }
    },
    {
      "cell_type": "code",
      "source": [
        "lst = [1, 2, 3, 4, 5, 6, 7, 8, 9, 10]\n",
        "lst_aux = []\n",
        "\n",
        "# Resolva\n",
        "for numero in lst:\n",
        "  if (numero % 2 == 0):\n",
        "    lst_aux.append(numero)\n",
        "\n",
        "print(lst_aux)"
      ],
      "metadata": {
        "colab": {
          "base_uri": "https://localhost:8080/"
        },
        "id": "y5JuERtVPl2v",
        "outputId": "d0ba2788-a4d6-42d4-f572-e48a4519d895"
      },
      "execution_count": null,
      "outputs": [
        {
          "output_type": "stream",
          "name": "stdout",
          "text": [
            "[2, 4, 6, 8, 10]\n"
          ]
        }
      ]
    },
    {
      "cell_type": "markdown",
      "source": [
        "**Exercício**\n",
        "\n",
        "Imprima a média da lista [1, 2, 3, 4, 5, 6, 7, 8, 9, 10]\n",
        "\n",
        "Lembrando que:\n",
        "média = Soma dos valores / Quantidade de valores"
      ],
      "metadata": {
        "id": "vnPoOqedksb2"
      }
    },
    {
      "cell_type": "code",
      "source": [
        "lst = [1, 2, 3, 4, 5, 6, 7, 8, 9, 10]\n",
        "\n",
        "# Resolva\n",
        "soma = 0\n",
        "\n",
        "for valor in lst:\n",
        "  soma = soma + valor  # é equivalente soma += valor\n",
        "\n",
        "media = soma / len(lst)\n",
        "media"
      ],
      "metadata": {
        "id": "Dl84ed6sk0J9",
        "colab": {
          "base_uri": "https://localhost:8080/"
        },
        "outputId": "aa1de7c3-f85b-451f-f1a5-c684e8549227"
      },
      "execution_count": null,
      "outputs": [
        {
          "output_type": "execute_result",
          "data": {
            "text/plain": [
              "5.5"
            ]
          },
          "metadata": {},
          "execution_count": 93
        }
      ]
    },
    {
      "cell_type": "markdown",
      "source": [
        "**Exercício**\n",
        "\n",
        "Dada a lista a seguir, imprima somente os nomes que contenham a string 'de'.\n",
        "\n",
        "Dica: utilize o comando in() e uma lista auxiliar vazia para popular com append()"
      ],
      "metadata": {
        "id": "bw1_MisMlXt6"
      }
    },
    {
      "cell_type": "code",
      "source": [
        "# Exemplo de comando in() e not in()\n",
        "print('Jo' in 'Joao')\n",
        "print('Za' in 'Joao')\n",
        "print('Za' not in 'Joao')"
      ],
      "metadata": {
        "colab": {
          "base_uri": "https://localhost:8080/"
        },
        "id": "MWRtIhHQl2k0",
        "outputId": "d494258e-0b8f-4e01-d7fc-d94e10fdb5bf"
      },
      "execution_count": null,
      "outputs": [
        {
          "output_type": "stream",
          "name": "stdout",
          "text": [
            "True\n",
            "False\n",
            "True\n"
          ]
        }
      ]
    },
    {
      "cell_type": "code",
      "source": [
        "lst = ['João de Paula', 'Guimarães de Fernandes', 'Sebastião', 'Dienefer']\n",
        "lst_aux = []\n",
        "\n",
        "# Resolva\n",
        "for nome in lst:\n",
        "  if ' de '.lower() in nome:\n",
        "    lst_aux.append(nome)\n",
        "\n",
        "lst_aux"
      ],
      "metadata": {
        "id": "B-uSlTogmAcs",
        "colab": {
          "base_uri": "https://localhost:8080/"
        },
        "outputId": "3b35b8ec-9b72-47ce-f40e-d46d24b7d0ef"
      },
      "execution_count": null,
      "outputs": [
        {
          "output_type": "execute_result",
          "data": {
            "text/plain": [
              "['João de Paula', 'Guimarães de Fernandes']"
            ]
          },
          "metadata": {},
          "execution_count": 95
        }
      ]
    },
    {
      "cell_type": "markdown",
      "source": [
        "Comando while:\n",
        "```Python\n",
        "enquanto (condição for verdadeira):\n",
        "  faça isso\n",
        "```"
      ],
      "metadata": {
        "id": "wspkGKf6h-4a"
      }
    },
    {
      "cell_type": "markdown",
      "source": [
        "Reparou como basta traduzir os comandos do inglês para entender?"
      ],
      "metadata": {
        "id": "4Z-E4FJeSV54"
      }
    },
    {
      "cell_type": "code",
      "source": [
        "# Exemplo de while\n",
        "\n",
        "aux = 0\n",
        "\n",
        "while aux < 20:\n",
        "  aux += 2\n",
        "  print(aux)"
      ],
      "metadata": {
        "id": "wjQhLKzfiOKF"
      },
      "execution_count": null,
      "outputs": []
    },
    {
      "cell_type": "code",
      "source": [
        "# Extra: laço for em dicionários\n",
        "\n",
        "dict_aux = {'a': 2,\n",
        "            'b': 'João',\n",
        "            'L': 'Luiz'}\n",
        "\n"
      ],
      "metadata": {
        "id": "QFdZ3uD8mh-S"
      },
      "execution_count": null,
      "outputs": []
    },
    {
      "cell_type": "markdown",
      "source": [
        "## Comprehension"
      ],
      "metadata": {
        "id": "iTbp-wDAtxeN"
      }
    },
    {
      "cell_type": "markdown",
      "source": [
        "Comprehension é um recurso que permite criar uma sequência avaliada com base em outra sequência.\n",
        "\n",
        "É uma maneira eficiente de se trabalhar ✅ (melhor em termos de processamento do que utilizar um laço for)"
      ],
      "metadata": {
        "id": "Wo4Tr_Pl7bXa"
      }
    },
    {
      "cell_type": "code",
      "source": [
        "# Exemplo criando uma lista de modo \"convencional\" onde a lista vem de uma outra lista multiplicada por 3\n",
        "\n",
        "lst_1 = [1,2,3,4,5]\n",
        "lst_1_vezes_3 = []\n",
        "\n",
        "for num in lista_1:\n",
        "  lst_1_vezes_3.append( num*3 )\n",
        "\n",
        "print(lst_1_vezes_3)"
      ],
      "metadata": {
        "id": "sN_z28jp71mp"
      },
      "execution_count": null,
      "outputs": []
    },
    {
      "cell_type": "code",
      "source": [
        "# Mesmo exemplo utilizando comprehension\n",
        "\n",
        "lst_1 = [1,2,3,4,5]\n",
        "\n",
        "lst_1_vezes_3_comprehension = \n",
        "\n",
        "print(lst_1_vezes_3_comprehension)"
      ],
      "metadata": {
        "id": "sVXkOrjI8d1d"
      },
      "execution_count": null,
      "outputs": []
    },
    {
      "cell_type": "code",
      "source": [
        "# Utilizando comprehension com \"if\" e \"else\"\n",
        "\n",
        "lista_1 = [1,2,3,4,5]\n",
        "\n",
        "# Retornando o número caso este seja par e retornando \"ímpar\" caso o número seja ímpar\n",
        "\n",
        "lista_par_impar = \n",
        "\n",
        "lista_par_impar"
      ],
      "metadata": {
        "id": "T-PvOOQ99JOW"
      },
      "execution_count": null,
      "outputs": []
    },
    {
      "cell_type": "markdown",
      "source": [
        "**Exercicio**\n",
        "\n",
        "Dada a lista [1,2,3,4,5,6,7,8,9,10]: <Br><Br>\n",
        "Se o elemento for par -> multiplique por 2 e adicione 1 ( n*2 + 1 ) <Br>\n",
        "Se o elemento for ímpar -> multiplique por 2"
      ],
      "metadata": {
        "id": "n745T9wS-173"
      }
    },
    {
      "cell_type": "code",
      "source": [
        "lista = [1,2,3,4,5,6,7,8,9,10]\n",
        "\n",
        "# Resolva\n",
        "\n"
      ],
      "metadata": {
        "id": "fpBIpUNB_X3i"
      },
      "execution_count": null,
      "outputs": []
    },
    {
      "cell_type": "markdown",
      "source": [
        "## Funções"
      ],
      "metadata": {
        "id": "hKaOtMX2Ixtj"
      }
    },
    {
      "cell_type": "markdown",
      "source": [
        "Uma função é uma espécie de \"máquina geradora\".\n",
        "\n",
        "- É definida no python pelo comando **def**\n",
        "\n",
        "Por exemplo, se você colocar laranjas em um espremedor de frutas, ele retornará um Suco.\n",
        "\n",
        "Ou seja, ao colocarmos o **parâmetro** frutas (no caso Laranja) na **função** espremedor, é retornado um **objeto** Suco.\n",
        "\n",
        "Neste caso:\n",
        "- Função: espremedor\n",
        "- Parâmetro: laranjas\n",
        "- Objeto resultado: Suco\n",
        "\n",
        "<img src=\"https://cf.shopee.com.br/file/e8a29d6873abc9e4d196ad2254504e53_tn\" width=30%>"
      ],
      "metadata": {
        "id": "haSIRVgEIzFM"
      }
    },
    {
      "cell_type": "code",
      "source": [
        "# Exemplo\n",
        "\n"
      ],
      "metadata": {
        "id": "IA7RG0M7Ki2H"
      },
      "execution_count": null,
      "outputs": []
    },
    {
      "cell_type": "code",
      "source": [
        "# Podemos deixar valores default para uma função com def func(suco = 'limao')\n"
      ],
      "metadata": {
        "id": "U9vaUUmBLMRK"
      },
      "execution_count": null,
      "outputs": []
    },
    {
      "cell_type": "code",
      "source": [
        "# Passando uma função como parâmetro para outra função\n"
      ],
      "metadata": {
        "id": "d7lc4pEkLtDX"
      },
      "execution_count": null,
      "outputs": []
    },
    {
      "cell_type": "markdown",
      "source": [
        "**Exercício**\n",
        "\n",
        "Faça uma função que recebe como parâmetros um nome de aluno X, sua idade Y e retorne quantos anos faltam para o aluno ter 80 anos.\n",
        "\n",
        "Ex. \"Me chamo Beatriz, tenho 28 anos e faltam 52 anos para que eu tenha 80 anos.\"\n",
        "\n",
        "Caso queira, tente utilizar a função input() para receber os valores, por exemplo:\n",
        "```python\n",
        "idade = int( input(\"Digite a idade: \") )\n",
        "```"
      ],
      "metadata": {
        "id": "XN0Afd2BL32z"
      }
    },
    {
      "cell_type": "code",
      "source": [
        "# Resolva\n",
        "\n"
      ],
      "metadata": {
        "id": "mv5F84W5MMbO"
      },
      "execution_count": null,
      "outputs": []
    },
    {
      "cell_type": "markdown",
      "source": [
        "## Lambda"
      ],
      "metadata": {
        "id": "GtBueta3mRqr"
      }
    },
    {
      "cell_type": "markdown",
      "source": [
        "A função lambda em python também é chamada de função anônima (sem nome) e pode ser escrita no momento de utilização, não sendo necessário escrevê-la anteriormente. <br>\n",
        "Ou seja... você cria a função enquanto a usa!\n",
        "\n",
        "Ex.<br>\n",
        "O seguinte código:\n",
        "```python\n",
        "def soma_dois_numeros(num1, num2):\n",
        "  return num1+num2\n",
        "print( soma_dois_numeros(2,5) )\n",
        ">>>7\n",
        "```\n",
        "Poderia ser escrito da seguinte forma utilizando lambda:\n",
        "```python\n",
        "resultado = lambda num1, num2: num1 + num2\n",
        "print( resultado(2,5) )\n",
        ">>> 7\n",
        "```"
      ],
      "metadata": {
        "id": "NdighGBbmUXd"
      }
    },
    {
      "cell_type": "markdown",
      "source": [
        "<img href=\"https://raw.githubusercontent.com/the-akira/Python-Iluminado/master/Imagens/Lambda.png\" src=\"https://raw.githubusercontent.com/the-akira/Python-Iluminado/master/Imagens/Lambda.png\" width = 50%>\n",
        "\n",
        "*fonte-img-e-consulta: https://pythoniluminado.netlify.app/expressoes-lambda*"
      ],
      "metadata": {
        "id": "MKV1EbyQHpaL"
      }
    },
    {
      "cell_type": "code",
      "source": [
        "# Criando uma função que descreve se o número é positivo ou negativo\n",
        "\n",
        "lst_aux = [10, -2, 4, 0, 3, -2]\n",
        "lst_aux2 = []\n",
        "\n",
        "\n",
        "\n",
        "print(lst_aux2)"
      ],
      "metadata": {
        "id": "TtBLJzL4IDZG"
      },
      "execution_count": null,
      "outputs": []
    },
    {
      "cell_type": "code",
      "source": [
        "# Podemos reescrever o código utilizando a função lambda e comprehension\n",
        "\n",
        "lst_aux = [10,-2,4,0,3,-2]\n",
        "\n",
        "# Função lambda\n",
        "\n",
        "\n",
        "# Aplicando a função para criar uma lista com comprehension\n"
      ],
      "metadata": {
        "id": "WVCnWJOynJKK"
      },
      "execution_count": null,
      "outputs": []
    },
    {
      "cell_type": "code",
      "source": [
        "# Adicionando o caso neutro na função lambda\n",
        "\n",
        "lst_aux = [10,-2,4,0,3,-2]\n",
        "\n"
      ],
      "metadata": {
        "id": "PHD8vJBXovqi"
      },
      "execution_count": null,
      "outputs": []
    },
    {
      "cell_type": "markdown",
      "source": [
        "**Exercício**\n",
        "\n",
        "Geraldo é um rapaz supersticioso e acredita que toda palavra que começa em vogal [a,e,i,o,u] deveria ser escrita em letra maiúscula antes de ser impressa em sua impressora 'amaldiçoada' da década de 1780.\n",
        "\n",
        "Ele está cansado de alterar todos os textos de seus trabalhos, ajude-o automatizando o processo.\n",
        "\n",
        "<img src=\"http://lh4.ggpht.com/-_x9PXMjU0LQ/TmtZaKHESvI/AAAAAAAAB0A/71bjy-376mA/Impressora_thumb%25255B1%25255D.jpg?imgmax=800\" width=30%>\n",
        "\n",
        "Exemplo de entrada:<Br>\n",
        "*'Este ambiente de inovação jamais abrirá as portas para mim se eu não estudar ...'*\n",
        "\n",
        "Exemplo de saída:<Br>\n",
        "*'Este Ambiente de Inovação jamais Abrirá As portas para mim se Eu não Estudar ...'*\n",
        "\n",
        "Dica: utilize a função split!"
      ],
      "metadata": {
        "id": "_8qU3E10pbOe"
      }
    },
    {
      "cell_type": "code",
      "source": [
        "# Exemplo de uso da função split\n",
        "\n",
        "str_split = 'Olá mundo'\n",
        "\n",
        "str_split.split( sep = ' ' )   # separa a string acima após o separador ' ' (espaço)"
      ],
      "metadata": {
        "id": "0TY181gMIgCQ"
      },
      "execution_count": null,
      "outputs": []
    },
    {
      "cell_type": "code",
      "source": [
        "# Exemplo de utilidade da função split\n",
        "\n",
        "str_split = 'Poços de Caldas - MG'\n"
      ],
      "metadata": {
        "id": "_tyKMADy6UC0"
      },
      "execution_count": null,
      "outputs": []
    },
    {
      "cell_type": "code",
      "source": [
        "# Extra: \"Como separo uma frase por uma palavra? Por exemplo,\n",
        "# separar a frase 'olá meu nome é joão' até o \"Olá meu nome\"\n",
        "\n",
        "str_exemplo = 'Olá meu nome é João'\n",
        "\n",
        "str_exemplo.split(sep = 'nome')[0].rstrip()  # pegando a primeira parte da frase separada e retirando o espaço à direita"
      ],
      "metadata": {
        "id": "J_UXzYx6tmlP"
      },
      "execution_count": null,
      "outputs": []
    },
    {
      "cell_type": "code",
      "source": [
        "# Exemplo utilizando função def\n",
        "\n",
        "frase = 'Este ambiente de inovação jamais abrirá as portas para mim se eu não estudar ...'   \n",
        "palavras_da_frase = frase.split( sep = ' ' )        # retorna uma lista com palavras separadas por espaço na frase exemplo\n",
        "lista_auxiliar = []                                 # lista vazia para armazenar as palavras modificadas dentro da função\n",
        "\n",
        "def geraldo_aliviado(lista):\n",
        "  for palavra in lista:\n",
        "    if palavra[0] in 'aeiou':\n",
        "      lista_auxiliar.append( palavra.title() )      # retorna a palavra com a primeira letra maiúscula\n",
        "    else:\n",
        "      lista_auxiliar.append( palavra )\n",
        "\n",
        "geraldo_aliviado(palavras_da_frase)                 # utilizando a função para deixar as vogais iniciais em maiúsculo\n",
        "\n",
        "lista_auxiliar = ' '.join(lista_auxiliar)           # transformando a lista auxiliar em uma única string\n",
        "\n",
        "print(lista_auxiliar)"
      ],
      "metadata": {
        "id": "NKJ5TcjurLjm"
      },
      "execution_count": null,
      "outputs": []
    },
    {
      "cell_type": "code",
      "source": [
        "# Agora resolva utilizando a função lambda e comprehension\n",
        "\n",
        "frase = 'Este ambiente de inovação jamais abrirá as portas para mim se eu não estudar ...'\n",
        "palavras_da_frase = frase.split( sep = ' ' )\n",
        "\n",
        "# Resolva\n"
      ],
      "metadata": {
        "id": "a6gGhrWWqJzb"
      },
      "execution_count": null,
      "outputs": []
    },
    {
      "cell_type": "markdown",
      "source": [
        "## DESAFIO DO DIA\n",
        "\n",
        "Faça uma função que retorne os números primos de 1 a 100"
      ],
      "metadata": {
        "id": "IybNIB0t3woS"
      }
    },
    {
      "cell_type": "code",
      "source": [
        "# Resolva\n",
        "\n"
      ],
      "metadata": {
        "id": "05WLcfFbx2Oo"
      },
      "execution_count": null,
      "outputs": []
    },
    {
      "cell_type": "markdown",
      "source": [
        "## Imports"
      ],
      "metadata": {
        "id": "ALrvcY7UuyFE"
      }
    },
    {
      "cell_type": "markdown",
      "source": [
        "Um dos maiores poderes da linguagem Python! 🥇\n",
        "\n",
        "Um \"import\" nos permite \"trazer\" ao projeto várias funções previamente escritas por outros programadores contendo módulos e bibliotecas.\n",
        "- Semelhante ao `#include <stdio>` ou `#include \"customlib.h\"` na linguagem C\n",
        "\n",
        "<img src='https://live.staticflickr.com/4827/45340089845_845d139556_z.jpg' width=50%>\n",
        "\n",
        "Obs: Um pacote é um conjunto de vários módulos reunidos\n"
      ],
      "metadata": {
        "id": "WkcbGP0OK8BO"
      }
    },
    {
      "cell_type": "code",
      "source": [
        "# Realizando o import do pacote numpy com o comando \"import\"\n",
        "\n",
        "\n",
        "# Realizando o import do modulo pyplot com o comando \"from\" que vem do pacote matplotlib \n",
        "\n",
        "# ou\n"
      ],
      "metadata": {
        "id": "1bqGWHu2L_it"
      },
      "execution_count": null,
      "outputs": []
    },
    {
      "cell_type": "code",
      "source": [
        "# Listando os módulos presentes no numpy com dir(pacote)\n"
      ],
      "metadata": {
        "id": "6KA9QaIHcmo7"
      },
      "execution_count": null,
      "outputs": []
    },
    {
      "cell_type": "markdown",
      "source": [
        "Extra: Qual a diferença entre um pacote e um módulo em Python?\n",
        "\n",
        "\n",
        "\n",
        "> \"Um módulo é um arquivo com a extensão .py contendo um script Python. O pacote é a maneira de manter os nomes desses módulos separados, usando a “notação ponto”, ou seja, <pacote>.<módulo>. Essa notação é usada internamente pelo Python para separar os módulos em “espaços de nomes” diferentes, mas para o sistema operacional, o pacote é apenas o diretório que contém os arquivos .py de cada módulo.\"\n",
        "\n",
        "*fonte: https://vaiprogramar.com/qual-a-diferenca-modulo-pacote-python/*\n",
        "\n",
        "\n",
        "Ou seja...\n",
        "Qualquer arquivo Python pode ser um módulo; um pacote é uma organização lógica de módulos em um dado diretório.\n",
        "O arquivo que transformará o diretório em um pacote se chama **__init__.py**"
      ],
      "metadata": {
        "id": "to2cxSwvNYv-"
      }
    },
    {
      "cell_type": "code",
      "source": [
        "# Importando o pacote numpy e dando um \"apelido\" para ele\n"
      ],
      "metadata": {
        "id": "AKQZR3Y0NLUX"
      },
      "execution_count": null,
      "outputs": []
    },
    {
      "cell_type": "code",
      "source": [
        "# Alguns pacotes famosos e seus apelidos: np, plt, pd, sns\n"
      ],
      "metadata": {
        "id": "LzfN_-9FOnvO"
      },
      "execution_count": null,
      "outputs": []
    },
    {
      "cell_type": "code",
      "source": [
        "# Utilizando o comando ! para acessar o terminal (descomente o código e veja o que acontece)\n",
        "\n",
        "# !pip install numpy"
      ],
      "metadata": {
        "id": "k9n3Ib3BQULe"
      },
      "execution_count": null,
      "outputs": []
    },
    {
      "cell_type": "markdown",
      "source": [
        "## Programação Funcional"
      ],
      "metadata": {
        "id": "rcygOcRxuzjh"
      }
    },
    {
      "cell_type": "markdown",
      "source": [
        "Python conta com um recurso interessante para melhorar a eficiência de se aplicar funções em sequências, chamada de programação funcional.<br>\n",
        "Pode-se acessar essa \"funcional\" pelo comando: <br>\n",
        "`funcao_funcional(funcao_utilizada, sequencia_ou_iterador)`\n",
        "\n",
        "Alguns dos exemplos mais famosos são as funcionais:\n",
        "- map: retorna um objeto do tipo \"map\" do resultado da aplicação da função escolhida para os elementos da sequência\n",
        "- filter: retorna um objeto do tipo \"filter\" com um filtro aplicado (condição verdadeira) para a sequência de elementos\n",
        "- reduce: aplica a função realizando um acumulado dos elementos (diferente das duas acimas, ela necessita ser importada pelo modulo functools)"
      ],
      "metadata": {
        "id": "v0cCraUpdiZ5"
      }
    },
    {
      "cell_type": "markdown",
      "source": [
        "**Funcional map()**"
      ],
      "metadata": {
        "id": "CGJ8krttkwMG"
      }
    },
    {
      "cell_type": "code",
      "source": [
        "# Criando uma lista qualquer\n",
        "lst_auxiliar = [1,2,3,4,5,6,7,8,9,10]\n",
        "\n",
        "# Criando uma função qualquer para ser utilizada\n",
        "def is_par_or_impar(elementos): # retorna se o número é par ou ímpar\n",
        "  if elementos%2 == 0:\n",
        "    return 'Par'\n",
        "  else:\n",
        "    return 'Impar'\n",
        "\n",
        "# Aplicando a função criada na lista auxiliar utilizando o .map(funcao, iterador)\n",
        "\n",
        "lst_modificada = \n",
        "print(lst_modificada)\n",
        "\n",
        "# Porém, o resultado foi um objeto do tipo map; para vermos o resultado precisamos transformá-lo em lista\n",
        "print( lst_modificada )"
      ],
      "metadata": {
        "id": "nfzP5S1jikpk"
      },
      "execution_count": null,
      "outputs": []
    },
    {
      "cell_type": "code",
      "source": [
        "# O mesmo código acima utilizando lambda\n",
        "\n",
        "lst_auxiliar = [1,2,3,4,5,6,7,8,9,10]\n",
        "\n",
        "lst_modificada = \n",
        "print( lst_modificada )"
      ],
      "metadata": {
        "id": "qBY61t4YkJ2e"
      },
      "execution_count": null,
      "outputs": []
    },
    {
      "cell_type": "markdown",
      "source": [
        "**Funcional filter()**"
      ],
      "metadata": {
        "id": "8QbPZtRkkyHC"
      }
    },
    {
      "cell_type": "code",
      "source": [
        "# Filtrando a lista auxiliar para retornar apenas os valores múltiplos de 3\n",
        "\n",
        "lst_auxiliar = [1,2,3,4,5,6,7,8,9,10]\n",
        "\n",
        "lst_modificada = \n",
        "print(lst_modificada)"
      ],
      "metadata": {
        "id": "V2vr5Et9kurc"
      },
      "execution_count": null,
      "outputs": []
    },
    {
      "cell_type": "markdown",
      "source": [
        "**Funcional reduce()**"
      ],
      "metadata": {
        "id": "6PFNTPFTk0rP"
      }
    },
    {
      "cell_type": "code",
      "source": [
        "# Importando a funçao reduce\n",
        "from functools import reduce\n",
        "\n",
        "# Fazendo um acumulado de 0 ao 100\n",
        "\n",
        "lst_auxiliar = list( range(1,101) )  # Obs: o último número não entra, logo a lista vai até 100 e não 101\n",
        "\n",
        "lst_reduzida = \n",
        "\n",
        "print( lst_reduzida ) \n",
        "\n",
        "# Curiosidade: neste exemplo realizamos a soma de Gauss"
      ],
      "metadata": {
        "id": "BHX0SEETltQp"
      },
      "execution_count": null,
      "outputs": []
    },
    {
      "cell_type": "markdown",
      "source": [
        "___\n",
        "\n",
        "**Exercícios funcionais**\n",
        "\n",
        "___"
      ],
      "metadata": {
        "id": "WLMS487Gm4mI"
      }
    },
    {
      "cell_type": "markdown",
      "source": [
        "1) Dada uma lista [1,2,3,4,5,6,7,8,9,10], utilize a funcional **filter** para retornar os números cujo dobro sejam menores que 12.<br>\n",
        "Exemplo:<br>\n",
        "Dado o número 1, seu dobro é 2, logo menor que 12 ✅ <Br>\n",
        "Dado o número 6, seu dobro é 12, logo não é menor que 12 ❌"
      ],
      "metadata": {
        "id": "xc6F6au9nFDJ"
      }
    },
    {
      "cell_type": "code",
      "source": [
        "lst_auxiliar = list( range(1,11) )\n",
        "\n",
        "# Resolva em uma linha\n",
        "lst_filtrada = \n",
        "print(lst_filtrada)"
      ],
      "metadata": {
        "id": "HPr2sZaloAMP"
      },
      "execution_count": null,
      "outputs": []
    },
    {
      "cell_type": "markdown",
      "source": [
        "2) Aplique a função para retirar os espaços laterais de todos os elementos da lista.<br>\n",
        "**Dica**: Utilize a função strip() juntamente da funcional map() e lambda()"
      ],
      "metadata": {
        "id": "kxGzgMmsopAB"
      }
    },
    {
      "cell_type": "code",
      "source": [
        "lst_auxiliar = ['   Matheus Carvalo', 'Janaina Oliveira  ', 'Paulo Cesar', '  Geraldo Osvaldo ']\n",
        "\n",
        "# Resolva em uma linha\n",
        "lst_corrigida_2 = \n",
        "print(lst_corrigida_2)"
      ],
      "metadata": {
        "id": "L_UbptZ-pCfC"
      },
      "execution_count": null,
      "outputs": []
    },
    {
      "cell_type": "markdown",
      "source": [
        "3) Some os números múltiplos de 3 começando em 1 e terminando em 100: [3+6+9+12+...+99].\n",
        "\n",
        "Ex.<br>\n",
        "Entrada: 1,2,3,4,5,6,7,8,9 <br>\n",
        "Saída: 18   --> 3 + 6 + 9  <br>"
      ],
      "metadata": {
        "id": "pMNP7MkDub0k"
      }
    },
    {
      "cell_type": "code",
      "source": [
        "# Resolva em uma linha\n",
        "from functools import reduce\n",
        "lst_aux = list( range(1,101) )\n",
        "\n",
        "lst_soma_3 = \n",
        "print(lst_soma_3)"
      ],
      "metadata": {
        "id": "KTQVX4v-uv5v"
      },
      "execution_count": null,
      "outputs": []
    },
    {
      "cell_type": "markdown",
      "source": [
        "4) Um certo clã do jogo World of Warcraft separava seus líderes colocando a nomenclatura LD ao final do nome.<br>\n",
        "Por exemplo, xXGeraldoXxLD significa que Geraldo é um lider.<br>\n",
        "Seguindo a lógica, OsvaldoHunter significa que o membro não é um líder.<br>\n",
        "Acontece que para o ano de 2022, o clã resolveu atualizar a nomenclatura de líder para futuramente incluir mais cargos, trocando a nomenclatura de 'LD' para 'LDG'.\n",
        "\n",
        "**Ajude a guilda** acrescentando a letra \"G\" ao final do nome dos atuais líderes e separando-os em uma nova lista\n",
        "\n",
        "Obs: **todo o código deve estar em uma linha**\n",
        "\n",
        "**Ex**: <br>\n",
        "Membros: GeraldoLD, Leandro, JanainaxxD, CaioLD <br>\n",
        "Lista resultado: GeraldoLDG, CaioLDG <Br>\n",
        "\n",
        "<img src=\"https://www.joyscribe.com/wp-content/uploads/2018/01/GAA.jpg\" width=50%>"
      ],
      "metadata": {
        "id": "IO5R9AG0pk8s"
      }
    },
    {
      "cell_type": "code",
      "source": [
        "membros = ['xXGeraldoXxLD', 'OsvaldoHunter', 'RichardGaviao', 'SilenceLD', 'Apocalyptico', 'LeeroyLD', 'Wakanda']\n",
        "\n",
        "# Resolva em UMA linha\n",
        "lst_atualizada = \n",
        "print(lst_atualizada)"
      ],
      "metadata": {
        "id": "z47_S-QCrIow"
      },
      "execution_count": null,
      "outputs": []
    },
    {
      "cell_type": "markdown",
      "source": [
        "## Trabalhando com arquivos"
      ],
      "metadata": {
        "id": "wO2Y9MhJu3OW"
      }
    },
    {
      "cell_type": "markdown",
      "source": [
        "Criando um arquivo mágico para efeitos didáticos no Google Colab: <br>\n",
        "Tudo que for escrito após o comando `%%writefile (nome do arquivo)` será salvo em um arquivo criado no notebook (ver aba \"arquivos\" à esquerda).\n"
      ],
      "metadata": {
        "id": "8k36S_1NyrjI"
      }
    },
    {
      "cell_type": "code",
      "source": [
        "\n",
        "\n"
      ],
      "metadata": {
        "id": "ib32w3sky2Pt"
      },
      "execution_count": null,
      "outputs": []
    },
    {
      "cell_type": "markdown",
      "source": [
        "**Abertura** <Br>\n",
        "Ao tratarmos da abertura do arquivo, deveremos passar o parâmetro de permissão de abertura, sendo eles:\n",
        "\n",
        "- r: read (leitura)\n",
        "- w: write (escrita)\n",
        "- r+: leitura e escrita\n",
        "- a: faz um append à um arquivo existente\n",
        "\n",
        "Fazemos isso, por exemplo, para que não tenhamos o risco de alterar um arquivo ou darmos permissão para alguém alterar sem consentimento. "
      ],
      "metadata": {
        "id": "YaXBAhTxzVhQ"
      }
    },
    {
      "cell_type": "code",
      "source": [
        "# LENDO o arquivo criado com open()\n",
        "\n",
        "\n",
        "\n",
        "\n"
      ],
      "metadata": {
        "id": "zoGhWw1E0A8X"
      },
      "execution_count": null,
      "outputs": []
    },
    {
      "cell_type": "markdown",
      "source": [
        "Outros comandos úteis além do readlines()\n",
        "- readline(): lê uma linha específica\n",
        "- read(): Lê N bytes do arquivo"
      ],
      "metadata": {
        "id": "j70Lybjv02JL"
      }
    },
    {
      "cell_type": "code",
      "source": [
        "# Utilizando a forma mais comum de leitura em Python com o comando \"with\"\n",
        "\n",
        "\n"
      ],
      "metadata": {
        "id": "PhmoF1Nv1HMM"
      },
      "execution_count": null,
      "outputs": []
    },
    {
      "cell_type": "markdown",
      "source": [
        "**Escrita**"
      ],
      "metadata": {
        "id": "Cpdilp5_1uiO"
      }
    },
    {
      "cell_type": "code",
      "source": [
        "# ESCREVENDO a lista em um novo arquivo (repare no diretório após rodar o código)\n",
        "\n",
        "lst_palavras = ['amora ', 'abacate ', 'limao ']\n",
        "\n",
        "\n",
        "\n",
        "\n",
        "\n",
        "\n"
      ],
      "metadata": {
        "id": "8XTnSlwt15Up"
      },
      "execution_count": null,
      "outputs": []
    },
    {
      "cell_type": "code",
      "source": [
        "# Colocando uma nova fruta no arquivo anterior utilizando o f.write('mensagem') e parâmetro 'a'\n",
        "\n",
        "\n",
        "\n",
        "\n",
        "\n"
      ],
      "metadata": {
        "id": "c_Gf9rYl1wQy"
      },
      "execution_count": null,
      "outputs": []
    },
    {
      "cell_type": "markdown",
      "source": [
        "## Classes e objetos"
      ],
      "metadata": {
        "id": "TTFV7EaGu7Yl"
      }
    },
    {
      "cell_type": "markdown",
      "source": [
        "Um objeto conterá informações salvas nos **atributos** e poderá ser manifestado através de **funções**\n",
        "\n",
        "Resumo de classe:\n",
        "- é uma representação do mundo real, ou seja, um protótipo\n",
        "- uma boa prática é declará-la com a primeira letra em maiúsculo seguindo o estilo CamelCase\n",
        "- criada através do comando `class`\n",
        "- pode **herdar** características de uma outra superclasse\n",
        "\n",
        "Declarando uma classe:\n",
        "```python\n",
        "class Aluno():\n",
        "  # atributos\n",
        "  # construtores\n",
        "  # métodos\n",
        "```\n",
        "Onde:<br>\n",
        "Atributos:\n",
        "- Representa as características da classe\n",
        "- Caso seja um atributo de classe, funciona como uma variável no escopo de outras instâncias da classe\n",
        "- Caso seja um atributo de uma instância, funciona como uma variável local para a instância que o criou\n",
        "\n",
        "Métodos:\n",
        "- Representa o comportamento de uma classe\n",
        "\n",
        "Construtor da classe:\n",
        "- Utiliza-se o método `__init__`<br>\n",
        "Ex. <br>\n",
        "```python\n",
        "class Aluno:\n",
        "    def __init__(self, nome, sexo, idade, curso):  #self é obrigatório para se distinguir um método de classe\n",
        "        self.nome = nome\n",
        "        self.sexo = sexo\n",
        "        self.idade = idade\n",
        "        self.curso = curso\n",
        "```\n",
        "\n"
      ],
      "metadata": {
        "id": "cdbtaeV6nkvV"
      }
    },
    {
      "cell_type": "markdown",
      "source": [
        "Uma classe 'carro' pode gerar diversos objetos 'veículos' diferentes\n",
        "\n",
        "<img href=\"https://www.alura.com.br/artigos/assets/poo-programacao-orientada-a-objetos/class-analogy.png\" src=\"https://www.alura.com.br/artigos/assets/poo-programacao-orientada-a-objetos/class-analogy.png\" width=50%>\n",
        "\n",
        "*fonte-img: https://www.alura.com.br/artigos/assets/poo-programacao-orientada-a-objetos/class-analogy.png*"
      ],
      "metadata": {
        "id": "rck4is3ZQ0X9"
      }
    },
    {
      "cell_type": "code",
      "source": [
        "# Criando a class Aluno na prática\n",
        "\n",
        "class Aluno:\n",
        "  def __init__(self, nome, sexo, idade, curso):\n",
        "      self.nome = nome\n",
        "      self.sexo = sexo\n",
        "      self.idade = idade\n",
        "      self.curso = curso\n",
        "  \n",
        "  def altera_idade(self, idade):\n",
        "    self.idade = idade\n",
        "    print('Idade alterada!')\n",
        "\n",
        "  def __str__(self):\n",
        "    return('Nome: '+str(self.nome)+'\\n'\n",
        "           'Sexo: '+str(self.sexo)+'\\n'\n",
        "           'Idade: '+str(self.idade)+'\\n'\n",
        "           'Curso: '+str(self.curso))\n",
        "\n",
        "if __name__ == \"__main__\":                          # verifica se o programa está sendo executado por si só, ref. extra: https://www.alura.com.br/artigos/o-que-significa-if-name-main-no-python\n",
        "    aluno1 = Aluno(\"Geraldo\", \"Masculino\", \"31\", \"Computação\")\n",
        "    aluno1.altera_idade(32)\n",
        "\n",
        "print(aluno1)"
      ],
      "metadata": {
        "id": "-jSVe5ivnnRq"
      },
      "execution_count": null,
      "outputs": []
    },
    {
      "cell_type": "markdown",
      "source": [
        "Lembrando que esta foi uma abordagem rápida sobre orientação a objetos por não ser o escopo da semana de seminários. <br>\n",
        "Recomendo a leitura sobre escopos Public, Private e Protected para melhorar a segurança do código.\n",
        "\n",
        "leitura extra: https://www.treinaweb.com.br/blog/orientacao-a-objetos-em-python"
      ],
      "metadata": {
        "id": "z9Yi_IHknodS"
      }
    },
    {
      "cell_type": "markdown",
      "source": [
        "# PARTE 02"
      ],
      "metadata": {
        "id": "G8-oINOzp3py"
      }
    },
    {
      "cell_type": "markdown",
      "source": [
        "## **Numpy**"
      ],
      "metadata": {
        "id": "INKYBYPFqFNO"
      }
    },
    {
      "cell_type": "markdown",
      "source": [
        "Numpy é um importante pacote da linguagem Python para operações matriciais onde as classes são escritas em sua maior em **LINGUAGEM C**, garantindo um processamento mais rápido. ✅\n",
        "\n",
        "Curiosidade: O nome Numpy vem de \"Python Numérico\" e é amplamente utilizado pela comunidade para se trabalhar com arrays, podendo aplicar funções matemáticas sem a necessidade de laços e até mesmo aplicar funções como transformadas de Fourier!\n",
        "\n",
        "Site de consulta numpy: https://numpy.org/"
      ],
      "metadata": {
        "id": "CEwjLW6DqG75"
      }
    },
    {
      "cell_type": "code",
      "source": [
        "# Realizando a importação do pacote numpy\n"
      ],
      "metadata": {
        "id": "AJD9uU7Xqjdp"
      },
      "execution_count": null,
      "outputs": []
    },
    {
      "cell_type": "markdown",
      "source": [
        "Um dos motivos de sua eficiência é que sua estrutura de dados se baseia em **arrays**.\n",
        "\n",
        "O que são arrays?\n",
        "- Semelhante a sequência de lista, porém de tipo único (apenas int ou float para todos os elementos)\n",
        "- Cada dimensão é chamada de eixo\n",
        "  - Um array com 1 linha e 2 colunas possui as dimensões linha e coluna.\n",
        "  - Um array multidimensional poderia apresentar um eixo Z (...)\n",
        "  - Arrays são estruturas que são armazenas com indexação, ou seja, podemos encontrar o dados através de um index (código)"
      ],
      "metadata": {
        "id": "3-2U0WSnq6oT"
      }
    },
    {
      "cell_type": "code",
      "source": [
        "# Criando arrays através dos métodos numpy\n",
        "\n",
        "# Método 1: np.zeros((quantidade))\n",
        "array1 = \n",
        "print(array1)\n",
        "\n",
        "# Método 2: np.ones((quantidade))\n",
        "\n",
        "# Método 3: np.linspace(inicio, fim, intervalo)\n",
        "\n",
        "\n",
        "# Método 4: np.arange(quantidade)\n",
        "\n"
      ],
      "metadata": {
        "id": "p7sveCxWr12h"
      },
      "execution_count": null,
      "outputs": []
    },
    {
      "cell_type": "code",
      "source": [
        "# Convertendo uma lista para um numpy array com o np.array(lista)\n",
        "\n",
        "lst_auxiliar = [1,2,3,4,5]\n",
        "\n"
      ],
      "metadata": {
        "id": "spPQ5D7lsvGl"
      },
      "execution_count": null,
      "outputs": []
    },
    {
      "cell_type": "code",
      "source": [
        "# Transformando uma lista em numpy pelo range()\n",
        "\n",
        "   # lista de 1 a 9 pulando de 2 em 2"
      ],
      "metadata": {
        "id": "sPlItoEmyggJ"
      },
      "execution_count": null,
      "outputs": []
    },
    {
      "cell_type": "code",
      "source": [
        "# Arrays bidimensionais (mais usado)\n",
        "\n",
        "arr_zeros =  # matriz 5 (linhas) por 4 (colunas)\n",
        "arr_zeros"
      ],
      "metadata": {
        "id": "c_y0l2IhtFKE"
      },
      "execution_count": null,
      "outputs": []
    },
    {
      "cell_type": "code",
      "source": [
        "# Criando um array bidimensional utilizando o np.arange().reshape(())\n",
        "\n",
        "arr_aux = \n",
        "arr_aux"
      ],
      "metadata": {
        "id": "1xp8PQ6ftddf"
      },
      "execution_count": null,
      "outputs": []
    },
    {
      "cell_type": "markdown",
      "source": [
        "Podemos utilizar alguns métodos para realizar consultas no array, como os que se encontram em: https://numpy.org/doc/stable/reference/generated/numpy.ndarray.html"
      ],
      "metadata": {
        "id": "7vU_2d05uMw3"
      }
    },
    {
      "cell_type": "code",
      "source": [
        "# Ex. procurando quantas dimensões tem o array com nome_array.ndim\n",
        "\n",
        "arr_zeros = \n",
        "\n",
        " # ndim = 'number of dimensions'"
      ],
      "metadata": {
        "id": "_fFkOmint4ow"
      },
      "execution_count": null,
      "outputs": []
    },
    {
      "cell_type": "code",
      "source": [
        "# Procurando o parâmetro .mean() no site do numpy\n",
        "# https://numpy.org/doc/stable/reference/generated/numpy.mean.html\n",
        "\n",
        "array_aux = np.arange(10)\n",
        "\n",
        "  # calculando a média do array"
      ],
      "metadata": {
        "id": "E-9GBN8MuyKq"
      },
      "execution_count": null,
      "outputs": []
    },
    {
      "cell_type": "code",
      "source": [
        "# Acessando elementos de um array\n",
        "\n",
        "array_aux = np.arange(20).reshape(5,4)\n",
        "\n",
        "print('array')\n",
        "print(array_aux)\n",
        "print('-'*80)\n",
        "\n",
        "# Acessando a primeira linha pelo índice array[0]\n",
        "print('array[0]')\n",
        "print()\n",
        "print('-'*80)\n",
        "\n",
        "# Acessando o elemento da linha 4 e coluna 3 com array[3,2]\n",
        "print('array[3,2]')\n",
        "print()"
      ],
      "metadata": {
        "id": "iE4kMJESvJKr"
      },
      "execution_count": null,
      "outputs": []
    },
    {
      "cell_type": "code",
      "source": [
        "# Percorrendo um array com o enumerate (\"enumera\" a iteração)\n",
        "# Extra: videoaula sobre enumerate (Hashtag Programação): https://www.youtube.com/watch?v=5IysC0Yjrrg&t=3s\n",
        "\n",
        "array_aux = np.arange(20).reshape(5,4)\n",
        "\n"
      ],
      "metadata": {
        "id": "cVh53Hu4yi3o"
      },
      "execution_count": null,
      "outputs": []
    },
    {
      "cell_type": "code",
      "source": [
        "# Laço aninhado para percorrer linha e coluna e retornar o elemento\n",
        "\n",
        "array_aux =  # criando um array aleatório com 20 (5x4) valores inteiros que variam de 0 a 10\n",
        "\n"
      ],
      "metadata": {
        "id": "gy1LK7tg0Q7B"
      },
      "execution_count": null,
      "outputs": []
    },
    {
      "cell_type": "code",
      "source": [
        "# Deixando um array flat com array.flat\n",
        "\n",
        "array_aux = np.ones((3,4))\n",
        "\n",
        "print(f'Array antes do flat:\\n {array_aux}')\n",
        "print('-'*40)\n",
        "print(f'Array depois do flat: {}')\n",
        "\n",
        "# Precisamos transformar o array.flat em uma lista para entender o que aconteceu\n"
      ],
      "metadata": {
        "id": "nbUPTqTm2C6c"
      },
      "execution_count": null,
      "outputs": []
    },
    {
      "cell_type": "markdown",
      "source": [
        "Percorrendo arrays criando **VIEWS** com **slicing**\n",
        "- Melhor eficiência do que o laço for ✅\n",
        "- Semelhante às sequências\n",
        "- Utilizamos uma vírgula para separar as dimensões\n",
        "  - ex. Em um array de 2 dimensões com 3 linhas e 4 colunas:\n",
        "  - `nome_array[:,:]` (lendo tudo)\n",
        "  - `nome_array[0:2,0:3]` (lendo as 3 primeiras linhas e 4 primeiras colunas)"
      ],
      "metadata": {
        "id": "w2UtG8oE3DSM"
      }
    },
    {
      "cell_type": "code",
      "source": [
        "# Criando um array qualquer\n",
        "\n",
        "array_aux = np.random.randint(0,5,20,int).reshape(4,5)\n",
        "array_aux"
      ],
      "metadata": {
        "id": "evgcUCqC3gdo"
      },
      "execution_count": null,
      "outputs": []
    },
    {
      "cell_type": "code",
      "source": [
        "# Percorrendo as linhas com array[linha,:]\n",
        "# Repare que se não for passado o argumento ':' ele pegará a linha toda\n",
        "\n",
        "# Buscando a terceira linha\n",
        "\n"
      ],
      "metadata": {
        "id": "Q3FJnHtK4ON8"
      },
      "execution_count": null,
      "outputs": []
    },
    {
      "cell_type": "code",
      "source": [
        "# Percorrendo as linhas com array[:,coluna]\n",
        "# Repare que se não for passado o argumento ':' ele pegará a coluna toda\n",
        "\n",
        "# Buscando a quinta coluna\n",
        "\n",
        "array_aux[:,4]"
      ],
      "metadata": {
        "id": "lMtgGOEv4hBY"
      },
      "execution_count": null,
      "outputs": []
    },
    {
      "cell_type": "code",
      "source": [
        "# Escolhendo a partir de qual linha começar e quais colunas pegar\n",
        "\n",
        "# Começando da linha 3 e pegando as 2 últimas colunas\n",
        "\n"
      ],
      "metadata": {
        "id": "jDy9ulMR4y-A"
      },
      "execution_count": null,
      "outputs": []
    },
    {
      "cell_type": "code",
      "source": [
        "# Recuperando as colunas 1, 3 e 4 a partir da segunda linha\n",
        "\n"
      ],
      "metadata": {
        "id": "oiEtuNGJ5ZwE"
      },
      "execution_count": null,
      "outputs": []
    },
    {
      "cell_type": "code",
      "source": [
        "# Porém... se passarmos 2 listas com array[ [lista_linhas], [lista_colunas] ] ... recuperamos 2 elementos que dão match com a coordenada\n",
        "\n",
        "array_aux[ [1,2], [2,3] ]"
      ],
      "metadata": {
        "id": "7CHnrxyj5ywN"
      },
      "execution_count": null,
      "outputs": []
    },
    {
      "cell_type": "markdown",
      "source": [
        "**Exercícios de fixação**"
      ],
      "metadata": {
        "id": "ojMZYABf5UNK"
      }
    },
    {
      "cell_type": "markdown",
      "source": [
        "Dado o array a seguir, faça o que se pede"
      ],
      "metadata": {
        "id": "RUGGtJx-6Mon"
      }
    },
    {
      "cell_type": "code",
      "source": [
        "# Array dado\n",
        "\n",
        "array_aux = np.random.randint(0,5,20,int).reshape(4,5)\n",
        "array_aux"
      ],
      "metadata": {
        "id": "njfHnrk-8wmW"
      },
      "execution_count": null,
      "outputs": []
    },
    {
      "cell_type": "code",
      "source": [
        "# Retorne as colunas 1, 3 e 4\n"
      ],
      "metadata": {
        "id": "0fi8VX_S8Uwp"
      },
      "execution_count": null,
      "outputs": []
    },
    {
      "cell_type": "code",
      "source": [
        "# Retorne as linhas 3 e 4\n"
      ],
      "metadata": {
        "id": "lR3-uICa875M"
      },
      "execution_count": null,
      "outputs": []
    },
    {
      "cell_type": "code",
      "source": [
        "# Retorne a partir da coluna 3 e a partir da linha 2\n"
      ],
      "metadata": {
        "id": "2jb1HpOL8-Yt"
      },
      "execution_count": null,
      "outputs": []
    },
    {
      "cell_type": "code",
      "source": [
        "# Retorne a primeira e última linha das 2 últimas colunas\n"
      ],
      "metadata": {
        "id": "6tWinL3N9H4V"
      },
      "execution_count": null,
      "outputs": []
    },
    {
      "cell_type": "code",
      "source": [
        "# Retorne o elemento da primeira linha e primeira coluna e o elemento da segunda linha e quarta coluna\n"
      ],
      "metadata": {
        "id": "yxPSJR0I9UF2"
      },
      "execution_count": null,
      "outputs": []
    },
    {
      "cell_type": "markdown",
      "source": [
        " Métodos Ravel e Flatten"
      ],
      "metadata": {
        "id": "lHf-EfIS9qlL"
      }
    },
    {
      "cell_type": "code",
      "source": [
        "# Utilizando o ravel para transformar um array bidimensional em um array unidimensional com o array.ravel()\n",
        "\n",
        "array_aux = np.arange(12).reshape(4,3)\n"
      ],
      "metadata": {
        "id": "_vnmPSij9tL2"
      },
      "execution_count": null,
      "outputs": []
    },
    {
      "cell_type": "code",
      "source": [
        "# Utilizando o flatten para transformar um array bidimensional em um array unidimensional com o array.flatten()\n",
        "\n",
        "array_aux = np.arange(12).reshape(4,3)\n"
      ],
      "metadata": {
        "id": "3TAKtgYR-PkW"
      },
      "execution_count": null,
      "outputs": []
    },
    {
      "cell_type": "markdown",
      "source": [
        "Qual a diferença então?\n",
        "- O método ravel cria uma VIEW! (altera o array original)\n",
        "- O método flatten cria uma cópia! (não altera o array original)"
      ],
      "metadata": {
        "id": "U9dm5m2g-oMG"
      }
    },
    {
      "cell_type": "code",
      "source": [
        "# Veriricando a VIEW com ravel()\n",
        "\n",
        "array_original = np.arange(12).reshape(4,3)\n",
        "print(f'Array original\\n: {array_original}')\n",
        "print('-'*40)\n",
        "\n",
        "array_ravel = array_original.ravel()\n",
        "\n",
        "print(f'Array ravel antes da alteração\\n: {array_ravel}')\n",
        "\n",
        "print('-'*40)\n",
        "\n",
        "# alterando um valor no array ravel\n",
        "array_ravel[0] = \n",
        "print(f'Array ravel depois da alteração\\n: {array_ravel}')\n",
        "\n",
        "print('-'*40)\n",
        "\n",
        "# verificando se o array ravel modificou o array original\n",
        "print(f'Array original\\n: {array_original}')"
      ],
      "metadata": {
        "id": "3Z4z-B-0-wN7"
      },
      "execution_count": null,
      "outputs": []
    },
    {
      "cell_type": "code",
      "source": [
        "# Verificando a cópia com flatten()\n",
        "\n",
        "array_original = np.arange(12).reshape(4,3)\n",
        "print(f'Array original\\n: {array_original}')\n",
        "print('-'*40)\n",
        "\n",
        "array_flatten = array_original.flatten()\n",
        "\n",
        "print(f'Array flatten antes da alteração\\n: {array_flatten}')\n",
        "print('-'*40)\n",
        "\n",
        "# alterando um valor no array ravel\n",
        "array_flatten[0] = \n",
        "print(f'Array flatten depois da alteração\\n: {array_flatten}')\n",
        "print('-'*40)\n",
        "\n",
        "# verificando se o array ravel modificou o array original\n",
        "print(f'Array original\\n: {array_original}')"
      ],
      "metadata": {
        "id": "0nWU3G6c_uuo"
      },
      "execution_count": null,
      "outputs": []
    },
    {
      "cell_type": "markdown",
      "source": [
        "Extra: Matriz transposta"
      ],
      "metadata": {
        "id": "CF-k0PWfAHsh"
      }
    },
    {
      "cell_type": "code",
      "source": [
        "# Dada a matriz a seguir\n",
        "matriz_aux = np.arange(15).reshape(3,5)\n",
        "print( matriz_aux )\n",
        "print('-'*80)\n",
        "\n",
        "# Sua transposta será dada por matriz.T\n",
        "transposta = \n",
        "print(transposta)"
      ],
      "metadata": {
        "id": "ttan5SFFAKIk"
      },
      "execution_count": null,
      "outputs": []
    },
    {
      "cell_type": "markdown",
      "source": [
        "**Exercício**\n",
        "\n",
        "Dado o array a seguir, escreve um código que encontre a mediana de um array de TAMANHO ÍMPAR (sem usar funções prontas)\n",
        "\n",
        "Dica: use o método sorted() e len()"
      ],
      "metadata": {
        "id": "ECDE0G5OsYDB"
      }
    },
    {
      "cell_type": "code",
      "source": [
        "array_aux = np.random.randint(1,10, 15, int)\n",
        "print(array_aux)\n",
        "\n",
        "# Resolva\n"
      ],
      "metadata": {
        "id": "ZZmhZwQvssAJ"
      },
      "execution_count": null,
      "outputs": []
    },
    {
      "cell_type": "markdown",
      "source": [
        "Extra: procurando o erro no código pelo Google Colab usando alt+f8"
      ],
      "metadata": {
        "id": "ttX6rYH2qE8M"
      }
    },
    {
      "cell_type": "code",
      "source": [
        "# Procurando o erro no código\n",
        "\n",
        "aux = [1,2,3,4,5]\n",
        "\n",
        "aux.harmonic_mean()\n",
        "\n",
        "print('Texto aleatorio')"
      ],
      "metadata": {
        "id": "3MT8uxRNqG6H"
      },
      "execution_count": null,
      "outputs": []
    },
    {
      "cell_type": "markdown",
      "source": [
        "## **Máscaras Booleanas**\n",
        "- Importante❗"
      ],
      "metadata": {
        "id": "WZBsbfpFleWn"
      }
    },
    {
      "cell_type": "code",
      "source": [
        "# 1º: Reforçando operações Booleanas\n",
        "\n",
        "A = 2\n",
        "B = 5\n",
        "C = 6\n",
        "\n",
        "# A é maior que B? Não\n",
        "print('A>B:', A>B)\n",
        "# A é menor que B? Sim\n",
        "print('A<B:', A<B)\n",
        "# A é menor que B e menor que C? Sim\n",
        "print('(A<B) & (A<C):', (A<B) & (A<C))\n",
        "# A é menor que B e maior que C? Não\n",
        "print('(A<B) & (A>C):', (A<B) & (A>C))\n",
        "# A é maior que B ou A é menor que C? Sim\n",
        "print('(A>B) | (A<C):', (A>B) | (A<C))\n",
        "# Outra forma é escrever 'e' como 'and' e 'ou' como 'or'  => Não recomendo\n",
        "print('(A>B) and (A<C):', (A>B) and (A<C))\n",
        "print('(A>B) or (A<C):', (A>B) or (A<C))"
      ],
      "metadata": {
        "id": "uEg7Gb55lwzf"
      },
      "execution_count": null,
      "outputs": []
    },
    {
      "cell_type": "code",
      "source": [
        "# Criando um array com valores de 1 a 50\n",
        "\n",
        "array_50 = np.arange(51)\n",
        "print('Array exemplo:\\n', array_50)\n",
        "print('-'*80)\n",
        "print('Resultado da transformação:\\n')\n",
        "\n",
        "# Vamos filtrar os valores multiplos de 5 com uma máscara!\n",
        "\n",
        "\n",
        "# Como uma condição acontece quando o valor é verdadeiro então vamos passar o valor com array[ mask ]\n",
        "\n",
        "\n",
        "\n",
        "# Vamos trocar esses elementos múltiplos de 5 por 888 com array[ mask ] = 888\n",
        "\n"
      ],
      "metadata": {
        "id": "zlKQGoKxqJf1"
      },
      "execution_count": null,
      "outputs": []
    },
    {
      "cell_type": "markdown",
      "source": [
        "Exercício\n",
        "\n",
        "Em uma base de dado de alguns alunos há notas negativas. Mas ninguém consegue tirar uma nova negativa (certo?!). <br>\n",
        "Sendo assim, quando encontrar um valor negativo no array (unidimensional), altere o valor para que ele se torne positivo.\n",
        "\n",
        "Ex. de entrada:\n",
        "> 10, 5, -4, 10, 9 <br>\n",
        "\n",
        "Ex. de saída <br>\n",
        "> 10, 5, 4, 10, 9<br>\n",
        "\n",
        "<img src = \"https://conteudo.imguol.com.br/c/noticias/e6/2015/09/14/alunos-de-exatas-fazem-piada-com-a-rotina-de-estudos-nas-redes-sociais-1442243660716_300x300.jpg.webp\" width=30%>"
      ],
      "metadata": {
        "id": "1sD018JJw98u"
      }
    },
    {
      "cell_type": "code",
      "source": [
        "notas = np.array( [10, 5, 3, -3, 6, 8, 10, -6, 0] )\n",
        "\n",
        "# Resolva\n"
      ],
      "metadata": {
        "id": "4J03J3NhyMsU"
      },
      "execution_count": null,
      "outputs": []
    },
    {
      "cell_type": "markdown",
      "source": [
        "## Desafio\n",
        "\n",
        "Escreva um código que recebe 2 parâmetros (2 colunas) e devolve uma nova matriz com as colunas invertidas.\n",
        "(Envie o resultado caso deseje uma correção)\n",
        "\n",
        "Por exemplo\n",
        "\n",
        "\n",
        "```\n",
        "matriz  =\n",
        "[1, 2, 3]\n",
        "[4, 5, 6]\n",
        "\n",
        "ao aplicarmos a função troca_coluna(0,2), temos o resultado:\n",
        "[3, 2, 1]\n",
        "[6, 5, 4]\n",
        "```\n",
        "\n"
      ],
      "metadata": {
        "id": "5udrip6R1LpR"
      }
    },
    {
      "cell_type": "markdown",
      "source": [
        "## **Broadcast**\n",
        "\n",
        "Um método para tentar aumentar a eficiência de cálculos de matrizes ao fazer uma \"transmissão\" do vetor de menor tamanho para o de maior tamanho. Com isso, conseguimos fazer soma entre dois arrays e outras operações aritméticas calculando elemento a elemento.\n",
        "\n",
        "Vamos tentar entender na prática ⏭\n"
      ],
      "metadata": {
        "id": "mm_xu2UA26BN"
      }
    },
    {
      "cell_type": "code",
      "source": [
        "# Como multiplicar um array por 2\n",
        "\n",
        "array_aux = np.arange(12).reshape(4,3)\n",
        "\n",
        "print('Array antes da multiplicação:\\n', array_aux)\n",
        "\n",
        "multiplicador = 2\n",
        "\n",
        "print('\\nArray após a multiplicação:\\n', array_aux * multiplicador)"
      ],
      "metadata": {
        "id": "t8UGm_db3bBx"
      },
      "execution_count": null,
      "outputs": []
    },
    {
      "cell_type": "markdown",
      "source": [
        "O que aconteceu?\n",
        "Replicamos o valor 2 para uma matriz de mesmo tamanho do array original e então multiplicamos elemento a elemento.\n",
        "\n",
        "<img src=\"https://www.astroml.org/_images/fig_broadcast_visual_1.png\" width =50%>\n",
        "\n",
        "*fonte: https://www.astroml.org/_images/fig_broadcast_visual_1.png*"
      ],
      "metadata": {
        "id": "IpddvO3Z4OS-"
      }
    },
    {
      "cell_type": "code",
      "source": [
        "# Forçando um broadcast NA LINHA para criar um novo array a partir de outro existente\n",
        "\n",
        "# 1º: Criamos o esqueleto\n",
        "esqueleto = np.ones((4,4))  # matriz de 1's de 4 linhas e 4 colunas\n",
        "print('Array \"esqueleto\":\\n ')\n",
        "print(esqueleto)\n",
        "print('-'*80)\n",
        "\n",
        "# 2º: Criamos o array ao qual faremos um broadcasting\n",
        "esqueleto[:] = \n",
        "print('Array após o broadcasting:\\n')\n",
        "print(esqueleto)"
      ],
      "metadata": {
        "id": "hAur4cJmF-0p"
      },
      "execution_count": null,
      "outputs": []
    },
    {
      "cell_type": "code",
      "source": [
        "# Realizando o mesmo broadcasting para COLUNA\n",
        "\n",
        "# 1º: Criamos o esqueleto\n",
        "esqueleto = np.ones((4,4))\n",
        "print('Array \"esqueleto\":\\n ')\n",
        "print(esqueleto)\n",
        "print('-'*80)\n",
        "\n",
        "# 2º: Criamos o array ao qual faremos um broadcasting\n",
        "esqueleto[:] =   # Fazemos um reshape do formato (1,4) para o formato (4,1)\n",
        "print('Array após o broadcasting:\\n')\n",
        "print(esqueleto)"
      ],
      "metadata": {
        "id": "fQAiKmI8HFkf"
      },
      "execution_count": null,
      "outputs": []
    },
    {
      "cell_type": "code",
      "source": [
        "# Criando os vetores\n",
        "array_1 = np.identity(3) # matriz identidade 3x3\n",
        "array_2 = np.array( [[1,0,0], [0,1,0], [0,0,1]], int )\n",
        "\n",
        "print(array_1)\n",
        "print('-'*80)\n",
        "print(array_2)"
      ],
      "metadata": {
        "id": "k4TepXxaZ0Jn"
      },
      "execution_count": null,
      "outputs": []
    },
    {
      "cell_type": "code",
      "source": [
        "# Verificando se um array é igual a outro em todos seus elementos\n",
        "\n",
        "# Criando os vetores\n",
        "array_1 = np.identity(3)\n",
        "array_2 = np.array( [[1,0,0], [0,1,0], [0,0,1]], int )\n",
        "\n",
        "# 1º: Buscando os valores que são iguais em ambos os vetores\n",
        "elementos_iguais = \n",
        "\n",
        "# 2º: Retornando se todos os elementos dos dois arrays são iguais com np.all(elementos_iguais)\n",
        "comparacao = \n",
        "\n",
        "# 3º: Respondendo se os arrays são iguais ou não\n",
        "f = \n"
      ],
      "metadata": {
        "id": "wdwzkP_49TbR"
      },
      "execution_count": null,
      "outputs": []
    },
    {
      "cell_type": "markdown",
      "source": [
        "Obs:<br>\n",
        "Caso queira saber se algum elemento qualquer do array_1 também está no array_2 use `np.any(comparacao)` ao invés de `np.all(comparacao)`"
      ],
      "metadata": {
        "id": "IYUvTsrkOm0s"
      }
    },
    {
      "cell_type": "code",
      "source": [
        "# Outra solução com np.array_equal()\n",
        "\n",
        "# Criando os vetores\n",
        "array_1 = np.identity(3)\n",
        "array_2 = np.array( [[1,0,0], [0,1,0], [0,0,1]], int )\n",
        "\n"
      ],
      "metadata": {
        "id": "QAv0UFIqENFe"
      },
      "execution_count": null,
      "outputs": []
    },
    {
      "cell_type": "markdown",
      "source": [
        "**Exercício**\n",
        "\n",
        "Dados os vetores [0 2 4 6 8 10] e [1 3 5 7 9 11], construa a matriz:\n",
        "\n",
        "\n",
        "```\n",
        "[  0,   0,   0,   0,   0,   0]\n",
        "[  2,   6,  10,  14,  18,  22]\n",
        "[  4,  12,  20,  28,  36,  44]\n",
        "[  6,  18,  30,  42,  54,  66]\n",
        "[  8,  24,  40,  56,  72,  88]\n",
        "[ 10,  30,  50,  70,  90, 110]\n",
        "```\n",
        "\n",
        "\n"
      ],
      "metadata": {
        "id": "fpuiyxA05qq1"
      }
    },
    {
      "cell_type": "code",
      "source": [
        "a = np.array( [0, 2, 4, 6, 8, 10] ) \n",
        "b = np.array( [1, 3, 5, 7, 9, 11] )\n",
        "\n",
        "# Resolva\n"
      ],
      "metadata": {
        "id": "JR8obY6t7BR_"
      },
      "execution_count": null,
      "outputs": []
    },
    {
      "cell_type": "markdown",
      "source": [
        "## **Reduções**"
      ],
      "metadata": {
        "id": "7GIU6VnIEqb2"
      }
    },
    {
      "cell_type": "markdown",
      "source": [
        "Funções de redução são funções que \"reduzem\" uma certa amostra de valores em uma única resposta.\n",
        "\n",
        "> Já utilizamos algumas, como: <br>\n",
        "> Soma, média, desvio padrão, valor máximo etc\n",
        "\n",
        "Ou seja... <br>\n",
        "Dado uma série de valores, reduzimos à um resultado"
      ],
      "metadata": {
        "id": "QVu-Vs44E1dX"
      }
    },
    {
      "cell_type": "markdown",
      "source": [
        "Para trabalhar com reduções no numpy, precisaremos entender como funcionam os eixos.\n",
        "\n",
        "- Axis 0: Faz a redução de linhas <br>\n",
        "- Axis 1: Faz a redução de colunas <br>\n",
        "- Axis 3: Faz a redução no eixo Z <br>\n",
        "(...)\n",
        "\n",
        "Logo, se passarmos o comando max() para o array todo, retornaremos o maior elemento do array.\n",
        "\n",
        "Se passarmos o comando `max()` especificando o eixo 1 com `max(axis=1)`, encontraremos o maior valor da linha (pois estamos comprimindo as colunas ❗)\n",
        "\n",
        "Se passarmos o comando `max(axis=0)` encontraremos o maior valor das colunas.\n",
        "\n",
        "<img src=\"https://i.stack.imgur.com/zzTgR.png\" width = 50%>"
      ],
      "metadata": {
        "id": "wnhrO-KaJOJK"
      }
    },
    {
      "cell_type": "markdown",
      "source": [
        "Teste prático"
      ],
      "metadata": {
        "id": "8rW3BHBYK_Ou"
      }
    },
    {
      "cell_type": "code",
      "source": [
        "array_aux = np.arange(20).reshape(4,5)\n",
        "\n",
        "print('Array: \\n', array_aux, '\\n', '-'*80)\n",
        "\n",
        "# Soma do array todo com array.sum()\n",
        "#soma = \n",
        "#print('Soma do array: ', soma, '\\n', '-'*80)\n",
        "\n",
        "# Somando as linhas com axis=1 -> \"Para somar as linhas achatamos as colunas\"\n",
        "#soma_linha = \n",
        "#print('Soma por linha: ', soma_linha, '\\n', '-'*80)\n",
        "\n",
        "# Somando as colunas com axis=0 -> \"Para somar as colunas achatamos as linhas\"\n",
        "#soma_coluna = \n",
        "#print('Soma por coluna: ', soma_coluna)"
      ],
      "metadata": {
        "id": "vbPgaPYEK9sj"
      },
      "execution_count": null,
      "outputs": []
    },
    {
      "cell_type": "markdown",
      "source": [
        "Outros comandos de redução úteis\n",
        "- argmax()\n",
        "- argmin()\n",
        "- argsort()\n",
        "\n",
        "Obs: Se utilizarmos o método `array.sort()` ao invés de `np.sort(array)`, afetaremos o array original ❗"
      ],
      "metadata": {
        "id": "SXSJo7q2Jef7"
      }
    },
    {
      "cell_type": "code",
      "source": [
        "# Seguindo o mesmo princípio do np.sum(), podemos ordenar por colunas ou linhas\n",
        "\n",
        "array_aux = np.array( [[1,3,2], [2,4,4], [5,2,1]] )\n",
        "print('Array original:\\n', array_aux)\n",
        "\n",
        "# Ordenando as linhas com axis=1\n",
        "array_ordenado_linha = np.sort(array_aux, axis=1)\n",
        "print( '\\nArray ordenado por linha:\\n', array_ordenado_linha )"
      ],
      "metadata": {
        "id": "hk5JwS1KIx1t"
      },
      "execution_count": null,
      "outputs": []
    },
    {
      "cell_type": "code",
      "source": [
        "# Retornando os índices do array como se estivessem ordenado usando o np.argsort(array)\n",
        "\n",
        "array_aux = [1,3,5,2,5,6,99,0]\n",
        "\n",
        "array_argsort = \n",
        "print(array_argsort)\n",
        "\n",
        "# Ou seja, o menor elemento está na posição 7, o segundo menor na posição 0 (...)\n",
        "# e o maior na posição 6\n",
        "\n",
        "# Obs: também é possível utilizar os eixos (...)"
      ],
      "metadata": {
        "id": "K81f7ZlERgis"
      },
      "execution_count": null,
      "outputs": []
    },
    {
      "cell_type": "code",
      "source": [
        "array_aux = [1, 3, 5, 2, 5, 6, 99, 0]\n",
        "\n",
        "# Buscando a posição do maior elemento com np.argmax()\n",
        "print(f'Posição do maior elemento: {  }')\n",
        "\n",
        "# Buscando a posição do menor elemento com np.argmin()\n",
        "print(f'Posição do menor elemento: {  }')"
      ],
      "metadata": {
        "id": "grIergUHSo6c"
      },
      "execution_count": null,
      "outputs": []
    },
    {
      "cell_type": "markdown",
      "source": [
        "**Exercício**\n",
        "\n",
        "1) Dado o array a seguir, encontre a linha com a maior média"
      ],
      "metadata": {
        "id": "MuBJaxX1TMJy"
      }
    },
    {
      "cell_type": "code",
      "source": [
        "array_aux = np.array( [[1,2,3,4,5], [2,3,2,3,2], [5,5,5,5,5],[10,9,5,0,0], [10,0,10,0,1]] )\n",
        "print(array_aux)\n",
        "\n",
        "# Resolva\n"
      ],
      "metadata": {
        "id": "5vQNMpSxTRmu"
      },
      "execution_count": null,
      "outputs": []
    },
    {
      "cell_type": "markdown",
      "source": [
        "2) Dado o array a seguir, encontre a posição do maior elemento e mostre qual é esse elemento"
      ],
      "metadata": {
        "id": "9OtL19AzTR73"
      }
    },
    {
      "cell_type": "code",
      "source": [
        "array_aux = np.array( [[1,2,3,4,5], [2,3,2,3,2], [5,5,5,5,5],[10,9,5,0,0], [11,0,10,0,1]] )\n",
        "print(array_aux)\n",
        "\n",
        "# Resolva\n"
      ],
      "metadata": {
        "id": "m5peqr86Tc5O"
      },
      "execution_count": null,
      "outputs": []
    },
    {
      "cell_type": "markdown",
      "source": [
        "3) Seguindo a lógica anterior, mostre qual é o segundo maior elemento"
      ],
      "metadata": {
        "id": "rWNMBDyYTdEy"
      }
    },
    {
      "cell_type": "code",
      "source": [
        "import numpy as np\n",
        "\n",
        "array_aux = np.array( [[1,2,3,4,5], [2,3,2,3,2], [5,5,5,5,5],[11,9,5,0,0], [12,0,10,0,1]] )\n",
        "print(array_aux)\n",
        "print('-'*80)\n",
        "\n",
        "# Resolva \n"
      ],
      "metadata": {
        "id": "fJYnoB_eTpcg"
      },
      "execution_count": null,
      "outputs": []
    },
    {
      "cell_type": "code",
      "source": [
        "# Extra: Buscando o valor e posição do segundo menor elemento\n"
      ],
      "metadata": {
        "id": "pBvvS8UAusdR"
      },
      "execution_count": null,
      "outputs": []
    },
    {
      "cell_type": "markdown",
      "source": [
        "## Matplotlib"
      ],
      "metadata": {
        "id": "pcqQD1sXd7i8"
      }
    },
    {
      "cell_type": "markdown",
      "source": [
        "Matplotlib é um pacote de visualização de gráficos que aceita dados em array (ou os converte automaticamente) e nos da um resultado visual; ela também utiliza a extensão matemática NumPy.\n",
        "\n",
        "Seu módulo mais famoso é o pyplot!"
      ],
      "metadata": {
        "id": "eCAT98TFd9fr"
      }
    },
    {
      "cell_type": "markdown",
      "source": [
        "Podemos fazer o import dele com: <br>\n",
        "`import matplotlib`\n",
        "\n",
        "E para importar o pyplot:\n",
        "`from matplotlib import pyplot` <br>\n",
        "ou <br>\n",
        "`import matplotlib.pyplot`"
      ],
      "metadata": {
        "id": "fPLmmWjXf7xd"
      }
    },
    {
      "cell_type": "markdown",
      "source": [
        "*Obs: A beleza vem com o tempo*\n",
        "\n",
        "<img src = \"https://encrypted-tbn0.gstatic.com/images?q=tbn:ANd9GcSNyohI8C4n8UySkw_IXsqFZn51wbTpwZlzHg&usqp=CAU\" width=30%>"
      ],
      "metadata": {
        "id": "qCgoNbRXtoaY"
      }
    },
    {
      "cell_type": "code",
      "source": [
        "# Import com apelido\n",
        "\n"
      ],
      "metadata": {
        "id": "9HVpLaIfgHlY"
      },
      "execution_count": null,
      "outputs": []
    },
    {
      "cell_type": "markdown",
      "source": [
        "Vamos relembrar alguns gráficos do ensino médio na prática!"
      ],
      "metadata": {
        "id": "3e6FMhKygvIs"
      }
    },
    {
      "cell_type": "code",
      "source": [
        "# Retornando uma função quadrática\n",
        "\n",
        "# Criação do array de dados\n",
        "X = np.array( range(-20,21) )\n",
        "\n",
        "# Elevando os dados ao quadrado\n",
        "Y = X**2\n",
        "\n",
        "# Plot do gráfico com plt.plot(X,Y)\n"
      ],
      "metadata": {
        "id": "dVu1tCYzgzUv"
      },
      "execution_count": null,
      "outputs": []
    },
    {
      "cell_type": "code",
      "source": [
        "# Retornando uma função cúbica\n",
        "\n",
        "# Criação do array de dados\n",
        "X = np.array( range(-20,21) )\n",
        "\n",
        "# Elevando os dados ao cubo\n",
        "Y = X**3\n",
        "\n",
        "# Plot do gráfico com plt.plot(X,Y)\n"
      ],
      "metadata": {
        "id": "h4mvz6K5hghQ"
      },
      "execution_count": null,
      "outputs": []
    },
    {
      "cell_type": "code",
      "source": [
        "# Função seno\n",
        "\n",
        "\n",
        "\n",
        "# Criação do array de dados\n",
        "X = \n",
        "\n",
        "# Seno dos dados\n",
        "Y = \n",
        "\n",
        "# Plot do gráfico com plt.plot(X,Y)\n"
      ],
      "metadata": {
        "id": "KjYATWLGhv2l"
      },
      "execution_count": null,
      "outputs": []
    },
    {
      "cell_type": "code",
      "source": [
        "# Gráfico da tangente\n",
        "\n",
        "# Criação do array de dados\n",
        "X = np.linspace(-2 * np.pi, 2 * np.pi, 1000)\n",
        "\n",
        "# Tangente dos dados\n",
        "Y = \n",
        "\n",
        "# Plot do gráfico com plt.plot(X,Y)\n",
        "\n",
        "\n",
        "# Limitando a aplitude do eixo Y com plt.ylim(-5, 5)\n"
      ],
      "metadata": {
        "id": "JCM6Bqz8h6YH"
      },
      "execution_count": null,
      "outputs": []
    },
    {
      "cell_type": "code",
      "source": [
        "# Mudando o estilo da linha\n",
        "\n",
        "\n",
        "# Busque por outros estilos em https://matplotlib.org/2.0.2/users/pyplot_tutorial.html"
      ],
      "metadata": {
        "id": "BkSJ4Y5akL8l"
      },
      "execution_count": null,
      "outputs": []
    },
    {
      "cell_type": "code",
      "source": [
        "# Adicionando um título ao gráfico\n",
        "\n",
        "plt.plot(X, Y, color='orange', linewidth = 4, linestyle = ':')\n",
        "\n",
        "plt.ylim(-5,5)"
      ],
      "metadata": {
        "id": "vpyVMm4PnMOW"
      },
      "execution_count": null,
      "outputs": []
    },
    {
      "cell_type": "code",
      "source": [
        "# Adicionando legenda nos eixos X e Y\n",
        "plt.plot(X, Y, color='orange', linewidth = 4, linestyle = ':')\n",
        "\n",
        "\n",
        "plt.title('Gráfico da tangente')\n",
        "plt.ylim(-5,5)"
      ],
      "metadata": {
        "id": "YS7fmFIMnTR-"
      },
      "execution_count": null,
      "outputs": []
    },
    {
      "cell_type": "markdown",
      "source": [
        "Extra:<br>\n",
        "Para definir os intervalos dos eixos, passe uma lista com os valores desejados<br>\n",
        "`plt.axis([list])`"
      ],
      "metadata": {
        "id": "cVq83SaSr9p2"
      }
    },
    {
      "cell_type": "markdown",
      "source": [
        "**Exercício**\n",
        "\n",
        "Gere os dados de 1 a 50 e aplique a função log na base 2. <br>\n",
        "Feito isso, gere o gráfico com o `linestyle='--'` e cor vermelha!\n",
        "\n",
        "Dica: use a função https://numpy.org/doc/stable/reference/generated/numpy.log.html <br>\n",
        "Obs: Sempre se atente aos detalhes para procurar algo que você busca nas documentações"
      ],
      "metadata": {
        "id": "KAICcOdok3yu"
      }
    },
    {
      "cell_type": "code",
      "source": [
        "# Resolva\n",
        "\n"
      ],
      "metadata": {
        "id": "wOLU3agulg_m"
      },
      "execution_count": null,
      "outputs": []
    },
    {
      "cell_type": "code",
      "source": [
        "# Extra: mais de um plot por vez (subplots)\n",
        "\n",
        "X = np.linspace(-2 * np.pi, 2 * np.pi, 1000)\n",
        "Y = np.sin(X)\n",
        "\n",
        "plt.subplot(2, 3, 1)   # Dado um esquema de 2 linhas e 3 colunas, coloque o próximo gráfico na primeira posição\n",
        "plt.plot(X, Y, color='orange', linewidth = 4, linestyle = ':')\n",
        "\n",
        "plt.subplot(2, 3, 2)   # Dado um esquema de 2 linhas e 3 colunas, coloque o próximo gráfico na segunda posição (...)\n",
        "plt.plot(X, Y, color='red', linewidth = 4, linestyle = ':')\n",
        "\n",
        "plt.subplot(2, 3, 3)\n",
        "plt.plot(X, Y, color='blue', linewidth = 4, linestyle = ':')\n",
        "\n",
        "plt.subplot(2, 3, 4)\n",
        "plt.plot(X, Y, color='yellow', linewidth = 4, linestyle = ':')\n",
        "\n",
        "plt.subplot(2, 3, 5)\n",
        "plt.plot(X, Y, color='black', linewidth = 4, linestyle = ':')\n",
        "\n",
        "plt.subplot(2, 3, 6)\n",
        "plt.plot(X, Y, color='green', linewidth = 4, linestyle = ':')"
      ],
      "metadata": {
        "id": "W1z9Z4ZMn-q0"
      },
      "execution_count": null,
      "outputs": []
    },
    {
      "cell_type": "markdown",
      "source": [
        "Outros tipos de gráficos com distribuições estatísticas"
      ],
      "metadata": {
        "id": "EThHHAolsHko"
      }
    },
    {
      "cell_type": "code",
      "source": [
        "# Gerando dados normais\n",
        "\n",
        "mu, sigma = 0, 0.1  # mean and standard deviation\n",
        "s = np.random.normal(mu, sigma, 1000)"
      ],
      "metadata": {
        "id": "jDnaX5Y5sK0X"
      },
      "execution_count": null,
      "outputs": []
    },
    {
      "cell_type": "code",
      "source": [
        "# Histograma\n",
        "\n",
        "  # Gráfico de 30 elementos gerados"
      ],
      "metadata": {
        "id": "nW9iZfhhsI3-"
      },
      "execution_count": null,
      "outputs": []
    },
    {
      "cell_type": "markdown",
      "source": [
        "Consultas matplotlib:\n",
        "\n",
        "Alguns exemplos de gráficos: https://matplotlib.org/stable/plot_types/index.html\n",
        "\n",
        "Cola para estilos de gráficos: https://matplotlib.org/3.5.0/gallery/style_sheets/style_sheets_reference.html"
      ],
      "metadata": {
        "id": "aPuZ3dC-s-v7"
      }
    },
    {
      "cell_type": "markdown",
      "source": [
        "**Extra**\n",
        "<font color='orange'> **Fique de olho no pacote Seaborn!** </font> <br>\n",
        "Seaborn é uma biblioteca de interface de alto nível baseada no pacote matplotlib que estamos estudando.\n",
        "Obs: No geral é uma ótima biblioteca em termos visuais ⛳\n",
        "\n",
        "Lista de exemplos no seaborn: <br>\n",
        "https://seaborn.pydata.org/examples/index.html\n",
        "\n",
        "Leitura extra: <br>\n",
        "https://pt.linkedin.com/pulse/o-poder-dos-nascidos-mar-seaborn-para-visualiza%C3%A7%C3%A3o-de-manoel\n",
        "\n",
        "<img src=\"https://seaborn.pydata.org/_images/layered_bivariate_plot.png\" width=30%>"
      ],
      "metadata": {
        "id": "uCLG-qAEA6g0"
      }
    },
    {
      "cell_type": "code",
      "source": [
        "# Importando o seaborn\n",
        "\n",
        "\n",
        "# import de uma base de dados pronta\n",
        "penguins = \n",
        "\n",
        "# plot gráfico\n"
      ],
      "metadata": {
        "id": "WXlblBUj3HYl"
      },
      "execution_count": null,
      "outputs": []
    },
    {
      "cell_type": "code",
      "source": [
        "# Plot de barras\n",
        "\n",
        "# make data:\n",
        "np.random.seed(3)\n",
        "x = 0.5 + np.arange(8)\n",
        "y = np.random.uniform(2, 7, len(x))\n",
        "\n",
        "# plot\n",
        "fig, ax = plt.subplots()\n",
        "\n",
        "ax.bar(x, y, width=1, edgecolor=\"white\", linewidth=0.7)\n",
        "\n",
        "ax.set(xlim=(0, 8), xticks=np.arange(1, 8),\n",
        "       ylim=(0, 8), yticks=np.arange(1, 8))\n",
        "\n",
        "plt.show()"
      ],
      "metadata": {
        "id": "ziRvIcMosiy_"
      },
      "execution_count": null,
      "outputs": []
    },
    {
      "cell_type": "code",
      "source": [
        "# Plot de pizza\n",
        "\n",
        "# make data\n",
        "x = [1, 2, 3, 4]\n",
        "colors = plt.get_cmap('Blues')(np.linspace(0.2, 0.7, len(x)))\n",
        "\n",
        "# plot\n",
        "fig, ax = plt.subplots()\n",
        "ax.pie(x, colors=colors, radius=3, center=(4, 4),\n",
        "       wedgeprops={\"linewidth\": 1, \"edgecolor\": \"white\"}, frame=True)\n",
        "\n",
        "ax.set(xlim=(0, 8), xticks=np.arange(1, 8),\n",
        "       ylim=(0, 8), yticks=np.arange(1, 8))\n",
        "\n",
        "plt.show()"
      ],
      "metadata": {
        "id": "LSi-qURltPCM"
      },
      "execution_count": null,
      "outputs": []
    },
    {
      "cell_type": "markdown",
      "source": [
        "Estes últimos gráficos foram feitos utilizando https://matplotlib.org/stable/plot_types/index.html"
      ],
      "metadata": {
        "id": "q67QGR-dwVfA"
      }
    },
    {
      "cell_type": "markdown",
      "source": [
        "# PARTE 03"
      ],
      "metadata": {
        "id": "GsG4G33YCKBK"
      }
    },
    {
      "cell_type": "markdown",
      "source": [
        "## Pandas"
      ],
      "metadata": {
        "id": "TsK4fSW1tb-O"
      }
    },
    {
      "cell_type": "markdown",
      "source": [
        "Pandas é uma biblioteca que utiliza o matplotlib e numpy como base e retorna tabelas com indexação para linhas e colunas (como o excel) em formato de ***séries*** e ***dataframes*** por exemplo.\n",
        "\n",
        "Nele, podemos ler arquivos de diversas fontes e formatações possíveis.\n",
        "\n",
        "Processaremos as tabelas com ele de forma fácil e muito mais rápida do que quando usamos excel para arquivos maiores, pois o limite de linhas no excel é de 1.048.576 linhas (consideravelmente pequeno).\n",
        "\n",
        "Sobre o retorno do pandas:\n",
        "1. Séries:\n",
        "- Semelhante a um array de uma dimensão, mas com a possibilidade de se indexar por \"nomes\" (rótulos) e não só inteiros.\n",
        "- Podem ser criadas a partir de dataframes e sequências básicas como listas, dicionários e arrays.\n",
        "- Encontrada pelo comando `pd.Series()`\n",
        "\n",
        "2. DataFrames:\n",
        "- Uma tabela propriamente dita (com indexação).\n",
        "- Podem ser importados para o python através de CSV, excel, web scraping etc.\n",
        "- Podem ser criados através de matriz, dicionários, listas de listas (entre outras listas e tuplas) etc.\n",
        "- Encontrado pelo comando `pd.DataFrame()`\n",
        "\n",
        "Dica extra: caso o tamanho do arquivo seja exorbitante, utilize o pacote inspirado no pandas para processamento paralelo: **dask** (https://dask.org/)\n",
        "\n",
        "<img src=\"https://files.realpython.com/media/Reading-and-Writing-Data-With-Pandas_Watermarked.435ef1c38466.jpg\" width=50%>\n",
        "\n",
        "*fonte-img: https://realpython.com/pandas-read-write-files/*"
      ],
      "metadata": {
        "id": "Qkex237QGvCT"
      }
    },
    {
      "cell_type": "code",
      "source": [
        "# Importação do pacote pandas\n",
        "\n"
      ],
      "metadata": {
        "id": "FNePixnWQsvN"
      },
      "execution_count": null,
      "outputs": []
    },
    {
      "cell_type": "code",
      "source": [
        "import numpy as np\n",
        "\n",
        "# Criando um dataset aluno\n",
        "\n",
        "data = {'aluno'       : ['João', 'Ribeiro', 'Evaldo', 'Isaias', 'Jessyca','Anne','Luiz'],    \n",
        "        'idade'       : ['20', '29', '22', '21', '35', '32', '40'],    \n",
        "        'cidade'      : ['São Paulo', 'São João', 'Pinhal', 'Mococa', 'Poços', 'Botelhos', 'Pinhal'],\n",
        "        'aniversario' : ['021004', '030220', np.nan, '000420', '871212', '000101', np.nan] }           #np.nan nos traz um NaN (not a number)\n",
        "\n",
        "df = \n",
        "\n",
        "print(df)"
      ],
      "metadata": {
        "id": "earrM4ckSx7I"
      },
      "execution_count": null,
      "outputs": []
    },
    {
      "cell_type": "code",
      "source": [
        "# Lendo as 5 primeiras linhas com o comando head()\n",
        "\n",
        "# Lendo as 3 primeiras linhas\n",
        "\n",
        "# Lendo as últimas 5 linhas com o tail()\n",
        "\n",
        "# Lendo 2 amostras aleatórias com o sample()\n"
      ],
      "metadata": {
        "id": "zjRsFXCNTlW-"
      },
      "execution_count": null,
      "outputs": []
    },
    {
      "cell_type": "code",
      "source": [
        "# Acessando a coluna nome\n",
        "\n"
      ],
      "metadata": {
        "id": "muTHSg7MVEBE"
      },
      "execution_count": null,
      "outputs": []
    },
    {
      "cell_type": "code",
      "source": [
        "# Acessando as colunas nome e idade\n",
        "\n"
      ],
      "metadata": {
        "id": "1B_DiYPTVKlN"
      },
      "execution_count": null,
      "outputs": []
    },
    {
      "cell_type": "code",
      "source": [
        "# Verificando o tipo dos dados de cada coluna: IMPORTANTE!\n",
        "\n"
      ],
      "metadata": {
        "id": "C26xipH1T6AY"
      },
      "execution_count": null,
      "outputs": []
    },
    {
      "cell_type": "code",
      "source": [
        "# Transformando a coluna idade para o tipo int\n",
        "\n"
      ],
      "metadata": {
        "id": "3BrqDtukVui1"
      },
      "execution_count": null,
      "outputs": []
    },
    {
      "cell_type": "code",
      "source": [
        "# Transformando a coluna aniversário para o tipo data\n",
        "\n"
      ],
      "metadata": {
        "id": "NUZrVk-1U-Rh"
      },
      "execution_count": null,
      "outputs": []
    },
    {
      "cell_type": "code",
      "source": [
        "# Verificando como ficou a data após a transformação\n",
        "\n"
      ],
      "metadata": {
        "id": "HDoN-r4WbL0S"
      },
      "execution_count": null,
      "outputs": []
    },
    {
      "cell_type": "code",
      "source": [
        "# Verificando os rótulos das colunas\n",
        "\n"
      ],
      "metadata": {
        "id": "mYkHL6OFUKoA"
      },
      "execution_count": null,
      "outputs": []
    },
    {
      "cell_type": "code",
      "source": [
        "# Recuperando somente os valores\n",
        "\n"
      ],
      "metadata": {
        "id": "qVOfYKirj54h"
      },
      "execution_count": null,
      "outputs": []
    },
    {
      "cell_type": "markdown",
      "source": [
        "Buscando valores com condição \"WHERE\"\n",
        "\n",
        "Ou seja... dado um dataset qualquer ou amostragem de dados, retorne apenas os dados que satisfazem a condição 'X'"
      ],
      "metadata": {
        "id": "yNvU1Ylvcghq"
      }
    },
    {
      "cell_type": "code",
      "source": [
        "# 1. Utilizando o método query() para retornar idades menores que 25 anos\n",
        "\n"
      ],
      "metadata": {
        "id": "RjjqxWBfcVNW"
      },
      "execution_count": null,
      "outputs": []
    },
    {
      "cell_type": "code",
      "source": [
        "# 1. Utilizando o método query() para retornar idades menores que 25 E maior que 20\n",
        " \n"
      ],
      "metadata": {
        "id": "b3JI0BbQcvoZ"
      },
      "execution_count": null,
      "outputs": []
    },
    {
      "cell_type": "code",
      "source": [
        "# 1. Utilizando o método query() para retornar datas até 1995\n",
        "\n",
        "  # repare nas aspas duplas entre as datas"
      ],
      "metadata": {
        "id": "jV5-8SdCbhQn"
      },
      "execution_count": null,
      "outputs": []
    },
    {
      "cell_type": "code",
      "source": [
        "# 2. Utilizando o método .loc[] para buscar quem mora em pinhal\n",
        "\n"
      ],
      "metadata": {
        "id": "2YajCUSXdTXK"
      },
      "execution_count": null,
      "outputs": []
    },
    {
      "cell_type": "code",
      "source": [
        "# 2. Utilizando o método .loc[] para buscar a idade de quem mora em pinhal\n",
        "\n"
      ],
      "metadata": {
        "id": "1BxuSBzkd8MD"
      },
      "execution_count": null,
      "outputs": []
    },
    {
      "cell_type": "markdown",
      "source": [
        "Outras formas de utilização do `.loc[ ]`: https://pandas.pydata.org/docs/reference/api/pandas.DataFrame.loc.html"
      ],
      "metadata": {
        "id": "BNcDGOE0eb0R"
      }
    },
    {
      "cell_type": "code",
      "source": [
        "# 3. Utilizando o método .iloc[] para buscar a linha de índice 2\n",
        "\n"
      ],
      "metadata": {
        "id": "_k7eCiNaegRZ"
      },
      "execution_count": null,
      "outputs": []
    },
    {
      "cell_type": "code",
      "source": [
        "# 3. Utilizando o método .iloc[] para buscar as linhas de índice 2 e 3\n",
        "\n"
      ],
      "metadata": {
        "id": "_nnC7s7aetwH"
      },
      "execution_count": null,
      "outputs": []
    },
    {
      "cell_type": "markdown",
      "source": [
        "Alterando índices"
      ],
      "metadata": {
        "id": "DXS3P-11e6m6"
      }
    },
    {
      "cell_type": "code",
      "source": [
        "# Relembrando o dataframe\n",
        "\n",
        "\n",
        "\n",
        "# Repare na coluna à esquerda sendo utilizada como índice"
      ],
      "metadata": {
        "id": "S3kwzkUle_0z"
      },
      "execution_count": null,
      "outputs": []
    },
    {
      "cell_type": "code",
      "source": [
        "# Alterando o índice para que seja 'aluno'\n",
        "\n"
      ],
      "metadata": {
        "id": "YAXxWnDJfUPd"
      },
      "execution_count": null,
      "outputs": []
    },
    {
      "cell_type": "code",
      "source": [
        "# Resetando os índices\n",
        "\n"
      ],
      "metadata": {
        "id": "iRLXv1MUgVa6"
      },
      "execution_count": null,
      "outputs": []
    },
    {
      "cell_type": "markdown",
      "source": [
        "Adicionando e excluindo colunas"
      ],
      "metadata": {
        "id": "_0q5k6K3grw2"
      }
    },
    {
      "cell_type": "code",
      "source": [
        "# Adicionando uma coluna ao DataFrame com valores 1\n",
        "\n"
      ],
      "metadata": {
        "id": "i3nQKIhhguJE"
      },
      "execution_count": null,
      "outputs": []
    },
    {
      "cell_type": "code",
      "source": [
        "# Excluindo a coluna_nova\n",
        "\n"
      ],
      "metadata": {
        "id": "tj9N3M0sg2OT"
      },
      "execution_count": null,
      "outputs": []
    },
    {
      "cell_type": "code",
      "source": [
        "# Porém... vamos rodar o DataFrame novamente\n",
        "\n",
        "\n",
        "\n",
        "# A coluna_nova ainda está lá!"
      ],
      "metadata": {
        "id": "YXIsGeMrhGUD"
      },
      "execution_count": null,
      "outputs": []
    },
    {
      "cell_type": "code",
      "source": [
        "# Corrigindo\n",
        "\n",
        "# Método 1: usando inplace()\n",
        "\n",
        "# Método 2: reatribuindo ao DataFrame\n",
        "# df = df.drop(columns = ['coluna_nova'])"
      ],
      "metadata": {
        "id": "ppWd_lINhQEU"
      },
      "execution_count": null,
      "outputs": []
    },
    {
      "cell_type": "markdown",
      "source": [
        "Extra: copiando um DataFrame"
      ],
      "metadata": {
        "id": "OSqBd8Qrhqe3"
      }
    },
    {
      "cell_type": "code",
      "source": [
        "# Copiando o dataframe 'df' para o dataframe 'df2' com o .copy()\n",
        "\n"
      ],
      "metadata": {
        "id": "woA5y3JUhuXJ"
      },
      "execution_count": null,
      "outputs": []
    },
    {
      "cell_type": "markdown",
      "source": [
        "- Elementos duplicados\n",
        "- Ocorrência de valores\n",
        "- Operador 'in'\n",
        "- sort_values"
      ],
      "metadata": {
        "id": "o4biVSypiCjJ"
      }
    },
    {
      "cell_type": "code",
      "source": [
        "# Ordenando a coluna idade com o sort_values()\n",
        "\n",
        "  "
      ],
      "metadata": {
        "id": "e-liDemTiR-B"
      },
      "execution_count": null,
      "outputs": []
    },
    {
      "cell_type": "code",
      "source": [
        "# Ordenando por coluna texto\n",
        "\n"
      ],
      "metadata": {
        "id": "aXyLJmlXiOXk"
      },
      "execution_count": null,
      "outputs": []
    },
    {
      "cell_type": "code",
      "source": [
        "# Ordenando por data de aniversário\n",
        "\n"
      ],
      "metadata": {
        "id": "RVNRR9tuiVUn"
      },
      "execution_count": null,
      "outputs": []
    },
    {
      "cell_type": "markdown",
      "source": [
        "Extra: entendendo o pandas sort_values() <br>\n",
        "https://www.sharpsightlabs.com/blog/pandas-sort_values/"
      ],
      "metadata": {
        "id": "0Tjm2fczm4fw"
      }
    },
    {
      "cell_type": "code",
      "source": [
        "# Procurando se alguém mora em 'Mococa' com o operador 'in'\n",
        "\n",
        "\n",
        "\n",
        "# Repare no True para o índice 3"
      ],
      "metadata": {
        "id": "5JN87huBihln"
      },
      "execution_count": null,
      "outputs": []
    },
    {
      "cell_type": "code",
      "source": [
        "# Verificando se há alguma linha duplicada\n",
        "\n",
        "\n",
        "\n",
        "# Nenhuma linha está duplicada\n",
        "# Consulta extra: https://pandas.pydata.org/docs/reference/api/pandas.DataFrame.duplicated.html"
      ],
      "metadata": {
        "id": "2l7pzZsRi987"
      },
      "execution_count": null,
      "outputs": []
    },
    {
      "cell_type": "code",
      "source": [
        "# Verificando se há um valor duplicado em 'cidade'\n",
        "\n",
        "\n",
        "\n",
        "# Há 2 ocorrências que se repetem"
      ],
      "metadata": {
        "id": "qL40mIPFjNl_"
      },
      "execution_count": null,
      "outputs": []
    },
    {
      "cell_type": "code",
      "source": [
        "# Buscando pelos valores únicos de uma coluna\n",
        "\n"
      ],
      "metadata": {
        "id": "i6oYuOT6jZGs"
      },
      "execution_count": null,
      "outputs": []
    },
    {
      "cell_type": "code",
      "source": [
        "# E quantos são os valores únicos?\n",
        "\n"
      ],
      "metadata": {
        "id": "2M1L-0Ixjd2B"
      },
      "execution_count": null,
      "outputs": []
    },
    {
      "cell_type": "markdown",
      "source": [
        "Maneira rápida de verificar as principais estatísticas do DataFrame"
      ],
      "metadata": {
        "id": "43TsM0Buk9pG"
      }
    },
    {
      "cell_type": "code",
      "source": [
        "# Procurando a contagem, média, desvio padrão, mínimo, percentils e valor máximo\n",
        "\n"
      ],
      "metadata": {
        "id": "xvpEQqFdlDQC"
      },
      "execution_count": null,
      "outputs": []
    },
    {
      "cell_type": "code",
      "source": [
        "# Verificando para strings\n",
        "\n"
      ],
      "metadata": {
        "id": "sXr7QOpKlMML"
      },
      "execution_count": null,
      "outputs": []
    },
    {
      "cell_type": "markdown",
      "source": [
        "Valores **NaN**"
      ],
      "metadata": {
        "id": "KGuBXFXmmEKM"
      }
    },
    {
      "cell_type": "code",
      "source": [
        "# Buscando se e quantos valores NaN's temos em nosso dataframe\n",
        "\n",
        "\n",
        "\n",
        "# Há 2 valores faltantes em aniversario"
      ],
      "metadata": {
        "id": "UvzVo7Vdo2v8"
      },
      "execution_count": null,
      "outputs": []
    },
    {
      "cell_type": "code",
      "source": [
        "# Preenchendo os valores faltantes com os valores de cima\n",
        "\n",
        "# 1º: Verificando o df antes do processo\n"
      ],
      "metadata": {
        "id": "hnf71TiJpShK"
      },
      "execution_count": null,
      "outputs": []
    },
    {
      "cell_type": "code",
      "source": [
        "# 2º: Completando os valores Na com os valores de cima\n",
        "\n",
        "  # Outros métodos backfill, bfill, pad, ffill, None etc\n",
        "\n"
      ],
      "metadata": {
        "id": "GRSg_KQopZZZ"
      },
      "execution_count": null,
      "outputs": []
    },
    {
      "cell_type": "markdown",
      "source": [
        "Outra forma de completar os valores vazios seria utilizando o replace()\n",
        "\n",
        "Fique de olho: https://pandas.pydata.org/docs/reference/api/pandas.DataFrame.replace.html"
      ],
      "metadata": {
        "id": "RQx-UT3rUpiI"
      }
    },
    {
      "cell_type": "markdown",
      "source": [
        "Agrupando com o groupby() e uma função de agregação (como count, nunique, sum, mean etc)"
      ],
      "metadata": {
        "id": "EI6t1yq5GaVa"
      }
    },
    {
      "cell_type": "code",
      "source": [
        "# Realizando um agrupamento para ver quantos alunos moram em cada cidade\n",
        "\n"
      ],
      "metadata": {
        "id": "U9Dj2mZTGg_L"
      },
      "execution_count": null,
      "outputs": []
    },
    {
      "cell_type": "code",
      "source": [
        "# Agrupamento para verificar a média de idade por cidade\n",
        "\n"
      ],
      "metadata": {
        "id": "g89GQ874mERt"
      },
      "execution_count": null,
      "outputs": []
    },
    {
      "cell_type": "markdown",
      "source": [
        "Outros métodos de fill: https://pandas.pydata.org/docs/reference/api/pandas.DataFrame.fillna.html\n",
        "\n",
        "(...) e caso queira excluir as linhas ou colunas com valores vazios, utilize o comando `df.dropna()` especificando o 'axis'"
      ],
      "metadata": {
        "id": "5Etl2GJ_p-sI"
      }
    },
    {
      "cell_type": "markdown",
      "source": [
        "**Extra**\n",
        "\n",
        "Faça uma cópia do df anterior com o nome de 'df_exercicio' e então, altere as ocorrências da cidade 'Pinhal' para 'Aguai'.<br>\n",
        "*Imprima o dataframe resultante*"
      ],
      "metadata": {
        "id": "x3PYz5BhkFHd"
      }
    },
    {
      "cell_type": "code",
      "source": [],
      "metadata": {
        "id": "3e8lrt60mFaz"
      },
      "execution_count": null,
      "outputs": []
    },
    {
      "cell_type": "markdown",
      "source": [
        "Lendo arquivos em Pandas\n",
        "\n",
        "<img src=\"data:image/jpeg;base64,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\" width=50%>"
      ],
      "metadata": {
        "id": "C0Q4UDsmqD1p"
      }
    },
    {
      "cell_type": "markdown",
      "source": [
        "Link para o dataset de exemplo:\n",
        "https://www.kaggle.com/datasets/nehalbirla/vehicle-dataset-from-cardekho"
      ],
      "metadata": {
        "id": "CsI7pToaRlhx"
      }
    },
    {
      "cell_type": "code",
      "source": [
        "data = \n",
        "\n",
        "# Outros parâmetros úteis para o pd.read():\n",
        "  # encoding: colocamos o 'encode'. Ex. UTF-8\n",
        "  # skiprows: pulamos N linhas iniciais do arquivo\n",
        "  # sep: Tipo de separador. No csv geralmente é a vírgula ','\n",
        "  # skipfooter: pulamos N linhas finais do arquivo\n",
        "  # thousands: especificamos como está os milhares. Ex. 10.000,00 = dez mil\n",
        "  # decimal: especificamos como está os decimais. Ex. 10,5 = dez vírgula cinco\n",
        "\n",
        "data.head()"
      ],
      "metadata": {
        "id": "Wj4Ipxk7qRqA"
      },
      "execution_count": null,
      "outputs": []
    },
    {
      "cell_type": "markdown",
      "source": [
        "Quantas linhas e colunas tem nosso arquivo?"
      ],
      "metadata": {
        "id": "9ZFGTyAaHO9e"
      }
    },
    {
      "cell_type": "code",
      "source": [
        "# Utilizando o df.shape\n"
      ],
      "metadata": {
        "id": "IBiJHjqExD-1"
      },
      "execution_count": null,
      "outputs": []
    },
    {
      "cell_type": "code",
      "source": [
        "# Especificando o que retornar do df.shape[x]\n",
        "\n",
        "print(f\"Num linhas: {}\")\n",
        "print(f\"Num colunas: {}\")"
      ],
      "metadata": {
        "id": "Y7k3Kq-lHRIw"
      },
      "execution_count": null,
      "outputs": []
    },
    {
      "cell_type": "code",
      "source": [
        "# Lendo o arquivo do github\n",
        "\n",
        "data2 = \n",
        "data2.head()"
      ],
      "metadata": {
        "id": "17ticwdXrYSU"
      },
      "execution_count": null,
      "outputs": []
    },
    {
      "cell_type": "markdown",
      "source": [
        "Outras visões interessantes:"
      ],
      "metadata": {
        "id": "h_2yfE6qS4ew"
      }
    },
    {
      "cell_type": "code",
      "source": [
        "# Quantos carros de cada tipo há por coluna\n",
        "\n"
      ],
      "metadata": {
        "id": "6FUpscNxS8Bv"
      },
      "execution_count": null,
      "outputs": []
    },
    {
      "cell_type": "code",
      "source": [
        "# Deixando os nomes dos carros em maiúsculo com o apply()\n",
        "\n"
      ],
      "metadata": {
        "id": "lBlxd5RYTXOj"
      },
      "execution_count": null,
      "outputs": []
    },
    {
      "cell_type": "markdown",
      "source": [
        "  Por fim, para salvar o resultado do seu trabalho, por exemplo, no formato CSV:\n",
        "\n",
        "`  df.to_csv('nome.extensao')`"
      ],
      "metadata": {
        "id": "Bne6nu8AVdiM"
      }
    },
    {
      "cell_type": "markdown",
      "source": [
        "Leitura extra para entender o básico do pandas: <br>\n",
        "https://medium.com/data-hackers/uma-introdu%C3%A7%C3%A3o-simples-ao-pandas-1e15eea37fa1"
      ],
      "metadata": {
        "id": "6Xvj_n-mNrfu"
      }
    }
  ]
}