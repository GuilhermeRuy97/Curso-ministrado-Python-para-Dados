{
  "nbformat": 4,
  "nbformat_minor": 0,
  "metadata": {
    "colab": {
      "provenance": [],
      "collapsed_sections": [
        "lgsNrlPbu8Pm",
        "RvpxIi6pd3sP",
        "KmDUHQvnd5D1",
        "heRCT7jfd-NR",
        "vqE8dx-Kt4T9",
        "_6fAqjsm3vAs",
        "cwQa5jHTKbi6",
        "7smri6U7ccAd",
        "iTbp-wDAtxeN",
        "hKaOtMX2Ixtj",
        "GtBueta3mRqr",
        "IybNIB0t3woS",
        "ALrvcY7UuyFE",
        "rcygOcRxuzjh",
        "wO2Y9MhJu3OW",
        "G8-oINOzp3py",
        "GsG4G33YCKBK",
        "TsK4fSW1tb-O"
      ],
      "include_colab_link": true
    },
    "kernelspec": {
      "name": "python3",
      "display_name": "Python 3"
    },
    "language_info": {
      "name": "python"
    }
  },
  "cells": [
    {
      "cell_type": "markdown",
      "metadata": {
        "id": "view-in-github",
        "colab_type": "text"
      },
      "source": [
        "<a href=\"https://colab.research.google.com/github/GuilhermeRuy97/Curso-ministrado-Python-para-Dados/blob/main/material_aula.ipynb\" target=\"_parent\"><img src=\"https://colab.research.google.com/assets/colab-badge.svg\" alt=\"Open In Colab\"/></a>"
      ]
    },
    {
      "cell_type": "markdown",
      "source": [
        "---\n",
        "# Python para Ciência de Dados\n",
        "\n",
        "_Guilherme Sasso Ruy_\n",
        "\n",
        "_Endereço para consulta dos arquivos:_ <br>\n",
        "https://github.com/GuilhermeRuy97/Curso-ministrado-Python-para-Dados\n",
        "\n",
        "---"
      ],
      "metadata": {
        "id": "s9puR4fMjv8G"
      }
    },
    {
      "cell_type": "markdown",
      "source": [
        "# Conteúdo abordado:"
      ],
      "metadata": {
        "id": "lgsNrlPbu8Pm"
      }
    },
    {
      "cell_type": "markdown",
      "source": [
        "## Parte 1"
      ],
      "metadata": {
        "id": "RvpxIi6pd3sP"
      }
    },
    {
      "cell_type": "markdown",
      "source": [
        "**Conteúdo**:\n",
        "- <font color='yellow'> **Hello World** </font> ( _obrigatório_ ☑)\n",
        "- **Um pouco de teoria sobre Pyhon**\n",
        "  - \"Por que estudar programação?\"\n",
        "  - O que é (conceitos e motivo de se popularizar)\n",
        "- **Dicas para utilizar o Google Colab**\n",
        "  - O que é um arquivo 'python notebook'\n",
        "- **Tipos de variáveis e atribuições**\n",
        "  - Operações matemáticas e lógicas com variáveis\n",
        "- **Tipos de dados**\n",
        "    - Básicos\n",
        "    - Listas, tuplas e strings\n",
        "    - Dicionários\n",
        "- **Slicing**\n",
        "- **Estruturas de controle**\n",
        "    - Comando **if**\n",
        "    - Estruturas de repetição (como \"for\" e \"while\" em linguagem C)\n",
        "- **Como funcionam as referências**\n",
        "- **Operações em sequências**\n",
        "  - +, *, in, append, insert etc\n",
        "  - Comprehensions e sua eficiência\n",
        "- **Funções**\n",
        "  - Parâmetros\n",
        "  - Função \"lambda\"\n",
        "- **Imports**\n",
        "  - Bibliotecas e módulos\n",
        "- **Programação Funcional**\n",
        "  - map\n",
        "  - filter\n",
        "  - reduce\n",
        "  - functools\n",
        "- **Arquivos em python**\n",
        "  - leitura\n",
        "  - escrita\n",
        "  - append\n",
        "- **Abordagem rápida de classes e objetos**\n",
        "  - Classes\n",
        "  - Objetos\n",
        "  - Atributos\n",
        "  - Heranças\n"
      ],
      "metadata": {
        "id": "xyaMMk-jjzEP"
      }
    },
    {
      "cell_type": "markdown",
      "source": [
        "![tempo](data:image/jpeg;base64,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)"
      ],
      "metadata": {
        "id": "zMpW7zbEj1sw"
      }
    },
    {
      "cell_type": "markdown",
      "source": [
        "## Parte 2"
      ],
      "metadata": {
        "id": "KmDUHQvnd5D1"
      }
    },
    {
      "cell_type": "markdown",
      "source": [
        "**Conteúdo**:\n",
        "- <font color='orange'> **Numpy** </font>\n",
        "- **Visão geral**\n",
        "  - Quais as vantagens do Numpy\n",
        "- **Arrays**\n",
        "  - Dimensões (flatten, ravel, reshape)\n",
        "- **Máscaras Booleanas**\n",
        "  - Aplicando a lógica em arrays\n",
        "- **Cópias e visualizações**\n",
        "  - Cópias\n",
        "  - Views\n",
        "  - Cópias e visualizações\n",
        "- **Broadcasting**\n",
        "  - Abstraindo o conceito\n",
        "- **Reduções**\n",
        "  - Sum, max, min, argmax, argmin\n",
        "  - Mean, median, std\n",
        "  - Lógicas (all, any)\n",
        "- **Ordenação**\n",
        "  - sort\n",
        "  - argsort\n",
        "  - argmax e argmin\n",
        "- **Básico de aritmética vetorial e matricial**\n",
        "<br><br>\n",
        "- <font color='Orange'> **Matplotlib** </font>\n",
        "- **Visão Geral**\n",
        "- **Plots**\n",
        "- **Subplots**\n",
        "- **Informações textuais**\n",
        "  - texto\n",
        "  - legendas\n",
        "- **Derivados**\n",
        "  - Utilizando o matplotlib com a biblioteca Seaborn (sns)\n",
        "  - Uso do pairplot() e dica de estudo heatmap()\n",
        "- <font color='Orange'> **Extras** </font>\n",
        "  - Deixando o notebook organizado e legível com Markdown e HTML\n",
        "  - Como ser autônomo em um projeto pesquisando na documentação das bibliotecas (+ stackoverflow)\n",
        "  - Aplicando a prática com o teste de proeficiência Linkedin"
      ],
      "metadata": {
        "id": "aqvhhW7GeDgu"
      }
    },
    {
      "cell_type": "markdown",
      "source": [
        "<img src=\"https://i1.wp.com/gestaodesegurancaprivada.com.br/wp-content/uploads/definicao-de-grafico.jpg?fit=750%2C405&ssl=1\" width=50%>\n",
        "\n",
        "*fonte: https://gestaodesegurancaprivada.com.br/grafico-o-que-e-objetivo-caracteristica-e-tipos/*"
      ],
      "metadata": {
        "id": "GtjWwOLFhVyD"
      }
    },
    {
      "cell_type": "markdown",
      "source": [
        "## Parte 3"
      ],
      "metadata": {
        "id": "heRCT7jfd-NR"
      }
    },
    {
      "cell_type": "markdown",
      "source": [
        "**Conteúdo**:\n",
        "- <font color='Orange'> **Pandas** </font>\n",
        "- **Visão geral**\n",
        "- **Séries**\n",
        "  - Criação\n",
        "  - Acesso (índice, slicing, máscara booleana)\n",
        "  - Reindexação\n",
        "  - NaN's\n",
        "  - Aritmética\n",
        "  - Ordenação\n",
        "  - Valores únicos, número de ocorrências e presença de valor\n",
        "- **Dataframes**\n",
        "  - Criação\n",
        "  - Manipulação e acesso de colunas\n",
        "  - Consultas Booleanas\n",
        "  - Manipulando e acessando linhas e colunas\n",
        "  - 'loc' e 'iloc'\n",
        "  - values\n",
        "  - E operações semelhantes às series\n",
        "- **Load de arquivos**\n",
        "  - Como ler arquivos de diferentes tipos e escritas\n",
        "- **Dados faltantes**\n",
        "  - isnull, dropna\n",
        "  - fill\n",
        "- **Dados redundantes**\n",
        "  - Dados duplicados e como encontrá=los\n",
        "- **Funções manipuladoras**\n",
        "  - map\n",
        "  - replace\n",
        "  - rename\n",
        "- **Estatísticas básicas**\n",
        "- <font color='#4CF06E'> **Groupby** </font>\n",
        "  - A importância no dia a dia\n",
        "  - Agregação\n",
        "  - Filtragem ('filter')\n",
        "  - Cópias alteradas ('transform')\n",
        "\n",
        "- <font color='Orange'> **Projeto final** </font>\n",
        "  - Desafiando-se com um projeto que busca responder perguntas do mundo real utilizando os dados que temos em mãos\n",
        "  - Projeto de exploração do notebook Titanic pelo Kaggle  "
      ],
      "metadata": {
        "id": "lPV40Ll3eJ9b"
      }
    },
    {
      "cell_type": "markdown",
      "source": [
        "<img src=\"https://d5y9g7a5.rocketcdn.me/wp-content/uploads/2021/08/historia-do-titanic-origem-naufragio-sobreviventes-e-fatos-sobre-o-navio-2-960x576.jpg\" width=50%>\n",
        "\n",
        "*fonte: https://segredosdomundo.r7.com/historia-do-titanic/*"
      ],
      "metadata": {
        "id": "l8WwrAC5ghOo"
      }
    },
    {
      "cell_type": "markdown",
      "source": [
        "## Materiais extras"
      ],
      "metadata": {
        "id": "vqE8dx-Kt4T9"
      }
    },
    {
      "cell_type": "markdown",
      "source": [
        "*Tutorial de instalação do Python para quem for programar em Python utilizando outros ambientes fora Google Colab:* <br>\n",
        "https://www.youtube.com/watch?v=VuKvR1J2LQE"
      ],
      "metadata": {
        "id": "9t2FNSMTs73Q"
      }
    },
    {
      "cell_type": "markdown",
      "source": [
        "Fonte de pesquisa e consulta Python: www.python.org"
      ],
      "metadata": {
        "id": "dUuBA8XMuMh0"
      }
    },
    {
      "cell_type": "code",
      "source": [
        "# Vídeo \"Por que todos deveriam aprender a programar? LEGENDADO\"\n",
        "# Pressione as teclas shift e enter para executar esse código e assista o vídeo.\n",
        "from IPython.display import IFrame\n",
        "IFrame(src=\"https://www.youtube.com/watch?v=mHW1Hsqlp6A&t=11s\", width = \"560\", height = \"315\")\n",
        "\n",
        "# Ou entre pelo link: https://www.youtube.com/watch?v=mHW1Hsqlp6A&t=11s"
      ],
      "metadata": {
        "colab": {
          "base_uri": "https://localhost:8080/"
        },
        "id": "D5CAGMzquSth",
        "outputId": "972973ce-675b-4c75-fbaa-bae416c4a0a7"
      },
      "execution_count": null,
      "outputs": [
        {
          "output_type": "execute_result",
          "data": {
            "text/plain": [
              "<IPython.lib.display.IFrame at 0x7f32e8d1f550>"
            ],
            "text/html": [
              "\n",
              "        <iframe\n",
              "            width=\"560\"\n",
              "            height=\"315\"\n",
              "            src=\"https://www.youtube.com/watch?v=mHW1Hsqlp6A&t=11s\"\n",
              "            frameborder=\"0\"\n",
              "            allowfullscreen\n",
              "        ></iframe>\n",
              "        "
            ]
          },
          "metadata": {},
          "execution_count": 33
        }
      ]
    },
    {
      "cell_type": "markdown",
      "source": [
        "Cola para Google Colab: https://colab.research.google.com/github/Tanu-N-Prabhu/Python/blob/master/Cheat_sheet_for_Google_Colab.ipynb"
      ],
      "metadata": {
        "id": "u7qRMe5szmV2"
      }
    },
    {
      "cell_type": "markdown",
      "source": [
        "# PARTE 01"
      ],
      "metadata": {
        "id": "_6fAqjsm3vAs"
      }
    },
    {
      "cell_type": "markdown",
      "source": [
        "O que é Python?\n",
        "\n",
        "- Python é uma linguagem **dinâmica** e interpretada.\n",
        "\n",
        "Python também é:\n",
        "- **Imperativo**: \"algo diz o como fazer\", o que quer dizer que ele segue uma sequência de passos\n",
        "- **Orientada a objetos**: permite utilizar classes e objetos\n",
        "- **Procedural**: permite o uso de funções\n",
        "- **Funcional**: \"um código escrito sob um paradigma funcional é composto de múltiplas funções, que trabalham de forma unificada para a resolução de um problema\""
      ],
      "metadata": {
        "id": "5R8gpS0DisqL"
      }
    },
    {
      "cell_type": "code",
      "source": [
        "# Começando a aula com o Hello World!\n",
        "\n",
        "print('Hello World!')\n",
        "\n",
        "print(\"Hello 'World!'\")\n",
        "print('Hello \"World!\"')"
      ],
      "metadata": {
        "id": "C8ecMZoP3z1D",
        "colab": {
          "base_uri": "https://localhost:8080/"
        },
        "outputId": "2c313833-207c-4806-faaa-fe6984bf971b"
      },
      "execution_count": null,
      "outputs": [
        {
          "output_type": "stream",
          "name": "stdout",
          "text": [
            "Hello World!\n",
            "Hello 'World!'\n",
            "Hello \"World!\"\n"
          ]
        }
      ]
    },
    {
      "cell_type": "markdown",
      "source": [
        "## Tipos de variáveis e atribuições"
      ],
      "metadata": {
        "id": "DFGqTi-B6Qpd"
      }
    },
    {
      "cell_type": "markdown",
      "source": [
        "* Uma variável é uma **referência** para um endereço de memória (ponteiros em linguagem C). Sendo assim, reforce a atenção ao modificar esse endereço de memória com métodos como `append()` etc (*visto ao longo do curso*).\n",
        "* Por ser uma linguagem dinâmica, não é necessário atribuir no código o tipo da variável (`int`, `float`, `str` etc). O Python atribuirá automaticamente."
      ],
      "metadata": {
        "id": "yDCgPZWw6UdA"
      }
    },
    {
      "cell_type": "code",
      "source": [
        "# Inicializando as variáveis do tipo int, float, string e booleana\n",
        "a = 1\n",
        "b = 2.4\n",
        "c = 'Joao'\n",
        "d = False\n",
        "\n",
        "# Procurando o tipo do dado com a função type() e imprimindo os valores com a função print()\n",
        "print( type(a) )\n",
        "print( type(b) )\n",
        "print( type(c) )\n",
        "print( type(d) )"
      ],
      "metadata": {
        "id": "jIN8AdQH878G",
        "colab": {
          "base_uri": "https://localhost:8080/"
        },
        "outputId": "7d03f1c3-3317-4127-da86-8f0af09a4d99"
      },
      "execution_count": null,
      "outputs": [
        {
          "output_type": "stream",
          "name": "stdout",
          "text": [
            "<class 'int'>\n",
            "<class 'float'>\n",
            "<class 'str'>\n",
            "<class 'bool'>\n"
          ]
        }
      ]
    },
    {
      "cell_type": "markdown",
      "source": [
        "*Escrevendo* **aqui**"
      ],
      "metadata": {
        "id": "ZUhpTTS_Jng3"
      }
    },
    {
      "cell_type": "code",
      "source": [
        "# Print com fstring\n",
        "\n",
        "nome = 'Paulo'\n",
        "idade = 25\n",
        "\n",
        "print(f'Meu nome é {nome} e minha idade é {idade}')"
      ],
      "metadata": {
        "id": "RiVsxd2j-nZu",
        "colab": {
          "base_uri": "https://localhost:8080/"
        },
        "outputId": "361e18fe-3cec-4a99-ef22-b20756c033a8"
      },
      "execution_count": null,
      "outputs": [
        {
          "output_type": "stream",
          "name": "stdout",
          "text": [
            "Meu nome é Paulo e minha idade é 25\n"
          ]
        }
      ]
    },
    {
      "cell_type": "code",
      "source": [
        "# Extra: é possível declarar mais de uma variável de uma vez\n",
        "\n",
        "a, b, c = 2, 5, 'Joao'\n",
        "\n",
        "print(a)\n",
        "print(b)\n",
        "print(c)"
      ],
      "metadata": {
        "id": "DW8Z37VPZ-Zs",
        "outputId": "23424dea-6a42-4e07-aef9-5b1cf10ac5c4",
        "colab": {
          "base_uri": "https://localhost:8080/"
        }
      },
      "execution_count": null,
      "outputs": [
        {
          "output_type": "stream",
          "name": "stdout",
          "text": [
            "2\n",
            "5\n",
            "Joao\n"
          ]
        }
      ]
    },
    {
      "cell_type": "markdown",
      "source": [
        "Algumas operações matemáticas são possíveis com os tipos int e float\n",
        " - Obs: toda divisão resulta em float"
      ],
      "metadata": {
        "id": "Sp6nBXWD9yk9"
      }
    },
    {
      "cell_type": "markdown",
      "source": [
        "5 mod 2\n",
        "\n",
        "2 vai caber 2 vezes dentro do 5\n",
        "\n",
        "E em %\n",
        "\n",
        "5 % 2 == 1"
      ],
      "metadata": {
        "id": "vgAEk4K5LzQT"
      }
    },
    {
      "cell_type": "code",
      "source": [
        "a = 4\n",
        "b = 2\n",
        "c = 1\n",
        "d = 1.2\n",
        "\n",
        "# Soma -> +\n",
        "soma = a + b\n",
        "print(f'Resultado da soma: {soma}')\n",
        "\n",
        "# Subtração -> -\n",
        "subtracao = a - b\n",
        "print(\"Resultado do tipo da subtração: \",subtracao)\n",
        "\n",
        "# Multiplicação -> *\n",
        "multiplicacao = a * b\n",
        "print(\"Resultado do tipo da multiplicação: \",multiplicacao)\n",
        "\n",
        "# Divisão -> /\n",
        "divisao = a / b\n",
        "print(\"Resultado do tipo da divisão: \",divisao)\n",
        "\n",
        "# Exponenciação -> **\n",
        "exponencial = a ** b\n",
        "print(\"Resultado do tipo da exponencial: \",exponencial)\n",
        "\n",
        "# Divisão inteira (mod) -> //\n",
        "a_inteira = a // b\n",
        "print(f'A divisão inteira é: {a_inteira}')\n",
        "\n",
        "# Resto da divisão -> %\n",
        "b_resto = a % b\n",
        "print(f'O resto da divisão é: {b_resto}')\n",
        "\n",
        "# Operações Booleanas -> >,<,=>,<=,!=\n",
        "print(1 == 1)\n",
        "print(1 == 1.1)\n",
        "print(1 != 1.1)\n",
        "print(2 > 1)"
      ],
      "metadata": {
        "colab": {
          "base_uri": "https://localhost:8080/"
        },
        "id": "J9adaptW9-j-",
        "outputId": "58dda8fd-acf7-4b86-926a-4fc466421a5a"
      },
      "execution_count": null,
      "outputs": [
        {
          "output_type": "stream",
          "name": "stdout",
          "text": [
            "Resultado da soma: 6\n",
            "Resultado do tipo da subtração:  2\n",
            "Resultado do tipo da multiplicação:  8\n",
            "Resultado do tipo da divisão:  2.0\n",
            "Resultado do tipo da exponencial:  16\n",
            "A divisão inteira é: 2\n",
            "O resto da divisão é: 0\n",
            "True\n",
            "False\n",
            "True\n",
            "True\n"
          ]
        }
      ]
    },
    {
      "cell_type": "code",
      "source": [
        "# Alterando um tipo de dado \"string\" para \"int\"\n",
        "a = '10'\n",
        "print(f'Valor de \"a\" antes da transformação: {a}, tipo do dado \"a\": {type(a)}')\n",
        "\n",
        "# Transformando\n",
        "a = int( a )\n",
        "print(f'Novo dado \"a\": {a}, tipo do dado \"a\": {type(a)}')\n",
        "\n",
        "print('-'*80)\n",
        "\n",
        "# Alterando um tipo \"float\" para \"int\"\n",
        "b = 2.5\n",
        "print(f'Valor de \"b\" antes da transformação: {b}, tipo do dado \"b\": {type(b)}')\n",
        "\n",
        "# Transformando\n",
        "b = int( b )\n",
        "print(f'Novo dado \"b\": {b}, tipo do dado \"b\": {type(b)}')"
      ],
      "metadata": {
        "colab": {
          "base_uri": "https://localhost:8080/"
        },
        "id": "gRbyAKcQRv3X",
        "outputId": "a12332d0-a4eb-4978-d9f7-4ae198fd44b3"
      },
      "execution_count": null,
      "outputs": [
        {
          "output_type": "stream",
          "name": "stdout",
          "text": [
            "Valor de \"a\" antes da transformação: 10, tipo do dado \"a\": <class 'str'>\n",
            "Novo dado \"a\": 10, tipo do dado \"a\": <class 'int'>\n",
            "--------------------------------------------------------------------------------\n",
            "Valor de \"b\" antes da transformação: 2.5, tipo do dado \"b\": <class 'float'>\n",
            "Novo dado \"b\": 2, tipo do dado \"b\": <class 'int'>\n"
          ]
        }
      ]
    },
    {
      "cell_type": "markdown",
      "source": [
        "Algumas operações interessantes com strings"
      ],
      "metadata": {
        "id": "hbtyeWkUCPf4"
      }
    },
    {
      "cell_type": "code",
      "source": [
        "a = 'Seminário'\n",
        "b = ' de '\n",
        "c = 'Python'\n",
        "\n",
        "# Concatenação\n",
        "print(f'a + b + c = {a+b+c}')\n",
        "\n",
        "print('-'*80)\n",
        "\n",
        "# Replicação\n",
        "print(f'(a + b + c) * 10: {(a+b+c)*10}')"
      ],
      "metadata": {
        "id": "Aaz2PPS0CRXQ",
        "colab": {
          "base_uri": "https://localhost:8080/"
        },
        "outputId": "1b27a824-0ebc-4cb4-b709-181593eca580"
      },
      "execution_count": null,
      "outputs": [
        {
          "output_type": "stream",
          "name": "stdout",
          "text": [
            "a + b + c = Seminário de Python\n",
            "--------------------------------------------------------------------------------\n",
            "(a + b + c) * 10: Seminário de PythonSeminário de PythonSeminário de PythonSeminário de PythonSeminário de PythonSeminário de PythonSeminário de PythonSeminário de PythonSeminário de PythonSeminário de Python\n"
          ]
        }
      ]
    },
    {
      "cell_type": "markdown",
      "source": [
        "Referências:\n",
        "- Quando atribuitos uma variável, geramos uma referência a um endereço de memória"
      ],
      "metadata": {
        "id": "ckFNltm5oG9c"
      }
    },
    {
      "cell_type": "code",
      "source": [
        "A = 1  # O valor 1 é referenciado por A\n",
        "B = A  # O valor 1 é referenciado por B\n",
        "\n",
        "print(f\"O valor do endereço de 'A' é: {id(A)}\")    # id retorna o endereço ao qual se referencia\n",
        "print(f\"O valor do endereço de 'B' é: {id(B)}\")"
      ],
      "metadata": {
        "colab": {
          "base_uri": "https://localhost:8080/"
        },
        "id": "pBmmwtA4osq4",
        "outputId": "92ad7b8b-1084-4d88-c4a1-c3263d29a0d7"
      },
      "execution_count": null,
      "outputs": [
        {
          "output_type": "stream",
          "name": "stdout",
          "text": [
            "O valor do endereço de 'A' é: 11126688\n",
            "O valor do endereço de 'B' é: 11126688\n"
          ]
        }
      ]
    },
    {
      "cell_type": "markdown",
      "source": [
        "___\n",
        "\n",
        "**Desafio 1:**\n",
        "\n",
        "Bart foi um aluno negligente na aula do professor Boca e como castigo teve que escrever a frase \"Eu não vou mais matar aula no D.A.\" **250** vezes em um arquivo txt.\n",
        "\n",
        "Pra aumentar a infelicidade de Bart, ele foi obrigado a utilizar um computador do laboratório em que o \"ctrl c\" (copiar e colar) não funcionava!\n",
        "\n",
        "Por sorte, Bart era esperto e tinha alguns truques de Python na manga.\n",
        "Resolva o problema sendo ele!\n",
        "\n",
        "<img src=\"https://i.pinimg.com/originals/97/09/80/97098039eb089e4f68cb02095db6e696.jpg\" width=30%>\n",
        "\n",
        "___"
      ],
      "metadata": {
        "id": "-F2NEUH6Daqz"
      }
    },
    {
      "cell_type": "code",
      "source": [
        "# Ajude Bart\n",
        "frase = \"Eu não vou mais matar aula no D.A.\"\n",
        "frase * 250"
      ],
      "metadata": {
        "id": "AZu6tJorGFQ7",
        "colab": {
          "base_uri": "https://localhost:8080/",
          "height": 127
        },
        "outputId": "a328c9e9-1522-45e0-d34d-e6e35a4d1846"
      },
      "execution_count": null,
      "outputs": [
        {
          "output_type": "execute_result",
          "data": {
            "text/plain": [
              "'Eu não vou mais matar aula no D.A.Eu não vou mais matar aula no D.A.Eu não vou mais matar aula no D.A.Eu não vou mais matar aula no D.A.Eu não vou mais matar aula no D.A.Eu não vou mais matar aula no D.A.Eu não vou mais matar aula no D.A.Eu não vou mais matar aula no D.A.Eu não vou mais matar aula no D.A.Eu não vou mais matar aula no D.A.Eu não vou mais matar aula no D.A.Eu não vou mais matar aula no D.A.Eu não vou mais matar aula no D.A.Eu não vou mais matar aula no D.A.Eu não vou mais matar aula no D.A.Eu não vou mais matar aula no D.A.Eu não vou mais matar aula no D.A.Eu não vou mais matar aula no D.A.Eu não vou mais matar aula no D.A.Eu não vou mais matar aula no D.A.Eu não vou mais matar aula no D.A.Eu não vou mais matar aula no D.A.Eu não vou mais matar aula no D.A.Eu não vou mais matar aula no D.A.Eu não vou mais matar aula no D.A.Eu não vou mais matar aula no D.A.Eu não vou mais matar aula no D.A.Eu não vou mais matar aula no D.A.Eu não vou mais matar aula no D.A.Eu não vou mais matar aula no D.A.Eu não vou mais matar aula no D.A.Eu não vou mais matar aula no D.A.Eu não vou mais matar aula no D.A.Eu não vou mais matar aula no D.A.Eu não vou mais matar aula no D.A.Eu não vou mais matar aula no D.A.Eu não vou mais matar aula no D.A.Eu não vou mais matar aula no D.A.Eu não vou mais matar aula no D.A.Eu não vou mais matar aula no D.A.Eu não vou mais matar aula no D.A.Eu não vou mais matar aula no D.A.Eu não vou mais matar aula no D.A.Eu não vou mais matar aula no D.A.Eu não vou mais matar aula no D.A.Eu não vou mais matar aula no D.A.Eu não vou mais matar aula no D.A.Eu não vou mais matar aula no D.A.Eu não vou mais matar aula no D.A.Eu não vou mais matar aula no D.A.Eu não vou mais matar aula no D.A.Eu não vou mais matar aula no D.A.Eu não vou mais matar aula no D.A.Eu não vou mais matar aula no D.A.Eu não vou mais matar aula no D.A.Eu não vou mais matar aula no D.A.Eu não vou mais matar aula no D.A.Eu não vou mais matar aula no D.A.Eu não vou mais matar aula no D.A.Eu não vou mais matar aula no D.A.Eu não vou mais matar aula no D.A.Eu não vou mais matar aula no D.A.Eu não vou mais matar aula no D.A.Eu não vou mais matar aula no D.A.Eu não vou mais matar aula no D.A.Eu não vou mais matar aula no D.A.Eu não vou mais matar aula no D.A.Eu não vou mais matar aula no D.A.Eu não vou mais matar aula no D.A.Eu não vou mais matar aula no D.A.Eu não vou mais matar aula no D.A.Eu não vou mais matar aula no D.A.Eu não vou mais matar aula no D.A.Eu não vou mais matar aula no D.A.Eu não vou mais matar aula no D.A.Eu não vou mais matar aula no D.A.Eu não vou mais matar aula no D.A.Eu não vou mais matar aula no D.A.Eu não vou mais matar aula no D.A.Eu não vou mais matar aula no D.A.Eu não vou mais matar aula no D.A.Eu não vou mais matar aula no D.A.Eu não vou mais matar aula no D.A.Eu não vou mais matar aula no D.A.Eu não vou mais matar aula no D.A.Eu não vou mais matar aula no D.A.Eu não vou mais matar aula no D.A.Eu não vou mais matar aula no D.A.Eu não vou mais matar aula no D.A.Eu não vou mais matar aula no D.A.Eu não vou mais matar aula no D.A.Eu não vou mais matar aula no D.A.Eu não vou mais matar aula no D.A.Eu não vou mais matar aula no D.A.Eu não vou mais matar aula no D.A.Eu não vou mais matar aula no D.A.Eu não vou mais matar aula no D.A.Eu não vou mais matar aula no D.A.Eu não vou mais matar aula no D.A.Eu não vou mais matar aula no D.A.Eu não vou mais matar aula no D.A.Eu não vou mais matar aula no D.A.Eu não vou mais matar aula no D.A.Eu não vou mais matar aula no D.A.Eu não vou mais matar aula no D.A.Eu não vou mais matar aula no D.A.Eu não vou mais matar aula no D.A.Eu não vou mais matar aula no D.A.Eu não vou mais matar aula no D.A.Eu não vou mais matar aula no D.A.Eu não vou mais matar aula no D.A.Eu não vou mais matar aula no D.A.Eu não vou mais matar aula no D.A.Eu não vou mais matar aula no D.A.Eu não vou mais matar aula no D.A.Eu não vou mais matar aula no D.A.Eu não vou mais matar aula no D.A.Eu não vou mais matar aula no D.A.Eu não vou mais matar aula no D.A.Eu não vou mais matar aula no D.A.Eu não vou mais matar aula no D.A.Eu não vou mais matar aula no D.A.Eu não vou mais matar aula no D.A.Eu não vou mais matar aula no D.A.Eu não vou mais matar aula no D.A.Eu não vou mais matar aula no D.A.Eu não vou mais matar aula no D.A.Eu não vou mais matar aula no D.A.Eu não vou mais matar aula no D.A.Eu não vou mais matar aula no D.A.Eu não vou mais matar aula no D.A.Eu não vou mais matar aula no D.A.Eu não vou mais matar aula no D.A.Eu não vou mais matar aula no D.A.Eu não vou mais matar aula no D.A.Eu não vou mais matar aula no D.A.Eu não vou mais matar aula no D.A.Eu não vou mais matar aula no D.A.Eu não vou mais matar aula no D.A.Eu não vou mais matar aula no D.A.Eu não vou mais matar aula no D.A.Eu não vou mais matar aula no D.A.Eu não vou mais matar aula no D.A.Eu não vou mais matar aula no D.A.Eu não vou mais matar aula no D.A.Eu não vou mais matar aula no D.A.Eu não vou mais matar aula no D.A.Eu não vou mais matar aula no D.A.Eu não vou mais matar aula no D.A.Eu não vou mais matar aula no D.A.Eu não vou mais matar aula no D.A.Eu não vou mais matar aula no D.A.Eu não vou mais matar aula no D.A.Eu não vou mais matar aula no D.A.Eu não vou mais matar aula no D.A.Eu não vou mais matar aula no D.A.Eu não vou mais matar aula no D.A.Eu não vou mais matar aula no D.A.Eu não vou mais matar aula no D.A.Eu não vou mais matar aula no D.A.Eu não vou mais matar aula no D.A.Eu não vou mais matar aula no D.A.Eu não vou mais matar aula no D.A.Eu não vou mais matar aula no D.A.Eu não vou mais matar aula no D.A.Eu não vou mais matar aula no D.A.Eu não vou mais matar aula no D.A.Eu não vou mais matar aula no D.A.Eu não vou mais matar aula no D.A.Eu não vou mais matar aula no D.A.Eu não vou mais matar aula no D.A.Eu não vou mais matar aula no D.A.Eu não vou mais matar aula no D.A.Eu não vou mais matar aula no D.A.Eu não vou mais matar aula no D.A.Eu não vou mais matar aula no D.A.Eu não vou mais matar aula no D.A.Eu não vou mais matar aula no D.A.Eu não vou mais matar aula no D.A.Eu não vou mais matar aula no D.A.Eu não vou mais matar aula no D.A.Eu não vou mais matar aula no D.A.Eu não vou mais matar aula no D.A.Eu não vou mais matar aula no D.A.Eu não vou mais matar aula no D.A.Eu não vou mais matar aula no D.A.Eu não vou mais matar aula no D.A.Eu não vou mais matar aula no D.A.Eu não vou mais matar aula no D.A.Eu não vou mais matar aula no D.A.Eu não vou mais matar aula no D.A.Eu não vou mais matar aula no D.A.Eu não vou mais matar aula no D.A.Eu não vou mais matar aula no D.A.Eu não vou mais matar aula no D.A.Eu não vou mais matar aula no D.A.Eu não vou mais matar aula no D.A.Eu não vou mais matar aula no D.A.Eu não vou mais matar aula no D.A.Eu não vou mais matar aula no D.A.Eu não vou mais matar aula no D.A.Eu não vou mais matar aula no D.A.Eu não vou mais matar aula no D.A.Eu não vou mais matar aula no D.A.Eu não vou mais matar aula no D.A.Eu não vou mais matar aula no D.A.Eu não vou mais matar aula no D.A.Eu não vou mais matar aula no D.A.Eu não vou mais matar aula no D.A.Eu não vou mais matar aula no D.A.Eu não vou mais matar aula no D.A.Eu não vou mais matar aula no D.A.Eu não vou mais matar aula no D.A.Eu não vou mais matar aula no D.A.Eu não vou mais matar aula no D.A.Eu não vou mais matar aula no D.A.Eu não vou mais matar aula no D.A.Eu não vou mais matar aula no D.A.Eu não vou mais matar aula no D.A.Eu não vou mais matar aula no D.A.Eu não vou mais matar aula no D.A.Eu não vou mais matar aula no D.A.Eu não vou mais matar aula no D.A.Eu não vou mais matar aula no D.A.Eu não vou mais matar aula no D.A.Eu não vou mais matar aula no D.A.Eu não vou mais matar aula no D.A.Eu não vou mais matar aula no D.A.Eu não vou mais matar aula no D.A.Eu não vou mais matar aula no D.A.Eu não vou mais matar aula no D.A.Eu não vou mais matar aula no D.A.Eu não vou mais matar aula no D.A.Eu não vou mais matar aula no D.A.Eu não vou mais matar aula no D.A.Eu não vou mais matar aula no D.A.Eu não vou mais matar aula no D.A.Eu não vou mais matar aula no D.A.Eu não vou mais matar aula no D.A.Eu não vou mais matar aula no D.A.Eu não vou mais matar aula no D.A.Eu não vou mais matar aula no D.A.Eu não vou mais matar aula no D.A.Eu não vou mais matar aula no D.A.Eu não vou mais matar aula no D.A.Eu não vou mais matar aula no D.A.Eu não vou mais matar aula no D.A.Eu não vou mais matar aula no D.A.Eu não vou mais matar aula no D.A.Eu não vou mais matar aula no D.A.'"
            ],
            "application/vnd.google.colaboratory.intrinsic+json": {
              "type": "string"
            }
          },
          "metadata": {},
          "execution_count": 42
        }
      ]
    },
    {
      "cell_type": "code",
      "source": [
        "# Exercício 2\n",
        "# Realize as seguintes operações:\n",
        "\n",
        "# a. 2 + 3 - 1\n",
        "a = 2 + 3 - 1\n",
        "print('a: ', a)\n",
        "\n",
        "# b. 2 + 3 * 2\n",
        "b = 2 + ( 3 * 2 )\n",
        "print('b: ', b)\n",
        "\n",
        "# c. (2)^3^2 [Observe que o resultado é o mesmo que 2^9]\n",
        "c = 2 ** 9\n",
        "print('c: ', c)"
      ],
      "metadata": {
        "id": "2yC0Ur76JZVs",
        "colab": {
          "base_uri": "https://localhost:8080/"
        },
        "outputId": "4f20f3e9-5ce8-4379-fccc-4043c0555afe"
      },
      "execution_count": null,
      "outputs": [
        {
          "output_type": "stream",
          "name": "stdout",
          "text": [
            "a:  4\n",
            "b:  8\n",
            "c:  512\n"
          ]
        }
      ]
    },
    {
      "cell_type": "markdown",
      "source": [
        "## Listas, tuplas, strings e Dicionários"
      ],
      "metadata": {
        "id": "cwQa5jHTKbi6"
      }
    },
    {
      "cell_type": "markdown",
      "source": [
        "**Lista**\n",
        "- Chamada de \"list\"\n",
        "- É uma sequência de elementos (de vários tipos) com uma dada ordem\n",
        "- Comum ao nosso dia a dia na \"lista de mercado\" ou \"lista de notas de provas\""
      ],
      "metadata": {
        "id": "mal5wbkjKj_g"
      }
    },
    {
      "cell_type": "code",
      "source": [
        "# Criando uma lista com [ ]\n",
        "\n",
        "lst = [ 1, 2, 3, 'Pedro', True ]\n",
        "lst"
      ],
      "metadata": {
        "id": "yQAFveoMK8yt",
        "colab": {
          "base_uri": "https://localhost:8080/"
        },
        "outputId": "b0338b17-1c4c-45ba-cb25-de995c2bbf0d"
      },
      "execution_count": null,
      "outputs": [
        {
          "output_type": "execute_result",
          "data": {
            "text/plain": [
              "[1, 2, 3, 'Pedro', True]"
            ]
          },
          "metadata": {},
          "execution_count": 44
        }
      ]
    },
    {
      "cell_type": "code",
      "source": [
        "# Acessando valores da lista pelo índice com lista[n]\n",
        "lst[0]"
      ],
      "metadata": {
        "colab": {
          "base_uri": "https://localhost:8080/"
        },
        "id": "yTU-Ij3QddX_",
        "outputId": "21489a0c-25f1-4c8f-b5ae-4eaef50c0af7"
      },
      "execution_count": null,
      "outputs": [
        {
          "output_type": "execute_result",
          "data": {
            "text/plain": [
              "1"
            ]
          },
          "metadata": {},
          "execution_count": 45
        }
      ]
    },
    {
      "cell_type": "code",
      "source": [
        "# Criando uma lista vazia\n",
        "lst_vazia = []\n",
        "\n",
        "# Inserindo elementos na lista com o lista.append(x)\n",
        "lst_vazia.append('Marcelo')\n",
        "lst_vazia.append('Marcio')\n",
        "\n",
        "lst_vazia"
      ],
      "metadata": {
        "id": "7QJEO7hqMYXr",
        "colab": {
          "base_uri": "https://localhost:8080/"
        },
        "outputId": "bf8fe50d-84e1-43e9-9cfd-0662af4c7e65"
      },
      "execution_count": null,
      "outputs": [
        {
          "output_type": "execute_result",
          "data": {
            "text/plain": [
              "['Marcelo', 'Marcio']"
            ]
          },
          "metadata": {},
          "execution_count": 46
        }
      ]
    },
    {
      "cell_type": "code",
      "source": [
        "lst_auxiliar = ['a','b','c','d','e']\n",
        "\n",
        "# Inserindo elementos na lista escolhendo a posição com o lista.insert(posição, elemento)\n",
        "lst_auxiliar.insert(2, 'Z')\n",
        "print(lst_auxiliar)"
      ],
      "metadata": {
        "id": "LUE2pt0HNMm8",
        "colab": {
          "base_uri": "https://localhost:8080/"
        },
        "outputId": "a748b66f-3aed-4658-f89f-3db4fb220943"
      },
      "execution_count": null,
      "outputs": [
        {
          "output_type": "stream",
          "name": "stdout",
          "text": [
            "['a', 'b', 'Z', 'c', 'd', 'e']\n"
          ]
        }
      ]
    },
    {
      "cell_type": "code",
      "source": [
        "lst_auxiliar = ['a','b','c','d','e']\n",
        "\n",
        "# Excluindo elementos da lista escolhendo a posição com del lista[posição]\n",
        "del lst_auxiliar[2]\n",
        "print(lst_auxiliar)"
      ],
      "metadata": {
        "id": "VwT-thXONSVn",
        "colab": {
          "base_uri": "https://localhost:8080/"
        },
        "outputId": "ca6fbcce-ed80-4f08-bfc1-f39a9c62e5a1"
      },
      "execution_count": null,
      "outputs": [
        {
          "output_type": "stream",
          "name": "stdout",
          "text": [
            "['a', 'b', 'd', 'e']\n"
          ]
        }
      ]
    },
    {
      "cell_type": "code",
      "source": [
        "lst_auxiliar = ['a','b','c','d','e']\n",
        "\n",
        "# Excluindo elemento da lista e salvando o elemento excluído em uma variável com o lista.pop(posição)\n",
        "excluido = lst_auxiliar.pop(3)\n",
        "print(f'Elemento excluido: {excluido}')"
      ],
      "metadata": {
        "id": "LD6qOowDNlCc",
        "colab": {
          "base_uri": "https://localhost:8080/"
        },
        "outputId": "cb325344-0105-42c0-ba3b-74e42e22288e"
      },
      "execution_count": null,
      "outputs": [
        {
          "output_type": "stream",
          "name": "stdout",
          "text": [
            "Elemento excluido: d\n"
          ]
        }
      ]
    },
    {
      "cell_type": "code",
      "source": [
        "lst_auxiliar = ['a','b','c','d','e']\n",
        "\n",
        "# Verificando o tamanho de uma lista com a função len(lista)\n",
        "len( lst_auxiliar )"
      ],
      "metadata": {
        "id": "sFcXlAtmOun7",
        "colab": {
          "base_uri": "https://localhost:8080/"
        },
        "outputId": "6efd4a6a-053b-465f-a5ba-a09b49b51ee2"
      },
      "execution_count": null,
      "outputs": [
        {
          "output_type": "execute_result",
          "data": {
            "text/plain": [
              "5"
            ]
          },
          "metadata": {},
          "execution_count": 50
        }
      ]
    },
    {
      "cell_type": "code",
      "source": [
        "lst_auxiliar = ['a','b','c','d','e']\n",
        "\n",
        "# Índices negativos (buscando elementos em ordem contrária)\n",
        "\n",
        "print( lst_auxiliar[-1] ) # último\n",
        "print( lst_auxiliar[-2] ) # penúltimo"
      ],
      "metadata": {
        "id": "wdr7NqwEO9Xz",
        "colab": {
          "base_uri": "https://localhost:8080/"
        },
        "outputId": "b87c110e-5ad5-44ac-a48d-45fd969f66b8"
      },
      "execution_count": null,
      "outputs": [
        {
          "output_type": "stream",
          "name": "stdout",
          "text": [
            "e\n",
            "d\n"
          ]
        }
      ]
    },
    {
      "cell_type": "code",
      "source": [
        "# Extra: listas com listas dentro\n",
        "\n",
        "lst_extra = ['a', 'c', 3, 5, ['João', ['Carlos', 'Alberto'], 'Marcio'], True]\n",
        "print(lst_extra)"
      ],
      "metadata": {
        "colab": {
          "base_uri": "https://localhost:8080/"
        },
        "id": "Ma-MOc5VPPrv",
        "outputId": "1a8b564e-39b5-49b6-f558-f55840fb107e"
      },
      "execution_count": null,
      "outputs": [
        {
          "output_type": "stream",
          "name": "stdout",
          "text": [
            "['a', 'c', 3, 5, ['João', ['Carlos', 'Alberto'], 'Marcio'], True]\n"
          ]
        }
      ]
    },
    {
      "cell_type": "code",
      "source": [
        "# Extra: concatenando listas com o operador +\n",
        "\n",
        "lst_a = [1,2,3,4,5]\n",
        "lst_b = [2,2,2,2,2]\n",
        "\n",
        "lst_a + lst_b"
      ],
      "metadata": {
        "id": "YmizLlnHrYE7",
        "colab": {
          "base_uri": "https://localhost:8080/"
        },
        "outputId": "c77ec200-bbba-410d-9bb5-0c17dbd0792f"
      },
      "execution_count": null,
      "outputs": [
        {
          "output_type": "execute_result",
          "data": {
            "text/plain": [
              "[1, 2, 3, 4, 5, 2, 2, 2, 2, 2]"
            ]
          },
          "metadata": {},
          "execution_count": 53
        }
      ]
    },
    {
      "cell_type": "code",
      "source": [
        "# Extra: copiando outra lista em uma nova com o lista.extend()\n",
        "\n",
        "lst_a = ['a','b', 'c', 'd']\n",
        "lst_b = ['e', 'f', 'g', 'h']\n",
        "\n",
        "# Trazendo o conteúdo da lista B para a lista A\n",
        "\n",
        "lst_a.extend( lst_b )\n",
        "\n",
        "print(lst_a)"
      ],
      "metadata": {
        "id": "muuqx7H2rqxe",
        "colab": {
          "base_uri": "https://localhost:8080/"
        },
        "outputId": "f41f8f65-cb8b-48f8-b9c1-26ca54877f48"
      },
      "execution_count": null,
      "outputs": [
        {
          "output_type": "stream",
          "name": "stdout",
          "text": [
            "['a', 'b', 'c', 'd', 'e', 'f', 'g', 'h']\n"
          ]
        }
      ]
    },
    {
      "cell_type": "markdown",
      "source": [
        "Lembram de como o Python faz a referência?\n",
        "\n",
        "Então realize o seguinte teste:\n",
        "```Python\n",
        "A = [1,2,3,4,5]\n",
        "B = A\n",
        "\n",
        "print(f'A antes: {A}')\n",
        "\n",
        "B.append(30)\n",
        "\n",
        "print(f'A depois: {A}')\n",
        "```"
      ],
      "metadata": {
        "id": "8tQUy4kxqOok"
      }
    },
    {
      "cell_type": "code",
      "source": [
        "A = [1,2,3,4,5]\n",
        "B = A\n",
        "\n",
        "print(f'A antes: {A}')\n",
        "\n",
        "B.append(30)\n",
        "\n",
        "print(f'A depois: {A}')"
      ],
      "metadata": {
        "colab": {
          "base_uri": "https://localhost:8080/"
        },
        "id": "fO7r0cXsqyej",
        "outputId": "b3cff3b5-5964-4e7e-9345-62e6620380c3"
      },
      "execution_count": null,
      "outputs": [
        {
          "output_type": "stream",
          "name": "stdout",
          "text": [
            "A antes: [1, 2, 3, 4, 5]\n",
            "A depois: [1, 2, 3, 4, 5, 30]\n"
          ]
        }
      ]
    },
    {
      "cell_type": "markdown",
      "source": [
        "O que ocorre é que como ambas as variáveis **A** e **B** referenciam para a mesma lista, quando **B** é alterada através do `append()`, **A** também é afetada!"
      ],
      "metadata": {
        "id": "HUttjxsnq2QG"
      }
    },
    {
      "cell_type": "code",
      "source": [
        "# Outro exemplo\n",
        "\n",
        "a = [1,2,3,4,5]\n",
        "b = a\n",
        "\n",
        "b.extend([10, 20, 30])\n",
        "\n",
        "print(a)"
      ],
      "metadata": {
        "colab": {
          "base_uri": "https://localhost:8080/"
        },
        "id": "oxHB17_CsHGo",
        "outputId": "05ccaa59-ba87-4a22-db74-cabf3a9ea2d1"
      },
      "execution_count": null,
      "outputs": [
        {
          "output_type": "stream",
          "name": "stdout",
          "text": [
            "[1, 2, 3, 4, 5, 10, 20, 30]\n"
          ]
        }
      ]
    },
    {
      "cell_type": "code",
      "source": [
        "# Encontrando o índice da primeira ocorrência de um valor em uma lista\n",
        "\n",
        "nomes = ['Joao', 'Pedro', 'Carlos']\n",
        "\n",
        "# Encontrando o índice de Pedro com o lista.index(x)\n",
        "posicao = nomes.index( 'Carlos' )\n",
        "print('O índice de Carlos é: ', posicao)"
      ],
      "metadata": {
        "id": "YFUFYMiksbm9",
        "colab": {
          "base_uri": "https://localhost:8080/"
        },
        "outputId": "6482147d-8764-41db-984b-eae167fc8c53"
      },
      "execution_count": null,
      "outputs": [
        {
          "output_type": "stream",
          "name": "stdout",
          "text": [
            "O índice de Carlos é:  2\n"
          ]
        }
      ]
    },
    {
      "cell_type": "code",
      "source": [
        "# Contando o número de letras 'a' em 'abacate' com o lista.count()\n",
        "\n",
        "fruta = 'abacate'\n",
        "fruta.count('a')"
      ],
      "metadata": {
        "id": "SqjyNFMMsnS9",
        "colab": {
          "base_uri": "https://localhost:8080/"
        },
        "outputId": "87a4b532-40b2-4e5b-af31-87ca36bf3cde"
      },
      "execution_count": null,
      "outputs": [
        {
          "output_type": "execute_result",
          "data": {
            "text/plain": [
              "3"
            ]
          },
          "metadata": {},
          "execution_count": 58
        }
      ]
    },
    {
      "cell_type": "code",
      "source": [
        "lst_aux = [3, 1, 2, 20, 10]\n",
        "\n",
        "# Ordenando uma lista com lista.sort()   OBS: este método altera a lista original\n",
        "lst_aux.sort()\n",
        "\n",
        "print('Lista ordenada:\\n', lst_aux)\n",
        "print('-'*80)\n",
        "print('Lista original:\\n', lst_aux)"
      ],
      "metadata": {
        "id": "6x-TtAJXsuya",
        "colab": {
          "base_uri": "https://localhost:8080/"
        },
        "outputId": "d8a67150-d6b1-4089-b927-7aa3ccabdfc7"
      },
      "execution_count": null,
      "outputs": [
        {
          "output_type": "stream",
          "name": "stdout",
          "text": [
            "Lista ordenada:\n",
            " [1, 2, 3, 10, 20]\n",
            "--------------------------------------------------------------------------------\n",
            "Lista original:\n",
            " [1, 2, 3, 10, 20]\n"
          ]
        }
      ]
    },
    {
      "cell_type": "code",
      "source": [
        "lst_aux = [3, 1, 2, 20, 10]\n",
        "\n",
        "# Ordenando a lista sem alterar a original (cria-se uma nova sequência na memória) usando o sorted(lista)\n",
        "lst_ordenada = sorted(lst_aux)\n",
        "\n",
        "print('Lista ordenada:\\n', lst_ordenada)\n",
        "print('-'*80)\n",
        "print('Lista original:\\n', lst_aux)"
      ],
      "metadata": {
        "id": "MeMSv8PvtQkk",
        "colab": {
          "base_uri": "https://localhost:8080/"
        },
        "outputId": "c79af0f5-c1d7-438c-edb2-f3b9eba0ae09"
      },
      "execution_count": null,
      "outputs": [
        {
          "output_type": "stream",
          "name": "stdout",
          "text": [
            "Lista ordenada:\n",
            " [1, 2, 3, 10, 20]\n",
            "--------------------------------------------------------------------------------\n",
            "Lista original:\n",
            " [3, 1, 2, 20, 10]\n"
          ]
        }
      ]
    },
    {
      "cell_type": "code",
      "source": [
        "# Achando o maior elemento da sequência com max(lista)\n",
        "\n",
        "lst_aux = [3, 1, 2, 20, 10]\n",
        "\n",
        "max( lst_aux )"
      ],
      "metadata": {
        "id": "Sp9YXY9JthjJ",
        "colab": {
          "base_uri": "https://localhost:8080/"
        },
        "outputId": "3662c149-4849-4ea4-9d25-daee6c3a6e5c"
      },
      "execution_count": null,
      "outputs": [
        {
          "output_type": "execute_result",
          "data": {
            "text/plain": [
              "20"
            ]
          },
          "metadata": {},
          "execution_count": 61
        }
      ]
    },
    {
      "cell_type": "code",
      "source": [
        "# Achando o menor elemento da sequência com min(lista)\n",
        "\n",
        "lst_aux = [3, 1, 2, 20, 10]\n",
        "\n",
        "min( lst_aux )"
      ],
      "metadata": {
        "id": "Takt6mBctneN",
        "colab": {
          "base_uri": "https://localhost:8080/"
        },
        "outputId": "fc4e123e-55ad-4403-ef1e-54cb2a3a7dd6"
      },
      "execution_count": null,
      "outputs": [
        {
          "output_type": "execute_result",
          "data": {
            "text/plain": [
              "1"
            ]
          },
          "metadata": {},
          "execution_count": 62
        }
      ]
    },
    {
      "cell_type": "markdown",
      "source": [
        "**Tupla**\n",
        "\n",
        "- Chamada de \"tuple\"\n",
        "- Similar a lista mas os elementos não podem ser modificados!\n",
        "- Muito útil quando queremos que outra pessoa, função ou método NÃO altere a lista original"
      ],
      "metadata": {
        "id": "FwzptiiaK-8R"
      }
    },
    {
      "cell_type": "code",
      "source": [
        "# Criando uma tupla com ()\n",
        "\n",
        "tupla_auxiliar = (2, 3, 'a', 'b', 3.5)\n",
        "print(tupla_auxiliar)"
      ],
      "metadata": {
        "id": "dwU-UHfmLKZ3",
        "colab": {
          "base_uri": "https://localhost:8080/"
        },
        "outputId": "3420a015-6686-42aa-d760-c84292eed6af"
      },
      "execution_count": null,
      "outputs": [
        {
          "output_type": "stream",
          "name": "stdout",
          "text": [
            "(2, 3, 'a', 'b', 3.5)\n"
          ]
        }
      ]
    },
    {
      "cell_type": "code",
      "source": [
        "# Tentando adicionar algo em uma tupla (descomente e veja o que acontece)\n",
        "# tupla_auxiliar.append('Z')"
      ],
      "metadata": {
        "id": "vRl6BucLP3gw"
      },
      "execution_count": null,
      "outputs": []
    },
    {
      "cell_type": "markdown",
      "source": [
        "\"Mas e se eu precisar muito mexer na tupla? (Você precisa mesmo??!)\"\n",
        "\n",
        "<img src=\"https://www.memesmonkey.com/images/memesmonkey/8c/8c61344284918bae325bdc4fbf9c6c6f.jpeg\" width=20%>"
      ],
      "metadata": {
        "id": "qzU2_88uQDaF"
      }
    },
    {
      "cell_type": "code",
      "source": [
        "type( tupla_auxiliar )"
      ],
      "metadata": {
        "colab": {
          "base_uri": "https://localhost:8080/"
        },
        "id": "fGayiwvkdQ-a",
        "outputId": "ba8ec57b-6bfa-4399-83dd-91a343c6d4c6"
      },
      "execution_count": null,
      "outputs": [
        {
          "output_type": "execute_result",
          "data": {
            "text/plain": [
              "tuple"
            ]
          },
          "metadata": {},
          "execution_count": 65
        }
      ]
    },
    {
      "cell_type": "code",
      "source": [
        "# Transformando uma tupla em uma lista com o list(x)\n",
        "tupla_auxiliar = list( tupla_auxiliar )\n",
        "\n",
        "type( tupla_auxiliar )"
      ],
      "metadata": {
        "id": "O6vcLCPiQOni",
        "colab": {
          "base_uri": "https://localhost:8080/"
        },
        "outputId": "a82a55eb-2063-4610-c75d-2398a36720fe"
      },
      "execution_count": null,
      "outputs": [
        {
          "output_type": "execute_result",
          "data": {
            "text/plain": [
              "list"
            ]
          },
          "metadata": {},
          "execution_count": 66
        }
      ]
    },
    {
      "cell_type": "code",
      "source": [
        "# Adicionando o elemento na lista\n",
        "tupla_auxiliar.append('Z')"
      ],
      "metadata": {
        "id": "JefvRsP4QRuX"
      },
      "execution_count": null,
      "outputs": []
    },
    {
      "cell_type": "code",
      "source": [
        "# Transformando a lista em uma tupla novamente com tuple(x)\n",
        "tupla_auxiliar = tuple( tupla_auxiliar )\n",
        "\n",
        "type( tupla_auxiliar )"
      ],
      "metadata": {
        "id": "5BnQ4-AKQUV7",
        "colab": {
          "base_uri": "https://localhost:8080/"
        },
        "outputId": "715fb823-b176-4e23-e822-20cd48a7e868"
      },
      "execution_count": null,
      "outputs": [
        {
          "output_type": "execute_result",
          "data": {
            "text/plain": [
              "tuple"
            ]
          },
          "metadata": {},
          "execution_count": 68
        }
      ]
    },
    {
      "cell_type": "code",
      "source": [
        "# Verificando como ficou nossa tupla\n",
        "tupla_auxiliar"
      ],
      "metadata": {
        "id": "r6ipK2cJP_u-",
        "outputId": "cb2bbf87-6375-44e2-df99-3f5e006b4b2e",
        "colab": {
          "base_uri": "https://localhost:8080/"
        }
      },
      "execution_count": null,
      "outputs": [
        {
          "output_type": "execute_result",
          "data": {
            "text/plain": [
              "(2, 3, 'a', 'b', 3.5, 'Z')"
            ]
          },
          "metadata": {},
          "execution_count": 69
        }
      ]
    },
    {
      "cell_type": "markdown",
      "source": [
        "**String**\n",
        "\n",
        "- Cadeia de caracteres com leitura 1 a 1\n",
        "- \"Uma palavra é uma **SEQUÊNCIA** de letras"
      ],
      "metadata": {
        "id": "PaSYm103LKhn"
      }
    },
    {
      "cell_type": "code",
      "source": [
        "str_auxiliar = 'Computação é o orgulho da PUC'\n",
        "\n",
        "# Acessando as letras da string com str[posição]\n",
        "\n",
        "print('Posição 1 da string: ', str_auxiliar[0])   # Obs: o primeiro elemento é o 0\n",
        "print('Posição 3 da string: ', str_auxiliar[2])\n",
        "print('Posição 10 da string: ', str_auxiliar[9])\n",
        "print('Última posição da string: ', str_auxiliar[-1])"
      ],
      "metadata": {
        "id": "xO7knLe5LTz4",
        "colab": {
          "base_uri": "https://localhost:8080/"
        },
        "outputId": "1a68f8ec-a117-40d5-9fe2-9d6b0adeb617"
      },
      "execution_count": null,
      "outputs": [
        {
          "output_type": "stream",
          "name": "stdout",
          "text": [
            "Posição 1 da string:  C\n",
            "Posição 3 da string:  m\n",
            "Posição 10 da string:  o\n",
            "Última posição da string:  C\n"
          ]
        }
      ]
    },
    {
      "cell_type": "code",
      "source": [
        "# Transformando as primeiras letras das palavras em maiúsculas com o string.title()\n",
        "nome = 'joao barbosa'\n",
        "nome = nome.title()\n",
        "nome"
      ],
      "metadata": {
        "colab": {
          "base_uri": "https://localhost:8080/",
          "height": 36
        },
        "id": "NJDdsOiiUUzo",
        "outputId": "efc81d41-9b42-4e0f-f525-c362be1d7279"
      },
      "execution_count": null,
      "outputs": [
        {
          "output_type": "execute_result",
          "data": {
            "text/plain": [
              "'Joao Barbosa'"
            ],
            "application/vnd.google.colaboratory.intrinsic+json": {
              "type": "string"
            }
          },
          "metadata": {},
          "execution_count": 71
        }
      ]
    },
    {
      "cell_type": "code",
      "source": [
        "# Transformando todas as letras em maiúsculas com string.upper()\n",
        "nome = 'joao barbosa'\n",
        "nome = nome.upper()\n",
        "nome"
      ],
      "metadata": {
        "id": "FCnKVh2XUwx3",
        "colab": {
          "base_uri": "https://localhost:8080/",
          "height": 36
        },
        "outputId": "e6c70027-82f3-42cf-8a76-fc384f1a1740"
      },
      "execution_count": null,
      "outputs": [
        {
          "output_type": "execute_result",
          "data": {
            "text/plain": [
              "'JOAO BARBOSA'"
            ],
            "application/vnd.google.colaboratory.intrinsic+json": {
              "type": "string"
            }
          },
          "metadata": {},
          "execution_count": 72
        }
      ]
    },
    {
      "cell_type": "code",
      "source": [
        "# Transformando todas as letras em minúsculas com string.lower()\n",
        "nome = 'JOAO BARBOSA'\n",
        "nome = nome.lower()\n",
        "nome"
      ],
      "metadata": {
        "id": "62loN-QvU0Sv",
        "colab": {
          "base_uri": "https://localhost:8080/",
          "height": 36
        },
        "outputId": "0b763f08-242f-43df-cdbe-bc155fde2f96"
      },
      "execution_count": null,
      "outputs": [
        {
          "output_type": "execute_result",
          "data": {
            "text/plain": [
              "'joao barbosa'"
            ],
            "application/vnd.google.colaboratory.intrinsic+json": {
              "type": "string"
            }
          },
          "metadata": {},
          "execution_count": 73
        }
      ]
    },
    {
      "cell_type": "code",
      "source": [
        "# Tabulações com \\n e \\t\n",
        "print('Hello World')\n",
        "print('-'*80)\n",
        "print('\\t\\tHello World')\n",
        "print('-'*80)\n",
        "print('Hello \\nWorld')\n",
        "\n",
        "# \\t adicionará um tab\n",
        "# \\n pulará uma linha"
      ],
      "metadata": {
        "id": "HOlo8u6lU7qI",
        "colab": {
          "base_uri": "https://localhost:8080/"
        },
        "outputId": "93c38386-5901-4b8f-8351-1cab8d9511ba"
      },
      "execution_count": null,
      "outputs": [
        {
          "output_type": "stream",
          "name": "stdout",
          "text": [
            "Hello World\n",
            "--------------------------------------------------------------------------------\n",
            "\t\tHello World\n",
            "--------------------------------------------------------------------------------\n",
            "Hello \n",
            "World\n"
          ]
        }
      ]
    },
    {
      "cell_type": "code",
      "source": [
        "str_aux = '    olá mundo   '\n",
        "\n",
        "# Removendo espaços da direita com string.rstrip()\n",
        "print( str_aux.rstrip() )\n",
        "print('-'*80)\n",
        "\n",
        "# Removendo espaços da esquerda com string.lstrip()\n",
        "print( str_aux.lstrip() )\n",
        "print('-'*80)\n",
        "\n",
        "# Removendo espaços de ambos os lados com string.strip()\n",
        "print( str_aux.strip() )\n",
        "print('-'*80)\n",
        "\n",
        "# Trocando alguma string por outra com string.replace(\"str antiga\", \"str nova\")\n"
      ],
      "metadata": {
        "id": "S6-psHWQVENC",
        "colab": {
          "base_uri": "https://localhost:8080/"
        },
        "outputId": "23aa22e8-d417-4e7b-a0e5-632acb8a2367"
      },
      "execution_count": null,
      "outputs": [
        {
          "output_type": "stream",
          "name": "stdout",
          "text": [
            "    olá mundo\n",
            "--------------------------------------------------------------------------------\n",
            "olá mundo   \n",
            "--------------------------------------------------------------------------------\n",
            "olá mundo\n",
            "--------------------------------------------------------------------------------\n"
          ]
        }
      ]
    },
    {
      "cell_type": "markdown",
      "source": [
        "**Exercício**\n",
        "\n",
        "Imprima o maior valor da lista [1, 2, 3, 4, 50, 60, 7, 8, 9, 10]"
      ],
      "metadata": {
        "id": "XbWAaYr8kbFH"
      }
    },
    {
      "cell_type": "code",
      "source": [
        "lst = [1, 2, 3, 4, 50, 60, 7, 8, 9, 10]\n",
        "\n",
        "# Resolva\n",
        "max( lst )"
      ],
      "metadata": {
        "colab": {
          "base_uri": "https://localhost:8080/"
        },
        "id": "1BAwzrL9M5T4",
        "outputId": "46e1c17d-c4be-4426-8572-600181139176"
      },
      "execution_count": null,
      "outputs": [
        {
          "output_type": "execute_result",
          "data": {
            "text/plain": [
              "60"
            ]
          },
          "metadata": {},
          "execution_count": 76
        }
      ]
    },
    {
      "cell_type": "markdown",
      "source": [
        "**Dicionários**\n",
        "- Chamado de \"dict\n",
        "- Mapeia um par (chave-valor) de informações\n",
        "- Semelhante eo hash map ou hash table em outras linguagens\n",
        "- Chaves são imutáveis (ex. string, inteiro, float, tuple)\n",
        "- Chaves não podem ser imutáveis (ex. listas, sets, dicionários)\n",
        "- Valores podem ser de qualquer tipo (str, int, float etc)\n",
        "- Similar a buscar o significado de uma palavra no dicionário, pois buscamos uma palavra (chave) e seu significado (valor)"
      ],
      "metadata": {
        "id": "6KJpFCAEWj3k"
      }
    },
    {
      "cell_type": "code",
      "source": [
        "# Exemplo simples\n",
        "\n",
        "dict_simples = { 'A': 1 }\n",
        "\n",
        "type( dict_simples )"
      ],
      "metadata": {
        "colab": {
          "base_uri": "https://localhost:8080/"
        },
        "id": "OycFyHmkLDrk",
        "outputId": "589a3080-d5e0-46ae-8fe8-01124e5ebb6a"
      },
      "execution_count": null,
      "outputs": [
        {
          "output_type": "execute_result",
          "data": {
            "text/plain": [
              "dict"
            ]
          },
          "metadata": {},
          "execution_count": 77
        }
      ]
    },
    {
      "cell_type": "code",
      "source": [
        "# Exemplo com estado e cidade\n",
        "\n",
        "# dic_exemplo = {'chave1': \"valor1 da chave 1\", \"valor 2 da chave 1\",\n",
        "#                'chave2': 'valor1 da chave 2\"(...)}\n",
        "\n",
        "dict_cidade_estado = { 'Rio de Janeiro': 'Petrópolis',\n",
        "                       'São Paulo': ['São João da Boa Vista', 'Divinolândia'],\n",
        "                       'Minas Gerais': ['Poços de Caldas', 'Alfenas'] }"
      ],
      "metadata": {
        "id": "qwUqYWROXHAx"
      },
      "execution_count": null,
      "outputs": []
    },
    {
      "cell_type": "code",
      "source": [
        "# Acessando uma chave do dicionário\n",
        "\n",
        "dict_cidade_estado['Minas Gerais']"
      ],
      "metadata": {
        "id": "ptcNO8f5YTpE",
        "colab": {
          "base_uri": "https://localhost:8080/"
        },
        "outputId": "12cf689b-e9fe-4fe7-dc98-345ef294e982"
      },
      "execution_count": null,
      "outputs": [
        {
          "output_type": "execute_result",
          "data": {
            "text/plain": [
              "['Poços de Caldas', 'Alfenas']"
            ]
          },
          "metadata": {},
          "execution_count": 79
        }
      ]
    },
    {
      "cell_type": "code",
      "source": [
        "# Dicionários podem conter diferentes tipos de valores\n",
        "dict_valor = { 'chave1': 1,\n",
        "               'chave2': [2, 3, [5, 5, 5], 2]\n",
        "             }\n",
        "dict_valor"
      ],
      "metadata": {
        "id": "9nbEuN8RYYrE",
        "colab": {
          "base_uri": "https://localhost:8080/"
        },
        "outputId": "e74b6b43-8c63-4796-a468-eb0c5cb155b2"
      },
      "execution_count": null,
      "outputs": [
        {
          "output_type": "execute_result",
          "data": {
            "text/plain": [
              "{'chave1': 1, 'chave2': [2, 3, [5, 5, 5], 2]}"
            ]
          },
          "metadata": {},
          "execution_count": 80
        }
      ]
    },
    {
      "cell_type": "code",
      "source": [
        "dict_aux = {'a': 1,\n",
        "            'b': 2,\n",
        "            'c': 3}\n",
        "\n",
        "print(dict_aux)\n",
        "\n",
        "# Adicionando um novo par de chave-valor ao dicionário com dict['chave'] = valor\n",
        "\n",
        "dict_aux['d'] = 4\n",
        "\n",
        "# Alterando valores de um dicionário\n",
        "\n",
        "dict_aux['c'] = 15\n",
        "\n",
        "# Deletar valores de um dicionário\n",
        "\n",
        "del dict_aux['a']\n",
        "\n",
        "print('Dicionário modificado: ', dict_aux)"
      ],
      "metadata": {
        "id": "hFaYrz17ZhoD",
        "colab": {
          "base_uri": "https://localhost:8080/"
        },
        "outputId": "35a8bd68-4cca-43e3-aa4d-91e7d519c62b"
      },
      "execution_count": null,
      "outputs": [
        {
          "output_type": "stream",
          "name": "stdout",
          "text": [
            "{'a': 1, 'b': 2, 'c': 3}\n",
            "Dicionário modificado:  {'b': 2, 'c': 15, 'd': 4}\n"
          ]
        }
      ]
    },
    {
      "cell_type": "code",
      "source": [
        "# Retornando os pares chave-valor de um dicionário com dict.items()\n",
        "print( dict_aux.items() )\n",
        "\n",
        "# Retornando chaves de um dicionário com dict.keys()\n",
        "print( dict_aux.keys() )\n",
        "\n",
        "# Retornando os valores de um dicionário com dict.values()\n",
        "print( dict_aux.values() )"
      ],
      "metadata": {
        "id": "gzSkCzItakv0",
        "colab": {
          "base_uri": "https://localhost:8080/"
        },
        "outputId": "2581c881-82c4-4355-a429-316a7da2c2f6"
      },
      "execution_count": null,
      "outputs": [
        {
          "output_type": "stream",
          "name": "stdout",
          "text": [
            "dict_items([('b', 2), ('c', 15), ('d', 4)])\n",
            "dict_keys(['b', 'c', 'd'])\n",
            "dict_values([2, 15, 4])\n"
          ]
        }
      ]
    },
    {
      "cell_type": "markdown",
      "source": [
        "**Slicing**\n",
        "- Modo de pegar apenas uma 'fatia' de algo\n",
        "\n",
        "<img src=\"https://images.pexels.com/photos/5848259/pexels-photo-5848259.jpeg?auto=compress&cs=tinysrgb&w=1260&h=750&dpr=1\" width = 30%>\n"
      ],
      "metadata": {
        "id": "9-vlcSnqa9Lw"
      }
    },
    {
      "cell_type": "code",
      "source": [
        "lst_auxiliar = ['a', 'b', 'c', 'd', 'e']\n",
        "\n",
        "# Retornando do segundo elemento em diante\n",
        "lst_auxiliar[1:]"
      ],
      "metadata": {
        "id": "eDJvwWrZbFJa",
        "colab": {
          "base_uri": "https://localhost:8080/"
        },
        "outputId": "995492ea-0de1-41fd-842a-aa4f120ab8e5"
      },
      "execution_count": null,
      "outputs": [
        {
          "output_type": "execute_result",
          "data": {
            "text/plain": [
              "['b', 'c', 'd', 'e']"
            ]
          },
          "metadata": {},
          "execution_count": 83
        }
      ]
    },
    {
      "cell_type": "code",
      "source": [
        "# Retornando do segundo elemento ao quarto\n",
        "lst_auxiliar[1:4]"
      ],
      "metadata": {
        "id": "k1r2j9ITbRkL",
        "colab": {
          "base_uri": "https://localhost:8080/"
        },
        "outputId": "cba1a367-0fc5-4107-eeff-3411f96f47aa"
      },
      "execution_count": null,
      "outputs": [
        {
          "output_type": "execute_result",
          "data": {
            "text/plain": [
              "['b', 'c', 'd']"
            ]
          },
          "metadata": {},
          "execution_count": 84
        }
      ]
    },
    {
      "cell_type": "code",
      "source": [
        "# Acessando os últimos 3 elementos\n",
        "lst_auxiliar[-3:]"
      ],
      "metadata": {
        "id": "88fK4ZahbXVN",
        "colab": {
          "base_uri": "https://localhost:8080/"
        },
        "outputId": "cf6415f0-e5a9-4cf4-bf1c-8acb0249a3bb"
      },
      "execution_count": null,
      "outputs": [
        {
          "output_type": "execute_result",
          "data": {
            "text/plain": [
              "['c', 'd', 'e']"
            ]
          },
          "metadata": {},
          "execution_count": 85
        }
      ]
    },
    {
      "cell_type": "code",
      "source": [
        "# Acessando do segundo penúltimo elemento com lst[1:-1]\n",
        "lst_auxiliar[1:-1]"
      ],
      "metadata": {
        "id": "3OeywJxRbcMG",
        "colab": {
          "base_uri": "https://localhost:8080/"
        },
        "outputId": "d6d9493a-98f7-49da-cf39-5015927d3015"
      },
      "execution_count": null,
      "outputs": [
        {
          "output_type": "execute_result",
          "data": {
            "text/plain": [
              "['b', 'c', 'd']"
            ]
          },
          "metadata": {},
          "execution_count": 86
        }
      ]
    },
    {
      "cell_type": "code",
      "source": [
        "# Fatiando uma string\n",
        "\n",
        "aux = \"Computação\"\n",
        "\n",
        "# Abreviando para Comp\n",
        "aux[:4]"
      ],
      "metadata": {
        "id": "BS7-D8hlbnyl",
        "colab": {
          "base_uri": "https://localhost:8080/",
          "height": 36
        },
        "outputId": "abfecb47-3b38-400a-a856-907aba67650a"
      },
      "execution_count": null,
      "outputs": [
        {
          "output_type": "execute_result",
          "data": {
            "text/plain": [
              "'Comp'"
            ],
            "application/vnd.google.colaboratory.intrinsic+json": {
              "type": "string"
            }
          },
          "metadata": {},
          "execution_count": 87
        }
      ]
    },
    {
      "cell_type": "markdown",
      "source": [
        "## Estruturas de controle"
      ],
      "metadata": {
        "id": "7smri6U7ccAd"
      }
    },
    {
      "cell_type": "markdown",
      "source": [
        "São os comandos responsáveis por controlar a execução de algo, como na maioria das linguagens que conhecemos.\n",
        "\n",
        "Ex.\n",
        "- if: \"se\" algo acontecer faça isso\n",
        "- elif: \" e além disso se\" algo acontecer faça isso\n",
        "- for: \"por tantas vezes\" faça isso\n",
        "- while: \"enquanto\" algo acontecer faça isso\n",
        "\n",
        "<img src=\"https://media.istockphoto.com/photos/question-what-if-handwritten-with-black-marker-picture-id1093311164?s=612x612\" width = 30%>"
      ],
      "metadata": {
        "id": "6tP2lz_xcizY"
      }
    },
    {
      "cell_type": "markdown",
      "source": [
        "Comando if:\n",
        "```python\n",
        "se (condição for verdadeira):\n",
        "  faça X\n",
        "se não caso (...):\n",
        "  faça Y\n",
        "se não ():\n",
        "  faça Z  \n",
        "```\n",
        "Ex."
      ],
      "metadata": {
        "id": "TwYbvLZ_dpem"
      }
    },
    {
      "cell_type": "code",
      "source": [
        "# Comando if\n",
        "\n",
        "a = 2\n",
        "b = 4\n",
        "c = 3\n",
        "\n",
        "if ( b < a ):\n",
        "  print('Deu certo')\n",
        "elif ( b == a):\n",
        "  print('É igual')\n",
        "else:\n",
        "  print('Deu errado')"
      ],
      "metadata": {
        "id": "xk0qwN1odd2s",
        "colab": {
          "base_uri": "https://localhost:8080/"
        },
        "outputId": "5e28cb21-3763-463b-a574-5e20ccc4202f"
      },
      "execution_count": null,
      "outputs": [
        {
          "output_type": "stream",
          "name": "stdout",
          "text": [
            "Deu errado\n"
          ]
        }
      ]
    },
    {
      "cell_type": "code",
      "source": [
        "# Extra: declarando variáveis com uma condição\n",
        "\n",
        "a = 2\n",
        "\n",
        "if a == 2:\n",
        "  valor = 'Verdadeiro'\n",
        "else:\n",
        "  valor = 'Falso'\n",
        "\n",
        "# Equivale a:\n",
        "\n",
        "valor2 = 'Verdadeiro' if a == 3 else 'Falso'\n",
        "\n",
        "print(valor)\n",
        "print(valor2)"
      ],
      "metadata": {
        "id": "yMIc5sqnfGUV",
        "colab": {
          "base_uri": "https://localhost:8080/"
        },
        "outputId": "61264d6c-d9a0-4684-93ed-21cb85437482"
      },
      "execution_count": null,
      "outputs": [
        {
          "output_type": "stream",
          "name": "stdout",
          "text": [
            "Verdadeiro\n",
            "Falso\n"
          ]
        }
      ]
    },
    {
      "cell_type": "markdown",
      "source": [
        "Comando for:\n",
        "```Python\n",
        "para 'cada x' em 'intervalo':\n",
        "  faça isso\n",
        "```\n",
        "\n",
        "<img src=\"https://images.pexels.com/photos/315499/pexels-photo-315499.jpeg?auto=compress&cs=tinysrgb&w=1260&h=750&dpr=1\" width = 40%>"
      ],
      "metadata": {
        "id": "CTexliSXfZAM"
      }
    },
    {
      "cell_type": "code",
      "source": [
        "# Comando for\n",
        "\n",
        "for numero in range(10):\n",
        "  print(f'Looping {numero}:  Hello World')"
      ],
      "metadata": {
        "colab": {
          "base_uri": "https://localhost:8080/"
        },
        "id": "LCnkkuxpfmug",
        "outputId": "2d5f1f47-0018-4027-ca0d-886d79f02fd3"
      },
      "execution_count": null,
      "outputs": [
        {
          "output_type": "stream",
          "name": "stdout",
          "text": [
            "Looping 0:  Hello World\n",
            "Looping 1:  Hello World\n",
            "Looping 2:  Hello World\n",
            "Looping 3:  Hello World\n",
            "Looping 4:  Hello World\n",
            "Looping 5:  Hello World\n",
            "Looping 6:  Hello World\n",
            "Looping 7:  Hello World\n",
            "Looping 8:  Hello World\n",
            "Looping 9:  Hello World\n"
          ]
        }
      ]
    },
    {
      "cell_type": "code",
      "source": [
        "lst_aux = [-60, -50, -40, -30, 10, 20, 50, 80, 90, 100]\n",
        "\n",
        "# Utilizando for em listas para imprimir os valores positivos\n",
        "\n",
        "for valor in lst_aux:\n",
        "  if valor > 0:\n",
        "    print(valor)"
      ],
      "metadata": {
        "id": "BmmkH1K0fzne",
        "colab": {
          "base_uri": "https://localhost:8080/"
        },
        "outputId": "548bdda1-a566-42a4-9359-e6852fd95290"
      },
      "execution_count": null,
      "outputs": [
        {
          "output_type": "stream",
          "name": "stdout",
          "text": [
            "10\n",
            "20\n",
            "50\n",
            "80\n",
            "90\n",
            "100\n"
          ]
        }
      ]
    },
    {
      "cell_type": "markdown",
      "source": [
        "**Exercício**\n",
        "\n",
        "Dada a lista [1, 2, 3, 4, 5, 6, 7, 8, 9, 10], adicione os valores pares em uma nova lista e a imprima.\n",
        "\n",
        "Dica: popule a lista auxiliar com os valores pares utilizando um laço 'for' e '.append()' <br>\n",
        "Dica 2: valores pares são divisíveis por 2"
      ],
      "metadata": {
        "id": "RzWPei0pgYSI"
      }
    },
    {
      "cell_type": "code",
      "source": [
        "lst = [1, 2, 3, 4, 5, 6, 7, 8, 9, 10]\n",
        "lst_aux = []\n",
        "\n",
        "# Resolva\n",
        "for numero in lst:\n",
        "  if (numero % 2 == 0):\n",
        "    lst_aux.append(numero)\n",
        "\n",
        "print(lst_aux)"
      ],
      "metadata": {
        "colab": {
          "base_uri": "https://localhost:8080/"
        },
        "id": "y5JuERtVPl2v",
        "outputId": "d0ba2788-a4d6-42d4-f572-e48a4519d895"
      },
      "execution_count": null,
      "outputs": [
        {
          "output_type": "stream",
          "name": "stdout",
          "text": [
            "[2, 4, 6, 8, 10]\n"
          ]
        }
      ]
    },
    {
      "cell_type": "markdown",
      "source": [
        "**Exercício**\n",
        "\n",
        "Imprima a média da lista [1, 2, 3, 4, 5, 6, 7, 8, 9, 10]\n",
        "\n",
        "Lembrando que:\n",
        "média = Soma dos valores / Quantidade de valores"
      ],
      "metadata": {
        "id": "vnPoOqedksb2"
      }
    },
    {
      "cell_type": "code",
      "source": [
        "lst = [1, 2, 3, 4, 5, 6, 7, 8, 9, 10]\n",
        "\n",
        "# Resolva\n",
        "soma = 0\n",
        "\n",
        "for valor in lst:\n",
        "  soma = soma + valor  # é equivalente soma += valor\n",
        "\n",
        "media = soma / len(lst)\n",
        "media"
      ],
      "metadata": {
        "id": "Dl84ed6sk0J9",
        "colab": {
          "base_uri": "https://localhost:8080/"
        },
        "outputId": "aa1de7c3-f85b-451f-f1a5-c684e8549227"
      },
      "execution_count": null,
      "outputs": [
        {
          "output_type": "execute_result",
          "data": {
            "text/plain": [
              "5.5"
            ]
          },
          "metadata": {},
          "execution_count": 93
        }
      ]
    },
    {
      "cell_type": "markdown",
      "source": [
        "**Exercício**\n",
        "\n",
        "Dada a lista a seguir, imprima somente os nomes que contenham a string 'de'.\n",
        "\n",
        "Dica: utilize o comando in() e uma lista auxiliar vazia para popular com append()"
      ],
      "metadata": {
        "id": "bw1_MisMlXt6"
      }
    },
    {
      "cell_type": "code",
      "source": [
        "# Exemplo de comando in() e not in()\n",
        "print('Jo' in 'Joao')\n",
        "print('Za' in 'Joao')\n",
        "print('Za' not in 'Joao')"
      ],
      "metadata": {
        "colab": {
          "base_uri": "https://localhost:8080/"
        },
        "id": "MWRtIhHQl2k0",
        "outputId": "d494258e-0b8f-4e01-d7fc-d94e10fdb5bf"
      },
      "execution_count": null,
      "outputs": [
        {
          "output_type": "stream",
          "name": "stdout",
          "text": [
            "True\n",
            "False\n",
            "True\n"
          ]
        }
      ]
    },
    {
      "cell_type": "code",
      "source": [
        "lst = ['João de Paula', 'Guimarães de Fernandes', 'Sebastião', 'Dienefer']\n",
        "lst_aux = []\n",
        "\n",
        "# Resolva\n",
        "for nome in lst:\n",
        "  if ' de '.lower() in nome:\n",
        "    lst_aux.append(nome)\n",
        "\n",
        "lst_aux"
      ],
      "metadata": {
        "id": "B-uSlTogmAcs",
        "colab": {
          "base_uri": "https://localhost:8080/"
        },
        "outputId": "3b35b8ec-9b72-47ce-f40e-d46d24b7d0ef"
      },
      "execution_count": null,
      "outputs": [
        {
          "output_type": "execute_result",
          "data": {
            "text/plain": [
              "['João de Paula', 'Guimarães de Fernandes']"
            ]
          },
          "metadata": {},
          "execution_count": 95
        }
      ]
    },
    {
      "cell_type": "markdown",
      "source": [
        "Comando while:\n",
        "```Python\n",
        "enquanto (condição for verdadeira):\n",
        "  faça isso\n",
        "```"
      ],
      "metadata": {
        "id": "wspkGKf6h-4a"
      }
    },
    {
      "cell_type": "markdown",
      "source": [
        "Reparou como basta traduzir os comandos do inglês para entender?"
      ],
      "metadata": {
        "id": "4Z-E4FJeSV54"
      }
    },
    {
      "cell_type": "code",
      "source": [
        "# Exemplo de while\n",
        "\n",
        "aux = 0\n",
        "\n",
        "while aux < 20:\n",
        "  aux += 2\n",
        "  print(aux)"
      ],
      "metadata": {
        "id": "wjQhLKzfiOKF",
        "colab": {
          "base_uri": "https://localhost:8080/"
        },
        "outputId": "19fb7eb9-028f-4191-f553-8ac9449a52f8"
      },
      "execution_count": null,
      "outputs": [
        {
          "output_type": "stream",
          "name": "stdout",
          "text": [
            "2\n",
            "4\n",
            "6\n",
            "8\n",
            "10\n",
            "12\n",
            "14\n",
            "16\n",
            "18\n",
            "20\n"
          ]
        }
      ]
    },
    {
      "cell_type": "code",
      "source": [
        "dict_aux = {'a': 2,\n",
        "            'b': 'João',\n",
        "            'L': 'Luiz'}\n",
        "\n",
        "dict_aux.items()"
      ],
      "metadata": {
        "colab": {
          "base_uri": "https://localhost:8080/"
        },
        "id": "l_mANfjWN9mj",
        "outputId": "32566c4a-e4e4-4e1b-bcd3-74484e9f2100"
      },
      "execution_count": null,
      "outputs": [
        {
          "output_type": "execute_result",
          "data": {
            "text/plain": [
              "dict_items([('a', 2), ('b', 'João'), ('L', 'Luiz')])"
            ]
          },
          "metadata": {},
          "execution_count": 2
        }
      ]
    },
    {
      "cell_type": "code",
      "source": [
        "# Extra: laço for em dicionários\n",
        "\n",
        "dict_aux = {'a': 2,\n",
        "            'b': 'João',\n",
        "            'L': 'Luiz'}\n",
        "\n",
        "for chaveValor in dict_aux.items():\n",
        "  print(f'Chave: {chaveValor[0]}, Valor: {chaveValor[1]}')"
      ],
      "metadata": {
        "id": "QFdZ3uD8mh-S",
        "colab": {
          "base_uri": "https://localhost:8080/"
        },
        "outputId": "333d18bc-6c90-4a44-d5df-12701e251ea9"
      },
      "execution_count": null,
      "outputs": [
        {
          "output_type": "stream",
          "name": "stdout",
          "text": [
            "Chave: a, Valor: 2\n",
            "Chave: b, Valor: João\n",
            "Chave: L, Valor: Luiz\n"
          ]
        }
      ]
    },
    {
      "cell_type": "markdown",
      "source": [
        "## Comprehension"
      ],
      "metadata": {
        "id": "iTbp-wDAtxeN"
      }
    },
    {
      "cell_type": "markdown",
      "source": [
        "Comprehension é um recurso que permite criar uma sequência avaliada com base em outra sequência.\n",
        "\n",
        "É uma maneira eficiente de se trabalhar ✅ (melhor em termos de processamento do que utilizar um laço for)"
      ],
      "metadata": {
        "id": "Wo4Tr_Pl7bXa"
      }
    },
    {
      "cell_type": "code",
      "source": [
        "# Exemplo criando uma lista de modo \"convencional\" onde a lista vem de uma outra lista multiplicada por 3\n",
        "\n",
        "lst_1 = [1,2,3,4,5]\n",
        "lst_1_vezes_3 = []\n",
        "\n",
        "for num in lst_1:\n",
        "  lst_1_vezes_3.append( num*3 )\n",
        "\n",
        "print(lst_1_vezes_3)"
      ],
      "metadata": {
        "id": "sN_z28jp71mp",
        "colab": {
          "base_uri": "https://localhost:8080/"
        },
        "outputId": "0540b57e-1437-4562-baa2-84ec79de687f"
      },
      "execution_count": null,
      "outputs": [
        {
          "output_type": "stream",
          "name": "stdout",
          "text": [
            "[3, 6, 9, 12, 15]\n"
          ]
        }
      ]
    },
    {
      "cell_type": "code",
      "source": [
        "# Mesmo exemplo utilizando comprehension\n",
        "\n",
        "lst_1 = [1,2,3,4,5]\n",
        "\n",
        "lst_1_vezes_3_comprehension = [ num*3 for num in lst_1 ]\n",
        "\n",
        "print(lst_1_vezes_3_comprehension)"
      ],
      "metadata": {
        "id": "sVXkOrjI8d1d",
        "colab": {
          "base_uri": "https://localhost:8080/"
        },
        "outputId": "26b74045-8c4a-48c5-c9a0-5b83c1c4bd80"
      },
      "execution_count": null,
      "outputs": [
        {
          "output_type": "stream",
          "name": "stdout",
          "text": [
            "[3, 6, 9, 12, 15]\n"
          ]
        }
      ]
    },
    {
      "cell_type": "code",
      "source": [
        "# Utilizando comprehension com \"if\" e \"else\"\n",
        "\n",
        "lista_1 = [1,2,3,4,5]\n",
        "\n",
        "# Retornando o número caso este seja par e retornando \"ímpar\" caso o número seja ímpar\n",
        "\n",
        "lista_par_impar = [ num if num%2==0 else \"ímpar\" for num in lista_1 ]\n",
        "\n",
        "lista_par_impar"
      ],
      "metadata": {
        "id": "T-PvOOQ99JOW",
        "colab": {
          "base_uri": "https://localhost:8080/"
        },
        "outputId": "f92764b8-02a1-4bc8-8e82-a3117b9a8562"
      },
      "execution_count": null,
      "outputs": [
        {
          "output_type": "execute_result",
          "data": {
            "text/plain": [
              "['ímpar', 2, 'ímpar', 4, 'ímpar']"
            ]
          },
          "metadata": {},
          "execution_count": 6
        }
      ]
    },
    {
      "cell_type": "markdown",
      "source": [
        "**Exercicio**\n",
        "\n",
        "Dada a lista [1,2,3,4,5,6,7,8,9,10]: <Br><Br>\n",
        "Se o elemento for par -> multiplique por 2 e adicione 1 ( n*2 + 1 ) <Br>\n",
        "Se o elemento for ímpar -> multiplique por 2"
      ],
      "metadata": {
        "id": "n745T9wS-173"
      }
    },
    {
      "cell_type": "code",
      "source": [
        "lista = [1,2,3,4,5,6,7,8,9,10]\n",
        "\n",
        "# Resolva\n",
        "\n",
        "# Solução com Otavio Canedo\n",
        "\n",
        "lista_aux = [ (num*2) + 1 if num % 2 == 0 else num*2 for num in lista ]\n",
        "lista_aux"
      ],
      "metadata": {
        "id": "fpBIpUNB_X3i",
        "colab": {
          "base_uri": "https://localhost:8080/"
        },
        "outputId": "0d04f083-8b5e-434d-f2fe-a2c3aee7403a"
      },
      "execution_count": null,
      "outputs": [
        {
          "output_type": "execute_result",
          "data": {
            "text/plain": [
              "[2, 5, 6, 9, 10, 13, 14, 17, 18, 21]"
            ]
          },
          "metadata": {},
          "execution_count": 8
        }
      ]
    },
    {
      "cell_type": "markdown",
      "source": [
        "Reforçando list comprehension:\n",
        "\n",
        "Sintaxe portugol:\n",
        "```\n",
        "[ \"valor retornado\" para cada \"item\" na \"lista original\" se \"uma condição acontecer\" ]\n",
        "```"
      ],
      "metadata": {
        "id": "5QFXLjG0u6ds"
      }
    },
    {
      "cell_type": "code",
      "source": [
        "lista_alunos = [\n",
        "    [ 'Frodo',   'Carregador', 33],\n",
        "    [ 'Gandalf', 'Mago',       13000],\n",
        "    [ 'Legolas', 'Hacker',     2931],\n",
        "    [ 'Thorin',  'Escudeiro',  195],\n",
        "]\n",
        "\n",
        "# Buscando apenas o nome dos alunos\n",
        "nome_alunos = [ aluno[0] for aluno in lista_alunos ]\n",
        "print(nome_alunos)\n",
        "\n",
        "# Buscando a idade dos alunos que tenham mais de mil anos\n",
        "idade_alunos = [ aluno[2] for aluno in lista_alunos if aluno[2] > 1000 ]\n",
        "print(idade_alunos)\n",
        "\n",
        "# Buscando o nome e profissão dos alunos\n",
        "profissao_alunos = [ aluno[0:2] for aluno in lista_alunos if aluno[2] > 1000 ]\n",
        "print(profissao_alunos)"
      ],
      "metadata": {
        "colab": {
          "base_uri": "https://localhost:8080/"
        },
        "id": "h4ZzfDWNvKIJ",
        "outputId": "1cd26d02-ab5d-46a2-b565-ae2a6522ba63"
      },
      "execution_count": null,
      "outputs": [
        {
          "output_type": "stream",
          "name": "stdout",
          "text": [
            "['Frodo', 'Gandalf', 'Legolas', 'Thorin']\n",
            "[13000, 2931]\n",
            "[['Gandalf', 'Mago'], ['Legolas', 'Hacker']]\n"
          ]
        }
      ]
    },
    {
      "cell_type": "code",
      "source": [
        "lista_aux = [0,1,2,3,4,5]\n",
        "\n",
        "lista_aux[0:3] # De -> até ==> buscando do indice 0 até o indice 2"
      ],
      "metadata": {
        "colab": {
          "base_uri": "https://localhost:8080/"
        },
        "id": "3kBACDB2aYN5",
        "outputId": "d1111a64-609f-4c81-b579-8b129d44e753"
      },
      "execution_count": null,
      "outputs": [
        {
          "output_type": "execute_result",
          "data": {
            "text/plain": [
              "[0, 1, 2]"
            ]
          },
          "metadata": {},
          "execution_count": 10
        }
      ]
    },
    {
      "cell_type": "markdown",
      "source": [
        "Exercício (retirado do canal ritvikmath)\n",
        "\n",
        "Dada a lista de alunos, retorne o tipo de cada item da lista com type() utilizando list comprehension"
      ],
      "metadata": {
        "id": "SZ-SCp8p3HHe"
      }
    },
    {
      "cell_type": "markdown",
      "source": [
        "Resposta esperada: <br>\n",
        "[[str, str, int], [str, str, int], [str, str, int], [str, str, int]]"
      ],
      "metadata": {
        "id": "If1BQNgHaDDb"
      }
    },
    {
      "cell_type": "code",
      "source": [
        "lista_alunos = [\n",
        "    [ 'Frodo',   'Carregador', 33],\n",
        "    [ 'Gandalf', 'Mago',       13000],\n",
        "    [ 'Legolas', 'Hacker',     2931],\n",
        "    [ 'Thorin',  'Escudeiro',  195],\n",
        "]\n",
        "\n",
        "# Resolva\n",
        "alunos = [ [ type(item) for item in aluno ] for aluno in lista_alunos ]\n",
        "alunos"
      ],
      "metadata": {
        "colab": {
          "base_uri": "https://localhost:8080/"
        },
        "id": "ctbYQ9Ub3VON",
        "outputId": "03d8b07a-95fb-4699-cd37-bdad83bd4016"
      },
      "execution_count": null,
      "outputs": [
        {
          "output_type": "execute_result",
          "data": {
            "text/plain": [
              "[[str, str, int], [str, str, int], [str, str, int], [str, str, int]]"
            ]
          },
          "metadata": {},
          "execution_count": 11
        }
      ]
    },
    {
      "cell_type": "markdown",
      "source": [
        "## Funções"
      ],
      "metadata": {
        "id": "hKaOtMX2Ixtj"
      }
    },
    {
      "cell_type": "markdown",
      "source": [
        "Uma função é uma espécie de \"máquina geradora\".\n",
        "\n",
        "- É definida no python pelo comando **def**\n",
        "\n",
        "Por exemplo, se você colocar laranjas em um espremedor de frutas, ele retornará um Suco.\n",
        "\n",
        "Ou seja, ao colocarmos o **parâmetro** frutas (no caso Laranja) na **função** espremedor, é retornado um **objeto** Suco.\n",
        "\n",
        "Neste caso:\n",
        "- Função: espremedor\n",
        "- Parâmetro: laranjas\n",
        "- Objeto resultado: Suco\n",
        "\n",
        "<img src=\"https://cf.shopee.com.br/file/e8a29d6873abc9e4d196ad2254504e53_tn\" width=30%>"
      ],
      "metadata": {
        "id": "haSIRVgEIzFM"
      }
    },
    {
      "cell_type": "code",
      "source": [
        "# Exemplo\n",
        "\n",
        "def espremedor(fruta):\n",
        "  suco = 'Suco de ' + fruta\n",
        "  return suco\n",
        "\n",
        "print( espremedor(\"Laranja\") )"
      ],
      "metadata": {
        "id": "IA7RG0M7Ki2H",
        "colab": {
          "base_uri": "https://localhost:8080/"
        },
        "outputId": "bdcfb753-2623-42a1-edc8-31cc40e2b171"
      },
      "execution_count": null,
      "outputs": [
        {
          "output_type": "stream",
          "name": "stdout",
          "text": [
            "Suco de Laranja\n"
          ]
        }
      ]
    },
    {
      "cell_type": "code",
      "source": [
        "# Podemos deixar valores default para uma função com def func(suco = 'limao')\n",
        "\n",
        "def espremedor(fruta = 'Limão'):\n",
        "  suco = 'Suco de ' + fruta\n",
        "  return suco\n",
        "\n",
        "print( espremedor() )"
      ],
      "metadata": {
        "id": "U9vaUUmBLMRK",
        "colab": {
          "base_uri": "https://localhost:8080/"
        },
        "outputId": "45bee5ea-874e-4047-d5e0-d95fc37448dd"
      },
      "execution_count": null,
      "outputs": [
        {
          "output_type": "stream",
          "name": "stdout",
          "text": [
            "Suco de Limão\n"
          ]
        }
      ]
    },
    {
      "cell_type": "code",
      "source": [
        "# Passando uma função como parâmetro para outra função\n",
        "\n",
        "def almoco(suco, prato):\n",
        "  refeicao = espremedor(suco) + ' com ' + prato\n",
        "  return refeicao\n",
        "\n",
        "print( almoco('Tamarindo', 'Macarronada') )"
      ],
      "metadata": {
        "id": "d7lc4pEkLtDX",
        "colab": {
          "base_uri": "https://localhost:8080/"
        },
        "outputId": "c7d8af7c-c090-4e7c-9b6b-7eb8a1871eee"
      },
      "execution_count": null,
      "outputs": [
        {
          "output_type": "stream",
          "name": "stdout",
          "text": [
            "Suco de Tamarindo com Macarronada\n"
          ]
        }
      ]
    },
    {
      "cell_type": "markdown",
      "source": [
        "**Exercício**\n",
        "\n",
        "Faça uma função que recebe como parâmetros um nome de aluno X, sua idade Y e retorne quantos anos faltam para o aluno ter 80 anos.\n",
        "\n",
        "Ex. \"Me chamo Beatriz, tenho 28 anos e faltam 52 anos para que eu tenha 80 anos.\"\n",
        "\n",
        "Caso queira, tente utilizar a função input() para receber os valores, por exemplo:\n",
        "```python\n",
        "idade = int( input(\"Digite a idade: \") )\n",
        "```"
      ],
      "metadata": {
        "id": "XN0Afd2BL32z"
      }
    },
    {
      "cell_type": "code",
      "source": [
        "# Resolva\n",
        "\n",
        "# Solução com Luiz Pedro\n",
        "nome = input('Digite seu nome: ')\n",
        "idade = int(input('Digite sua idade: '))\n",
        "\n",
        "def funcao(nome, idade):\n",
        "  print(f'Me chamo {nome}, tenho {idade} anos e faltam {80-idade} anos para que eu tenha 80 anos.')\n",
        "\n",
        "funcao(nome, idade)"
      ],
      "metadata": {
        "colab": {
          "base_uri": "https://localhost:8080/"
        },
        "id": "uwfnBMhET71I",
        "outputId": "2cdeecab-78cb-4a53-e62d-ed3c8f31288e"
      },
      "execution_count": null,
      "outputs": [
        {
          "output_type": "stream",
          "name": "stdout",
          "text": [
            "Digite seu nome: Luiz\n",
            "Digite sua idade: 22\n",
            "Me chamo Luiz, tenho 22 anos e faltam 58 anos para que eu tenha 80 anos.\n"
          ]
        }
      ]
    },
    {
      "cell_type": "code",
      "source": [
        "# snake case\n",
        "variavel_a = 1\n",
        "\n",
        "# camel case\n",
        "variavelA = 1"
      ],
      "metadata": {
        "id": "7cyElBv6VVSl"
      },
      "execution_count": null,
      "outputs": []
    },
    {
      "cell_type": "code",
      "source": [
        "# Solução Adilson Antonio\n",
        "\n",
        "def calcIdade(nome, idade, max):\n",
        " print(f'Eu me chamo {nome}, tenho {idade} anos de idade, e faltam {max-idade} anos para que eu tenha {max} anos.')\n",
        " \n",
        "calcIdade('Adilson', 27, 200)"
      ],
      "metadata": {
        "colab": {
          "base_uri": "https://localhost:8080/"
        },
        "id": "geKrB6BrVLml",
        "outputId": "725275ba-9de1-4324-c567-d4909b1516ae"
      },
      "execution_count": null,
      "outputs": [
        {
          "output_type": "stream",
          "name": "stdout",
          "text": [
            "Eu me chamo Adilson, tenho 27 anos de idade, e faltam 173 anos para que eu tenha 200 anos.\n"
          ]
        }
      ]
    },
    {
      "cell_type": "markdown",
      "source": [
        "## Lambda"
      ],
      "metadata": {
        "id": "GtBueta3mRqr"
      }
    },
    {
      "cell_type": "markdown",
      "source": [
        "A função lambda em python também é chamada de função anônima (sem nome) e pode ser escrita no momento de utilização, não sendo necessário escrevê-la anteriormente. <br>\n",
        "Ou seja... você cria a função enquanto a usa!\n",
        "\n",
        "Ex.<br>\n",
        "O seguinte código:\n",
        "```python\n",
        "def soma_dois_numeros(num1, num2):\n",
        "  return num1+num2\n",
        "print( soma_dois_numeros(2,5) )\n",
        ">>>7\n",
        "```\n",
        "Poderia ser escrito da seguinte forma utilizando lambda:\n",
        "```python\n",
        "resultado = lambda num1, num2: num1 + num2\n",
        "print( resultado(2,5) )\n",
        ">>> 7\n",
        "```"
      ],
      "metadata": {
        "id": "NdighGBbmUXd"
      }
    },
    {
      "cell_type": "markdown",
      "source": [
        "<img href=\"https://raw.githubusercontent.com/the-akira/Python-Iluminado/master/Imagens/Lambda.png\" src=\"https://raw.githubusercontent.com/the-akira/Python-Iluminado/master/Imagens/Lambda.png\" width = 50%>\n",
        "\n",
        "*fonte-img-e-consulta: https://pythoniluminado.netlify.app/expressoes-lambda*"
      ],
      "metadata": {
        "id": "MKV1EbyQHpaL"
      }
    },
    {
      "cell_type": "code",
      "source": [
        "# Criando uma função que descreve se o número é positivo ou negativo\n",
        "\n",
        "lst_aux = [10, -2, 4, 0, 3, -2]\n",
        "lst_aux2 = []\n",
        "\n",
        "def is_positivo(lista):\n",
        "  for num in lst_aux:\n",
        "    if num >= 0:\n",
        "      lst_aux2.append('positivo')\n",
        "    else:\n",
        "      lst_aux2.append('negativo')\n",
        "\n",
        "is_positivo(lst_aux2)\n",
        "\n",
        "print(lst_aux2)"
      ],
      "metadata": {
        "id": "TtBLJzL4IDZG",
        "colab": {
          "base_uri": "https://localhost:8080/"
        },
        "outputId": "7a1f58fe-bd5d-49ee-8b30-957ea3d6f6e8"
      },
      "execution_count": null,
      "outputs": [
        {
          "output_type": "stream",
          "name": "stdout",
          "text": [
            "['positivo', 'negativo', 'positivo', 'positivo', 'positivo', 'negativo']\n"
          ]
        }
      ]
    },
    {
      "cell_type": "code",
      "source": [
        "# Podemos reescrever o código utilizando a função lambda e comprehension\n",
        "\n",
        "lst_aux = [10,-2,4,0,3,-2]\n",
        "\n",
        "# Função lambda\n",
        "\n",
        "is_positivo = lambda x: 'positivo' if x>=0 else 'negativo'  # para cada número da lista, escreva positivo caso este número seja maior igual a zero, e negativo caso não seja\n",
        "\n",
        "# Aplicando a função para criar uma lista com comprehension\n",
        "\n",
        "positivos = [ is_positivo(y) for y in lst_aux ]\n",
        "positivos"
      ],
      "metadata": {
        "id": "WVCnWJOynJKK",
        "colab": {
          "base_uri": "https://localhost:8080/"
        },
        "outputId": "e1a028ac-875c-4717-fa8f-53ed174507af"
      },
      "execution_count": null,
      "outputs": [
        {
          "output_type": "execute_result",
          "data": {
            "text/plain": [
              "['positivo', 'negativo', 'positivo', 'positivo', 'positivo', 'negativo']"
            ]
          },
          "metadata": {},
          "execution_count": 17
        }
      ]
    },
    {
      "cell_type": "code",
      "source": [
        "# Adicionando o caso neutro na função lambda (0 =  neutro)\n",
        "\n",
        "lst_aux = [10,-2,4,0,3,-2]\n",
        "\n",
        "is_positivo_neutro = lambda x: 'positivo' if x>0 else( 'neutro' if x==0 else 'negativo' )\n",
        "\n",
        "positivos_neutro = [ is_positivo_neutro(y) for y in lst_aux ]\n",
        "positivos_neutro"
      ],
      "metadata": {
        "id": "PHD8vJBXovqi",
        "colab": {
          "base_uri": "https://localhost:8080/"
        },
        "outputId": "97a8c0ac-3bf8-4c05-dcb8-c8e8ba6ef44c"
      },
      "execution_count": null,
      "outputs": [
        {
          "output_type": "execute_result",
          "data": {
            "text/plain": [
              "['positivo', 'negativo', 'positivo', 'neutro', 'positivo', 'negativo']"
            ]
          },
          "metadata": {},
          "execution_count": 18
        }
      ]
    },
    {
      "cell_type": "markdown",
      "source": [
        "**Exercício**\n",
        "\n",
        "Geraldo é um rapaz supersticioso e acredita que toda palavra que começa em vogal [a,e,i,o,u] deveria ser escrita em letra maiúscula antes de ser impressa em sua impressora 'amaldiçoada' da década de 1780.\n",
        "\n",
        "Ele está cansado de alterar todos os textos de seus trabalhos, ajude-o automatizando o processo.\n",
        "\n",
        "<img src=\"http://lh4.ggpht.com/-_x9PXMjU0LQ/TmtZaKHESvI/AAAAAAAAB0A/71bjy-376mA/Impressora_thumb%25255B1%25255D.jpg?imgmax=800\" width=30%>\n",
        "\n",
        "Exemplo de entrada:<Br>\n",
        "*'Este ambiente de inovação jamais abrirá as portas para mim se eu não estudar ...'*\n",
        "\n",
        "Exemplo de saída:<Br>\n",
        "*'Este Ambiente de Inovação jamais Abrirá As portas para mim se Eu não Estudar ...'*\n",
        "\n",
        "Dica: utilize a função split!"
      ],
      "metadata": {
        "id": "_8qU3E10pbOe"
      }
    },
    {
      "cell_type": "code",
      "source": [
        "# Exemplo de uso da função split\n",
        "\n",
        "str_split = 'Olá mundo'\n",
        "\n",
        "str_split.split( sep = ' ' )   # separa a string acima após o separador ' ' (espaço)"
      ],
      "metadata": {
        "id": "0TY181gMIgCQ",
        "colab": {
          "base_uri": "https://localhost:8080/"
        },
        "outputId": "e09828a1-1244-405b-a5ec-7c85155599aa"
      },
      "execution_count": null,
      "outputs": [
        {
          "output_type": "execute_result",
          "data": {
            "text/plain": [
              "['Olá', 'mundo']"
            ]
          },
          "metadata": {},
          "execution_count": 20
        }
      ]
    },
    {
      "cell_type": "code",
      "source": [
        "# Exemplo de utilidade da função split\n",
        "\n",
        "str_split = 'Poços de Caldas - MG'\n",
        "\n",
        "aux = str_split.split( sep = ' - ' )\n",
        "\n",
        "aux[1]"
      ],
      "metadata": {
        "colab": {
          "base_uri": "https://localhost:8080/",
          "height": 36
        },
        "id": "_tyKMADy6UC0",
        "outputId": "38d63dc6-bb10-4cac-9043-e16493dff713"
      },
      "execution_count": null,
      "outputs": [
        {
          "output_type": "execute_result",
          "data": {
            "text/plain": [
              "'MG'"
            ],
            "application/vnd.google.colaboratory.intrinsic+json": {
              "type": "string"
            }
          },
          "metadata": {},
          "execution_count": 22
        }
      ]
    },
    {
      "cell_type": "code",
      "source": [
        "# Extra: \"Como separo uma frase por uma palavra? Por exemplo,\n",
        "# separar a frase 'olá meu nome é joão' até o \"Olá meu nome\"\n",
        "\n",
        "str_exemplo = 'Olá meu nome é João'\n",
        "\n",
        "str_exemplo.split(sep = 'nome')[0].rstrip()  # pegando a primeira parte da frase separada e retirando o espaço à direita"
      ],
      "metadata": {
        "id": "J_UXzYx6tmlP",
        "colab": {
          "base_uri": "https://localhost:8080/",
          "height": 36
        },
        "outputId": "a085ecc3-c983-465b-d3fe-98d5f7133aff"
      },
      "execution_count": null,
      "outputs": [
        {
          "output_type": "execute_result",
          "data": {
            "text/plain": [
              "'Olá meu'"
            ],
            "application/vnd.google.colaboratory.intrinsic+json": {
              "type": "string"
            }
          },
          "metadata": {},
          "execution_count": 24
        }
      ]
    },
    {
      "cell_type": "code",
      "source": [
        "%%timeit\n",
        "\n",
        "# Exemplo utilizando função def\n",
        "\n",
        "frase = 'Este ambiente de inovação jamais abrirá as portas para mim se eu não estudar ...'   \n",
        "palavras_da_frase = frase.split( sep = ' ' )        # retorna uma lista com palavras separadas por espaço na frase exemplo\n",
        "lista_auxiliar = []                                 # lista vazia para armazenar as palavras modificadas dentro da função\n",
        "\n",
        "def geraldo_aliviado(lista):\n",
        "  for palavra in lista:\n",
        "    if palavra[0] in 'aeiou':\n",
        "      lista_auxiliar.append( palavra.title() )      # retorna a palavra com a primeira letra maiúscula\n",
        "    else:\n",
        "      lista_auxiliar.append( palavra )\n",
        "\n",
        "geraldo_aliviado(palavras_da_frase)                 # utilizando a função para deixar as vogais iniciais em maiúsculo\n",
        "\n",
        "lista_auxiliar = ' '.join(lista_auxiliar)           # transformando a lista auxiliar em uma única string"
      ],
      "metadata": {
        "id": "NKJ5TcjurLjm",
        "colab": {
          "base_uri": "https://localhost:8080/"
        },
        "outputId": "ac0e21cc-531a-4955-bffa-b6054f4b6b54"
      },
      "execution_count": null,
      "outputs": [
        {
          "output_type": "stream",
          "name": "stdout",
          "text": [
            "5.22 µs ± 2.41 µs per loop (mean ± std. dev. of 7 runs, 100000 loops each)\n"
          ]
        }
      ]
    },
    {
      "cell_type": "code",
      "source": [
        "# Dúvida Leo: Qual o uso do 'join'\n",
        "\n",
        "frase_exemplo = 'Hoje o dia está de noite'\n",
        "\n",
        "frase_separada = frase_exemplo.split( sep = ' ' )\n",
        "\n",
        "'--'.join(frase_separada)"
      ],
      "metadata": {
        "colab": {
          "base_uri": "https://localhost:8080/",
          "height": 36
        },
        "id": "OHQXruIgavvH",
        "outputId": "8fc12a2b-f20e-479f-ad67-cb655d144974"
      },
      "execution_count": null,
      "outputs": [
        {
          "output_type": "execute_result",
          "data": {
            "text/plain": [
              "'Hoje--o--dia--está--de--noite'"
            ],
            "application/vnd.google.colaboratory.intrinsic+json": {
              "type": "string"
            }
          },
          "metadata": {},
          "execution_count": 29
        }
      ]
    },
    {
      "cell_type": "code",
      "source": [
        "%%timeit\n",
        "\n",
        "# Agora resolva utilizando a função lambda e comprehension\n",
        "\n",
        "frase = 'Este ambiente de inovação jamais abrirá as portas para mim se eu não estudar ...'\n",
        "palavras_da_frase = frase.split( sep = ' ' )\n",
        "\n",
        "# Resolva\n",
        "vogal_maiuscula = lambda x: x.title() if x[0] in 'aeiou' else x\n",
        "\n",
        "comp_lambda = ' '.join( [ vogal_maiuscula(y) for y in palavras_da_frase ] )"
      ],
      "metadata": {
        "id": "a6gGhrWWqJzb",
        "colab": {
          "base_uri": "https://localhost:8080/"
        },
        "outputId": "bf2621ce-b5e5-4366-f097-c78d17d907a8"
      },
      "execution_count": null,
      "outputs": [
        {
          "output_type": "stream",
          "name": "stdout",
          "text": [
            "4.95 µs ± 547 ns per loop (mean ± std. dev. of 7 runs, 100000 loops each)\n"
          ]
        }
      ]
    },
    {
      "cell_type": "code",
      "source": [
        "# Reforçando a função lambda\n",
        "\n",
        "# Criando uma lista \"compreendida\" através de outra, com os números elevados ao cubo\n",
        "\n",
        "lst_aux = list (range(5,16) )\n",
        "\n",
        "l_eleva_ao_cubo = lambda x: x**2\n",
        "\n",
        "lst_ao_cubo = [ l_eleva_ao_cubo(y) for y in lst_aux ]\n",
        "\n",
        "print('Lista original: ', lst_aux)\n",
        "print('Lista ao cubo: ', lst_ao_cubo)"
      ],
      "metadata": {
        "colab": {
          "base_uri": "https://localhost:8080/"
        },
        "id": "zZCdECzTgNzJ",
        "outputId": "f50972c9-f2ad-4950-b7c9-84e962f3195d"
      },
      "execution_count": null,
      "outputs": [
        {
          "output_type": "stream",
          "name": "stdout",
          "text": [
            "Lista original:  [5, 6, 7, 8, 9, 10, 11, 12, 13, 14, 15]\n",
            "Lista ao cubo:  [25, 36, 49, 64, 81, 100, 121, 144, 169, 196, 225]\n"
          ]
        }
      ]
    },
    {
      "cell_type": "code",
      "source": [
        "# Exemplo com 2 argumentos\n",
        "\n",
        "l_eleva_ao_cubo = lambda x, y: (x**3) + y\n",
        "\n",
        "l_eleva_ao_cubo(3, 10)"
      ],
      "metadata": {
        "colab": {
          "base_uri": "https://localhost:8080/"
        },
        "id": "uuFgfTFWiXrw",
        "outputId": "1e033067-8674-4e22-b342-6401b71a99dc"
      },
      "execution_count": null,
      "outputs": [
        {
          "output_type": "execute_result",
          "data": {
            "text/plain": [
              "37"
            ]
          },
          "metadata": {},
          "execution_count": 41
        }
      ]
    },
    {
      "cell_type": "code",
      "source": [
        "# Exemplo com 2 argumentos e list comprehension\n",
        "\n",
        "# Elevando os números de 1 a 5 em 2 e em 3 (x^2 e x^3)\n",
        "\n",
        "lista_1 = [1,2,3,4,5]\n",
        "\n",
        "lista_2 = [2,3]\n",
        "\n",
        "l_eleva_listas = lambda x, y: x**y\n",
        "\n",
        "lista_elevada = [ l_eleva_listas(x, y) for x in lista_1 for y in lista_2 ]\n",
        "\n",
        "# equivalente\n",
        "# for x in lista 1:\n",
        "#    for y in lista 2:\n",
        "#        code\n",
        "\n",
        "lista_elevada"
      ],
      "metadata": {
        "colab": {
          "base_uri": "https://localhost:8080/"
        },
        "id": "IHo4I9U4yvvY",
        "outputId": "478b28d6-2fd2-4488-817c-f72212ec498d"
      },
      "execution_count": null,
      "outputs": [
        {
          "output_type": "execute_result",
          "data": {
            "text/plain": [
              "[1, 1, 4, 8, 9, 27, 16, 64, 25, 125]"
            ]
          },
          "metadata": {},
          "execution_count": 12
        }
      ]
    },
    {
      "cell_type": "markdown",
      "source": [
        "## DESAFIO DO DIA\n",
        "\n",
        "Faça uma função que retorne os números primos de 1 a 100"
      ],
      "metadata": {
        "id": "IybNIB0t3woS"
      }
    },
    {
      "cell_type": "code",
      "source": [
        "# Resolva\n",
        "\n"
      ],
      "metadata": {
        "id": "05WLcfFbx2Oo"
      },
      "execution_count": null,
      "outputs": []
    },
    {
      "cell_type": "markdown",
      "source": [
        "## Imports"
      ],
      "metadata": {
        "id": "ALrvcY7UuyFE"
      }
    },
    {
      "cell_type": "markdown",
      "source": [
        "Um dos maiores poderes da linguagem Python! 🥇\n",
        "\n",
        "Um \"import\" nos permite \"trazer\" ao projeto várias funções previamente escritas por outros programadores contendo módulos e bibliotecas.\n",
        "- Semelhante ao `#include <stdio>` ou `#include \"customlib.h\"` na linguagem C\n",
        "\n",
        "<img src='https://live.staticflickr.com/4827/45340089845_845d139556_z.jpg' width=50%>\n",
        "\n",
        "Obs: Um pacote é um conjunto de vários módulos reunidos\n"
      ],
      "metadata": {
        "id": "WkcbGP0OK8BO"
      }
    },
    {
      "cell_type": "code",
      "source": [
        "# Realizando o import do pacote numpy com o comando \"import\"\n",
        "import numpy\n",
        "\n",
        "# Realizando o import do modulo pyplot com o comando \"from\" que vem do pacote matplotlib \n",
        "from matplotlib import pyplot\n",
        "# ou\n",
        "import matplotlib.pyplot"
      ],
      "metadata": {
        "id": "1bqGWHu2L_it"
      },
      "execution_count": null,
      "outputs": []
    },
    {
      "cell_type": "code",
      "source": [
        "# Listando os módulos presentes no numpy com dir(pacote)\n",
        "dir(numpy)"
      ],
      "metadata": {
        "id": "6KA9QaIHcmo7",
        "colab": {
          "base_uri": "https://localhost:8080/"
        },
        "outputId": "50236f55-f28a-4454-96a8-d82c18b4fe72"
      },
      "execution_count": null,
      "outputs": [
        {
          "output_type": "execute_result",
          "data": {
            "text/plain": [
              "['ALLOW_THREADS',\n",
              " 'AxisError',\n",
              " 'BUFSIZE',\n",
              " 'Bytes0',\n",
              " 'CLIP',\n",
              " 'ComplexWarning',\n",
              " 'DataSource',\n",
              " 'Datetime64',\n",
              " 'ERR_CALL',\n",
              " 'ERR_DEFAULT',\n",
              " 'ERR_IGNORE',\n",
              " 'ERR_LOG',\n",
              " 'ERR_PRINT',\n",
              " 'ERR_RAISE',\n",
              " 'ERR_WARN',\n",
              " 'FLOATING_POINT_SUPPORT',\n",
              " 'FPE_DIVIDEBYZERO',\n",
              " 'FPE_INVALID',\n",
              " 'FPE_OVERFLOW',\n",
              " 'FPE_UNDERFLOW',\n",
              " 'False_',\n",
              " 'Inf',\n",
              " 'Infinity',\n",
              " 'MAXDIMS',\n",
              " 'MAY_SHARE_BOUNDS',\n",
              " 'MAY_SHARE_EXACT',\n",
              " 'MachAr',\n",
              " 'ModuleDeprecationWarning',\n",
              " 'NAN',\n",
              " 'NINF',\n",
              " 'NZERO',\n",
              " 'NaN',\n",
              " 'PINF',\n",
              " 'PZERO',\n",
              " 'RAISE',\n",
              " 'RankWarning',\n",
              " 'SHIFT_DIVIDEBYZERO',\n",
              " 'SHIFT_INVALID',\n",
              " 'SHIFT_OVERFLOW',\n",
              " 'SHIFT_UNDERFLOW',\n",
              " 'ScalarType',\n",
              " 'Str0',\n",
              " 'Tester',\n",
              " 'TooHardError',\n",
              " 'True_',\n",
              " 'UFUNC_BUFSIZE_DEFAULT',\n",
              " 'UFUNC_PYVALS_NAME',\n",
              " 'Uint64',\n",
              " 'VisibleDeprecationWarning',\n",
              " 'WRAP',\n",
              " '_NoValue',\n",
              " '_UFUNC_API',\n",
              " '__NUMPY_SETUP__',\n",
              " '__all__',\n",
              " '__builtins__',\n",
              " '__cached__',\n",
              " '__config__',\n",
              " '__deprecated_attrs__',\n",
              " '__dir__',\n",
              " '__doc__',\n",
              " '__expired_functions__',\n",
              " '__file__',\n",
              " '__getattr__',\n",
              " '__git_version__',\n",
              " '__loader__',\n",
              " '__name__',\n",
              " '__package__',\n",
              " '__path__',\n",
              " '__spec__',\n",
              " '__version__',\n",
              " '_add_newdoc_ufunc',\n",
              " '_distributor_init',\n",
              " '_financial_names',\n",
              " '_globals',\n",
              " '_mat',\n",
              " '_pytesttester',\n",
              " '_version',\n",
              " 'abs',\n",
              " 'absolute',\n",
              " 'add',\n",
              " 'add_docstring',\n",
              " 'add_newdoc',\n",
              " 'add_newdoc_ufunc',\n",
              " 'alen',\n",
              " 'all',\n",
              " 'allclose',\n",
              " 'alltrue',\n",
              " 'amax',\n",
              " 'amin',\n",
              " 'angle',\n",
              " 'any',\n",
              " 'append',\n",
              " 'apply_along_axis',\n",
              " 'apply_over_axes',\n",
              " 'arange',\n",
              " 'arccos',\n",
              " 'arccosh',\n",
              " 'arcsin',\n",
              " 'arcsinh',\n",
              " 'arctan',\n",
              " 'arctan2',\n",
              " 'arctanh',\n",
              " 'argmax',\n",
              " 'argmin',\n",
              " 'argpartition',\n",
              " 'argsort',\n",
              " 'argwhere',\n",
              " 'around',\n",
              " 'array',\n",
              " 'array2string',\n",
              " 'array_equal',\n",
              " 'array_equiv',\n",
              " 'array_repr',\n",
              " 'array_split',\n",
              " 'array_str',\n",
              " 'asanyarray',\n",
              " 'asarray',\n",
              " 'asarray_chkfinite',\n",
              " 'ascontiguousarray',\n",
              " 'asfarray',\n",
              " 'asfortranarray',\n",
              " 'asmatrix',\n",
              " 'asscalar',\n",
              " 'atleast_1d',\n",
              " 'atleast_2d',\n",
              " 'atleast_3d',\n",
              " 'average',\n",
              " 'bartlett',\n",
              " 'base_repr',\n",
              " 'binary_repr',\n",
              " 'bincount',\n",
              " 'bitwise_and',\n",
              " 'bitwise_not',\n",
              " 'bitwise_or',\n",
              " 'bitwise_xor',\n",
              " 'blackman',\n",
              " 'block',\n",
              " 'bmat',\n",
              " 'bool8',\n",
              " 'bool_',\n",
              " 'broadcast',\n",
              " 'broadcast_arrays',\n",
              " 'broadcast_shapes',\n",
              " 'broadcast_to',\n",
              " 'busday_count',\n",
              " 'busday_offset',\n",
              " 'busdaycalendar',\n",
              " 'byte',\n",
              " 'byte_bounds',\n",
              " 'bytes0',\n",
              " 'bytes_',\n",
              " 'c_',\n",
              " 'can_cast',\n",
              " 'cast',\n",
              " 'cbrt',\n",
              " 'cdouble',\n",
              " 'ceil',\n",
              " 'cfloat',\n",
              " 'char',\n",
              " 'character',\n",
              " 'chararray',\n",
              " 'choose',\n",
              " 'clip',\n",
              " 'clongdouble',\n",
              " 'clongfloat',\n",
              " 'column_stack',\n",
              " 'common_type',\n",
              " 'compare_chararrays',\n",
              " 'compat',\n",
              " 'complex128',\n",
              " 'complex256',\n",
              " 'complex64',\n",
              " 'complex_',\n",
              " 'complexfloating',\n",
              " 'compress',\n",
              " 'concatenate',\n",
              " 'conj',\n",
              " 'conjugate',\n",
              " 'convolve',\n",
              " 'copy',\n",
              " 'copysign',\n",
              " 'copyto',\n",
              " 'core',\n",
              " 'corrcoef',\n",
              " 'correlate',\n",
              " 'cos',\n",
              " 'cosh',\n",
              " 'count_nonzero',\n",
              " 'cov',\n",
              " 'cross',\n",
              " 'csingle',\n",
              " 'ctypeslib',\n",
              " 'cumprod',\n",
              " 'cumproduct',\n",
              " 'cumsum',\n",
              " 'datetime64',\n",
              " 'datetime_as_string',\n",
              " 'datetime_data',\n",
              " 'deg2rad',\n",
              " 'degrees',\n",
              " 'delete',\n",
              " 'deprecate',\n",
              " 'deprecate_with_doc',\n",
              " 'diag',\n",
              " 'diag_indices',\n",
              " 'diag_indices_from',\n",
              " 'diagflat',\n",
              " 'diagonal',\n",
              " 'diff',\n",
              " 'digitize',\n",
              " 'disp',\n",
              " 'divide',\n",
              " 'divmod',\n",
              " 'dot',\n",
              " 'double',\n",
              " 'dsplit',\n",
              " 'dstack',\n",
              " 'dtype',\n",
              " 'e',\n",
              " 'ediff1d',\n",
              " 'einsum',\n",
              " 'einsum_path',\n",
              " 'emath',\n",
              " 'empty',\n",
              " 'empty_like',\n",
              " 'equal',\n",
              " 'errstate',\n",
              " 'euler_gamma',\n",
              " 'exp',\n",
              " 'exp2',\n",
              " 'expand_dims',\n",
              " 'expm1',\n",
              " 'extract',\n",
              " 'eye',\n",
              " 'fabs',\n",
              " 'fastCopyAndTranspose',\n",
              " 'fft',\n",
              " 'fill_diagonal',\n",
              " 'find_common_type',\n",
              " 'finfo',\n",
              " 'fix',\n",
              " 'flatiter',\n",
              " 'flatnonzero',\n",
              " 'flexible',\n",
              " 'flip',\n",
              " 'fliplr',\n",
              " 'flipud',\n",
              " 'float128',\n",
              " 'float16',\n",
              " 'float32',\n",
              " 'float64',\n",
              " 'float_',\n",
              " 'float_power',\n",
              " 'floating',\n",
              " 'floor',\n",
              " 'floor_divide',\n",
              " 'fmax',\n",
              " 'fmin',\n",
              " 'fmod',\n",
              " 'format_float_positional',\n",
              " 'format_float_scientific',\n",
              " 'format_parser',\n",
              " 'frexp',\n",
              " 'frombuffer',\n",
              " 'fromfile',\n",
              " 'fromfunction',\n",
              " 'fromiter',\n",
              " 'frompyfunc',\n",
              " 'fromregex',\n",
              " 'fromstring',\n",
              " 'full',\n",
              " 'full_like',\n",
              " 'gcd',\n",
              " 'generic',\n",
              " 'genfromtxt',\n",
              " 'geomspace',\n",
              " 'get_array_wrap',\n",
              " 'get_include',\n",
              " 'get_printoptions',\n",
              " 'getbufsize',\n",
              " 'geterr',\n",
              " 'geterrcall',\n",
              " 'geterrobj',\n",
              " 'gradient',\n",
              " 'greater',\n",
              " 'greater_equal',\n",
              " 'half',\n",
              " 'hamming',\n",
              " 'hanning',\n",
              " 'heaviside',\n",
              " 'histogram',\n",
              " 'histogram2d',\n",
              " 'histogram_bin_edges',\n",
              " 'histogramdd',\n",
              " 'hsplit',\n",
              " 'hstack',\n",
              " 'hypot',\n",
              " 'i0',\n",
              " 'identity',\n",
              " 'iinfo',\n",
              " 'imag',\n",
              " 'in1d',\n",
              " 'index_exp',\n",
              " 'indices',\n",
              " 'inexact',\n",
              " 'inf',\n",
              " 'info',\n",
              " 'infty',\n",
              " 'inner',\n",
              " 'insert',\n",
              " 'int0',\n",
              " 'int16',\n",
              " 'int32',\n",
              " 'int64',\n",
              " 'int8',\n",
              " 'int_',\n",
              " 'intc',\n",
              " 'integer',\n",
              " 'interp',\n",
              " 'intersect1d',\n",
              " 'intp',\n",
              " 'invert',\n",
              " 'is_busday',\n",
              " 'isclose',\n",
              " 'iscomplex',\n",
              " 'iscomplexobj',\n",
              " 'isfinite',\n",
              " 'isfortran',\n",
              " 'isin',\n",
              " 'isinf',\n",
              " 'isnan',\n",
              " 'isnat',\n",
              " 'isneginf',\n",
              " 'isposinf',\n",
              " 'isreal',\n",
              " 'isrealobj',\n",
              " 'isscalar',\n",
              " 'issctype',\n",
              " 'issubclass_',\n",
              " 'issubdtype',\n",
              " 'issubsctype',\n",
              " 'iterable',\n",
              " 'ix_',\n",
              " 'kaiser',\n",
              " 'kernel_version',\n",
              " 'kron',\n",
              " 'lcm',\n",
              " 'ldexp',\n",
              " 'left_shift',\n",
              " 'less',\n",
              " 'less_equal',\n",
              " 'lexsort',\n",
              " 'lib',\n",
              " 'linalg',\n",
              " 'linspace',\n",
              " 'little_endian',\n",
              " 'load',\n",
              " 'loads',\n",
              " 'loadtxt',\n",
              " 'log',\n",
              " 'log10',\n",
              " 'log1p',\n",
              " 'log2',\n",
              " 'logaddexp',\n",
              " 'logaddexp2',\n",
              " 'logical_and',\n",
              " 'logical_not',\n",
              " 'logical_or',\n",
              " 'logical_xor',\n",
              " 'logspace',\n",
              " 'longcomplex',\n",
              " 'longdouble',\n",
              " 'longfloat',\n",
              " 'longlong',\n",
              " 'lookfor',\n",
              " 'ma',\n",
              " 'mafromtxt',\n",
              " 'mask_indices',\n",
              " 'mat',\n",
              " 'math',\n",
              " 'matmul',\n",
              " 'matrix',\n",
              " 'matrixlib',\n",
              " 'max',\n",
              " 'maximum',\n",
              " 'maximum_sctype',\n",
              " 'may_share_memory',\n",
              " 'mean',\n",
              " 'median',\n",
              " 'memmap',\n",
              " 'meshgrid',\n",
              " 'mgrid',\n",
              " 'min',\n",
              " 'min_scalar_type',\n",
              " 'minimum',\n",
              " 'mintypecode',\n",
              " 'mod',\n",
              " 'modf',\n",
              " 'moveaxis',\n",
              " 'msort',\n",
              " 'multiply',\n",
              " 'nan',\n",
              " 'nan_to_num',\n",
              " 'nanargmax',\n",
              " 'nanargmin',\n",
              " 'nancumprod',\n",
              " 'nancumsum',\n",
              " 'nanmax',\n",
              " 'nanmean',\n",
              " 'nanmedian',\n",
              " 'nanmin',\n",
              " 'nanpercentile',\n",
              " 'nanprod',\n",
              " 'nanquantile',\n",
              " 'nanstd',\n",
              " 'nansum',\n",
              " 'nanvar',\n",
              " 'nbytes',\n",
              " 'ndarray',\n",
              " 'ndenumerate',\n",
              " 'ndfromtxt',\n",
              " 'ndim',\n",
              " 'ndindex',\n",
              " 'nditer',\n",
              " 'negative',\n",
              " 'nested_iters',\n",
              " 'newaxis',\n",
              " 'nextafter',\n",
              " 'nonzero',\n",
              " 'not_equal',\n",
              " 'numarray',\n",
              " 'number',\n",
              " 'obj2sctype',\n",
              " 'object0',\n",
              " 'object_',\n",
              " 'ogrid',\n",
              " 'oldnumeric',\n",
              " 'ones',\n",
              " 'ones_like',\n",
              " 'os',\n",
              " 'outer',\n",
              " 'packbits',\n",
              " 'pad',\n",
              " 'partition',\n",
              " 'percentile',\n",
              " 'pi',\n",
              " 'piecewise',\n",
              " 'place',\n",
              " 'poly',\n",
              " 'poly1d',\n",
              " 'polyadd',\n",
              " 'polyder',\n",
              " 'polydiv',\n",
              " 'polyfit',\n",
              " 'polyint',\n",
              " 'polymul',\n",
              " 'polynomial',\n",
              " 'polysub',\n",
              " 'polyval',\n",
              " 'positive',\n",
              " 'power',\n",
              " 'printoptions',\n",
              " 'prod',\n",
              " 'product',\n",
              " 'promote_types',\n",
              " 'ptp',\n",
              " 'put',\n",
              " 'put_along_axis',\n",
              " 'putmask',\n",
              " 'quantile',\n",
              " 'r_',\n",
              " 'rad2deg',\n",
              " 'radians',\n",
              " 'random',\n",
              " 'ravel',\n",
              " 'ravel_multi_index',\n",
              " 'real',\n",
              " 'real_if_close',\n",
              " 'rec',\n",
              " 'recarray',\n",
              " 'recfromcsv',\n",
              " 'recfromtxt',\n",
              " 'reciprocal',\n",
              " 'record',\n",
              " 'remainder',\n",
              " 'repeat',\n",
              " 'require',\n",
              " 'reshape',\n",
              " 'resize',\n",
              " 'result_type',\n",
              " 'right_shift',\n",
              " 'rint',\n",
              " 'roll',\n",
              " 'rollaxis',\n",
              " 'roots',\n",
              " 'rot90',\n",
              " 'round',\n",
              " 'round_',\n",
              " 'row_stack',\n",
              " 's_',\n",
              " 'safe_eval',\n",
              " 'save',\n",
              " 'savetxt',\n",
              " 'savez',\n",
              " 'savez_compressed',\n",
              " 'sctype2char',\n",
              " 'sctypeDict',\n",
              " 'sctypes',\n",
              " 'searchsorted',\n",
              " 'select',\n",
              " 'set_numeric_ops',\n",
              " 'set_printoptions',\n",
              " 'set_string_function',\n",
              " 'setbufsize',\n",
              " 'setdiff1d',\n",
              " 'seterr',\n",
              " 'seterrcall',\n",
              " 'seterrobj',\n",
              " 'setxor1d',\n",
              " 'shape',\n",
              " 'shares_memory',\n",
              " 'short',\n",
              " 'show_config',\n",
              " 'sign',\n",
              " 'signbit',\n",
              " 'signedinteger',\n",
              " 'sin',\n",
              " 'sinc',\n",
              " 'single',\n",
              " 'singlecomplex',\n",
              " 'sinh',\n",
              " 'size',\n",
              " 'sometrue',\n",
              " 'sort',\n",
              " 'sort_complex',\n",
              " 'source',\n",
              " 'spacing',\n",
              " 'split',\n",
              " 'sqrt',\n",
              " 'square',\n",
              " 'squeeze',\n",
              " 'stack',\n",
              " 'std',\n",
              " 'str0',\n",
              " 'str_',\n",
              " 'string_',\n",
              " 'subtract',\n",
              " 'sum',\n",
              " 'swapaxes',\n",
              " 'sys',\n",
              " 'take',\n",
              " 'take_along_axis',\n",
              " 'tan',\n",
              " 'tanh',\n",
              " 'tensordot',\n",
              " 'test',\n",
              " 'testing',\n",
              " 'tile',\n",
              " 'timedelta64',\n",
              " 'trace',\n",
              " 'tracemalloc_domain',\n",
              " 'transpose',\n",
              " 'trapz',\n",
              " 'tri',\n",
              " 'tril',\n",
              " 'tril_indices',\n",
              " 'tril_indices_from',\n",
              " 'trim_zeros',\n",
              " 'triu',\n",
              " 'triu_indices',\n",
              " 'triu_indices_from',\n",
              " 'true_divide',\n",
              " 'trunc',\n",
              " 'typecodes',\n",
              " 'typename',\n",
              " 'ubyte',\n",
              " 'ufunc',\n",
              " 'uint',\n",
              " 'uint0',\n",
              " 'uint16',\n",
              " 'uint32',\n",
              " 'uint64',\n",
              " 'uint8',\n",
              " 'uintc',\n",
              " 'uintp',\n",
              " 'ulonglong',\n",
              " 'unicode_',\n",
              " 'union1d',\n",
              " 'unique',\n",
              " 'unpackbits',\n",
              " 'unravel_index',\n",
              " 'unsignedinteger',\n",
              " 'unwrap',\n",
              " 'use_hugepage',\n",
              " 'ushort',\n",
              " 'vander',\n",
              " 'var',\n",
              " 'vdot',\n",
              " 'vectorize',\n",
              " 'version',\n",
              " 'void',\n",
              " 'void0',\n",
              " 'vsplit',\n",
              " 'vstack',\n",
              " 'warnings',\n",
              " 'where',\n",
              " 'who',\n",
              " 'zeros',\n",
              " 'zeros_like']"
            ]
          },
          "metadata": {},
          "execution_count": 45
        }
      ]
    },
    {
      "cell_type": "markdown",
      "source": [
        "Extra: Qual a diferença entre um pacote e um módulo em Python?\n",
        "\n",
        "\n",
        "\n",
        "> \"Um módulo é um arquivo com a extensão .py contendo um script Python. O pacote é a maneira de manter os nomes desses módulos separados, usando a “notação ponto”, ou seja, <pacote>.<módulo>. Essa notação é usada internamente pelo Python para separar os módulos em “espaços de nomes” diferentes, mas para o sistema operacional, o pacote é apenas o diretório que contém os arquivos .py de cada módulo.\"\n",
        "\n",
        "*fonte: https://vaiprogramar.com/qual-a-diferenca-modulo-pacote-python/*\n",
        "\n",
        "\n",
        "Ou seja...\n",
        "Qualquer arquivo Python pode ser um módulo; um pacote é uma organização lógica de módulos em um dado diretório.\n",
        "O arquivo que transformará o diretório em um pacote se chama **__init__.py**"
      ],
      "metadata": {
        "id": "to2cxSwvNYv-"
      }
    },
    {
      "cell_type": "code",
      "source": [
        "# Importando o pacote numpy e dando um \"apelido\" para ele\n",
        "import numpy as np"
      ],
      "metadata": {
        "id": "AKQZR3Y0NLUX"
      },
      "execution_count": null,
      "outputs": []
    },
    {
      "cell_type": "code",
      "source": [
        "# Alguns pacotes famosos e seus apelidos: np, plt, pd, sns\n",
        "import numpy             as np\n",
        "import matplotlib.pyplot as plt\n",
        "import pandas            as pd\n",
        "import seaborn           as sns"
      ],
      "metadata": {
        "id": "LzfN_-9FOnvO"
      },
      "execution_count": null,
      "outputs": []
    },
    {
      "cell_type": "code",
      "source": [
        "# Utilizando o comando ! para acessar o terminal (descomente o código e veja o que acontece)\n",
        "\n",
        "!pip install numpy"
      ],
      "metadata": {
        "id": "k9n3Ib3BQULe",
        "colab": {
          "base_uri": "https://localhost:8080/"
        },
        "outputId": "9c5cd5b1-4c3d-44b1-c1fd-e36c750d0b5e"
      },
      "execution_count": null,
      "outputs": [
        {
          "output_type": "stream",
          "name": "stdout",
          "text": [
            "Looking in indexes: https://pypi.org/simple, https://us-python.pkg.dev/colab-wheels/public/simple/\n",
            "Requirement already satisfied: numpy in /usr/local/lib/python3.7/dist-packages (1.21.6)\n"
          ]
        }
      ]
    },
    {
      "cell_type": "markdown",
      "source": [
        "## Programação Funcional"
      ],
      "metadata": {
        "id": "rcygOcRxuzjh"
      }
    },
    {
      "cell_type": "markdown",
      "source": [
        "Python conta com um recurso interessante para melhorar a eficiência de se aplicar funções em sequências, chamada de programação funcional.<br>\n",
        "Pode-se acessar essa \"funcional\" pelo comando: <br>\n",
        "`funcao_funcional(funcao_utilizada, sequencia_ou_iterador)`\n",
        "\n",
        "Alguns dos exemplos mais famosos são as funcionais:\n",
        "- map: retorna um objeto do tipo \"map\" do resultado da aplicação da função escolhida para os elementos da sequência\n",
        "- filter: retorna um objeto do tipo \"filter\" com um filtro aplicado (condição verdadeira) para a sequência de elementos\n",
        "- reduce: aplica a função realizando um acumulado dos elementos (diferente das duas acimas, ela necessita ser importada pelo modulo functools)"
      ],
      "metadata": {
        "id": "v0cCraUpdiZ5"
      }
    },
    {
      "cell_type": "markdown",
      "source": [
        "**Funcional map()**"
      ],
      "metadata": {
        "id": "CGJ8krttkwMG"
      }
    },
    {
      "cell_type": "code",
      "source": [
        "# Criando uma lista qualquer\n",
        "lst_auxiliar = [1,2,3,4,5,6,7,8,9,10]\n",
        "\n",
        "# Criando uma função qualquer para ser utilizada\n",
        "def is_par_or_impar(elementos): # retorna se o número é par ou ímpar\n",
        "  if elementos%2 == 0:\n",
        "    return 'Par'\n",
        "  else:\n",
        "    return 'Impar'\n",
        "\n",
        "# Aplicando a função criada na lista auxiliar utilizando o .map(funcao, iterador)\n",
        "\n",
        "lst_modificada = map( is_par_or_impar, lst_auxiliar )\n",
        "print(lst_modificada)\n",
        "\n",
        "# Porém, o resultado foi um objeto do tipo map; para vermos o resultado precisamos transformá-lo em lista\n",
        "print( list(lst_modificada) )"
      ],
      "metadata": {
        "id": "nfzP5S1jikpk",
        "colab": {
          "base_uri": "https://localhost:8080/"
        },
        "outputId": "1f16623e-049d-4712-8e9a-8934aa6e5878"
      },
      "execution_count": null,
      "outputs": [
        {
          "output_type": "stream",
          "name": "stdout",
          "text": [
            "<map object at 0x7f7a62871250>\n",
            "['Impar', 'Par', 'Impar', 'Par', 'Impar', 'Par', 'Impar', 'Par', 'Impar', 'Par']\n"
          ]
        }
      ]
    },
    {
      "cell_type": "code",
      "source": [
        "# O mesmo código acima utilizando lambda\n",
        "\n",
        "lst_auxiliar = [1,2,3,4,5,6,7,8,9,10]\n",
        "\n",
        "lst_modificada = list( map( lambda x: 'Par' if x%2==0 else 'Impar', lst_auxiliar ) )\n",
        "print( lst_modificada )"
      ],
      "metadata": {
        "id": "qBY61t4YkJ2e",
        "colab": {
          "base_uri": "https://localhost:8080/"
        },
        "outputId": "ba6116f6-4a29-4c32-9439-8a2ee1947547"
      },
      "execution_count": null,
      "outputs": [
        {
          "output_type": "stream",
          "name": "stdout",
          "text": [
            "['Impar', 'Par', 'Impar', 'Par', 'Impar', 'Par', 'Impar', 'Par', 'Impar', 'Par']\n"
          ]
        }
      ]
    },
    {
      "cell_type": "markdown",
      "source": [
        "**Funcional filter()**"
      ],
      "metadata": {
        "id": "8QbPZtRkkyHC"
      }
    },
    {
      "cell_type": "code",
      "source": [
        "# Filtrando a lista auxiliar para retornar apenas os valores múltiplos de 3\n",
        "\n",
        "lst_auxiliar = [1,2,3,4,5,6,7,8,9,10]\n",
        "\n",
        "lst_modificada = list( filter( lambda x: x%3==0, lst_auxiliar ) )\n",
        "print(lst_modificada)"
      ],
      "metadata": {
        "id": "V2vr5Et9kurc",
        "colab": {
          "base_uri": "https://localhost:8080/"
        },
        "outputId": "9b5d897b-7a45-46b0-ad59-ec50abccf7a7"
      },
      "execution_count": null,
      "outputs": [
        {
          "output_type": "stream",
          "name": "stdout",
          "text": [
            "[3, 6, 9]\n"
          ]
        }
      ]
    },
    {
      "cell_type": "markdown",
      "source": [
        "**Funcional reduce()**"
      ],
      "metadata": {
        "id": "6PFNTPFTk0rP"
      }
    },
    {
      "cell_type": "code",
      "source": [
        "# Importando a funçao reduce\n",
        "from functools import reduce\n",
        "\n",
        "# Fazendo um acumulado de 0 ao 100\n",
        "\n",
        "lst_auxiliar = list( range(1,101) )  # Obs: o último número não entra, logo a lista vai até 100 e não 101\n",
        "\n",
        "lst_reduzida = reduce( lambda x, y: x + y, lst_auxiliar )\n",
        "\n",
        "print( lst_reduzida ) \n",
        "\n",
        "# Curiosidade: neste exemplo realizamos a soma de Gauss"
      ],
      "metadata": {
        "id": "BHX0SEETltQp",
        "colab": {
          "base_uri": "https://localhost:8080/"
        },
        "outputId": "869324b7-888c-4b40-fe04-64aafd129f30"
      },
      "execution_count": null,
      "outputs": [
        {
          "output_type": "stream",
          "name": "stdout",
          "text": [
            "5050\n"
          ]
        }
      ]
    },
    {
      "cell_type": "markdown",
      "source": [
        "___\n",
        "\n",
        "**Exercícios funcionais**\n",
        "\n",
        "___"
      ],
      "metadata": {
        "id": "WLMS487Gm4mI"
      }
    },
    {
      "cell_type": "markdown",
      "source": [
        "1) Dada uma lista [1,2,3,4,5,6,7,8,9,10], utilize a funcional **filter** para retornar os números cujo dobro sejam menores que 12.<br>\n",
        "Exemplo:<br>\n",
        "Dado o número 1, seu dobro é 2, logo menor que 12 ✅ <Br>\n",
        "Dado o número 6, seu dobro é 12, logo não é menor que 12 ❌"
      ],
      "metadata": {
        "id": "xc6F6au9nFDJ"
      }
    },
    {
      "cell_type": "code",
      "source": [
        "lst_auxiliar = list( range(1,11) )\n",
        "\n",
        "# Resolva em uma linha\n",
        "\n",
        "# Solução otavio canedo\n",
        "lst_filtrada = list( filter( lambda x: (x*2) < 12, lst_auxiliar ) )\n",
        "\n",
        "print(lst_filtrada)"
      ],
      "metadata": {
        "id": "HPr2sZaloAMP",
        "colab": {
          "base_uri": "https://localhost:8080/"
        },
        "outputId": "9b61ff30-8a7e-4646-9aec-55a59f43744c"
      },
      "execution_count": null,
      "outputs": [
        {
          "output_type": "stream",
          "name": "stdout",
          "text": [
            "[1, 2, 3, 4, 5]\n"
          ]
        }
      ]
    },
    {
      "cell_type": "markdown",
      "source": [
        "2) Aplique a função para retirar os espaços laterais de todos os elementos da lista.<br>\n",
        "**Dica**: Utilize a função strip() juntamente da funcional map() e lambda()"
      ],
      "metadata": {
        "id": "kxGzgMmsopAB"
      }
    },
    {
      "cell_type": "code",
      "source": [
        "lst_auxiliar = ['   Matheus Carvalo', 'Janaina Oliveira  ', 'Paulo Cesar', '  Geraldo Osvaldo ']\n",
        "\n",
        "# Resolva em uma linha\n",
        "\n",
        "# Solução Leo Andrade\n",
        "lst_corrigida_2  = list( map( lambda x: x.strip(), lst_auxiliar ) )\n",
        "print(lst_corrigida_2)"
      ],
      "metadata": {
        "id": "L_UbptZ-pCfC",
        "colab": {
          "base_uri": "https://localhost:8080/"
        },
        "outputId": "fd30b6db-ce9e-4aad-8414-cf9aca83beff"
      },
      "execution_count": null,
      "outputs": [
        {
          "output_type": "stream",
          "name": "stdout",
          "text": [
            "['Matheus Carvalo', 'Janaina Oliveira', 'Paulo Cesar', 'Geraldo Osvaldo']\n"
          ]
        }
      ]
    },
    {
      "cell_type": "markdown",
      "source": [
        "3) Some os números múltiplos de 3 começando em 1 e terminando em 100: [3+6+9+12+...+99].\n",
        "\n",
        "Ex.<br>\n",
        "Entrada: 1,2,3,4,5,6,7,8,9 <br>\n",
        "Saída: 18   --> 3 + 6 + 9  <br>"
      ],
      "metadata": {
        "id": "pMNP7MkDub0k"
      }
    },
    {
      "cell_type": "code",
      "source": [
        "# Resolva em uma linha\n",
        "from functools import reduce\n",
        "lst_aux = list( range(1,101) )\n",
        "\n",
        "lst_soma_3 = reduce( lambda x, y: x + y, filter( lambda y: y%3==0, lst_aux ) )\n",
        "print(lst_soma_3)"
      ],
      "metadata": {
        "id": "KTQVX4v-uv5v",
        "colab": {
          "base_uri": "https://localhost:8080/"
        },
        "outputId": "ef4bd8a5-aa0c-421e-e481-df5ac0ac5e42"
      },
      "execution_count": null,
      "outputs": [
        {
          "output_type": "stream",
          "name": "stdout",
          "text": [
            "1683\n"
          ]
        }
      ]
    },
    {
      "cell_type": "markdown",
      "source": [
        "4) Um certo clã do jogo World of Warcraft separava seus líderes colocando a nomenclatura LD ao final do nome.<br>\n",
        "Por exemplo, xXGeraldoXxLD significa que Geraldo é um lider.<br>\n",
        "Seguindo a lógica, OsvaldoHunter significa que o membro não é um líder.<br>\n",
        "Acontece que para o ano de 2022, o clã resolveu atualizar a nomenclatura de líder para futuramente incluir mais cargos, trocando a nomenclatura de 'LD' para 'LDG'.\n",
        "\n",
        "**Ajude a guilda** acrescentando a letra \"G\" ao final do nome dos atuais líderes e separando-os em uma nova lista\n",
        "\n",
        "Obs: **todo o código deve estar em uma linha**\n",
        "\n",
        "**Ex**: <br>\n",
        "Membros: GeraldoLD, Leandro, JanainaxxD, CaioLD <br>\n",
        "Lista resultado: GeraldoLDG, CaioLDG <Br>\n",
        "\n",
        "<img src=\"https://www.joyscribe.com/wp-content/uploads/2018/01/GAA.jpg\" width=50%>"
      ],
      "metadata": {
        "id": "IO5R9AG0pk8s"
      }
    },
    {
      "cell_type": "code",
      "source": [
        "membros = ['xXGeraldoXxLD', 'OsvaldoHunter', 'RichardGaviao', 'SilenceLD', 'Apocalyptico', 'LeeroyLD', 'Wakanda']\n",
        "\n",
        "# Resolva em UMA linha\n",
        "lst_atualizada = list( map( lambda x: x + 'G', filter( lambda y: y[-2:] == 'LD', membros ) ) )\n",
        "print(lst_atualizada)"
      ],
      "metadata": {
        "id": "z47_S-QCrIow",
        "colab": {
          "base_uri": "https://localhost:8080/"
        },
        "outputId": "21478f68-bd35-4968-c90e-ad4b00bc1347"
      },
      "execution_count": null,
      "outputs": [
        {
          "output_type": "stream",
          "name": "stdout",
          "text": [
            "['xXGeraldoXxLDG', 'SilenceLDG', 'LeeroyLDG']\n"
          ]
        }
      ]
    },
    {
      "cell_type": "markdown",
      "source": [
        "## Trabalhando com arquivos"
      ],
      "metadata": {
        "id": "wO2Y9MhJu3OW"
      }
    },
    {
      "cell_type": "markdown",
      "source": [
        "Criando um arquivo mágico para efeitos didáticos no Google Colab: <br>\n",
        "Tudo que for escrito após o comando `%%writefile (nome do arquivo)` será salvo em um arquivo criado no notebook (ver aba \"arquivos\" à esquerda).\n"
      ],
      "metadata": {
        "id": "8k36S_1NyrjI"
      }
    },
    {
      "cell_type": "code",
      "source": [
        "%%writefile arquivo1.txt\n",
        "Olá, meu nome é Geraldo\n",
        "e tenho 30 anos"
      ],
      "metadata": {
        "id": "ib32w3sky2Pt",
        "colab": {
          "base_uri": "https://localhost:8080/"
        },
        "outputId": "f7dd6c2d-b46b-4777-b184-73aa518d50de"
      },
      "execution_count": null,
      "outputs": [
        {
          "output_type": "stream",
          "name": "stdout",
          "text": [
            "Writing arquivo1.txt\n"
          ]
        }
      ]
    },
    {
      "cell_type": "markdown",
      "source": [
        "**Abertura** <Br>\n",
        "Ao tratarmos da abertura do arquivo, deveremos passar o parâmetro de permissão de abertura, sendo eles:\n",
        "\n",
        "- r: read (leitura)\n",
        "- w: write (escrita)\n",
        "- r+: leitura e escrita\n",
        "- a: faz um append à um arquivo existente\n",
        "\n",
        "Fazemos isso, por exemplo, para que não tenhamos o risco de alterar um arquivo ou darmos permissão para alguém alterar sem consentimento. "
      ],
      "metadata": {
        "id": "YaXBAhTxzVhQ"
      }
    },
    {
      "cell_type": "code",
      "source": [
        "# LENDO o arquivo criado com open()\n",
        "\n",
        "f = open( 'arquivo1.txt', 'r' )\n",
        "\n",
        "lines = f.readlines()\n",
        "\n",
        "print(lines)"
      ],
      "metadata": {
        "id": "zoGhWw1E0A8X",
        "colab": {
          "base_uri": "https://localhost:8080/"
        },
        "outputId": "f5b284bf-fcc7-472d-d549-8536f8f096b9"
      },
      "execution_count": null,
      "outputs": [
        {
          "output_type": "stream",
          "name": "stdout",
          "text": [
            "['Olá, meu nome é Geraldo\\n', 'e tenho 30 anos\\n']\n"
          ]
        }
      ]
    },
    {
      "cell_type": "markdown",
      "source": [
        "Outros comandos úteis além do readlines()\n",
        "- readline(): lê uma linha específica\n",
        "- read(): Lê N bytes do arquivo"
      ],
      "metadata": {
        "id": "j70Lybjv02JL"
      }
    },
    {
      "cell_type": "code",
      "source": [
        "# Utilizando a forma mais comum de leitura em Python com o comando \"with\"\n",
        "\n",
        "with open( 'arquivo1.txt', 'r' ) as f: # \"com\" o arquivo que abri, apelidado de 'f', faça tal coisa\n",
        "  print( f.readlines() )"
      ],
      "metadata": {
        "id": "PhmoF1Nv1HMM",
        "colab": {
          "base_uri": "https://localhost:8080/"
        },
        "outputId": "e9f05265-263a-49e8-d5f0-45597b0d1ab8"
      },
      "execution_count": null,
      "outputs": [
        {
          "output_type": "stream",
          "name": "stdout",
          "text": [
            "['Olá, meu nome é Geraldo\\n', 'e tenho 30 anos\\n']\n"
          ]
        }
      ]
    },
    {
      "cell_type": "markdown",
      "source": [
        "**Escrita**"
      ],
      "metadata": {
        "id": "Cpdilp5_1uiO"
      }
    },
    {
      "cell_type": "code",
      "source": [
        "# ESCREVENDO a lista em um novo arquivo (repare no diretório após rodar o código)\n",
        "\n",
        "lst_palavras = ['amora ', 'abacate ', 'limao ']\n",
        "\n",
        "with open( 'arquivo2.txt', 'w' ) as f:\n",
        "  f.writelines( lst_palavras )"
      ],
      "metadata": {
        "id": "8XTnSlwt15Up"
      },
      "execution_count": null,
      "outputs": []
    },
    {
      "cell_type": "code",
      "source": [
        "with open( 'arquivo2.txt', 'r' ) as f:\n",
        "  print( f.readlines() )"
      ],
      "metadata": {
        "colab": {
          "base_uri": "https://localhost:8080/"
        },
        "id": "Oo05LQlrjSDc",
        "outputId": "c4b6bdc6-eee4-49d9-f95d-32cd47ae8597"
      },
      "execution_count": null,
      "outputs": [
        {
          "output_type": "stream",
          "name": "stdout",
          "text": [
            "['amora abacate limao ']\n"
          ]
        }
      ]
    },
    {
      "cell_type": "code",
      "source": [
        "# Colocando uma nova fruta no arquivo anterior utilizando o f.write('mensagem') e parâmetro 'a'\n",
        "\n",
        "with open( 'arquivo2.txt', 'a' ) as f:\n",
        "  f.write( 'abacaxi' )\n",
        "\n",
        "with open( 'arquivo2.txt', 'r' ) as f:\n",
        "  print ( f.readlines() )"
      ],
      "metadata": {
        "id": "c_Gf9rYl1wQy",
        "colab": {
          "base_uri": "https://localhost:8080/"
        },
        "outputId": "68f85a1a-0580-4ae4-ca20-d1b3627639eb"
      },
      "execution_count": null,
      "outputs": [
        {
          "output_type": "stream",
          "name": "stdout",
          "text": [
            "['amora abacate limao abacaxi']\n"
          ]
        }
      ]
    },
    {
      "cell_type": "markdown",
      "source": [
        "## Classes e objetos"
      ],
      "metadata": {
        "id": "TTFV7EaGu7Yl"
      }
    },
    {
      "cell_type": "markdown",
      "source": [
        "Um objeto conterá informações salvas nos **atributos** e poderá ser manifestado através de **funções**\n",
        "\n",
        "Resumo de classe:\n",
        "- é uma representação do mundo real, ou seja, um protótipo\n",
        "- uma boa prática é declará-la com a primeira letra em maiúsculo seguindo o estilo CamelCase\n",
        "- criada através do comando `class`\n",
        "- pode **herdar** características de uma outra superclasse\n",
        "\n",
        "Declarando uma classe:\n",
        "```python\n",
        "class Aluno():\n",
        "  # atributos\n",
        "  # construtores\n",
        "  # métodos\n",
        "```\n",
        "Onde:<br>\n",
        "Atributos:\n",
        "- Representa as características da classe\n",
        "- Caso seja um atributo de classe, funciona como uma variável no escopo de outras instâncias da classe\n",
        "- Caso seja um atributo de uma instância, funciona como uma variável local para a instância que o criou\n",
        "\n",
        "Métodos:\n",
        "- Representa o comportamento de uma classe\n",
        "\n",
        "Construtor da classe:\n",
        "- Utiliza-se o método `__init__`<br>\n",
        "Ex. <br>\n",
        "```python\n",
        "class Aluno:\n",
        "    def __init__(self, nome, sexo, idade, curso):  #self é obrigatório para se distinguir um método de classe\n",
        "        self.nome = nome\n",
        "        self.sexo = sexo\n",
        "        self.idade = idade\n",
        "        self.curso = curso\n",
        "```\n",
        "\n"
      ],
      "metadata": {
        "id": "cdbtaeV6nkvV"
      }
    },
    {
      "cell_type": "markdown",
      "source": [
        "Uma classe 'carro' pode gerar diversos objetos 'veículos' diferentes\n",
        "\n",
        "<img href=\"https://www.alura.com.br/artigos/assets/poo-programacao-orientada-a-objetos/class-analogy.png\" src=\"https://www.alura.com.br/artigos/assets/poo-programacao-orientada-a-objetos/class-analogy.png\" width=50%>\n",
        "\n",
        "*fonte-img: https://www.alura.com.br/artigos/assets/poo-programacao-orientada-a-objetos/class-analogy.png*"
      ],
      "metadata": {
        "id": "rck4is3ZQ0X9"
      }
    },
    {
      "cell_type": "code",
      "source": [
        "# Criando a class Aluno na prática\n",
        "\n",
        "class Aluno:\n",
        "  def __init__(self, nome, sexo, idade, curso):\n",
        "      self.nome = nome\n",
        "      self.sexo = sexo\n",
        "      self.idade = idade\n",
        "      self.curso = curso\n",
        "  \n",
        "  def altera_idade(self, idade):\n",
        "    self.idade = idade\n",
        "    print('Idade alterada!')\n",
        "\n",
        "  def __str__(self):\n",
        "    return('Nome: '+str(self.nome)+'\\n'\n",
        "           'Sexo: '+str(self.sexo)+'\\n'\n",
        "           'Idade: '+str(self.idade)+'\\n'\n",
        "           'Curso: '+str(self.curso))\n",
        "\n",
        "if __name__ == \"__main__\":                          # verifica se o programa está sendo executado por si só, ref. extra: https://www.alura.com.br/artigos/o-que-significa-if-name-main-no-python\n",
        "    aluno1 = Aluno(\"Geraldo\", \"Masculino\", \"31\", \"Computação\")\n",
        "    aluno1.altera_idade(32)\n",
        "\n",
        "print(aluno1)"
      ],
      "metadata": {
        "id": "-jSVe5ivnnRq",
        "colab": {
          "base_uri": "https://localhost:8080/"
        },
        "outputId": "0232929f-c3ad-4be5-e185-01ff039c44e4"
      },
      "execution_count": null,
      "outputs": [
        {
          "output_type": "stream",
          "name": "stdout",
          "text": [
            "Idade alterada!\n",
            "Nome: Geraldo\n",
            "Sexo: Masculino\n",
            "Idade: 32\n",
            "Curso: Computação\n"
          ]
        }
      ]
    },
    {
      "cell_type": "markdown",
      "source": [
        "Lembrando que esta foi uma abordagem rápida sobre orientação a objetos por não ser o escopo da semana de seminários. <br>\n",
        "Recomendo a leitura sobre escopos Public, Private e Protected para melhorar a segurança do código.\n",
        "\n",
        "leitura extra: https://www.treinaweb.com.br/blog/orientacao-a-objetos-em-python"
      ],
      "metadata": {
        "id": "z9Yi_IHknodS"
      }
    },
    {
      "cell_type": "markdown",
      "source": [
        "# PARTE 02"
      ],
      "metadata": {
        "id": "G8-oINOzp3py"
      }
    },
    {
      "cell_type": "markdown",
      "source": [
        "## **Numpy**"
      ],
      "metadata": {
        "id": "INKYBYPFqFNO"
      }
    },
    {
      "cell_type": "markdown",
      "source": [
        "Numpy é um importante pacote da linguagem Python para operações matriciais onde as classes são escritas em sua maior em **LINGUAGEM C**, garantindo um processamento mais rápido. ✅\n",
        "\n",
        "Curiosidade: O nome Numpy vem de \"Python Numérico\" e é amplamente utilizado pela comunidade para se trabalhar com arrays, podendo aplicar funções matemáticas sem a necessidade de laços e até mesmo aplicar funções como transformadas de Fourier!\n",
        "\n",
        "Site de consulta numpy: https://numpy.org/"
      ],
      "metadata": {
        "id": "CEwjLW6DqG75"
      }
    },
    {
      "cell_type": "code",
      "source": [
        "# Realizando a importação do pacote numpy\n",
        "import numpy as np"
      ],
      "metadata": {
        "id": "AJD9uU7Xqjdp"
      },
      "execution_count": null,
      "outputs": []
    },
    {
      "cell_type": "markdown",
      "source": [
        "Um dos motivos de sua eficiência é que sua estrutura de dados se baseia em **arrays**.\n",
        "\n",
        "O que são arrays?\n",
        "- Semelhante a sequência de lista, porém de tipo único (apenas int ou float para todos os elementos)\n",
        "- Cada dimensão é chamada de eixo\n",
        "  - Um array com 1 linha e 2 colunas possui as dimensões linha e coluna.\n",
        "  - Um array multidimensional poderia apresentar um eixo Z (...)\n",
        "  - Arrays são estruturas que são armazenas com indexação, ou seja, podemos encontrar o dados através de um index (código)"
      ],
      "metadata": {
        "id": "3-2U0WSnq6oT"
      }
    },
    {
      "cell_type": "code",
      "source": [
        "# Criando arrays através dos métodos numpy\n",
        "\n",
        "# Método 1: np.zeros((quantidade))\n",
        "array1 = np.zeros((10))\n",
        "print(array1)\n",
        "\n",
        "# Método 2: np.ones((quantidade))\n",
        "array2 = np.ones((10))\n",
        "print(array2)\n",
        "\n",
        "# Método 3: np.linspace(inicio, fim, intervalo)\n",
        "array3 = np.linspace(1, 21, 5)\n",
        "print(array3)\n",
        "\n",
        "# Método 4: np.arange(quantidade)\n",
        "array4 = np.arange(15)\n",
        "print(array4)"
      ],
      "metadata": {
        "id": "p7sveCxWr12h",
        "colab": {
          "base_uri": "https://localhost:8080/"
        },
        "outputId": "5fc4373b-5973-489f-8220-8932e203009d"
      },
      "execution_count": null,
      "outputs": [
        {
          "output_type": "stream",
          "name": "stdout",
          "text": [
            "[0. 0. 0. 0. 0. 0. 0. 0. 0. 0.]\n",
            "[1. 1. 1. 1. 1. 1. 1. 1. 1. 1.]\n",
            "[ 1.  6. 11. 16. 21.]\n",
            "[ 0  1  2  3  4  5  6  7  8  9 10 11 12 13 14]\n"
          ]
        }
      ]
    },
    {
      "cell_type": "code",
      "source": [
        "# Convertendo uma lista para um numpy array com o np.array(lista)\n",
        "\n",
        "lst_auxiliar = [1,2,3,4,5]\n",
        "\n",
        "print(f'Antes: { type(lst_auxiliar) }')\n",
        "\n",
        "lst_numpy = np.array( lst_auxiliar )\n",
        "\n",
        "print(f'Depois: { type(lst_numpy) }')"
      ],
      "metadata": {
        "id": "spPQ5D7lsvGl",
        "colab": {
          "base_uri": "https://localhost:8080/"
        },
        "outputId": "aa8850a5-9f2f-410b-e420-9137be95da5c"
      },
      "execution_count": null,
      "outputs": [
        {
          "output_type": "stream",
          "name": "stdout",
          "text": [
            "Antes: <class 'list'>\n",
            "Depois: <class 'numpy.ndarray'>\n"
          ]
        }
      ]
    },
    {
      "cell_type": "code",
      "source": [
        "# Transformando uma lista em numpy pelo range()\n",
        "\n",
        "np.array( range(1,10,2) )  # lista de 1 a 9 pulando de 2 em 2"
      ],
      "metadata": {
        "id": "sPlItoEmyggJ",
        "colab": {
          "base_uri": "https://localhost:8080/"
        },
        "outputId": "ed931527-2b91-46c9-e569-22dec79e5820"
      },
      "execution_count": null,
      "outputs": [
        {
          "output_type": "execute_result",
          "data": {
            "text/plain": [
              "array([1, 3, 5, 7, 9])"
            ]
          },
          "metadata": {},
          "execution_count": 41
        }
      ]
    },
    {
      "cell_type": "code",
      "source": [
        "# Arrays bidimensionais (mais usado)\n",
        "\n",
        "arr_zeros = np.zeros((5,4)) # matriz 5 (linhas) por 4 (colunas)\n",
        "arr_zeros"
      ],
      "metadata": {
        "id": "c_y0l2IhtFKE",
        "colab": {
          "base_uri": "https://localhost:8080/"
        },
        "outputId": "410bd6ef-73f8-4cfd-cb96-27d878d4ff74"
      },
      "execution_count": null,
      "outputs": [
        {
          "output_type": "execute_result",
          "data": {
            "text/plain": [
              "array([[0., 0., 0., 0.],\n",
              "       [0., 0., 0., 0.],\n",
              "       [0., 0., 0., 0.],\n",
              "       [0., 0., 0., 0.],\n",
              "       [0., 0., 0., 0.]])"
            ]
          },
          "metadata": {},
          "execution_count": 42
        }
      ]
    },
    {
      "cell_type": "code",
      "source": [
        "# Criando um array bidimensional utilizando o np.arange().reshape(())\n",
        "\n",
        "arr_aux = np.arange(20).reshape(5,4)\n",
        "arr_aux"
      ],
      "metadata": {
        "id": "1xp8PQ6ftddf",
        "colab": {
          "base_uri": "https://localhost:8080/"
        },
        "outputId": "7214aa2a-9f67-406f-d57f-e5acfcf36e7e"
      },
      "execution_count": null,
      "outputs": [
        {
          "output_type": "execute_result",
          "data": {
            "text/plain": [
              "array([[ 0,  1,  2,  3],\n",
              "       [ 4,  5,  6,  7],\n",
              "       [ 8,  9, 10, 11],\n",
              "       [12, 13, 14, 15],\n",
              "       [16, 17, 18, 19]])"
            ]
          },
          "metadata": {},
          "execution_count": 43
        }
      ]
    },
    {
      "cell_type": "markdown",
      "source": [
        "Podemos utilizar alguns métodos para realizar consultas no array, como os que se encontram em: https://numpy.org/doc/stable/reference/generated/numpy.ndarray.html"
      ],
      "metadata": {
        "id": "7vU_2d05uMw3"
      }
    },
    {
      "cell_type": "code",
      "source": [
        "# Ex. procurando quantas dimensões tem o array com nome_array.ndim\n",
        "\n",
        "arr_zeros = np.zeros((5,4))\n",
        "\n",
        "arr_zeros.ndim\n",
        "\n",
        " # ndim = 'number of dimensions'"
      ],
      "metadata": {
        "id": "_fFkOmint4ow",
        "colab": {
          "base_uri": "https://localhost:8080/"
        },
        "outputId": "6bd34181-e451-4d36-a144-b33b257eaf8a"
      },
      "execution_count": null,
      "outputs": [
        {
          "output_type": "execute_result",
          "data": {
            "text/plain": [
              "2"
            ]
          },
          "metadata": {},
          "execution_count": 44
        }
      ]
    },
    {
      "cell_type": "code",
      "source": [
        "# Procurando o parâmetro .mean() no site do numpy\n",
        "# https://numpy.org/doc/stable/reference/generated/numpy.mean.html\n",
        "\n",
        "array_aux = np.arange(10)\n",
        "np.mean( array_aux )\n",
        "\n",
        "  # calculando a média do array"
      ],
      "metadata": {
        "id": "E-9GBN8MuyKq",
        "colab": {
          "base_uri": "https://localhost:8080/"
        },
        "outputId": "631909c8-502a-421c-bca7-57030054b5bd"
      },
      "execution_count": null,
      "outputs": [
        {
          "output_type": "execute_result",
          "data": {
            "text/plain": [
              "4.5"
            ]
          },
          "metadata": {},
          "execution_count": 45
        }
      ]
    },
    {
      "cell_type": "code",
      "source": [
        "# Acessando elementos de um array\n",
        "\n",
        "array_aux = np.arange(20).reshape(5,4)\n",
        "\n",
        "print('array')\n",
        "print(array_aux)\n",
        "print('-'*80)\n",
        "\n",
        "# Acessando a primeira linha pelo índice array[0]\n",
        "print('array[0]')\n",
        "print(array_aux[0])\n",
        "print('-'*80)\n",
        "\n",
        "# Acessando o elemento da linha 4 e coluna 3 com array[3,2]\n",
        "print('array[3,2]')\n",
        "print(array_aux[3,2])"
      ],
      "metadata": {
        "id": "iE4kMJESvJKr",
        "colab": {
          "base_uri": "https://localhost:8080/"
        },
        "outputId": "a5074ed2-01d2-4620-897b-14d4a9791210"
      },
      "execution_count": null,
      "outputs": [
        {
          "output_type": "stream",
          "name": "stdout",
          "text": [
            "array\n",
            "[[ 0  1  2  3]\n",
            " [ 4  5  6  7]\n",
            " [ 8  9 10 11]\n",
            " [12 13 14 15]\n",
            " [16 17 18 19]]\n",
            "--------------------------------------------------------------------------------\n",
            "array[0]\n",
            "[0 1 2 3]\n",
            "--------------------------------------------------------------------------------\n",
            "array[3,2]\n",
            "14\n"
          ]
        }
      ]
    },
    {
      "cell_type": "code",
      "source": [
        "# Percorrendo um array com o enumerate (\"enumera\" a iteração)\n",
        "# Extra: videoaula sobre enumerate (Hashtag Programação): https://www.youtube.com/watch?v=5IysC0Yjrrg&t=3s\n",
        "\n",
        "array_aux = np.arange(20).reshape(5,4)\n",
        "\n",
        "for linha, coluna in enumerate( array_aux ):\n",
        "  print(f'{linha+1}ª linha; Colunas: {coluna}')"
      ],
      "metadata": {
        "id": "cVh53Hu4yi3o",
        "colab": {
          "base_uri": "https://localhost:8080/"
        },
        "outputId": "a70b585b-49f1-40ab-ef65-dc4e516353f3"
      },
      "execution_count": null,
      "outputs": [
        {
          "output_type": "stream",
          "name": "stdout",
          "text": [
            "1ª linha; Colunas: [0 1 2 3]\n",
            "2ª linha; Colunas: [4 5 6 7]\n",
            "3ª linha; Colunas: [ 8  9 10 11]\n",
            "4ª linha; Colunas: [12 13 14 15]\n",
            "5ª linha; Colunas: [16 17 18 19]\n"
          ]
        }
      ]
    },
    {
      "cell_type": "code",
      "source": [
        "# Laço aninhado para percorrer linha e coluna e retornar o elemento\n",
        "\n",
        "array_aux = np.random.randint(0, 10, 20, int).reshape(5,4)\n",
        "\n",
        "for linha, coluna in enumerate( array_aux ):\n",
        "  for indice_coluna, valor in enumerate(coluna):\n",
        "    print(f'Posição [{linha}; {indice_coluna}], valor = {valor}')"
      ],
      "metadata": {
        "id": "gy1LK7tg0Q7B",
        "colab": {
          "base_uri": "https://localhost:8080/"
        },
        "outputId": "167c833f-4502-45a4-f0df-ee4dff265e52"
      },
      "execution_count": null,
      "outputs": [
        {
          "output_type": "stream",
          "name": "stdout",
          "text": [
            "Posição [0; 0], valor = 4\n",
            "Posição [0; 1], valor = 3\n",
            "Posição [0; 2], valor = 5\n",
            "Posição [0; 3], valor = 2\n",
            "Posição [1; 0], valor = 0\n",
            "Posição [1; 1], valor = 2\n",
            "Posição [1; 2], valor = 7\n",
            "Posição [1; 3], valor = 7\n",
            "Posição [2; 0], valor = 4\n",
            "Posição [2; 1], valor = 1\n",
            "Posição [2; 2], valor = 5\n",
            "Posição [2; 3], valor = 3\n",
            "Posição [3; 0], valor = 3\n",
            "Posição [3; 1], valor = 1\n",
            "Posição [3; 2], valor = 5\n",
            "Posição [3; 3], valor = 7\n",
            "Posição [4; 0], valor = 4\n",
            "Posição [4; 1], valor = 5\n",
            "Posição [4; 2], valor = 9\n",
            "Posição [4; 3], valor = 8\n"
          ]
        }
      ]
    },
    {
      "cell_type": "code",
      "source": [
        "# Deixando um array flat com array.flat\n",
        "\n",
        "array_aux = np.ones((3,4))\n",
        "\n",
        "print(f'Array antes do flat:\\n {array_aux}')\n",
        "print('-'*40)\n",
        "print(f'Array depois do flat: {array_aux.flat}')\n",
        "\n",
        "# Precisamos transformar o array.flat em uma lista para entender o que aconteceu\n",
        "list(array_aux.flat)"
      ],
      "metadata": {
        "id": "nbUPTqTm2C6c",
        "colab": {
          "base_uri": "https://localhost:8080/"
        },
        "outputId": "400a25b3-1bf9-48a1-afb9-3d48da528c0b"
      },
      "execution_count": null,
      "outputs": [
        {
          "output_type": "stream",
          "name": "stdout",
          "text": [
            "Array antes do flat:\n",
            " [[1. 1. 1. 1.]\n",
            " [1. 1. 1. 1.]\n",
            " [1. 1. 1. 1.]]\n",
            "----------------------------------------\n",
            "Array depois do flat: <numpy.flatiter object at 0x53d4d00>\n"
          ]
        },
        {
          "output_type": "execute_result",
          "data": {
            "text/plain": [
              "[1.0, 1.0, 1.0, 1.0, 1.0, 1.0, 1.0, 1.0, 1.0, 1.0, 1.0, 1.0]"
            ]
          },
          "metadata": {},
          "execution_count": 59
        }
      ]
    },
    {
      "cell_type": "markdown",
      "source": [
        "Percorrendo arrays criando **VIEWS** com **slicing**\n",
        "- Melhor eficiência do que o laço for ✅\n",
        "- Semelhante às sequências\n",
        "- Utilizamos uma vírgula para separar as dimensões\n",
        "  - ex. Em um array de 2 dimensões com 3 linhas e 4 colunas:\n",
        "  - `nome_array[:,:]` (lendo tudo)\n",
        "  - `nome_array[0:2,0:3]` (lendo as 3 primeiras linhas e 4 primeiras colunas)"
      ],
      "metadata": {
        "id": "w2UtG8oE3DSM"
      }
    },
    {
      "cell_type": "code",
      "source": [
        "# Criando um array qualquer\n",
        "\n",
        "array_aux = np.random.randint(0,5,20,int).reshape(4,5)\n",
        "array_aux"
      ],
      "metadata": {
        "id": "evgcUCqC3gdo",
        "colab": {
          "base_uri": "https://localhost:8080/"
        },
        "outputId": "008f83ec-c50d-4036-e5ef-5b6bd59718f2"
      },
      "execution_count": null,
      "outputs": [
        {
          "output_type": "execute_result",
          "data": {
            "text/plain": [
              "array([[4, 0, 1, 4, 0],\n",
              "       [2, 4, 0, 1, 0],\n",
              "       [0, 2, 2, 3, 4],\n",
              "       [3, 1, 1, 3, 3]])"
            ]
          },
          "metadata": {},
          "execution_count": 60
        }
      ]
    },
    {
      "cell_type": "code",
      "source": [
        "# Percorrendo as linhas com array[linha,:]\n",
        "# Repare que se não for passado o argumento ':' ele pegará a linha toda\n",
        "\n",
        "# Buscando a terceira linha\n",
        "array_aux[2,:]"
      ],
      "metadata": {
        "id": "Q3FJnHtK4ON8",
        "colab": {
          "base_uri": "https://localhost:8080/"
        },
        "outputId": "fe996a21-cf32-4570-8803-b44f3eddb967"
      },
      "execution_count": null,
      "outputs": [
        {
          "output_type": "execute_result",
          "data": {
            "text/plain": [
              "array([0, 2, 2, 3, 4])"
            ]
          },
          "metadata": {},
          "execution_count": 65
        }
      ]
    },
    {
      "cell_type": "code",
      "source": [
        "# Percorrendo as linhas com array[:,coluna]\n",
        "# Repare que se não for passado o argumento ':' ele pegará a coluna toda\n",
        "\n",
        "# Buscando a quinta coluna\n",
        "array_aux[:,4]"
      ],
      "metadata": {
        "id": "lMtgGOEv4hBY",
        "colab": {
          "base_uri": "https://localhost:8080/"
        },
        "outputId": "4468bf40-d965-442f-ad6b-3274b81366d9"
      },
      "execution_count": null,
      "outputs": [
        {
          "output_type": "execute_result",
          "data": {
            "text/plain": [
              "array([0, 0, 4, 3])"
            ]
          },
          "metadata": {},
          "execution_count": 66
        }
      ]
    },
    {
      "cell_type": "code",
      "source": [
        "# Escolhendo a partir de qual linha começar e quais colunas pegar\n",
        "\n",
        "# Começando da linha 3 e pegando as 2 últimas colunas\n",
        "array_aux[2:,-2:]"
      ],
      "metadata": {
        "id": "jDy9ulMR4y-A",
        "colab": {
          "base_uri": "https://localhost:8080/"
        },
        "outputId": "3043aa25-ae42-4c97-d302-92c7be4df074"
      },
      "execution_count": null,
      "outputs": [
        {
          "output_type": "execute_result",
          "data": {
            "text/plain": [
              "array([[3, 4],\n",
              "       [3, 3]])"
            ]
          },
          "metadata": {},
          "execution_count": 67
        }
      ]
    },
    {
      "cell_type": "code",
      "source": [
        "# Recuperando as colunas 1, 3 e 4 a partir da segunda linha\n",
        "array_aux[1:,[1,3,4]]"
      ],
      "metadata": {
        "id": "oiEtuNGJ5ZwE",
        "colab": {
          "base_uri": "https://localhost:8080/"
        },
        "outputId": "49db2319-49a2-4a09-efc9-4cf279f5ec66"
      },
      "execution_count": null,
      "outputs": [
        {
          "output_type": "execute_result",
          "data": {
            "text/plain": [
              "array([[4, 1, 0],\n",
              "       [2, 3, 4],\n",
              "       [1, 3, 3]])"
            ]
          },
          "metadata": {},
          "execution_count": 68
        }
      ]
    },
    {
      "cell_type": "code",
      "source": [
        "# Porém... se passarmos 2 listas com array[ [lista_linhas], [lista_colunas] ] ... recuperamos 2 elementos que dão match com a coordenada\n",
        "\n",
        "array_aux[ [1,2], [2,3] ]"
      ],
      "metadata": {
        "id": "7CHnrxyj5ywN",
        "colab": {
          "base_uri": "https://localhost:8080/"
        },
        "outputId": "3b4e0fe9-ccfd-46ee-913b-0323c2698533"
      },
      "execution_count": null,
      "outputs": [
        {
          "output_type": "execute_result",
          "data": {
            "text/plain": [
              "array([0, 3])"
            ]
          },
          "metadata": {},
          "execution_count": 69
        }
      ]
    },
    {
      "cell_type": "markdown",
      "source": [
        "**Exercícios de fixação**"
      ],
      "metadata": {
        "id": "ojMZYABf5UNK"
      }
    },
    {
      "cell_type": "markdown",
      "source": [
        "Dado o array a seguir, faça o que se pede"
      ],
      "metadata": {
        "id": "RUGGtJx-6Mon"
      }
    },
    {
      "cell_type": "code",
      "source": [
        "# Array dado\n",
        "\n",
        "array_aux = np.random.randint(0,5,20,int).reshape(4,5)\n",
        "array_aux"
      ],
      "metadata": {
        "id": "njfHnrk-8wmW",
        "colab": {
          "base_uri": "https://localhost:8080/"
        },
        "outputId": "5d84272b-d660-41b2-c88a-8868d6806699"
      },
      "execution_count": null,
      "outputs": [
        {
          "output_type": "execute_result",
          "data": {
            "text/plain": [
              "array([[3, 1, 0, 3, 1],\n",
              "       [1, 4, 4, 0, 3],\n",
              "       [0, 2, 4, 1, 3],\n",
              "       [0, 1, 0, 4, 2]])"
            ]
          },
          "metadata": {},
          "execution_count": 70
        }
      ]
    },
    {
      "cell_type": "code",
      "source": [
        "# Retorne as colunas 1, 3 e 4\n",
        "array_aux[ :, [0,2,3] ]"
      ],
      "metadata": {
        "id": "0fi8VX_S8Uwp",
        "colab": {
          "base_uri": "https://localhost:8080/"
        },
        "outputId": "6777f3c5-5ca3-40c8-a440-a77793b71642"
      },
      "execution_count": null,
      "outputs": [
        {
          "output_type": "execute_result",
          "data": {
            "text/plain": [
              "array([[3, 0, 3],\n",
              "       [1, 4, 0],\n",
              "       [0, 4, 1],\n",
              "       [0, 0, 4]])"
            ]
          },
          "metadata": {},
          "execution_count": 71
        }
      ]
    },
    {
      "cell_type": "code",
      "source": [
        "# Retorne as linhas 3 e 4\n",
        "array_aux[ [2,3], : ]"
      ],
      "metadata": {
        "id": "lR3-uICa875M",
        "colab": {
          "base_uri": "https://localhost:8080/"
        },
        "outputId": "6e408e47-269b-4c88-8503-1ec61f35207d"
      },
      "execution_count": null,
      "outputs": [
        {
          "output_type": "execute_result",
          "data": {
            "text/plain": [
              "array([[0, 2, 4, 1, 3],\n",
              "       [0, 1, 0, 4, 2]])"
            ]
          },
          "metadata": {},
          "execution_count": 72
        }
      ]
    },
    {
      "cell_type": "code",
      "source": [
        "# Retorne a partir da coluna 3 e a partir da linha 2\n",
        "array_aux[ 1:, 2: ]"
      ],
      "metadata": {
        "id": "2jb1HpOL8-Yt",
        "colab": {
          "base_uri": "https://localhost:8080/"
        },
        "outputId": "fd8991cf-1862-4036-9478-f67cc32ee37b"
      },
      "execution_count": null,
      "outputs": [
        {
          "output_type": "execute_result",
          "data": {
            "text/plain": [
              "array([[4, 0, 3],\n",
              "       [4, 1, 3],\n",
              "       [0, 4, 2]])"
            ]
          },
          "metadata": {},
          "execution_count": 73
        }
      ]
    },
    {
      "cell_type": "code",
      "source": [
        "# Retorne a primeira e última linha das 2 últimas colunas\n",
        "print( array_aux[ [0,3], -2: ] )\n",
        "print( array_aux[ [0,-1], -2: ] )"
      ],
      "metadata": {
        "id": "6tWinL3N9H4V",
        "colab": {
          "base_uri": "https://localhost:8080/"
        },
        "outputId": "8c9eb1ab-de99-4c4b-85c5-53b67891df40"
      },
      "execution_count": null,
      "outputs": [
        {
          "output_type": "stream",
          "name": "stdout",
          "text": [
            "[[3 1]\n",
            " [4 2]]\n",
            "[[3 1]\n",
            " [4 2]]\n"
          ]
        }
      ]
    },
    {
      "cell_type": "code",
      "source": [
        "# Retorne o elemento da primeira linha e primeira coluna e o elemento da segunda linha e quarta coluna\n",
        "array_aux[ [0,1], [0,3] ]"
      ],
      "metadata": {
        "id": "yxPSJR0I9UF2",
        "colab": {
          "base_uri": "https://localhost:8080/"
        },
        "outputId": "fb3587e0-6ba8-453b-f331-a1ed2d17816d"
      },
      "execution_count": null,
      "outputs": [
        {
          "output_type": "execute_result",
          "data": {
            "text/plain": [
              "array([3, 0])"
            ]
          },
          "metadata": {},
          "execution_count": 78
        }
      ]
    },
    {
      "cell_type": "code",
      "source": [
        "import numpy as np"
      ],
      "metadata": {
        "id": "VIFG2xdQfCHh"
      },
      "execution_count": null,
      "outputs": []
    },
    {
      "cell_type": "markdown",
      "source": [
        " Métodos Ravel e Flatten"
      ],
      "metadata": {
        "id": "lHf-EfIS9qlL"
      }
    },
    {
      "cell_type": "code",
      "source": [
        "# Utilizando o ravel para transformar um array bidimensional em um array unidimensional com o array.ravel()\n",
        "\n",
        "array_aux = np.arange(12).reshape(4,3)\n",
        "array_aux.ravel()"
      ],
      "metadata": {
        "id": "_vnmPSij9tL2",
        "colab": {
          "base_uri": "https://localhost:8080/"
        },
        "outputId": "17a8ba18-b256-4471-9c62-a26fba32dec4"
      },
      "execution_count": null,
      "outputs": [
        {
          "output_type": "execute_result",
          "data": {
            "text/plain": [
              "array([ 0,  1,  2,  3,  4,  5,  6,  7,  8,  9, 10, 11])"
            ]
          },
          "metadata": {},
          "execution_count": 5
        }
      ]
    },
    {
      "cell_type": "code",
      "source": [
        "# Utilizando o flatten para transformar um array bidimensional em um array unidimensional com o array.flatten()\n",
        "\n",
        "array_aux = np.arange(12).reshape(4,3)\n",
        "array_aux.flatten()"
      ],
      "metadata": {
        "id": "3TAKtgYR-PkW",
        "colab": {
          "base_uri": "https://localhost:8080/"
        },
        "outputId": "c138071f-ba7f-41fb-e3a1-01dee42fb83f"
      },
      "execution_count": null,
      "outputs": [
        {
          "output_type": "execute_result",
          "data": {
            "text/plain": [
              "array([ 0,  1,  2,  3,  4,  5,  6,  7,  8,  9, 10, 11])"
            ]
          },
          "metadata": {},
          "execution_count": 6
        }
      ]
    },
    {
      "cell_type": "markdown",
      "source": [
        "Qual a diferença então?\n",
        "- O método ravel cria uma VIEW! (altera o array original)\n",
        "- O método flatten cria uma cópia! (não altera o array original)"
      ],
      "metadata": {
        "id": "U9dm5m2g-oMG"
      }
    },
    {
      "cell_type": "code",
      "source": [
        "# Veriricando a VIEW com ravel()\n",
        "\n",
        "array_original = np.arange(12).reshape(4,3)\n",
        "\n",
        "print(f'Array original\\n: {array_original}')\n",
        "print('-'*40)\n",
        "\n",
        "array_ravel = array_original.ravel()\n",
        "\n",
        "print(f'Array ravel antes da alteração\\n: {array_ravel}')\n",
        "\n",
        "print('-'*40)\n",
        "\n",
        "# alterando um valor no array ravel\n",
        "array_ravel[0] = 555\n",
        "print(f'Array ravel depois da alteração\\n: {array_ravel}')\n",
        "\n",
        "print('-'*40)\n",
        "\n",
        "# verificando se o array ravel modificou o array original\n",
        "print(f'Array original\\n: {array_original}')"
      ],
      "metadata": {
        "id": "3Z4z-B-0-wN7",
        "colab": {
          "base_uri": "https://localhost:8080/"
        },
        "outputId": "561325d5-8a6f-47f3-8861-555378972a06"
      },
      "execution_count": null,
      "outputs": [
        {
          "output_type": "stream",
          "name": "stdout",
          "text": [
            "Array original\n",
            ": [[ 0  1  2]\n",
            " [ 3  4  5]\n",
            " [ 6  7  8]\n",
            " [ 9 10 11]]\n",
            "----------------------------------------\n",
            "Array ravel antes da alteração\n",
            ": [ 0  1  2  3  4  5  6  7  8  9 10 11]\n",
            "----------------------------------------\n",
            "Array ravel depois da alteração\n",
            ": [555   1   2   3   4   5   6   7   8   9  10  11]\n",
            "----------------------------------------\n",
            "Array original\n",
            ": [[555   1   2]\n",
            " [  3   4   5]\n",
            " [  6   7   8]\n",
            " [  9  10  11]]\n"
          ]
        }
      ]
    },
    {
      "cell_type": "code",
      "source": [
        "# Verificando a cópia com flatten()\n",
        "\n",
        "array_original = np.arange(12).reshape(4,3)\n",
        "print(f'Array original\\n: {array_original}')\n",
        "print('-'*40)\n",
        "\n",
        "array_flatten = array_original.flatten()\n",
        "\n",
        "print(f'Array flatten antes da alteração\\n: {array_flatten}')\n",
        "print('-'*40)\n",
        "\n",
        "# alterando um valor no array ravel\n",
        "array_flatten[0] = 888\n",
        "print(f'Array flatten depois da alteração\\n: {array_flatten}')\n",
        "print('-'*40)\n",
        "\n",
        "# verificando se o array ravel modificou o array original\n",
        "print(f'Array original\\n: {array_original}')"
      ],
      "metadata": {
        "id": "0nWU3G6c_uuo",
        "colab": {
          "base_uri": "https://localhost:8080/"
        },
        "outputId": "a50ef607-2ed3-4af5-8926-d33c3ac5c9b1"
      },
      "execution_count": null,
      "outputs": [
        {
          "output_type": "stream",
          "name": "stdout",
          "text": [
            "Array original\n",
            ": [[ 0  1  2]\n",
            " [ 3  4  5]\n",
            " [ 6  7  8]\n",
            " [ 9 10 11]]\n",
            "----------------------------------------\n",
            "Array flatten antes da alteração\n",
            ": [ 0  1  2  3  4  5  6  7  8  9 10 11]\n",
            "----------------------------------------\n",
            "Array flatten depois da alteração\n",
            ": [888   1   2   3   4   5   6   7   8   9  10  11]\n",
            "----------------------------------------\n",
            "Array original\n",
            ": [[ 0  1  2]\n",
            " [ 3  4  5]\n",
            " [ 6  7  8]\n",
            " [ 9 10 11]]\n"
          ]
        }
      ]
    },
    {
      "cell_type": "markdown",
      "source": [
        "Extra: Matriz transposta"
      ],
      "metadata": {
        "id": "CF-k0PWfAHsh"
      }
    },
    {
      "cell_type": "code",
      "source": [
        "# Dada a matriz a seguir\n",
        "matriz_aux = np.arange(15).reshape(3,5)\n",
        "print( matriz_aux )\n",
        "print('-'*80)\n",
        "\n",
        "# Sua transposta será dada por matriz.T\n",
        "transposta = matriz_aux.T\n",
        "print(transposta)"
      ],
      "metadata": {
        "id": "ttan5SFFAKIk",
        "colab": {
          "base_uri": "https://localhost:8080/"
        },
        "outputId": "1d2aefe2-5dd8-4f7e-a011-1a20aa8d287e"
      },
      "execution_count": null,
      "outputs": [
        {
          "output_type": "stream",
          "name": "stdout",
          "text": [
            "[[ 0  1  2  3  4]\n",
            " [ 5  6  7  8  9]\n",
            " [10 11 12 13 14]]\n",
            "--------------------------------------------------------------------------------\n",
            "[[ 0  5 10]\n",
            " [ 1  6 11]\n",
            " [ 2  7 12]\n",
            " [ 3  8 13]\n",
            " [ 4  9 14]]\n"
          ]
        }
      ]
    },
    {
      "cell_type": "markdown",
      "source": [
        "**Exercício**\n",
        "\n",
        "Dado o array a seguir, escreve um código que encontre a mediana de um array de TAMANHO ÍMPAR (sem usar funções prontas)\n",
        "\n",
        "Dica: use o método sorted() e len()"
      ],
      "metadata": {
        "id": "ECDE0G5OsYDB"
      }
    },
    {
      "cell_type": "code",
      "source": [
        "array_aux = np.random.randint(1,10, 15, int)\n",
        "print(array_aux)\n",
        "\n",
        "# Resolva\n",
        "\n",
        "tam_array = len( array_aux )\n",
        "pos_mediana = int( tam_array/2 )\n",
        "array_aux_sorted = sorted( array_aux )\n",
        "\n",
        "mediana = float( array_aux_sorted[ pos_mediana ] )\n",
        "\n",
        "print(f'Seu resultado da mediana foi de: {mediana:.2}')\n",
        "\n",
        "# Conferindo\n",
        "print('Mediana usando numpy: ', np.median(array_aux))"
      ],
      "metadata": {
        "id": "ZZmhZwQvssAJ",
        "colab": {
          "base_uri": "https://localhost:8080/"
        },
        "outputId": "4fecdd59-0d43-4c9a-af0e-bf0b11630d1b"
      },
      "execution_count": null,
      "outputs": [
        {
          "output_type": "stream",
          "name": "stdout",
          "text": [
            "[8 6 3 9 7 4 4 7 5 6 1 5 6 3 6]\n",
            "Seu resultado da mediana foi de: 6.0\n",
            "Mediana usando numpy:  6.0\n"
          ]
        }
      ]
    },
    {
      "cell_type": "code",
      "source": [
        "# Solução Raul\n",
        "sorted(array_aux)[int(len(array_aux)/2)]"
      ],
      "metadata": {
        "colab": {
          "base_uri": "https://localhost:8080/"
        },
        "id": "Gvj6vOHViCH7",
        "outputId": "1112dfd9-9ae5-4910-daa1-c416a335735b"
      },
      "execution_count": null,
      "outputs": [
        {
          "output_type": "execute_result",
          "data": {
            "text/plain": [
              "5"
            ]
          },
          "metadata": {},
          "execution_count": 17
        }
      ]
    },
    {
      "cell_type": "markdown",
      "source": [
        "Extra: procurando o erro no código pelo Google Colab usando alt+f8"
      ],
      "metadata": {
        "id": "ttX6rYH2qE8M"
      }
    },
    {
      "cell_type": "code",
      "source": [
        "# Procurando o erro no código (descomente para testar)\n",
        "\n",
        "# aux = [1,2,3,4,5]\n",
        "\n",
        "# aux.harmonic_mean()\n",
        "\n",
        "# print('Texto aleatorio')"
      ],
      "metadata": {
        "id": "3MT8uxRNqG6H",
        "colab": {
          "base_uri": "https://localhost:8080/",
          "height": 235
        },
        "outputId": "62ee1089-a327-4091-bd7d-d69f3d5587f5"
      },
      "execution_count": null,
      "outputs": [
        {
          "output_type": "error",
          "ename": "AttributeError",
          "evalue": "ignored",
          "traceback": [
            "\u001b[0;31m---------------------------------------------------------------------------\u001b[0m",
            "\u001b[0;31mAttributeError\u001b[0m                            Traceback (most recent call last)",
            "\u001b[0;32m<ipython-input-29-0424fc61be4b>\u001b[0m in \u001b[0;36m<module>\u001b[0;34m\u001b[0m\n\u001b[1;32m      3\u001b[0m \u001b[0maux\u001b[0m \u001b[0;34m=\u001b[0m \u001b[0;34m[\u001b[0m\u001b[0;36m1\u001b[0m\u001b[0;34m,\u001b[0m\u001b[0;36m2\u001b[0m\u001b[0;34m,\u001b[0m\u001b[0;36m3\u001b[0m\u001b[0;34m,\u001b[0m\u001b[0;36m4\u001b[0m\u001b[0;34m,\u001b[0m\u001b[0;36m5\u001b[0m\u001b[0;34m]\u001b[0m\u001b[0;34m\u001b[0m\u001b[0;34m\u001b[0m\u001b[0m\n\u001b[1;32m      4\u001b[0m \u001b[0;34m\u001b[0m\u001b[0m\n\u001b[0;32m----> 5\u001b[0;31m \u001b[0maux\u001b[0m\u001b[0;34m.\u001b[0m\u001b[0mharmonic_mean\u001b[0m\u001b[0;34m(\u001b[0m\u001b[0;34m)\u001b[0m\u001b[0;34m\u001b[0m\u001b[0;34m\u001b[0m\u001b[0m\n\u001b[0m\u001b[1;32m      6\u001b[0m \u001b[0;34m\u001b[0m\u001b[0m\n\u001b[1;32m      7\u001b[0m \u001b[0mprint\u001b[0m\u001b[0;34m(\u001b[0m\u001b[0;34m'Texto aleatorio'\u001b[0m\u001b[0;34m)\u001b[0m\u001b[0;34m\u001b[0m\u001b[0;34m\u001b[0m\u001b[0m\n",
            "\u001b[0;31mAttributeError\u001b[0m: 'list' object has no attribute 'harmonic_mean'"
          ]
        }
      ]
    },
    {
      "cell_type": "markdown",
      "source": [
        "## **Máscaras Booleanas**\n",
        "- Importante❗"
      ],
      "metadata": {
        "id": "WZBsbfpFleWn"
      }
    },
    {
      "cell_type": "code",
      "source": [
        "# 1º: Reforçando operações Booleanas\n",
        "\n",
        "A = 2\n",
        "B = 5\n",
        "C = 6\n",
        "\n",
        "# A é maior que B? Não\n",
        "print('A>B:', A>B)\n",
        "# A é menor que B? Sim\n",
        "print('A<B:', A<B)\n",
        "# A é menor que B e menor que C? Sim\n",
        "print('(A<B) & (A<C):', (A<B) & (A<C))\n",
        "# A é menor que B e maior que C? Não\n",
        "print('(A<B) & (A>C):', (A<B) & (A>C))\n",
        "# A é maior que B ou A é menor que C? Sim\n",
        "print('(A>B) | (A<C):', (A>B) | (A<C))\n",
        "# Outra forma é escrever 'e' como 'and' e 'ou' como 'or'  => Não recomendo\n",
        "print('(A>B) and (A<C):', (A>B) and (A<C))\n",
        "print('(A>B) or (A<C):', (A>B) or (A<C))"
      ],
      "metadata": {
        "id": "uEg7Gb55lwzf",
        "colab": {
          "base_uri": "https://localhost:8080/"
        },
        "outputId": "36c45b9f-93ce-4646-9f8b-5ebb9e4a091d"
      },
      "execution_count": null,
      "outputs": [
        {
          "output_type": "stream",
          "name": "stdout",
          "text": [
            "A>B: False\n",
            "A<B: True\n",
            "(A<B) & (A<C): True\n",
            "(A<B) & (A>C): False\n",
            "(A>B) | (A<C): True\n",
            "(A>B) and (A<C): False\n",
            "(A>B) or (A<C): True\n"
          ]
        }
      ]
    },
    {
      "cell_type": "code",
      "source": [
        "# Criando um array com valores de 0 a 50\n",
        "\n",
        "array_50 = np.arange(51)\n",
        "print('Array exemplo:\\n', array_50)\n",
        "print('-'*80)\n",
        "print('Resultado da transformação:\\n')\n",
        "\n",
        "# Vamos filtrar os valores multiplos de 5 com uma máscara!\n",
        "\n",
        "mask = ( array_50 % 5 == 0 )\n",
        "\n",
        "# Como uma condição acontece quando o valor é verdadeiro então vamos passar o valor com array[ mask ]\n",
        "\n",
        "array_50[ mask ]\n",
        "\n",
        "# Vamos trocar esses elementos múltiplos de 5 por 888 com array[ mask ] = 888\n",
        "\n",
        "array_50[ mask ] = 8888\n",
        "array_50"
      ],
      "metadata": {
        "id": "zlKQGoKxqJf1",
        "colab": {
          "base_uri": "https://localhost:8080/"
        },
        "outputId": "855d4043-fd0c-46ce-826c-0e7974718627"
      },
      "execution_count": null,
      "outputs": [
        {
          "output_type": "stream",
          "name": "stdout",
          "text": [
            "Array exemplo:\n",
            " [ 0  1  2  3  4  5  6  7  8  9 10 11 12 13 14 15 16 17 18 19 20 21 22 23\n",
            " 24 25 26 27 28 29 30 31 32 33 34 35 36 37 38 39 40 41 42 43 44 45 46 47\n",
            " 48 49 50]\n",
            "--------------------------------------------------------------------------------\n",
            "Resultado da transformação:\n",
            "\n"
          ]
        },
        {
          "output_type": "execute_result",
          "data": {
            "text/plain": [
              "array([8888,    1,    2,    3,    4, 8888,    6,    7,    8,    9, 8888,\n",
              "         11,   12,   13,   14, 8888,   16,   17,   18,   19, 8888,   21,\n",
              "         22,   23,   24, 8888,   26,   27,   28,   29, 8888,   31,   32,\n",
              "         33,   34, 8888,   36,   37,   38,   39, 8888,   41,   42,   43,\n",
              "         44, 8888,   46,   47,   48,   49, 8888])"
            ]
          },
          "metadata": {},
          "execution_count": 33
        }
      ]
    },
    {
      "cell_type": "markdown",
      "source": [
        "Exercício\n",
        "\n",
        "Em uma base de dado de alguns alunos há notas negativas. Mas ninguém consegue tirar uma nova negativa (certo?!). <br>\n",
        "Sendo assim, quando encontrar um valor negativo no array (unidimensional), altere o valor para que ele se torne positivo.\n",
        "\n",
        "Ex. de entrada:\n",
        "> 10, 5, -4, 10, 9 <br>\n",
        "\n",
        "Ex. de saída <br>\n",
        "> 10, 5, 4, 10, 9<br>\n",
        "\n",
        "<img src = \"https://conteudo.imguol.com.br/c/noticias/e6/2015/09/14/alunos-de-exatas-fazem-piada-com-a-rotina-de-estudos-nas-redes-sociais-1442243660716_300x300.jpg.webp\" width=30%>"
      ],
      "metadata": {
        "id": "1sD018JJw98u"
      }
    },
    {
      "cell_type": "code",
      "source": [
        "notas = np.array( [10, 5, 3, -3, 6, 8, 10, -6, 0] )\n",
        "\n",
        "# Resolva\n",
        "# Solução Raul\n",
        "mask = notas < 0\n",
        "notas[ mask ] = notas[ mask ] * -1\n",
        "\n",
        "notas"
      ],
      "metadata": {
        "id": "4J03J3NhyMsU",
        "colab": {
          "base_uri": "https://localhost:8080/"
        },
        "outputId": "4d80bcc6-033c-4b1f-a46b-61da9657e164"
      },
      "execution_count": null,
      "outputs": [
        {
          "output_type": "execute_result",
          "data": {
            "text/plain": [
              "array([10,  5,  3,  3,  6,  8, 10,  6,  0])"
            ]
          },
          "metadata": {},
          "execution_count": 37
        }
      ]
    },
    {
      "cell_type": "markdown",
      "source": [
        "## Desafio\n",
        "\n",
        "Escreva um código que recebe 2 parâmetros (2 colunas) e devolve uma nova matriz com as colunas invertidas.\n",
        "(Envie o resultado caso deseje uma correção)\n",
        "\n",
        "Por exemplo\n",
        "\n",
        "\n",
        "```\n",
        "matriz  =\n",
        "[1, 2, 3]\n",
        "[4, 5, 6]\n",
        "\n",
        "ao aplicarmos a função troca_coluna(0,2), temos o resultado:\n",
        "[3, 2, 1]\n",
        "[6, 5, 4]\n",
        "```\n",
        "\n"
      ],
      "metadata": {
        "id": "5udrip6R1LpR"
      }
    },
    {
      "cell_type": "markdown",
      "source": [
        "## **Broadcast**\n",
        "\n",
        "Um método para tentar aumentar a eficiência de cálculos de matrizes ao fazer uma \"transmissão\" do vetor de menor tamanho para o de maior tamanho. Com isso, conseguimos fazer soma entre dois arrays e outras operações aritméticas calculando elemento a elemento.\n",
        "\n",
        "Vamos tentar entender na prática ⏭\n"
      ],
      "metadata": {
        "id": "mm_xu2UA26BN"
      }
    },
    {
      "cell_type": "code",
      "source": [
        "# Como multiplicar um array por 2\n",
        "\n",
        "array_aux = np.arange(12).reshape(4,3)\n",
        "\n",
        "print('Array antes da multiplicação:\\n', array_aux)\n",
        "\n",
        "multiplicador = 2\n",
        "\n",
        "print('\\nArray após a multiplicação:\\n', array_aux * multiplicador)"
      ],
      "metadata": {
        "id": "t8UGm_db3bBx",
        "colab": {
          "base_uri": "https://localhost:8080/"
        },
        "outputId": "6df8a3a9-d18f-4ecc-8bae-6b06025f0bcb"
      },
      "execution_count": null,
      "outputs": [
        {
          "output_type": "stream",
          "name": "stdout",
          "text": [
            "Array antes da multiplicação:\n",
            " [[ 0  1  2]\n",
            " [ 3  4  5]\n",
            " [ 6  7  8]\n",
            " [ 9 10 11]]\n",
            "\n",
            "Array após a multiplicação:\n",
            " [[ 0  2  4]\n",
            " [ 6  8 10]\n",
            " [12 14 16]\n",
            " [18 20 22]]\n"
          ]
        }
      ]
    },
    {
      "cell_type": "markdown",
      "source": [
        "O que aconteceu?\n",
        "Replicamos o valor 2 para uma matriz de mesmo tamanho do array original e então multiplicamos elemento a elemento.\n",
        "\n",
        "<img src=\"https://www.astroml.org/_images/fig_broadcast_visual_1.png\" width =50%>\n",
        "\n",
        "*fonte: https://www.astroml.org/_images/fig_broadcast_visual_1.png*"
      ],
      "metadata": {
        "id": "IpddvO3Z4OS-"
      }
    },
    {
      "cell_type": "code",
      "source": [
        "# Forçando um broadcast NA LINHA para criar um novo array a partir de outro existente\n",
        "\n",
        "# 1º: Criamos o esqueleto\n",
        "esqueleto = np.ones((4,4))  # matriz de 1's de 4 linhas e 4 colunas\n",
        "print('Array \"esqueleto\":\\n ')\n",
        "print(esqueleto)\n",
        "print('-'*80)\n",
        "\n",
        "# 2º: Criamos o array ao qual faremos um broadcasting\n",
        "esqueleto[:] = np.array( [2,3,8,9] )\n",
        "print('Array após o broadcasting:\\n')\n",
        "print(esqueleto)"
      ],
      "metadata": {
        "id": "hAur4cJmF-0p",
        "colab": {
          "base_uri": "https://localhost:8080/"
        },
        "outputId": "bf07a974-952c-480c-9769-07555434e1ef"
      },
      "execution_count": null,
      "outputs": [
        {
          "output_type": "stream",
          "name": "stdout",
          "text": [
            "Array \"esqueleto\":\n",
            " \n",
            "[[1. 1. 1. 1.]\n",
            " [1. 1. 1. 1.]\n",
            " [1. 1. 1. 1.]\n",
            " [1. 1. 1. 1.]]\n",
            "--------------------------------------------------------------------------------\n",
            "Array após o broadcasting:\n",
            "\n",
            "[[2. 3. 8. 9.]\n",
            " [2. 3. 8. 9.]\n",
            " [2. 3. 8. 9.]\n",
            " [2. 3. 8. 9.]]\n"
          ]
        }
      ]
    },
    {
      "cell_type": "code",
      "source": [
        "# Realizando o mesmo broadcasting para COLUNA\n",
        "\n",
        "# 1º: Criamos o esqueleto\n",
        "esqueleto = np.ones((4,4))\n",
        "print('Array \"esqueleto\":\\n ')\n",
        "print(esqueleto)\n",
        "print('-'*80)\n",
        "\n",
        "# 2º: Criamos o array ao qual faremos um broadcasting\n",
        "esqueleto[:] = np.array( [2,3,8,9] ).reshape(4,1)  # Fazemos um reshape do formato (1,4) para o formato (4,1)\n",
        "print('Array após o broadcasting:\\n')\n",
        "print(esqueleto)"
      ],
      "metadata": {
        "id": "fQAiKmI8HFkf",
        "colab": {
          "base_uri": "https://localhost:8080/"
        },
        "outputId": "0de2ae05-33b4-44e7-fe14-73639128b588"
      },
      "execution_count": null,
      "outputs": [
        {
          "output_type": "stream",
          "name": "stdout",
          "text": [
            "Array \"esqueleto\":\n",
            " \n",
            "[[1. 1. 1. 1.]\n",
            " [1. 1. 1. 1.]\n",
            " [1. 1. 1. 1.]\n",
            " [1. 1. 1. 1.]]\n",
            "--------------------------------------------------------------------------------\n",
            "Array após o broadcasting:\n",
            "\n",
            "[[2. 2. 2. 2.]\n",
            " [3. 3. 3. 3.]\n",
            " [8. 8. 8. 8.]\n",
            " [9. 9. 9. 9.]]\n"
          ]
        }
      ]
    },
    {
      "cell_type": "code",
      "source": [
        "# Criando os vetores\n",
        "array_1 = np.identity(3) # matriz identidade 3x3\n",
        "array_2 = np.array( [[1,0,0], [0,1,0], [0,0,1]], int )\n",
        "\n",
        "print(array_1)\n",
        "print('-'*80)\n",
        "print(array_2)"
      ],
      "metadata": {
        "id": "k4TepXxaZ0Jn",
        "colab": {
          "base_uri": "https://localhost:8080/"
        },
        "outputId": "a4c8c06f-04aa-4abc-ff87-51f15115d903"
      },
      "execution_count": null,
      "outputs": [
        {
          "output_type": "stream",
          "name": "stdout",
          "text": [
            "[[1. 0. 0.]\n",
            " [0. 1. 0.]\n",
            " [0. 0. 1.]]\n",
            "--------------------------------------------------------------------------------\n",
            "[[1 0 0]\n",
            " [0 1 0]\n",
            " [0 0 1]]\n"
          ]
        }
      ]
    },
    {
      "cell_type": "code",
      "source": [
        "# Verificando se um array é igual a outro em todos seus elementos\n",
        "\n",
        "# Criando os vetores\n",
        "array_1 = np.identity(3)\n",
        "array_2 = np.array( [[1,0,0], [0,1,0], [0,0,1]], int )\n",
        "\n",
        "# 1º: Buscando os valores que são iguais em ambos os vetores\n",
        "elementos_iguais = array_1 == array_2\n",
        "\n",
        "# 2º: Retornando se todos os elementos dos dois arrays são iguais com np.all(elementos_iguais)\n",
        "comparacao = np.all( elementos_iguais )\n",
        "\n",
        "# 3º: Respondendo se os arrays são iguais ou não\n",
        "f = lambda x: print('Os arrays são iguais') if x == True else print('Os arrays são diferentes')\n",
        "\n",
        "f( comparacao )"
      ],
      "metadata": {
        "id": "wdwzkP_49TbR",
        "colab": {
          "base_uri": "https://localhost:8080/"
        },
        "outputId": "a417c595-1e46-48be-dc67-62a2d4dbc04f"
      },
      "execution_count": null,
      "outputs": [
        {
          "output_type": "stream",
          "name": "stdout",
          "text": [
            "Os arrays são iguais\n"
          ]
        }
      ]
    },
    {
      "cell_type": "markdown",
      "source": [
        "Obs:<br>\n",
        "Caso queira saber se algum elemento qualquer do array_1 também está no array_2 use `np.any(comparacao)` ao invés de `np.all(comparacao)`"
      ],
      "metadata": {
        "id": "IYUvTsrkOm0s"
      }
    },
    {
      "cell_type": "code",
      "source": [
        "# Outra solução com np.array_equal()\n",
        "\n",
        "# Criando os vetores\n",
        "array_1 = np.identity(3)\n",
        "array_2 = np.array( [[1,0,0], [0,1,0], [0,0,1]], int )\n",
        "\n",
        "np.array_equal( array_1, array_2 )"
      ],
      "metadata": {
        "id": "QAv0UFIqENFe",
        "colab": {
          "base_uri": "https://localhost:8080/"
        },
        "outputId": "e655f9f2-1e96-431c-ccca-0c85b98952ff"
      },
      "execution_count": null,
      "outputs": [
        {
          "output_type": "execute_result",
          "data": {
            "text/plain": [
              "True"
            ]
          },
          "metadata": {},
          "execution_count": 51
        }
      ]
    },
    {
      "cell_type": "markdown",
      "source": [
        "**Exercício**\n",
        "\n",
        "Dados os vetores [0 2 4 6 8 10] e [1 3 5 7 9 11], construa a matriz:\n",
        "\n",
        "\n",
        "```\n",
        "[  0,   0,   0,   0,   0,   0]\n",
        "[  2,   6,  10,  14,  18,  22]\n",
        "[  4,  12,  20,  28,  36,  44]\n",
        "[  6,  18,  30,  42,  54,  66]\n",
        "[  8,  24,  40,  56,  72,  88]\n",
        "[ 10,  30,  50,  70,  90, 110]\n",
        "```\n",
        "\n",
        "\n"
      ],
      "metadata": {
        "id": "fpuiyxA05qq1"
      }
    },
    {
      "cell_type": "code",
      "source": [
        "a = np.array( [0, 2, 4, 6, 8, 10] ) \n",
        "b = np.array( [1, 3, 5, 7, 9, 11] )\n",
        "\n",
        "# Resolva\n",
        "a.reshape(6,1) * b"
      ],
      "metadata": {
        "id": "JR8obY6t7BR_",
        "colab": {
          "base_uri": "https://localhost:8080/"
        },
        "outputId": "a501b16f-ab0a-47e3-9fc5-4777be55ceae"
      },
      "execution_count": null,
      "outputs": [
        {
          "output_type": "execute_result",
          "data": {
            "text/plain": [
              "array([[  0,   0,   0,   0,   0,   0],\n",
              "       [  2,   6,  10,  14,  18,  22],\n",
              "       [  4,  12,  20,  28,  36,  44],\n",
              "       [  6,  18,  30,  42,  54,  66],\n",
              "       [  8,  24,  40,  56,  72,  88],\n",
              "       [ 10,  30,  50,  70,  90, 110]])"
            ]
          },
          "metadata": {},
          "execution_count": 54
        }
      ]
    },
    {
      "cell_type": "markdown",
      "source": [
        "## **Reduções**"
      ],
      "metadata": {
        "id": "7GIU6VnIEqb2"
      }
    },
    {
      "cell_type": "markdown",
      "source": [
        "Funções de redução são funções que \"reduzem\" uma certa amostra de valores em uma única resposta.\n",
        "\n",
        "> Já utilizamos algumas, como: <br>\n",
        "> Soma, média, desvio padrão, valor máximo etc\n",
        "\n",
        "Ou seja... <br>\n",
        "Dado uma série de valores, reduzimos à um resultado"
      ],
      "metadata": {
        "id": "QVu-Vs44E1dX"
      }
    },
    {
      "cell_type": "markdown",
      "source": [
        "Para trabalhar com reduções no numpy, precisaremos entender como funcionam os eixos.\n",
        "\n",
        "- Axis 0: Faz a redução de linhas <br>\n",
        "- Axis 1: Faz a redução de colunas <br>\n",
        "- Axis 3: Faz a redução no eixo Z <br>\n",
        "(...)\n",
        "\n",
        "Logo, se passarmos o comando max() para o array todo, retornaremos o maior elemento do array.\n",
        "\n",
        "Se passarmos o comando `max()` especificando o eixo 1 com `max(axis=1)`, encontraremos o maior valor da linha (pois estamos comprimindo as colunas ❗)\n",
        "\n",
        "Se passarmos o comando `max(axis=0)` encontraremos o maior valor das colunas.\n",
        "\n",
        "<img src=\"https://i.stack.imgur.com/zzTgR.png\" width = 50%>"
      ],
      "metadata": {
        "id": "wnhrO-KaJOJK"
      }
    },
    {
      "cell_type": "markdown",
      "source": [
        "Teste prático"
      ],
      "metadata": {
        "id": "8rW3BHBYK_Ou"
      }
    },
    {
      "cell_type": "code",
      "source": [
        "array_aux = np.arange(20).reshape(4,5)\n",
        "\n",
        "print('Array: \\n', array_aux, '\\n', '-'*80)\n",
        "\n",
        "# Soma do array todo com array.sum()\n",
        "soma = array_aux.sum()\n",
        "print('Soma do array: ', soma, '\\n', '-'*80)\n",
        "\n",
        "# Somando as linhas com axis=1 -> \"Para somar as linhas achatamos as colunas\"\n",
        "soma_linha = array_aux.sum( axis = 1 )\n",
        "print('Soma por linha: ', soma_linha, '\\n', '-'*80)\n",
        "\n",
        "# Somando as colunas com axis=0 -> \"Para somar as colunas achatamos as linhas\"\n",
        "soma_coluna = array_aux.sum( axis = 0 )\n",
        "print('Soma por coluna: ', soma_coluna)"
      ],
      "metadata": {
        "id": "vbPgaPYEK9sj",
        "colab": {
          "base_uri": "https://localhost:8080/"
        },
        "outputId": "db583009-717f-4e57-9f1e-e32a4bd47853"
      },
      "execution_count": null,
      "outputs": [
        {
          "output_type": "stream",
          "name": "stdout",
          "text": [
            "Array: \n",
            " [[ 0  1  2  3  4]\n",
            " [ 5  6  7  8  9]\n",
            " [10 11 12 13 14]\n",
            " [15 16 17 18 19]] \n",
            " --------------------------------------------------------------------------------\n",
            "Soma do array:  190 \n",
            " --------------------------------------------------------------------------------\n",
            "Soma por linha:  [10 35 60 85] \n",
            " --------------------------------------------------------------------------------\n",
            "Soma por coluna:  [30 34 38 42 46]\n"
          ]
        }
      ]
    },
    {
      "cell_type": "markdown",
      "source": [
        "Outros comandos de redução úteis\n",
        "- argmax()\n",
        "- argmin()\n",
        "- argsort()\n",
        "\n",
        "Obs: Se utilizarmos o método `array.sort()` ao invés de `np.sort(array)`, afetaremos o array original ❗"
      ],
      "metadata": {
        "id": "SXSJo7q2Jef7"
      }
    },
    {
      "cell_type": "code",
      "source": [
        "# Seguindo o mesmo princípio do np.sum(), podemos ordenar por colunas ou linhas\n",
        "\n",
        "array_aux = np.array( [[1,3,2], [2,4,4], [5,2,1]] )\n",
        "print('Array original:\\n', array_aux)\n",
        "\n",
        "# Ordenando as linhas com axis=1\n",
        "array_ordenado_linha = np.sort(array_aux, axis=1)\n",
        "print( '\\nArray ordenado por linha:\\n', array_ordenado_linha )"
      ],
      "metadata": {
        "id": "hk5JwS1KIx1t",
        "colab": {
          "base_uri": "https://localhost:8080/"
        },
        "outputId": "9de11df1-aabb-4eb6-b460-2f194032e089"
      },
      "execution_count": null,
      "outputs": [
        {
          "output_type": "stream",
          "name": "stdout",
          "text": [
            "Array original:\n",
            " [[1 3 2]\n",
            " [2 4 4]\n",
            " [5 2 1]]\n",
            "\n",
            "Array ordenado por linha:\n",
            " [[1 2 3]\n",
            " [2 4 4]\n",
            " [1 2 5]]\n"
          ]
        }
      ]
    },
    {
      "cell_type": "code",
      "source": [
        "# Retornando os índices do array como se estivessem ordenado usando o np.argsort(array)\n",
        "\n",
        "array_aux = [1,3,5,2,5,6,99,0]\n",
        "\n",
        "array_argsort = np.argsort( array_aux )\n",
        "print(array_argsort)\n",
        "\n",
        "# Ou seja, o menor elemento está na posição 7, o segundo menor na posição 0 (...)\n",
        "# e o maior na posição 6\n",
        "\n",
        "# Obs: também é possível utilizar os eixos (...)"
      ],
      "metadata": {
        "id": "K81f7ZlERgis",
        "colab": {
          "base_uri": "https://localhost:8080/"
        },
        "outputId": "c86c686c-519b-4477-95d8-a4e1da0cb1a6"
      },
      "execution_count": null,
      "outputs": [
        {
          "output_type": "stream",
          "name": "stdout",
          "text": [
            "[7 0 3 1 2 4 5 6]\n"
          ]
        }
      ]
    },
    {
      "cell_type": "code",
      "source": [
        "array_aux = [1, 3, 5, 2, 5, 6, 99, 0]\n",
        "\n",
        "# Buscando a posição do maior elemento com np.argmax()\n",
        "print(f'Posição do maior elemento: { np.argmax( array_aux ) }')\n",
        "\n",
        "# Buscando a posição do menor elemento com np.argmin()\n",
        "print(f'Posição do menor elemento: { np.argmin( array_aux ) }')"
      ],
      "metadata": {
        "id": "grIergUHSo6c",
        "colab": {
          "base_uri": "https://localhost:8080/"
        },
        "outputId": "05eb150e-671c-494f-d3ba-34f346c7c482"
      },
      "execution_count": null,
      "outputs": [
        {
          "output_type": "stream",
          "name": "stdout",
          "text": [
            "Posição do maior elemento: 6\n",
            "Posição do menor elemento: 7\n"
          ]
        }
      ]
    },
    {
      "cell_type": "markdown",
      "source": [
        "**Exercício**\n",
        "\n",
        "1) Dado o array a seguir, encontre a linha com a maior média"
      ],
      "metadata": {
        "id": "MuBJaxX1TMJy"
      }
    },
    {
      "cell_type": "code",
      "source": [
        "array_aux = np.array( [[1,2,3,4,5], [2,3,2,3,2], [5,5,5,5,5],[10,9,5,0,0], [10,0,10,0,1]] )\n",
        "print(array_aux)\n",
        "\n",
        "# Resolva\n",
        "linha_maior_media = np.argmax( array_aux.mean( axis = 1 ) )\n",
        "print(f'\\nA linha com maior média é a: {linha_maior_media+1}ª!')"
      ],
      "metadata": {
        "id": "5vQNMpSxTRmu",
        "colab": {
          "base_uri": "https://localhost:8080/"
        },
        "outputId": "ce1fd88b-7096-417f-cd6d-1115bf24a19e"
      },
      "execution_count": null,
      "outputs": [
        {
          "output_type": "stream",
          "name": "stdout",
          "text": [
            "[[ 1  2  3  4  5]\n",
            " [ 2  3  2  3  2]\n",
            " [ 5  5  5  5  5]\n",
            " [10  9  5  0  0]\n",
            " [10  0 10  0  1]]\n",
            "\n",
            "A linha com maior média é a: 3ª!\n"
          ]
        }
      ]
    },
    {
      "cell_type": "markdown",
      "source": [
        "2) Dado o array a seguir, encontre a posição do maior elemento e mostre qual é esse elemento"
      ],
      "metadata": {
        "id": "9OtL19AzTR73"
      }
    },
    {
      "cell_type": "code",
      "source": [
        "array_aux = np.array( [[1,2,3,4,5], [2,3,2,3,2], [5,5,5,5,5],[10,9,5,0,0], [11,0,10,0,1]] )\n",
        "print(array_aux)\n",
        "\n",
        "# Resolva\n",
        "pos_maior = np.argmax( array_aux )\n",
        "\n",
        "maior_elemento = np.max( array_aux )\n",
        "\n",
        "print(f'\\nPosição do maior elemento: {pos_maior}.\\nMaior elemento: {maior_elemento}')"
      ],
      "metadata": {
        "id": "m5peqr86Tc5O",
        "colab": {
          "base_uri": "https://localhost:8080/"
        },
        "outputId": "2362016b-363d-4e99-a6c7-61d1ddb7e493"
      },
      "execution_count": null,
      "outputs": [
        {
          "output_type": "stream",
          "name": "stdout",
          "text": [
            "[[ 1  2  3  4  5]\n",
            " [ 2  3  2  3  2]\n",
            " [ 5  5  5  5  5]\n",
            " [10  9  5  0  0]\n",
            " [11  0 10  0  1]]\n",
            "\n",
            "Posição do maior elemento: 20.\n",
            "Maior elemento: 11\n"
          ]
        }
      ]
    },
    {
      "cell_type": "markdown",
      "source": [
        "3) Seguindo a lógica anterior, mostre qual é o segundo maior elemento"
      ],
      "metadata": {
        "id": "rWNMBDyYTdEy"
      }
    },
    {
      "cell_type": "code",
      "source": [
        "import numpy as np\n",
        "\n",
        "array_aux = np.array( [[1,2,3,4,5], [2,3,2,3,2], [5,5,5,5,5],[11,9,5,0,0], [12,0,10,0,1]] )\n",
        "print(array_aux)\n",
        "print('-'*80)\n",
        "\n",
        "# Resolva \n",
        "array_achatado = array_aux.flatten()\n",
        "print( np.sort(array_achatado)[-2] )"
      ],
      "metadata": {
        "id": "fJYnoB_eTpcg",
        "colab": {
          "base_uri": "https://localhost:8080/"
        },
        "outputId": "77ecbdb0-51b9-4dd6-c84d-caa305a3f32b"
      },
      "execution_count": null,
      "outputs": [
        {
          "output_type": "stream",
          "name": "stdout",
          "text": [
            "[[ 1  2  3  4  5]\n",
            " [ 2  3  2  3  2]\n",
            " [ 5  5  5  5  5]\n",
            " [11  9  5  0  0]\n",
            " [12  0 10  0  1]]\n",
            "--------------------------------------------------------------------------------\n",
            "11\n"
          ]
        }
      ]
    },
    {
      "cell_type": "code",
      "source": [
        "# Extra: Buscando o valor e posição do segundo maior elemento\n",
        "# Dica: comando np.where()\n",
        "\n",
        "array_aux = np.array( [[1,2,3,4,5], [2,3,2,3,2], [5,5,5,5,5],[11,9,5,0,0], [12,0,10,0,1]] )\n",
        "print(array_aux)\n",
        "print('-'*80)\n",
        "\n",
        "array_achatado = array_aux.ravel()\n",
        "segundo_maior = np.sort(array_achatado)[-2]\n",
        "\n",
        "print( f'O segundo menor elemento é o de valor: {segundo_maior}' )\n",
        "print( f'E sua posição é: {np.where(array_aux == segundo_maior)}' )"
      ],
      "metadata": {
        "id": "pBvvS8UAusdR",
        "colab": {
          "base_uri": "https://localhost:8080/"
        },
        "outputId": "2c2b807b-9fdf-4723-ade8-386e55433e04"
      },
      "execution_count": null,
      "outputs": [
        {
          "output_type": "stream",
          "name": "stdout",
          "text": [
            "[[ 1  2  3  4  5]\n",
            " [ 2  3  2  3  2]\n",
            " [ 5  5  5  5  5]\n",
            " [11  9  5  0  0]\n",
            " [12  0 10  0  1]]\n",
            "--------------------------------------------------------------------------------\n",
            "O segundo menor elemento é o de valor: 11\n",
            "E sua posição é: (array([3]), array([0]))\n"
          ]
        }
      ]
    },
    {
      "cell_type": "markdown",
      "source": [
        "## Matplotlib"
      ],
      "metadata": {
        "id": "pcqQD1sXd7i8"
      }
    },
    {
      "cell_type": "markdown",
      "source": [
        "Matplotlib é um pacote de visualização de gráficos que aceita dados em array (ou os converte automaticamente) e nos da um resultado visual; ela também utiliza a extensão matemática NumPy.\n",
        "\n",
        "Seu módulo mais famoso é o pyplot!"
      ],
      "metadata": {
        "id": "eCAT98TFd9fr"
      }
    },
    {
      "cell_type": "markdown",
      "source": [
        "Podemos fazer o import dele com: <br>\n",
        "`import matplotlib`\n",
        "\n",
        "E para importar o pyplot:\n",
        "`from matplotlib import pyplot` <br>\n",
        "ou <br>\n",
        "`import matplotlib.pyplot`"
      ],
      "metadata": {
        "id": "fPLmmWjXf7xd"
      }
    },
    {
      "cell_type": "markdown",
      "source": [
        "*Obs: A beleza vem com o tempo*\n",
        "\n",
        "<img src = \"https://encrypted-tbn0.gstatic.com/images?q=tbn:ANd9GcSNyohI8C4n8UySkw_IXsqFZn51wbTpwZlzHg&usqp=CAU\" width=30%>"
      ],
      "metadata": {
        "id": "qCgoNbRXtoaY"
      }
    },
    {
      "cell_type": "code",
      "source": [
        "# Import com apelido\n",
        "import matplotlib.pyplot as plt"
      ],
      "metadata": {
        "id": "9HVpLaIfgHlY"
      },
      "execution_count": null,
      "outputs": []
    },
    {
      "cell_type": "markdown",
      "source": [
        "Vamos relembrar alguns gráficos do ensino médio na prática!"
      ],
      "metadata": {
        "id": "3e6FMhKygvIs"
      }
    },
    {
      "cell_type": "code",
      "source": [
        "# Retornando uma função quadrática\n",
        "\n",
        "# Criação do array de dados\n",
        "X = np.array( range(-20,21) )\n",
        "\n",
        "# Elevando os dados ao quadrado\n",
        "Y = X**2\n",
        "\n",
        "# Plot do gráfico com plt.plot(X,Y)\n",
        "plt.plot( X,  Y )"
      ],
      "metadata": {
        "id": "dVu1tCYzgzUv",
        "colab": {
          "base_uri": "https://localhost:8080/",
          "height": 282
        },
        "outputId": "ec8a096b-a683-4dc0-df97-5dc31578412d"
      },
      "execution_count": null,
      "outputs": [
        {
          "output_type": "execute_result",
          "data": {
            "text/plain": [
              "[<matplotlib.lines.Line2D at 0x7fa01b0db590>]"
            ]
          },
          "metadata": {},
          "execution_count": 70
        },
        {
          "output_type": "display_data",
          "data": {
            "text/plain": [
              "<Figure size 432x288 with 1 Axes>"
            ],
            "image/png": "[encoded data removed]"
          },
          "metadata": {
            "needs_background": "light"
          }
        }
      ]
    },
    {
      "cell_type": "code",
      "source": [
        "# Retornando uma função cúbica\n",
        "\n",
        "# Criação do array de dados\n",
        "X = np.array( range(-20,21) )\n",
        "\n",
        "# Elevando os dados ao cubo\n",
        "Y = X**3\n",
        "\n",
        "# Plot do gráfico com plt.plot(X,Y)\n",
        "plt.plot( X, Y )"
      ],
      "metadata": {
        "id": "h4mvz6K5hghQ",
        "colab": {
          "base_uri": "https://localhost:8080/",
          "height": 282
        },
        "outputId": "72648c45-5fc0-4de8-ec2d-bf75dedb2928"
      },
      "execution_count": null,
      "outputs": [
        {
          "output_type": "execute_result",
          "data": {
            "text/plain": [
              "[<matplotlib.lines.Line2D at 0x7fa019325310>]"
            ]
          },
          "metadata": {},
          "execution_count": 71
        },
        {
          "output_type": "display_data",
          "data": {
            "text/plain": [
              "<Figure size 432x288 with 1 Axes>"
            ],
            "image/png": "[encoded data removed]"
          },
          "metadata": {
            "needs_background": "light"
          }
        }
      ]
    },
    {
      "cell_type": "code",
      "source": [
        "# Função seno\n",
        "\n",
        "from math import pi\n",
        "\n",
        "# Criação do array de dados\n",
        "X = np.linspace( -2 * np.pi, 2 * np.pi, 1000 )\n",
        "\n",
        "# Seno dos dados\n",
        "Y = np.sin( X )\n",
        "\n",
        "# Plot do gráfico com plt.plot(X,Y)\n",
        "plt.plot( X, Y )"
      ],
      "metadata": {
        "id": "KjYATWLGhv2l",
        "colab": {
          "base_uri": "https://localhost:8080/",
          "height": 282
        },
        "outputId": "cf1fc82c-b3d1-4c5d-8733-59e8f2ce3c00"
      },
      "execution_count": null,
      "outputs": [
        {
          "output_type": "execute_result",
          "data": {
            "text/plain": [
              "[<matplotlib.lines.Line2D at 0x7fa019271490>]"
            ]
          },
          "metadata": {},
          "execution_count": 76
        },
        {
          "output_type": "display_data",
          "data": {
            "text/plain": [
              "<Figure size 432x288 with 1 Axes>"
            ],
            "image/png": "[encoded data removed]"
          },
          "metadata": {
            "needs_background": "light"
          }
        }
      ]
    },
    {
      "cell_type": "code",
      "source": [
        "# Gráfico da tangente\n",
        "\n",
        "# Criação do array de dados\n",
        "X = np.linspace(-2 * np.pi, 2 * np.pi, 1000)\n",
        "\n",
        "# Tangente dos dados\n",
        "Y = np.sin(X) / np.cos(X)  # ou np.tan(X)\n",
        "\n",
        "# Plot do gráfico com plt.plot(X,Y)\n",
        "plt.plot( X, Y )\n",
        "\n",
        "# Limitando a aplitude do eixo Y com plt.ylim(-5, 5)\n",
        "plt.ylim( -5, 5 )"
      ],
      "metadata": {
        "id": "JCM6Bqz8h6YH",
        "colab": {
          "base_uri": "https://localhost:8080/",
          "height": 282
        },
        "outputId": "59de1799-f8f4-4478-9e60-1da820edaa26"
      },
      "execution_count": null,
      "outputs": [
        {
          "output_type": "execute_result",
          "data": {
            "text/plain": [
              "(-5.0, 5.0)"
            ]
          },
          "metadata": {},
          "execution_count": 78
        },
        {
          "output_type": "display_data",
          "data": {
            "text/plain": [
              "<Figure size 432x288 with 1 Axes>"
            ],
            "image/png": "[encoded data removed]"
          },
          "metadata": {
            "needs_background": "light"
          }
        }
      ]
    },
    {
      "cell_type": "code",
      "source": [
        "# Mudando o estilo da linha\n",
        "plt.plot( X, Y, color='orange', linewidth=4, linestyle=':' )\n",
        "plt.ylim( -5, 5 )\n",
        "# Busque por outros estilos em https://matplotlib.org/2.0.2/users/pyplot_tutorial.html"
      ],
      "metadata": {
        "id": "BkSJ4Y5akL8l",
        "colab": {
          "base_uri": "https://localhost:8080/",
          "height": 282
        },
        "outputId": "077d90da-0d43-4c5f-a895-fcecf408ea2e"
      },
      "execution_count": null,
      "outputs": [
        {
          "output_type": "execute_result",
          "data": {
            "text/plain": [
              "(-5.0, 5.0)"
            ]
          },
          "metadata": {},
          "execution_count": 79
        },
        {
          "output_type": "display_data",
          "data": {
            "text/plain": [
              "<Figure size 432x288 with 1 Axes>"
            ],
            "image/png": "[encoded data removed]"
          },
          "metadata": {
            "needs_background": "light"
          }
        }
      ]
    },
    {
      "cell_type": "code",
      "source": [
        "# Adicionando um título ao gráfico\n",
        "\n",
        "plt.plot(X, Y, color='orange', linewidth = 4, linestyle = ':')\n",
        "plt.title('Gráfico da Tangente')\n",
        "plt.ylim(-5,5)"
      ],
      "metadata": {
        "id": "vpyVMm4PnMOW",
        "colab": {
          "base_uri": "https://localhost:8080/",
          "height": 298
        },
        "outputId": "6973599e-e5ea-430b-a6bb-68df8c3f3391"
      },
      "execution_count": null,
      "outputs": [
        {
          "output_type": "execute_result",
          "data": {
            "text/plain": [
              "(-5.0, 5.0)"
            ]
          },
          "metadata": {},
          "execution_count": 80
        },
        {
          "output_type": "display_data",
          "data": {
            "text/plain": [
              "<Figure size 432x288 with 1 Axes>"
            ],
            "image/png": "[encoded data removed]"
          },
          "metadata": {
            "needs_background": "light"
          }
        }
      ]
    },
    {
      "cell_type": "code",
      "source": [
        "# Criação do array de dados\n",
        "X = np.linspace(-2 * np.pi, 2 * np.pi, 1000)\n",
        "\n",
        "# Tangente dos dados\n",
        "Y = np.sin(X) / np.cos(X)  # ou np.tan(X)\n",
        "\n",
        "# Adicionando legenda nos eixos X e Y\n",
        "plt.plot(X, Y, color='orange', linewidth = 4, linestyle = ':')\n",
        "plt.xlabel('Eixo X')\n",
        "plt.ylabel('Eixo Y')\n",
        "plt.title('Gráfico da tangente')\n",
        "plt.ylim(-5,5)"
      ],
      "metadata": {
        "id": "YS7fmFIMnTR-",
        "colab": {
          "base_uri": "https://localhost:8080/",
          "height": 312
        },
        "outputId": "587557b2-aaf6-49d4-f46c-43eb173722e7"
      },
      "execution_count": null,
      "outputs": [
        {
          "output_type": "execute_result",
          "data": {
            "text/plain": [
              "(-5.0, 5.0)"
            ]
          },
          "metadata": {},
          "execution_count": 82
        },
        {
          "output_type": "display_data",
          "data": {
            "text/plain": [
              "<Figure size 432x288 with 1 Axes>"
            ],
            "image/png": "[encoded data removed]"
          },
          "metadata": {
            "needs_background": "light"
          }
        }
      ]
    },
    {
      "cell_type": "markdown",
      "source": [
        "Extra:<br>\n",
        "Para definir os intervalos dos eixos, passe uma lista com os valores desejados<br>\n",
        "`plt.axis([list])`"
      ],
      "metadata": {
        "id": "cVq83SaSr9p2"
      }
    },
    {
      "cell_type": "markdown",
      "source": [
        "**Exercício**\n",
        "\n",
        "Gere os dados de 1 a 50 e aplique a função log na base 2. <br>\n",
        "Feito isso, gere o gráfico com o `linestyle='--'` e cor vermelha!\n",
        "\n",
        "Dica: use a função https://numpy.org/doc/stable/reference/generated/numpy.log.html <br>\n",
        "Obs: Sempre se atente aos detalhes para procurar algo que você busca nas documentações"
      ],
      "metadata": {
        "id": "KAICcOdok3yu"
      }
    },
    {
      "cell_type": "code",
      "source": [
        "# Resolva\n",
        "X = np.array( range(1,51) )\n",
        "Y = np.log2(X)\n",
        "\n",
        "plt.plot(X, Y, color='red', linestyle='--')"
      ],
      "metadata": {
        "id": "wOLU3agulg_m",
        "colab": {
          "base_uri": "https://localhost:8080/",
          "height": 282
        },
        "outputId": "f97598eb-0a2e-4a2a-817c-90abfc020bd1"
      },
      "execution_count": null,
      "outputs": [
        {
          "output_type": "execute_result",
          "data": {
            "text/plain": [
              "[<matplotlib.lines.Line2D at 0x7fa018f69e10>]"
            ]
          },
          "metadata": {},
          "execution_count": 83
        },
        {
          "output_type": "display_data",
          "data": {
            "text/plain": [
              "<Figure size 432x288 with 1 Axes>"
            ],
            "image/png": "[encoded data removed]"
          },
          "metadata": {
            "needs_background": "light"
          }
        }
      ]
    },
    {
      "cell_type": "code",
      "source": [
        "# Extra: mais de um plot por vez (subplots)\n",
        "\n",
        "X = np.linspace(-2 * np.pi, 2 * np.pi, 1000)\n",
        "Y = np.sin(X)\n",
        "\n",
        "plt.subplot(2, 3, 1)   # Dado um esquema de 2 linhas e 3 colunas, coloque o próximo gráfico na primeira posição\n",
        "plt.plot(X, Y, color='orange', linewidth = 4, linestyle = ':')\n",
        "\n",
        "plt.subplot(2, 3, 2)   # Dado um esquema de 2 linhas e 3 colunas, coloque o próximo gráfico na segunda posição (...)\n",
        "plt.plot(X, Y, color='red', linewidth = 4, linestyle = ':')\n",
        "\n",
        "plt.subplot(2, 3, 3)\n",
        "plt.plot(X, Y, color='blue', linewidth = 4, linestyle = ':')\n",
        "\n",
        "plt.subplot(2, 3, 4)\n",
        "plt.plot(X, Y, color='yellow', linewidth = 4, linestyle = ':')\n",
        "\n",
        "plt.subplot(2, 3, 5)\n",
        "plt.plot(X, Y, color='black', linewidth = 4, linestyle = ':')\n",
        "\n",
        "plt.subplot(2, 3, 6)\n",
        "plt.plot(X, Y, color='green', linewidth = 4, linestyle = ':')"
      ],
      "metadata": {
        "id": "W1z9Z4ZMn-q0",
        "colab": {
          "base_uri": "https://localhost:8080/",
          "height": 282
        },
        "outputId": "a15f77eb-9784-4bbf-846a-2b67e2b2b66c"
      },
      "execution_count": null,
      "outputs": [
        {
          "output_type": "execute_result",
          "data": {
            "text/plain": [
              "[<matplotlib.lines.Line2D at 0x7fa0190def90>]"
            ]
          },
          "metadata": {},
          "execution_count": 84
        },
        {
          "output_type": "display_data",
          "data": {
            "text/plain": [
              "<Figure size 432x288 with 6 Axes>"
            ],
            "image/png": "[encoded data removed]"
          },
          "metadata": {
            "needs_background": "light"
          }
        }
      ]
    },
    {
      "cell_type": "markdown",
      "source": [
        "Outros tipos de gráficos com distribuições estatísticas"
      ],
      "metadata": {
        "id": "EThHHAolsHko"
      }
    },
    {
      "cell_type": "code",
      "source": [
        "# Gerando dados normais\n",
        "\n",
        "mu, sigma = 0, 0.1  # mean and standard deviation\n",
        "s = np.random.normal(mu, sigma, 1000)"
      ],
      "metadata": {
        "id": "jDnaX5Y5sK0X"
      },
      "execution_count": null,
      "outputs": []
    },
    {
      "cell_type": "code",
      "source": [
        "# Histograma\n",
        "\n",
        "plt.hist( s, 30 )  # Gráfico de 30 elementos gerados"
      ],
      "metadata": {
        "id": "nW9iZfhhsI3-",
        "colab": {
          "base_uri": "https://localhost:8080/",
          "height": 456
        },
        "outputId": "5957806d-1a10-4a92-d8e3-6b9be12852c3"
      },
      "execution_count": null,
      "outputs": [
        {
          "output_type": "execute_result",
          "data": {
            "text/plain": [
              "(array([  2.,   2.,   3.,   7.,   8.,  12.,  12.,  27.,  42.,  52.,  55.,\n",
              "         76.,  96., 102.,  95., 103.,  86.,  72.,  41.,  48.,  21.,  13.,\n",
              "         11.,   8.,   3.,   1.,   0.,   0.,   1.,   1.]),\n",
              " array([-0.341924  , -0.31745645, -0.29298891, -0.26852137, -0.24405382,\n",
              "        -0.21958628, -0.19511874, -0.17065119, -0.14618365, -0.12171611,\n",
              "        -0.09724856, -0.07278102, -0.04831348, -0.02384593,  0.00062161,\n",
              "         0.02508915,  0.0495567 ,  0.07402424,  0.09849178,  0.12295933,\n",
              "         0.14742687,  0.17189441,  0.19636196,  0.2208295 ,  0.24529704,\n",
              "         0.26976458,  0.29423213,  0.31869967,  0.34316721,  0.36763476,\n",
              "         0.3921023 ]),\n",
              " <a list of 30 Patch objects>)"
            ]
          },
          "metadata": {},
          "execution_count": 88
        },
        {
          "output_type": "display_data",
          "data": {
            "text/plain": [
              "<Figure size 432x288 with 1 Axes>"
            ],
            "image/png": "[encoded data removed]"
          },
          "metadata": {
            "needs_background": "light"
          }
        }
      ]
    },
    {
      "cell_type": "markdown",
      "source": [
        "Consultas matplotlib:\n",
        "\n",
        "Alguns exemplos de gráficos: https://matplotlib.org/stable/plot_types/index.html\n",
        "\n",
        "Cola para estilos de gráficos: https://matplotlib.org/3.5.0/gallery/style_sheets/style_sheets_reference.html"
      ],
      "metadata": {
        "id": "aPuZ3dC-s-v7"
      }
    },
    {
      "cell_type": "markdown",
      "source": [
        "**Extra**\n",
        "<font color='orange'> **Fique de olho no pacote Seaborn!** </font> <br>\n",
        "Seaborn é uma biblioteca de interface de alto nível baseada no pacote matplotlib que estamos estudando.\n",
        "Obs: No geral é uma ótima biblioteca em termos visuais ⛳\n",
        "\n",
        "Lista de exemplos no seaborn: <br>\n",
        "https://seaborn.pydata.org/examples/index.html\n",
        "\n",
        "Leitura extra: <br>\n",
        "https://pt.linkedin.com/pulse/o-poder-dos-nascidos-mar-seaborn-para-visualiza%C3%A7%C3%A3o-de-manoel\n",
        "\n",
        "<img src=\"https://seaborn.pydata.org/_images/layered_bivariate_plot.png\" width=30%>"
      ],
      "metadata": {
        "id": "uCLG-qAEA6g0"
      }
    },
    {
      "cell_type": "code",
      "source": [
        "# Importando o seaborn\n",
        "import seaborn as sns\n",
        "\n",
        "# import de uma base de dados pronta\n",
        "penguins = sns.load_dataset(\"penguins\")\n",
        "\n",
        "# plot gráfico\n",
        "sns.histplot( data = penguins, x=\"flipper_length_mm\" )"
      ],
      "metadata": {
        "id": "WXlblBUj3HYl",
        "colab": {
          "base_uri": "https://localhost:8080/",
          "height": 297
        },
        "outputId": "62097b7f-3f9a-4d35-f28d-1a05e6e63d87"
      },
      "execution_count": null,
      "outputs": [
        {
          "output_type": "execute_result",
          "data": {
            "text/plain": [
              "<matplotlib.axes._subplots.AxesSubplot at 0x7fa00d402850>"
            ]
          },
          "metadata": {},
          "execution_count": 91
        },
        {
          "output_type": "display_data",
          "data": {
            "text/plain": [
              "<Figure size 432x288 with 1 Axes>"
            ],
            "image/png": "[encoded data removed]"
          },
          "metadata": {
            "needs_background": "light"
          }
        }
      ]
    },
    {
      "cell_type": "code",
      "source": [
        "# Plot de barras\n",
        "\n",
        "# make data:\n",
        "np.random.seed(3)\n",
        "x = 0.5 + np.arange(8)\n",
        "y = np.random.uniform(2, 7, len(x))\n",
        "\n",
        "# plot\n",
        "fig, ax = plt.subplots()\n",
        "\n",
        "ax.bar(x, y, width=1, edgecolor=\"white\", linewidth=0.7)\n",
        "\n",
        "ax.set(xlim=(0, 8), xticks=np.arange(1, 8),\n",
        "       ylim=(0, 8), yticks=np.arange(1, 8))\n",
        "\n",
        "plt.show()"
      ],
      "metadata": {
        "id": "ziRvIcMosiy_",
        "colab": {
          "base_uri": "https://localhost:8080/",
          "height": 265
        },
        "outputId": "ffc5e1de-162b-48bf-a350-fe7c84528aa2"
      },
      "execution_count": null,
      "outputs": [
        {
          "output_type": "display_data",
          "data": {
            "text/plain": [
              "<Figure size 432x288 with 1 Axes>"
            ],
            "image/png": "[encoded data removed]"
          },
          "metadata": {
            "needs_background": "light"
          }
        }
      ]
    },
    {
      "cell_type": "code",
      "source": [
        "# Plot de pizza\n",
        "\n",
        "# make data\n",
        "x = [1, 2, 3, 4]\n",
        "colors = plt.get_cmap('Blues')(np.linspace(0.2, 0.7, len(x)))\n",
        "\n",
        "# plot\n",
        "fig, ax = plt.subplots()\n",
        "ax.pie(x, colors=colors, radius=3, center=(4, 4),\n",
        "       wedgeprops={\"linewidth\": 1, \"edgecolor\": \"white\"}, frame=True)\n",
        "\n",
        "ax.set(xlim=(0, 8), xticks=np.arange(1, 8),\n",
        "       ylim=(0, 8), yticks=np.arange(1, 8))\n",
        "\n",
        "plt.show()"
      ],
      "metadata": {
        "id": "LSi-qURltPCM",
        "colab": {
          "base_uri": "https://localhost:8080/",
          "height": 265
        },
        "outputId": "e18d8432-1307-4fd7-bc9c-5024319a1eb8"
      },
      "execution_count": null,
      "outputs": [
        {
          "output_type": "display_data",
          "data": {
            "text/plain": [
              "<Figure size 432x288 with 1 Axes>"
            ],
            "image/png": "[encoded data removed]"
          },
          "metadata": {
            "needs_background": "light"
          }
        }
      ]
    },
    {
      "cell_type": "markdown",
      "source": [
        "Estes últimos gráficos foram feitos utilizando https://matplotlib.org/stable/plot_types/index.html"
      ],
      "metadata": {
        "id": "q67QGR-dwVfA"
      }
    },
    {
      "cell_type": "markdown",
      "source": [
        "# PARTE 03"
      ],
      "metadata": {
        "id": "GsG4G33YCKBK"
      }
    },
    {
      "cell_type": "markdown",
      "source": [
        "## Pandas"
      ],
      "metadata": {
        "id": "TsK4fSW1tb-O"
      }
    },
    {
      "cell_type": "markdown",
      "source": [
        "Pandas é uma biblioteca que utiliza o matplotlib e numpy como base e retorna tabelas com indexação para linhas e colunas (como o excel) em formato de ***séries*** e ***dataframes*** por exemplo.\n",
        "\n",
        "Nele, podemos ler arquivos de diversas fontes e formatações possíveis.\n",
        "\n",
        "Processaremos as tabelas com ele de forma fácil e muito mais rápida do que quando usamos excel para arquivos maiores, pois o limite de linhas no excel é de 1.048.576 linhas (consideravelmente pequeno).\n",
        "\n",
        "Sobre o retorno do pandas:\n",
        "1. Séries:\n",
        "- Semelhante a um array de uma dimensão, mas com a possibilidade de se indexar por \"nomes\" (rótulos) e não só inteiros.\n",
        "- Podem ser criadas a partir de dataframes e sequências básicas como listas, dicionários e arrays.\n",
        "- Encontrada pelo comando `pd.Series()`\n",
        "\n",
        "2. DataFrames:\n",
        "- Uma tabela propriamente dita (com indexação).\n",
        "- Podem ser importados para o python através de CSV, excel, web scraping etc.\n",
        "- Podem ser criados através de matriz, dicionários, listas de listas (entre outras listas e tuplas) etc.\n",
        "- Encontrado pelo comando `pd.DataFrame()`\n",
        "\n",
        "Dica extra: caso o tamanho do arquivo seja exorbitante, utilize o pacote inspirado no pandas para processamento paralelo: **dask** (https://dask.org/)\n",
        "\n",
        "<img src=\"https://files.realpython.com/media/Reading-and-Writing-Data-With-Pandas_Watermarked.435ef1c38466.jpg\" width=50%>\n",
        "\n",
        "*fonte-img: https://realpython.com/pandas-read-write-files/*"
      ],
      "metadata": {
        "id": "Qkex237QGvCT"
      }
    },
    {
      "cell_type": "code",
      "source": [
        "# Importação do pacote pandas\n",
        "import pandas as pd"
      ],
      "metadata": {
        "id": "FNePixnWQsvN"
      },
      "execution_count": 1,
      "outputs": []
    },
    {
      "cell_type": "code",
      "source": [
        "import numpy as np\n",
        "\n",
        "# Criando um dataset aluno\n",
        "\n",
        "data = {'aluno'       : ['João', 'Ribeiro', 'Evaldo', 'Isaias', 'Jessyca','Anne','Luiz'],    \n",
        "        'idade'       : ['20', '29', '22', '21', '35', '32', '40'],    \n",
        "        'cidade'      : ['São Paulo', 'São João', 'Pinhal', 'Mococa', 'Poços', 'Botelhos', 'Pinhal'],\n",
        "        'aniversario' : ['021004', '030220', np.nan, '000420', '871212', '000101', np.nan] }           #np.nan nos traz um NaN (not a number)\n",
        "\n",
        "df = pd.DataFrame(data)\n",
        "\n",
        "print(df)"
      ],
      "metadata": {
        "id": "earrM4ckSx7I",
        "colab": {
          "base_uri": "https://localhost:8080/"
        },
        "outputId": "45182d64-c851-4027-c1b7-a81a45a6c5fb"
      },
      "execution_count": 2,
      "outputs": [
        {
          "output_type": "stream",
          "name": "stdout",
          "text": [
            "     aluno idade     cidade aniversario\n",
            "0     João    20  São Paulo      021004\n",
            "1  Ribeiro    29   São João      030220\n",
            "2   Evaldo    22     Pinhal         NaN\n",
            "3   Isaias    21     Mococa      000420\n",
            "4  Jessyca    35      Poços      871212\n",
            "5     Anne    32   Botelhos      000101\n",
            "6     Luiz    40     Pinhal         NaN\n"
          ]
        }
      ]
    },
    {
      "cell_type": "code",
      "source": [
        "# Lendo as 5 primeiras linhas com o comando head()\n",
        "df.head()\n",
        "# Lendo as 3 primeiras linhas\n",
        "df.head(3)\n",
        "# Lendo as últimas 5 linhas com o tail()\n",
        "df.tail()\n",
        "# Lendo 2 amostras aleatórias com o sample()\n",
        "df.sample(2)"
      ],
      "metadata": {
        "id": "zjRsFXCNTlW-",
        "colab": {
          "base_uri": "https://localhost:8080/",
          "height": 112
        },
        "outputId": "23c54e99-0466-48cd-ab11-baf5ae2b88d4"
      },
      "execution_count": 6,
      "outputs": [
        {
          "output_type": "execute_result",
          "data": {
            "text/plain": [
              "     aluno idade     cidade aniversario\n",
              "1  Ribeiro    29   São João      030220\n",
              "0     João    20  São Paulo      021004"
            ],
            "text/html": [
              "\n",
              "  <div id=\"df-96ad74e4-c126-4d9f-a4cd-aba9e98ba3a0\">\n",
              "    <div class=\"colab-df-container\">\n",
              "      <div>\n",
              "<style scoped>\n",
              "    .dataframe tbody tr th:only-of-type {\n",
              "        vertical-align: middle;\n",
              "    }\n",
              "\n",
              "    .dataframe tbody tr th {\n",
              "        vertical-align: top;\n",
              "    }\n",
              "\n",
              "    .dataframe thead th {\n",
              "        text-align: right;\n",
              "    }\n",
              "</style>\n",
              "<table border=\"1\" class=\"dataframe\">\n",
              "  <thead>\n",
              "    <tr style=\"text-align: right;\">\n",
              "      <th></th>\n",
              "      <th>aluno</th>\n",
              "      <th>idade</th>\n",
              "      <th>cidade</th>\n",
              "      <th>aniversario</th>\n",
              "    </tr>\n",
              "  </thead>\n",
              "  <tbody>\n",
              "    <tr>\n",
              "      <th>1</th>\n",
              "      <td>Ribeiro</td>\n",
              "      <td>29</td>\n",
              "      <td>São João</td>\n",
              "      <td>030220</td>\n",
              "    </tr>\n",
              "    <tr>\n",
              "      <th>0</th>\n",
              "      <td>João</td>\n",
              "      <td>20</td>\n",
              "      <td>São Paulo</td>\n",
              "      <td>021004</td>\n",
              "    </tr>\n",
              "  </tbody>\n",
              "</table>\n",
              "</div>\n",
              "      <button class=\"colab-df-convert\" onclick=\"convertToInteractive('df-96ad74e4-c126-4d9f-a4cd-aba9e98ba3a0')\"\n",
              "              title=\"Convert this dataframe to an interactive table.\"\n",
              "              style=\"display:none;\">\n",
              "        \n",
              "  <svg xmlns=\"http://www.w3.org/2000/svg\" height=\"24px\"viewBox=\"0 0 24 24\"\n",
              "       width=\"24px\">\n",
              "    <path d=\"M0 0h24v24H0V0z\" fill=\"none\"/>\n",
              "    <path d=\"M18.56 5.44l.94 2.06.94-2.06 2.06-.94-2.06-.94-.94-2.06-.94 2.06-2.06.94zm-11 1L8.5 8.5l.94-2.06 2.06-.94-2.06-.94L8.5 2.5l-.94 2.06-2.06.94zm10 10l.94 2.06.94-2.06 2.06-.94-2.06-.94-.94-2.06-.94 2.06-2.06.94z\"/><path d=\"M17.41 7.96l-1.37-1.37c-.4-.4-.92-.59-1.43-.59-.52 0-1.04.2-1.43.59L10.3 9.45l-7.72 7.72c-.78.78-.78 2.05 0 2.83L4 21.41c.39.39.9.59 1.41.59.51 0 1.02-.2 1.41-.59l7.78-7.78 2.81-2.81c.8-.78.8-2.07 0-2.86zM5.41 20L4 18.59l7.72-7.72 1.47 1.35L5.41 20z\"/>\n",
              "  </svg>\n",
              "      </button>\n",
              "      \n",
              "  <style>\n",
              "    .colab-df-container {\n",
              "      display:flex;\n",
              "      flex-wrap:wrap;\n",
              "      gap: 12px;\n",
              "    }\n",
              "\n",
              "    .colab-df-convert {\n",
              "      background-color: #E8F0FE;\n",
              "      border: none;\n",
              "      border-radius: 50%;\n",
              "      cursor: pointer;\n",
              "      display: none;\n",
              "      fill: #1967D2;\n",
              "      height: 32px;\n",
              "      padding: 0 0 0 0;\n",
              "      width: 32px;\n",
              "    }\n",
              "\n",
              "    .colab-df-convert:hover {\n",
              "      background-color: #E2EBFA;\n",
              "      box-shadow: 0px 1px 2px rgba(60, 64, 67, 0.3), 0px 1px 3px 1px rgba(60, 64, 67, 0.15);\n",
              "      fill: #174EA6;\n",
              "    }\n",
              "\n",
              "    [theme=dark] .colab-df-convert {\n",
              "      background-color: #3B4455;\n",
              "      fill: #D2E3FC;\n",
              "    }\n",
              "\n",
              "    [theme=dark] .colab-df-convert:hover {\n",
              "      background-color: #434B5C;\n",
              "      box-shadow: 0px 1px 3px 1px rgba(0, 0, 0, 0.15);\n",
              "      filter: drop-shadow(0px 1px 2px rgba(0, 0, 0, 0.3));\n",
              "      fill: #FFFFFF;\n",
              "    }\n",
              "  </style>\n",
              "\n",
              "      <script>\n",
              "        const buttonEl =\n",
              "          document.querySelector('#df-96ad74e4-c126-4d9f-a4cd-aba9e98ba3a0 button.colab-df-convert');\n",
              "        buttonEl.style.display =\n",
              "          google.colab.kernel.accessAllowed ? 'block' : 'none';\n",
              "\n",
              "        async function convertToInteractive(key) {\n",
              "          const element = document.querySelector('#df-96ad74e4-c126-4d9f-a4cd-aba9e98ba3a0');\n",
              "          const dataTable =\n",
              "            await google.colab.kernel.invokeFunction('convertToInteractive',\n",
              "                                                     [key], {});\n",
              "          if (!dataTable) return;\n",
              "\n",
              "          const docLinkHtml = 'Like what you see? Visit the ' +\n",
              "            '<a target=\"_blank\" href=https://colab.research.google.com/notebooks/data_table.ipynb>data table notebook</a>'\n",
              "            + ' to learn more about interactive tables.';\n",
              "          element.innerHTML = '';\n",
              "          dataTable['output_type'] = 'display_data';\n",
              "          await google.colab.output.renderOutput(dataTable, element);\n",
              "          const docLink = document.createElement('div');\n",
              "          docLink.innerHTML = docLinkHtml;\n",
              "          element.appendChild(docLink);\n",
              "        }\n",
              "      </script>\n",
              "    </div>\n",
              "  </div>\n",
              "  "
            ]
          },
          "metadata": {},
          "execution_count": 6
        }
      ]
    },
    {
      "cell_type": "code",
      "source": [
        "# Acessando a coluna nome\n",
        "\n",
        "df['aluno']"
      ],
      "metadata": {
        "id": "muTHSg7MVEBE",
        "colab": {
          "base_uri": "https://localhost:8080/"
        },
        "outputId": "3ba3a2d7-6482-4295-9de9-5c968fc84564"
      },
      "execution_count": 7,
      "outputs": [
        {
          "output_type": "execute_result",
          "data": {
            "text/plain": [
              "0       João\n",
              "1    Ribeiro\n",
              "2     Evaldo\n",
              "3     Isaias\n",
              "4    Jessyca\n",
              "5       Anne\n",
              "6       Luiz\n",
              "Name: aluno, dtype: object"
            ]
          },
          "metadata": {},
          "execution_count": 7
        }
      ]
    },
    {
      "cell_type": "code",
      "source": [
        "# Acessando as colunas nome e idade\n",
        "\n",
        "df[ ['aluno', 'idade'] ]"
      ],
      "metadata": {
        "id": "1B_DiYPTVKlN",
        "colab": {
          "base_uri": "https://localhost:8080/",
          "height": 269
        },
        "outputId": "9ace1bc4-cb31-4086-f374-8e458d487188"
      },
      "execution_count": 8,
      "outputs": [
        {
          "output_type": "execute_result",
          "data": {
            "text/plain": [
              "     aluno idade\n",
              "0     João    20\n",
              "1  Ribeiro    29\n",
              "2   Evaldo    22\n",
              "3   Isaias    21\n",
              "4  Jessyca    35\n",
              "5     Anne    32\n",
              "6     Luiz    40"
            ],
            "text/html": [
              "\n",
              "  <div id=\"df-086309a5-dde6-4233-a044-badef6849e9b\">\n",
              "    <div class=\"colab-df-container\">\n",
              "      <div>\n",
              "<style scoped>\n",
              "    .dataframe tbody tr th:only-of-type {\n",
              "        vertical-align: middle;\n",
              "    }\n",
              "\n",
              "    .dataframe tbody tr th {\n",
              "        vertical-align: top;\n",
              "    }\n",
              "\n",
              "    .dataframe thead th {\n",
              "        text-align: right;\n",
              "    }\n",
              "</style>\n",
              "<table border=\"1\" class=\"dataframe\">\n",
              "  <thead>\n",
              "    <tr style=\"text-align: right;\">\n",
              "      <th></th>\n",
              "      <th>aluno</th>\n",
              "      <th>idade</th>\n",
              "    </tr>\n",
              "  </thead>\n",
              "  <tbody>\n",
              "    <tr>\n",
              "      <th>0</th>\n",
              "      <td>João</td>\n",
              "      <td>20</td>\n",
              "    </tr>\n",
              "    <tr>\n",
              "      <th>1</th>\n",
              "      <td>Ribeiro</td>\n",
              "      <td>29</td>\n",
              "    </tr>\n",
              "    <tr>\n",
              "      <th>2</th>\n",
              "      <td>Evaldo</td>\n",
              "      <td>22</td>\n",
              "    </tr>\n",
              "    <tr>\n",
              "      <th>3</th>\n",
              "      <td>Isaias</td>\n",
              "      <td>21</td>\n",
              "    </tr>\n",
              "    <tr>\n",
              "      <th>4</th>\n",
              "      <td>Jessyca</td>\n",
              "      <td>35</td>\n",
              "    </tr>\n",
              "    <tr>\n",
              "      <th>5</th>\n",
              "      <td>Anne</td>\n",
              "      <td>32</td>\n",
              "    </tr>\n",
              "    <tr>\n",
              "      <th>6</th>\n",
              "      <td>Luiz</td>\n",
              "      <td>40</td>\n",
              "    </tr>\n",
              "  </tbody>\n",
              "</table>\n",
              "</div>\n",
              "      <button class=\"colab-df-convert\" onclick=\"convertToInteractive('df-086309a5-dde6-4233-a044-badef6849e9b')\"\n",
              "              title=\"Convert this dataframe to an interactive table.\"\n",
              "              style=\"display:none;\">\n",
              "        \n",
              "  <svg xmlns=\"http://www.w3.org/2000/svg\" height=\"24px\"viewBox=\"0 0 24 24\"\n",
              "       width=\"24px\">\n",
              "    <path d=\"M0 0h24v24H0V0z\" fill=\"none\"/>\n",
              "    <path d=\"M18.56 5.44l.94 2.06.94-2.06 2.06-.94-2.06-.94-.94-2.06-.94 2.06-2.06.94zm-11 1L8.5 8.5l.94-2.06 2.06-.94-2.06-.94L8.5 2.5l-.94 2.06-2.06.94zm10 10l.94 2.06.94-2.06 2.06-.94-2.06-.94-.94-2.06-.94 2.06-2.06.94z\"/><path d=\"M17.41 7.96l-1.37-1.37c-.4-.4-.92-.59-1.43-.59-.52 0-1.04.2-1.43.59L10.3 9.45l-7.72 7.72c-.78.78-.78 2.05 0 2.83L4 21.41c.39.39.9.59 1.41.59.51 0 1.02-.2 1.41-.59l7.78-7.78 2.81-2.81c.8-.78.8-2.07 0-2.86zM5.41 20L4 18.59l7.72-7.72 1.47 1.35L5.41 20z\"/>\n",
              "  </svg>\n",
              "      </button>\n",
              "      \n",
              "  <style>\n",
              "    .colab-df-container {\n",
              "      display:flex;\n",
              "      flex-wrap:wrap;\n",
              "      gap: 12px;\n",
              "    }\n",
              "\n",
              "    .colab-df-convert {\n",
              "      background-color: #E8F0FE;\n",
              "      border: none;\n",
              "      border-radius: 50%;\n",
              "      cursor: pointer;\n",
              "      display: none;\n",
              "      fill: #1967D2;\n",
              "      height: 32px;\n",
              "      padding: 0 0 0 0;\n",
              "      width: 32px;\n",
              "    }\n",
              "\n",
              "    .colab-df-convert:hover {\n",
              "      background-color: #E2EBFA;\n",
              "      box-shadow: 0px 1px 2px rgba(60, 64, 67, 0.3), 0px 1px 3px 1px rgba(60, 64, 67, 0.15);\n",
              "      fill: #174EA6;\n",
              "    }\n",
              "\n",
              "    [theme=dark] .colab-df-convert {\n",
              "      background-color: #3B4455;\n",
              "      fill: #D2E3FC;\n",
              "    }\n",
              "\n",
              "    [theme=dark] .colab-df-convert:hover {\n",
              "      background-color: #434B5C;\n",
              "      box-shadow: 0px 1px 3px 1px rgba(0, 0, 0, 0.15);\n",
              "      filter: drop-shadow(0px 1px 2px rgba(0, 0, 0, 0.3));\n",
              "      fill: #FFFFFF;\n",
              "    }\n",
              "  </style>\n",
              "\n",
              "      <script>\n",
              "        const buttonEl =\n",
              "          document.querySelector('#df-086309a5-dde6-4233-a044-badef6849e9b button.colab-df-convert');\n",
              "        buttonEl.style.display =\n",
              "          google.colab.kernel.accessAllowed ? 'block' : 'none';\n",
              "\n",
              "        async function convertToInteractive(key) {\n",
              "          const element = document.querySelector('#df-086309a5-dde6-4233-a044-badef6849e9b');\n",
              "          const dataTable =\n",
              "            await google.colab.kernel.invokeFunction('convertToInteractive',\n",
              "                                                     [key], {});\n",
              "          if (!dataTable) return;\n",
              "\n",
              "          const docLinkHtml = 'Like what you see? Visit the ' +\n",
              "            '<a target=\"_blank\" href=https://colab.research.google.com/notebooks/data_table.ipynb>data table notebook</a>'\n",
              "            + ' to learn more about interactive tables.';\n",
              "          element.innerHTML = '';\n",
              "          dataTable['output_type'] = 'display_data';\n",
              "          await google.colab.output.renderOutput(dataTable, element);\n",
              "          const docLink = document.createElement('div');\n",
              "          docLink.innerHTML = docLinkHtml;\n",
              "          element.appendChild(docLink);\n",
              "        }\n",
              "      </script>\n",
              "    </div>\n",
              "  </div>\n",
              "  "
            ]
          },
          "metadata": {},
          "execution_count": 8
        }
      ]
    },
    {
      "cell_type": "code",
      "source": [
        "# Verificando o tipo dos dados de cada coluna: IMPORTANTE!\n",
        "\n",
        "df.dtypes"
      ],
      "metadata": {
        "id": "C26xipH1T6AY",
        "colab": {
          "base_uri": "https://localhost:8080/"
        },
        "outputId": "8389cdb1-d4ab-4f4e-a6f9-4e54212ecac4"
      },
      "execution_count": 9,
      "outputs": [
        {
          "output_type": "execute_result",
          "data": {
            "text/plain": [
              "aluno          object\n",
              "idade          object\n",
              "cidade         object\n",
              "aniversario    object\n",
              "dtype: object"
            ]
          },
          "metadata": {},
          "execution_count": 9
        }
      ]
    },
    {
      "cell_type": "code",
      "source": [
        "# Transformando a coluna idade para o tipo int\n",
        "\n",
        "df['idade'] = df['idade'].astype(int)\n",
        "\n",
        "df.dtypes"
      ],
      "metadata": {
        "id": "3BrqDtukVui1",
        "colab": {
          "base_uri": "https://localhost:8080/"
        },
        "outputId": "e098d86d-8396-423d-8544-db95706769b5"
      },
      "execution_count": 10,
      "outputs": [
        {
          "output_type": "execute_result",
          "data": {
            "text/plain": [
              "aluno          object\n",
              "idade           int64\n",
              "cidade         object\n",
              "aniversario    object\n",
              "dtype: object"
            ]
          },
          "metadata": {},
          "execution_count": 10
        }
      ]
    },
    {
      "cell_type": "code",
      "source": [
        "# Transformando a coluna aniversário para o tipo data\n",
        "\n",
        "df['aniversario'] = pd.to_datetime( df['aniversario'], format = '%y%m%d' )\n",
        "\n",
        "df.dtypes"
      ],
      "metadata": {
        "id": "NUZrVk-1U-Rh",
        "colab": {
          "base_uri": "https://localhost:8080/"
        },
        "outputId": "f932558c-c3eb-44e1-9def-d5b1f66e1c4a"
      },
      "execution_count": 11,
      "outputs": [
        {
          "output_type": "execute_result",
          "data": {
            "text/plain": [
              "aluno                  object\n",
              "idade                   int64\n",
              "cidade                 object\n",
              "aniversario    datetime64[ns]\n",
              "dtype: object"
            ]
          },
          "metadata": {},
          "execution_count": 11
        }
      ]
    },
    {
      "cell_type": "code",
      "source": [
        "# Verificando como ficou a data após a transformação\n",
        "\n",
        "df.head(3)"
      ],
      "metadata": {
        "id": "HDoN-r4WbL0S",
        "colab": {
          "base_uri": "https://localhost:8080/",
          "height": 143
        },
        "outputId": "6e3ab752-5a9b-4af4-d425-b441d61f4205"
      },
      "execution_count": 12,
      "outputs": [
        {
          "output_type": "execute_result",
          "data": {
            "text/plain": [
              "     aluno  idade     cidade aniversario\n",
              "0     João     20  São Paulo  2002-10-04\n",
              "1  Ribeiro     29   São João  2003-02-20\n",
              "2   Evaldo     22     Pinhal         NaT"
            ],
            "text/html": [
              "\n",
              "  <div id=\"df-4c5f8398-947b-43f1-9861-b09ce29b5121\">\n",
              "    <div class=\"colab-df-container\">\n",
              "      <div>\n",
              "<style scoped>\n",
              "    .dataframe tbody tr th:only-of-type {\n",
              "        vertical-align: middle;\n",
              "    }\n",
              "\n",
              "    .dataframe tbody tr th {\n",
              "        vertical-align: top;\n",
              "    }\n",
              "\n",
              "    .dataframe thead th {\n",
              "        text-align: right;\n",
              "    }\n",
              "</style>\n",
              "<table border=\"1\" class=\"dataframe\">\n",
              "  <thead>\n",
              "    <tr style=\"text-align: right;\">\n",
              "      <th></th>\n",
              "      <th>aluno</th>\n",
              "      <th>idade</th>\n",
              "      <th>cidade</th>\n",
              "      <th>aniversario</th>\n",
              "    </tr>\n",
              "  </thead>\n",
              "  <tbody>\n",
              "    <tr>\n",
              "      <th>0</th>\n",
              "      <td>João</td>\n",
              "      <td>20</td>\n",
              "      <td>São Paulo</td>\n",
              "      <td>2002-10-04</td>\n",
              "    </tr>\n",
              "    <tr>\n",
              "      <th>1</th>\n",
              "      <td>Ribeiro</td>\n",
              "      <td>29</td>\n",
              "      <td>São João</td>\n",
              "      <td>2003-02-20</td>\n",
              "    </tr>\n",
              "    <tr>\n",
              "      <th>2</th>\n",
              "      <td>Evaldo</td>\n",
              "      <td>22</td>\n",
              "      <td>Pinhal</td>\n",
              "      <td>NaT</td>\n",
              "    </tr>\n",
              "  </tbody>\n",
              "</table>\n",
              "</div>\n",
              "      <button class=\"colab-df-convert\" onclick=\"convertToInteractive('df-4c5f8398-947b-43f1-9861-b09ce29b5121')\"\n",
              "              title=\"Convert this dataframe to an interactive table.\"\n",
              "              style=\"display:none;\">\n",
              "        \n",
              "  <svg xmlns=\"http://www.w3.org/2000/svg\" height=\"24px\"viewBox=\"0 0 24 24\"\n",
              "       width=\"24px\">\n",
              "    <path d=\"M0 0h24v24H0V0z\" fill=\"none\"/>\n",
              "    <path d=\"M18.56 5.44l.94 2.06.94-2.06 2.06-.94-2.06-.94-.94-2.06-.94 2.06-2.06.94zm-11 1L8.5 8.5l.94-2.06 2.06-.94-2.06-.94L8.5 2.5l-.94 2.06-2.06.94zm10 10l.94 2.06.94-2.06 2.06-.94-2.06-.94-.94-2.06-.94 2.06-2.06.94z\"/><path d=\"M17.41 7.96l-1.37-1.37c-.4-.4-.92-.59-1.43-.59-.52 0-1.04.2-1.43.59L10.3 9.45l-7.72 7.72c-.78.78-.78 2.05 0 2.83L4 21.41c.39.39.9.59 1.41.59.51 0 1.02-.2 1.41-.59l7.78-7.78 2.81-2.81c.8-.78.8-2.07 0-2.86zM5.41 20L4 18.59l7.72-7.72 1.47 1.35L5.41 20z\"/>\n",
              "  </svg>\n",
              "      </button>\n",
              "      \n",
              "  <style>\n",
              "    .colab-df-container {\n",
              "      display:flex;\n",
              "      flex-wrap:wrap;\n",
              "      gap: 12px;\n",
              "    }\n",
              "\n",
              "    .colab-df-convert {\n",
              "      background-color: #E8F0FE;\n",
              "      border: none;\n",
              "      border-radius: 50%;\n",
              "      cursor: pointer;\n",
              "      display: none;\n",
              "      fill: #1967D2;\n",
              "      height: 32px;\n",
              "      padding: 0 0 0 0;\n",
              "      width: 32px;\n",
              "    }\n",
              "\n",
              "    .colab-df-convert:hover {\n",
              "      background-color: #E2EBFA;\n",
              "      box-shadow: 0px 1px 2px rgba(60, 64, 67, 0.3), 0px 1px 3px 1px rgba(60, 64, 67, 0.15);\n",
              "      fill: #174EA6;\n",
              "    }\n",
              "\n",
              "    [theme=dark] .colab-df-convert {\n",
              "      background-color: #3B4455;\n",
              "      fill: #D2E3FC;\n",
              "    }\n",
              "\n",
              "    [theme=dark] .colab-df-convert:hover {\n",
              "      background-color: #434B5C;\n",
              "      box-shadow: 0px 1px 3px 1px rgba(0, 0, 0, 0.15);\n",
              "      filter: drop-shadow(0px 1px 2px rgba(0, 0, 0, 0.3));\n",
              "      fill: #FFFFFF;\n",
              "    }\n",
              "  </style>\n",
              "\n",
              "      <script>\n",
              "        const buttonEl =\n",
              "          document.querySelector('#df-4c5f8398-947b-43f1-9861-b09ce29b5121 button.colab-df-convert');\n",
              "        buttonEl.style.display =\n",
              "          google.colab.kernel.accessAllowed ? 'block' : 'none';\n",
              "\n",
              "        async function convertToInteractive(key) {\n",
              "          const element = document.querySelector('#df-4c5f8398-947b-43f1-9861-b09ce29b5121');\n",
              "          const dataTable =\n",
              "            await google.colab.kernel.invokeFunction('convertToInteractive',\n",
              "                                                     [key], {});\n",
              "          if (!dataTable) return;\n",
              "\n",
              "          const docLinkHtml = 'Like what you see? Visit the ' +\n",
              "            '<a target=\"_blank\" href=https://colab.research.google.com/notebooks/data_table.ipynb>data table notebook</a>'\n",
              "            + ' to learn more about interactive tables.';\n",
              "          element.innerHTML = '';\n",
              "          dataTable['output_type'] = 'display_data';\n",
              "          await google.colab.output.renderOutput(dataTable, element);\n",
              "          const docLink = document.createElement('div');\n",
              "          docLink.innerHTML = docLinkHtml;\n",
              "          element.appendChild(docLink);\n",
              "        }\n",
              "      </script>\n",
              "    </div>\n",
              "  </div>\n",
              "  "
            ]
          },
          "metadata": {},
          "execution_count": 12
        }
      ]
    },
    {
      "cell_type": "code",
      "source": [
        "# Verificando os rótulos das colunas\n",
        "\n",
        "df.columns.values"
      ],
      "metadata": {
        "id": "mYkHL6OFUKoA",
        "colab": {
          "base_uri": "https://localhost:8080/"
        },
        "outputId": "2381cdc1-3e68-46a8-ed61-a4beb7c5d9da"
      },
      "execution_count": 13,
      "outputs": [
        {
          "output_type": "execute_result",
          "data": {
            "text/plain": [
              "array(['aluno', 'idade', 'cidade', 'aniversario'], dtype=object)"
            ]
          },
          "metadata": {},
          "execution_count": 13
        }
      ]
    },
    {
      "cell_type": "code",
      "source": [
        "# Recuperando somente os valores\n",
        "\n",
        "print( df.values )"
      ],
      "metadata": {
        "id": "qVOfYKirj54h",
        "colab": {
          "base_uri": "https://localhost:8080/"
        },
        "outputId": "4f06cd16-7f94-4757-9416-357e63016e86"
      },
      "execution_count": 14,
      "outputs": [
        {
          "output_type": "stream",
          "name": "stdout",
          "text": [
            "[['João' 20 'São Paulo' Timestamp('2002-10-04 00:00:00')]\n",
            " ['Ribeiro' 29 'São João' Timestamp('2003-02-20 00:00:00')]\n",
            " ['Evaldo' 22 'Pinhal' NaT]\n",
            " ['Isaias' 21 'Mococa' Timestamp('2000-04-20 00:00:00')]\n",
            " ['Jessyca' 35 'Poços' Timestamp('1987-12-12 00:00:00')]\n",
            " ['Anne' 32 'Botelhos' Timestamp('2000-01-01 00:00:00')]\n",
            " ['Luiz' 40 'Pinhal' NaT]]\n"
          ]
        }
      ]
    },
    {
      "cell_type": "markdown",
      "source": [
        "Buscando valores com condição \"WHERE\"\n",
        "\n",
        "Ou seja... dado um dataset qualquer ou amostragem de dados, retorne apenas os dados que satisfazem a condição 'X'"
      ],
      "metadata": {
        "id": "yNvU1Ylvcghq"
      }
    },
    {
      "cell_type": "code",
      "source": [
        "df"
      ],
      "metadata": {
        "colab": {
          "base_uri": "https://localhost:8080/",
          "height": 269
        },
        "id": "QXvhNv_JvV0E",
        "outputId": "f3205fdd-713a-46e5-e773-28a87d65a770"
      },
      "execution_count": 15,
      "outputs": [
        {
          "output_type": "execute_result",
          "data": {
            "text/plain": [
              "     aluno  idade     cidade aniversario\n",
              "0     João     20  São Paulo  2002-10-04\n",
              "1  Ribeiro     29   São João  2003-02-20\n",
              "2   Evaldo     22     Pinhal         NaT\n",
              "3   Isaias     21     Mococa  2000-04-20\n",
              "4  Jessyca     35      Poços  1987-12-12\n",
              "5     Anne     32   Botelhos  2000-01-01\n",
              "6     Luiz     40     Pinhal         NaT"
            ],
            "text/html": [
              "\n",
              "  <div id=\"df-2714ef4a-0095-47ac-991f-2da3445da4d9\">\n",
              "    <div class=\"colab-df-container\">\n",
              "      <div>\n",
              "<style scoped>\n",
              "    .dataframe tbody tr th:only-of-type {\n",
              "        vertical-align: middle;\n",
              "    }\n",
              "\n",
              "    .dataframe tbody tr th {\n",
              "        vertical-align: top;\n",
              "    }\n",
              "\n",
              "    .dataframe thead th {\n",
              "        text-align: right;\n",
              "    }\n",
              "</style>\n",
              "<table border=\"1\" class=\"dataframe\">\n",
              "  <thead>\n",
              "    <tr style=\"text-align: right;\">\n",
              "      <th></th>\n",
              "      <th>aluno</th>\n",
              "      <th>idade</th>\n",
              "      <th>cidade</th>\n",
              "      <th>aniversario</th>\n",
              "    </tr>\n",
              "  </thead>\n",
              "  <tbody>\n",
              "    <tr>\n",
              "      <th>0</th>\n",
              "      <td>João</td>\n",
              "      <td>20</td>\n",
              "      <td>São Paulo</td>\n",
              "      <td>2002-10-04</td>\n",
              "    </tr>\n",
              "    <tr>\n",
              "      <th>1</th>\n",
              "      <td>Ribeiro</td>\n",
              "      <td>29</td>\n",
              "      <td>São João</td>\n",
              "      <td>2003-02-20</td>\n",
              "    </tr>\n",
              "    <tr>\n",
              "      <th>2</th>\n",
              "      <td>Evaldo</td>\n",
              "      <td>22</td>\n",
              "      <td>Pinhal</td>\n",
              "      <td>NaT</td>\n",
              "    </tr>\n",
              "    <tr>\n",
              "      <th>3</th>\n",
              "      <td>Isaias</td>\n",
              "      <td>21</td>\n",
              "      <td>Mococa</td>\n",
              "      <td>2000-04-20</td>\n",
              "    </tr>\n",
              "    <tr>\n",
              "      <th>4</th>\n",
              "      <td>Jessyca</td>\n",
              "      <td>35</td>\n",
              "      <td>Poços</td>\n",
              "      <td>1987-12-12</td>\n",
              "    </tr>\n",
              "    <tr>\n",
              "      <th>5</th>\n",
              "      <td>Anne</td>\n",
              "      <td>32</td>\n",
              "      <td>Botelhos</td>\n",
              "      <td>2000-01-01</td>\n",
              "    </tr>\n",
              "    <tr>\n",
              "      <th>6</th>\n",
              "      <td>Luiz</td>\n",
              "      <td>40</td>\n",
              "      <td>Pinhal</td>\n",
              "      <td>NaT</td>\n",
              "    </tr>\n",
              "  </tbody>\n",
              "</table>\n",
              "</div>\n",
              "      <button class=\"colab-df-convert\" onclick=\"convertToInteractive('df-2714ef4a-0095-47ac-991f-2da3445da4d9')\"\n",
              "              title=\"Convert this dataframe to an interactive table.\"\n",
              "              style=\"display:none;\">\n",
              "        \n",
              "  <svg xmlns=\"http://www.w3.org/2000/svg\" height=\"24px\"viewBox=\"0 0 24 24\"\n",
              "       width=\"24px\">\n",
              "    <path d=\"M0 0h24v24H0V0z\" fill=\"none\"/>\n",
              "    <path d=\"M18.56 5.44l.94 2.06.94-2.06 2.06-.94-2.06-.94-.94-2.06-.94 2.06-2.06.94zm-11 1L8.5 8.5l.94-2.06 2.06-.94-2.06-.94L8.5 2.5l-.94 2.06-2.06.94zm10 10l.94 2.06.94-2.06 2.06-.94-2.06-.94-.94-2.06-.94 2.06-2.06.94z\"/><path d=\"M17.41 7.96l-1.37-1.37c-.4-.4-.92-.59-1.43-.59-.52 0-1.04.2-1.43.59L10.3 9.45l-7.72 7.72c-.78.78-.78 2.05 0 2.83L4 21.41c.39.39.9.59 1.41.59.51 0 1.02-.2 1.41-.59l7.78-7.78 2.81-2.81c.8-.78.8-2.07 0-2.86zM5.41 20L4 18.59l7.72-7.72 1.47 1.35L5.41 20z\"/>\n",
              "  </svg>\n",
              "      </button>\n",
              "      \n",
              "  <style>\n",
              "    .colab-df-container {\n",
              "      display:flex;\n",
              "      flex-wrap:wrap;\n",
              "      gap: 12px;\n",
              "    }\n",
              "\n",
              "    .colab-df-convert {\n",
              "      background-color: #E8F0FE;\n",
              "      border: none;\n",
              "      border-radius: 50%;\n",
              "      cursor: pointer;\n",
              "      display: none;\n",
              "      fill: #1967D2;\n",
              "      height: 32px;\n",
              "      padding: 0 0 0 0;\n",
              "      width: 32px;\n",
              "    }\n",
              "\n",
              "    .colab-df-convert:hover {\n",
              "      background-color: #E2EBFA;\n",
              "      box-shadow: 0px 1px 2px rgba(60, 64, 67, 0.3), 0px 1px 3px 1px rgba(60, 64, 67, 0.15);\n",
              "      fill: #174EA6;\n",
              "    }\n",
              "\n",
              "    [theme=dark] .colab-df-convert {\n",
              "      background-color: #3B4455;\n",
              "      fill: #D2E3FC;\n",
              "    }\n",
              "\n",
              "    [theme=dark] .colab-df-convert:hover {\n",
              "      background-color: #434B5C;\n",
              "      box-shadow: 0px 1px 3px 1px rgba(0, 0, 0, 0.15);\n",
              "      filter: drop-shadow(0px 1px 2px rgba(0, 0, 0, 0.3));\n",
              "      fill: #FFFFFF;\n",
              "    }\n",
              "  </style>\n",
              "\n",
              "      <script>\n",
              "        const buttonEl =\n",
              "          document.querySelector('#df-2714ef4a-0095-47ac-991f-2da3445da4d9 button.colab-df-convert');\n",
              "        buttonEl.style.display =\n",
              "          google.colab.kernel.accessAllowed ? 'block' : 'none';\n",
              "\n",
              "        async function convertToInteractive(key) {\n",
              "          const element = document.querySelector('#df-2714ef4a-0095-47ac-991f-2da3445da4d9');\n",
              "          const dataTable =\n",
              "            await google.colab.kernel.invokeFunction('convertToInteractive',\n",
              "                                                     [key], {});\n",
              "          if (!dataTable) return;\n",
              "\n",
              "          const docLinkHtml = 'Like what you see? Visit the ' +\n",
              "            '<a target=\"_blank\" href=https://colab.research.google.com/notebooks/data_table.ipynb>data table notebook</a>'\n",
              "            + ' to learn more about interactive tables.';\n",
              "          element.innerHTML = '';\n",
              "          dataTable['output_type'] = 'display_data';\n",
              "          await google.colab.output.renderOutput(dataTable, element);\n",
              "          const docLink = document.createElement('div');\n",
              "          docLink.innerHTML = docLinkHtml;\n",
              "          element.appendChild(docLink);\n",
              "        }\n",
              "      </script>\n",
              "    </div>\n",
              "  </div>\n",
              "  "
            ]
          },
          "metadata": {},
          "execution_count": 15
        }
      ]
    },
    {
      "cell_type": "code",
      "source": [
        "# 1. Utilizando o método query() para retornar idades menores que 25 anos\n",
        "\n",
        "df.query( 'idade < 25' )"
      ],
      "metadata": {
        "id": "RjjqxWBfcVNW",
        "colab": {
          "base_uri": "https://localhost:8080/",
          "height": 143
        },
        "outputId": "ef3b3e4e-3376-4283-f261-853de6ad4051"
      },
      "execution_count": 16,
      "outputs": [
        {
          "output_type": "execute_result",
          "data": {
            "text/plain": [
              "    aluno  idade     cidade aniversario\n",
              "0    João     20  São Paulo  2002-10-04\n",
              "2  Evaldo     22     Pinhal         NaT\n",
              "3  Isaias     21     Mococa  2000-04-20"
            ],
            "text/html": [
              "\n",
              "  <div id=\"df-b29b1d56-a0b5-4622-a2bc-064c1f5d8475\">\n",
              "    <div class=\"colab-df-container\">\n",
              "      <div>\n",
              "<style scoped>\n",
              "    .dataframe tbody tr th:only-of-type {\n",
              "        vertical-align: middle;\n",
              "    }\n",
              "\n",
              "    .dataframe tbody tr th {\n",
              "        vertical-align: top;\n",
              "    }\n",
              "\n",
              "    .dataframe thead th {\n",
              "        text-align: right;\n",
              "    }\n",
              "</style>\n",
              "<table border=\"1\" class=\"dataframe\">\n",
              "  <thead>\n",
              "    <tr style=\"text-align: right;\">\n",
              "      <th></th>\n",
              "      <th>aluno</th>\n",
              "      <th>idade</th>\n",
              "      <th>cidade</th>\n",
              "      <th>aniversario</th>\n",
              "    </tr>\n",
              "  </thead>\n",
              "  <tbody>\n",
              "    <tr>\n",
              "      <th>0</th>\n",
              "      <td>João</td>\n",
              "      <td>20</td>\n",
              "      <td>São Paulo</td>\n",
              "      <td>2002-10-04</td>\n",
              "    </tr>\n",
              "    <tr>\n",
              "      <th>2</th>\n",
              "      <td>Evaldo</td>\n",
              "      <td>22</td>\n",
              "      <td>Pinhal</td>\n",
              "      <td>NaT</td>\n",
              "    </tr>\n",
              "    <tr>\n",
              "      <th>3</th>\n",
              "      <td>Isaias</td>\n",
              "      <td>21</td>\n",
              "      <td>Mococa</td>\n",
              "      <td>2000-04-20</td>\n",
              "    </tr>\n",
              "  </tbody>\n",
              "</table>\n",
              "</div>\n",
              "      <button class=\"colab-df-convert\" onclick=\"convertToInteractive('df-b29b1d56-a0b5-4622-a2bc-064c1f5d8475')\"\n",
              "              title=\"Convert this dataframe to an interactive table.\"\n",
              "              style=\"display:none;\">\n",
              "        \n",
              "  <svg xmlns=\"http://www.w3.org/2000/svg\" height=\"24px\"viewBox=\"0 0 24 24\"\n",
              "       width=\"24px\">\n",
              "    <path d=\"M0 0h24v24H0V0z\" fill=\"none\"/>\n",
              "    <path d=\"M18.56 5.44l.94 2.06.94-2.06 2.06-.94-2.06-.94-.94-2.06-.94 2.06-2.06.94zm-11 1L8.5 8.5l.94-2.06 2.06-.94-2.06-.94L8.5 2.5l-.94 2.06-2.06.94zm10 10l.94 2.06.94-2.06 2.06-.94-2.06-.94-.94-2.06-.94 2.06-2.06.94z\"/><path d=\"M17.41 7.96l-1.37-1.37c-.4-.4-.92-.59-1.43-.59-.52 0-1.04.2-1.43.59L10.3 9.45l-7.72 7.72c-.78.78-.78 2.05 0 2.83L4 21.41c.39.39.9.59 1.41.59.51 0 1.02-.2 1.41-.59l7.78-7.78 2.81-2.81c.8-.78.8-2.07 0-2.86zM5.41 20L4 18.59l7.72-7.72 1.47 1.35L5.41 20z\"/>\n",
              "  </svg>\n",
              "      </button>\n",
              "      \n",
              "  <style>\n",
              "    .colab-df-container {\n",
              "      display:flex;\n",
              "      flex-wrap:wrap;\n",
              "      gap: 12px;\n",
              "    }\n",
              "\n",
              "    .colab-df-convert {\n",
              "      background-color: #E8F0FE;\n",
              "      border: none;\n",
              "      border-radius: 50%;\n",
              "      cursor: pointer;\n",
              "      display: none;\n",
              "      fill: #1967D2;\n",
              "      height: 32px;\n",
              "      padding: 0 0 0 0;\n",
              "      width: 32px;\n",
              "    }\n",
              "\n",
              "    .colab-df-convert:hover {\n",
              "      background-color: #E2EBFA;\n",
              "      box-shadow: 0px 1px 2px rgba(60, 64, 67, 0.3), 0px 1px 3px 1px rgba(60, 64, 67, 0.15);\n",
              "      fill: #174EA6;\n",
              "    }\n",
              "\n",
              "    [theme=dark] .colab-df-convert {\n",
              "      background-color: #3B4455;\n",
              "      fill: #D2E3FC;\n",
              "    }\n",
              "\n",
              "    [theme=dark] .colab-df-convert:hover {\n",
              "      background-color: #434B5C;\n",
              "      box-shadow: 0px 1px 3px 1px rgba(0, 0, 0, 0.15);\n",
              "      filter: drop-shadow(0px 1px 2px rgba(0, 0, 0, 0.3));\n",
              "      fill: #FFFFFF;\n",
              "    }\n",
              "  </style>\n",
              "\n",
              "      <script>\n",
              "        const buttonEl =\n",
              "          document.querySelector('#df-b29b1d56-a0b5-4622-a2bc-064c1f5d8475 button.colab-df-convert');\n",
              "        buttonEl.style.display =\n",
              "          google.colab.kernel.accessAllowed ? 'block' : 'none';\n",
              "\n",
              "        async function convertToInteractive(key) {\n",
              "          const element = document.querySelector('#df-b29b1d56-a0b5-4622-a2bc-064c1f5d8475');\n",
              "          const dataTable =\n",
              "            await google.colab.kernel.invokeFunction('convertToInteractive',\n",
              "                                                     [key], {});\n",
              "          if (!dataTable) return;\n",
              "\n",
              "          const docLinkHtml = 'Like what you see? Visit the ' +\n",
              "            '<a target=\"_blank\" href=https://colab.research.google.com/notebooks/data_table.ipynb>data table notebook</a>'\n",
              "            + ' to learn more about interactive tables.';\n",
              "          element.innerHTML = '';\n",
              "          dataTable['output_type'] = 'display_data';\n",
              "          await google.colab.output.renderOutput(dataTable, element);\n",
              "          const docLink = document.createElement('div');\n",
              "          docLink.innerHTML = docLinkHtml;\n",
              "          element.appendChild(docLink);\n",
              "        }\n",
              "      </script>\n",
              "    </div>\n",
              "  </div>\n",
              "  "
            ]
          },
          "metadata": {},
          "execution_count": 16
        }
      ]
    },
    {
      "cell_type": "code",
      "source": [
        "# 1. Utilizando o método query() para retornar idades menores que 25 E maior que 20\n",
        " \n",
        "df.query( 'idade > 20 & idade < 25' )"
      ],
      "metadata": {
        "id": "b3JI0BbQcvoZ",
        "colab": {
          "base_uri": "https://localhost:8080/",
          "height": 112
        },
        "outputId": "0684ce91-1eaa-4973-b3ac-6f4aed6f23ba"
      },
      "execution_count": 17,
      "outputs": [
        {
          "output_type": "execute_result",
          "data": {
            "text/plain": [
              "    aluno  idade  cidade aniversario\n",
              "2  Evaldo     22  Pinhal         NaT\n",
              "3  Isaias     21  Mococa  2000-04-20"
            ],
            "text/html": [
              "\n",
              "  <div id=\"df-cbe09301-445b-4a3d-8f66-978cf48d0d71\">\n",
              "    <div class=\"colab-df-container\">\n",
              "      <div>\n",
              "<style scoped>\n",
              "    .dataframe tbody tr th:only-of-type {\n",
              "        vertical-align: middle;\n",
              "    }\n",
              "\n",
              "    .dataframe tbody tr th {\n",
              "        vertical-align: top;\n",
              "    }\n",
              "\n",
              "    .dataframe thead th {\n",
              "        text-align: right;\n",
              "    }\n",
              "</style>\n",
              "<table border=\"1\" class=\"dataframe\">\n",
              "  <thead>\n",
              "    <tr style=\"text-align: right;\">\n",
              "      <th></th>\n",
              "      <th>aluno</th>\n",
              "      <th>idade</th>\n",
              "      <th>cidade</th>\n",
              "      <th>aniversario</th>\n",
              "    </tr>\n",
              "  </thead>\n",
              "  <tbody>\n",
              "    <tr>\n",
              "      <th>2</th>\n",
              "      <td>Evaldo</td>\n",
              "      <td>22</td>\n",
              "      <td>Pinhal</td>\n",
              "      <td>NaT</td>\n",
              "    </tr>\n",
              "    <tr>\n",
              "      <th>3</th>\n",
              "      <td>Isaias</td>\n",
              "      <td>21</td>\n",
              "      <td>Mococa</td>\n",
              "      <td>2000-04-20</td>\n",
              "    </tr>\n",
              "  </tbody>\n",
              "</table>\n",
              "</div>\n",
              "      <button class=\"colab-df-convert\" onclick=\"convertToInteractive('df-cbe09301-445b-4a3d-8f66-978cf48d0d71')\"\n",
              "              title=\"Convert this dataframe to an interactive table.\"\n",
              "              style=\"display:none;\">\n",
              "        \n",
              "  <svg xmlns=\"http://www.w3.org/2000/svg\" height=\"24px\"viewBox=\"0 0 24 24\"\n",
              "       width=\"24px\">\n",
              "    <path d=\"M0 0h24v24H0V0z\" fill=\"none\"/>\n",
              "    <path d=\"M18.56 5.44l.94 2.06.94-2.06 2.06-.94-2.06-.94-.94-2.06-.94 2.06-2.06.94zm-11 1L8.5 8.5l.94-2.06 2.06-.94-2.06-.94L8.5 2.5l-.94 2.06-2.06.94zm10 10l.94 2.06.94-2.06 2.06-.94-2.06-.94-.94-2.06-.94 2.06-2.06.94z\"/><path d=\"M17.41 7.96l-1.37-1.37c-.4-.4-.92-.59-1.43-.59-.52 0-1.04.2-1.43.59L10.3 9.45l-7.72 7.72c-.78.78-.78 2.05 0 2.83L4 21.41c.39.39.9.59 1.41.59.51 0 1.02-.2 1.41-.59l7.78-7.78 2.81-2.81c.8-.78.8-2.07 0-2.86zM5.41 20L4 18.59l7.72-7.72 1.47 1.35L5.41 20z\"/>\n",
              "  </svg>\n",
              "      </button>\n",
              "      \n",
              "  <style>\n",
              "    .colab-df-container {\n",
              "      display:flex;\n",
              "      flex-wrap:wrap;\n",
              "      gap: 12px;\n",
              "    }\n",
              "\n",
              "    .colab-df-convert {\n",
              "      background-color: #E8F0FE;\n",
              "      border: none;\n",
              "      border-radius: 50%;\n",
              "      cursor: pointer;\n",
              "      display: none;\n",
              "      fill: #1967D2;\n",
              "      height: 32px;\n",
              "      padding: 0 0 0 0;\n",
              "      width: 32px;\n",
              "    }\n",
              "\n",
              "    .colab-df-convert:hover {\n",
              "      background-color: #E2EBFA;\n",
              "      box-shadow: 0px 1px 2px rgba(60, 64, 67, 0.3), 0px 1px 3px 1px rgba(60, 64, 67, 0.15);\n",
              "      fill: #174EA6;\n",
              "    }\n",
              "\n",
              "    [theme=dark] .colab-df-convert {\n",
              "      background-color: #3B4455;\n",
              "      fill: #D2E3FC;\n",
              "    }\n",
              "\n",
              "    [theme=dark] .colab-df-convert:hover {\n",
              "      background-color: #434B5C;\n",
              "      box-shadow: 0px 1px 3px 1px rgba(0, 0, 0, 0.15);\n",
              "      filter: drop-shadow(0px 1px 2px rgba(0, 0, 0, 0.3));\n",
              "      fill: #FFFFFF;\n",
              "    }\n",
              "  </style>\n",
              "\n",
              "      <script>\n",
              "        const buttonEl =\n",
              "          document.querySelector('#df-cbe09301-445b-4a3d-8f66-978cf48d0d71 button.colab-df-convert');\n",
              "        buttonEl.style.display =\n",
              "          google.colab.kernel.accessAllowed ? 'block' : 'none';\n",
              "\n",
              "        async function convertToInteractive(key) {\n",
              "          const element = document.querySelector('#df-cbe09301-445b-4a3d-8f66-978cf48d0d71');\n",
              "          const dataTable =\n",
              "            await google.colab.kernel.invokeFunction('convertToInteractive',\n",
              "                                                     [key], {});\n",
              "          if (!dataTable) return;\n",
              "\n",
              "          const docLinkHtml = 'Like what you see? Visit the ' +\n",
              "            '<a target=\"_blank\" href=https://colab.research.google.com/notebooks/data_table.ipynb>data table notebook</a>'\n",
              "            + ' to learn more about interactive tables.';\n",
              "          element.innerHTML = '';\n",
              "          dataTable['output_type'] = 'display_data';\n",
              "          await google.colab.output.renderOutput(dataTable, element);\n",
              "          const docLink = document.createElement('div');\n",
              "          docLink.innerHTML = docLinkHtml;\n",
              "          element.appendChild(docLink);\n",
              "        }\n",
              "      </script>\n",
              "    </div>\n",
              "  </div>\n",
              "  "
            ]
          },
          "metadata": {},
          "execution_count": 17
        }
      ]
    },
    {
      "cell_type": "code",
      "source": [
        "# 1. Utilizando o método query() para retornar datas até 1995\n",
        "\n",
        "df.query( 'aniversario < \"01-01-1995\"' )  # repare nas aspas duplas entre as datas"
      ],
      "metadata": {
        "id": "jV5-8SdCbhQn",
        "colab": {
          "base_uri": "https://localhost:8080/",
          "height": 81
        },
        "outputId": "081b0460-c39a-4039-94af-180410d832d7"
      },
      "execution_count": 18,
      "outputs": [
        {
          "output_type": "execute_result",
          "data": {
            "text/plain": [
              "     aluno  idade cidade aniversario\n",
              "4  Jessyca     35  Poços  1987-12-12"
            ],
            "text/html": [
              "\n",
              "  <div id=\"df-bdba5611-82e4-420c-ab1e-2e72d2855d26\">\n",
              "    <div class=\"colab-df-container\">\n",
              "      <div>\n",
              "<style scoped>\n",
              "    .dataframe tbody tr th:only-of-type {\n",
              "        vertical-align: middle;\n",
              "    }\n",
              "\n",
              "    .dataframe tbody tr th {\n",
              "        vertical-align: top;\n",
              "    }\n",
              "\n",
              "    .dataframe thead th {\n",
              "        text-align: right;\n",
              "    }\n",
              "</style>\n",
              "<table border=\"1\" class=\"dataframe\">\n",
              "  <thead>\n",
              "    <tr style=\"text-align: right;\">\n",
              "      <th></th>\n",
              "      <th>aluno</th>\n",
              "      <th>idade</th>\n",
              "      <th>cidade</th>\n",
              "      <th>aniversario</th>\n",
              "    </tr>\n",
              "  </thead>\n",
              "  <tbody>\n",
              "    <tr>\n",
              "      <th>4</th>\n",
              "      <td>Jessyca</td>\n",
              "      <td>35</td>\n",
              "      <td>Poços</td>\n",
              "      <td>1987-12-12</td>\n",
              "    </tr>\n",
              "  </tbody>\n",
              "</table>\n",
              "</div>\n",
              "      <button class=\"colab-df-convert\" onclick=\"convertToInteractive('df-bdba5611-82e4-420c-ab1e-2e72d2855d26')\"\n",
              "              title=\"Convert this dataframe to an interactive table.\"\n",
              "              style=\"display:none;\">\n",
              "        \n",
              "  <svg xmlns=\"http://www.w3.org/2000/svg\" height=\"24px\"viewBox=\"0 0 24 24\"\n",
              "       width=\"24px\">\n",
              "    <path d=\"M0 0h24v24H0V0z\" fill=\"none\"/>\n",
              "    <path d=\"M18.56 5.44l.94 2.06.94-2.06 2.06-.94-2.06-.94-.94-2.06-.94 2.06-2.06.94zm-11 1L8.5 8.5l.94-2.06 2.06-.94-2.06-.94L8.5 2.5l-.94 2.06-2.06.94zm10 10l.94 2.06.94-2.06 2.06-.94-2.06-.94-.94-2.06-.94 2.06-2.06.94z\"/><path d=\"M17.41 7.96l-1.37-1.37c-.4-.4-.92-.59-1.43-.59-.52 0-1.04.2-1.43.59L10.3 9.45l-7.72 7.72c-.78.78-.78 2.05 0 2.83L4 21.41c.39.39.9.59 1.41.59.51 0 1.02-.2 1.41-.59l7.78-7.78 2.81-2.81c.8-.78.8-2.07 0-2.86zM5.41 20L4 18.59l7.72-7.72 1.47 1.35L5.41 20z\"/>\n",
              "  </svg>\n",
              "      </button>\n",
              "      \n",
              "  <style>\n",
              "    .colab-df-container {\n",
              "      display:flex;\n",
              "      flex-wrap:wrap;\n",
              "      gap: 12px;\n",
              "    }\n",
              "\n",
              "    .colab-df-convert {\n",
              "      background-color: #E8F0FE;\n",
              "      border: none;\n",
              "      border-radius: 50%;\n",
              "      cursor: pointer;\n",
              "      display: none;\n",
              "      fill: #1967D2;\n",
              "      height: 32px;\n",
              "      padding: 0 0 0 0;\n",
              "      width: 32px;\n",
              "    }\n",
              "\n",
              "    .colab-df-convert:hover {\n",
              "      background-color: #E2EBFA;\n",
              "      box-shadow: 0px 1px 2px rgba(60, 64, 67, 0.3), 0px 1px 3px 1px rgba(60, 64, 67, 0.15);\n",
              "      fill: #174EA6;\n",
              "    }\n",
              "\n",
              "    [theme=dark] .colab-df-convert {\n",
              "      background-color: #3B4455;\n",
              "      fill: #D2E3FC;\n",
              "    }\n",
              "\n",
              "    [theme=dark] .colab-df-convert:hover {\n",
              "      background-color: #434B5C;\n",
              "      box-shadow: 0px 1px 3px 1px rgba(0, 0, 0, 0.15);\n",
              "      filter: drop-shadow(0px 1px 2px rgba(0, 0, 0, 0.3));\n",
              "      fill: #FFFFFF;\n",
              "    }\n",
              "  </style>\n",
              "\n",
              "      <script>\n",
              "        const buttonEl =\n",
              "          document.querySelector('#df-bdba5611-82e4-420c-ab1e-2e72d2855d26 button.colab-df-convert');\n",
              "        buttonEl.style.display =\n",
              "          google.colab.kernel.accessAllowed ? 'block' : 'none';\n",
              "\n",
              "        async function convertToInteractive(key) {\n",
              "          const element = document.querySelector('#df-bdba5611-82e4-420c-ab1e-2e72d2855d26');\n",
              "          const dataTable =\n",
              "            await google.colab.kernel.invokeFunction('convertToInteractive',\n",
              "                                                     [key], {});\n",
              "          if (!dataTable) return;\n",
              "\n",
              "          const docLinkHtml = 'Like what you see? Visit the ' +\n",
              "            '<a target=\"_blank\" href=https://colab.research.google.com/notebooks/data_table.ipynb>data table notebook</a>'\n",
              "            + ' to learn more about interactive tables.';\n",
              "          element.innerHTML = '';\n",
              "          dataTable['output_type'] = 'display_data';\n",
              "          await google.colab.output.renderOutput(dataTable, element);\n",
              "          const docLink = document.createElement('div');\n",
              "          docLink.innerHTML = docLinkHtml;\n",
              "          element.appendChild(docLink);\n",
              "        }\n",
              "      </script>\n",
              "    </div>\n",
              "  </div>\n",
              "  "
            ]
          },
          "metadata": {},
          "execution_count": 18
        }
      ]
    },
    {
      "cell_type": "code",
      "source": [
        "# 2. Utilizando o método .loc[] para buscar quem mora em pinhal\n",
        "\n",
        "df.loc[ df['cidade'] == 'Pinhal' ]"
      ],
      "metadata": {
        "id": "2YajCUSXdTXK",
        "colab": {
          "base_uri": "https://localhost:8080/",
          "height": 112
        },
        "outputId": "6ae48993-4bff-43b6-9c38-cb75e24e9abd"
      },
      "execution_count": 19,
      "outputs": [
        {
          "output_type": "execute_result",
          "data": {
            "text/plain": [
              "    aluno  idade  cidade aniversario\n",
              "2  Evaldo     22  Pinhal         NaT\n",
              "6    Luiz     40  Pinhal         NaT"
            ],
            "text/html": [
              "\n",
              "  <div id=\"df-a2d99b39-449a-48e2-bd7c-95982b5a5c2e\">\n",
              "    <div class=\"colab-df-container\">\n",
              "      <div>\n",
              "<style scoped>\n",
              "    .dataframe tbody tr th:only-of-type {\n",
              "        vertical-align: middle;\n",
              "    }\n",
              "\n",
              "    .dataframe tbody tr th {\n",
              "        vertical-align: top;\n",
              "    }\n",
              "\n",
              "    .dataframe thead th {\n",
              "        text-align: right;\n",
              "    }\n",
              "</style>\n",
              "<table border=\"1\" class=\"dataframe\">\n",
              "  <thead>\n",
              "    <tr style=\"text-align: right;\">\n",
              "      <th></th>\n",
              "      <th>aluno</th>\n",
              "      <th>idade</th>\n",
              "      <th>cidade</th>\n",
              "      <th>aniversario</th>\n",
              "    </tr>\n",
              "  </thead>\n",
              "  <tbody>\n",
              "    <tr>\n",
              "      <th>2</th>\n",
              "      <td>Evaldo</td>\n",
              "      <td>22</td>\n",
              "      <td>Pinhal</td>\n",
              "      <td>NaT</td>\n",
              "    </tr>\n",
              "    <tr>\n",
              "      <th>6</th>\n",
              "      <td>Luiz</td>\n",
              "      <td>40</td>\n",
              "      <td>Pinhal</td>\n",
              "      <td>NaT</td>\n",
              "    </tr>\n",
              "  </tbody>\n",
              "</table>\n",
              "</div>\n",
              "      <button class=\"colab-df-convert\" onclick=\"convertToInteractive('df-a2d99b39-449a-48e2-bd7c-95982b5a5c2e')\"\n",
              "              title=\"Convert this dataframe to an interactive table.\"\n",
              "              style=\"display:none;\">\n",
              "        \n",
              "  <svg xmlns=\"http://www.w3.org/2000/svg\" height=\"24px\"viewBox=\"0 0 24 24\"\n",
              "       width=\"24px\">\n",
              "    <path d=\"M0 0h24v24H0V0z\" fill=\"none\"/>\n",
              "    <path d=\"M18.56 5.44l.94 2.06.94-2.06 2.06-.94-2.06-.94-.94-2.06-.94 2.06-2.06.94zm-11 1L8.5 8.5l.94-2.06 2.06-.94-2.06-.94L8.5 2.5l-.94 2.06-2.06.94zm10 10l.94 2.06.94-2.06 2.06-.94-2.06-.94-.94-2.06-.94 2.06-2.06.94z\"/><path d=\"M17.41 7.96l-1.37-1.37c-.4-.4-.92-.59-1.43-.59-.52 0-1.04.2-1.43.59L10.3 9.45l-7.72 7.72c-.78.78-.78 2.05 0 2.83L4 21.41c.39.39.9.59 1.41.59.51 0 1.02-.2 1.41-.59l7.78-7.78 2.81-2.81c.8-.78.8-2.07 0-2.86zM5.41 20L4 18.59l7.72-7.72 1.47 1.35L5.41 20z\"/>\n",
              "  </svg>\n",
              "      </button>\n",
              "      \n",
              "  <style>\n",
              "    .colab-df-container {\n",
              "      display:flex;\n",
              "      flex-wrap:wrap;\n",
              "      gap: 12px;\n",
              "    }\n",
              "\n",
              "    .colab-df-convert {\n",
              "      background-color: #E8F0FE;\n",
              "      border: none;\n",
              "      border-radius: 50%;\n",
              "      cursor: pointer;\n",
              "      display: none;\n",
              "      fill: #1967D2;\n",
              "      height: 32px;\n",
              "      padding: 0 0 0 0;\n",
              "      width: 32px;\n",
              "    }\n",
              "\n",
              "    .colab-df-convert:hover {\n",
              "      background-color: #E2EBFA;\n",
              "      box-shadow: 0px 1px 2px rgba(60, 64, 67, 0.3), 0px 1px 3px 1px rgba(60, 64, 67, 0.15);\n",
              "      fill: #174EA6;\n",
              "    }\n",
              "\n",
              "    [theme=dark] .colab-df-convert {\n",
              "      background-color: #3B4455;\n",
              "      fill: #D2E3FC;\n",
              "    }\n",
              "\n",
              "    [theme=dark] .colab-df-convert:hover {\n",
              "      background-color: #434B5C;\n",
              "      box-shadow: 0px 1px 3px 1px rgba(0, 0, 0, 0.15);\n",
              "      filter: drop-shadow(0px 1px 2px rgba(0, 0, 0, 0.3));\n",
              "      fill: #FFFFFF;\n",
              "    }\n",
              "  </style>\n",
              "\n",
              "      <script>\n",
              "        const buttonEl =\n",
              "          document.querySelector('#df-a2d99b39-449a-48e2-bd7c-95982b5a5c2e button.colab-df-convert');\n",
              "        buttonEl.style.display =\n",
              "          google.colab.kernel.accessAllowed ? 'block' : 'none';\n",
              "\n",
              "        async function convertToInteractive(key) {\n",
              "          const element = document.querySelector('#df-a2d99b39-449a-48e2-bd7c-95982b5a5c2e');\n",
              "          const dataTable =\n",
              "            await google.colab.kernel.invokeFunction('convertToInteractive',\n",
              "                                                     [key], {});\n",
              "          if (!dataTable) return;\n",
              "\n",
              "          const docLinkHtml = 'Like what you see? Visit the ' +\n",
              "            '<a target=\"_blank\" href=https://colab.research.google.com/notebooks/data_table.ipynb>data table notebook</a>'\n",
              "            + ' to learn more about interactive tables.';\n",
              "          element.innerHTML = '';\n",
              "          dataTable['output_type'] = 'display_data';\n",
              "          await google.colab.output.renderOutput(dataTable, element);\n",
              "          const docLink = document.createElement('div');\n",
              "          docLink.innerHTML = docLinkHtml;\n",
              "          element.appendChild(docLink);\n",
              "        }\n",
              "      </script>\n",
              "    </div>\n",
              "  </div>\n",
              "  "
            ]
          },
          "metadata": {},
          "execution_count": 19
        }
      ]
    },
    {
      "cell_type": "code",
      "source": [
        "# 2. Utilizando o método .loc[] para buscar a idade de quem mora em pinhal\n",
        "\n",
        "df.loc[ df['cidade'] == 'Pinhal', ['idade'] ]"
      ],
      "metadata": {
        "id": "1BxuSBzkd8MD",
        "colab": {
          "base_uri": "https://localhost:8080/",
          "height": 112
        },
        "outputId": "81b653e7-66fd-421c-b968-7700ef1841f9"
      },
      "execution_count": 20,
      "outputs": [
        {
          "output_type": "execute_result",
          "data": {
            "text/plain": [
              "   idade\n",
              "2     22\n",
              "6     40"
            ],
            "text/html": [
              "\n",
              "  <div id=\"df-5d0971df-3860-43ba-92db-195e2239fc6c\">\n",
              "    <div class=\"colab-df-container\">\n",
              "      <div>\n",
              "<style scoped>\n",
              "    .dataframe tbody tr th:only-of-type {\n",
              "        vertical-align: middle;\n",
              "    }\n",
              "\n",
              "    .dataframe tbody tr th {\n",
              "        vertical-align: top;\n",
              "    }\n",
              "\n",
              "    .dataframe thead th {\n",
              "        text-align: right;\n",
              "    }\n",
              "</style>\n",
              "<table border=\"1\" class=\"dataframe\">\n",
              "  <thead>\n",
              "    <tr style=\"text-align: right;\">\n",
              "      <th></th>\n",
              "      <th>idade</th>\n",
              "    </tr>\n",
              "  </thead>\n",
              "  <tbody>\n",
              "    <tr>\n",
              "      <th>2</th>\n",
              "      <td>22</td>\n",
              "    </tr>\n",
              "    <tr>\n",
              "      <th>6</th>\n",
              "      <td>40</td>\n",
              "    </tr>\n",
              "  </tbody>\n",
              "</table>\n",
              "</div>\n",
              "      <button class=\"colab-df-convert\" onclick=\"convertToInteractive('df-5d0971df-3860-43ba-92db-195e2239fc6c')\"\n",
              "              title=\"Convert this dataframe to an interactive table.\"\n",
              "              style=\"display:none;\">\n",
              "        \n",
              "  <svg xmlns=\"http://www.w3.org/2000/svg\" height=\"24px\"viewBox=\"0 0 24 24\"\n",
              "       width=\"24px\">\n",
              "    <path d=\"M0 0h24v24H0V0z\" fill=\"none\"/>\n",
              "    <path d=\"M18.56 5.44l.94 2.06.94-2.06 2.06-.94-2.06-.94-.94-2.06-.94 2.06-2.06.94zm-11 1L8.5 8.5l.94-2.06 2.06-.94-2.06-.94L8.5 2.5l-.94 2.06-2.06.94zm10 10l.94 2.06.94-2.06 2.06-.94-2.06-.94-.94-2.06-.94 2.06-2.06.94z\"/><path d=\"M17.41 7.96l-1.37-1.37c-.4-.4-.92-.59-1.43-.59-.52 0-1.04.2-1.43.59L10.3 9.45l-7.72 7.72c-.78.78-.78 2.05 0 2.83L4 21.41c.39.39.9.59 1.41.59.51 0 1.02-.2 1.41-.59l7.78-7.78 2.81-2.81c.8-.78.8-2.07 0-2.86zM5.41 20L4 18.59l7.72-7.72 1.47 1.35L5.41 20z\"/>\n",
              "  </svg>\n",
              "      </button>\n",
              "      \n",
              "  <style>\n",
              "    .colab-df-container {\n",
              "      display:flex;\n",
              "      flex-wrap:wrap;\n",
              "      gap: 12px;\n",
              "    }\n",
              "\n",
              "    .colab-df-convert {\n",
              "      background-color: #E8F0FE;\n",
              "      border: none;\n",
              "      border-radius: 50%;\n",
              "      cursor: pointer;\n",
              "      display: none;\n",
              "      fill: #1967D2;\n",
              "      height: 32px;\n",
              "      padding: 0 0 0 0;\n",
              "      width: 32px;\n",
              "    }\n",
              "\n",
              "    .colab-df-convert:hover {\n",
              "      background-color: #E2EBFA;\n",
              "      box-shadow: 0px 1px 2px rgba(60, 64, 67, 0.3), 0px 1px 3px 1px rgba(60, 64, 67, 0.15);\n",
              "      fill: #174EA6;\n",
              "    }\n",
              "\n",
              "    [theme=dark] .colab-df-convert {\n",
              "      background-color: #3B4455;\n",
              "      fill: #D2E3FC;\n",
              "    }\n",
              "\n",
              "    [theme=dark] .colab-df-convert:hover {\n",
              "      background-color: #434B5C;\n",
              "      box-shadow: 0px 1px 3px 1px rgba(0, 0, 0, 0.15);\n",
              "      filter: drop-shadow(0px 1px 2px rgba(0, 0, 0, 0.3));\n",
              "      fill: #FFFFFF;\n",
              "    }\n",
              "  </style>\n",
              "\n",
              "      <script>\n",
              "        const buttonEl =\n",
              "          document.querySelector('#df-5d0971df-3860-43ba-92db-195e2239fc6c button.colab-df-convert');\n",
              "        buttonEl.style.display =\n",
              "          google.colab.kernel.accessAllowed ? 'block' : 'none';\n",
              "\n",
              "        async function convertToInteractive(key) {\n",
              "          const element = document.querySelector('#df-5d0971df-3860-43ba-92db-195e2239fc6c');\n",
              "          const dataTable =\n",
              "            await google.colab.kernel.invokeFunction('convertToInteractive',\n",
              "                                                     [key], {});\n",
              "          if (!dataTable) return;\n",
              "\n",
              "          const docLinkHtml = 'Like what you see? Visit the ' +\n",
              "            '<a target=\"_blank\" href=https://colab.research.google.com/notebooks/data_table.ipynb>data table notebook</a>'\n",
              "            + ' to learn more about interactive tables.';\n",
              "          element.innerHTML = '';\n",
              "          dataTable['output_type'] = 'display_data';\n",
              "          await google.colab.output.renderOutput(dataTable, element);\n",
              "          const docLink = document.createElement('div');\n",
              "          docLink.innerHTML = docLinkHtml;\n",
              "          element.appendChild(docLink);\n",
              "        }\n",
              "      </script>\n",
              "    </div>\n",
              "  </div>\n",
              "  "
            ]
          },
          "metadata": {},
          "execution_count": 20
        }
      ]
    },
    {
      "cell_type": "markdown",
      "source": [
        "Outras formas de utilização do `.loc[ ]`: https://pandas.pydata.org/docs/reference/api/pandas.DataFrame.loc.html"
      ],
      "metadata": {
        "id": "BNcDGOE0eb0R"
      }
    },
    {
      "cell_type": "code",
      "source": [
        "# 3. Utilizando o método .iloc[] para buscar a linha de índice 2\n",
        "\n",
        "df.iloc[2]"
      ],
      "metadata": {
        "id": "_k7eCiNaegRZ",
        "colab": {
          "base_uri": "https://localhost:8080/"
        },
        "outputId": "6d3ddeb0-fed1-4c96-d9e6-8afcee3eeb44"
      },
      "execution_count": 21,
      "outputs": [
        {
          "output_type": "execute_result",
          "data": {
            "text/plain": [
              "aluno          Evaldo\n",
              "idade              22\n",
              "cidade         Pinhal\n",
              "aniversario       NaT\n",
              "Name: 2, dtype: object"
            ]
          },
          "metadata": {},
          "execution_count": 21
        }
      ]
    },
    {
      "cell_type": "code",
      "source": [
        "# 3. Utilizando o método .iloc[] para buscar as linhas de índice 2 e 3\n",
        "\n",
        "df.iloc[ [2, 3] ]"
      ],
      "metadata": {
        "id": "_nnC7s7aetwH",
        "colab": {
          "base_uri": "https://localhost:8080/",
          "height": 112
        },
        "outputId": "65825abb-a84a-4f42-be20-5fed0b01f18c"
      },
      "execution_count": 22,
      "outputs": [
        {
          "output_type": "execute_result",
          "data": {
            "text/plain": [
              "    aluno  idade  cidade aniversario\n",
              "2  Evaldo     22  Pinhal         NaT\n",
              "3  Isaias     21  Mococa  2000-04-20"
            ],
            "text/html": [
              "\n",
              "  <div id=\"df-3111a2cd-8f1a-4598-9a2f-a59fd3283ec8\">\n",
              "    <div class=\"colab-df-container\">\n",
              "      <div>\n",
              "<style scoped>\n",
              "    .dataframe tbody tr th:only-of-type {\n",
              "        vertical-align: middle;\n",
              "    }\n",
              "\n",
              "    .dataframe tbody tr th {\n",
              "        vertical-align: top;\n",
              "    }\n",
              "\n",
              "    .dataframe thead th {\n",
              "        text-align: right;\n",
              "    }\n",
              "</style>\n",
              "<table border=\"1\" class=\"dataframe\">\n",
              "  <thead>\n",
              "    <tr style=\"text-align: right;\">\n",
              "      <th></th>\n",
              "      <th>aluno</th>\n",
              "      <th>idade</th>\n",
              "      <th>cidade</th>\n",
              "      <th>aniversario</th>\n",
              "    </tr>\n",
              "  </thead>\n",
              "  <tbody>\n",
              "    <tr>\n",
              "      <th>2</th>\n",
              "      <td>Evaldo</td>\n",
              "      <td>22</td>\n",
              "      <td>Pinhal</td>\n",
              "      <td>NaT</td>\n",
              "    </tr>\n",
              "    <tr>\n",
              "      <th>3</th>\n",
              "      <td>Isaias</td>\n",
              "      <td>21</td>\n",
              "      <td>Mococa</td>\n",
              "      <td>2000-04-20</td>\n",
              "    </tr>\n",
              "  </tbody>\n",
              "</table>\n",
              "</div>\n",
              "      <button class=\"colab-df-convert\" onclick=\"convertToInteractive('df-3111a2cd-8f1a-4598-9a2f-a59fd3283ec8')\"\n",
              "              title=\"Convert this dataframe to an interactive table.\"\n",
              "              style=\"display:none;\">\n",
              "        \n",
              "  <svg xmlns=\"http://www.w3.org/2000/svg\" height=\"24px\"viewBox=\"0 0 24 24\"\n",
              "       width=\"24px\">\n",
              "    <path d=\"M0 0h24v24H0V0z\" fill=\"none\"/>\n",
              "    <path d=\"M18.56 5.44l.94 2.06.94-2.06 2.06-.94-2.06-.94-.94-2.06-.94 2.06-2.06.94zm-11 1L8.5 8.5l.94-2.06 2.06-.94-2.06-.94L8.5 2.5l-.94 2.06-2.06.94zm10 10l.94 2.06.94-2.06 2.06-.94-2.06-.94-.94-2.06-.94 2.06-2.06.94z\"/><path d=\"M17.41 7.96l-1.37-1.37c-.4-.4-.92-.59-1.43-.59-.52 0-1.04.2-1.43.59L10.3 9.45l-7.72 7.72c-.78.78-.78 2.05 0 2.83L4 21.41c.39.39.9.59 1.41.59.51 0 1.02-.2 1.41-.59l7.78-7.78 2.81-2.81c.8-.78.8-2.07 0-2.86zM5.41 20L4 18.59l7.72-7.72 1.47 1.35L5.41 20z\"/>\n",
              "  </svg>\n",
              "      </button>\n",
              "      \n",
              "  <style>\n",
              "    .colab-df-container {\n",
              "      display:flex;\n",
              "      flex-wrap:wrap;\n",
              "      gap: 12px;\n",
              "    }\n",
              "\n",
              "    .colab-df-convert {\n",
              "      background-color: #E8F0FE;\n",
              "      border: none;\n",
              "      border-radius: 50%;\n",
              "      cursor: pointer;\n",
              "      display: none;\n",
              "      fill: #1967D2;\n",
              "      height: 32px;\n",
              "      padding: 0 0 0 0;\n",
              "      width: 32px;\n",
              "    }\n",
              "\n",
              "    .colab-df-convert:hover {\n",
              "      background-color: #E2EBFA;\n",
              "      box-shadow: 0px 1px 2px rgba(60, 64, 67, 0.3), 0px 1px 3px 1px rgba(60, 64, 67, 0.15);\n",
              "      fill: #174EA6;\n",
              "    }\n",
              "\n",
              "    [theme=dark] .colab-df-convert {\n",
              "      background-color: #3B4455;\n",
              "      fill: #D2E3FC;\n",
              "    }\n",
              "\n",
              "    [theme=dark] .colab-df-convert:hover {\n",
              "      background-color: #434B5C;\n",
              "      box-shadow: 0px 1px 3px 1px rgba(0, 0, 0, 0.15);\n",
              "      filter: drop-shadow(0px 1px 2px rgba(0, 0, 0, 0.3));\n",
              "      fill: #FFFFFF;\n",
              "    }\n",
              "  </style>\n",
              "\n",
              "      <script>\n",
              "        const buttonEl =\n",
              "          document.querySelector('#df-3111a2cd-8f1a-4598-9a2f-a59fd3283ec8 button.colab-df-convert');\n",
              "        buttonEl.style.display =\n",
              "          google.colab.kernel.accessAllowed ? 'block' : 'none';\n",
              "\n",
              "        async function convertToInteractive(key) {\n",
              "          const element = document.querySelector('#df-3111a2cd-8f1a-4598-9a2f-a59fd3283ec8');\n",
              "          const dataTable =\n",
              "            await google.colab.kernel.invokeFunction('convertToInteractive',\n",
              "                                                     [key], {});\n",
              "          if (!dataTable) return;\n",
              "\n",
              "          const docLinkHtml = 'Like what you see? Visit the ' +\n",
              "            '<a target=\"_blank\" href=https://colab.research.google.com/notebooks/data_table.ipynb>data table notebook</a>'\n",
              "            + ' to learn more about interactive tables.';\n",
              "          element.innerHTML = '';\n",
              "          dataTable['output_type'] = 'display_data';\n",
              "          await google.colab.output.renderOutput(dataTable, element);\n",
              "          const docLink = document.createElement('div');\n",
              "          docLink.innerHTML = docLinkHtml;\n",
              "          element.appendChild(docLink);\n",
              "        }\n",
              "      </script>\n",
              "    </div>\n",
              "  </div>\n",
              "  "
            ]
          },
          "metadata": {},
          "execution_count": 22
        }
      ]
    },
    {
      "cell_type": "markdown",
      "source": [
        "Alterando índices"
      ],
      "metadata": {
        "id": "DXS3P-11e6m6"
      }
    },
    {
      "cell_type": "code",
      "source": [
        "# Relembrando o dataframe\n",
        "df.head()\n",
        "\n",
        "# Repare na coluna à esquerda sendo utilizada como índice"
      ],
      "metadata": {
        "id": "S3kwzkUle_0z",
        "colab": {
          "base_uri": "https://localhost:8080/",
          "height": 206
        },
        "outputId": "e96e555d-63e8-4ccb-aec0-ae162a6dc02f"
      },
      "execution_count": 23,
      "outputs": [
        {
          "output_type": "execute_result",
          "data": {
            "text/plain": [
              "     aluno  idade     cidade aniversario\n",
              "0     João     20  São Paulo  2002-10-04\n",
              "1  Ribeiro     29   São João  2003-02-20\n",
              "2   Evaldo     22     Pinhal         NaT\n",
              "3   Isaias     21     Mococa  2000-04-20\n",
              "4  Jessyca     35      Poços  1987-12-12"
            ],
            "text/html": [
              "\n",
              "  <div id=\"df-4ac79a2d-5e3d-458a-86f8-8eb9130aeb47\">\n",
              "    <div class=\"colab-df-container\">\n",
              "      <div>\n",
              "<style scoped>\n",
              "    .dataframe tbody tr th:only-of-type {\n",
              "        vertical-align: middle;\n",
              "    }\n",
              "\n",
              "    .dataframe tbody tr th {\n",
              "        vertical-align: top;\n",
              "    }\n",
              "\n",
              "    .dataframe thead th {\n",
              "        text-align: right;\n",
              "    }\n",
              "</style>\n",
              "<table border=\"1\" class=\"dataframe\">\n",
              "  <thead>\n",
              "    <tr style=\"text-align: right;\">\n",
              "      <th></th>\n",
              "      <th>aluno</th>\n",
              "      <th>idade</th>\n",
              "      <th>cidade</th>\n",
              "      <th>aniversario</th>\n",
              "    </tr>\n",
              "  </thead>\n",
              "  <tbody>\n",
              "    <tr>\n",
              "      <th>0</th>\n",
              "      <td>João</td>\n",
              "      <td>20</td>\n",
              "      <td>São Paulo</td>\n",
              "      <td>2002-10-04</td>\n",
              "    </tr>\n",
              "    <tr>\n",
              "      <th>1</th>\n",
              "      <td>Ribeiro</td>\n",
              "      <td>29</td>\n",
              "      <td>São João</td>\n",
              "      <td>2003-02-20</td>\n",
              "    </tr>\n",
              "    <tr>\n",
              "      <th>2</th>\n",
              "      <td>Evaldo</td>\n",
              "      <td>22</td>\n",
              "      <td>Pinhal</td>\n",
              "      <td>NaT</td>\n",
              "    </tr>\n",
              "    <tr>\n",
              "      <th>3</th>\n",
              "      <td>Isaias</td>\n",
              "      <td>21</td>\n",
              "      <td>Mococa</td>\n",
              "      <td>2000-04-20</td>\n",
              "    </tr>\n",
              "    <tr>\n",
              "      <th>4</th>\n",
              "      <td>Jessyca</td>\n",
              "      <td>35</td>\n",
              "      <td>Poços</td>\n",
              "      <td>1987-12-12</td>\n",
              "    </tr>\n",
              "  </tbody>\n",
              "</table>\n",
              "</div>\n",
              "      <button class=\"colab-df-convert\" onclick=\"convertToInteractive('df-4ac79a2d-5e3d-458a-86f8-8eb9130aeb47')\"\n",
              "              title=\"Convert this dataframe to an interactive table.\"\n",
              "              style=\"display:none;\">\n",
              "        \n",
              "  <svg xmlns=\"http://www.w3.org/2000/svg\" height=\"24px\"viewBox=\"0 0 24 24\"\n",
              "       width=\"24px\">\n",
              "    <path d=\"M0 0h24v24H0V0z\" fill=\"none\"/>\n",
              "    <path d=\"M18.56 5.44l.94 2.06.94-2.06 2.06-.94-2.06-.94-.94-2.06-.94 2.06-2.06.94zm-11 1L8.5 8.5l.94-2.06 2.06-.94-2.06-.94L8.5 2.5l-.94 2.06-2.06.94zm10 10l.94 2.06.94-2.06 2.06-.94-2.06-.94-.94-2.06-.94 2.06-2.06.94z\"/><path d=\"M17.41 7.96l-1.37-1.37c-.4-.4-.92-.59-1.43-.59-.52 0-1.04.2-1.43.59L10.3 9.45l-7.72 7.72c-.78.78-.78 2.05 0 2.83L4 21.41c.39.39.9.59 1.41.59.51 0 1.02-.2 1.41-.59l7.78-7.78 2.81-2.81c.8-.78.8-2.07 0-2.86zM5.41 20L4 18.59l7.72-7.72 1.47 1.35L5.41 20z\"/>\n",
              "  </svg>\n",
              "      </button>\n",
              "      \n",
              "  <style>\n",
              "    .colab-df-container {\n",
              "      display:flex;\n",
              "      flex-wrap:wrap;\n",
              "      gap: 12px;\n",
              "    }\n",
              "\n",
              "    .colab-df-convert {\n",
              "      background-color: #E8F0FE;\n",
              "      border: none;\n",
              "      border-radius: 50%;\n",
              "      cursor: pointer;\n",
              "      display: none;\n",
              "      fill: #1967D2;\n",
              "      height: 32px;\n",
              "      padding: 0 0 0 0;\n",
              "      width: 32px;\n",
              "    }\n",
              "\n",
              "    .colab-df-convert:hover {\n",
              "      background-color: #E2EBFA;\n",
              "      box-shadow: 0px 1px 2px rgba(60, 64, 67, 0.3), 0px 1px 3px 1px rgba(60, 64, 67, 0.15);\n",
              "      fill: #174EA6;\n",
              "    }\n",
              "\n",
              "    [theme=dark] .colab-df-convert {\n",
              "      background-color: #3B4455;\n",
              "      fill: #D2E3FC;\n",
              "    }\n",
              "\n",
              "    [theme=dark] .colab-df-convert:hover {\n",
              "      background-color: #434B5C;\n",
              "      box-shadow: 0px 1px 3px 1px rgba(0, 0, 0, 0.15);\n",
              "      filter: drop-shadow(0px 1px 2px rgba(0, 0, 0, 0.3));\n",
              "      fill: #FFFFFF;\n",
              "    }\n",
              "  </style>\n",
              "\n",
              "      <script>\n",
              "        const buttonEl =\n",
              "          document.querySelector('#df-4ac79a2d-5e3d-458a-86f8-8eb9130aeb47 button.colab-df-convert');\n",
              "        buttonEl.style.display =\n",
              "          google.colab.kernel.accessAllowed ? 'block' : 'none';\n",
              "\n",
              "        async function convertToInteractive(key) {\n",
              "          const element = document.querySelector('#df-4ac79a2d-5e3d-458a-86f8-8eb9130aeb47');\n",
              "          const dataTable =\n",
              "            await google.colab.kernel.invokeFunction('convertToInteractive',\n",
              "                                                     [key], {});\n",
              "          if (!dataTable) return;\n",
              "\n",
              "          const docLinkHtml = 'Like what you see? Visit the ' +\n",
              "            '<a target=\"_blank\" href=https://colab.research.google.com/notebooks/data_table.ipynb>data table notebook</a>'\n",
              "            + ' to learn more about interactive tables.';\n",
              "          element.innerHTML = '';\n",
              "          dataTable['output_type'] = 'display_data';\n",
              "          await google.colab.output.renderOutput(dataTable, element);\n",
              "          const docLink = document.createElement('div');\n",
              "          docLink.innerHTML = docLinkHtml;\n",
              "          element.appendChild(docLink);\n",
              "        }\n",
              "      </script>\n",
              "    </div>\n",
              "  </div>\n",
              "  "
            ]
          },
          "metadata": {},
          "execution_count": 23
        }
      ]
    },
    {
      "cell_type": "code",
      "source": [
        "# Alterando o índice para que seja 'aluno'\n",
        "\n",
        "df = df.set_index('aluno')\n",
        "df"
      ],
      "metadata": {
        "id": "YAXxWnDJfUPd",
        "colab": {
          "base_uri": "https://localhost:8080/",
          "height": 300
        },
        "outputId": "afb6d24a-b76d-4cfa-ef8b-639bed76e201"
      },
      "execution_count": 24,
      "outputs": [
        {
          "output_type": "execute_result",
          "data": {
            "text/plain": [
              "         idade     cidade aniversario\n",
              "aluno                                \n",
              "João        20  São Paulo  2002-10-04\n",
              "Ribeiro     29   São João  2003-02-20\n",
              "Evaldo      22     Pinhal         NaT\n",
              "Isaias      21     Mococa  2000-04-20\n",
              "Jessyca     35      Poços  1987-12-12\n",
              "Anne        32   Botelhos  2000-01-01\n",
              "Luiz        40     Pinhal         NaT"
            ],
            "text/html": [
              "\n",
              "  <div id=\"df-440a99c6-3d80-48b5-b090-2de052f6d508\">\n",
              "    <div class=\"colab-df-container\">\n",
              "      <div>\n",
              "<style scoped>\n",
              "    .dataframe tbody tr th:only-of-type {\n",
              "        vertical-align: middle;\n",
              "    }\n",
              "\n",
              "    .dataframe tbody tr th {\n",
              "        vertical-align: top;\n",
              "    }\n",
              "\n",
              "    .dataframe thead th {\n",
              "        text-align: right;\n",
              "    }\n",
              "</style>\n",
              "<table border=\"1\" class=\"dataframe\">\n",
              "  <thead>\n",
              "    <tr style=\"text-align: right;\">\n",
              "      <th></th>\n",
              "      <th>idade</th>\n",
              "      <th>cidade</th>\n",
              "      <th>aniversario</th>\n",
              "    </tr>\n",
              "    <tr>\n",
              "      <th>aluno</th>\n",
              "      <th></th>\n",
              "      <th></th>\n",
              "      <th></th>\n",
              "    </tr>\n",
              "  </thead>\n",
              "  <tbody>\n",
              "    <tr>\n",
              "      <th>João</th>\n",
              "      <td>20</td>\n",
              "      <td>São Paulo</td>\n",
              "      <td>2002-10-04</td>\n",
              "    </tr>\n",
              "    <tr>\n",
              "      <th>Ribeiro</th>\n",
              "      <td>29</td>\n",
              "      <td>São João</td>\n",
              "      <td>2003-02-20</td>\n",
              "    </tr>\n",
              "    <tr>\n",
              "      <th>Evaldo</th>\n",
              "      <td>22</td>\n",
              "      <td>Pinhal</td>\n",
              "      <td>NaT</td>\n",
              "    </tr>\n",
              "    <tr>\n",
              "      <th>Isaias</th>\n",
              "      <td>21</td>\n",
              "      <td>Mococa</td>\n",
              "      <td>2000-04-20</td>\n",
              "    </tr>\n",
              "    <tr>\n",
              "      <th>Jessyca</th>\n",
              "      <td>35</td>\n",
              "      <td>Poços</td>\n",
              "      <td>1987-12-12</td>\n",
              "    </tr>\n",
              "    <tr>\n",
              "      <th>Anne</th>\n",
              "      <td>32</td>\n",
              "      <td>Botelhos</td>\n",
              "      <td>2000-01-01</td>\n",
              "    </tr>\n",
              "    <tr>\n",
              "      <th>Luiz</th>\n",
              "      <td>40</td>\n",
              "      <td>Pinhal</td>\n",
              "      <td>NaT</td>\n",
              "    </tr>\n",
              "  </tbody>\n",
              "</table>\n",
              "</div>\n",
              "      <button class=\"colab-df-convert\" onclick=\"convertToInteractive('df-440a99c6-3d80-48b5-b090-2de052f6d508')\"\n",
              "              title=\"Convert this dataframe to an interactive table.\"\n",
              "              style=\"display:none;\">\n",
              "        \n",
              "  <svg xmlns=\"http://www.w3.org/2000/svg\" height=\"24px\"viewBox=\"0 0 24 24\"\n",
              "       width=\"24px\">\n",
              "    <path d=\"M0 0h24v24H0V0z\" fill=\"none\"/>\n",
              "    <path d=\"M18.56 5.44l.94 2.06.94-2.06 2.06-.94-2.06-.94-.94-2.06-.94 2.06-2.06.94zm-11 1L8.5 8.5l.94-2.06 2.06-.94-2.06-.94L8.5 2.5l-.94 2.06-2.06.94zm10 10l.94 2.06.94-2.06 2.06-.94-2.06-.94-.94-2.06-.94 2.06-2.06.94z\"/><path d=\"M17.41 7.96l-1.37-1.37c-.4-.4-.92-.59-1.43-.59-.52 0-1.04.2-1.43.59L10.3 9.45l-7.72 7.72c-.78.78-.78 2.05 0 2.83L4 21.41c.39.39.9.59 1.41.59.51 0 1.02-.2 1.41-.59l7.78-7.78 2.81-2.81c.8-.78.8-2.07 0-2.86zM5.41 20L4 18.59l7.72-7.72 1.47 1.35L5.41 20z\"/>\n",
              "  </svg>\n",
              "      </button>\n",
              "      \n",
              "  <style>\n",
              "    .colab-df-container {\n",
              "      display:flex;\n",
              "      flex-wrap:wrap;\n",
              "      gap: 12px;\n",
              "    }\n",
              "\n",
              "    .colab-df-convert {\n",
              "      background-color: #E8F0FE;\n",
              "      border: none;\n",
              "      border-radius: 50%;\n",
              "      cursor: pointer;\n",
              "      display: none;\n",
              "      fill: #1967D2;\n",
              "      height: 32px;\n",
              "      padding: 0 0 0 0;\n",
              "      width: 32px;\n",
              "    }\n",
              "\n",
              "    .colab-df-convert:hover {\n",
              "      background-color: #E2EBFA;\n",
              "      box-shadow: 0px 1px 2px rgba(60, 64, 67, 0.3), 0px 1px 3px 1px rgba(60, 64, 67, 0.15);\n",
              "      fill: #174EA6;\n",
              "    }\n",
              "\n",
              "    [theme=dark] .colab-df-convert {\n",
              "      background-color: #3B4455;\n",
              "      fill: #D2E3FC;\n",
              "    }\n",
              "\n",
              "    [theme=dark] .colab-df-convert:hover {\n",
              "      background-color: #434B5C;\n",
              "      box-shadow: 0px 1px 3px 1px rgba(0, 0, 0, 0.15);\n",
              "      filter: drop-shadow(0px 1px 2px rgba(0, 0, 0, 0.3));\n",
              "      fill: #FFFFFF;\n",
              "    }\n",
              "  </style>\n",
              "\n",
              "      <script>\n",
              "        const buttonEl =\n",
              "          document.querySelector('#df-440a99c6-3d80-48b5-b090-2de052f6d508 button.colab-df-convert');\n",
              "        buttonEl.style.display =\n",
              "          google.colab.kernel.accessAllowed ? 'block' : 'none';\n",
              "\n",
              "        async function convertToInteractive(key) {\n",
              "          const element = document.querySelector('#df-440a99c6-3d80-48b5-b090-2de052f6d508');\n",
              "          const dataTable =\n",
              "            await google.colab.kernel.invokeFunction('convertToInteractive',\n",
              "                                                     [key], {});\n",
              "          if (!dataTable) return;\n",
              "\n",
              "          const docLinkHtml = 'Like what you see? Visit the ' +\n",
              "            '<a target=\"_blank\" href=https://colab.research.google.com/notebooks/data_table.ipynb>data table notebook</a>'\n",
              "            + ' to learn more about interactive tables.';\n",
              "          element.innerHTML = '';\n",
              "          dataTable['output_type'] = 'display_data';\n",
              "          await google.colab.output.renderOutput(dataTable, element);\n",
              "          const docLink = document.createElement('div');\n",
              "          docLink.innerHTML = docLinkHtml;\n",
              "          element.appendChild(docLink);\n",
              "        }\n",
              "      </script>\n",
              "    </div>\n",
              "  </div>\n",
              "  "
            ]
          },
          "metadata": {},
          "execution_count": 24
        }
      ]
    },
    {
      "cell_type": "code",
      "source": [
        "# Resetando os índices\n",
        "\n",
        "df = df.reset_index()\n",
        "df"
      ],
      "metadata": {
        "id": "iRLXv1MUgVa6",
        "colab": {
          "base_uri": "https://localhost:8080/",
          "height": 269
        },
        "outputId": "4eec720e-74dd-4210-8422-9209990afa94"
      },
      "execution_count": 25,
      "outputs": [
        {
          "output_type": "execute_result",
          "data": {
            "text/plain": [
              "     aluno  idade     cidade aniversario\n",
              "0     João     20  São Paulo  2002-10-04\n",
              "1  Ribeiro     29   São João  2003-02-20\n",
              "2   Evaldo     22     Pinhal         NaT\n",
              "3   Isaias     21     Mococa  2000-04-20\n",
              "4  Jessyca     35      Poços  1987-12-12\n",
              "5     Anne     32   Botelhos  2000-01-01\n",
              "6     Luiz     40     Pinhal         NaT"
            ],
            "text/html": [
              "\n",
              "  <div id=\"df-369225a7-29f4-4119-9154-1f4e19aa7d7e\">\n",
              "    <div class=\"colab-df-container\">\n",
              "      <div>\n",
              "<style scoped>\n",
              "    .dataframe tbody tr th:only-of-type {\n",
              "        vertical-align: middle;\n",
              "    }\n",
              "\n",
              "    .dataframe tbody tr th {\n",
              "        vertical-align: top;\n",
              "    }\n",
              "\n",
              "    .dataframe thead th {\n",
              "        text-align: right;\n",
              "    }\n",
              "</style>\n",
              "<table border=\"1\" class=\"dataframe\">\n",
              "  <thead>\n",
              "    <tr style=\"text-align: right;\">\n",
              "      <th></th>\n",
              "      <th>aluno</th>\n",
              "      <th>idade</th>\n",
              "      <th>cidade</th>\n",
              "      <th>aniversario</th>\n",
              "    </tr>\n",
              "  </thead>\n",
              "  <tbody>\n",
              "    <tr>\n",
              "      <th>0</th>\n",
              "      <td>João</td>\n",
              "      <td>20</td>\n",
              "      <td>São Paulo</td>\n",
              "      <td>2002-10-04</td>\n",
              "    </tr>\n",
              "    <tr>\n",
              "      <th>1</th>\n",
              "      <td>Ribeiro</td>\n",
              "      <td>29</td>\n",
              "      <td>São João</td>\n",
              "      <td>2003-02-20</td>\n",
              "    </tr>\n",
              "    <tr>\n",
              "      <th>2</th>\n",
              "      <td>Evaldo</td>\n",
              "      <td>22</td>\n",
              "      <td>Pinhal</td>\n",
              "      <td>NaT</td>\n",
              "    </tr>\n",
              "    <tr>\n",
              "      <th>3</th>\n",
              "      <td>Isaias</td>\n",
              "      <td>21</td>\n",
              "      <td>Mococa</td>\n",
              "      <td>2000-04-20</td>\n",
              "    </tr>\n",
              "    <tr>\n",
              "      <th>4</th>\n",
              "      <td>Jessyca</td>\n",
              "      <td>35</td>\n",
              "      <td>Poços</td>\n",
              "      <td>1987-12-12</td>\n",
              "    </tr>\n",
              "    <tr>\n",
              "      <th>5</th>\n",
              "      <td>Anne</td>\n",
              "      <td>32</td>\n",
              "      <td>Botelhos</td>\n",
              "      <td>2000-01-01</td>\n",
              "    </tr>\n",
              "    <tr>\n",
              "      <th>6</th>\n",
              "      <td>Luiz</td>\n",
              "      <td>40</td>\n",
              "      <td>Pinhal</td>\n",
              "      <td>NaT</td>\n",
              "    </tr>\n",
              "  </tbody>\n",
              "</table>\n",
              "</div>\n",
              "      <button class=\"colab-df-convert\" onclick=\"convertToInteractive('df-369225a7-29f4-4119-9154-1f4e19aa7d7e')\"\n",
              "              title=\"Convert this dataframe to an interactive table.\"\n",
              "              style=\"display:none;\">\n",
              "        \n",
              "  <svg xmlns=\"http://www.w3.org/2000/svg\" height=\"24px\"viewBox=\"0 0 24 24\"\n",
              "       width=\"24px\">\n",
              "    <path d=\"M0 0h24v24H0V0z\" fill=\"none\"/>\n",
              "    <path d=\"M18.56 5.44l.94 2.06.94-2.06 2.06-.94-2.06-.94-.94-2.06-.94 2.06-2.06.94zm-11 1L8.5 8.5l.94-2.06 2.06-.94-2.06-.94L8.5 2.5l-.94 2.06-2.06.94zm10 10l.94 2.06.94-2.06 2.06-.94-2.06-.94-.94-2.06-.94 2.06-2.06.94z\"/><path d=\"M17.41 7.96l-1.37-1.37c-.4-.4-.92-.59-1.43-.59-.52 0-1.04.2-1.43.59L10.3 9.45l-7.72 7.72c-.78.78-.78 2.05 0 2.83L4 21.41c.39.39.9.59 1.41.59.51 0 1.02-.2 1.41-.59l7.78-7.78 2.81-2.81c.8-.78.8-2.07 0-2.86zM5.41 20L4 18.59l7.72-7.72 1.47 1.35L5.41 20z\"/>\n",
              "  </svg>\n",
              "      </button>\n",
              "      \n",
              "  <style>\n",
              "    .colab-df-container {\n",
              "      display:flex;\n",
              "      flex-wrap:wrap;\n",
              "      gap: 12px;\n",
              "    }\n",
              "\n",
              "    .colab-df-convert {\n",
              "      background-color: #E8F0FE;\n",
              "      border: none;\n",
              "      border-radius: 50%;\n",
              "      cursor: pointer;\n",
              "      display: none;\n",
              "      fill: #1967D2;\n",
              "      height: 32px;\n",
              "      padding: 0 0 0 0;\n",
              "      width: 32px;\n",
              "    }\n",
              "\n",
              "    .colab-df-convert:hover {\n",
              "      background-color: #E2EBFA;\n",
              "      box-shadow: 0px 1px 2px rgba(60, 64, 67, 0.3), 0px 1px 3px 1px rgba(60, 64, 67, 0.15);\n",
              "      fill: #174EA6;\n",
              "    }\n",
              "\n",
              "    [theme=dark] .colab-df-convert {\n",
              "      background-color: #3B4455;\n",
              "      fill: #D2E3FC;\n",
              "    }\n",
              "\n",
              "    [theme=dark] .colab-df-convert:hover {\n",
              "      background-color: #434B5C;\n",
              "      box-shadow: 0px 1px 3px 1px rgba(0, 0, 0, 0.15);\n",
              "      filter: drop-shadow(0px 1px 2px rgba(0, 0, 0, 0.3));\n",
              "      fill: #FFFFFF;\n",
              "    }\n",
              "  </style>\n",
              "\n",
              "      <script>\n",
              "        const buttonEl =\n",
              "          document.querySelector('#df-369225a7-29f4-4119-9154-1f4e19aa7d7e button.colab-df-convert');\n",
              "        buttonEl.style.display =\n",
              "          google.colab.kernel.accessAllowed ? 'block' : 'none';\n",
              "\n",
              "        async function convertToInteractive(key) {\n",
              "          const element = document.querySelector('#df-369225a7-29f4-4119-9154-1f4e19aa7d7e');\n",
              "          const dataTable =\n",
              "            await google.colab.kernel.invokeFunction('convertToInteractive',\n",
              "                                                     [key], {});\n",
              "          if (!dataTable) return;\n",
              "\n",
              "          const docLinkHtml = 'Like what you see? Visit the ' +\n",
              "            '<a target=\"_blank\" href=https://colab.research.google.com/notebooks/data_table.ipynb>data table notebook</a>'\n",
              "            + ' to learn more about interactive tables.';\n",
              "          element.innerHTML = '';\n",
              "          dataTable['output_type'] = 'display_data';\n",
              "          await google.colab.output.renderOutput(dataTable, element);\n",
              "          const docLink = document.createElement('div');\n",
              "          docLink.innerHTML = docLinkHtml;\n",
              "          element.appendChild(docLink);\n",
              "        }\n",
              "      </script>\n",
              "    </div>\n",
              "  </div>\n",
              "  "
            ]
          },
          "metadata": {},
          "execution_count": 25
        }
      ]
    },
    {
      "cell_type": "markdown",
      "source": [
        "Adicionando e excluindo colunas"
      ],
      "metadata": {
        "id": "_0q5k6K3grw2"
      }
    },
    {
      "cell_type": "code",
      "source": [
        "# Adicionando uma coluna ao DataFrame com valores 1\n",
        "\n",
        "df['coluna_nova'] = 1\n",
        "df"
      ],
      "metadata": {
        "id": "i3nQKIhhguJE",
        "colab": {
          "base_uri": "https://localhost:8080/",
          "height": 269
        },
        "outputId": "fec7b7a0-607c-45a0-b476-8ace4bae78cb"
      },
      "execution_count": 27,
      "outputs": [
        {
          "output_type": "execute_result",
          "data": {
            "text/plain": [
              "     aluno  idade     cidade aniversario  coluna_nova\n",
              "0     João     20  São Paulo  2002-10-04            1\n",
              "1  Ribeiro     29   São João  2003-02-20            1\n",
              "2   Evaldo     22     Pinhal         NaT            1\n",
              "3   Isaias     21     Mococa  2000-04-20            1\n",
              "4  Jessyca     35      Poços  1987-12-12            1\n",
              "5     Anne     32   Botelhos  2000-01-01            1\n",
              "6     Luiz     40     Pinhal         NaT            1"
            ],
            "text/html": [
              "\n",
              "  <div id=\"df-e39bc1c1-ab4b-4571-9eab-271b4819949e\">\n",
              "    <div class=\"colab-df-container\">\n",
              "      <div>\n",
              "<style scoped>\n",
              "    .dataframe tbody tr th:only-of-type {\n",
              "        vertical-align: middle;\n",
              "    }\n",
              "\n",
              "    .dataframe tbody tr th {\n",
              "        vertical-align: top;\n",
              "    }\n",
              "\n",
              "    .dataframe thead th {\n",
              "        text-align: right;\n",
              "    }\n",
              "</style>\n",
              "<table border=\"1\" class=\"dataframe\">\n",
              "  <thead>\n",
              "    <tr style=\"text-align: right;\">\n",
              "      <th></th>\n",
              "      <th>aluno</th>\n",
              "      <th>idade</th>\n",
              "      <th>cidade</th>\n",
              "      <th>aniversario</th>\n",
              "      <th>coluna_nova</th>\n",
              "    </tr>\n",
              "  </thead>\n",
              "  <tbody>\n",
              "    <tr>\n",
              "      <th>0</th>\n",
              "      <td>João</td>\n",
              "      <td>20</td>\n",
              "      <td>São Paulo</td>\n",
              "      <td>2002-10-04</td>\n",
              "      <td>1</td>\n",
              "    </tr>\n",
              "    <tr>\n",
              "      <th>1</th>\n",
              "      <td>Ribeiro</td>\n",
              "      <td>29</td>\n",
              "      <td>São João</td>\n",
              "      <td>2003-02-20</td>\n",
              "      <td>1</td>\n",
              "    </tr>\n",
              "    <tr>\n",
              "      <th>2</th>\n",
              "      <td>Evaldo</td>\n",
              "      <td>22</td>\n",
              "      <td>Pinhal</td>\n",
              "      <td>NaT</td>\n",
              "      <td>1</td>\n",
              "    </tr>\n",
              "    <tr>\n",
              "      <th>3</th>\n",
              "      <td>Isaias</td>\n",
              "      <td>21</td>\n",
              "      <td>Mococa</td>\n",
              "      <td>2000-04-20</td>\n",
              "      <td>1</td>\n",
              "    </tr>\n",
              "    <tr>\n",
              "      <th>4</th>\n",
              "      <td>Jessyca</td>\n",
              "      <td>35</td>\n",
              "      <td>Poços</td>\n",
              "      <td>1987-12-12</td>\n",
              "      <td>1</td>\n",
              "    </tr>\n",
              "    <tr>\n",
              "      <th>5</th>\n",
              "      <td>Anne</td>\n",
              "      <td>32</td>\n",
              "      <td>Botelhos</td>\n",
              "      <td>2000-01-01</td>\n",
              "      <td>1</td>\n",
              "    </tr>\n",
              "    <tr>\n",
              "      <th>6</th>\n",
              "      <td>Luiz</td>\n",
              "      <td>40</td>\n",
              "      <td>Pinhal</td>\n",
              "      <td>NaT</td>\n",
              "      <td>1</td>\n",
              "    </tr>\n",
              "  </tbody>\n",
              "</table>\n",
              "</div>\n",
              "      <button class=\"colab-df-convert\" onclick=\"convertToInteractive('df-e39bc1c1-ab4b-4571-9eab-271b4819949e')\"\n",
              "              title=\"Convert this dataframe to an interactive table.\"\n",
              "              style=\"display:none;\">\n",
              "        \n",
              "  <svg xmlns=\"http://www.w3.org/2000/svg\" height=\"24px\"viewBox=\"0 0 24 24\"\n",
              "       width=\"24px\">\n",
              "    <path d=\"M0 0h24v24H0V0z\" fill=\"none\"/>\n",
              "    <path d=\"M18.56 5.44l.94 2.06.94-2.06 2.06-.94-2.06-.94-.94-2.06-.94 2.06-2.06.94zm-11 1L8.5 8.5l.94-2.06 2.06-.94-2.06-.94L8.5 2.5l-.94 2.06-2.06.94zm10 10l.94 2.06.94-2.06 2.06-.94-2.06-.94-.94-2.06-.94 2.06-2.06.94z\"/><path d=\"M17.41 7.96l-1.37-1.37c-.4-.4-.92-.59-1.43-.59-.52 0-1.04.2-1.43.59L10.3 9.45l-7.72 7.72c-.78.78-.78 2.05 0 2.83L4 21.41c.39.39.9.59 1.41.59.51 0 1.02-.2 1.41-.59l7.78-7.78 2.81-2.81c.8-.78.8-2.07 0-2.86zM5.41 20L4 18.59l7.72-7.72 1.47 1.35L5.41 20z\"/>\n",
              "  </svg>\n",
              "      </button>\n",
              "      \n",
              "  <style>\n",
              "    .colab-df-container {\n",
              "      display:flex;\n",
              "      flex-wrap:wrap;\n",
              "      gap: 12px;\n",
              "    }\n",
              "\n",
              "    .colab-df-convert {\n",
              "      background-color: #E8F0FE;\n",
              "      border: none;\n",
              "      border-radius: 50%;\n",
              "      cursor: pointer;\n",
              "      display: none;\n",
              "      fill: #1967D2;\n",
              "      height: 32px;\n",
              "      padding: 0 0 0 0;\n",
              "      width: 32px;\n",
              "    }\n",
              "\n",
              "    .colab-df-convert:hover {\n",
              "      background-color: #E2EBFA;\n",
              "      box-shadow: 0px 1px 2px rgba(60, 64, 67, 0.3), 0px 1px 3px 1px rgba(60, 64, 67, 0.15);\n",
              "      fill: #174EA6;\n",
              "    }\n",
              "\n",
              "    [theme=dark] .colab-df-convert {\n",
              "      background-color: #3B4455;\n",
              "      fill: #D2E3FC;\n",
              "    }\n",
              "\n",
              "    [theme=dark] .colab-df-convert:hover {\n",
              "      background-color: #434B5C;\n",
              "      box-shadow: 0px 1px 3px 1px rgba(0, 0, 0, 0.15);\n",
              "      filter: drop-shadow(0px 1px 2px rgba(0, 0, 0, 0.3));\n",
              "      fill: #FFFFFF;\n",
              "    }\n",
              "  </style>\n",
              "\n",
              "      <script>\n",
              "        const buttonEl =\n",
              "          document.querySelector('#df-e39bc1c1-ab4b-4571-9eab-271b4819949e button.colab-df-convert');\n",
              "        buttonEl.style.display =\n",
              "          google.colab.kernel.accessAllowed ? 'block' : 'none';\n",
              "\n",
              "        async function convertToInteractive(key) {\n",
              "          const element = document.querySelector('#df-e39bc1c1-ab4b-4571-9eab-271b4819949e');\n",
              "          const dataTable =\n",
              "            await google.colab.kernel.invokeFunction('convertToInteractive',\n",
              "                                                     [key], {});\n",
              "          if (!dataTable) return;\n",
              "\n",
              "          const docLinkHtml = 'Like what you see? Visit the ' +\n",
              "            '<a target=\"_blank\" href=https://colab.research.google.com/notebooks/data_table.ipynb>data table notebook</a>'\n",
              "            + ' to learn more about interactive tables.';\n",
              "          element.innerHTML = '';\n",
              "          dataTable['output_type'] = 'display_data';\n",
              "          await google.colab.output.renderOutput(dataTable, element);\n",
              "          const docLink = document.createElement('div');\n",
              "          docLink.innerHTML = docLinkHtml;\n",
              "          element.appendChild(docLink);\n",
              "        }\n",
              "      </script>\n",
              "    </div>\n",
              "  </div>\n",
              "  "
            ]
          },
          "metadata": {},
          "execution_count": 27
        }
      ]
    },
    {
      "cell_type": "code",
      "source": [
        "# Excluindo a coluna_nova\n",
        "\n",
        "df.drop( columns = ['coluna_nova'] )"
      ],
      "metadata": {
        "id": "tj9N3M0sg2OT",
        "colab": {
          "base_uri": "https://localhost:8080/",
          "height": 269
        },
        "outputId": "8cc48fbf-415e-4613-f0ac-bd0d4d480dc2"
      },
      "execution_count": 28,
      "outputs": [
        {
          "output_type": "execute_result",
          "data": {
            "text/plain": [
              "     aluno  idade     cidade aniversario\n",
              "0     João     20  São Paulo  2002-10-04\n",
              "1  Ribeiro     29   São João  2003-02-20\n",
              "2   Evaldo     22     Pinhal         NaT\n",
              "3   Isaias     21     Mococa  2000-04-20\n",
              "4  Jessyca     35      Poços  1987-12-12\n",
              "5     Anne     32   Botelhos  2000-01-01\n",
              "6     Luiz     40     Pinhal         NaT"
            ],
            "text/html": [
              "\n",
              "  <div id=\"df-93d13228-642d-418c-b220-488d7c2433ab\">\n",
              "    <div class=\"colab-df-container\">\n",
              "      <div>\n",
              "<style scoped>\n",
              "    .dataframe tbody tr th:only-of-type {\n",
              "        vertical-align: middle;\n",
              "    }\n",
              "\n",
              "    .dataframe tbody tr th {\n",
              "        vertical-align: top;\n",
              "    }\n",
              "\n",
              "    .dataframe thead th {\n",
              "        text-align: right;\n",
              "    }\n",
              "</style>\n",
              "<table border=\"1\" class=\"dataframe\">\n",
              "  <thead>\n",
              "    <tr style=\"text-align: right;\">\n",
              "      <th></th>\n",
              "      <th>aluno</th>\n",
              "      <th>idade</th>\n",
              "      <th>cidade</th>\n",
              "      <th>aniversario</th>\n",
              "    </tr>\n",
              "  </thead>\n",
              "  <tbody>\n",
              "    <tr>\n",
              "      <th>0</th>\n",
              "      <td>João</td>\n",
              "      <td>20</td>\n",
              "      <td>São Paulo</td>\n",
              "      <td>2002-10-04</td>\n",
              "    </tr>\n",
              "    <tr>\n",
              "      <th>1</th>\n",
              "      <td>Ribeiro</td>\n",
              "      <td>29</td>\n",
              "      <td>São João</td>\n",
              "      <td>2003-02-20</td>\n",
              "    </tr>\n",
              "    <tr>\n",
              "      <th>2</th>\n",
              "      <td>Evaldo</td>\n",
              "      <td>22</td>\n",
              "      <td>Pinhal</td>\n",
              "      <td>NaT</td>\n",
              "    </tr>\n",
              "    <tr>\n",
              "      <th>3</th>\n",
              "      <td>Isaias</td>\n",
              "      <td>21</td>\n",
              "      <td>Mococa</td>\n",
              "      <td>2000-04-20</td>\n",
              "    </tr>\n",
              "    <tr>\n",
              "      <th>4</th>\n",
              "      <td>Jessyca</td>\n",
              "      <td>35</td>\n",
              "      <td>Poços</td>\n",
              "      <td>1987-12-12</td>\n",
              "    </tr>\n",
              "    <tr>\n",
              "      <th>5</th>\n",
              "      <td>Anne</td>\n",
              "      <td>32</td>\n",
              "      <td>Botelhos</td>\n",
              "      <td>2000-01-01</td>\n",
              "    </tr>\n",
              "    <tr>\n",
              "      <th>6</th>\n",
              "      <td>Luiz</td>\n",
              "      <td>40</td>\n",
              "      <td>Pinhal</td>\n",
              "      <td>NaT</td>\n",
              "    </tr>\n",
              "  </tbody>\n",
              "</table>\n",
              "</div>\n",
              "      <button class=\"colab-df-convert\" onclick=\"convertToInteractive('df-93d13228-642d-418c-b220-488d7c2433ab')\"\n",
              "              title=\"Convert this dataframe to an interactive table.\"\n",
              "              style=\"display:none;\">\n",
              "        \n",
              "  <svg xmlns=\"http://www.w3.org/2000/svg\" height=\"24px\"viewBox=\"0 0 24 24\"\n",
              "       width=\"24px\">\n",
              "    <path d=\"M0 0h24v24H0V0z\" fill=\"none\"/>\n",
              "    <path d=\"M18.56 5.44l.94 2.06.94-2.06 2.06-.94-2.06-.94-.94-2.06-.94 2.06-2.06.94zm-11 1L8.5 8.5l.94-2.06 2.06-.94-2.06-.94L8.5 2.5l-.94 2.06-2.06.94zm10 10l.94 2.06.94-2.06 2.06-.94-2.06-.94-.94-2.06-.94 2.06-2.06.94z\"/><path d=\"M17.41 7.96l-1.37-1.37c-.4-.4-.92-.59-1.43-.59-.52 0-1.04.2-1.43.59L10.3 9.45l-7.72 7.72c-.78.78-.78 2.05 0 2.83L4 21.41c.39.39.9.59 1.41.59.51 0 1.02-.2 1.41-.59l7.78-7.78 2.81-2.81c.8-.78.8-2.07 0-2.86zM5.41 20L4 18.59l7.72-7.72 1.47 1.35L5.41 20z\"/>\n",
              "  </svg>\n",
              "      </button>\n",
              "      \n",
              "  <style>\n",
              "    .colab-df-container {\n",
              "      display:flex;\n",
              "      flex-wrap:wrap;\n",
              "      gap: 12px;\n",
              "    }\n",
              "\n",
              "    .colab-df-convert {\n",
              "      background-color: #E8F0FE;\n",
              "      border: none;\n",
              "      border-radius: 50%;\n",
              "      cursor: pointer;\n",
              "      display: none;\n",
              "      fill: #1967D2;\n",
              "      height: 32px;\n",
              "      padding: 0 0 0 0;\n",
              "      width: 32px;\n",
              "    }\n",
              "\n",
              "    .colab-df-convert:hover {\n",
              "      background-color: #E2EBFA;\n",
              "      box-shadow: 0px 1px 2px rgba(60, 64, 67, 0.3), 0px 1px 3px 1px rgba(60, 64, 67, 0.15);\n",
              "      fill: #174EA6;\n",
              "    }\n",
              "\n",
              "    [theme=dark] .colab-df-convert {\n",
              "      background-color: #3B4455;\n",
              "      fill: #D2E3FC;\n",
              "    }\n",
              "\n",
              "    [theme=dark] .colab-df-convert:hover {\n",
              "      background-color: #434B5C;\n",
              "      box-shadow: 0px 1px 3px 1px rgba(0, 0, 0, 0.15);\n",
              "      filter: drop-shadow(0px 1px 2px rgba(0, 0, 0, 0.3));\n",
              "      fill: #FFFFFF;\n",
              "    }\n",
              "  </style>\n",
              "\n",
              "      <script>\n",
              "        const buttonEl =\n",
              "          document.querySelector('#df-93d13228-642d-418c-b220-488d7c2433ab button.colab-df-convert');\n",
              "        buttonEl.style.display =\n",
              "          google.colab.kernel.accessAllowed ? 'block' : 'none';\n",
              "\n",
              "        async function convertToInteractive(key) {\n",
              "          const element = document.querySelector('#df-93d13228-642d-418c-b220-488d7c2433ab');\n",
              "          const dataTable =\n",
              "            await google.colab.kernel.invokeFunction('convertToInteractive',\n",
              "                                                     [key], {});\n",
              "          if (!dataTable) return;\n",
              "\n",
              "          const docLinkHtml = 'Like what you see? Visit the ' +\n",
              "            '<a target=\"_blank\" href=https://colab.research.google.com/notebooks/data_table.ipynb>data table notebook</a>'\n",
              "            + ' to learn more about interactive tables.';\n",
              "          element.innerHTML = '';\n",
              "          dataTable['output_type'] = 'display_data';\n",
              "          await google.colab.output.renderOutput(dataTable, element);\n",
              "          const docLink = document.createElement('div');\n",
              "          docLink.innerHTML = docLinkHtml;\n",
              "          element.appendChild(docLink);\n",
              "        }\n",
              "      </script>\n",
              "    </div>\n",
              "  </div>\n",
              "  "
            ]
          },
          "metadata": {},
          "execution_count": 28
        }
      ]
    },
    {
      "cell_type": "code",
      "source": [
        "# Porém... vamos rodar o DataFrame novamente\n",
        "\n",
        "df.head()\n",
        "\n",
        "# A coluna_nova ainda está lá!"
      ],
      "metadata": {
        "id": "YXIsGeMrhGUD",
        "colab": {
          "base_uri": "https://localhost:8080/",
          "height": 206
        },
        "outputId": "16345af9-ca16-4f8e-9c96-2de1b8d71e7f"
      },
      "execution_count": 29,
      "outputs": [
        {
          "output_type": "execute_result",
          "data": {
            "text/plain": [
              "     aluno  idade     cidade aniversario  coluna_nova\n",
              "0     João     20  São Paulo  2002-10-04            1\n",
              "1  Ribeiro     29   São João  2003-02-20            1\n",
              "2   Evaldo     22     Pinhal         NaT            1\n",
              "3   Isaias     21     Mococa  2000-04-20            1\n",
              "4  Jessyca     35      Poços  1987-12-12            1"
            ],
            "text/html": [
              "\n",
              "  <div id=\"df-ddd29fce-93d2-4a7f-93b6-e76ac6574b27\">\n",
              "    <div class=\"colab-df-container\">\n",
              "      <div>\n",
              "<style scoped>\n",
              "    .dataframe tbody tr th:only-of-type {\n",
              "        vertical-align: middle;\n",
              "    }\n",
              "\n",
              "    .dataframe tbody tr th {\n",
              "        vertical-align: top;\n",
              "    }\n",
              "\n",
              "    .dataframe thead th {\n",
              "        text-align: right;\n",
              "    }\n",
              "</style>\n",
              "<table border=\"1\" class=\"dataframe\">\n",
              "  <thead>\n",
              "    <tr style=\"text-align: right;\">\n",
              "      <th></th>\n",
              "      <th>aluno</th>\n",
              "      <th>idade</th>\n",
              "      <th>cidade</th>\n",
              "      <th>aniversario</th>\n",
              "      <th>coluna_nova</th>\n",
              "    </tr>\n",
              "  </thead>\n",
              "  <tbody>\n",
              "    <tr>\n",
              "      <th>0</th>\n",
              "      <td>João</td>\n",
              "      <td>20</td>\n",
              "      <td>São Paulo</td>\n",
              "      <td>2002-10-04</td>\n",
              "      <td>1</td>\n",
              "    </tr>\n",
              "    <tr>\n",
              "      <th>1</th>\n",
              "      <td>Ribeiro</td>\n",
              "      <td>29</td>\n",
              "      <td>São João</td>\n",
              "      <td>2003-02-20</td>\n",
              "      <td>1</td>\n",
              "    </tr>\n",
              "    <tr>\n",
              "      <th>2</th>\n",
              "      <td>Evaldo</td>\n",
              "      <td>22</td>\n",
              "      <td>Pinhal</td>\n",
              "      <td>NaT</td>\n",
              "      <td>1</td>\n",
              "    </tr>\n",
              "    <tr>\n",
              "      <th>3</th>\n",
              "      <td>Isaias</td>\n",
              "      <td>21</td>\n",
              "      <td>Mococa</td>\n",
              "      <td>2000-04-20</td>\n",
              "      <td>1</td>\n",
              "    </tr>\n",
              "    <tr>\n",
              "      <th>4</th>\n",
              "      <td>Jessyca</td>\n",
              "      <td>35</td>\n",
              "      <td>Poços</td>\n",
              "      <td>1987-12-12</td>\n",
              "      <td>1</td>\n",
              "    </tr>\n",
              "  </tbody>\n",
              "</table>\n",
              "</div>\n",
              "      <button class=\"colab-df-convert\" onclick=\"convertToInteractive('df-ddd29fce-93d2-4a7f-93b6-e76ac6574b27')\"\n",
              "              title=\"Convert this dataframe to an interactive table.\"\n",
              "              style=\"display:none;\">\n",
              "        \n",
              "  <svg xmlns=\"http://www.w3.org/2000/svg\" height=\"24px\"viewBox=\"0 0 24 24\"\n",
              "       width=\"24px\">\n",
              "    <path d=\"M0 0h24v24H0V0z\" fill=\"none\"/>\n",
              "    <path d=\"M18.56 5.44l.94 2.06.94-2.06 2.06-.94-2.06-.94-.94-2.06-.94 2.06-2.06.94zm-11 1L8.5 8.5l.94-2.06 2.06-.94-2.06-.94L8.5 2.5l-.94 2.06-2.06.94zm10 10l.94 2.06.94-2.06 2.06-.94-2.06-.94-.94-2.06-.94 2.06-2.06.94z\"/><path d=\"M17.41 7.96l-1.37-1.37c-.4-.4-.92-.59-1.43-.59-.52 0-1.04.2-1.43.59L10.3 9.45l-7.72 7.72c-.78.78-.78 2.05 0 2.83L4 21.41c.39.39.9.59 1.41.59.51 0 1.02-.2 1.41-.59l7.78-7.78 2.81-2.81c.8-.78.8-2.07 0-2.86zM5.41 20L4 18.59l7.72-7.72 1.47 1.35L5.41 20z\"/>\n",
              "  </svg>\n",
              "      </button>\n",
              "      \n",
              "  <style>\n",
              "    .colab-df-container {\n",
              "      display:flex;\n",
              "      flex-wrap:wrap;\n",
              "      gap: 12px;\n",
              "    }\n",
              "\n",
              "    .colab-df-convert {\n",
              "      background-color: #E8F0FE;\n",
              "      border: none;\n",
              "      border-radius: 50%;\n",
              "      cursor: pointer;\n",
              "      display: none;\n",
              "      fill: #1967D2;\n",
              "      height: 32px;\n",
              "      padding: 0 0 0 0;\n",
              "      width: 32px;\n",
              "    }\n",
              "\n",
              "    .colab-df-convert:hover {\n",
              "      background-color: #E2EBFA;\n",
              "      box-shadow: 0px 1px 2px rgba(60, 64, 67, 0.3), 0px 1px 3px 1px rgba(60, 64, 67, 0.15);\n",
              "      fill: #174EA6;\n",
              "    }\n",
              "\n",
              "    [theme=dark] .colab-df-convert {\n",
              "      background-color: #3B4455;\n",
              "      fill: #D2E3FC;\n",
              "    }\n",
              "\n",
              "    [theme=dark] .colab-df-convert:hover {\n",
              "      background-color: #434B5C;\n",
              "      box-shadow: 0px 1px 3px 1px rgba(0, 0, 0, 0.15);\n",
              "      filter: drop-shadow(0px 1px 2px rgba(0, 0, 0, 0.3));\n",
              "      fill: #FFFFFF;\n",
              "    }\n",
              "  </style>\n",
              "\n",
              "      <script>\n",
              "        const buttonEl =\n",
              "          document.querySelector('#df-ddd29fce-93d2-4a7f-93b6-e76ac6574b27 button.colab-df-convert');\n",
              "        buttonEl.style.display =\n",
              "          google.colab.kernel.accessAllowed ? 'block' : 'none';\n",
              "\n",
              "        async function convertToInteractive(key) {\n",
              "          const element = document.querySelector('#df-ddd29fce-93d2-4a7f-93b6-e76ac6574b27');\n",
              "          const dataTable =\n",
              "            await google.colab.kernel.invokeFunction('convertToInteractive',\n",
              "                                                     [key], {});\n",
              "          if (!dataTable) return;\n",
              "\n",
              "          const docLinkHtml = 'Like what you see? Visit the ' +\n",
              "            '<a target=\"_blank\" href=https://colab.research.google.com/notebooks/data_table.ipynb>data table notebook</a>'\n",
              "            + ' to learn more about interactive tables.';\n",
              "          element.innerHTML = '';\n",
              "          dataTable['output_type'] = 'display_data';\n",
              "          await google.colab.output.renderOutput(dataTable, element);\n",
              "          const docLink = document.createElement('div');\n",
              "          docLink.innerHTML = docLinkHtml;\n",
              "          element.appendChild(docLink);\n",
              "        }\n",
              "      </script>\n",
              "    </div>\n",
              "  </div>\n",
              "  "
            ]
          },
          "metadata": {},
          "execution_count": 29
        }
      ]
    },
    {
      "cell_type": "code",
      "source": [
        "# Corrigindo\n",
        "\n",
        "df.drop(columns = ['coluna_nova'], inplace = True) # Método 1: usando inplace()\n",
        "\n",
        "# Método 2: reatribuindo ao DataFrame\n",
        "# df = df.drop(columns = ['coluna_nova'])"
      ],
      "metadata": {
        "id": "ppWd_lINhQEU"
      },
      "execution_count": 30,
      "outputs": []
    },
    {
      "cell_type": "code",
      "source": [
        "df"
      ],
      "metadata": {
        "colab": {
          "base_uri": "https://localhost:8080/",
          "height": 269
        },
        "id": "l4XlhlE1xu6E",
        "outputId": "68aa53d9-73c2-4057-d2e3-2adf64466880"
      },
      "execution_count": 31,
      "outputs": [
        {
          "output_type": "execute_result",
          "data": {
            "text/plain": [
              "     aluno  idade     cidade aniversario\n",
              "0     João     20  São Paulo  2002-10-04\n",
              "1  Ribeiro     29   São João  2003-02-20\n",
              "2   Evaldo     22     Pinhal         NaT\n",
              "3   Isaias     21     Mococa  2000-04-20\n",
              "4  Jessyca     35      Poços  1987-12-12\n",
              "5     Anne     32   Botelhos  2000-01-01\n",
              "6     Luiz     40     Pinhal         NaT"
            ],
            "text/html": [
              "\n",
              "  <div id=\"df-6224b211-b42e-47ff-8c23-1c46834ed278\">\n",
              "    <div class=\"colab-df-container\">\n",
              "      <div>\n",
              "<style scoped>\n",
              "    .dataframe tbody tr th:only-of-type {\n",
              "        vertical-align: middle;\n",
              "    }\n",
              "\n",
              "    .dataframe tbody tr th {\n",
              "        vertical-align: top;\n",
              "    }\n",
              "\n",
              "    .dataframe thead th {\n",
              "        text-align: right;\n",
              "    }\n",
              "</style>\n",
              "<table border=\"1\" class=\"dataframe\">\n",
              "  <thead>\n",
              "    <tr style=\"text-align: right;\">\n",
              "      <th></th>\n",
              "      <th>aluno</th>\n",
              "      <th>idade</th>\n",
              "      <th>cidade</th>\n",
              "      <th>aniversario</th>\n",
              "    </tr>\n",
              "  </thead>\n",
              "  <tbody>\n",
              "    <tr>\n",
              "      <th>0</th>\n",
              "      <td>João</td>\n",
              "      <td>20</td>\n",
              "      <td>São Paulo</td>\n",
              "      <td>2002-10-04</td>\n",
              "    </tr>\n",
              "    <tr>\n",
              "      <th>1</th>\n",
              "      <td>Ribeiro</td>\n",
              "      <td>29</td>\n",
              "      <td>São João</td>\n",
              "      <td>2003-02-20</td>\n",
              "    </tr>\n",
              "    <tr>\n",
              "      <th>2</th>\n",
              "      <td>Evaldo</td>\n",
              "      <td>22</td>\n",
              "      <td>Pinhal</td>\n",
              "      <td>NaT</td>\n",
              "    </tr>\n",
              "    <tr>\n",
              "      <th>3</th>\n",
              "      <td>Isaias</td>\n",
              "      <td>21</td>\n",
              "      <td>Mococa</td>\n",
              "      <td>2000-04-20</td>\n",
              "    </tr>\n",
              "    <tr>\n",
              "      <th>4</th>\n",
              "      <td>Jessyca</td>\n",
              "      <td>35</td>\n",
              "      <td>Poços</td>\n",
              "      <td>1987-12-12</td>\n",
              "    </tr>\n",
              "    <tr>\n",
              "      <th>5</th>\n",
              "      <td>Anne</td>\n",
              "      <td>32</td>\n",
              "      <td>Botelhos</td>\n",
              "      <td>2000-01-01</td>\n",
              "    </tr>\n",
              "    <tr>\n",
              "      <th>6</th>\n",
              "      <td>Luiz</td>\n",
              "      <td>40</td>\n",
              "      <td>Pinhal</td>\n",
              "      <td>NaT</td>\n",
              "    </tr>\n",
              "  </tbody>\n",
              "</table>\n",
              "</div>\n",
              "      <button class=\"colab-df-convert\" onclick=\"convertToInteractive('df-6224b211-b42e-47ff-8c23-1c46834ed278')\"\n",
              "              title=\"Convert this dataframe to an interactive table.\"\n",
              "              style=\"display:none;\">\n",
              "        \n",
              "  <svg xmlns=\"http://www.w3.org/2000/svg\" height=\"24px\"viewBox=\"0 0 24 24\"\n",
              "       width=\"24px\">\n",
              "    <path d=\"M0 0h24v24H0V0z\" fill=\"none\"/>\n",
              "    <path d=\"M18.56 5.44l.94 2.06.94-2.06 2.06-.94-2.06-.94-.94-2.06-.94 2.06-2.06.94zm-11 1L8.5 8.5l.94-2.06 2.06-.94-2.06-.94L8.5 2.5l-.94 2.06-2.06.94zm10 10l.94 2.06.94-2.06 2.06-.94-2.06-.94-.94-2.06-.94 2.06-2.06.94z\"/><path d=\"M17.41 7.96l-1.37-1.37c-.4-.4-.92-.59-1.43-.59-.52 0-1.04.2-1.43.59L10.3 9.45l-7.72 7.72c-.78.78-.78 2.05 0 2.83L4 21.41c.39.39.9.59 1.41.59.51 0 1.02-.2 1.41-.59l7.78-7.78 2.81-2.81c.8-.78.8-2.07 0-2.86zM5.41 20L4 18.59l7.72-7.72 1.47 1.35L5.41 20z\"/>\n",
              "  </svg>\n",
              "      </button>\n",
              "      \n",
              "  <style>\n",
              "    .colab-df-container {\n",
              "      display:flex;\n",
              "      flex-wrap:wrap;\n",
              "      gap: 12px;\n",
              "    }\n",
              "\n",
              "    .colab-df-convert {\n",
              "      background-color: #E8F0FE;\n",
              "      border: none;\n",
              "      border-radius: 50%;\n",
              "      cursor: pointer;\n",
              "      display: none;\n",
              "      fill: #1967D2;\n",
              "      height: 32px;\n",
              "      padding: 0 0 0 0;\n",
              "      width: 32px;\n",
              "    }\n",
              "\n",
              "    .colab-df-convert:hover {\n",
              "      background-color: #E2EBFA;\n",
              "      box-shadow: 0px 1px 2px rgba(60, 64, 67, 0.3), 0px 1px 3px 1px rgba(60, 64, 67, 0.15);\n",
              "      fill: #174EA6;\n",
              "    }\n",
              "\n",
              "    [theme=dark] .colab-df-convert {\n",
              "      background-color: #3B4455;\n",
              "      fill: #D2E3FC;\n",
              "    }\n",
              "\n",
              "    [theme=dark] .colab-df-convert:hover {\n",
              "      background-color: #434B5C;\n",
              "      box-shadow: 0px 1px 3px 1px rgba(0, 0, 0, 0.15);\n",
              "      filter: drop-shadow(0px 1px 2px rgba(0, 0, 0, 0.3));\n",
              "      fill: #FFFFFF;\n",
              "    }\n",
              "  </style>\n",
              "\n",
              "      <script>\n",
              "        const buttonEl =\n",
              "          document.querySelector('#df-6224b211-b42e-47ff-8c23-1c46834ed278 button.colab-df-convert');\n",
              "        buttonEl.style.display =\n",
              "          google.colab.kernel.accessAllowed ? 'block' : 'none';\n",
              "\n",
              "        async function convertToInteractive(key) {\n",
              "          const element = document.querySelector('#df-6224b211-b42e-47ff-8c23-1c46834ed278');\n",
              "          const dataTable =\n",
              "            await google.colab.kernel.invokeFunction('convertToInteractive',\n",
              "                                                     [key], {});\n",
              "          if (!dataTable) return;\n",
              "\n",
              "          const docLinkHtml = 'Like what you see? Visit the ' +\n",
              "            '<a target=\"_blank\" href=https://colab.research.google.com/notebooks/data_table.ipynb>data table notebook</a>'\n",
              "            + ' to learn more about interactive tables.';\n",
              "          element.innerHTML = '';\n",
              "          dataTable['output_type'] = 'display_data';\n",
              "          await google.colab.output.renderOutput(dataTable, element);\n",
              "          const docLink = document.createElement('div');\n",
              "          docLink.innerHTML = docLinkHtml;\n",
              "          element.appendChild(docLink);\n",
              "        }\n",
              "      </script>\n",
              "    </div>\n",
              "  </div>\n",
              "  "
            ]
          },
          "metadata": {},
          "execution_count": 31
        }
      ]
    },
    {
      "cell_type": "markdown",
      "source": [
        "Extra: copiando um DataFrame"
      ],
      "metadata": {
        "id": "OSqBd8Qrhqe3"
      }
    },
    {
      "cell_type": "code",
      "source": [
        "# Copiando o dataframe 'df' para o dataframe 'df2' com o .copy()\n",
        "\n",
        "df2 = df.copy()\n",
        "\n",
        "df2.head()"
      ],
      "metadata": {
        "id": "woA5y3JUhuXJ",
        "colab": {
          "base_uri": "https://localhost:8080/",
          "height": 206
        },
        "outputId": "073916f2-d26c-4101-cb62-ae1e77444d85"
      },
      "execution_count": 32,
      "outputs": [
        {
          "output_type": "execute_result",
          "data": {
            "text/plain": [
              "     aluno  idade     cidade aniversario\n",
              "0     João     20  São Paulo  2002-10-04\n",
              "1  Ribeiro     29   São João  2003-02-20\n",
              "2   Evaldo     22     Pinhal         NaT\n",
              "3   Isaias     21     Mococa  2000-04-20\n",
              "4  Jessyca     35      Poços  1987-12-12"
            ],
            "text/html": [
              "\n",
              "  <div id=\"df-2083100c-8e27-4035-bb8e-638405743119\">\n",
              "    <div class=\"colab-df-container\">\n",
              "      <div>\n",
              "<style scoped>\n",
              "    .dataframe tbody tr th:only-of-type {\n",
              "        vertical-align: middle;\n",
              "    }\n",
              "\n",
              "    .dataframe tbody tr th {\n",
              "        vertical-align: top;\n",
              "    }\n",
              "\n",
              "    .dataframe thead th {\n",
              "        text-align: right;\n",
              "    }\n",
              "</style>\n",
              "<table border=\"1\" class=\"dataframe\">\n",
              "  <thead>\n",
              "    <tr style=\"text-align: right;\">\n",
              "      <th></th>\n",
              "      <th>aluno</th>\n",
              "      <th>idade</th>\n",
              "      <th>cidade</th>\n",
              "      <th>aniversario</th>\n",
              "    </tr>\n",
              "  </thead>\n",
              "  <tbody>\n",
              "    <tr>\n",
              "      <th>0</th>\n",
              "      <td>João</td>\n",
              "      <td>20</td>\n",
              "      <td>São Paulo</td>\n",
              "      <td>2002-10-04</td>\n",
              "    </tr>\n",
              "    <tr>\n",
              "      <th>1</th>\n",
              "      <td>Ribeiro</td>\n",
              "      <td>29</td>\n",
              "      <td>São João</td>\n",
              "      <td>2003-02-20</td>\n",
              "    </tr>\n",
              "    <tr>\n",
              "      <th>2</th>\n",
              "      <td>Evaldo</td>\n",
              "      <td>22</td>\n",
              "      <td>Pinhal</td>\n",
              "      <td>NaT</td>\n",
              "    </tr>\n",
              "    <tr>\n",
              "      <th>3</th>\n",
              "      <td>Isaias</td>\n",
              "      <td>21</td>\n",
              "      <td>Mococa</td>\n",
              "      <td>2000-04-20</td>\n",
              "    </tr>\n",
              "    <tr>\n",
              "      <th>4</th>\n",
              "      <td>Jessyca</td>\n",
              "      <td>35</td>\n",
              "      <td>Poços</td>\n",
              "      <td>1987-12-12</td>\n",
              "    </tr>\n",
              "  </tbody>\n",
              "</table>\n",
              "</div>\n",
              "      <button class=\"colab-df-convert\" onclick=\"convertToInteractive('df-2083100c-8e27-4035-bb8e-638405743119')\"\n",
              "              title=\"Convert this dataframe to an interactive table.\"\n",
              "              style=\"display:none;\">\n",
              "        \n",
              "  <svg xmlns=\"http://www.w3.org/2000/svg\" height=\"24px\"viewBox=\"0 0 24 24\"\n",
              "       width=\"24px\">\n",
              "    <path d=\"M0 0h24v24H0V0z\" fill=\"none\"/>\n",
              "    <path d=\"M18.56 5.44l.94 2.06.94-2.06 2.06-.94-2.06-.94-.94-2.06-.94 2.06-2.06.94zm-11 1L8.5 8.5l.94-2.06 2.06-.94-2.06-.94L8.5 2.5l-.94 2.06-2.06.94zm10 10l.94 2.06.94-2.06 2.06-.94-2.06-.94-.94-2.06-.94 2.06-2.06.94z\"/><path d=\"M17.41 7.96l-1.37-1.37c-.4-.4-.92-.59-1.43-.59-.52 0-1.04.2-1.43.59L10.3 9.45l-7.72 7.72c-.78.78-.78 2.05 0 2.83L4 21.41c.39.39.9.59 1.41.59.51 0 1.02-.2 1.41-.59l7.78-7.78 2.81-2.81c.8-.78.8-2.07 0-2.86zM5.41 20L4 18.59l7.72-7.72 1.47 1.35L5.41 20z\"/>\n",
              "  </svg>\n",
              "      </button>\n",
              "      \n",
              "  <style>\n",
              "    .colab-df-container {\n",
              "      display:flex;\n",
              "      flex-wrap:wrap;\n",
              "      gap: 12px;\n",
              "    }\n",
              "\n",
              "    .colab-df-convert {\n",
              "      background-color: #E8F0FE;\n",
              "      border: none;\n",
              "      border-radius: 50%;\n",
              "      cursor: pointer;\n",
              "      display: none;\n",
              "      fill: #1967D2;\n",
              "      height: 32px;\n",
              "      padding: 0 0 0 0;\n",
              "      width: 32px;\n",
              "    }\n",
              "\n",
              "    .colab-df-convert:hover {\n",
              "      background-color: #E2EBFA;\n",
              "      box-shadow: 0px 1px 2px rgba(60, 64, 67, 0.3), 0px 1px 3px 1px rgba(60, 64, 67, 0.15);\n",
              "      fill: #174EA6;\n",
              "    }\n",
              "\n",
              "    [theme=dark] .colab-df-convert {\n",
              "      background-color: #3B4455;\n",
              "      fill: #D2E3FC;\n",
              "    }\n",
              "\n",
              "    [theme=dark] .colab-df-convert:hover {\n",
              "      background-color: #434B5C;\n",
              "      box-shadow: 0px 1px 3px 1px rgba(0, 0, 0, 0.15);\n",
              "      filter: drop-shadow(0px 1px 2px rgba(0, 0, 0, 0.3));\n",
              "      fill: #FFFFFF;\n",
              "    }\n",
              "  </style>\n",
              "\n",
              "      <script>\n",
              "        const buttonEl =\n",
              "          document.querySelector('#df-2083100c-8e27-4035-bb8e-638405743119 button.colab-df-convert');\n",
              "        buttonEl.style.display =\n",
              "          google.colab.kernel.accessAllowed ? 'block' : 'none';\n",
              "\n",
              "        async function convertToInteractive(key) {\n",
              "          const element = document.querySelector('#df-2083100c-8e27-4035-bb8e-638405743119');\n",
              "          const dataTable =\n",
              "            await google.colab.kernel.invokeFunction('convertToInteractive',\n",
              "                                                     [key], {});\n",
              "          if (!dataTable) return;\n",
              "\n",
              "          const docLinkHtml = 'Like what you see? Visit the ' +\n",
              "            '<a target=\"_blank\" href=https://colab.research.google.com/notebooks/data_table.ipynb>data table notebook</a>'\n",
              "            + ' to learn more about interactive tables.';\n",
              "          element.innerHTML = '';\n",
              "          dataTable['output_type'] = 'display_data';\n",
              "          await google.colab.output.renderOutput(dataTable, element);\n",
              "          const docLink = document.createElement('div');\n",
              "          docLink.innerHTML = docLinkHtml;\n",
              "          element.appendChild(docLink);\n",
              "        }\n",
              "      </script>\n",
              "    </div>\n",
              "  </div>\n",
              "  "
            ]
          },
          "metadata": {},
          "execution_count": 32
        }
      ]
    },
    {
      "cell_type": "markdown",
      "source": [
        "- Elementos duplicados\n",
        "- Ocorrência de valores\n",
        "- Operador 'in'\n",
        "- sort_values"
      ],
      "metadata": {
        "id": "o4biVSypiCjJ"
      }
    },
    {
      "cell_type": "code",
      "source": [
        "# Ordenando a coluna idade com o sort_values()\n",
        "\n",
        "df.sort_values( 'idade', ascending = True )  # Caso você queira decrescente, use ascending = False"
      ],
      "metadata": {
        "id": "e-liDemTiR-B",
        "colab": {
          "base_uri": "https://localhost:8080/",
          "height": 269
        },
        "outputId": "ef46a3c9-59ca-45e6-f53f-7d1da131954e"
      },
      "execution_count": 37,
      "outputs": [
        {
          "output_type": "execute_result",
          "data": {
            "text/plain": [
              "     aluno  idade     cidade aniversario\n",
              "0     João     20  São Paulo  2002-10-04\n",
              "3   Isaias     21     Mococa  2000-04-20\n",
              "2   Evaldo     22     Pinhal         NaT\n",
              "1  Ribeiro     29   São João  2003-02-20\n",
              "5     Anne     32   Botelhos  2000-01-01\n",
              "4  Jessyca     35      Poços  1987-12-12\n",
              "6     Luiz     40     Pinhal         NaT"
            ],
            "text/html": [
              "\n",
              "  <div id=\"df-45d24b8a-1f45-4ad1-88b5-fabcfe7e819a\">\n",
              "    <div class=\"colab-df-container\">\n",
              "      <div>\n",
              "<style scoped>\n",
              "    .dataframe tbody tr th:only-of-type {\n",
              "        vertical-align: middle;\n",
              "    }\n",
              "\n",
              "    .dataframe tbody tr th {\n",
              "        vertical-align: top;\n",
              "    }\n",
              "\n",
              "    .dataframe thead th {\n",
              "        text-align: right;\n",
              "    }\n",
              "</style>\n",
              "<table border=\"1\" class=\"dataframe\">\n",
              "  <thead>\n",
              "    <tr style=\"text-align: right;\">\n",
              "      <th></th>\n",
              "      <th>aluno</th>\n",
              "      <th>idade</th>\n",
              "      <th>cidade</th>\n",
              "      <th>aniversario</th>\n",
              "    </tr>\n",
              "  </thead>\n",
              "  <tbody>\n",
              "    <tr>\n",
              "      <th>0</th>\n",
              "      <td>João</td>\n",
              "      <td>20</td>\n",
              "      <td>São Paulo</td>\n",
              "      <td>2002-10-04</td>\n",
              "    </tr>\n",
              "    <tr>\n",
              "      <th>3</th>\n",
              "      <td>Isaias</td>\n",
              "      <td>21</td>\n",
              "      <td>Mococa</td>\n",
              "      <td>2000-04-20</td>\n",
              "    </tr>\n",
              "    <tr>\n",
              "      <th>2</th>\n",
              "      <td>Evaldo</td>\n",
              "      <td>22</td>\n",
              "      <td>Pinhal</td>\n",
              "      <td>NaT</td>\n",
              "    </tr>\n",
              "    <tr>\n",
              "      <th>1</th>\n",
              "      <td>Ribeiro</td>\n",
              "      <td>29</td>\n",
              "      <td>São João</td>\n",
              "      <td>2003-02-20</td>\n",
              "    </tr>\n",
              "    <tr>\n",
              "      <th>5</th>\n",
              "      <td>Anne</td>\n",
              "      <td>32</td>\n",
              "      <td>Botelhos</td>\n",
              "      <td>2000-01-01</td>\n",
              "    </tr>\n",
              "    <tr>\n",
              "      <th>4</th>\n",
              "      <td>Jessyca</td>\n",
              "      <td>35</td>\n",
              "      <td>Poços</td>\n",
              "      <td>1987-12-12</td>\n",
              "    </tr>\n",
              "    <tr>\n",
              "      <th>6</th>\n",
              "      <td>Luiz</td>\n",
              "      <td>40</td>\n",
              "      <td>Pinhal</td>\n",
              "      <td>NaT</td>\n",
              "    </tr>\n",
              "  </tbody>\n",
              "</table>\n",
              "</div>\n",
              "      <button class=\"colab-df-convert\" onclick=\"convertToInteractive('df-45d24b8a-1f45-4ad1-88b5-fabcfe7e819a')\"\n",
              "              title=\"Convert this dataframe to an interactive table.\"\n",
              "              style=\"display:none;\">\n",
              "        \n",
              "  <svg xmlns=\"http://www.w3.org/2000/svg\" height=\"24px\"viewBox=\"0 0 24 24\"\n",
              "       width=\"24px\">\n",
              "    <path d=\"M0 0h24v24H0V0z\" fill=\"none\"/>\n",
              "    <path d=\"M18.56 5.44l.94 2.06.94-2.06 2.06-.94-2.06-.94-.94-2.06-.94 2.06-2.06.94zm-11 1L8.5 8.5l.94-2.06 2.06-.94-2.06-.94L8.5 2.5l-.94 2.06-2.06.94zm10 10l.94 2.06.94-2.06 2.06-.94-2.06-.94-.94-2.06-.94 2.06-2.06.94z\"/><path d=\"M17.41 7.96l-1.37-1.37c-.4-.4-.92-.59-1.43-.59-.52 0-1.04.2-1.43.59L10.3 9.45l-7.72 7.72c-.78.78-.78 2.05 0 2.83L4 21.41c.39.39.9.59 1.41.59.51 0 1.02-.2 1.41-.59l7.78-7.78 2.81-2.81c.8-.78.8-2.07 0-2.86zM5.41 20L4 18.59l7.72-7.72 1.47 1.35L5.41 20z\"/>\n",
              "  </svg>\n",
              "      </button>\n",
              "      \n",
              "  <style>\n",
              "    .colab-df-container {\n",
              "      display:flex;\n",
              "      flex-wrap:wrap;\n",
              "      gap: 12px;\n",
              "    }\n",
              "\n",
              "    .colab-df-convert {\n",
              "      background-color: #E8F0FE;\n",
              "      border: none;\n",
              "      border-radius: 50%;\n",
              "      cursor: pointer;\n",
              "      display: none;\n",
              "      fill: #1967D2;\n",
              "      height: 32px;\n",
              "      padding: 0 0 0 0;\n",
              "      width: 32px;\n",
              "    }\n",
              "\n",
              "    .colab-df-convert:hover {\n",
              "      background-color: #E2EBFA;\n",
              "      box-shadow: 0px 1px 2px rgba(60, 64, 67, 0.3), 0px 1px 3px 1px rgba(60, 64, 67, 0.15);\n",
              "      fill: #174EA6;\n",
              "    }\n",
              "\n",
              "    [theme=dark] .colab-df-convert {\n",
              "      background-color: #3B4455;\n",
              "      fill: #D2E3FC;\n",
              "    }\n",
              "\n",
              "    [theme=dark] .colab-df-convert:hover {\n",
              "      background-color: #434B5C;\n",
              "      box-shadow: 0px 1px 3px 1px rgba(0, 0, 0, 0.15);\n",
              "      filter: drop-shadow(0px 1px 2px rgba(0, 0, 0, 0.3));\n",
              "      fill: #FFFFFF;\n",
              "    }\n",
              "  </style>\n",
              "\n",
              "      <script>\n",
              "        const buttonEl =\n",
              "          document.querySelector('#df-45d24b8a-1f45-4ad1-88b5-fabcfe7e819a button.colab-df-convert');\n",
              "        buttonEl.style.display =\n",
              "          google.colab.kernel.accessAllowed ? 'block' : 'none';\n",
              "\n",
              "        async function convertToInteractive(key) {\n",
              "          const element = document.querySelector('#df-45d24b8a-1f45-4ad1-88b5-fabcfe7e819a');\n",
              "          const dataTable =\n",
              "            await google.colab.kernel.invokeFunction('convertToInteractive',\n",
              "                                                     [key], {});\n",
              "          if (!dataTable) return;\n",
              "\n",
              "          const docLinkHtml = 'Like what you see? Visit the ' +\n",
              "            '<a target=\"_blank\" href=https://colab.research.google.com/notebooks/data_table.ipynb>data table notebook</a>'\n",
              "            + ' to learn more about interactive tables.';\n",
              "          element.innerHTML = '';\n",
              "          dataTable['output_type'] = 'display_data';\n",
              "          await google.colab.output.renderOutput(dataTable, element);\n",
              "          const docLink = document.createElement('div');\n",
              "          docLink.innerHTML = docLinkHtml;\n",
              "          element.appendChild(docLink);\n",
              "        }\n",
              "      </script>\n",
              "    </div>\n",
              "  </div>\n",
              "  "
            ]
          },
          "metadata": {},
          "execution_count": 37
        }
      ]
    },
    {
      "cell_type": "code",
      "source": [
        "# Ordenando por coluna texto\n",
        "\n",
        "df.sort_values( 'aluno', ascending = True )"
      ],
      "metadata": {
        "id": "aXyLJmlXiOXk",
        "colab": {
          "base_uri": "https://localhost:8080/",
          "height": 269
        },
        "outputId": "ce6dbe0e-3655-434a-9b01-ddfca3b65d5a"
      },
      "execution_count": 39,
      "outputs": [
        {
          "output_type": "execute_result",
          "data": {
            "text/plain": [
              "     aluno  idade     cidade aniversario\n",
              "5     Anne     32   Botelhos  2000-01-01\n",
              "2   Evaldo     22     Pinhal         NaT\n",
              "3   Isaias     21     Mococa  2000-04-20\n",
              "4  Jessyca     35      Poços  1987-12-12\n",
              "0     João     20  São Paulo  2002-10-04\n",
              "6     Luiz     40     Pinhal         NaT\n",
              "1  Ribeiro     29   São João  2003-02-20"
            ],
            "text/html": [
              "\n",
              "  <div id=\"df-b68246c0-5fdf-4f5e-a86f-662caca48b55\">\n",
              "    <div class=\"colab-df-container\">\n",
              "      <div>\n",
              "<style scoped>\n",
              "    .dataframe tbody tr th:only-of-type {\n",
              "        vertical-align: middle;\n",
              "    }\n",
              "\n",
              "    .dataframe tbody tr th {\n",
              "        vertical-align: top;\n",
              "    }\n",
              "\n",
              "    .dataframe thead th {\n",
              "        text-align: right;\n",
              "    }\n",
              "</style>\n",
              "<table border=\"1\" class=\"dataframe\">\n",
              "  <thead>\n",
              "    <tr style=\"text-align: right;\">\n",
              "      <th></th>\n",
              "      <th>aluno</th>\n",
              "      <th>idade</th>\n",
              "      <th>cidade</th>\n",
              "      <th>aniversario</th>\n",
              "    </tr>\n",
              "  </thead>\n",
              "  <tbody>\n",
              "    <tr>\n",
              "      <th>5</th>\n",
              "      <td>Anne</td>\n",
              "      <td>32</td>\n",
              "      <td>Botelhos</td>\n",
              "      <td>2000-01-01</td>\n",
              "    </tr>\n",
              "    <tr>\n",
              "      <th>2</th>\n",
              "      <td>Evaldo</td>\n",
              "      <td>22</td>\n",
              "      <td>Pinhal</td>\n",
              "      <td>NaT</td>\n",
              "    </tr>\n",
              "    <tr>\n",
              "      <th>3</th>\n",
              "      <td>Isaias</td>\n",
              "      <td>21</td>\n",
              "      <td>Mococa</td>\n",
              "      <td>2000-04-20</td>\n",
              "    </tr>\n",
              "    <tr>\n",
              "      <th>4</th>\n",
              "      <td>Jessyca</td>\n",
              "      <td>35</td>\n",
              "      <td>Poços</td>\n",
              "      <td>1987-12-12</td>\n",
              "    </tr>\n",
              "    <tr>\n",
              "      <th>0</th>\n",
              "      <td>João</td>\n",
              "      <td>20</td>\n",
              "      <td>São Paulo</td>\n",
              "      <td>2002-10-04</td>\n",
              "    </tr>\n",
              "    <tr>\n",
              "      <th>6</th>\n",
              "      <td>Luiz</td>\n",
              "      <td>40</td>\n",
              "      <td>Pinhal</td>\n",
              "      <td>NaT</td>\n",
              "    </tr>\n",
              "    <tr>\n",
              "      <th>1</th>\n",
              "      <td>Ribeiro</td>\n",
              "      <td>29</td>\n",
              "      <td>São João</td>\n",
              "      <td>2003-02-20</td>\n",
              "    </tr>\n",
              "  </tbody>\n",
              "</table>\n",
              "</div>\n",
              "      <button class=\"colab-df-convert\" onclick=\"convertToInteractive('df-b68246c0-5fdf-4f5e-a86f-662caca48b55')\"\n",
              "              title=\"Convert this dataframe to an interactive table.\"\n",
              "              style=\"display:none;\">\n",
              "        \n",
              "  <svg xmlns=\"http://www.w3.org/2000/svg\" height=\"24px\"viewBox=\"0 0 24 24\"\n",
              "       width=\"24px\">\n",
              "    <path d=\"M0 0h24v24H0V0z\" fill=\"none\"/>\n",
              "    <path d=\"M18.56 5.44l.94 2.06.94-2.06 2.06-.94-2.06-.94-.94-2.06-.94 2.06-2.06.94zm-11 1L8.5 8.5l.94-2.06 2.06-.94-2.06-.94L8.5 2.5l-.94 2.06-2.06.94zm10 10l.94 2.06.94-2.06 2.06-.94-2.06-.94-.94-2.06-.94 2.06-2.06.94z\"/><path d=\"M17.41 7.96l-1.37-1.37c-.4-.4-.92-.59-1.43-.59-.52 0-1.04.2-1.43.59L10.3 9.45l-7.72 7.72c-.78.78-.78 2.05 0 2.83L4 21.41c.39.39.9.59 1.41.59.51 0 1.02-.2 1.41-.59l7.78-7.78 2.81-2.81c.8-.78.8-2.07 0-2.86zM5.41 20L4 18.59l7.72-7.72 1.47 1.35L5.41 20z\"/>\n",
              "  </svg>\n",
              "      </button>\n",
              "      \n",
              "  <style>\n",
              "    .colab-df-container {\n",
              "      display:flex;\n",
              "      flex-wrap:wrap;\n",
              "      gap: 12px;\n",
              "    }\n",
              "\n",
              "    .colab-df-convert {\n",
              "      background-color: #E8F0FE;\n",
              "      border: none;\n",
              "      border-radius: 50%;\n",
              "      cursor: pointer;\n",
              "      display: none;\n",
              "      fill: #1967D2;\n",
              "      height: 32px;\n",
              "      padding: 0 0 0 0;\n",
              "      width: 32px;\n",
              "    }\n",
              "\n",
              "    .colab-df-convert:hover {\n",
              "      background-color: #E2EBFA;\n",
              "      box-shadow: 0px 1px 2px rgba(60, 64, 67, 0.3), 0px 1px 3px 1px rgba(60, 64, 67, 0.15);\n",
              "      fill: #174EA6;\n",
              "    }\n",
              "\n",
              "    [theme=dark] .colab-df-convert {\n",
              "      background-color: #3B4455;\n",
              "      fill: #D2E3FC;\n",
              "    }\n",
              "\n",
              "    [theme=dark] .colab-df-convert:hover {\n",
              "      background-color: #434B5C;\n",
              "      box-shadow: 0px 1px 3px 1px rgba(0, 0, 0, 0.15);\n",
              "      filter: drop-shadow(0px 1px 2px rgba(0, 0, 0, 0.3));\n",
              "      fill: #FFFFFF;\n",
              "    }\n",
              "  </style>\n",
              "\n",
              "      <script>\n",
              "        const buttonEl =\n",
              "          document.querySelector('#df-b68246c0-5fdf-4f5e-a86f-662caca48b55 button.colab-df-convert');\n",
              "        buttonEl.style.display =\n",
              "          google.colab.kernel.accessAllowed ? 'block' : 'none';\n",
              "\n",
              "        async function convertToInteractive(key) {\n",
              "          const element = document.querySelector('#df-b68246c0-5fdf-4f5e-a86f-662caca48b55');\n",
              "          const dataTable =\n",
              "            await google.colab.kernel.invokeFunction('convertToInteractive',\n",
              "                                                     [key], {});\n",
              "          if (!dataTable) return;\n",
              "\n",
              "          const docLinkHtml = 'Like what you see? Visit the ' +\n",
              "            '<a target=\"_blank\" href=https://colab.research.google.com/notebooks/data_table.ipynb>data table notebook</a>'\n",
              "            + ' to learn more about interactive tables.';\n",
              "          element.innerHTML = '';\n",
              "          dataTable['output_type'] = 'display_data';\n",
              "          await google.colab.output.renderOutput(dataTable, element);\n",
              "          const docLink = document.createElement('div');\n",
              "          docLink.innerHTML = docLinkHtml;\n",
              "          element.appendChild(docLink);\n",
              "        }\n",
              "      </script>\n",
              "    </div>\n",
              "  </div>\n",
              "  "
            ]
          },
          "metadata": {},
          "execution_count": 39
        }
      ]
    },
    {
      "cell_type": "code",
      "source": [
        "# Ordenando por data de aniversário\n",
        "\n",
        "df.sort_values( 'aniversario', ascending = False )"
      ],
      "metadata": {
        "id": "RVNRR9tuiVUn",
        "colab": {
          "base_uri": "https://localhost:8080/",
          "height": 269
        },
        "outputId": "fb763350-a0db-47b3-c884-9160af716438"
      },
      "execution_count": 40,
      "outputs": [
        {
          "output_type": "execute_result",
          "data": {
            "text/plain": [
              "     aluno  idade     cidade aniversario\n",
              "1  Ribeiro     29   São João  2003-02-20\n",
              "0     João     20  São Paulo  2002-10-04\n",
              "3   Isaias     21     Mococa  2000-04-20\n",
              "5     Anne     32   Botelhos  2000-01-01\n",
              "4  Jessyca     35      Poços  1987-12-12\n",
              "2   Evaldo     22     Pinhal         NaT\n",
              "6     Luiz     40     Pinhal         NaT"
            ],
            "text/html": [
              "\n",
              "  <div id=\"df-a097c7c8-52e0-4151-9733-3c037eb2521d\">\n",
              "    <div class=\"colab-df-container\">\n",
              "      <div>\n",
              "<style scoped>\n",
              "    .dataframe tbody tr th:only-of-type {\n",
              "        vertical-align: middle;\n",
              "    }\n",
              "\n",
              "    .dataframe tbody tr th {\n",
              "        vertical-align: top;\n",
              "    }\n",
              "\n",
              "    .dataframe thead th {\n",
              "        text-align: right;\n",
              "    }\n",
              "</style>\n",
              "<table border=\"1\" class=\"dataframe\">\n",
              "  <thead>\n",
              "    <tr style=\"text-align: right;\">\n",
              "      <th></th>\n",
              "      <th>aluno</th>\n",
              "      <th>idade</th>\n",
              "      <th>cidade</th>\n",
              "      <th>aniversario</th>\n",
              "    </tr>\n",
              "  </thead>\n",
              "  <tbody>\n",
              "    <tr>\n",
              "      <th>1</th>\n",
              "      <td>Ribeiro</td>\n",
              "      <td>29</td>\n",
              "      <td>São João</td>\n",
              "      <td>2003-02-20</td>\n",
              "    </tr>\n",
              "    <tr>\n",
              "      <th>0</th>\n",
              "      <td>João</td>\n",
              "      <td>20</td>\n",
              "      <td>São Paulo</td>\n",
              "      <td>2002-10-04</td>\n",
              "    </tr>\n",
              "    <tr>\n",
              "      <th>3</th>\n",
              "      <td>Isaias</td>\n",
              "      <td>21</td>\n",
              "      <td>Mococa</td>\n",
              "      <td>2000-04-20</td>\n",
              "    </tr>\n",
              "    <tr>\n",
              "      <th>5</th>\n",
              "      <td>Anne</td>\n",
              "      <td>32</td>\n",
              "      <td>Botelhos</td>\n",
              "      <td>2000-01-01</td>\n",
              "    </tr>\n",
              "    <tr>\n",
              "      <th>4</th>\n",
              "      <td>Jessyca</td>\n",
              "      <td>35</td>\n",
              "      <td>Poços</td>\n",
              "      <td>1987-12-12</td>\n",
              "    </tr>\n",
              "    <tr>\n",
              "      <th>2</th>\n",
              "      <td>Evaldo</td>\n",
              "      <td>22</td>\n",
              "      <td>Pinhal</td>\n",
              "      <td>NaT</td>\n",
              "    </tr>\n",
              "    <tr>\n",
              "      <th>6</th>\n",
              "      <td>Luiz</td>\n",
              "      <td>40</td>\n",
              "      <td>Pinhal</td>\n",
              "      <td>NaT</td>\n",
              "    </tr>\n",
              "  </tbody>\n",
              "</table>\n",
              "</div>\n",
              "      <button class=\"colab-df-convert\" onclick=\"convertToInteractive('df-a097c7c8-52e0-4151-9733-3c037eb2521d')\"\n",
              "              title=\"Convert this dataframe to an interactive table.\"\n",
              "              style=\"display:none;\">\n",
              "        \n",
              "  <svg xmlns=\"http://www.w3.org/2000/svg\" height=\"24px\"viewBox=\"0 0 24 24\"\n",
              "       width=\"24px\">\n",
              "    <path d=\"M0 0h24v24H0V0z\" fill=\"none\"/>\n",
              "    <path d=\"M18.56 5.44l.94 2.06.94-2.06 2.06-.94-2.06-.94-.94-2.06-.94 2.06-2.06.94zm-11 1L8.5 8.5l.94-2.06 2.06-.94-2.06-.94L8.5 2.5l-.94 2.06-2.06.94zm10 10l.94 2.06.94-2.06 2.06-.94-2.06-.94-.94-2.06-.94 2.06-2.06.94z\"/><path d=\"M17.41 7.96l-1.37-1.37c-.4-.4-.92-.59-1.43-.59-.52 0-1.04.2-1.43.59L10.3 9.45l-7.72 7.72c-.78.78-.78 2.05 0 2.83L4 21.41c.39.39.9.59 1.41.59.51 0 1.02-.2 1.41-.59l7.78-7.78 2.81-2.81c.8-.78.8-2.07 0-2.86zM5.41 20L4 18.59l7.72-7.72 1.47 1.35L5.41 20z\"/>\n",
              "  </svg>\n",
              "      </button>\n",
              "      \n",
              "  <style>\n",
              "    .colab-df-container {\n",
              "      display:flex;\n",
              "      flex-wrap:wrap;\n",
              "      gap: 12px;\n",
              "    }\n",
              "\n",
              "    .colab-df-convert {\n",
              "      background-color: #E8F0FE;\n",
              "      border: none;\n",
              "      border-radius: 50%;\n",
              "      cursor: pointer;\n",
              "      display: none;\n",
              "      fill: #1967D2;\n",
              "      height: 32px;\n",
              "      padding: 0 0 0 0;\n",
              "      width: 32px;\n",
              "    }\n",
              "\n",
              "    .colab-df-convert:hover {\n",
              "      background-color: #E2EBFA;\n",
              "      box-shadow: 0px 1px 2px rgba(60, 64, 67, 0.3), 0px 1px 3px 1px rgba(60, 64, 67, 0.15);\n",
              "      fill: #174EA6;\n",
              "    }\n",
              "\n",
              "    [theme=dark] .colab-df-convert {\n",
              "      background-color: #3B4455;\n",
              "      fill: #D2E3FC;\n",
              "    }\n",
              "\n",
              "    [theme=dark] .colab-df-convert:hover {\n",
              "      background-color: #434B5C;\n",
              "      box-shadow: 0px 1px 3px 1px rgba(0, 0, 0, 0.15);\n",
              "      filter: drop-shadow(0px 1px 2px rgba(0, 0, 0, 0.3));\n",
              "      fill: #FFFFFF;\n",
              "    }\n",
              "  </style>\n",
              "\n",
              "      <script>\n",
              "        const buttonEl =\n",
              "          document.querySelector('#df-a097c7c8-52e0-4151-9733-3c037eb2521d button.colab-df-convert');\n",
              "        buttonEl.style.display =\n",
              "          google.colab.kernel.accessAllowed ? 'block' : 'none';\n",
              "\n",
              "        async function convertToInteractive(key) {\n",
              "          const element = document.querySelector('#df-a097c7c8-52e0-4151-9733-3c037eb2521d');\n",
              "          const dataTable =\n",
              "            await google.colab.kernel.invokeFunction('convertToInteractive',\n",
              "                                                     [key], {});\n",
              "          if (!dataTable) return;\n",
              "\n",
              "          const docLinkHtml = 'Like what you see? Visit the ' +\n",
              "            '<a target=\"_blank\" href=https://colab.research.google.com/notebooks/data_table.ipynb>data table notebook</a>'\n",
              "            + ' to learn more about interactive tables.';\n",
              "          element.innerHTML = '';\n",
              "          dataTable['output_type'] = 'display_data';\n",
              "          await google.colab.output.renderOutput(dataTable, element);\n",
              "          const docLink = document.createElement('div');\n",
              "          docLink.innerHTML = docLinkHtml;\n",
              "          element.appendChild(docLink);\n",
              "        }\n",
              "      </script>\n",
              "    </div>\n",
              "  </div>\n",
              "  "
            ]
          },
          "metadata": {},
          "execution_count": 40
        }
      ]
    },
    {
      "cell_type": "markdown",
      "source": [
        "Extra: entendendo o pandas sort_values() <br>\n",
        "https://www.sharpsightlabs.com/blog/pandas-sort_values/"
      ],
      "metadata": {
        "id": "0Tjm2fczm4fw"
      }
    },
    {
      "cell_type": "code",
      "source": [
        "# Procurando se alguém mora em 'Mococa' com o operador 'in'\n",
        "\n",
        "df['cidade'].isin( ['Mococa'] )\n",
        "\n",
        "# Repare no True para o índice 3"
      ],
      "metadata": {
        "id": "5JN87huBihln",
        "colab": {
          "base_uri": "https://localhost:8080/"
        },
        "outputId": "916986c0-45f9-4be0-ba10-93f89c5f0128"
      },
      "execution_count": 41,
      "outputs": [
        {
          "output_type": "execute_result",
          "data": {
            "text/plain": [
              "0    False\n",
              "1    False\n",
              "2    False\n",
              "3     True\n",
              "4    False\n",
              "5    False\n",
              "6    False\n",
              "Name: cidade, dtype: bool"
            ]
          },
          "metadata": {},
          "execution_count": 41
        }
      ]
    },
    {
      "cell_type": "code",
      "source": [
        "# Verificando se há alguma linha duplicada\n",
        "\n",
        "df.duplicated()\n",
        "\n",
        "# Nenhuma linha está duplicada\n",
        "# Consulta extra: https://pandas.pydata.org/docs/reference/api/pandas.DataFrame.duplicated.html"
      ],
      "metadata": {
        "id": "2l7pzZsRi987",
        "colab": {
          "base_uri": "https://localhost:8080/"
        },
        "outputId": "da0cf1cd-cc53-4c15-d430-0eee54ba51d0"
      },
      "execution_count": 42,
      "outputs": [
        {
          "output_type": "execute_result",
          "data": {
            "text/plain": [
              "0    False\n",
              "1    False\n",
              "2    False\n",
              "3    False\n",
              "4    False\n",
              "5    False\n",
              "6    False\n",
              "dtype: bool"
            ]
          },
          "metadata": {},
          "execution_count": 42
        }
      ]
    },
    {
      "cell_type": "code",
      "source": [
        "# Verificando se há um valor duplicado em 'cidade'\n",
        "\n",
        "df['cidade'].duplicated(keep = False)\n",
        "\n",
        "# Há 2 ocorrências que se repetem"
      ],
      "metadata": {
        "id": "qL40mIPFjNl_",
        "colab": {
          "base_uri": "https://localhost:8080/"
        },
        "outputId": "dd0b271a-fcc1-423c-ebc2-49c3cf1742e1"
      },
      "execution_count": 44,
      "outputs": [
        {
          "output_type": "execute_result",
          "data": {
            "text/plain": [
              "0    False\n",
              "1    False\n",
              "2     True\n",
              "3    False\n",
              "4    False\n",
              "5    False\n",
              "6     True\n",
              "Name: cidade, dtype: bool"
            ]
          },
          "metadata": {},
          "execution_count": 44
        }
      ]
    },
    {
      "cell_type": "code",
      "source": [
        "# Buscando pelos valores únicos de uma coluna\n",
        "\n",
        "df['cidade'].unique()"
      ],
      "metadata": {
        "id": "i6oYuOT6jZGs",
        "colab": {
          "base_uri": "https://localhost:8080/"
        },
        "outputId": "0d73ce2a-5467-44e2-954e-bb0b5898ce85"
      },
      "execution_count": 45,
      "outputs": [
        {
          "output_type": "execute_result",
          "data": {
            "text/plain": [
              "array(['São Paulo', 'São João', 'Pinhal', 'Mococa', 'Poços', 'Botelhos'],\n",
              "      dtype=object)"
            ]
          },
          "metadata": {},
          "execution_count": 45
        }
      ]
    },
    {
      "cell_type": "code",
      "source": [
        "# E quantos são os valores únicos?\n",
        "\n",
        "df['cidade'].nunique()"
      ],
      "metadata": {
        "id": "2M1L-0Ixjd2B",
        "colab": {
          "base_uri": "https://localhost:8080/"
        },
        "outputId": "22417663-7535-47a2-b94e-43f7bc687b2e"
      },
      "execution_count": 46,
      "outputs": [
        {
          "output_type": "execute_result",
          "data": {
            "text/plain": [
              "6"
            ]
          },
          "metadata": {},
          "execution_count": 46
        }
      ]
    },
    {
      "cell_type": "markdown",
      "source": [
        "Maneira rápida de verificar as principais estatísticas do DataFrame"
      ],
      "metadata": {
        "id": "43TsM0Buk9pG"
      }
    },
    {
      "cell_type": "code",
      "source": [
        "# Procurando a contagem, média, desvio padrão, mínimo, percentils e valor máximo\n",
        "\n",
        "df.describe()"
      ],
      "metadata": {
        "id": "xvpEQqFdlDQC",
        "colab": {
          "base_uri": "https://localhost:8080/",
          "height": 300
        },
        "outputId": "630cd392-5904-4e48-b874-c9b60c14feee"
      },
      "execution_count": 47,
      "outputs": [
        {
          "output_type": "execute_result",
          "data": {
            "text/plain": [
              "           idade\n",
              "count   7.000000\n",
              "mean   28.428571\n",
              "std     7.721337\n",
              "min    20.000000\n",
              "25%    21.500000\n",
              "50%    29.000000\n",
              "75%    33.500000\n",
              "max    40.000000"
            ],
            "text/html": [
              "\n",
              "  <div id=\"df-4b59bcf0-e10e-42fa-b03a-4cf342049612\">\n",
              "    <div class=\"colab-df-container\">\n",
              "      <div>\n",
              "<style scoped>\n",
              "    .dataframe tbody tr th:only-of-type {\n",
              "        vertical-align: middle;\n",
              "    }\n",
              "\n",
              "    .dataframe tbody tr th {\n",
              "        vertical-align: top;\n",
              "    }\n",
              "\n",
              "    .dataframe thead th {\n",
              "        text-align: right;\n",
              "    }\n",
              "</style>\n",
              "<table border=\"1\" class=\"dataframe\">\n",
              "  <thead>\n",
              "    <tr style=\"text-align: right;\">\n",
              "      <th></th>\n",
              "      <th>idade</th>\n",
              "    </tr>\n",
              "  </thead>\n",
              "  <tbody>\n",
              "    <tr>\n",
              "      <th>count</th>\n",
              "      <td>7.000000</td>\n",
              "    </tr>\n",
              "    <tr>\n",
              "      <th>mean</th>\n",
              "      <td>28.428571</td>\n",
              "    </tr>\n",
              "    <tr>\n",
              "      <th>std</th>\n",
              "      <td>7.721337</td>\n",
              "    </tr>\n",
              "    <tr>\n",
              "      <th>min</th>\n",
              "      <td>20.000000</td>\n",
              "    </tr>\n",
              "    <tr>\n",
              "      <th>25%</th>\n",
              "      <td>21.500000</td>\n",
              "    </tr>\n",
              "    <tr>\n",
              "      <th>50%</th>\n",
              "      <td>29.000000</td>\n",
              "    </tr>\n",
              "    <tr>\n",
              "      <th>75%</th>\n",
              "      <td>33.500000</td>\n",
              "    </tr>\n",
              "    <tr>\n",
              "      <th>max</th>\n",
              "      <td>40.000000</td>\n",
              "    </tr>\n",
              "  </tbody>\n",
              "</table>\n",
              "</div>\n",
              "      <button class=\"colab-df-convert\" onclick=\"convertToInteractive('df-4b59bcf0-e10e-42fa-b03a-4cf342049612')\"\n",
              "              title=\"Convert this dataframe to an interactive table.\"\n",
              "              style=\"display:none;\">\n",
              "        \n",
              "  <svg xmlns=\"http://www.w3.org/2000/svg\" height=\"24px\"viewBox=\"0 0 24 24\"\n",
              "       width=\"24px\">\n",
              "    <path d=\"M0 0h24v24H0V0z\" fill=\"none\"/>\n",
              "    <path d=\"M18.56 5.44l.94 2.06.94-2.06 2.06-.94-2.06-.94-.94-2.06-.94 2.06-2.06.94zm-11 1L8.5 8.5l.94-2.06 2.06-.94-2.06-.94L8.5 2.5l-.94 2.06-2.06.94zm10 10l.94 2.06.94-2.06 2.06-.94-2.06-.94-.94-2.06-.94 2.06-2.06.94z\"/><path d=\"M17.41 7.96l-1.37-1.37c-.4-.4-.92-.59-1.43-.59-.52 0-1.04.2-1.43.59L10.3 9.45l-7.72 7.72c-.78.78-.78 2.05 0 2.83L4 21.41c.39.39.9.59 1.41.59.51 0 1.02-.2 1.41-.59l7.78-7.78 2.81-2.81c.8-.78.8-2.07 0-2.86zM5.41 20L4 18.59l7.72-7.72 1.47 1.35L5.41 20z\"/>\n",
              "  </svg>\n",
              "      </button>\n",
              "      \n",
              "  <style>\n",
              "    .colab-df-container {\n",
              "      display:flex;\n",
              "      flex-wrap:wrap;\n",
              "      gap: 12px;\n",
              "    }\n",
              "\n",
              "    .colab-df-convert {\n",
              "      background-color: #E8F0FE;\n",
              "      border: none;\n",
              "      border-radius: 50%;\n",
              "      cursor: pointer;\n",
              "      display: none;\n",
              "      fill: #1967D2;\n",
              "      height: 32px;\n",
              "      padding: 0 0 0 0;\n",
              "      width: 32px;\n",
              "    }\n",
              "\n",
              "    .colab-df-convert:hover {\n",
              "      background-color: #E2EBFA;\n",
              "      box-shadow: 0px 1px 2px rgba(60, 64, 67, 0.3), 0px 1px 3px 1px rgba(60, 64, 67, 0.15);\n",
              "      fill: #174EA6;\n",
              "    }\n",
              "\n",
              "    [theme=dark] .colab-df-convert {\n",
              "      background-color: #3B4455;\n",
              "      fill: #D2E3FC;\n",
              "    }\n",
              "\n",
              "    [theme=dark] .colab-df-convert:hover {\n",
              "      background-color: #434B5C;\n",
              "      box-shadow: 0px 1px 3px 1px rgba(0, 0, 0, 0.15);\n",
              "      filter: drop-shadow(0px 1px 2px rgba(0, 0, 0, 0.3));\n",
              "      fill: #FFFFFF;\n",
              "    }\n",
              "  </style>\n",
              "\n",
              "      <script>\n",
              "        const buttonEl =\n",
              "          document.querySelector('#df-4b59bcf0-e10e-42fa-b03a-4cf342049612 button.colab-df-convert');\n",
              "        buttonEl.style.display =\n",
              "          google.colab.kernel.accessAllowed ? 'block' : 'none';\n",
              "\n",
              "        async function convertToInteractive(key) {\n",
              "          const element = document.querySelector('#df-4b59bcf0-e10e-42fa-b03a-4cf342049612');\n",
              "          const dataTable =\n",
              "            await google.colab.kernel.invokeFunction('convertToInteractive',\n",
              "                                                     [key], {});\n",
              "          if (!dataTable) return;\n",
              "\n",
              "          const docLinkHtml = 'Like what you see? Visit the ' +\n",
              "            '<a target=\"_blank\" href=https://colab.research.google.com/notebooks/data_table.ipynb>data table notebook</a>'\n",
              "            + ' to learn more about interactive tables.';\n",
              "          element.innerHTML = '';\n",
              "          dataTable['output_type'] = 'display_data';\n",
              "          await google.colab.output.renderOutput(dataTable, element);\n",
              "          const docLink = document.createElement('div');\n",
              "          docLink.innerHTML = docLinkHtml;\n",
              "          element.appendChild(docLink);\n",
              "        }\n",
              "      </script>\n",
              "    </div>\n",
              "  </div>\n",
              "  "
            ]
          },
          "metadata": {},
          "execution_count": 47
        }
      ]
    },
    {
      "cell_type": "code",
      "source": [
        "# Verificando para strings\n",
        "\n",
        "df.describe( include = ['O'] )"
      ],
      "metadata": {
        "id": "sXr7QOpKlMML",
        "colab": {
          "base_uri": "https://localhost:8080/",
          "height": 175
        },
        "outputId": "f721c457-47f5-4143-b7a6-e5e7debc165e"
      },
      "execution_count": 48,
      "outputs": [
        {
          "output_type": "execute_result",
          "data": {
            "text/plain": [
              "       aluno  cidade\n",
              "count      7       7\n",
              "unique     7       6\n",
              "top     João  Pinhal\n",
              "freq       1       2"
            ],
            "text/html": [
              "\n",
              "  <div id=\"df-5a1d4695-bcc1-424d-b597-02216250f816\">\n",
              "    <div class=\"colab-df-container\">\n",
              "      <div>\n",
              "<style scoped>\n",
              "    .dataframe tbody tr th:only-of-type {\n",
              "        vertical-align: middle;\n",
              "    }\n",
              "\n",
              "    .dataframe tbody tr th {\n",
              "        vertical-align: top;\n",
              "    }\n",
              "\n",
              "    .dataframe thead th {\n",
              "        text-align: right;\n",
              "    }\n",
              "</style>\n",
              "<table border=\"1\" class=\"dataframe\">\n",
              "  <thead>\n",
              "    <tr style=\"text-align: right;\">\n",
              "      <th></th>\n",
              "      <th>aluno</th>\n",
              "      <th>cidade</th>\n",
              "    </tr>\n",
              "  </thead>\n",
              "  <tbody>\n",
              "    <tr>\n",
              "      <th>count</th>\n",
              "      <td>7</td>\n",
              "      <td>7</td>\n",
              "    </tr>\n",
              "    <tr>\n",
              "      <th>unique</th>\n",
              "      <td>7</td>\n",
              "      <td>6</td>\n",
              "    </tr>\n",
              "    <tr>\n",
              "      <th>top</th>\n",
              "      <td>João</td>\n",
              "      <td>Pinhal</td>\n",
              "    </tr>\n",
              "    <tr>\n",
              "      <th>freq</th>\n",
              "      <td>1</td>\n",
              "      <td>2</td>\n",
              "    </tr>\n",
              "  </tbody>\n",
              "</table>\n",
              "</div>\n",
              "      <button class=\"colab-df-convert\" onclick=\"convertToInteractive('df-5a1d4695-bcc1-424d-b597-02216250f816')\"\n",
              "              title=\"Convert this dataframe to an interactive table.\"\n",
              "              style=\"display:none;\">\n",
              "        \n",
              "  <svg xmlns=\"http://www.w3.org/2000/svg\" height=\"24px\"viewBox=\"0 0 24 24\"\n",
              "       width=\"24px\">\n",
              "    <path d=\"M0 0h24v24H0V0z\" fill=\"none\"/>\n",
              "    <path d=\"M18.56 5.44l.94 2.06.94-2.06 2.06-.94-2.06-.94-.94-2.06-.94 2.06-2.06.94zm-11 1L8.5 8.5l.94-2.06 2.06-.94-2.06-.94L8.5 2.5l-.94 2.06-2.06.94zm10 10l.94 2.06.94-2.06 2.06-.94-2.06-.94-.94-2.06-.94 2.06-2.06.94z\"/><path d=\"M17.41 7.96l-1.37-1.37c-.4-.4-.92-.59-1.43-.59-.52 0-1.04.2-1.43.59L10.3 9.45l-7.72 7.72c-.78.78-.78 2.05 0 2.83L4 21.41c.39.39.9.59 1.41.59.51 0 1.02-.2 1.41-.59l7.78-7.78 2.81-2.81c.8-.78.8-2.07 0-2.86zM5.41 20L4 18.59l7.72-7.72 1.47 1.35L5.41 20z\"/>\n",
              "  </svg>\n",
              "      </button>\n",
              "      \n",
              "  <style>\n",
              "    .colab-df-container {\n",
              "      display:flex;\n",
              "      flex-wrap:wrap;\n",
              "      gap: 12px;\n",
              "    }\n",
              "\n",
              "    .colab-df-convert {\n",
              "      background-color: #E8F0FE;\n",
              "      border: none;\n",
              "      border-radius: 50%;\n",
              "      cursor: pointer;\n",
              "      display: none;\n",
              "      fill: #1967D2;\n",
              "      height: 32px;\n",
              "      padding: 0 0 0 0;\n",
              "      width: 32px;\n",
              "    }\n",
              "\n",
              "    .colab-df-convert:hover {\n",
              "      background-color: #E2EBFA;\n",
              "      box-shadow: 0px 1px 2px rgba(60, 64, 67, 0.3), 0px 1px 3px 1px rgba(60, 64, 67, 0.15);\n",
              "      fill: #174EA6;\n",
              "    }\n",
              "\n",
              "    [theme=dark] .colab-df-convert {\n",
              "      background-color: #3B4455;\n",
              "      fill: #D2E3FC;\n",
              "    }\n",
              "\n",
              "    [theme=dark] .colab-df-convert:hover {\n",
              "      background-color: #434B5C;\n",
              "      box-shadow: 0px 1px 3px 1px rgba(0, 0, 0, 0.15);\n",
              "      filter: drop-shadow(0px 1px 2px rgba(0, 0, 0, 0.3));\n",
              "      fill: #FFFFFF;\n",
              "    }\n",
              "  </style>\n",
              "\n",
              "      <script>\n",
              "        const buttonEl =\n",
              "          document.querySelector('#df-5a1d4695-bcc1-424d-b597-02216250f816 button.colab-df-convert');\n",
              "        buttonEl.style.display =\n",
              "          google.colab.kernel.accessAllowed ? 'block' : 'none';\n",
              "\n",
              "        async function convertToInteractive(key) {\n",
              "          const element = document.querySelector('#df-5a1d4695-bcc1-424d-b597-02216250f816');\n",
              "          const dataTable =\n",
              "            await google.colab.kernel.invokeFunction('convertToInteractive',\n",
              "                                                     [key], {});\n",
              "          if (!dataTable) return;\n",
              "\n",
              "          const docLinkHtml = 'Like what you see? Visit the ' +\n",
              "            '<a target=\"_blank\" href=https://colab.research.google.com/notebooks/data_table.ipynb>data table notebook</a>'\n",
              "            + ' to learn more about interactive tables.';\n",
              "          element.innerHTML = '';\n",
              "          dataTable['output_type'] = 'display_data';\n",
              "          await google.colab.output.renderOutput(dataTable, element);\n",
              "          const docLink = document.createElement('div');\n",
              "          docLink.innerHTML = docLinkHtml;\n",
              "          element.appendChild(docLink);\n",
              "        }\n",
              "      </script>\n",
              "    </div>\n",
              "  </div>\n",
              "  "
            ]
          },
          "metadata": {},
          "execution_count": 48
        }
      ]
    },
    {
      "cell_type": "markdown",
      "source": [
        "Valores **NaN**"
      ],
      "metadata": {
        "id": "KGuBXFXmmEKM"
      }
    },
    {
      "cell_type": "code",
      "source": [
        "# Buscando se e quantos valores NaN's temos em nosso dataframe\n",
        "\n",
        "df.isna().sum()\n",
        "\n",
        "# Há 2 valores faltantes em aniversario"
      ],
      "metadata": {
        "id": "UvzVo7Vdo2v8",
        "colab": {
          "base_uri": "https://localhost:8080/"
        },
        "outputId": "c75d9c11-d020-4a0e-f3c4-07df32fe0825"
      },
      "execution_count": 50,
      "outputs": [
        {
          "output_type": "execute_result",
          "data": {
            "text/plain": [
              "aluno          0\n",
              "idade          0\n",
              "cidade         0\n",
              "aniversario    2\n",
              "dtype: int64"
            ]
          },
          "metadata": {},
          "execution_count": 50
        }
      ]
    },
    {
      "cell_type": "code",
      "source": [
        "# Preenchendo os valores faltantes com os valores de cima\n",
        "\n",
        "# 1º: Verificando o df antes do processo\n",
        "df"
      ],
      "metadata": {
        "id": "hnf71TiJpShK",
        "colab": {
          "base_uri": "https://localhost:8080/",
          "height": 269
        },
        "outputId": "35e2abaa-f5b9-44a4-9f79-3772a354e6c1"
      },
      "execution_count": 51,
      "outputs": [
        {
          "output_type": "execute_result",
          "data": {
            "text/plain": [
              "     aluno  idade     cidade aniversario\n",
              "0     João     20  São Paulo  2002-10-04\n",
              "1  Ribeiro     29   São João  2003-02-20\n",
              "2   Evaldo     22     Pinhal         NaT\n",
              "3   Isaias     21     Mococa  2000-04-20\n",
              "4  Jessyca     35      Poços  1987-12-12\n",
              "5     Anne     32   Botelhos  2000-01-01\n",
              "6     Luiz     40     Pinhal         NaT"
            ],
            "text/html": [
              "\n",
              "  <div id=\"df-44eb9393-bb52-43a4-a1b3-75e296de2bd0\">\n",
              "    <div class=\"colab-df-container\">\n",
              "      <div>\n",
              "<style scoped>\n",
              "    .dataframe tbody tr th:only-of-type {\n",
              "        vertical-align: middle;\n",
              "    }\n",
              "\n",
              "    .dataframe tbody tr th {\n",
              "        vertical-align: top;\n",
              "    }\n",
              "\n",
              "    .dataframe thead th {\n",
              "        text-align: right;\n",
              "    }\n",
              "</style>\n",
              "<table border=\"1\" class=\"dataframe\">\n",
              "  <thead>\n",
              "    <tr style=\"text-align: right;\">\n",
              "      <th></th>\n",
              "      <th>aluno</th>\n",
              "      <th>idade</th>\n",
              "      <th>cidade</th>\n",
              "      <th>aniversario</th>\n",
              "    </tr>\n",
              "  </thead>\n",
              "  <tbody>\n",
              "    <tr>\n",
              "      <th>0</th>\n",
              "      <td>João</td>\n",
              "      <td>20</td>\n",
              "      <td>São Paulo</td>\n",
              "      <td>2002-10-04</td>\n",
              "    </tr>\n",
              "    <tr>\n",
              "      <th>1</th>\n",
              "      <td>Ribeiro</td>\n",
              "      <td>29</td>\n",
              "      <td>São João</td>\n",
              "      <td>2003-02-20</td>\n",
              "    </tr>\n",
              "    <tr>\n",
              "      <th>2</th>\n",
              "      <td>Evaldo</td>\n",
              "      <td>22</td>\n",
              "      <td>Pinhal</td>\n",
              "      <td>NaT</td>\n",
              "    </tr>\n",
              "    <tr>\n",
              "      <th>3</th>\n",
              "      <td>Isaias</td>\n",
              "      <td>21</td>\n",
              "      <td>Mococa</td>\n",
              "      <td>2000-04-20</td>\n",
              "    </tr>\n",
              "    <tr>\n",
              "      <th>4</th>\n",
              "      <td>Jessyca</td>\n",
              "      <td>35</td>\n",
              "      <td>Poços</td>\n",
              "      <td>1987-12-12</td>\n",
              "    </tr>\n",
              "    <tr>\n",
              "      <th>5</th>\n",
              "      <td>Anne</td>\n",
              "      <td>32</td>\n",
              "      <td>Botelhos</td>\n",
              "      <td>2000-01-01</td>\n",
              "    </tr>\n",
              "    <tr>\n",
              "      <th>6</th>\n",
              "      <td>Luiz</td>\n",
              "      <td>40</td>\n",
              "      <td>Pinhal</td>\n",
              "      <td>NaT</td>\n",
              "    </tr>\n",
              "  </tbody>\n",
              "</table>\n",
              "</div>\n",
              "      <button class=\"colab-df-convert\" onclick=\"convertToInteractive('df-44eb9393-bb52-43a4-a1b3-75e296de2bd0')\"\n",
              "              title=\"Convert this dataframe to an interactive table.\"\n",
              "              style=\"display:none;\">\n",
              "        \n",
              "  <svg xmlns=\"http://www.w3.org/2000/svg\" height=\"24px\"viewBox=\"0 0 24 24\"\n",
              "       width=\"24px\">\n",
              "    <path d=\"M0 0h24v24H0V0z\" fill=\"none\"/>\n",
              "    <path d=\"M18.56 5.44l.94 2.06.94-2.06 2.06-.94-2.06-.94-.94-2.06-.94 2.06-2.06.94zm-11 1L8.5 8.5l.94-2.06 2.06-.94-2.06-.94L8.5 2.5l-.94 2.06-2.06.94zm10 10l.94 2.06.94-2.06 2.06-.94-2.06-.94-.94-2.06-.94 2.06-2.06.94z\"/><path d=\"M17.41 7.96l-1.37-1.37c-.4-.4-.92-.59-1.43-.59-.52 0-1.04.2-1.43.59L10.3 9.45l-7.72 7.72c-.78.78-.78 2.05 0 2.83L4 21.41c.39.39.9.59 1.41.59.51 0 1.02-.2 1.41-.59l7.78-7.78 2.81-2.81c.8-.78.8-2.07 0-2.86zM5.41 20L4 18.59l7.72-7.72 1.47 1.35L5.41 20z\"/>\n",
              "  </svg>\n",
              "      </button>\n",
              "      \n",
              "  <style>\n",
              "    .colab-df-container {\n",
              "      display:flex;\n",
              "      flex-wrap:wrap;\n",
              "      gap: 12px;\n",
              "    }\n",
              "\n",
              "    .colab-df-convert {\n",
              "      background-color: #E8F0FE;\n",
              "      border: none;\n",
              "      border-radius: 50%;\n",
              "      cursor: pointer;\n",
              "      display: none;\n",
              "      fill: #1967D2;\n",
              "      height: 32px;\n",
              "      padding: 0 0 0 0;\n",
              "      width: 32px;\n",
              "    }\n",
              "\n",
              "    .colab-df-convert:hover {\n",
              "      background-color: #E2EBFA;\n",
              "      box-shadow: 0px 1px 2px rgba(60, 64, 67, 0.3), 0px 1px 3px 1px rgba(60, 64, 67, 0.15);\n",
              "      fill: #174EA6;\n",
              "    }\n",
              "\n",
              "    [theme=dark] .colab-df-convert {\n",
              "      background-color: #3B4455;\n",
              "      fill: #D2E3FC;\n",
              "    }\n",
              "\n",
              "    [theme=dark] .colab-df-convert:hover {\n",
              "      background-color: #434B5C;\n",
              "      box-shadow: 0px 1px 3px 1px rgba(0, 0, 0, 0.15);\n",
              "      filter: drop-shadow(0px 1px 2px rgba(0, 0, 0, 0.3));\n",
              "      fill: #FFFFFF;\n",
              "    }\n",
              "  </style>\n",
              "\n",
              "      <script>\n",
              "        const buttonEl =\n",
              "          document.querySelector('#df-44eb9393-bb52-43a4-a1b3-75e296de2bd0 button.colab-df-convert');\n",
              "        buttonEl.style.display =\n",
              "          google.colab.kernel.accessAllowed ? 'block' : 'none';\n",
              "\n",
              "        async function convertToInteractive(key) {\n",
              "          const element = document.querySelector('#df-44eb9393-bb52-43a4-a1b3-75e296de2bd0');\n",
              "          const dataTable =\n",
              "            await google.colab.kernel.invokeFunction('convertToInteractive',\n",
              "                                                     [key], {});\n",
              "          if (!dataTable) return;\n",
              "\n",
              "          const docLinkHtml = 'Like what you see? Visit the ' +\n",
              "            '<a target=\"_blank\" href=https://colab.research.google.com/notebooks/data_table.ipynb>data table notebook</a>'\n",
              "            + ' to learn more about interactive tables.';\n",
              "          element.innerHTML = '';\n",
              "          dataTable['output_type'] = 'display_data';\n",
              "          await google.colab.output.renderOutput(dataTable, element);\n",
              "          const docLink = document.createElement('div');\n",
              "          docLink.innerHTML = docLinkHtml;\n",
              "          element.appendChild(docLink);\n",
              "        }\n",
              "      </script>\n",
              "    </div>\n",
              "  </div>\n",
              "  "
            ]
          },
          "metadata": {},
          "execution_count": 51
        }
      ]
    },
    {
      "cell_type": "code",
      "source": [
        "# 2º: Completando os valores Na com os valores de cima\n",
        "\n",
        "df['aniversario'].fillna( method = 'pad', inplace = True ) # Outros métodos backfill, bfill, pad, ffill, None etc\n",
        "\n",
        "df"
      ],
      "metadata": {
        "id": "GRSg_KQopZZZ",
        "colab": {
          "base_uri": "https://localhost:8080/",
          "height": 269
        },
        "outputId": "4715bbc7-9809-448c-fad2-8de3f1b84413"
      },
      "execution_count": 52,
      "outputs": [
        {
          "output_type": "execute_result",
          "data": {
            "text/plain": [
              "     aluno  idade     cidade aniversario\n",
              "0     João     20  São Paulo  2002-10-04\n",
              "1  Ribeiro     29   São João  2003-02-20\n",
              "2   Evaldo     22     Pinhal  2003-02-20\n",
              "3   Isaias     21     Mococa  2000-04-20\n",
              "4  Jessyca     35      Poços  1987-12-12\n",
              "5     Anne     32   Botelhos  2000-01-01\n",
              "6     Luiz     40     Pinhal  2000-01-01"
            ],
            "text/html": [
              "\n",
              "  <div id=\"df-21bd9de9-673a-4ffb-8f62-17868679c1a4\">\n",
              "    <div class=\"colab-df-container\">\n",
              "      <div>\n",
              "<style scoped>\n",
              "    .dataframe tbody tr th:only-of-type {\n",
              "        vertical-align: middle;\n",
              "    }\n",
              "\n",
              "    .dataframe tbody tr th {\n",
              "        vertical-align: top;\n",
              "    }\n",
              "\n",
              "    .dataframe thead th {\n",
              "        text-align: right;\n",
              "    }\n",
              "</style>\n",
              "<table border=\"1\" class=\"dataframe\">\n",
              "  <thead>\n",
              "    <tr style=\"text-align: right;\">\n",
              "      <th></th>\n",
              "      <th>aluno</th>\n",
              "      <th>idade</th>\n",
              "      <th>cidade</th>\n",
              "      <th>aniversario</th>\n",
              "    </tr>\n",
              "  </thead>\n",
              "  <tbody>\n",
              "    <tr>\n",
              "      <th>0</th>\n",
              "      <td>João</td>\n",
              "      <td>20</td>\n",
              "      <td>São Paulo</td>\n",
              "      <td>2002-10-04</td>\n",
              "    </tr>\n",
              "    <tr>\n",
              "      <th>1</th>\n",
              "      <td>Ribeiro</td>\n",
              "      <td>29</td>\n",
              "      <td>São João</td>\n",
              "      <td>2003-02-20</td>\n",
              "    </tr>\n",
              "    <tr>\n",
              "      <th>2</th>\n",
              "      <td>Evaldo</td>\n",
              "      <td>22</td>\n",
              "      <td>Pinhal</td>\n",
              "      <td>2003-02-20</td>\n",
              "    </tr>\n",
              "    <tr>\n",
              "      <th>3</th>\n",
              "      <td>Isaias</td>\n",
              "      <td>21</td>\n",
              "      <td>Mococa</td>\n",
              "      <td>2000-04-20</td>\n",
              "    </tr>\n",
              "    <tr>\n",
              "      <th>4</th>\n",
              "      <td>Jessyca</td>\n",
              "      <td>35</td>\n",
              "      <td>Poços</td>\n",
              "      <td>1987-12-12</td>\n",
              "    </tr>\n",
              "    <tr>\n",
              "      <th>5</th>\n",
              "      <td>Anne</td>\n",
              "      <td>32</td>\n",
              "      <td>Botelhos</td>\n",
              "      <td>2000-01-01</td>\n",
              "    </tr>\n",
              "    <tr>\n",
              "      <th>6</th>\n",
              "      <td>Luiz</td>\n",
              "      <td>40</td>\n",
              "      <td>Pinhal</td>\n",
              "      <td>2000-01-01</td>\n",
              "    </tr>\n",
              "  </tbody>\n",
              "</table>\n",
              "</div>\n",
              "      <button class=\"colab-df-convert\" onclick=\"convertToInteractive('df-21bd9de9-673a-4ffb-8f62-17868679c1a4')\"\n",
              "              title=\"Convert this dataframe to an interactive table.\"\n",
              "              style=\"display:none;\">\n",
              "        \n",
              "  <svg xmlns=\"http://www.w3.org/2000/svg\" height=\"24px\"viewBox=\"0 0 24 24\"\n",
              "       width=\"24px\">\n",
              "    <path d=\"M0 0h24v24H0V0z\" fill=\"none\"/>\n",
              "    <path d=\"M18.56 5.44l.94 2.06.94-2.06 2.06-.94-2.06-.94-.94-2.06-.94 2.06-2.06.94zm-11 1L8.5 8.5l.94-2.06 2.06-.94-2.06-.94L8.5 2.5l-.94 2.06-2.06.94zm10 10l.94 2.06.94-2.06 2.06-.94-2.06-.94-.94-2.06-.94 2.06-2.06.94z\"/><path d=\"M17.41 7.96l-1.37-1.37c-.4-.4-.92-.59-1.43-.59-.52 0-1.04.2-1.43.59L10.3 9.45l-7.72 7.72c-.78.78-.78 2.05 0 2.83L4 21.41c.39.39.9.59 1.41.59.51 0 1.02-.2 1.41-.59l7.78-7.78 2.81-2.81c.8-.78.8-2.07 0-2.86zM5.41 20L4 18.59l7.72-7.72 1.47 1.35L5.41 20z\"/>\n",
              "  </svg>\n",
              "      </button>\n",
              "      \n",
              "  <style>\n",
              "    .colab-df-container {\n",
              "      display:flex;\n",
              "      flex-wrap:wrap;\n",
              "      gap: 12px;\n",
              "    }\n",
              "\n",
              "    .colab-df-convert {\n",
              "      background-color: #E8F0FE;\n",
              "      border: none;\n",
              "      border-radius: 50%;\n",
              "      cursor: pointer;\n",
              "      display: none;\n",
              "      fill: #1967D2;\n",
              "      height: 32px;\n",
              "      padding: 0 0 0 0;\n",
              "      width: 32px;\n",
              "    }\n",
              "\n",
              "    .colab-df-convert:hover {\n",
              "      background-color: #E2EBFA;\n",
              "      box-shadow: 0px 1px 2px rgba(60, 64, 67, 0.3), 0px 1px 3px 1px rgba(60, 64, 67, 0.15);\n",
              "      fill: #174EA6;\n",
              "    }\n",
              "\n",
              "    [theme=dark] .colab-df-convert {\n",
              "      background-color: #3B4455;\n",
              "      fill: #D2E3FC;\n",
              "    }\n",
              "\n",
              "    [theme=dark] .colab-df-convert:hover {\n",
              "      background-color: #434B5C;\n",
              "      box-shadow: 0px 1px 3px 1px rgba(0, 0, 0, 0.15);\n",
              "      filter: drop-shadow(0px 1px 2px rgba(0, 0, 0, 0.3));\n",
              "      fill: #FFFFFF;\n",
              "    }\n",
              "  </style>\n",
              "\n",
              "      <script>\n",
              "        const buttonEl =\n",
              "          document.querySelector('#df-21bd9de9-673a-4ffb-8f62-17868679c1a4 button.colab-df-convert');\n",
              "        buttonEl.style.display =\n",
              "          google.colab.kernel.accessAllowed ? 'block' : 'none';\n",
              "\n",
              "        async function convertToInteractive(key) {\n",
              "          const element = document.querySelector('#df-21bd9de9-673a-4ffb-8f62-17868679c1a4');\n",
              "          const dataTable =\n",
              "            await google.colab.kernel.invokeFunction('convertToInteractive',\n",
              "                                                     [key], {});\n",
              "          if (!dataTable) return;\n",
              "\n",
              "          const docLinkHtml = 'Like what you see? Visit the ' +\n",
              "            '<a target=\"_blank\" href=https://colab.research.google.com/notebooks/data_table.ipynb>data table notebook</a>'\n",
              "            + ' to learn more about interactive tables.';\n",
              "          element.innerHTML = '';\n",
              "          dataTable['output_type'] = 'display_data';\n",
              "          await google.colab.output.renderOutput(dataTable, element);\n",
              "          const docLink = document.createElement('div');\n",
              "          docLink.innerHTML = docLinkHtml;\n",
              "          element.appendChild(docLink);\n",
              "        }\n",
              "      </script>\n",
              "    </div>\n",
              "  </div>\n",
              "  "
            ]
          },
          "metadata": {},
          "execution_count": 52
        }
      ]
    },
    {
      "cell_type": "markdown",
      "source": [
        "Outra forma de completar os valores vazios seria utilizando o replace()\n",
        "\n",
        "Fique de olho: https://pandas.pydata.org/docs/reference/api/pandas.DataFrame.replace.html"
      ],
      "metadata": {
        "id": "RQx-UT3rUpiI"
      }
    },
    {
      "cell_type": "markdown",
      "source": [
        "Agrupando com o groupby() e uma função de agregação (como count, nunique, sum, mean etc)"
      ],
      "metadata": {
        "id": "EI6t1yq5GaVa"
      }
    },
    {
      "cell_type": "code",
      "source": [
        "# Realizando um agrupamento para ver quantos alunos moram em cada cidade\n",
        "\n",
        "df_group = df.copy()\n",
        "\n",
        "df_group = df_group.groupby( ['cidade'] )['aluno'].nunique()\n",
        "df_group"
      ],
      "metadata": {
        "id": "U9Dj2mZTGg_L",
        "colab": {
          "base_uri": "https://localhost:8080/"
        },
        "outputId": "eca51ed7-1075-47a2-d0c3-540394011fc8"
      },
      "execution_count": 56,
      "outputs": [
        {
          "output_type": "execute_result",
          "data": {
            "text/plain": [
              "cidade\n",
              "Botelhos     1\n",
              "Mococa       1\n",
              "Pinhal       2\n",
              "Poços        1\n",
              "São João     1\n",
              "São Paulo    1\n",
              "Name: aluno, dtype: int64"
            ]
          },
          "metadata": {},
          "execution_count": 56
        }
      ]
    },
    {
      "cell_type": "code",
      "source": [
        "# Agrupamento para verificar a média de idade por cidade\n",
        "\n",
        "df_group2 = df.copy()\n",
        "\n",
        "df_group2 = df_group2.groupby( ['cidade'] )['idade'].mean()\n",
        "\n",
        "df_group2"
      ],
      "metadata": {
        "id": "g89GQ874mERt",
        "colab": {
          "base_uri": "https://localhost:8080/"
        },
        "outputId": "a2e95262-a508-4904-a9b7-652d3f5d2ad6"
      },
      "execution_count": 57,
      "outputs": [
        {
          "output_type": "execute_result",
          "data": {
            "text/plain": [
              "cidade\n",
              "Botelhos     32.0\n",
              "Mococa       21.0\n",
              "Pinhal       31.0\n",
              "Poços        35.0\n",
              "São João     29.0\n",
              "São Paulo    20.0\n",
              "Name: idade, dtype: float64"
            ]
          },
          "metadata": {},
          "execution_count": 57
        }
      ]
    },
    {
      "cell_type": "markdown",
      "source": [
        "Outros métodos de fill: https://pandas.pydata.org/docs/reference/api/pandas.DataFrame.fillna.html\n",
        "\n",
        "(...) e caso queira excluir as linhas ou colunas com valores vazios, utilize o comando `df.dropna()` especificando o 'axis'"
      ],
      "metadata": {
        "id": "5Etl2GJ_p-sI"
      }
    },
    {
      "cell_type": "markdown",
      "source": [
        "**Extra**\n",
        "\n",
        "Faça uma cópia do df anterior com o nome de 'df_exercicio' e então, altere as ocorrências da cidade 'Pinhal' para 'Aguai'.<br>\n",
        "*Imprima o dataframe resultante*"
      ],
      "metadata": {
        "id": "x3PYz5BhkFHd"
      }
    },
    {
      "cell_type": "code",
      "source": [
        "df_extra = df.copy()\n",
        "\n",
        "df_extra.loc[ df_extra.cidade == \"Pinhal\", 'cidade' ] = \"Aguai\"\n",
        "\n",
        "df_extra"
      ],
      "metadata": {
        "id": "3e8lrt60mFaz",
        "colab": {
          "base_uri": "https://localhost:8080/",
          "height": 269
        },
        "outputId": "d3f8b82a-b77e-4f58-dc61-5340ebf85daa"
      },
      "execution_count": 61,
      "outputs": [
        {
          "output_type": "execute_result",
          "data": {
            "text/plain": [
              "     aluno  idade     cidade aniversario\n",
              "0     João     20  São Paulo  2002-10-04\n",
              "1  Ribeiro     29   São João  2003-02-20\n",
              "2   Evaldo     22      Aguai  2003-02-20\n",
              "3   Isaias     21     Mococa  2000-04-20\n",
              "4  Jessyca     35      Poços  1987-12-12\n",
              "5     Anne     32   Botelhos  2000-01-01\n",
              "6     Luiz     40      Aguai  2000-01-01"
            ],
            "text/html": [
              "\n",
              "  <div id=\"df-ce7529c7-3bf1-42ad-92e6-1738b02bd9ca\">\n",
              "    <div class=\"colab-df-container\">\n",
              "      <div>\n",
              "<style scoped>\n",
              "    .dataframe tbody tr th:only-of-type {\n",
              "        vertical-align: middle;\n",
              "    }\n",
              "\n",
              "    .dataframe tbody tr th {\n",
              "        vertical-align: top;\n",
              "    }\n",
              "\n",
              "    .dataframe thead th {\n",
              "        text-align: right;\n",
              "    }\n",
              "</style>\n",
              "<table border=\"1\" class=\"dataframe\">\n",
              "  <thead>\n",
              "    <tr style=\"text-align: right;\">\n",
              "      <th></th>\n",
              "      <th>aluno</th>\n",
              "      <th>idade</th>\n",
              "      <th>cidade</th>\n",
              "      <th>aniversario</th>\n",
              "    </tr>\n",
              "  </thead>\n",
              "  <tbody>\n",
              "    <tr>\n",
              "      <th>0</th>\n",
              "      <td>João</td>\n",
              "      <td>20</td>\n",
              "      <td>São Paulo</td>\n",
              "      <td>2002-10-04</td>\n",
              "    </tr>\n",
              "    <tr>\n",
              "      <th>1</th>\n",
              "      <td>Ribeiro</td>\n",
              "      <td>29</td>\n",
              "      <td>São João</td>\n",
              "      <td>2003-02-20</td>\n",
              "    </tr>\n",
              "    <tr>\n",
              "      <th>2</th>\n",
              "      <td>Evaldo</td>\n",
              "      <td>22</td>\n",
              "      <td>Aguai</td>\n",
              "      <td>2003-02-20</td>\n",
              "    </tr>\n",
              "    <tr>\n",
              "      <th>3</th>\n",
              "      <td>Isaias</td>\n",
              "      <td>21</td>\n",
              "      <td>Mococa</td>\n",
              "      <td>2000-04-20</td>\n",
              "    </tr>\n",
              "    <tr>\n",
              "      <th>4</th>\n",
              "      <td>Jessyca</td>\n",
              "      <td>35</td>\n",
              "      <td>Poços</td>\n",
              "      <td>1987-12-12</td>\n",
              "    </tr>\n",
              "    <tr>\n",
              "      <th>5</th>\n",
              "      <td>Anne</td>\n",
              "      <td>32</td>\n",
              "      <td>Botelhos</td>\n",
              "      <td>2000-01-01</td>\n",
              "    </tr>\n",
              "    <tr>\n",
              "      <th>6</th>\n",
              "      <td>Luiz</td>\n",
              "      <td>40</td>\n",
              "      <td>Aguai</td>\n",
              "      <td>2000-01-01</td>\n",
              "    </tr>\n",
              "  </tbody>\n",
              "</table>\n",
              "</div>\n",
              "      <button class=\"colab-df-convert\" onclick=\"convertToInteractive('df-ce7529c7-3bf1-42ad-92e6-1738b02bd9ca')\"\n",
              "              title=\"Convert this dataframe to an interactive table.\"\n",
              "              style=\"display:none;\">\n",
              "        \n",
              "  <svg xmlns=\"http://www.w3.org/2000/svg\" height=\"24px\"viewBox=\"0 0 24 24\"\n",
              "       width=\"24px\">\n",
              "    <path d=\"M0 0h24v24H0V0z\" fill=\"none\"/>\n",
              "    <path d=\"M18.56 5.44l.94 2.06.94-2.06 2.06-.94-2.06-.94-.94-2.06-.94 2.06-2.06.94zm-11 1L8.5 8.5l.94-2.06 2.06-.94-2.06-.94L8.5 2.5l-.94 2.06-2.06.94zm10 10l.94 2.06.94-2.06 2.06-.94-2.06-.94-.94-2.06-.94 2.06-2.06.94z\"/><path d=\"M17.41 7.96l-1.37-1.37c-.4-.4-.92-.59-1.43-.59-.52 0-1.04.2-1.43.59L10.3 9.45l-7.72 7.72c-.78.78-.78 2.05 0 2.83L4 21.41c.39.39.9.59 1.41.59.51 0 1.02-.2 1.41-.59l7.78-7.78 2.81-2.81c.8-.78.8-2.07 0-2.86zM5.41 20L4 18.59l7.72-7.72 1.47 1.35L5.41 20z\"/>\n",
              "  </svg>\n",
              "      </button>\n",
              "      \n",
              "  <style>\n",
              "    .colab-df-container {\n",
              "      display:flex;\n",
              "      flex-wrap:wrap;\n",
              "      gap: 12px;\n",
              "    }\n",
              "\n",
              "    .colab-df-convert {\n",
              "      background-color: #E8F0FE;\n",
              "      border: none;\n",
              "      border-radius: 50%;\n",
              "      cursor: pointer;\n",
              "      display: none;\n",
              "      fill: #1967D2;\n",
              "      height: 32px;\n",
              "      padding: 0 0 0 0;\n",
              "      width: 32px;\n",
              "    }\n",
              "\n",
              "    .colab-df-convert:hover {\n",
              "      background-color: #E2EBFA;\n",
              "      box-shadow: 0px 1px 2px rgba(60, 64, 67, 0.3), 0px 1px 3px 1px rgba(60, 64, 67, 0.15);\n",
              "      fill: #174EA6;\n",
              "    }\n",
              "\n",
              "    [theme=dark] .colab-df-convert {\n",
              "      background-color: #3B4455;\n",
              "      fill: #D2E3FC;\n",
              "    }\n",
              "\n",
              "    [theme=dark] .colab-df-convert:hover {\n",
              "      background-color: #434B5C;\n",
              "      box-shadow: 0px 1px 3px 1px rgba(0, 0, 0, 0.15);\n",
              "      filter: drop-shadow(0px 1px 2px rgba(0, 0, 0, 0.3));\n",
              "      fill: #FFFFFF;\n",
              "    }\n",
              "  </style>\n",
              "\n",
              "      <script>\n",
              "        const buttonEl =\n",
              "          document.querySelector('#df-ce7529c7-3bf1-42ad-92e6-1738b02bd9ca button.colab-df-convert');\n",
              "        buttonEl.style.display =\n",
              "          google.colab.kernel.accessAllowed ? 'block' : 'none';\n",
              "\n",
              "        async function convertToInteractive(key) {\n",
              "          const element = document.querySelector('#df-ce7529c7-3bf1-42ad-92e6-1738b02bd9ca');\n",
              "          const dataTable =\n",
              "            await google.colab.kernel.invokeFunction('convertToInteractive',\n",
              "                                                     [key], {});\n",
              "          if (!dataTable) return;\n",
              "\n",
              "          const docLinkHtml = 'Like what you see? Visit the ' +\n",
              "            '<a target=\"_blank\" href=https://colab.research.google.com/notebooks/data_table.ipynb>data table notebook</a>'\n",
              "            + ' to learn more about interactive tables.';\n",
              "          element.innerHTML = '';\n",
              "          dataTable['output_type'] = 'display_data';\n",
              "          await google.colab.output.renderOutput(dataTable, element);\n",
              "          const docLink = document.createElement('div');\n",
              "          docLink.innerHTML = docLinkHtml;\n",
              "          element.appendChild(docLink);\n",
              "        }\n",
              "      </script>\n",
              "    </div>\n",
              "  </div>\n",
              "  "
            ]
          },
          "metadata": {},
          "execution_count": 61
        }
      ]
    },
    {
      "cell_type": "markdown",
      "source": [
        "Lendo arquivos em Pandas\n",
        "\n",
        "<img src=\"data:image/jpeg;base64,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\" width=50%>"
      ],
      "metadata": {
        "id": "C0Q4UDsmqD1p"
      }
    },
    {
      "cell_type": "markdown",
      "source": [
        "Link para o dataset de exemplo:\n",
        "https://www.kaggle.com/datasets/nehalbirla/vehicle-dataset-from-cardekho"
      ],
      "metadata": {
        "id": "CsI7pToaRlhx"
      }
    },
    {
      "cell_type": "code",
      "source": [
        "data_cars = pd.read_csv('/content/Car details v3.csv')\n",
        "\n",
        "# Outros parâmetros úteis para o pd.read():\n",
        "  # encoding: colocamos o 'encode'. Ex. UTF-8\n",
        "  # skiprows: pulamos N linhas iniciais do arquivo\n",
        "  # sep: Tipo de separador. No csv geralmente é a vírgula ','\n",
        "  # skipfooter: pulamos N linhas finais do arquivo\n",
        "  # thousands: especificamos como está os milhares. Ex. 10.000,00 = dez mil\n",
        "  # decimal: especificamos como está os decimais. Ex. 10,5 = dez vírgula cinco\n",
        "\n",
        "data_cars.head()"
      ],
      "metadata": {
        "id": "Wj4Ipxk7qRqA",
        "colab": {
          "base_uri": "https://localhost:8080/",
          "height": 476
        },
        "outputId": "b2d194f4-b49d-455d-aeea-3f9f3557d852"
      },
      "execution_count": 63,
      "outputs": [
        {
          "output_type": "execute_result",
          "data": {
            "text/plain": [
              "                           name  year  selling_price  km_driven    fuel  \\\n",
              "0        Maruti Swift Dzire VDI  2014         450000     145500  Diesel   \n",
              "1  Skoda Rapid 1.5 TDI Ambition  2014         370000     120000  Diesel   \n",
              "2      Honda City 2017-2020 EXi  2006         158000     140000  Petrol   \n",
              "3     Hyundai i20 Sportz Diesel  2010         225000     127000  Diesel   \n",
              "4        Maruti Swift VXI BSIII  2007         130000     120000  Petrol   \n",
              "\n",
              "  seller_type transmission         owner     mileage   engine   max_power  \\\n",
              "0  Individual       Manual   First Owner   23.4 kmpl  1248 CC      74 bhp   \n",
              "1  Individual       Manual  Second Owner  21.14 kmpl  1498 CC  103.52 bhp   \n",
              "2  Individual       Manual   Third Owner   17.7 kmpl  1497 CC      78 bhp   \n",
              "3  Individual       Manual   First Owner   23.0 kmpl  1396 CC      90 bhp   \n",
              "4  Individual       Manual   First Owner   16.1 kmpl  1298 CC    88.2 bhp   \n",
              "\n",
              "                     torque  seats  \n",
              "0            190Nm@ 2000rpm    5.0  \n",
              "1       250Nm@ 1500-2500rpm    5.0  \n",
              "2     12.7@ 2,700(kgm@ rpm)    5.0  \n",
              "3  22.4 kgm at 1750-2750rpm    5.0  \n",
              "4     11.5@ 4,500(kgm@ rpm)    5.0  "
            ],
            "text/html": [
              "\n",
              "  <div id=\"df-086f54df-f7b9-49eb-ae70-5f8da0e9181d\">\n",
              "    <div class=\"colab-df-container\">\n",
              "      <div>\n",
              "<style scoped>\n",
              "    .dataframe tbody tr th:only-of-type {\n",
              "        vertical-align: middle;\n",
              "    }\n",
              "\n",
              "    .dataframe tbody tr th {\n",
              "        vertical-align: top;\n",
              "    }\n",
              "\n",
              "    .dataframe thead th {\n",
              "        text-align: right;\n",
              "    }\n",
              "</style>\n",
              "<table border=\"1\" class=\"dataframe\">\n",
              "  <thead>\n",
              "    <tr style=\"text-align: right;\">\n",
              "      <th></th>\n",
              "      <th>name</th>\n",
              "      <th>year</th>\n",
              "      <th>selling_price</th>\n",
              "      <th>km_driven</th>\n",
              "      <th>fuel</th>\n",
              "      <th>seller_type</th>\n",
              "      <th>transmission</th>\n",
              "      <th>owner</th>\n",
              "      <th>mileage</th>\n",
              "      <th>engine</th>\n",
              "      <th>max_power</th>\n",
              "      <th>torque</th>\n",
              "      <th>seats</th>\n",
              "    </tr>\n",
              "  </thead>\n",
              "  <tbody>\n",
              "    <tr>\n",
              "      <th>0</th>\n",
              "      <td>Maruti Swift Dzire VDI</td>\n",
              "      <td>2014</td>\n",
              "      <td>450000</td>\n",
              "      <td>145500</td>\n",
              "      <td>Diesel</td>\n",
              "      <td>Individual</td>\n",
              "      <td>Manual</td>\n",
              "      <td>First Owner</td>\n",
              "      <td>23.4 kmpl</td>\n",
              "      <td>1248 CC</td>\n",
              "      <td>74 bhp</td>\n",
              "      <td>190Nm@ 2000rpm</td>\n",
              "      <td>5.0</td>\n",
              "    </tr>\n",
              "    <tr>\n",
              "      <th>1</th>\n",
              "      <td>Skoda Rapid 1.5 TDI Ambition</td>\n",
              "      <td>2014</td>\n",
              "      <td>370000</td>\n",
              "      <td>120000</td>\n",
              "      <td>Diesel</td>\n",
              "      <td>Individual</td>\n",
              "      <td>Manual</td>\n",
              "      <td>Second Owner</td>\n",
              "      <td>21.14 kmpl</td>\n",
              "      <td>1498 CC</td>\n",
              "      <td>103.52 bhp</td>\n",
              "      <td>250Nm@ 1500-2500rpm</td>\n",
              "      <td>5.0</td>\n",
              "    </tr>\n",
              "    <tr>\n",
              "      <th>2</th>\n",
              "      <td>Honda City 2017-2020 EXi</td>\n",
              "      <td>2006</td>\n",
              "      <td>158000</td>\n",
              "      <td>140000</td>\n",
              "      <td>Petrol</td>\n",
              "      <td>Individual</td>\n",
              "      <td>Manual</td>\n",
              "      <td>Third Owner</td>\n",
              "      <td>17.7 kmpl</td>\n",
              "      <td>1497 CC</td>\n",
              "      <td>78 bhp</td>\n",
              "      <td>12.7@ 2,700(kgm@ rpm)</td>\n",
              "      <td>5.0</td>\n",
              "    </tr>\n",
              "    <tr>\n",
              "      <th>3</th>\n",
              "      <td>Hyundai i20 Sportz Diesel</td>\n",
              "      <td>2010</td>\n",
              "      <td>225000</td>\n",
              "      <td>127000</td>\n",
              "      <td>Diesel</td>\n",
              "      <td>Individual</td>\n",
              "      <td>Manual</td>\n",
              "      <td>First Owner</td>\n",
              "      <td>23.0 kmpl</td>\n",
              "      <td>1396 CC</td>\n",
              "      <td>90 bhp</td>\n",
              "      <td>22.4 kgm at 1750-2750rpm</td>\n",
              "      <td>5.0</td>\n",
              "    </tr>\n",
              "    <tr>\n",
              "      <th>4</th>\n",
              "      <td>Maruti Swift VXI BSIII</td>\n",
              "      <td>2007</td>\n",
              "      <td>130000</td>\n",
              "      <td>120000</td>\n",
              "      <td>Petrol</td>\n",
              "      <td>Individual</td>\n",
              "      <td>Manual</td>\n",
              "      <td>First Owner</td>\n",
              "      <td>16.1 kmpl</td>\n",
              "      <td>1298 CC</td>\n",
              "      <td>88.2 bhp</td>\n",
              "      <td>11.5@ 4,500(kgm@ rpm)</td>\n",
              "      <td>5.0</td>\n",
              "    </tr>\n",
              "  </tbody>\n",
              "</table>\n",
              "</div>\n",
              "      <button class=\"colab-df-convert\" onclick=\"convertToInteractive('df-086f54df-f7b9-49eb-ae70-5f8da0e9181d')\"\n",
              "              title=\"Convert this dataframe to an interactive table.\"\n",
              "              style=\"display:none;\">\n",
              "        \n",
              "  <svg xmlns=\"http://www.w3.org/2000/svg\" height=\"24px\"viewBox=\"0 0 24 24\"\n",
              "       width=\"24px\">\n",
              "    <path d=\"M0 0h24v24H0V0z\" fill=\"none\"/>\n",
              "    <path d=\"M18.56 5.44l.94 2.06.94-2.06 2.06-.94-2.06-.94-.94-2.06-.94 2.06-2.06.94zm-11 1L8.5 8.5l.94-2.06 2.06-.94-2.06-.94L8.5 2.5l-.94 2.06-2.06.94zm10 10l.94 2.06.94-2.06 2.06-.94-2.06-.94-.94-2.06-.94 2.06-2.06.94z\"/><path d=\"M17.41 7.96l-1.37-1.37c-.4-.4-.92-.59-1.43-.59-.52 0-1.04.2-1.43.59L10.3 9.45l-7.72 7.72c-.78.78-.78 2.05 0 2.83L4 21.41c.39.39.9.59 1.41.59.51 0 1.02-.2 1.41-.59l7.78-7.78 2.81-2.81c.8-.78.8-2.07 0-2.86zM5.41 20L4 18.59l7.72-7.72 1.47 1.35L5.41 20z\"/>\n",
              "  </svg>\n",
              "      </button>\n",
              "      \n",
              "  <style>\n",
              "    .colab-df-container {\n",
              "      display:flex;\n",
              "      flex-wrap:wrap;\n",
              "      gap: 12px;\n",
              "    }\n",
              "\n",
              "    .colab-df-convert {\n",
              "      background-color: #E8F0FE;\n",
              "      border: none;\n",
              "      border-radius: 50%;\n",
              "      cursor: pointer;\n",
              "      display: none;\n",
              "      fill: #1967D2;\n",
              "      height: 32px;\n",
              "      padding: 0 0 0 0;\n",
              "      width: 32px;\n",
              "    }\n",
              "\n",
              "    .colab-df-convert:hover {\n",
              "      background-color: #E2EBFA;\n",
              "      box-shadow: 0px 1px 2px rgba(60, 64, 67, 0.3), 0px 1px 3px 1px rgba(60, 64, 67, 0.15);\n",
              "      fill: #174EA6;\n",
              "    }\n",
              "\n",
              "    [theme=dark] .colab-df-convert {\n",
              "      background-color: #3B4455;\n",
              "      fill: #D2E3FC;\n",
              "    }\n",
              "\n",
              "    [theme=dark] .colab-df-convert:hover {\n",
              "      background-color: #434B5C;\n",
              "      box-shadow: 0px 1px 3px 1px rgba(0, 0, 0, 0.15);\n",
              "      filter: drop-shadow(0px 1px 2px rgba(0, 0, 0, 0.3));\n",
              "      fill: #FFFFFF;\n",
              "    }\n",
              "  </style>\n",
              "\n",
              "      <script>\n",
              "        const buttonEl =\n",
              "          document.querySelector('#df-086f54df-f7b9-49eb-ae70-5f8da0e9181d button.colab-df-convert');\n",
              "        buttonEl.style.display =\n",
              "          google.colab.kernel.accessAllowed ? 'block' : 'none';\n",
              "\n",
              "        async function convertToInteractive(key) {\n",
              "          const element = document.querySelector('#df-086f54df-f7b9-49eb-ae70-5f8da0e9181d');\n",
              "          const dataTable =\n",
              "            await google.colab.kernel.invokeFunction('convertToInteractive',\n",
              "                                                     [key], {});\n",
              "          if (!dataTable) return;\n",
              "\n",
              "          const docLinkHtml = 'Like what you see? Visit the ' +\n",
              "            '<a target=\"_blank\" href=https://colab.research.google.com/notebooks/data_table.ipynb>data table notebook</a>'\n",
              "            + ' to learn more about interactive tables.';\n",
              "          element.innerHTML = '';\n",
              "          dataTable['output_type'] = 'display_data';\n",
              "          await google.colab.output.renderOutput(dataTable, element);\n",
              "          const docLink = document.createElement('div');\n",
              "          docLink.innerHTML = docLinkHtml;\n",
              "          element.appendChild(docLink);\n",
              "        }\n",
              "      </script>\n",
              "    </div>\n",
              "  </div>\n",
              "  "
            ]
          },
          "metadata": {},
          "execution_count": 63
        }
      ]
    },
    {
      "cell_type": "markdown",
      "source": [
        "Quantas linhas e colunas tem nosso arquivo?"
      ],
      "metadata": {
        "id": "9ZFGTyAaHO9e"
      }
    },
    {
      "cell_type": "code",
      "source": [
        "# Utilizando o df.shape\n",
        "data_cars.shape"
      ],
      "metadata": {
        "id": "IBiJHjqExD-1",
        "colab": {
          "base_uri": "https://localhost:8080/"
        },
        "outputId": "6364b557-09e1-4b50-c0b5-75f465bf916c"
      },
      "execution_count": 64,
      "outputs": [
        {
          "output_type": "execute_result",
          "data": {
            "text/plain": [
              "(8128, 13)"
            ]
          },
          "metadata": {},
          "execution_count": 64
        }
      ]
    },
    {
      "cell_type": "code",
      "source": [
        "# Especificando o que retornar do df.shape[x]\n",
        "\n",
        "print(f\"Num linhas: {data_cars.shape[0]}\")\n",
        "print(f\"Num colunas: {data_cars.shape[1]}\")"
      ],
      "metadata": {
        "id": "Y7k3Kq-lHRIw",
        "colab": {
          "base_uri": "https://localhost:8080/"
        },
        "outputId": "e71ca3b1-1728-4fa0-da9f-b89ea2eb21e6"
      },
      "execution_count": 65,
      "outputs": [
        {
          "output_type": "stream",
          "name": "stdout",
          "text": [
            "Num linhas: 8128\n",
            "Num colunas: 13\n"
          ]
        }
      ]
    },
    {
      "cell_type": "code",
      "source": [
        "# Lendo o arquivo do github\n",
        "\n",
        "data2 = pd.read_csv('https://raw.githubusercontent.com/GuilhermeRuy97/Curso-ministrado-Python-para-Dados/main/Car%20details%20v3.csv')\n",
        "data2.head()"
      ],
      "metadata": {
        "id": "17ticwdXrYSU",
        "colab": {
          "base_uri": "https://localhost:8080/",
          "height": 476
        },
        "outputId": "a5266cb5-12bf-4062-f7af-f06e287fa3bb"
      },
      "execution_count": 66,
      "outputs": [
        {
          "output_type": "execute_result",
          "data": {
            "text/plain": [
              "                           name  year  selling_price  km_driven    fuel  \\\n",
              "0        Maruti Swift Dzire VDI  2014         450000     145500  Diesel   \n",
              "1  Skoda Rapid 1.5 TDI Ambition  2014         370000     120000  Diesel   \n",
              "2      Honda City 2017-2020 EXi  2006         158000     140000  Petrol   \n",
              "3     Hyundai i20 Sportz Diesel  2010         225000     127000  Diesel   \n",
              "4        Maruti Swift VXI BSIII  2007         130000     120000  Petrol   \n",
              "\n",
              "  seller_type transmission         owner     mileage   engine   max_power  \\\n",
              "0  Individual       Manual   First Owner   23.4 kmpl  1248 CC      74 bhp   \n",
              "1  Individual       Manual  Second Owner  21.14 kmpl  1498 CC  103.52 bhp   \n",
              "2  Individual       Manual   Third Owner   17.7 kmpl  1497 CC      78 bhp   \n",
              "3  Individual       Manual   First Owner   23.0 kmpl  1396 CC      90 bhp   \n",
              "4  Individual       Manual   First Owner   16.1 kmpl  1298 CC    88.2 bhp   \n",
              "\n",
              "                     torque  seats  \n",
              "0            190Nm@ 2000rpm    5.0  \n",
              "1       250Nm@ 1500-2500rpm    5.0  \n",
              "2     12.7@ 2,700(kgm@ rpm)    5.0  \n",
              "3  22.4 kgm at 1750-2750rpm    5.0  \n",
              "4     11.5@ 4,500(kgm@ rpm)    5.0  "
            ],
            "text/html": [
              "\n",
              "  <div id=\"df-f1d87b1f-e3b2-47db-b363-294882645dde\">\n",
              "    <div class=\"colab-df-container\">\n",
              "      <div>\n",
              "<style scoped>\n",
              "    .dataframe tbody tr th:only-of-type {\n",
              "        vertical-align: middle;\n",
              "    }\n",
              "\n",
              "    .dataframe tbody tr th {\n",
              "        vertical-align: top;\n",
              "    }\n",
              "\n",
              "    .dataframe thead th {\n",
              "        text-align: right;\n",
              "    }\n",
              "</style>\n",
              "<table border=\"1\" class=\"dataframe\">\n",
              "  <thead>\n",
              "    <tr style=\"text-align: right;\">\n",
              "      <th></th>\n",
              "      <th>name</th>\n",
              "      <th>year</th>\n",
              "      <th>selling_price</th>\n",
              "      <th>km_driven</th>\n",
              "      <th>fuel</th>\n",
              "      <th>seller_type</th>\n",
              "      <th>transmission</th>\n",
              "      <th>owner</th>\n",
              "      <th>mileage</th>\n",
              "      <th>engine</th>\n",
              "      <th>max_power</th>\n",
              "      <th>torque</th>\n",
              "      <th>seats</th>\n",
              "    </tr>\n",
              "  </thead>\n",
              "  <tbody>\n",
              "    <tr>\n",
              "      <th>0</th>\n",
              "      <td>Maruti Swift Dzire VDI</td>\n",
              "      <td>2014</td>\n",
              "      <td>450000</td>\n",
              "      <td>145500</td>\n",
              "      <td>Diesel</td>\n",
              "      <td>Individual</td>\n",
              "      <td>Manual</td>\n",
              "      <td>First Owner</td>\n",
              "      <td>23.4 kmpl</td>\n",
              "      <td>1248 CC</td>\n",
              "      <td>74 bhp</td>\n",
              "      <td>190Nm@ 2000rpm</td>\n",
              "      <td>5.0</td>\n",
              "    </tr>\n",
              "    <tr>\n",
              "      <th>1</th>\n",
              "      <td>Skoda Rapid 1.5 TDI Ambition</td>\n",
              "      <td>2014</td>\n",
              "      <td>370000</td>\n",
              "      <td>120000</td>\n",
              "      <td>Diesel</td>\n",
              "      <td>Individual</td>\n",
              "      <td>Manual</td>\n",
              "      <td>Second Owner</td>\n",
              "      <td>21.14 kmpl</td>\n",
              "      <td>1498 CC</td>\n",
              "      <td>103.52 bhp</td>\n",
              "      <td>250Nm@ 1500-2500rpm</td>\n",
              "      <td>5.0</td>\n",
              "    </tr>\n",
              "    <tr>\n",
              "      <th>2</th>\n",
              "      <td>Honda City 2017-2020 EXi</td>\n",
              "      <td>2006</td>\n",
              "      <td>158000</td>\n",
              "      <td>140000</td>\n",
              "      <td>Petrol</td>\n",
              "      <td>Individual</td>\n",
              "      <td>Manual</td>\n",
              "      <td>Third Owner</td>\n",
              "      <td>17.7 kmpl</td>\n",
              "      <td>1497 CC</td>\n",
              "      <td>78 bhp</td>\n",
              "      <td>12.7@ 2,700(kgm@ rpm)</td>\n",
              "      <td>5.0</td>\n",
              "    </tr>\n",
              "    <tr>\n",
              "      <th>3</th>\n",
              "      <td>Hyundai i20 Sportz Diesel</td>\n",
              "      <td>2010</td>\n",
              "      <td>225000</td>\n",
              "      <td>127000</td>\n",
              "      <td>Diesel</td>\n",
              "      <td>Individual</td>\n",
              "      <td>Manual</td>\n",
              "      <td>First Owner</td>\n",
              "      <td>23.0 kmpl</td>\n",
              "      <td>1396 CC</td>\n",
              "      <td>90 bhp</td>\n",
              "      <td>22.4 kgm at 1750-2750rpm</td>\n",
              "      <td>5.0</td>\n",
              "    </tr>\n",
              "    <tr>\n",
              "      <th>4</th>\n",
              "      <td>Maruti Swift VXI BSIII</td>\n",
              "      <td>2007</td>\n",
              "      <td>130000</td>\n",
              "      <td>120000</td>\n",
              "      <td>Petrol</td>\n",
              "      <td>Individual</td>\n",
              "      <td>Manual</td>\n",
              "      <td>First Owner</td>\n",
              "      <td>16.1 kmpl</td>\n",
              "      <td>1298 CC</td>\n",
              "      <td>88.2 bhp</td>\n",
              "      <td>11.5@ 4,500(kgm@ rpm)</td>\n",
              "      <td>5.0</td>\n",
              "    </tr>\n",
              "  </tbody>\n",
              "</table>\n",
              "</div>\n",
              "      <button class=\"colab-df-convert\" onclick=\"convertToInteractive('df-f1d87b1f-e3b2-47db-b363-294882645dde')\"\n",
              "              title=\"Convert this dataframe to an interactive table.\"\n",
              "              style=\"display:none;\">\n",
              "        \n",
              "  <svg xmlns=\"http://www.w3.org/2000/svg\" height=\"24px\"viewBox=\"0 0 24 24\"\n",
              "       width=\"24px\">\n",
              "    <path d=\"M0 0h24v24H0V0z\" fill=\"none\"/>\n",
              "    <path d=\"M18.56 5.44l.94 2.06.94-2.06 2.06-.94-2.06-.94-.94-2.06-.94 2.06-2.06.94zm-11 1L8.5 8.5l.94-2.06 2.06-.94-2.06-.94L8.5 2.5l-.94 2.06-2.06.94zm10 10l.94 2.06.94-2.06 2.06-.94-2.06-.94-.94-2.06-.94 2.06-2.06.94z\"/><path d=\"M17.41 7.96l-1.37-1.37c-.4-.4-.92-.59-1.43-.59-.52 0-1.04.2-1.43.59L10.3 9.45l-7.72 7.72c-.78.78-.78 2.05 0 2.83L4 21.41c.39.39.9.59 1.41.59.51 0 1.02-.2 1.41-.59l7.78-7.78 2.81-2.81c.8-.78.8-2.07 0-2.86zM5.41 20L4 18.59l7.72-7.72 1.47 1.35L5.41 20z\"/>\n",
              "  </svg>\n",
              "      </button>\n",
              "      \n",
              "  <style>\n",
              "    .colab-df-container {\n",
              "      display:flex;\n",
              "      flex-wrap:wrap;\n",
              "      gap: 12px;\n",
              "    }\n",
              "\n",
              "    .colab-df-convert {\n",
              "      background-color: #E8F0FE;\n",
              "      border: none;\n",
              "      border-radius: 50%;\n",
              "      cursor: pointer;\n",
              "      display: none;\n",
              "      fill: #1967D2;\n",
              "      height: 32px;\n",
              "      padding: 0 0 0 0;\n",
              "      width: 32px;\n",
              "    }\n",
              "\n",
              "    .colab-df-convert:hover {\n",
              "      background-color: #E2EBFA;\n",
              "      box-shadow: 0px 1px 2px rgba(60, 64, 67, 0.3), 0px 1px 3px 1px rgba(60, 64, 67, 0.15);\n",
              "      fill: #174EA6;\n",
              "    }\n",
              "\n",
              "    [theme=dark] .colab-df-convert {\n",
              "      background-color: #3B4455;\n",
              "      fill: #D2E3FC;\n",
              "    }\n",
              "\n",
              "    [theme=dark] .colab-df-convert:hover {\n",
              "      background-color: #434B5C;\n",
              "      box-shadow: 0px 1px 3px 1px rgba(0, 0, 0, 0.15);\n",
              "      filter: drop-shadow(0px 1px 2px rgba(0, 0, 0, 0.3));\n",
              "      fill: #FFFFFF;\n",
              "    }\n",
              "  </style>\n",
              "\n",
              "      <script>\n",
              "        const buttonEl =\n",
              "          document.querySelector('#df-f1d87b1f-e3b2-47db-b363-294882645dde button.colab-df-convert');\n",
              "        buttonEl.style.display =\n",
              "          google.colab.kernel.accessAllowed ? 'block' : 'none';\n",
              "\n",
              "        async function convertToInteractive(key) {\n",
              "          const element = document.querySelector('#df-f1d87b1f-e3b2-47db-b363-294882645dde');\n",
              "          const dataTable =\n",
              "            await google.colab.kernel.invokeFunction('convertToInteractive',\n",
              "                                                     [key], {});\n",
              "          if (!dataTable) return;\n",
              "\n",
              "          const docLinkHtml = 'Like what you see? Visit the ' +\n",
              "            '<a target=\"_blank\" href=https://colab.research.google.com/notebooks/data_table.ipynb>data table notebook</a>'\n",
              "            + ' to learn more about interactive tables.';\n",
              "          element.innerHTML = '';\n",
              "          dataTable['output_type'] = 'display_data';\n",
              "          await google.colab.output.renderOutput(dataTable, element);\n",
              "          const docLink = document.createElement('div');\n",
              "          docLink.innerHTML = docLinkHtml;\n",
              "          element.appendChild(docLink);\n",
              "        }\n",
              "      </script>\n",
              "    </div>\n",
              "  </div>\n",
              "  "
            ]
          },
          "metadata": {},
          "execution_count": 66
        }
      ]
    },
    {
      "cell_type": "markdown",
      "source": [
        "Outras visões interessantes:"
      ],
      "metadata": {
        "id": "h_2yfE6qS4ew"
      }
    },
    {
      "cell_type": "code",
      "source": [
        "# Quantos carros de cada tipo há por coluna\n",
        "\n",
        "data_cars['name'].value_counts()"
      ],
      "metadata": {
        "id": "6FUpscNxS8Bv",
        "colab": {
          "base_uri": "https://localhost:8080/"
        },
        "outputId": "292fdadb-db8c-470c-d82e-beafba324ae8"
      },
      "execution_count": 67,
      "outputs": [
        {
          "output_type": "execute_result",
          "data": {
            "text/plain": [
              "Maruti Swift Dzire VDI                             129\n",
              "Maruti Alto 800 LXI                                 82\n",
              "Maruti Alto LXi                                     71\n",
              "BMW X4 M Sport X xDrive20d                          62\n",
              "Maruti Swift VDI                                    61\n",
              "                                                  ... \n",
              "Skoda Fabia 1.4 TDI Ambiente                         1\n",
              "Mahindra Scorpio VLX 2WD AT BSIII                    1\n",
              "Renault KWID Climber 1.0 AMT                         1\n",
              "Mahindra XUV300 W8 Option Dual Tone Diesel BSIV      1\n",
              "Toyota Innova 2.5 GX (Diesel) 8 Seater BS IV         1\n",
              "Name: name, Length: 2058, dtype: int64"
            ]
          },
          "metadata": {},
          "execution_count": 67
        }
      ]
    },
    {
      "cell_type": "code",
      "source": [
        "# Deixando os nomes dos carros em maiúsculo com o apply()\n",
        "\n",
        "def nome_maiusculo(nome):\n",
        "  return nome.upper()\n",
        "\n",
        "data_cars['name'].apply(nome_maiusculo)"
      ],
      "metadata": {
        "id": "lBlxd5RYTXOj",
        "colab": {
          "base_uri": "https://localhost:8080/"
        },
        "outputId": "af45f25a-2ef7-4911-c00a-702ac845fa8c"
      },
      "execution_count": 68,
      "outputs": [
        {
          "output_type": "execute_result",
          "data": {
            "text/plain": [
              "0             MARUTI SWIFT DZIRE VDI\n",
              "1       SKODA RAPID 1.5 TDI AMBITION\n",
              "2           HONDA CITY 2017-2020 EXI\n",
              "3          HYUNDAI I20 SPORTZ DIESEL\n",
              "4             MARUTI SWIFT VXI BSIII\n",
              "                    ...             \n",
              "8123               HYUNDAI I20 MAGNA\n",
              "8124           HYUNDAI VERNA CRDI SX\n",
              "8125          MARUTI SWIFT DZIRE ZDI\n",
              "8126                 TATA INDIGO CR4\n",
              "8127                 TATA INDIGO CR4\n",
              "Name: name, Length: 8128, dtype: object"
            ]
          },
          "metadata": {},
          "execution_count": 68
        }
      ]
    },
    {
      "cell_type": "markdown",
      "source": [
        "  Por fim, para salvar o resultado do seu trabalho, por exemplo, no formato CSV:\n",
        "\n",
        "`  df.to_csv('nome.extensao')`"
      ],
      "metadata": {
        "id": "Bne6nu8AVdiM"
      }
    },
    {
      "cell_type": "code",
      "source": [
        "data_cars.to_csv('cars_puc.csv')"
      ],
      "metadata": {
        "id": "OUUs6GM-4XjC"
      },
      "execution_count": 69,
      "outputs": []
    },
    {
      "cell_type": "markdown",
      "source": [
        "Leitura extra para entender o básico do pandas: <br>\n",
        "https://medium.com/data-hackers/uma-introdu%C3%A7%C3%A3o-simples-ao-pandas-1e15eea37fa1"
      ],
      "metadata": {
        "id": "6Xvj_n-mNrfu"
      }
    }
  ]
}