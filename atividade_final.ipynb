{
  "nbformat": 4,
  "nbformat_minor": 0,
  "metadata": {
    "colab": {
      "name": "atividade_final.ipynb",
      "provenance": [],
      "collapsed_sections": [
        "GfIlfHDCC0g7"
      ],
      "authorship_tag": "ABX9TyMnJhIYIrevRSjKob0iRG2G",
      "include_colab_link": true
    },
    "kernelspec": {
      "name": "python3",
      "display_name": "Python 3"
    },
    "language_info": {
      "name": "python"
    }
  },
  "cells": [
    {
      "cell_type": "markdown",
      "metadata": {
        "id": "view-in-github",
        "colab_type": "text"
      },
      "source": [
        "<a href=\"https://colab.research.google.com/github/GuilhermeRuy97/Curso-ministrado-Python-para-Dados/blob/main/atividade_final.ipynb\" target=\"_parent\"><img src=\"https://colab.research.google.com/assets/colab-badge.svg\" alt=\"Open In Colab\"/></a>"
      ]
    },
    {
      "cell_type": "markdown",
      "source": [
        "___\n",
        "\n",
        "# Atividade final de Manipulação de Dados com Python\n",
        "___\n",
        "\n",
        "Atividade proposta:\n",
        "1. Acesse e importe o arquivo titanic.csv ( [link do arquivo](https://www.kaggle.com/competitions/titanic/data) ) \n",
        "2. Faça uma descrição dos dados (tipo das variáveis, estatísticas básicas). `Obs: veja se há valores faltantes`\n",
        "3. Faça um resumo do que foi a tragédia do titanic como se fosse apresentar o problema a alguém. Utilize imagens caso julgue necessário e tente explorar ao máximo o recurso de se trabalhar em um notebook (html e markdown).\n",
        "4. Tente formular hipóteses e respondê-las através de gráficos e análises, ex:\n",
        "  - O tipo de sexo do passageiro influenciou na sobrevivência?\n",
        "  - A idade influenciou na sobrevivência?\n",
        "  - O local de embarque tem relação com o preço da passagem?\n",
        "\n",
        "Dica: O gráfico do tipo boxplot costuma ajudar muito em comparações de densidade; o gráfico de barras é uma opção ao compararmos número de algo em relação à divisão (sexo por exemplo).\n",
        "\n",
        "Dica2: Tente procurar sobre a função sns.heatmap(), entenda seu uso e como isso poderia ser interessante em sua análise.\n",
        "\n",
        "Dica 3: Tente renomear o nome das colunas para que fique mais legível, ex:\n",
        "```python\n",
        "dados['Embarked'] = dados['Embarked'].map({'C': 'Cherbourg', \n",
        "                                           'Q': 'Queenstown',\n",
        "                                           'S': 'Southampton'})\n",
        "```\n",
        "\n"
      ],
      "metadata": {
        "id": "NqS5q5EjCT86"
      }
    },
    {
      "cell_type": "markdown",
      "source": [
        "## Dica\n"
      ],
      "metadata": {
        "id": "GfIlfHDCC0g7"
      }
    },
    {
      "cell_type": "markdown",
      "source": [
        "Ao realizar uma exploração de dados, é sempre importante criar um dicionário de dados. Desse modo, você economiza tempo tentando lembrar o que cada coisa significa, além deconseguir demonstrar mais facilmente para outras pessoas.\n",
        "\n",
        "**Dicionário de dados**: <br>\n",
        "\n",
        "> PassengerId: Número de identificação do passageiro <br>\n",
        "Survived: Informa se o passageiro sobreviveu (0,1) <br>\n",
        "Pclass: Classe do bilhete  <br>\n",
        "Name: Nome do passageiro <br>\n",
        "Sex: Sexo do passageiro <br>\n",
        "Age: Idade do passageiro <br>\n",
        "SibSp: Quantidade de cônjuges e irmãos a bordo <br>\n",
        "Parch: Quantidade de pais e filhos a bordo <br>\n",
        "Ticket: Número da passagem <br>\n",
        "Fare: Preço da Passagem <br>\n",
        "Cabin: Número da cabine em que se hospedou <br>\n",
        "Embarked: Porto no qual o passageiro subiu a bordo. Separados em: C (Cherbourg), Q (Queenstown), S(Southampton) <br>"
      ],
      "metadata": {
        "id": "qSTjY1d3C4fQ"
      }
    },
    {
      "cell_type": "markdown",
      "source": [
        "# Resolva"
      ],
      "metadata": {
        "id": "97Png-PKC2Fp"
      }
    },
    {
      "cell_type": "code",
      "source": [
        ""
      ],
      "metadata": {
        "id": "4ofZJIdMC3w9"
      },
      "execution_count": null,
      "outputs": []
    }
  ]
}